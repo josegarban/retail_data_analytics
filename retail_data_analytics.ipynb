{
 "cells": [
  {
   "cell_type": "markdown",
   "metadata": {},
   "source": [
    "# Retail data analytics\n",
    "\n",
    "The dataset, available at https://www.kaggle.com/manjeetsingh/retaildataset, contains:\n",
    "\"\"\"\n",
    "historical sales data for 45 stores located in different regions - each store contains a number of departments. The company also runs several promotional markdown events throughout the year. These markdowns precede prominent holidays, the four largest of which are the Super Bowl, Labor Day, Thanksgiving, and Christmas. The weeks including these holidays are weighted five times higher in the evaluation than non-holiday weeks.\n",
    "\"\"\""
   ]
  },
  {
   "cell_type": "markdown",
   "metadata": {},
   "source": [
    "## Tasks \n",
    "The following activities will be conducted: \n",
    "\n",
    "1. Brief description of the data set and a summary of its attributes\n",
    "\n",
    "2. Initial plan for data exploration\n",
    "\n",
    "3. Actions taken for data cleaning and feature engineering\n",
    "\n",
    "4. Key Findings and Insights, which synthesizes the results of Exploratory Data Analysis in an insightful and actionable manner\n",
    "\n",
    "5. Formulating at least 3 hypothesis about this data:\n",
    "    1. Are sales larger or smaller in a given week if preceded by a holiday week?\n",
    "    2. Are sales larger or smaller on normal weeks or holiday weeks?\n",
    "    3. Are sales larger or smaller on weekends or on weekdays? \n",
    "\n",
    "6. Conducting a formal significance test for one of the hypotheses and discuss the results \n",
    "\n",
    "7. Suggestions for next steps in analyzing this data\n",
    "\n",
    "8. A paragraph that summarizes the quality of this data set and a request for additional data if needed"
   ]
  },
  {
   "cell_type": "markdown",
   "metadata": {},
   "source": [
    "## 1. Data description\n",
    "There are three .csv files:\n",
    "\n",
    "### Features\n",
    "\n",
    "Contains additional data related to the store, department, and regional activity for the given dates.\n",
    "\n",
    "    Store - the store number\n",
    "    Date - the week\n",
    "    Temperature - average temperature in the region\n",
    "    Fuel_Price - cost of fuel in the region\n",
    "    MarkDown1-5 - anonymized data related to promotional markdowns. MarkDown data is only available after Nov 2011, and is not available for all stores all the time. Any missing value is marked with an NA\n",
    "    CPI - the consumer price index\n",
    "    Unemployment - the unemployment rate\n",
    "    IsHoliday - whether the week is a special holiday week\n",
    "\n",
    "### Sales\n",
    "\n",
    "Historical sales data, which covers to 2010-02-05 to 2012-11-01. Within this tab you will find the following fields:\n",
    "\n",
    "    Store - the store number\n",
    "    Dept - the department number\n",
    "    Date - the week\n",
    "    Weekly_Sales -  sales for the given department in the given store\n",
    "    IsHoliday - whether the week is a special holiday week\n",
    "\n",
    "### Stores\n",
    "\n",
    "Contains additional data related to the store, department, and regional activity for the given dates.\n",
    "\n",
    "    Store - the store number\n",
    "    Type - store type\n",
    "    Size - store size\n",
    "    "
   ]
  },
  {
   "cell_type": "code",
   "execution_count": 1,
   "metadata": {},
   "outputs": [],
   "source": [
    "# Import python packages to be used\n",
    "# %pylab inline\n",
    "# %config InlineBackend.figure_formats = ['svg']\n",
    "from IPython.core.display import display, HTML\n",
    "display(HTML(\"<style>.container { width:70% !important; }</style>\"))\n",
    "\n",
    "import os\n",
    "import numpy as np\n",
    "import pandas as pd\n",
    "import matplotlib.pyplot as plt\n",
    "from scipy import stats \n",
    "import math\n",
    "import seaborn as sns"
   ]
  },
  {
   "cell_type": "code",
   "execution_count": 2,
   "metadata": {},
   "outputs": [],
   "source": [
    "# Read data sources and convert them into dataframes\n",
    "files = ['features', 'sales', 'stores']\n",
    "datasets = {f: pd.read_csv('data/'+f+'.csv') for f in files}\n",
    "features, sales, stores = datasets['features'], datasets['sales'], datasets['stores']"
   ]
  },
  {
   "cell_type": "markdown",
   "metadata": {},
   "source": [
    "## 2. Initial plan for data exploration\n",
    "We will see:\n",
    "\n",
    "2.1. If there are invalid values.\n",
    "\n",
    "2.2. Store characterization.\n",
    "\n",
    "2.3. Range for weekly sales by store.\n",
    "\n",
    "2.4. Evolution of fuel price, CPI, unemployment, and weekly sales in the region."
   ]
  },
  {
   "cell_type": "markdown",
   "metadata": {},
   "source": [
    "### 2.1. Invalid values\n",
    "Let's see which columns have empty, zero, negative values, or incorrect data types (e.g. strings instead of numbers)"
   ]
  },
  {
   "cell_type": "code",
   "execution_count": 3,
   "metadata": {},
   "outputs": [
    {
     "name": "stdout",
     "output_type": "stream",
     "text": [
      "########## FEATURES ##########\n"
     ]
    },
    {
     "data": {
      "text/html": [
       "<div>\n",
       "<style scoped>\n",
       "    .dataframe tbody tr th:only-of-type {\n",
       "        vertical-align: middle;\n",
       "    }\n",
       "\n",
       "    .dataframe tbody tr th {\n",
       "        vertical-align: top;\n",
       "    }\n",
       "\n",
       "    .dataframe thead th {\n",
       "        text-align: right;\n",
       "    }\n",
       "</style>\n",
       "<table border=\"1\" class=\"dataframe\">\n",
       "  <thead>\n",
       "    <tr style=\"text-align: right;\">\n",
       "      <th></th>\n",
       "      <th>Store</th>\n",
       "      <th>Date</th>\n",
       "      <th>Temperature</th>\n",
       "      <th>Fuel_Price</th>\n",
       "      <th>MarkDown1</th>\n",
       "      <th>MarkDown2</th>\n",
       "      <th>MarkDown3</th>\n",
       "      <th>MarkDown4</th>\n",
       "      <th>MarkDown5</th>\n",
       "      <th>CPI</th>\n",
       "      <th>Unemployment</th>\n",
       "      <th>IsHoliday</th>\n",
       "    </tr>\n",
       "  </thead>\n",
       "  <tbody>\n",
       "    <tr>\n",
       "      <th>0</th>\n",
       "      <td>1</td>\n",
       "      <td>05/02/2010</td>\n",
       "      <td>42.31</td>\n",
       "      <td>2.572</td>\n",
       "      <td>NaN</td>\n",
       "      <td>NaN</td>\n",
       "      <td>NaN</td>\n",
       "      <td>NaN</td>\n",
       "      <td>NaN</td>\n",
       "      <td>211.096358</td>\n",
       "      <td>8.106</td>\n",
       "      <td>False</td>\n",
       "    </tr>\n",
       "    <tr>\n",
       "      <th>1</th>\n",
       "      <td>1</td>\n",
       "      <td>12/02/2010</td>\n",
       "      <td>38.51</td>\n",
       "      <td>2.548</td>\n",
       "      <td>NaN</td>\n",
       "      <td>NaN</td>\n",
       "      <td>NaN</td>\n",
       "      <td>NaN</td>\n",
       "      <td>NaN</td>\n",
       "      <td>211.242170</td>\n",
       "      <td>8.106</td>\n",
       "      <td>True</td>\n",
       "    </tr>\n",
       "    <tr>\n",
       "      <th>2</th>\n",
       "      <td>1</td>\n",
       "      <td>19/02/2010</td>\n",
       "      <td>39.93</td>\n",
       "      <td>2.514</td>\n",
       "      <td>NaN</td>\n",
       "      <td>NaN</td>\n",
       "      <td>NaN</td>\n",
       "      <td>NaN</td>\n",
       "      <td>NaN</td>\n",
       "      <td>211.289143</td>\n",
       "      <td>8.106</td>\n",
       "      <td>False</td>\n",
       "    </tr>\n",
       "    <tr>\n",
       "      <th>3</th>\n",
       "      <td>1</td>\n",
       "      <td>26/02/2010</td>\n",
       "      <td>46.63</td>\n",
       "      <td>2.561</td>\n",
       "      <td>NaN</td>\n",
       "      <td>NaN</td>\n",
       "      <td>NaN</td>\n",
       "      <td>NaN</td>\n",
       "      <td>NaN</td>\n",
       "      <td>211.319643</td>\n",
       "      <td>8.106</td>\n",
       "      <td>False</td>\n",
       "    </tr>\n",
       "    <tr>\n",
       "      <th>4</th>\n",
       "      <td>1</td>\n",
       "      <td>05/03/2010</td>\n",
       "      <td>46.50</td>\n",
       "      <td>2.625</td>\n",
       "      <td>NaN</td>\n",
       "      <td>NaN</td>\n",
       "      <td>NaN</td>\n",
       "      <td>NaN</td>\n",
       "      <td>NaN</td>\n",
       "      <td>211.350143</td>\n",
       "      <td>8.106</td>\n",
       "      <td>False</td>\n",
       "    </tr>\n",
       "    <tr>\n",
       "      <th>...</th>\n",
       "      <td>...</td>\n",
       "      <td>...</td>\n",
       "      <td>...</td>\n",
       "      <td>...</td>\n",
       "      <td>...</td>\n",
       "      <td>...</td>\n",
       "      <td>...</td>\n",
       "      <td>...</td>\n",
       "      <td>...</td>\n",
       "      <td>...</td>\n",
       "      <td>...</td>\n",
       "      <td>...</td>\n",
       "    </tr>\n",
       "    <tr>\n",
       "      <th>8185</th>\n",
       "      <td>45</td>\n",
       "      <td>28/06/2013</td>\n",
       "      <td>76.05</td>\n",
       "      <td>3.639</td>\n",
       "      <td>4842.29</td>\n",
       "      <td>975.03</td>\n",
       "      <td>3.00</td>\n",
       "      <td>2449.97</td>\n",
       "      <td>3169.69</td>\n",
       "      <td>NaN</td>\n",
       "      <td>NaN</td>\n",
       "      <td>False</td>\n",
       "    </tr>\n",
       "    <tr>\n",
       "      <th>8186</th>\n",
       "      <td>45</td>\n",
       "      <td>05/07/2013</td>\n",
       "      <td>77.50</td>\n",
       "      <td>3.614</td>\n",
       "      <td>9090.48</td>\n",
       "      <td>2268.58</td>\n",
       "      <td>582.74</td>\n",
       "      <td>5797.47</td>\n",
       "      <td>1514.93</td>\n",
       "      <td>NaN</td>\n",
       "      <td>NaN</td>\n",
       "      <td>False</td>\n",
       "    </tr>\n",
       "    <tr>\n",
       "      <th>8187</th>\n",
       "      <td>45</td>\n",
       "      <td>12/07/2013</td>\n",
       "      <td>79.37</td>\n",
       "      <td>3.614</td>\n",
       "      <td>3789.94</td>\n",
       "      <td>1827.31</td>\n",
       "      <td>85.72</td>\n",
       "      <td>744.84</td>\n",
       "      <td>2150.36</td>\n",
       "      <td>NaN</td>\n",
       "      <td>NaN</td>\n",
       "      <td>False</td>\n",
       "    </tr>\n",
       "    <tr>\n",
       "      <th>8188</th>\n",
       "      <td>45</td>\n",
       "      <td>19/07/2013</td>\n",
       "      <td>82.84</td>\n",
       "      <td>3.737</td>\n",
       "      <td>2961.49</td>\n",
       "      <td>1047.07</td>\n",
       "      <td>204.19</td>\n",
       "      <td>363.00</td>\n",
       "      <td>1059.46</td>\n",
       "      <td>NaN</td>\n",
       "      <td>NaN</td>\n",
       "      <td>False</td>\n",
       "    </tr>\n",
       "    <tr>\n",
       "      <th>8189</th>\n",
       "      <td>45</td>\n",
       "      <td>26/07/2013</td>\n",
       "      <td>76.06</td>\n",
       "      <td>3.804</td>\n",
       "      <td>212.02</td>\n",
       "      <td>851.73</td>\n",
       "      <td>2.06</td>\n",
       "      <td>10.88</td>\n",
       "      <td>1864.57</td>\n",
       "      <td>NaN</td>\n",
       "      <td>NaN</td>\n",
       "      <td>False</td>\n",
       "    </tr>\n",
       "  </tbody>\n",
       "</table>\n",
       "<p>8190 rows × 12 columns</p>\n",
       "</div>"
      ],
      "text/plain": [
       "      Store        Date  Temperature  Fuel_Price  MarkDown1  MarkDown2  \\\n",
       "0         1  05/02/2010        42.31       2.572        NaN        NaN   \n",
       "1         1  12/02/2010        38.51       2.548        NaN        NaN   \n",
       "2         1  19/02/2010        39.93       2.514        NaN        NaN   \n",
       "3         1  26/02/2010        46.63       2.561        NaN        NaN   \n",
       "4         1  05/03/2010        46.50       2.625        NaN        NaN   \n",
       "...     ...         ...          ...         ...        ...        ...   \n",
       "8185     45  28/06/2013        76.05       3.639    4842.29     975.03   \n",
       "8186     45  05/07/2013        77.50       3.614    9090.48    2268.58   \n",
       "8187     45  12/07/2013        79.37       3.614    3789.94    1827.31   \n",
       "8188     45  19/07/2013        82.84       3.737    2961.49    1047.07   \n",
       "8189     45  26/07/2013        76.06       3.804     212.02     851.73   \n",
       "\n",
       "      MarkDown3  MarkDown4  MarkDown5         CPI  Unemployment  IsHoliday  \n",
       "0           NaN        NaN        NaN  211.096358         8.106      False  \n",
       "1           NaN        NaN        NaN  211.242170         8.106       True  \n",
       "2           NaN        NaN        NaN  211.289143         8.106      False  \n",
       "3           NaN        NaN        NaN  211.319643         8.106      False  \n",
       "4           NaN        NaN        NaN  211.350143         8.106      False  \n",
       "...         ...        ...        ...         ...           ...        ...  \n",
       "8185       3.00    2449.97    3169.69         NaN           NaN      False  \n",
       "8186     582.74    5797.47    1514.93         NaN           NaN      False  \n",
       "8187      85.72     744.84    2150.36         NaN           NaN      False  \n",
       "8188     204.19     363.00    1059.46         NaN           NaN      False  \n",
       "8189       2.06      10.88    1864.57         NaN           NaN      False  \n",
       "\n",
       "[8190 rows x 12 columns]"
      ]
     },
     "metadata": {},
     "output_type": "display_data"
    },
    {
     "name": "stdout",
     "output_type": "stream",
     "text": [
      "Store             int64\n",
      "Date             object\n",
      "Temperature     float64\n",
      "Fuel_Price      float64\n",
      "MarkDown1       float64\n",
      "MarkDown2       float64\n",
      "MarkDown3       float64\n",
      "MarkDown4       float64\n",
      "MarkDown5       float64\n",
      "CPI             float64\n",
      "Unemployment    float64\n",
      "IsHoliday          bool\n",
      "dtype: object\n",
      "########## SALES ##########\n"
     ]
    },
    {
     "data": {
      "text/html": [
       "<div>\n",
       "<style scoped>\n",
       "    .dataframe tbody tr th:only-of-type {\n",
       "        vertical-align: middle;\n",
       "    }\n",
       "\n",
       "    .dataframe tbody tr th {\n",
       "        vertical-align: top;\n",
       "    }\n",
       "\n",
       "    .dataframe thead th {\n",
       "        text-align: right;\n",
       "    }\n",
       "</style>\n",
       "<table border=\"1\" class=\"dataframe\">\n",
       "  <thead>\n",
       "    <tr style=\"text-align: right;\">\n",
       "      <th></th>\n",
       "      <th>Store</th>\n",
       "      <th>Dept</th>\n",
       "      <th>Date</th>\n",
       "      <th>Weekly_Sales</th>\n",
       "      <th>IsHoliday</th>\n",
       "    </tr>\n",
       "  </thead>\n",
       "  <tbody>\n",
       "    <tr>\n",
       "      <th>0</th>\n",
       "      <td>1</td>\n",
       "      <td>1</td>\n",
       "      <td>05/02/2010</td>\n",
       "      <td>24924.50</td>\n",
       "      <td>False</td>\n",
       "    </tr>\n",
       "    <tr>\n",
       "      <th>1</th>\n",
       "      <td>1</td>\n",
       "      <td>1</td>\n",
       "      <td>12/02/2010</td>\n",
       "      <td>46039.49</td>\n",
       "      <td>True</td>\n",
       "    </tr>\n",
       "    <tr>\n",
       "      <th>2</th>\n",
       "      <td>1</td>\n",
       "      <td>1</td>\n",
       "      <td>19/02/2010</td>\n",
       "      <td>41595.55</td>\n",
       "      <td>False</td>\n",
       "    </tr>\n",
       "    <tr>\n",
       "      <th>3</th>\n",
       "      <td>1</td>\n",
       "      <td>1</td>\n",
       "      <td>26/02/2010</td>\n",
       "      <td>19403.54</td>\n",
       "      <td>False</td>\n",
       "    </tr>\n",
       "    <tr>\n",
       "      <th>4</th>\n",
       "      <td>1</td>\n",
       "      <td>1</td>\n",
       "      <td>05/03/2010</td>\n",
       "      <td>21827.90</td>\n",
       "      <td>False</td>\n",
       "    </tr>\n",
       "    <tr>\n",
       "      <th>...</th>\n",
       "      <td>...</td>\n",
       "      <td>...</td>\n",
       "      <td>...</td>\n",
       "      <td>...</td>\n",
       "      <td>...</td>\n",
       "    </tr>\n",
       "    <tr>\n",
       "      <th>421565</th>\n",
       "      <td>45</td>\n",
       "      <td>98</td>\n",
       "      <td>28/09/2012</td>\n",
       "      <td>508.37</td>\n",
       "      <td>False</td>\n",
       "    </tr>\n",
       "    <tr>\n",
       "      <th>421566</th>\n",
       "      <td>45</td>\n",
       "      <td>98</td>\n",
       "      <td>05/10/2012</td>\n",
       "      <td>628.10</td>\n",
       "      <td>False</td>\n",
       "    </tr>\n",
       "    <tr>\n",
       "      <th>421567</th>\n",
       "      <td>45</td>\n",
       "      <td>98</td>\n",
       "      <td>12/10/2012</td>\n",
       "      <td>1061.02</td>\n",
       "      <td>False</td>\n",
       "    </tr>\n",
       "    <tr>\n",
       "      <th>421568</th>\n",
       "      <td>45</td>\n",
       "      <td>98</td>\n",
       "      <td>19/10/2012</td>\n",
       "      <td>760.01</td>\n",
       "      <td>False</td>\n",
       "    </tr>\n",
       "    <tr>\n",
       "      <th>421569</th>\n",
       "      <td>45</td>\n",
       "      <td>98</td>\n",
       "      <td>26/10/2012</td>\n",
       "      <td>1076.80</td>\n",
       "      <td>False</td>\n",
       "    </tr>\n",
       "  </tbody>\n",
       "</table>\n",
       "<p>421570 rows × 5 columns</p>\n",
       "</div>"
      ],
      "text/plain": [
       "        Store  Dept        Date  Weekly_Sales  IsHoliday\n",
       "0           1     1  05/02/2010      24924.50      False\n",
       "1           1     1  12/02/2010      46039.49       True\n",
       "2           1     1  19/02/2010      41595.55      False\n",
       "3           1     1  26/02/2010      19403.54      False\n",
       "4           1     1  05/03/2010      21827.90      False\n",
       "...       ...   ...         ...           ...        ...\n",
       "421565     45    98  28/09/2012        508.37      False\n",
       "421566     45    98  05/10/2012        628.10      False\n",
       "421567     45    98  12/10/2012       1061.02      False\n",
       "421568     45    98  19/10/2012        760.01      False\n",
       "421569     45    98  26/10/2012       1076.80      False\n",
       "\n",
       "[421570 rows x 5 columns]"
      ]
     },
     "metadata": {},
     "output_type": "display_data"
    },
    {
     "name": "stdout",
     "output_type": "stream",
     "text": [
      "Store             int64\n",
      "Dept              int64\n",
      "Date             object\n",
      "Weekly_Sales    float64\n",
      "IsHoliday          bool\n",
      "dtype: object\n",
      "########## STORES ##########\n"
     ]
    },
    {
     "data": {
      "text/html": [
       "<div>\n",
       "<style scoped>\n",
       "    .dataframe tbody tr th:only-of-type {\n",
       "        vertical-align: middle;\n",
       "    }\n",
       "\n",
       "    .dataframe tbody tr th {\n",
       "        vertical-align: top;\n",
       "    }\n",
       "\n",
       "    .dataframe thead th {\n",
       "        text-align: right;\n",
       "    }\n",
       "</style>\n",
       "<table border=\"1\" class=\"dataframe\">\n",
       "  <thead>\n",
       "    <tr style=\"text-align: right;\">\n",
       "      <th></th>\n",
       "      <th>Store</th>\n",
       "      <th>Type</th>\n",
       "      <th>Size</th>\n",
       "    </tr>\n",
       "  </thead>\n",
       "  <tbody>\n",
       "    <tr>\n",
       "      <th>0</th>\n",
       "      <td>1</td>\n",
       "      <td>A</td>\n",
       "      <td>151315</td>\n",
       "    </tr>\n",
       "    <tr>\n",
       "      <th>1</th>\n",
       "      <td>2</td>\n",
       "      <td>A</td>\n",
       "      <td>202307</td>\n",
       "    </tr>\n",
       "    <tr>\n",
       "      <th>2</th>\n",
       "      <td>3</td>\n",
       "      <td>B</td>\n",
       "      <td>37392</td>\n",
       "    </tr>\n",
       "    <tr>\n",
       "      <th>3</th>\n",
       "      <td>4</td>\n",
       "      <td>A</td>\n",
       "      <td>205863</td>\n",
       "    </tr>\n",
       "    <tr>\n",
       "      <th>4</th>\n",
       "      <td>5</td>\n",
       "      <td>B</td>\n",
       "      <td>34875</td>\n",
       "    </tr>\n",
       "    <tr>\n",
       "      <th>5</th>\n",
       "      <td>6</td>\n",
       "      <td>A</td>\n",
       "      <td>202505</td>\n",
       "    </tr>\n",
       "    <tr>\n",
       "      <th>6</th>\n",
       "      <td>7</td>\n",
       "      <td>B</td>\n",
       "      <td>70713</td>\n",
       "    </tr>\n",
       "    <tr>\n",
       "      <th>7</th>\n",
       "      <td>8</td>\n",
       "      <td>A</td>\n",
       "      <td>155078</td>\n",
       "    </tr>\n",
       "    <tr>\n",
       "      <th>8</th>\n",
       "      <td>9</td>\n",
       "      <td>B</td>\n",
       "      <td>125833</td>\n",
       "    </tr>\n",
       "    <tr>\n",
       "      <th>9</th>\n",
       "      <td>10</td>\n",
       "      <td>B</td>\n",
       "      <td>126512</td>\n",
       "    </tr>\n",
       "    <tr>\n",
       "      <th>10</th>\n",
       "      <td>11</td>\n",
       "      <td>A</td>\n",
       "      <td>207499</td>\n",
       "    </tr>\n",
       "    <tr>\n",
       "      <th>11</th>\n",
       "      <td>12</td>\n",
       "      <td>B</td>\n",
       "      <td>112238</td>\n",
       "    </tr>\n",
       "    <tr>\n",
       "      <th>12</th>\n",
       "      <td>13</td>\n",
       "      <td>A</td>\n",
       "      <td>219622</td>\n",
       "    </tr>\n",
       "    <tr>\n",
       "      <th>13</th>\n",
       "      <td>14</td>\n",
       "      <td>A</td>\n",
       "      <td>200898</td>\n",
       "    </tr>\n",
       "    <tr>\n",
       "      <th>14</th>\n",
       "      <td>15</td>\n",
       "      <td>B</td>\n",
       "      <td>123737</td>\n",
       "    </tr>\n",
       "    <tr>\n",
       "      <th>15</th>\n",
       "      <td>16</td>\n",
       "      <td>B</td>\n",
       "      <td>57197</td>\n",
       "    </tr>\n",
       "    <tr>\n",
       "      <th>16</th>\n",
       "      <td>17</td>\n",
       "      <td>B</td>\n",
       "      <td>93188</td>\n",
       "    </tr>\n",
       "    <tr>\n",
       "      <th>17</th>\n",
       "      <td>18</td>\n",
       "      <td>B</td>\n",
       "      <td>120653</td>\n",
       "    </tr>\n",
       "    <tr>\n",
       "      <th>18</th>\n",
       "      <td>19</td>\n",
       "      <td>A</td>\n",
       "      <td>203819</td>\n",
       "    </tr>\n",
       "    <tr>\n",
       "      <th>19</th>\n",
       "      <td>20</td>\n",
       "      <td>A</td>\n",
       "      <td>203742</td>\n",
       "    </tr>\n",
       "    <tr>\n",
       "      <th>20</th>\n",
       "      <td>21</td>\n",
       "      <td>B</td>\n",
       "      <td>140167</td>\n",
       "    </tr>\n",
       "    <tr>\n",
       "      <th>21</th>\n",
       "      <td>22</td>\n",
       "      <td>B</td>\n",
       "      <td>119557</td>\n",
       "    </tr>\n",
       "    <tr>\n",
       "      <th>22</th>\n",
       "      <td>23</td>\n",
       "      <td>B</td>\n",
       "      <td>114533</td>\n",
       "    </tr>\n",
       "    <tr>\n",
       "      <th>23</th>\n",
       "      <td>24</td>\n",
       "      <td>A</td>\n",
       "      <td>203819</td>\n",
       "    </tr>\n",
       "    <tr>\n",
       "      <th>24</th>\n",
       "      <td>25</td>\n",
       "      <td>B</td>\n",
       "      <td>128107</td>\n",
       "    </tr>\n",
       "    <tr>\n",
       "      <th>25</th>\n",
       "      <td>26</td>\n",
       "      <td>A</td>\n",
       "      <td>152513</td>\n",
       "    </tr>\n",
       "    <tr>\n",
       "      <th>26</th>\n",
       "      <td>27</td>\n",
       "      <td>A</td>\n",
       "      <td>204184</td>\n",
       "    </tr>\n",
       "    <tr>\n",
       "      <th>27</th>\n",
       "      <td>28</td>\n",
       "      <td>A</td>\n",
       "      <td>206302</td>\n",
       "    </tr>\n",
       "    <tr>\n",
       "      <th>28</th>\n",
       "      <td>29</td>\n",
       "      <td>B</td>\n",
       "      <td>93638</td>\n",
       "    </tr>\n",
       "    <tr>\n",
       "      <th>29</th>\n",
       "      <td>30</td>\n",
       "      <td>C</td>\n",
       "      <td>42988</td>\n",
       "    </tr>\n",
       "    <tr>\n",
       "      <th>30</th>\n",
       "      <td>31</td>\n",
       "      <td>A</td>\n",
       "      <td>203750</td>\n",
       "    </tr>\n",
       "    <tr>\n",
       "      <th>31</th>\n",
       "      <td>32</td>\n",
       "      <td>A</td>\n",
       "      <td>203007</td>\n",
       "    </tr>\n",
       "    <tr>\n",
       "      <th>32</th>\n",
       "      <td>33</td>\n",
       "      <td>A</td>\n",
       "      <td>39690</td>\n",
       "    </tr>\n",
       "    <tr>\n",
       "      <th>33</th>\n",
       "      <td>34</td>\n",
       "      <td>A</td>\n",
       "      <td>158114</td>\n",
       "    </tr>\n",
       "    <tr>\n",
       "      <th>34</th>\n",
       "      <td>35</td>\n",
       "      <td>B</td>\n",
       "      <td>103681</td>\n",
       "    </tr>\n",
       "    <tr>\n",
       "      <th>35</th>\n",
       "      <td>36</td>\n",
       "      <td>A</td>\n",
       "      <td>39910</td>\n",
       "    </tr>\n",
       "    <tr>\n",
       "      <th>36</th>\n",
       "      <td>37</td>\n",
       "      <td>C</td>\n",
       "      <td>39910</td>\n",
       "    </tr>\n",
       "    <tr>\n",
       "      <th>37</th>\n",
       "      <td>38</td>\n",
       "      <td>C</td>\n",
       "      <td>39690</td>\n",
       "    </tr>\n",
       "    <tr>\n",
       "      <th>38</th>\n",
       "      <td>39</td>\n",
       "      <td>A</td>\n",
       "      <td>184109</td>\n",
       "    </tr>\n",
       "    <tr>\n",
       "      <th>39</th>\n",
       "      <td>40</td>\n",
       "      <td>A</td>\n",
       "      <td>155083</td>\n",
       "    </tr>\n",
       "    <tr>\n",
       "      <th>40</th>\n",
       "      <td>41</td>\n",
       "      <td>A</td>\n",
       "      <td>196321</td>\n",
       "    </tr>\n",
       "    <tr>\n",
       "      <th>41</th>\n",
       "      <td>42</td>\n",
       "      <td>C</td>\n",
       "      <td>39690</td>\n",
       "    </tr>\n",
       "    <tr>\n",
       "      <th>42</th>\n",
       "      <td>43</td>\n",
       "      <td>C</td>\n",
       "      <td>41062</td>\n",
       "    </tr>\n",
       "    <tr>\n",
       "      <th>43</th>\n",
       "      <td>44</td>\n",
       "      <td>C</td>\n",
       "      <td>39910</td>\n",
       "    </tr>\n",
       "    <tr>\n",
       "      <th>44</th>\n",
       "      <td>45</td>\n",
       "      <td>B</td>\n",
       "      <td>118221</td>\n",
       "    </tr>\n",
       "  </tbody>\n",
       "</table>\n",
       "</div>"
      ],
      "text/plain": [
       "    Store Type    Size\n",
       "0       1    A  151315\n",
       "1       2    A  202307\n",
       "2       3    B   37392\n",
       "3       4    A  205863\n",
       "4       5    B   34875\n",
       "5       6    A  202505\n",
       "6       7    B   70713\n",
       "7       8    A  155078\n",
       "8       9    B  125833\n",
       "9      10    B  126512\n",
       "10     11    A  207499\n",
       "11     12    B  112238\n",
       "12     13    A  219622\n",
       "13     14    A  200898\n",
       "14     15    B  123737\n",
       "15     16    B   57197\n",
       "16     17    B   93188\n",
       "17     18    B  120653\n",
       "18     19    A  203819\n",
       "19     20    A  203742\n",
       "20     21    B  140167\n",
       "21     22    B  119557\n",
       "22     23    B  114533\n",
       "23     24    A  203819\n",
       "24     25    B  128107\n",
       "25     26    A  152513\n",
       "26     27    A  204184\n",
       "27     28    A  206302\n",
       "28     29    B   93638\n",
       "29     30    C   42988\n",
       "30     31    A  203750\n",
       "31     32    A  203007\n",
       "32     33    A   39690\n",
       "33     34    A  158114\n",
       "34     35    B  103681\n",
       "35     36    A   39910\n",
       "36     37    C   39910\n",
       "37     38    C   39690\n",
       "38     39    A  184109\n",
       "39     40    A  155083\n",
       "40     41    A  196321\n",
       "41     42    C   39690\n",
       "42     43    C   41062\n",
       "43     44    C   39910\n",
       "44     45    B  118221"
      ]
     },
     "metadata": {},
     "output_type": "display_data"
    },
    {
     "name": "stdout",
     "output_type": "stream",
     "text": [
      "Store     int64\n",
      "Type     object\n",
      "Size      int64\n",
      "dtype: object\n"
     ]
    }
   ],
   "source": [
    "# Show each of the dataframes to see how many records and fields there are in each\n",
    "for f in files:\n",
    "    print('#'*10+' {0} '.format(f.upper())+'#'*10)\n",
    "    display(datasets[f])\n",
    "    print(datasets[f].dtypes)"
   ]
  },
  {
   "cell_type": "markdown",
   "metadata": {},
   "source": [
    "Dates are being interpreted as 'object', so they have to be converted to datetimes."
   ]
  },
  {
   "cell_type": "code",
   "execution_count": 4,
   "metadata": {},
   "outputs": [],
   "source": [
    "for f in ['features', 'sales']:\n",
    "    datasets[f].Date = pd.to_datetime(datasets[f].Date)"
   ]
  },
  {
   "cell_type": "code",
   "execution_count": 5,
   "metadata": {},
   "outputs": [
    {
     "name": "stdout",
     "output_type": "stream",
     "text": [
      "\n",
      "########## FEATURES ##########\n",
      "Store: ok\n",
      "Date: ok\n",
      "Temperature: ok\n",
      "Fuel_Price: ok\n",
      "MarkDown1: 4158 invalid values found\n",
      "MarkDown2: 5269 invalid values found\n",
      "MarkDown3: 4577 invalid values found\n",
      "MarkDown4: 4726 invalid values found\n",
      "MarkDown5: 4140 invalid values found\n",
      "CPI: 585 invalid values found\n",
      "Unemployment: 585 invalid values found\n",
      "IsHoliday: ok\n",
      "\n",
      "########## SALES ##########\n",
      "Store: ok\n",
      "Dept: ok\n",
      "Date: ok\n",
      "Weekly_Sales: ok\n",
      "IsHoliday: ok\n",
      "\n",
      "########## STORES ##########\n",
      "Store: ok\n",
      "Type: ok\n",
      "Size: ok\n"
     ]
    }
   ],
   "source": [
    "for f in files:\n",
    "    print('\\n'+'#'*10+' {0} '.format(f.upper())+'#'*10)\n",
    "    columns = datasets[f].columns.values.tolist()\n",
    "    for c in columns:\n",
    "        if datasets[f][c].isnull().values.any():\n",
    "            print('{0}: {1} invalid values found'.format(c, datasets[f][c].isnull().sum()))\n",
    "        else:\n",
    "            print('{0}: ok'.format(c))"
   ]
  },
  {
   "cell_type": "markdown",
   "metadata": {},
   "source": [
    "No columns in our sales and stores dataframes are incomplete. However, there is a number of rows with incomplete values in the features dataframe. For the time being no action will be taken because we do not plan to check the markdowns, consumer price index or unemployment.\n",
    "\n",
    "Next we should find negative and zero values in some columns where this might be nonsensical."
   ]
  },
  {
   "cell_type": "code",
   "execution_count": 6,
   "metadata": {},
   "outputs": [
    {
     "name": "stdout",
     "output_type": "stream",
     "text": [
      "\n",
      "Rows in features/Fuel_Price:\n",
      "  All: 8190\n",
      "  Negative: 0.0 (0.00%)\n",
      "  Zero: 0.0 (0.00%)\n",
      "\n",
      "Rows in features/CPI:\n",
      "  All: 8190\n",
      "  Negative: 0.0 (0.00%)\n",
      "  Zero: 0.0 (0.00%)\n",
      "\n",
      "Rows in features/Unemployment:\n",
      "  All: 8190\n",
      "  Negative: 0.0 (0.00%)\n",
      "  Zero: 0.0 (0.00%)\n",
      "\n",
      "Rows in sales/Weekly_Sales:\n",
      "  All: 421570\n",
      "  Negative: 1285.0 (0.30%)\n",
      "  Zero: 73.0 (0.02%)\n",
      "\n",
      "Rows in stores/Size:\n",
      "  All: 45\n",
      "  Negative: 0.0 (0.00%)\n",
      "  Zero: 0.0 (0.00%)\n"
     ]
    }
   ],
   "source": [
    "# Columns in each dataframe that will be checked for unusual values\n",
    "cols_negcheck = {'features': ['Fuel_Price', 'CPI', 'Unemployment'],\n",
    "                 'sales': ['Weekly_Sales'],\n",
    "                 'stores': ['Size'],\n",
    "                }\n",
    "# Additional columns added to a temporary dataframe to count negative or zero values\n",
    "for f in files: \n",
    "    df = datasets[f].copy()\n",
    "    for c in cols_negcheck[f]:\n",
    "        df.loc[df[c] == 0, c+'_zero'] = 1\n",
    "        df.loc[df[c] != 0, c+'_zero'] = 0\n",
    "        df.loc[df[c] < 0, c+'_negative'] = 1\n",
    "        df.loc[df[c] > 0, c+'_negative'] = 0\n",
    "        print('\\nRows in {0}/{1}:'.format(f, c))\n",
    "        rows = df.shape[0]\n",
    "        print('  All: {0}'.format(rows))\n",
    "        neg_rows = df[c+'_negative'].sum()\n",
    "        print('  Negative: {0} ({1})'.format(neg_rows, '{:.2%}'.format(neg_rows/rows)))\n",
    "        zero_rows = df[c+'_zero'].sum()\n",
    "        print('  Zero: {0} ({1})'.format(zero_rows, '{:.2%}'.format(zero_rows/rows)))"
   ]
  },
  {
   "cell_type": "markdown",
   "metadata": {},
   "source": [
    "There are 1285 rows where sales are negative and 73 where these are zero. Negative rows might happen if there are returns, but this is difficult to determine from the data.\n",
    "\n",
    "As the number of negative or zero rows is very small, they will be removed before conducting the preliminary analyses, but this phenomenon does warrant further investigation."
   ]
  },
  {
   "cell_type": "markdown",
   "metadata": {},
   "source": [
    "### 2.2. Store characterization"
   ]
  },
  {
   "cell_type": "code",
   "execution_count": 7,
   "metadata": {},
   "outputs": [
    {
     "data": {
      "text/plain": [
       "[Text(0.5, 1.0, 'Stores by Type')]"
      ]
     },
     "execution_count": 7,
     "metadata": {},
     "output_type": "execute_result"
    },
    {
     "data": {
      "image/png": "[encoded data removed]",
      "text/plain": [
       "<Figure size 432x288 with 1 Axes>"
      ]
     },
     "metadata": {},
     "output_type": "display_data"
    }
   ],
   "source": [
    "stores = datasets['stores']\n",
    "sns.set(style='darkgrid')\n",
    "ax = sns.countplot(x='Type', data=stores)\n",
    "for p in ax.patches:\n",
    "    height = p.get_height()\n",
    "    ax.text(p.get_x()+p.get_width()/2., height + 0.1,height ,ha=\"center\")\n",
    "ax.set(title='Stores by Type')"
   ]
  },
  {
   "cell_type": "code",
   "execution_count": 8,
   "metadata": {},
   "outputs": [
    {
     "data": {
      "image/png": "[encoded data removed]",
      "text/plain": [
       "<Figure size 432x288 with 1 Axes>"
      ]
     },
     "metadata": {},
     "output_type": "display_data"
    }
   ],
   "source": [
    "sns.set(style='darkgrid')\n",
    "g = sns.histplot(stores, x='Size', hue='Type', element='step').set(title='Stores by Size')\n",
    "plt.ticklabel_format(style='sci', axis='x', scilimits=(0,0))"
   ]
  },
  {
   "cell_type": "markdown",
   "metadata": {},
   "source": [
    "We see that 'A' stores are more frequent than 'B' stores and 'C' stores, while their size generally matches that order. It is possible that the smaller A and B stores have started existing later and for this reason they have had fewer sales.\n",
    "\n",
    "Next, let's see how many departments exist."
   ]
  },
  {
   "cell_type": "code",
   "execution_count": 9,
   "metadata": {},
   "outputs": [
    {
     "name": "stdout",
     "output_type": "stream",
     "text": [
      "There are 81 unique departments.\n",
      "[ 1  2  3  4  5  6  7  8  9 10 11 12 13 14 16 17 18 19 20 21 22 23 24 25\n",
      " 26 27 28 29 30 31 32 33 34 35 36 37 38 39 40 41 42 43 44 45 46 47 48 49\n",
      " 50 51 52 54 55 56 58 59 60 65 67 71 72 74 77 78 79 80 81 82 83 85 87 90\n",
      " 91 92 93 94 95 96 97 98 99]\n"
     ]
    }
   ],
   "source": [
    "depts = sales.Dept.unique()\n",
    "depts.sort()\n",
    "print('There are {0} unique departments.'.format(len(depts)))\n",
    "print(depts)"
   ]
  },
  {
   "cell_type": "markdown",
   "metadata": {},
   "source": [
    "It is possible that stores contain different departments according to their type. We will merge two tables to associate stores to store types and store departments."
   ]
  },
  {
   "cell_type": "code",
   "execution_count": 10,
   "metadata": {},
   "outputs": [
    {
     "data": {
      "text/html": [
       "<div>\n",
       "<style scoped>\n",
       "    .dataframe tbody tr th:only-of-type {\n",
       "        vertical-align: middle;\n",
       "    }\n",
       "\n",
       "    .dataframe tbody tr th {\n",
       "        vertical-align: top;\n",
       "    }\n",
       "\n",
       "    .dataframe thead th {\n",
       "        text-align: right;\n",
       "    }\n",
       "</style>\n",
       "<table border=\"1\" class=\"dataframe\">\n",
       "  <thead>\n",
       "    <tr style=\"text-align: right;\">\n",
       "      <th></th>\n",
       "      <th>Store</th>\n",
       "      <th>Type</th>\n",
       "      <th>Size</th>\n",
       "      <th>Dept</th>\n",
       "      <th>Date</th>\n",
       "      <th>Weekly_Sales</th>\n",
       "      <th>IsHoliday</th>\n",
       "    </tr>\n",
       "  </thead>\n",
       "  <tbody>\n",
       "    <tr>\n",
       "      <th>0</th>\n",
       "      <td>1</td>\n",
       "      <td>A</td>\n",
       "      <td>151315</td>\n",
       "      <td>1</td>\n",
       "      <td>2010-05-02</td>\n",
       "      <td>24924.50</td>\n",
       "      <td>False</td>\n",
       "    </tr>\n",
       "    <tr>\n",
       "      <th>1</th>\n",
       "      <td>1</td>\n",
       "      <td>A</td>\n",
       "      <td>151315</td>\n",
       "      <td>1</td>\n",
       "      <td>2010-12-02</td>\n",
       "      <td>46039.49</td>\n",
       "      <td>True</td>\n",
       "    </tr>\n",
       "    <tr>\n",
       "      <th>2</th>\n",
       "      <td>1</td>\n",
       "      <td>A</td>\n",
       "      <td>151315</td>\n",
       "      <td>1</td>\n",
       "      <td>2010-02-19</td>\n",
       "      <td>41595.55</td>\n",
       "      <td>False</td>\n",
       "    </tr>\n",
       "    <tr>\n",
       "      <th>3</th>\n",
       "      <td>1</td>\n",
       "      <td>A</td>\n",
       "      <td>151315</td>\n",
       "      <td>1</td>\n",
       "      <td>2010-02-26</td>\n",
       "      <td>19403.54</td>\n",
       "      <td>False</td>\n",
       "    </tr>\n",
       "    <tr>\n",
       "      <th>4</th>\n",
       "      <td>1</td>\n",
       "      <td>A</td>\n",
       "      <td>151315</td>\n",
       "      <td>1</td>\n",
       "      <td>2010-05-03</td>\n",
       "      <td>21827.90</td>\n",
       "      <td>False</td>\n",
       "    </tr>\n",
       "    <tr>\n",
       "      <th>...</th>\n",
       "      <td>...</td>\n",
       "      <td>...</td>\n",
       "      <td>...</td>\n",
       "      <td>...</td>\n",
       "      <td>...</td>\n",
       "      <td>...</td>\n",
       "      <td>...</td>\n",
       "    </tr>\n",
       "    <tr>\n",
       "      <th>421565</th>\n",
       "      <td>45</td>\n",
       "      <td>B</td>\n",
       "      <td>118221</td>\n",
       "      <td>98</td>\n",
       "      <td>2012-09-28</td>\n",
       "      <td>508.37</td>\n",
       "      <td>False</td>\n",
       "    </tr>\n",
       "    <tr>\n",
       "      <th>421566</th>\n",
       "      <td>45</td>\n",
       "      <td>B</td>\n",
       "      <td>118221</td>\n",
       "      <td>98</td>\n",
       "      <td>2012-05-10</td>\n",
       "      <td>628.10</td>\n",
       "      <td>False</td>\n",
       "    </tr>\n",
       "    <tr>\n",
       "      <th>421567</th>\n",
       "      <td>45</td>\n",
       "      <td>B</td>\n",
       "      <td>118221</td>\n",
       "      <td>98</td>\n",
       "      <td>2012-12-10</td>\n",
       "      <td>1061.02</td>\n",
       "      <td>False</td>\n",
       "    </tr>\n",
       "    <tr>\n",
       "      <th>421568</th>\n",
       "      <td>45</td>\n",
       "      <td>B</td>\n",
       "      <td>118221</td>\n",
       "      <td>98</td>\n",
       "      <td>2012-10-19</td>\n",
       "      <td>760.01</td>\n",
       "      <td>False</td>\n",
       "    </tr>\n",
       "    <tr>\n",
       "      <th>421569</th>\n",
       "      <td>45</td>\n",
       "      <td>B</td>\n",
       "      <td>118221</td>\n",
       "      <td>98</td>\n",
       "      <td>2012-10-26</td>\n",
       "      <td>1076.80</td>\n",
       "      <td>False</td>\n",
       "    </tr>\n",
       "  </tbody>\n",
       "</table>\n",
       "<p>421570 rows × 7 columns</p>\n",
       "</div>"
      ],
      "text/plain": [
       "        Store Type    Size  Dept       Date  Weekly_Sales  IsHoliday\n",
       "0           1    A  151315     1 2010-05-02      24924.50      False\n",
       "1           1    A  151315     1 2010-12-02      46039.49       True\n",
       "2           1    A  151315     1 2010-02-19      41595.55      False\n",
       "3           1    A  151315     1 2010-02-26      19403.54      False\n",
       "4           1    A  151315     1 2010-05-03      21827.90      False\n",
       "...       ...  ...     ...   ...        ...           ...        ...\n",
       "421565     45    B  118221    98 2012-09-28        508.37      False\n",
       "421566     45    B  118221    98 2012-05-10        628.10      False\n",
       "421567     45    B  118221    98 2012-12-10       1061.02      False\n",
       "421568     45    B  118221    98 2012-10-19        760.01      False\n",
       "421569     45    B  118221    98 2012-10-26       1076.80      False\n",
       "\n",
       "[421570 rows x 7 columns]"
      ]
     },
     "execution_count": 10,
     "metadata": {},
     "output_type": "execute_result"
    }
   ],
   "source": [
    "# Merge 'stores' and 'sales'\n",
    "sales_stores = pd.merge(datasets['stores'], datasets['sales'], on='Store', how='outer')\n",
    "sales_stores"
   ]
  },
  {
   "cell_type": "code",
   "execution_count": 11,
   "metadata": {},
   "outputs": [
    {
     "name": "stdout",
     "output_type": "stream",
     "text": [
      "\n",
      "There are 81 unique departments in stores of Type A.\n",
      "[ 1  2  3  4  5  6  7  8  9 10 11 12 13 14 16 17 18 19 20 21 22 23 24 25\n",
      " 26 27 28 29 30 31 32 33 34 35 36 37 38 39 40 41 42 43 44 45 46 47 48 49\n",
      " 50 51 52 54 55 56 58 59 60 65 67 71 72 74 77 78 79 80 81 82 83 85 87 90\n",
      " 91 92 93 94 95 96 97 98 99]\n",
      "\n",
      "There are 80 unique departments in stores of Type B.\n",
      "[ 1  2  3  4  5  6  7  8  9 10 11 12 13 14 16 17 18 19 20 21 22 23 24 25\n",
      " 26 27 28 29 30 31 32 33 34 35 36 37 38 39 40 41 42 43 44 45 46 47 48 49\n",
      " 50 51 52 54 55 56 58 59 60 67 71 72 74 77 78 79 80 81 82 83 85 87 90 91\n",
      " 92 93 94 95 96 97 98 99]\n",
      "\n",
      "There are 66 unique departments in stores of Type C.\n",
      "[ 1  2  3  4  5  6  7  8  9 10 11 12 13 14 16 17 18 19 20 21 22 23 24 25\n",
      " 26 27 28 29 31 32 33 34 35 38 40 41 42 44 46 49 52 55 56 59 60 67 71 72\n",
      " 74 79 80 81 82 83 85 87 90 91 92 93 94 95 96 97 98 99]\n",
      "\n",
      "Departments that can exist in A but not in B: [65]\n",
      "\n",
      "Departments that can exist in B but not in C: [30, 36, 37, 39, 43, 45, 47, 48, 50, 51, 54, 58, 77, 78]\n"
     ]
    }
   ],
   "source": [
    "letters = ['A', 'B', 'C']\n",
    "depts = dict()\n",
    "for l in letters:\n",
    "    d = sales_stores[sales_stores['Type'] == l]\n",
    "    d = d.Dept.unique()\n",
    "    d.sort()\n",
    "    print('\\nThere are {0} unique departments in stores of Type {1}.'.format(len(d), l))\n",
    "    print(d)\n",
    "    depts[l]= d\n",
    "\n",
    "def notintersection(list1, list2):\n",
    "    list3 = [x for x in list1 if x not in list2]\n",
    "    return list3\n",
    "    \n",
    "print('\\nDepartments that can exist in A but not in B: {0}'.format(notintersection(depts['A'], depts['B'])))\n",
    "print('\\nDepartments that can exist in B but not in C: {0}'.format(notintersection(depts['B'], depts['C'])))"
   ]
  },
  {
   "cell_type": "markdown",
   "metadata": {},
   "source": [
    "Stores of types 'A' and 'B' may contain virtually the same departments, while C stores may contain 15 or 14 fewer departments, respectively. \n",
    "\n",
    "There could be further analysis, for example by sales, but sales by department are not available. \n",
    "\n",
    "It is also possible that not all departments in the same class contain the same number of departments. Then, it would be possible to determine if there is a correlation between the number of departments in a store and the weekly sales there or its size."
   ]
  },
  {
   "cell_type": "markdown",
   "metadata": {},
   "source": [
    "### 2.3. Range of weekly sales by store\n",
    "Let's look more carefully at weekly sales."
   ]
  },
  {
   "cell_type": "code",
   "execution_count": 12,
   "metadata": {},
   "outputs": [
    {
     "data": {
      "text/html": [
       "<div>\n",
       "<style scoped>\n",
       "    .dataframe tbody tr th:only-of-type {\n",
       "        vertical-align: middle;\n",
       "    }\n",
       "\n",
       "    .dataframe tbody tr th {\n",
       "        vertical-align: top;\n",
       "    }\n",
       "\n",
       "    .dataframe thead th {\n",
       "        text-align: right;\n",
       "    }\n",
       "</style>\n",
       "<table border=\"1\" class=\"dataframe\">\n",
       "  <thead>\n",
       "    <tr style=\"text-align: right;\">\n",
       "      <th></th>\n",
       "      <th>Weekly_Sales</th>\n",
       "    </tr>\n",
       "  </thead>\n",
       "  <tbody>\n",
       "    <tr>\n",
       "      <th>count</th>\n",
       "      <td>421570.000000</td>\n",
       "    </tr>\n",
       "    <tr>\n",
       "      <th>mean</th>\n",
       "      <td>15981.258123</td>\n",
       "    </tr>\n",
       "    <tr>\n",
       "      <th>std</th>\n",
       "      <td>22711.183519</td>\n",
       "    </tr>\n",
       "    <tr>\n",
       "      <th>min</th>\n",
       "      <td>-4988.940000</td>\n",
       "    </tr>\n",
       "    <tr>\n",
       "      <th>25%</th>\n",
       "      <td>2079.650000</td>\n",
       "    </tr>\n",
       "    <tr>\n",
       "      <th>50%</th>\n",
       "      <td>7612.030000</td>\n",
       "    </tr>\n",
       "    <tr>\n",
       "      <th>75%</th>\n",
       "      <td>20205.852500</td>\n",
       "    </tr>\n",
       "    <tr>\n",
       "      <th>max</th>\n",
       "      <td>693099.360000</td>\n",
       "    </tr>\n",
       "  </tbody>\n",
       "</table>\n",
       "</div>"
      ],
      "text/plain": [
       "        Weekly_Sales\n",
       "count  421570.000000\n",
       "mean    15981.258123\n",
       "std     22711.183519\n",
       "min     -4988.940000\n",
       "25%      2079.650000\n",
       "50%      7612.030000\n",
       "75%     20205.852500\n",
       "max    693099.360000"
      ]
     },
     "execution_count": 12,
     "metadata": {},
     "output_type": "execute_result"
    }
   ],
   "source": [
    "# Basic statistics\n",
    "weekly_series = pd.DataFrame(sales_stores['Weekly_Sales'])\n",
    "weekly_series.describe()"
   ]
  },
  {
   "cell_type": "code",
   "execution_count": 13,
   "metadata": {},
   "outputs": [
    {
     "data": {
      "image/png": "[encoded data removed]",
      "text/plain": [
       "<Figure size 1008x360 with 2 Axes>"
      ]
     },
     "metadata": {},
     "output_type": "display_data"
    }
   ],
   "source": [
    "sns.set(style='darkgrid')\n",
    "fig, (ax1, ax2) = plt.subplots(ncols=2, sharey=False, figsize=(14,5))\n",
    "g= sns.histplot(weekly_series, x='Weekly_Sales', bins=50, ax=ax1).set(title='Sales by Week, any store (histogram)')\n",
    "g= sns.boxplot(x=weekly_series[\"Weekly_Sales\"], ax=ax2).set(title='Sales by Week, any store (boxplot)')"
   ]
  },
  {
   "cell_type": "markdown",
   "metadata": {},
   "source": [
    "In addition to the weeks with negative or zero values previously discussed, there is a very small number of stores where sales are unusually high. Let's get a better idea of how many they are."
   ]
  },
  {
   "cell_type": "code",
   "execution_count": 14,
   "metadata": {},
   "outputs": [
    {
     "data": {
      "text/html": [
       "<div>\n",
       "<style scoped>\n",
       "    .dataframe tbody tr th:only-of-type {\n",
       "        vertical-align: middle;\n",
       "    }\n",
       "\n",
       "    .dataframe tbody tr th {\n",
       "        vertical-align: top;\n",
       "    }\n",
       "\n",
       "    .dataframe thead th {\n",
       "        text-align: right;\n",
       "    }\n",
       "</style>\n",
       "<table border=\"1\" class=\"dataframe\">\n",
       "  <thead>\n",
       "    <tr style=\"text-align: right;\">\n",
       "      <th></th>\n",
       "      <th>Intervals</th>\n",
       "      <th>Count</th>\n",
       "      <th>Cumulative Count</th>\n",
       "      <th>Remainder</th>\n",
       "      <th>Percentage</th>\n",
       "    </tr>\n",
       "  </thead>\n",
       "  <tbody>\n",
       "    <tr>\n",
       "      <th>0</th>\n",
       "      <td>(-4988.941, 8972.826]</td>\n",
       "      <td>228,240</td>\n",
       "      <td>54.14%</td>\n",
       "      <td>45.86%</td>\n",
       "      <td>54.14%</td>\n",
       "    </tr>\n",
       "    <tr>\n",
       "      <th>1</th>\n",
       "      <td>(8972.826, 22934.592]</td>\n",
       "      <td>100,440</td>\n",
       "      <td>77.97%</td>\n",
       "      <td>22.03%</td>\n",
       "      <td>23.83%</td>\n",
       "    </tr>\n",
       "    <tr>\n",
       "      <th>2</th>\n",
       "      <td>(22934.592, 36896.358]</td>\n",
       "      <td>39,914</td>\n",
       "      <td>87.43%</td>\n",
       "      <td>12.57%</td>\n",
       "      <td>9.47%</td>\n",
       "    </tr>\n",
       "    <tr>\n",
       "      <th>3</th>\n",
       "      <td>(36896.358, 50858.124]</td>\n",
       "      <td>21,844</td>\n",
       "      <td>92.62%</td>\n",
       "      <td>7.38%</td>\n",
       "      <td>5.18%</td>\n",
       "    </tr>\n",
       "    <tr>\n",
       "      <th>4</th>\n",
       "      <td>(50858.124, 64819.89]</td>\n",
       "      <td>12,686</td>\n",
       "      <td>95.62%</td>\n",
       "      <td>4.38%</td>\n",
       "      <td>3.01%</td>\n",
       "    </tr>\n",
       "    <tr>\n",
       "      <th>5</th>\n",
       "      <td>(64819.89, 78781.656]</td>\n",
       "      <td>7,559</td>\n",
       "      <td>97.42%</td>\n",
       "      <td>2.58%</td>\n",
       "      <td>1.79%</td>\n",
       "    </tr>\n",
       "    <tr>\n",
       "      <th>6</th>\n",
       "      <td>(78781.656, 92743.422]</td>\n",
       "      <td>4,332</td>\n",
       "      <td>98.45%</td>\n",
       "      <td>1.55%</td>\n",
       "      <td>1.03%</td>\n",
       "    </tr>\n",
       "    <tr>\n",
       "      <th>7</th>\n",
       "      <td>(92743.422, 106705.188]</td>\n",
       "      <td>2,365</td>\n",
       "      <td>99.01%</td>\n",
       "      <td>0.99%</td>\n",
       "      <td>0.56%</td>\n",
       "    </tr>\n",
       "    <tr>\n",
       "      <th>8</th>\n",
       "      <td>(106705.188, 120666.954]</td>\n",
       "      <td>1,496</td>\n",
       "      <td>99.36%</td>\n",
       "      <td>0.64%</td>\n",
       "      <td>0.35%</td>\n",
       "    </tr>\n",
       "    <tr>\n",
       "      <th>9</th>\n",
       "      <td>(120666.954, 134628.72]</td>\n",
       "      <td>818</td>\n",
       "      <td>99.55%</td>\n",
       "      <td>0.45%</td>\n",
       "      <td>0.19%</td>\n",
       "    </tr>\n",
       "    <tr>\n",
       "      <th>10</th>\n",
       "      <td>(134628.72, 148590.486]</td>\n",
       "      <td>667</td>\n",
       "      <td>99.71%</td>\n",
       "      <td>0.29%</td>\n",
       "      <td>0.16%</td>\n",
       "    </tr>\n",
       "    <tr>\n",
       "      <th>11</th>\n",
       "      <td>(148590.486, 162552.252]</td>\n",
       "      <td>512</td>\n",
       "      <td>99.83%</td>\n",
       "      <td>0.17%</td>\n",
       "      <td>0.12%</td>\n",
       "    </tr>\n",
       "    <tr>\n",
       "      <th>12</th>\n",
       "      <td>(162552.252, 176514.018]</td>\n",
       "      <td>309</td>\n",
       "      <td>99.91%</td>\n",
       "      <td>0.09%</td>\n",
       "      <td>0.07%</td>\n",
       "    </tr>\n",
       "    <tr>\n",
       "      <th>13</th>\n",
       "      <td>(176514.018, 190475.784]</td>\n",
       "      <td>167</td>\n",
       "      <td>99.95%</td>\n",
       "      <td>0.05%</td>\n",
       "      <td>0.04%</td>\n",
       "    </tr>\n",
       "    <tr>\n",
       "      <th>14</th>\n",
       "      <td>(190475.784, 204437.55]</td>\n",
       "      <td>72</td>\n",
       "      <td>99.96%</td>\n",
       "      <td>0.04%</td>\n",
       "      <td>0.02%</td>\n",
       "    </tr>\n",
       "    <tr>\n",
       "      <th>15</th>\n",
       "      <td>(204437.55, 218399.316]</td>\n",
       "      <td>43</td>\n",
       "      <td>99.97%</td>\n",
       "      <td>0.03%</td>\n",
       "      <td>0.01%</td>\n",
       "    </tr>\n",
       "    <tr>\n",
       "      <th>16</th>\n",
       "      <td>(218399.316, 232361.082]</td>\n",
       "      <td>25</td>\n",
       "      <td>99.98%</td>\n",
       "      <td>0.02%</td>\n",
       "      <td>0.01%</td>\n",
       "    </tr>\n",
       "    <tr>\n",
       "      <th>17</th>\n",
       "      <td>(232361.082, 246322.848]</td>\n",
       "      <td>18</td>\n",
       "      <td>99.99%</td>\n",
       "      <td>0.01%</td>\n",
       "      <td>0.00%</td>\n",
       "    </tr>\n",
       "    <tr>\n",
       "      <th>18</th>\n",
       "      <td>(260284.614, 274246.38]</td>\n",
       "      <td>12</td>\n",
       "      <td>99.99%</td>\n",
       "      <td>0.01%</td>\n",
       "      <td>0.00%</td>\n",
       "    </tr>\n",
       "    <tr>\n",
       "      <th>19</th>\n",
       "      <td>(288208.146, 302169.912]</td>\n",
       "      <td>8</td>\n",
       "      <td>99.99%</td>\n",
       "      <td>0.01%</td>\n",
       "      <td>0.00%</td>\n",
       "    </tr>\n",
       "    <tr>\n",
       "      <th>20</th>\n",
       "      <td>(246322.848, 260284.614]</td>\n",
       "      <td>7</td>\n",
       "      <td>99.99%</td>\n",
       "      <td>0.01%</td>\n",
       "      <td>0.00%</td>\n",
       "    </tr>\n",
       "    <tr>\n",
       "      <th>21</th>\n",
       "      <td>(344055.21, 358016.976]</td>\n",
       "      <td>7</td>\n",
       "      <td>99.99%</td>\n",
       "      <td>0.01%</td>\n",
       "      <td>0.00%</td>\n",
       "    </tr>\n",
       "    <tr>\n",
       "      <th>22</th>\n",
       "      <td>(358016.976, 371978.742]</td>\n",
       "      <td>4</td>\n",
       "      <td>99.99%</td>\n",
       "      <td>0.01%</td>\n",
       "      <td>0.00%</td>\n",
       "    </tr>\n",
       "    <tr>\n",
       "      <th>23</th>\n",
       "      <td>(330093.444, 344055.21]</td>\n",
       "      <td>4</td>\n",
       "      <td>100.00%</td>\n",
       "      <td>0.00%</td>\n",
       "      <td>0.00%</td>\n",
       "    </tr>\n",
       "    <tr>\n",
       "      <th>24</th>\n",
       "      <td>(371978.742, 385940.508]</td>\n",
       "      <td>3</td>\n",
       "      <td>100.00%</td>\n",
       "      <td>0.00%</td>\n",
       "      <td>0.00%</td>\n",
       "    </tr>\n",
       "    <tr>\n",
       "      <th>25</th>\n",
       "      <td>(302169.912, 316131.678]</td>\n",
       "      <td>3</td>\n",
       "      <td>100.00%</td>\n",
       "      <td>0.00%</td>\n",
       "      <td>0.00%</td>\n",
       "    </tr>\n",
       "    <tr>\n",
       "      <th>26</th>\n",
       "      <td>(316131.678, 330093.444]</td>\n",
       "      <td>2</td>\n",
       "      <td>100.00%</td>\n",
       "      <td>0.00%</td>\n",
       "      <td>0.00%</td>\n",
       "    </tr>\n",
       "    <tr>\n",
       "      <th>27</th>\n",
       "      <td>(385940.508, 399902.274]</td>\n",
       "      <td>2</td>\n",
       "      <td>100.00%</td>\n",
       "      <td>0.00%</td>\n",
       "      <td>0.00%</td>\n",
       "    </tr>\n",
       "    <tr>\n",
       "      <th>28</th>\n",
       "      <td>(274246.38, 288208.146]</td>\n",
       "      <td>2</td>\n",
       "      <td>100.00%</td>\n",
       "      <td>0.00%</td>\n",
       "      <td>0.00%</td>\n",
       "    </tr>\n",
       "    <tr>\n",
       "      <th>29</th>\n",
       "      <td>(399902.274, 413864.04]</td>\n",
       "      <td>2</td>\n",
       "      <td>100.00%</td>\n",
       "      <td>0.00%</td>\n",
       "      <td>0.00%</td>\n",
       "    </tr>\n",
       "    <tr>\n",
       "      <th>30</th>\n",
       "      <td>(413864.04, 427825.806]</td>\n",
       "      <td>2</td>\n",
       "      <td>100.00%</td>\n",
       "      <td>0.00%</td>\n",
       "      <td>0.00%</td>\n",
       "    </tr>\n",
       "    <tr>\n",
       "      <th>31</th>\n",
       "      <td>(623290.53, 637252.296]</td>\n",
       "      <td>2</td>\n",
       "      <td>100.00%</td>\n",
       "      <td>0.00%</td>\n",
       "      <td>0.00%</td>\n",
       "    </tr>\n",
       "    <tr>\n",
       "      <th>32</th>\n",
       "      <td>(469711.104, 483672.87]</td>\n",
       "      <td>1</td>\n",
       "      <td>100.00%</td>\n",
       "      <td>0.00%</td>\n",
       "      <td>0.00%</td>\n",
       "    </tr>\n",
       "    <tr>\n",
       "      <th>33</th>\n",
       "      <td>(637252.296, 651214.062]</td>\n",
       "      <td>1</td>\n",
       "      <td>100.00%</td>\n",
       "      <td>0.00%</td>\n",
       "      <td>0.00%</td>\n",
       "    </tr>\n",
       "    <tr>\n",
       "      <th>34</th>\n",
       "      <td>(679137.594, 693099.36]</td>\n",
       "      <td>1</td>\n",
       "      <td>100.00%</td>\n",
       "      <td>0.00%</td>\n",
       "      <td>0.00%</td>\n",
       "    </tr>\n",
       "  </tbody>\n",
       "</table>\n",
       "</div>"
      ],
      "text/plain": [
       "                   Intervals    Count Cumulative Count Remainder Percentage\n",
       "0      (-4988.941, 8972.826]  228,240           54.14%    45.86%     54.14%\n",
       "1      (8972.826, 22934.592]  100,440           77.97%    22.03%     23.83%\n",
       "2     (22934.592, 36896.358]   39,914           87.43%    12.57%      9.47%\n",
       "3     (36896.358, 50858.124]   21,844           92.62%     7.38%      5.18%\n",
       "4      (50858.124, 64819.89]   12,686           95.62%     4.38%      3.01%\n",
       "5      (64819.89, 78781.656]    7,559           97.42%     2.58%      1.79%\n",
       "6     (78781.656, 92743.422]    4,332           98.45%     1.55%      1.03%\n",
       "7    (92743.422, 106705.188]    2,365           99.01%     0.99%      0.56%\n",
       "8   (106705.188, 120666.954]    1,496           99.36%     0.64%      0.35%\n",
       "9    (120666.954, 134628.72]      818           99.55%     0.45%      0.19%\n",
       "10   (134628.72, 148590.486]      667           99.71%     0.29%      0.16%\n",
       "11  (148590.486, 162552.252]      512           99.83%     0.17%      0.12%\n",
       "12  (162552.252, 176514.018]      309           99.91%     0.09%      0.07%\n",
       "13  (176514.018, 190475.784]      167           99.95%     0.05%      0.04%\n",
       "14   (190475.784, 204437.55]       72           99.96%     0.04%      0.02%\n",
       "15   (204437.55, 218399.316]       43           99.97%     0.03%      0.01%\n",
       "16  (218399.316, 232361.082]       25           99.98%     0.02%      0.01%\n",
       "17  (232361.082, 246322.848]       18           99.99%     0.01%      0.00%\n",
       "18   (260284.614, 274246.38]       12           99.99%     0.01%      0.00%\n",
       "19  (288208.146, 302169.912]        8           99.99%     0.01%      0.00%\n",
       "20  (246322.848, 260284.614]        7           99.99%     0.01%      0.00%\n",
       "21   (344055.21, 358016.976]        7           99.99%     0.01%      0.00%\n",
       "22  (358016.976, 371978.742]        4           99.99%     0.01%      0.00%\n",
       "23   (330093.444, 344055.21]        4          100.00%     0.00%      0.00%\n",
       "24  (371978.742, 385940.508]        3          100.00%     0.00%      0.00%\n",
       "25  (302169.912, 316131.678]        3          100.00%     0.00%      0.00%\n",
       "26  (316131.678, 330093.444]        2          100.00%     0.00%      0.00%\n",
       "27  (385940.508, 399902.274]        2          100.00%     0.00%      0.00%\n",
       "28   (274246.38, 288208.146]        2          100.00%     0.00%      0.00%\n",
       "29   (399902.274, 413864.04]        2          100.00%     0.00%      0.00%\n",
       "30   (413864.04, 427825.806]        2          100.00%     0.00%      0.00%\n",
       "31   (623290.53, 637252.296]        2          100.00%     0.00%      0.00%\n",
       "32   (469711.104, 483672.87]        1          100.00%     0.00%      0.00%\n",
       "33  (637252.296, 651214.062]        1          100.00%     0.00%      0.00%\n",
       "34   (679137.594, 693099.36]        1          100.00%     0.00%      0.00%"
      ]
     },
     "execution_count": 14,
     "metadata": {},
     "output_type": "execute_result"
    }
   ],
   "source": [
    "count, division = np.histogram(sales_stores['Weekly_Sales'], bins=50)\n",
    "out, bins = pd.cut(sales_stores['Weekly_Sales'], bins=division, include_lowest=True, right=True, retbins=True)\n",
    "counts = out.value_counts().head(35) # There are 15 empty bins at the high end, so we'll exclude them\n",
    "\n",
    "def gen_cumulative(counts_df):\n",
    "    \"\"\"\n",
    "    Generate a 'histogram' of stores according to a count\n",
    "    \"\"\"\n",
    "    total = sum(counts_df.values)\n",
    "    counts_df = pd.DataFrame(data={'Intervals': counts_df.index.to_list(), 'Count': counts_df.values})\n",
    "    counts_df['Cumulative Count'] = counts_df['Count'].cumsum()/total\n",
    "    counts_df['Remainder'] = 1 - counts_df['Cumulative Count'] # What would be left if highest values were excluded\n",
    "    counts_df['Percentage'] = counts_df['Count']/total\n",
    "    # Add format\n",
    "    counts_df['Count'] = pd.Series([\"{0:,}\".format(round(val, 2)) for val in counts_df['Count']], index = counts_df.index)\n",
    "    for c in ['Cumulative Count', 'Remainder', 'Percentage']:\n",
    "        counts_df[c] = pd.Series([\"{0:.2f}%\".format(val * 100) for val in counts_df[c]], index = counts_df.index)\n",
    "    return counts_df\n",
    "    \n",
    "counts = gen_cumulative(counts)\n",
    "counts"
   ]
  },
  {
   "cell_type": "markdown",
   "metadata": {},
   "source": [
    "### 2.4. Evolution of fuel price, CPI, unemployment, and weekly sales in all stores\n",
    "\n",
    "Let's now see sale and price variations according to time. For this we will have to get the sum of sales across stores, and the mean price, respectively."
   ]
  },
  {
   "cell_type": "code",
   "execution_count": 15,
   "metadata": {},
   "outputs": [],
   "source": [
    "def calc_min_max_avg (df, var, sortby='Date', dropped_columns=[]):\n",
    "    \"\"\"\n",
    "    Add columns with average, min, max of a variable in a dataframe, and remove all unnecessary columns.\n",
    "    It is assumed there is a date or datetime column by which rows will be sorted.\n",
    "    \"\"\"\n",
    "    df_agg = df.copy().drop(columns = dropped_columns)\n",
    "    df_agg = df_agg.sort_values(by=sortby).reset_index().drop(columns = ['index'])\n",
    "    df_agg[var+'_Min'] = df_agg.groupby(sortby)[var].transform(min)\n",
    "    df_agg[var+'_Max'] = df_agg.groupby(sortby)[var].transform(max)\n",
    "    q25, q50, q75 = [df_agg.groupby(sortby)[var].quantile([q]).transpose().values.tolist() for q in [.25, .50, .75]]\n",
    "    df_agg = df_agg.drop(columns = [var]).drop_duplicates().reset_index().drop(columns = ['index'])\n",
    "    df_agg[var+'_q25'], df_agg[var+'_q50'], df_agg[var+'_q75'] = q25, q50, q75\n",
    "    return df_agg\n",
    "\n",
    "features_agg = calc_min_max_avg(features, \n",
    "                                'Fuel_Price', \n",
    "                                'Date', \n",
    "                                ['Temperature', 'Store', 'MarkDown1', 'MarkDown2', \n",
    "                                     'MarkDown3', 'MarkDown4', 'MarkDown5', 'CPI', 'Unemployment'])\n",
    "features_agg2 = calc_min_max_avg(features, \n",
    "                                'CPI', \n",
    "                                'Date', \n",
    "                                ['Temperature', 'Store', 'MarkDown1', 'MarkDown2', \n",
    "                                     'MarkDown3', 'MarkDown4', 'MarkDown5', 'Fuel_Price', 'Unemployment'])\n",
    "features_agg3 = calc_min_max_avg(features, \n",
    "                                'Unemployment', \n",
    "                                'Date', \n",
    "                                ['Temperature', 'Store', 'MarkDown1', 'MarkDown2', \n",
    "                                     'MarkDown3', 'MarkDown4', 'MarkDown5', 'Fuel_Price', 'CPI'])\n",
    "sales_agg = calc_min_max_avg(sales, \n",
    "                             'Weekly_Sales', \n",
    "                             'Date', \n",
    "                             ['Store', 'Dept'])\n"
   ]
  },
  {
   "cell_type": "code",
   "execution_count": 16,
   "metadata": {},
   "outputs": [
    {
     "data": {
      "text/html": [
       "        <script type=\"text/javascript\">\n",
       "        window.PlotlyConfig = {MathJaxConfig: 'local'};\n",
       "        if (window.MathJax) {MathJax.Hub.Config({SVG: {font: \"STIX-Web\"}});}\n",
       "        if (typeof require !== 'undefined') {\n",
       "        require.undef(\"plotly\");\n",
       "        requirejs.config({\n",
       "            paths: {\n",
       "                'plotly': ['https://cdn.plot.ly/plotly-latest.min']\n",
       "            }\n",
       "        });\n",
       "        require(['plotly'], function(Plotly) {\n",
       "            window._Plotly = Plotly;\n",
       "        });\n",
       "        }\n",
       "        </script>\n",
       "        "
      ]
     },
     "metadata": {},
     "output_type": "display_data"
    }
   ],
   "source": [
    "import plotly.graph_objs as go\n",
    "from plotly.offline import download_plotlyjs, init_notebook_mode, plot, iplot\n",
    "init_notebook_mode(connected=True)\n",
    "    \n",
    "def plot_min_max_avg (df, var, sortby='Date', title='', mode='all'):\n",
    "    \"\"\"\n",
    "    Using plotly, chart what was calculated with calc_min_max_avg\n",
    "    modes: all or mean (will only plot the mean)\n",
    "    \"\"\"\n",
    "    x = df[sortby]\n",
    "    series = list()\n",
    "    if mode == 'all':\n",
    "        series.append(go.Scatter(x=x, y=df[var+'_Min'], name = \"Min\", line = dict(color = 'green'), opacity = 0.4))\n",
    "        series.append(go.Scatter(x=x, y=df[var+'_q25'], name = \"q25\", line = dict(color = 'blue'), opacity = 0.4))\n",
    "        series.append(go.Scatter(x=x, y=df[var+'_q50'], name = \"q50\", line = dict(color = 'blue'), opacity = 0.4))\n",
    "        series.append(go.Scatter(x=x, y=df[var+'_q75'], name = \"q75\", line = dict(color = 'blue'), opacity = 0.4))\n",
    "        series.append(go.Scatter(x=x, y=df[var+'_Max'], name = \"Max\", line = dict(color = 'red'), opacity = 0.4))\n",
    "        layout = dict(title='Min, Mean, and Max of '+var+'{0}'.format(title))\n",
    "    elif mode == 'mean':\n",
    "        series.append(go.Scatter(x=x, y=df[var+'_q50'], name = \"q50\", line = dict(color = 'blue'), opacity = 0.4))\n",
    "        layout = dict(title='Mean of '+var+'{0}'.format(title))\n",
    "    fig = dict(data=series, layout=layout)\n",
    "    iplot(fig)"
   ]
  },
  {
   "cell_type": "code",
   "execution_count": 17,
   "metadata": {},
   "outputs": [
    {
     "data": {
      "application/vnd.plotly.v1+json": {
       "config": {
        "linkText": "Export to plot.ly",
        "plotlyServerURL": "https://plot.ly",
        "showLink": false
       },
       "data": [
        {
         "line": {
          "color": "green"
         },
         "name": "Min",
         "opacity": 0.4,
         "type": "scatter",
         "x": [
          "2010-01-10T00:00:00",
          "2010-02-04T00:00:00",
          "2010-02-07T00:00:00",
          "2010-02-19T00:00:00",
          "2010-02-26T00:00:00",
          "2010-03-09T00:00:00",
          "2010-03-12T00:00:00",
          "2010-03-19T00:00:00",
          "2010-03-26T00:00:00",
          "2010-04-06T00:00:00",
          "2010-04-16T00:00:00",
          "2010-04-23T00:00:00",
          "2010-04-30T00:00:00",
          "2010-05-02T00:00:00",
          "2010-05-03T00:00:00",
          "2010-05-11T00:00:00",
          "2010-05-14T00:00:00",
          "2010-05-21T00:00:00",
          "2010-05-28T00:00:00",
          "2010-06-08T00:00:00",
          "2010-06-18T00:00:00",
          "2010-06-25T00:00:00",
          "2010-07-05T00:00:00",
          "2010-07-16T00:00:00",
          "2010-07-23T00:00:00",
          "2010-07-30T00:00:00",
          "2010-08-10T00:00:00",
          "2010-08-13T00:00:00",
          "2010-08-20T00:00:00",
          "2010-08-27T00:00:00",
          "2010-09-04T00:00:00",
          "2010-09-07T00:00:00",
          "2010-09-17T00:00:00",
          "2010-09-24T00:00:00",
          "2010-10-09T00:00:00",
          "2010-10-12T00:00:00",
          "2010-10-15T00:00:00",
          "2010-10-22T00:00:00",
          "2010-10-29T00:00:00",
          "2010-11-06T00:00:00",
          "2010-11-19T00:00:00",
          "2010-11-26T00:00:00",
          "2010-12-02T00:00:00",
          "2010-12-03T00:00:00",
          "2010-12-11T00:00:00",
          "2010-12-17T00:00:00",
          "2010-12-24T00:00:00",
          "2010-12-31T00:00:00",
          "2011-01-04T00:00:00",
          "2011-01-07T00:00:00",
          "2011-01-14T00:00:00",
          "2011-01-21T00:00:00",
          "2011-01-28T00:00:00",
          "2011-02-09T00:00:00",
          "2011-02-12T00:00:00",
          "2011-02-18T00:00:00",
          "2011-02-25T00:00:00",
          "2011-03-06T00:00:00",
          "2011-03-18T00:00:00",
          "2011-03-25T00:00:00",
          "2011-04-02T00:00:00",
          "2011-04-03T00:00:00",
          "2011-04-11T00:00:00",
          "2011-04-15T00:00:00",
          "2011-04-22T00:00:00",
          "2011-04-29T00:00:00",
          "2011-05-08T00:00:00",
          "2011-05-13T00:00:00",
          "2011-05-20T00:00:00",
          "2011-05-27T00:00:00",
          "2011-06-05T00:00:00",
          "2011-06-17T00:00:00",
          "2011-06-24T00:00:00",
          "2011-07-01T00:00:00",
          "2011-07-10T00:00:00",
          "2011-07-15T00:00:00",
          "2011-07-22T00:00:00",
          "2011-07-29T00:00:00",
          "2011-08-04T00:00:00",
          "2011-08-07T00:00:00",
          "2011-08-19T00:00:00",
          "2011-08-26T00:00:00",
          "2011-09-09T00:00:00",
          "2011-09-12T00:00:00",
          "2011-09-16T00:00:00",
          "2011-09-23T00:00:00",
          "2011-09-30T00:00:00",
          "2011-10-06T00:00:00",
          "2011-10-14T00:00:00",
          "2011-10-21T00:00:00",
          "2011-10-28T00:00:00",
          "2011-11-02T00:00:00",
          "2011-11-03T00:00:00",
          "2011-11-11T00:00:00",
          "2011-11-18T00:00:00",
          "2011-11-25T00:00:00",
          "2011-12-08T00:00:00",
          "2011-12-16T00:00:00",
          "2011-12-23T00:00:00",
          "2011-12-30T00:00:00",
          "2012-01-06T00:00:00",
          "2012-01-13T00:00:00",
          "2012-01-20T00:00:00",
          "2012-01-27T00:00:00",
          "2012-02-03T00:00:00",
          "2012-02-11T00:00:00",
          "2012-02-17T00:00:00",
          "2012-02-24T00:00:00",
          "2012-03-02T00:00:00",
          "2012-03-08T00:00:00",
          "2012-03-16T00:00:00",
          "2012-03-23T00:00:00",
          "2012-03-30T00:00:00",
          "2012-04-05T00:00:00",
          "2012-04-13T00:00:00",
          "2012-04-20T00:00:00",
          "2012-04-27T00:00:00",
          "2012-05-10T00:00:00",
          "2012-05-18T00:00:00",
          "2012-05-25T00:00:00",
          "2012-06-01T00:00:00",
          "2012-06-04T00:00:00",
          "2012-06-07T00:00:00",
          "2012-06-15T00:00:00",
          "2012-06-22T00:00:00",
          "2012-06-29T00:00:00",
          "2012-07-09T00:00:00",
          "2012-07-12T00:00:00",
          "2012-07-13T00:00:00",
          "2012-07-20T00:00:00",
          "2012-07-27T00:00:00",
          "2012-08-06T00:00:00",
          "2012-08-17T00:00:00",
          "2012-08-24T00:00:00",
          "2012-08-31T00:00:00",
          "2012-09-03T00:00:00",
          "2012-09-11T00:00:00",
          "2012-09-14T00:00:00",
          "2012-09-21T00:00:00",
          "2012-09-28T00:00:00",
          "2012-10-02T00:00:00",
          "2012-10-08T00:00:00",
          "2012-10-19T00:00:00",
          "2012-10-26T00:00:00",
          "2012-11-05T00:00:00",
          "2012-11-16T00:00:00",
          "2012-11-23T00:00:00",
          "2012-11-30T00:00:00",
          "2012-12-10T00:00:00",
          "2012-12-14T00:00:00",
          "2012-12-21T00:00:00",
          "2012-12-28T00:00:00",
          "2013-01-02T00:00:00",
          "2013-01-03T00:00:00",
          "2013-01-18T00:00:00",
          "2013-01-25T00:00:00",
          "2013-02-15T00:00:00",
          "2013-02-22T00:00:00",
          "2013-03-05T00:00:00",
          "2013-03-15T00:00:00",
          "2013-03-22T00:00:00",
          "2013-03-29T00:00:00",
          "2013-04-01T00:00:00",
          "2013-04-19T00:00:00",
          "2013-04-26T00:00:00",
          "2013-05-04T00:00:00",
          "2013-05-07T00:00:00",
          "2013-05-17T00:00:00",
          "2013-05-24T00:00:00",
          "2013-05-31T00:00:00",
          "2013-06-14T00:00:00",
          "2013-06-21T00:00:00",
          "2013-06-28T00:00:00",
          "2013-07-06T00:00:00",
          "2013-07-19T00:00:00",
          "2013-07-26T00:00:00",
          "2013-08-02T00:00:00",
          "2013-08-03T00:00:00",
          "2013-10-05T00:00:00",
          "2013-11-01T00:00:00",
          "2013-12-04T00:00:00",
          "2013-12-07T00:00:00"
         ],
         "y": [
          2.5669999999999997,
          2.708,
          2.6060000000000003,
          2.472,
          2.52,
          2.533,
          2.694,
          2.6919999999999997,
          2.7110000000000003,
          2.6639999999999997,
          2.765,
          2.762,
          2.725,
          2.545,
          2.574,
          2.655,
          2.7880000000000003,
          2.767,
          2.716,
          2.573,
          2.572,
          2.6010000000000004,
          2.7710000000000004,
          2.5610000000000004,
          2.542,
          2.602,
          2.595,
          2.6439999999999997,
          2.6039999999999996,
          2.562,
          2.7430000000000003,
          2.596,
          2.55,
          2.5780000000000003,
          2.513,
          2.728,
          2.705,
          2.698,
          2.68,
          2.615,
          2.741,
          2.725,
          2.539,
          2.6189999999999998,
          2.705,
          2.778,
          2.781,
          2.8289999999999997,
          3.4610000000000003,
          3.502,
          2.903,
          2.9339999999999997,
          2.96,
          3.4810000000000003,
          3.1639999999999997,
          3.017,
          3.053,
          3.6830000000000003,
          3.406,
          3.4139999999999997,
          2.9739999999999998,
          3.23,
          3.287,
          3.611,
          3.636,
          3.6630000000000003,
          3.554,
          3.767,
          3.802,
          3.7710000000000004,
          3.735,
          3.5989999999999998,
          3.569,
          2.8819999999999997,
          3.262,
          3.532,
          3.545,
          3.5469999999999997,
          3.532,
          3.44,
          3.4989999999999997,
          3.485,
          3.4989999999999997,
          3.147,
          3.4730000000000003,
          3.4410000000000003,
          3.3280000000000003,
          3.633,
          3.234,
          3.3080000000000003,
          3.306,
          3.009,
          3.346,
          3.2539999999999996,
          3.26,
          3.181,
          3.542,
          3.133,
          3.0980000000000003,
          3.1189999999999998,
          3.483,
          3.056,
          3.0469999999999997,
          3.0380000000000003,
          3.1910000000000003,
          3.386,
          3.113,
          3.1289999999999996,
          3.031,
          3.3739999999999997,
          3.486,
          3.6639999999999997,
          3.734,
          3.747,
          3.833,
          3.845,
          3.81,
          3.611,
          3.62,
          3.551,
          3.08,
          3.793,
          3.187,
          3.372,
          3.3289999999999997,
          3.2569999999999997,
          3.596,
          3.198,
          3.2239999999999998,
          3.263,
          3.3560000000000003,
          3.4330000000000003,
          3.545,
          3.5580000000000003,
          3.556,
          3.286,
          3.313,
          3.659,
          3.7089999999999996,
          3.66,
          3.103,
          3.4760000000000004,
          3.57,
          3.4939999999999998,
          3.685,
          3.2430000000000003,
          3.21,
          3.207,
          3.576,
          3.168,
          3.092,
          3.108,
          2.998,
          3.5210000000000004,
          2.889,
          2.872,
          3.323,
          3.4589999999999996,
          3.3689999999999998,
          3.5180000000000002,
          3.5180000000000002,
          3.5180000000000002,
          3.034,
          3.4360000000000004,
          3.397,
          3.5469999999999997,
          3.385,
          3.437,
          3.4530000000000003,
          3.437,
          3.412,
          3.428,
          3.428,
          3.4130000000000003,
          3.5069999999999997,
          3.58,
          3.1919999999999997,
          3.5260000000000002,
          3.3710000000000004,
          2.957,
          3.5039999999999996,
          3.3680000000000003
         ]
        },
        {
         "line": {
          "color": "blue"
         },
         "name": "q25",
         "opacity": 0.4,
         "type": "scatter",
         "x": [
          "2010-01-10T00:00:00",
          "2010-02-04T00:00:00",
          "2010-02-07T00:00:00",
          "2010-02-19T00:00:00",
          "2010-02-26T00:00:00",
          "2010-03-09T00:00:00",
          "2010-03-12T00:00:00",
          "2010-03-19T00:00:00",
          "2010-03-26T00:00:00",
          "2010-04-06T00:00:00",
          "2010-04-16T00:00:00",
          "2010-04-23T00:00:00",
          "2010-04-30T00:00:00",
          "2010-05-02T00:00:00",
          "2010-05-03T00:00:00",
          "2010-05-11T00:00:00",
          "2010-05-14T00:00:00",
          "2010-05-21T00:00:00",
          "2010-05-28T00:00:00",
          "2010-06-08T00:00:00",
          "2010-06-18T00:00:00",
          "2010-06-25T00:00:00",
          "2010-07-05T00:00:00",
          "2010-07-16T00:00:00",
          "2010-07-23T00:00:00",
          "2010-07-30T00:00:00",
          "2010-08-10T00:00:00",
          "2010-08-13T00:00:00",
          "2010-08-20T00:00:00",
          "2010-08-27T00:00:00",
          "2010-09-04T00:00:00",
          "2010-09-07T00:00:00",
          "2010-09-17T00:00:00",
          "2010-09-24T00:00:00",
          "2010-10-09T00:00:00",
          "2010-10-12T00:00:00",
          "2010-10-15T00:00:00",
          "2010-10-22T00:00:00",
          "2010-10-29T00:00:00",
          "2010-11-06T00:00:00",
          "2010-11-19T00:00:00",
          "2010-11-26T00:00:00",
          "2010-12-02T00:00:00",
          "2010-12-03T00:00:00",
          "2010-12-11T00:00:00",
          "2010-12-17T00:00:00",
          "2010-12-24T00:00:00",
          "2010-12-31T00:00:00",
          "2011-01-04T00:00:00",
          "2011-01-07T00:00:00",
          "2011-01-14T00:00:00",
          "2011-01-21T00:00:00",
          "2011-01-28T00:00:00",
          "2011-02-09T00:00:00",
          "2011-02-12T00:00:00",
          "2011-02-18T00:00:00",
          "2011-02-25T00:00:00",
          "2011-03-06T00:00:00",
          "2011-03-18T00:00:00",
          "2011-03-25T00:00:00",
          "2011-04-02T00:00:00",
          "2011-04-03T00:00:00",
          "2011-04-11T00:00:00",
          "2011-04-15T00:00:00",
          "2011-04-22T00:00:00",
          "2011-04-29T00:00:00",
          "2011-05-08T00:00:00",
          "2011-05-13T00:00:00",
          "2011-05-20T00:00:00",
          "2011-05-27T00:00:00",
          "2011-06-05T00:00:00",
          "2011-06-17T00:00:00",
          "2011-06-24T00:00:00",
          "2011-07-01T00:00:00",
          "2011-07-10T00:00:00",
          "2011-07-15T00:00:00",
          "2011-07-22T00:00:00",
          "2011-07-29T00:00:00",
          "2011-08-04T00:00:00",
          "2011-08-07T00:00:00",
          "2011-08-19T00:00:00",
          "2011-08-26T00:00:00",
          "2011-09-09T00:00:00",
          "2011-09-12T00:00:00",
          "2011-09-16T00:00:00",
          "2011-09-23T00:00:00",
          "2011-09-30T00:00:00",
          "2011-10-06T00:00:00",
          "2011-10-14T00:00:00",
          "2011-10-21T00:00:00",
          "2011-10-28T00:00:00",
          "2011-11-02T00:00:00",
          "2011-11-03T00:00:00",
          "2011-11-11T00:00:00",
          "2011-11-18T00:00:00",
          "2011-11-25T00:00:00",
          "2011-12-08T00:00:00",
          "2011-12-16T00:00:00",
          "2011-12-23T00:00:00",
          "2011-12-30T00:00:00",
          "2012-01-06T00:00:00",
          "2012-01-13T00:00:00",
          "2012-01-20T00:00:00",
          "2012-01-27T00:00:00",
          "2012-02-03T00:00:00",
          "2012-02-11T00:00:00",
          "2012-02-17T00:00:00",
          "2012-02-24T00:00:00",
          "2012-03-02T00:00:00",
          "2012-03-08T00:00:00",
          "2012-03-16T00:00:00",
          "2012-03-23T00:00:00",
          "2012-03-30T00:00:00",
          "2012-04-05T00:00:00",
          "2012-04-13T00:00:00",
          "2012-04-20T00:00:00",
          "2012-04-27T00:00:00",
          "2012-05-10T00:00:00",
          "2012-05-18T00:00:00",
          "2012-05-25T00:00:00",
          "2012-06-01T00:00:00",
          "2012-06-04T00:00:00",
          "2012-06-07T00:00:00",
          "2012-06-15T00:00:00",
          "2012-06-22T00:00:00",
          "2012-06-29T00:00:00",
          "2012-07-09T00:00:00",
          "2012-07-12T00:00:00",
          "2012-07-13T00:00:00",
          "2012-07-20T00:00:00",
          "2012-07-27T00:00:00",
          "2012-08-06T00:00:00",
          "2012-08-17T00:00:00",
          "2012-08-24T00:00:00",
          "2012-08-31T00:00:00",
          "2012-09-03T00:00:00",
          "2012-09-11T00:00:00",
          "2012-09-14T00:00:00",
          "2012-09-21T00:00:00",
          "2012-09-28T00:00:00",
          "2012-10-02T00:00:00",
          "2012-10-08T00:00:00",
          "2012-10-19T00:00:00",
          "2012-10-26T00:00:00",
          "2012-11-05T00:00:00",
          "2012-11-16T00:00:00",
          "2012-11-23T00:00:00",
          "2012-11-30T00:00:00",
          "2012-12-10T00:00:00",
          "2012-12-14T00:00:00",
          "2012-12-21T00:00:00",
          "2012-12-28T00:00:00",
          "2013-01-02T00:00:00",
          "2013-01-03T00:00:00",
          "2013-01-18T00:00:00",
          "2013-01-25T00:00:00",
          "2013-02-15T00:00:00",
          "2013-02-22T00:00:00",
          "2013-03-05T00:00:00",
          "2013-03-15T00:00:00",
          "2013-03-22T00:00:00",
          "2013-03-29T00:00:00",
          "2013-04-01T00:00:00",
          "2013-04-19T00:00:00",
          "2013-04-26T00:00:00",
          "2013-05-04T00:00:00",
          "2013-05-07T00:00:00",
          "2013-05-17T00:00:00",
          "2013-05-24T00:00:00",
          "2013-05-31T00:00:00",
          "2013-06-14T00:00:00",
          "2013-06-21T00:00:00",
          "2013-06-28T00:00:00",
          "2013-07-06T00:00:00",
          "2013-07-19T00:00:00",
          "2013-07-26T00:00:00",
          "2013-08-02T00:00:00",
          "2013-08-03T00:00:00",
          "2013-10-05T00:00:00",
          "2013-11-01T00:00:00",
          "2013-12-04T00:00:00",
          "2013-12-07T00:00:00"
         ],
         "y": [
          2.603,
          2.719,
          2.6689999999999996,
          2.5140000000000002,
          2.5610000000000004,
          2.577,
          2.708,
          2.72,
          2.7319999999999998,
          2.705,
          2.8080000000000003,
          2.795,
          2.78,
          2.572,
          2.625,
          2.6889999999999996,
          2.8539999999999996,
          2.826,
          2.759,
          2.627,
          2.637,
          2.653,
          2.835,
          2.623,
          2.608,
          2.64,
          2.633,
          2.6919999999999997,
          2.6639999999999997,
          2.6189999999999998,
          2.77,
          2.642,
          2.582,
          2.6239999999999997,
          2.565,
          2.843,
          2.72,
          2.725,
          2.716,
          2.668,
          2.7710000000000004,
          2.735,
          2.548,
          2.667,
          2.728,
          2.8689999999999998,
          2.886,
          2.943,
          3.5239999999999996,
          3.5239999999999996,
          2.983,
          3.016,
          3.01,
          3.533,
          3.1719999999999997,
          3.045,
          3.065,
          3.699,
          3.488,
          3.4730000000000003,
          2.989,
          3.2880000000000003,
          3.332,
          3.7430000000000003,
          3.807,
          3.81,
          3.6839999999999997,
          3.8989999999999996,
          3.907,
          3.786,
          3.906,
          3.637,
          3.594,
          2.9760000000000004,
          3.285,
          3.575,
          3.6510000000000002,
          3.682,
          3.622,
          3.48,
          3.554,
          3.523,
          3.5460000000000003,
          3.158,
          3.5260000000000002,
          3.467,
          3.355,
          3.648,
          3.2739999999999996,
          3.353,
          3.372,
          3.022,
          3.4589999999999996,
          3.2969999999999997,
          3.3080000000000003,
          3.236,
          3.638,
          3.159,
          3.112,
          3.1289999999999996,
          3.5010000000000003,
          3.261,
          3.2680000000000002,
          3.29,
          3.63,
          3.386,
          3.51,
          3.555,
          3.36,
          3.417,
          3.734,
          3.787,
          3.845,
          3.7489999999999997,
          3.891,
          3.877,
          3.8139999999999996,
          3.617,
          3.63,
          3.5610000000000004,
          3.157,
          3.891,
          3.227,
          3.3930000000000002,
          3.346,
          3.286,
          3.73,
          3.198,
          3.2560000000000002,
          3.3110000000000004,
          3.407,
          3.452,
          3.571,
          3.62,
          3.638,
          3.6689999999999996,
          3.3139999999999996,
          3.717,
          3.721,
          3.6660000000000004,
          3.409,
          3.4939999999999998,
          3.594,
          3.5060000000000002,
          3.688,
          3.252,
          3.2110000000000003,
          3.207,
          3.6010000000000004,
          3.168,
          3.0980000000000003,
          3.108,
          3.2439999999999998,
          3.7110000000000003,
          3.237,
          3.227,
          3.475,
          3.597,
          3.386,
          3.622,
          3.611,
          3.6060000000000003,
          3.161,
          3.451,
          3.417,
          3.583,
          3.4219999999999997,
          3.4539999999999997,
          3.4939999999999998,
          3.466,
          3.431,
          3.4789999999999996,
          3.495,
          3.4389999999999996,
          3.556,
          3.62,
          3.417,
          3.658,
          3.392,
          3.2430000000000003,
          3.529,
          3.4
         ]
        },
        {
         "line": {
          "color": "blue"
         },
         "name": "q50",
         "opacity": 0.4,
         "type": "scatter",
         "x": [
          "2010-01-10T00:00:00",
          "2010-02-04T00:00:00",
          "2010-02-07T00:00:00",
          "2010-02-19T00:00:00",
          "2010-02-26T00:00:00",
          "2010-03-09T00:00:00",
          "2010-03-12T00:00:00",
          "2010-03-19T00:00:00",
          "2010-03-26T00:00:00",
          "2010-04-06T00:00:00",
          "2010-04-16T00:00:00",
          "2010-04-23T00:00:00",
          "2010-04-30T00:00:00",
          "2010-05-02T00:00:00",
          "2010-05-03T00:00:00",
          "2010-05-11T00:00:00",
          "2010-05-14T00:00:00",
          "2010-05-21T00:00:00",
          "2010-05-28T00:00:00",
          "2010-06-08T00:00:00",
          "2010-06-18T00:00:00",
          "2010-06-25T00:00:00",
          "2010-07-05T00:00:00",
          "2010-07-16T00:00:00",
          "2010-07-23T00:00:00",
          "2010-07-30T00:00:00",
          "2010-08-10T00:00:00",
          "2010-08-13T00:00:00",
          "2010-08-20T00:00:00",
          "2010-08-27T00:00:00",
          "2010-09-04T00:00:00",
          "2010-09-07T00:00:00",
          "2010-09-17T00:00:00",
          "2010-09-24T00:00:00",
          "2010-10-09T00:00:00",
          "2010-10-12T00:00:00",
          "2010-10-15T00:00:00",
          "2010-10-22T00:00:00",
          "2010-10-29T00:00:00",
          "2010-11-06T00:00:00",
          "2010-11-19T00:00:00",
          "2010-11-26T00:00:00",
          "2010-12-02T00:00:00",
          "2010-12-03T00:00:00",
          "2010-12-11T00:00:00",
          "2010-12-17T00:00:00",
          "2010-12-24T00:00:00",
          "2010-12-31T00:00:00",
          "2011-01-04T00:00:00",
          "2011-01-07T00:00:00",
          "2011-01-14T00:00:00",
          "2011-01-21T00:00:00",
          "2011-01-28T00:00:00",
          "2011-02-09T00:00:00",
          "2011-02-12T00:00:00",
          "2011-02-18T00:00:00",
          "2011-02-25T00:00:00",
          "2011-03-06T00:00:00",
          "2011-03-18T00:00:00",
          "2011-03-25T00:00:00",
          "2011-04-02T00:00:00",
          "2011-04-03T00:00:00",
          "2011-04-11T00:00:00",
          "2011-04-15T00:00:00",
          "2011-04-22T00:00:00",
          "2011-04-29T00:00:00",
          "2011-05-08T00:00:00",
          "2011-05-13T00:00:00",
          "2011-05-20T00:00:00",
          "2011-05-27T00:00:00",
          "2011-06-05T00:00:00",
          "2011-06-17T00:00:00",
          "2011-06-24T00:00:00",
          "2011-07-01T00:00:00",
          "2011-07-10T00:00:00",
          "2011-07-15T00:00:00",
          "2011-07-22T00:00:00",
          "2011-07-29T00:00:00",
          "2011-08-04T00:00:00",
          "2011-08-07T00:00:00",
          "2011-08-19T00:00:00",
          "2011-08-26T00:00:00",
          "2011-09-09T00:00:00",
          "2011-09-12T00:00:00",
          "2011-09-16T00:00:00",
          "2011-09-23T00:00:00",
          "2011-09-30T00:00:00",
          "2011-10-06T00:00:00",
          "2011-10-14T00:00:00",
          "2011-10-21T00:00:00",
          "2011-10-28T00:00:00",
          "2011-11-02T00:00:00",
          "2011-11-03T00:00:00",
          "2011-11-11T00:00:00",
          "2011-11-18T00:00:00",
          "2011-11-25T00:00:00",
          "2011-12-08T00:00:00",
          "2011-12-16T00:00:00",
          "2011-12-23T00:00:00",
          "2011-12-30T00:00:00",
          "2012-01-06T00:00:00",
          "2012-01-13T00:00:00",
          "2012-01-20T00:00:00",
          "2012-01-27T00:00:00",
          "2012-02-03T00:00:00",
          "2012-02-11T00:00:00",
          "2012-02-17T00:00:00",
          "2012-02-24T00:00:00",
          "2012-03-02T00:00:00",
          "2012-03-08T00:00:00",
          "2012-03-16T00:00:00",
          "2012-03-23T00:00:00",
          "2012-03-30T00:00:00",
          "2012-04-05T00:00:00",
          "2012-04-13T00:00:00",
          "2012-04-20T00:00:00",
          "2012-04-27T00:00:00",
          "2012-05-10T00:00:00",
          "2012-05-18T00:00:00",
          "2012-05-25T00:00:00",
          "2012-06-01T00:00:00",
          "2012-06-04T00:00:00",
          "2012-06-07T00:00:00",
          "2012-06-15T00:00:00",
          "2012-06-22T00:00:00",
          "2012-06-29T00:00:00",
          "2012-07-09T00:00:00",
          "2012-07-12T00:00:00",
          "2012-07-13T00:00:00",
          "2012-07-20T00:00:00",
          "2012-07-27T00:00:00",
          "2012-08-06T00:00:00",
          "2012-08-17T00:00:00",
          "2012-08-24T00:00:00",
          "2012-08-31T00:00:00",
          "2012-09-03T00:00:00",
          "2012-09-11T00:00:00",
          "2012-09-14T00:00:00",
          "2012-09-21T00:00:00",
          "2012-09-28T00:00:00",
          "2012-10-02T00:00:00",
          "2012-10-08T00:00:00",
          "2012-10-19T00:00:00",
          "2012-10-26T00:00:00",
          "2012-11-05T00:00:00",
          "2012-11-16T00:00:00",
          "2012-11-23T00:00:00",
          "2012-11-30T00:00:00",
          "2012-12-10T00:00:00",
          "2012-12-14T00:00:00",
          "2012-12-21T00:00:00",
          "2012-12-28T00:00:00",
          "2013-01-02T00:00:00",
          "2013-01-03T00:00:00",
          "2013-01-18T00:00:00",
          "2013-01-25T00:00:00",
          "2013-02-15T00:00:00",
          "2013-02-22T00:00:00",
          "2013-03-05T00:00:00",
          "2013-03-15T00:00:00",
          "2013-03-22T00:00:00",
          "2013-03-29T00:00:00",
          "2013-04-01T00:00:00",
          "2013-04-19T00:00:00",
          "2013-04-26T00:00:00",
          "2013-05-04T00:00:00",
          "2013-05-07T00:00:00",
          "2013-05-17T00:00:00",
          "2013-05-24T00:00:00",
          "2013-05-31T00:00:00",
          "2013-06-14T00:00:00",
          "2013-06-21T00:00:00",
          "2013-06-28T00:00:00",
          "2013-07-06T00:00:00",
          "2013-07-19T00:00:00",
          "2013-07-26T00:00:00",
          "2013-08-02T00:00:00",
          "2013-08-03T00:00:00",
          "2013-10-05T00:00:00",
          "2013-11-01T00:00:00",
          "2013-12-04T00:00:00",
          "2013-12-07T00:00:00"
         ],
         "y": [
          2.717,
          2.826,
          2.8139999999999996,
          2.654,
          2.667,
          2.735,
          2.812,
          2.782,
          2.819,
          2.847,
          2.885,
          2.895,
          2.9210000000000003,
          2.6660000000000004,
          2.681,
          2.8310000000000004,
          2.9619999999999997,
          2.95,
          2.8989999999999996,
          2.784,
          2.78,
          2.8080000000000003,
          2.948,
          2.783,
          2.7710000000000004,
          2.781,
          2.764,
          2.805,
          2.779,
          2.755,
          2.8489999999999998,
          2.793,
          2.716,
          2.718,
          2.717,
          2.86,
          2.845,
          2.8489999999999998,
          2.841,
          2.8089999999999997,
          2.842,
          2.83,
          2.6710000000000003,
          2.733,
          2.8310000000000004,
          2.884,
          2.887,
          2.955,
          3.5239999999999996,
          3.613,
          2.992,
          3.017,
          3.022,
          3.58,
          3.389,
          3.062,
          3.12,
          3.763,
          3.495,
          3.48,
          3.011,
          3.305,
          3.5380000000000003,
          3.7430000000000003,
          3.807,
          3.81,
          3.6839999999999997,
          3.8989999999999996,
          3.907,
          3.795,
          3.906,
          3.7039999999999997,
          3.668,
          2.98,
          3.583,
          3.575,
          3.6510000000000002,
          3.682,
          3.622,
          3.563,
          3.5780000000000003,
          3.57,
          3.6189999999999998,
          3.341,
          3.641,
          3.648,
          3.623,
          3.735,
          3.5410000000000004,
          3.57,
          3.5669999999999997,
          3.037,
          3.4610000000000003,
          3.513,
          3.489,
          3.445,
          3.638,
          3.282,
          3.1860000000000004,
          3.1289999999999996,
          3.764,
          3.263,
          3.273,
          3.29,
          3.63,
          3.702,
          3.51,
          3.555,
          3.36,
          3.528,
          3.734,
          3.787,
          3.845,
          3.903,
          3.9010000000000002,
          3.9360000000000004,
          3.927,
          3.815,
          3.8369999999999997,
          3.801,
          3.158,
          3.891,
          3.5380000000000003,
          3.6830000000000003,
          3.6289999999999996,
          3.577,
          3.73,
          3.4560000000000004,
          3.5610000000000004,
          3.5669999999999997,
          3.57,
          3.741,
          3.571,
          3.62,
          3.6460000000000004,
          3.6689999999999996,
          3.6630000000000003,
          3.7489999999999997,
          3.821,
          3.821,
          3.411,
          3.509,
          3.781,
          3.755,
          3.87,
          3.612,
          3.562,
          3.5239999999999996,
          3.7969999999999997,
          3.3789999999999996,
          3.263,
          3.147,
          3.2439999999999998,
          3.7110000000000003,
          3.237,
          3.227,
          3.475,
          3.602,
          3.573,
          3.622,
          3.611,
          3.6060000000000003,
          3.177,
          3.603,
          3.568,
          3.633,
          3.637,
          3.614,
          3.654,
          3.668,
          3.667,
          3.673,
          3.673,
          3.66,
          3.665,
          3.6689999999999996,
          3.417,
          3.658,
          3.583,
          3.2430000000000003,
          3.642,
          3.614
         ]
        },
        {
         "line": {
          "color": "blue"
         },
         "name": "q75",
         "opacity": 0.4,
         "type": "scatter",
         "x": [
          "2010-01-10T00:00:00",
          "2010-02-04T00:00:00",
          "2010-02-07T00:00:00",
          "2010-02-19T00:00:00",
          "2010-02-26T00:00:00",
          "2010-03-09T00:00:00",
          "2010-03-12T00:00:00",
          "2010-03-19T00:00:00",
          "2010-03-26T00:00:00",
          "2010-04-06T00:00:00",
          "2010-04-16T00:00:00",
          "2010-04-23T00:00:00",
          "2010-04-30T00:00:00",
          "2010-05-02T00:00:00",
          "2010-05-03T00:00:00",
          "2010-05-11T00:00:00",
          "2010-05-14T00:00:00",
          "2010-05-21T00:00:00",
          "2010-05-28T00:00:00",
          "2010-06-08T00:00:00",
          "2010-06-18T00:00:00",
          "2010-06-25T00:00:00",
          "2010-07-05T00:00:00",
          "2010-07-16T00:00:00",
          "2010-07-23T00:00:00",
          "2010-07-30T00:00:00",
          "2010-08-10T00:00:00",
          "2010-08-13T00:00:00",
          "2010-08-20T00:00:00",
          "2010-08-27T00:00:00",
          "2010-09-04T00:00:00",
          "2010-09-07T00:00:00",
          "2010-09-17T00:00:00",
          "2010-09-24T00:00:00",
          "2010-10-09T00:00:00",
          "2010-10-12T00:00:00",
          "2010-10-15T00:00:00",
          "2010-10-22T00:00:00",
          "2010-10-29T00:00:00",
          "2010-11-06T00:00:00",
          "2010-11-19T00:00:00",
          "2010-11-26T00:00:00",
          "2010-12-02T00:00:00",
          "2010-12-03T00:00:00",
          "2010-12-11T00:00:00",
          "2010-12-17T00:00:00",
          "2010-12-24T00:00:00",
          "2010-12-31T00:00:00",
          "2011-01-04T00:00:00",
          "2011-01-07T00:00:00",
          "2011-01-14T00:00:00",
          "2011-01-21T00:00:00",
          "2011-01-28T00:00:00",
          "2011-02-09T00:00:00",
          "2011-02-12T00:00:00",
          "2011-02-18T00:00:00",
          "2011-02-25T00:00:00",
          "2011-03-06T00:00:00",
          "2011-03-18T00:00:00",
          "2011-03-25T00:00:00",
          "2011-04-02T00:00:00",
          "2011-04-03T00:00:00",
          "2011-04-11T00:00:00",
          "2011-04-15T00:00:00",
          "2011-04-22T00:00:00",
          "2011-04-29T00:00:00",
          "2011-05-08T00:00:00",
          "2011-05-13T00:00:00",
          "2011-05-20T00:00:00",
          "2011-05-27T00:00:00",
          "2011-06-05T00:00:00",
          "2011-06-17T00:00:00",
          "2011-06-24T00:00:00",
          "2011-07-01T00:00:00",
          "2011-07-10T00:00:00",
          "2011-07-15T00:00:00",
          "2011-07-22T00:00:00",
          "2011-07-29T00:00:00",
          "2011-08-04T00:00:00",
          "2011-08-07T00:00:00",
          "2011-08-19T00:00:00",
          "2011-08-26T00:00:00",
          "2011-09-09T00:00:00",
          "2011-09-12T00:00:00",
          "2011-09-16T00:00:00",
          "2011-09-23T00:00:00",
          "2011-09-30T00:00:00",
          "2011-10-06T00:00:00",
          "2011-10-14T00:00:00",
          "2011-10-21T00:00:00",
          "2011-10-28T00:00:00",
          "2011-11-02T00:00:00",
          "2011-11-03T00:00:00",
          "2011-11-11T00:00:00",
          "2011-11-18T00:00:00",
          "2011-11-25T00:00:00",
          "2011-12-08T00:00:00",
          "2011-12-16T00:00:00",
          "2011-12-23T00:00:00",
          "2011-12-30T00:00:00",
          "2012-01-06T00:00:00",
          "2012-01-13T00:00:00",
          "2012-01-20T00:00:00",
          "2012-01-27T00:00:00",
          "2012-02-03T00:00:00",
          "2012-02-11T00:00:00",
          "2012-02-17T00:00:00",
          "2012-02-24T00:00:00",
          "2012-03-02T00:00:00",
          "2012-03-08T00:00:00",
          "2012-03-16T00:00:00",
          "2012-03-23T00:00:00",
          "2012-03-30T00:00:00",
          "2012-04-05T00:00:00",
          "2012-04-13T00:00:00",
          "2012-04-20T00:00:00",
          "2012-04-27T00:00:00",
          "2012-05-10T00:00:00",
          "2012-05-18T00:00:00",
          "2012-05-25T00:00:00",
          "2012-06-01T00:00:00",
          "2012-06-04T00:00:00",
          "2012-06-07T00:00:00",
          "2012-06-15T00:00:00",
          "2012-06-22T00:00:00",
          "2012-06-29T00:00:00",
          "2012-07-09T00:00:00",
          "2012-07-12T00:00:00",
          "2012-07-13T00:00:00",
          "2012-07-20T00:00:00",
          "2012-07-27T00:00:00",
          "2012-08-06T00:00:00",
          "2012-08-17T00:00:00",
          "2012-08-24T00:00:00",
          "2012-08-31T00:00:00",
          "2012-09-03T00:00:00",
          "2012-09-11T00:00:00",
          "2012-09-14T00:00:00",
          "2012-09-21T00:00:00",
          "2012-09-28T00:00:00",
          "2012-10-02T00:00:00",
          "2012-10-08T00:00:00",
          "2012-10-19T00:00:00",
          "2012-10-26T00:00:00",
          "2012-11-05T00:00:00",
          "2012-11-16T00:00:00",
          "2012-11-23T00:00:00",
          "2012-11-30T00:00:00",
          "2012-12-10T00:00:00",
          "2012-12-14T00:00:00",
          "2012-12-21T00:00:00",
          "2012-12-28T00:00:00",
          "2013-01-02T00:00:00",
          "2013-01-03T00:00:00",
          "2013-01-18T00:00:00",
          "2013-01-25T00:00:00",
          "2013-02-15T00:00:00",
          "2013-02-22T00:00:00",
          "2013-03-05T00:00:00",
          "2013-03-15T00:00:00",
          "2013-03-22T00:00:00",
          "2013-03-29T00:00:00",
          "2013-04-01T00:00:00",
          "2013-04-19T00:00:00",
          "2013-04-26T00:00:00",
          "2013-05-04T00:00:00",
          "2013-05-07T00:00:00",
          "2013-05-17T00:00:00",
          "2013-05-24T00:00:00",
          "2013-05-31T00:00:00",
          "2013-06-14T00:00:00",
          "2013-06-21T00:00:00",
          "2013-06-28T00:00:00",
          "2013-07-06T00:00:00",
          "2013-07-19T00:00:00",
          "2013-07-26T00:00:00",
          "2013-08-02T00:00:00",
          "2013-08-03T00:00:00",
          "2013-10-05T00:00:00",
          "2013-11-01T00:00:00",
          "2013-12-04T00:00:00",
          "2013-12-07T00:00:00"
         ],
         "y": [
          2.84,
          2.85,
          2.815,
          2.747,
          2.7539999999999996,
          2.86,
          3.0460000000000003,
          2.844,
          2.8539999999999996,
          2.8710000000000004,
          2.915,
          2.9360000000000004,
          2.9410000000000003,
          2.7880000000000003,
          2.7769999999999997,
          2.938,
          2.983,
          2.9610000000000003,
          2.908,
          2.802,
          2.819,
          2.82,
          2.9810000000000003,
          2.7960000000000003,
          2.7969999999999997,
          2.7969999999999997,
          2.841,
          2.8369999999999997,
          2.85,
          2.8539999999999996,
          2.877,
          2.806,
          2.846,
          2.8369999999999997,
          2.8369999999999997,
          3.1319999999999997,
          2.878,
          2.9189999999999996,
          2.938,
          2.841,
          3.03,
          3.07,
          2.773,
          2.818,
          2.9610000000000003,
          3.14,
          3.15,
          3.177,
          3.638,
          3.815,
          3.215,
          3.2319999999999998,
          3.2430000000000003,
          3.784,
          3.5010000000000003,
          3.263,
          3.281,
          3.9730000000000003,
          3.634,
          3.625,
          3.24,
          3.437,
          3.5860000000000003,
          3.823,
          3.9189999999999996,
          3.988,
          3.842,
          4.095,
          4.101,
          4.034,
          4.078,
          3.873,
          3.8510000000000004,
          3.193,
          3.633,
          3.779,
          3.8110000000000004,
          3.8289999999999997,
          3.72,
          3.784,
          3.747,
          3.74,
          3.8089999999999997,
          3.47,
          3.8089999999999997,
          3.758,
          3.6839999999999997,
          3.924,
          3.583,
          3.6180000000000003,
          3.6039999999999996,
          3.255,
          3.6,
          3.57,
          3.571,
          3.536,
          3.812,
          3.445,
          3.4130000000000003,
          3.4019999999999997,
          3.798,
          3.523,
          3.542,
          3.568,
          3.827,
          3.8169999999999997,
          3.7030000000000003,
          3.7510000000000003,
          3.633,
          3.698,
          3.867,
          3.9,
          3.9530000000000003,
          3.991,
          4.044,
          4.046,
          4.023,
          4.027,
          3.8989999999999996,
          3.85,
          3.4389999999999996,
          3.9960000000000004,
          3.6460000000000004,
          3.7560000000000002,
          3.735,
          3.681,
          3.9210000000000003,
          3.679,
          3.613,
          3.61,
          3.701,
          3.7760000000000002,
          3.84,
          3.8739999999999997,
          3.884,
          3.8760000000000003,
          3.792,
          3.988,
          4.056,
          3.997,
          3.655,
          3.772,
          4,
          3.917,
          3.947,
          3.7539999999999996,
          3.748,
          3.719,
          4.029,
          3.637,
          3.574,
          3.56,
          3.608,
          3.89,
          3.593,
          3.5789999999999997,
          3.8139999999999996,
          3.866,
          3.6010000000000004,
          3.843,
          3.819,
          3.7960000000000003,
          3.577,
          3.678,
          3.6260000000000003,
          3.772,
          3.696,
          3.7030000000000003,
          3.793,
          3.8080000000000003,
          3.7710000000000004,
          3.74,
          3.7260000000000004,
          3.7889999999999997,
          3.803,
          3.865,
          3.755,
          3.8680000000000003,
          3.609,
          3.595,
          3.7239999999999998,
          3.6660000000000004
         ]
        },
        {
         "line": {
          "color": "red"
         },
         "name": "Max",
         "opacity": 0.4,
         "type": "scatter",
         "x": [
          "2010-01-10T00:00:00",
          "2010-02-04T00:00:00",
          "2010-02-07T00:00:00",
          "2010-02-19T00:00:00",
          "2010-02-26T00:00:00",
          "2010-03-09T00:00:00",
          "2010-03-12T00:00:00",
          "2010-03-19T00:00:00",
          "2010-03-26T00:00:00",
          "2010-04-06T00:00:00",
          "2010-04-16T00:00:00",
          "2010-04-23T00:00:00",
          "2010-04-30T00:00:00",
          "2010-05-02T00:00:00",
          "2010-05-03T00:00:00",
          "2010-05-11T00:00:00",
          "2010-05-14T00:00:00",
          "2010-05-21T00:00:00",
          "2010-05-28T00:00:00",
          "2010-06-08T00:00:00",
          "2010-06-18T00:00:00",
          "2010-06-25T00:00:00",
          "2010-07-05T00:00:00",
          "2010-07-16T00:00:00",
          "2010-07-23T00:00:00",
          "2010-07-30T00:00:00",
          "2010-08-10T00:00:00",
          "2010-08-13T00:00:00",
          "2010-08-20T00:00:00",
          "2010-08-27T00:00:00",
          "2010-09-04T00:00:00",
          "2010-09-07T00:00:00",
          "2010-09-17T00:00:00",
          "2010-09-24T00:00:00",
          "2010-10-09T00:00:00",
          "2010-10-12T00:00:00",
          "2010-10-15T00:00:00",
          "2010-10-22T00:00:00",
          "2010-10-29T00:00:00",
          "2010-11-06T00:00:00",
          "2010-11-19T00:00:00",
          "2010-11-26T00:00:00",
          "2010-12-02T00:00:00",
          "2010-12-03T00:00:00",
          "2010-12-11T00:00:00",
          "2010-12-17T00:00:00",
          "2010-12-24T00:00:00",
          "2010-12-31T00:00:00",
          "2011-01-04T00:00:00",
          "2011-01-07T00:00:00",
          "2011-01-14T00:00:00",
          "2011-01-21T00:00:00",
          "2011-01-28T00:00:00",
          "2011-02-09T00:00:00",
          "2011-02-12T00:00:00",
          "2011-02-18T00:00:00",
          "2011-02-25T00:00:00",
          "2011-03-06T00:00:00",
          "2011-03-18T00:00:00",
          "2011-03-25T00:00:00",
          "2011-04-02T00:00:00",
          "2011-04-03T00:00:00",
          "2011-04-11T00:00:00",
          "2011-04-15T00:00:00",
          "2011-04-22T00:00:00",
          "2011-04-29T00:00:00",
          "2011-05-08T00:00:00",
          "2011-05-13T00:00:00",
          "2011-05-20T00:00:00",
          "2011-05-27T00:00:00",
          "2011-06-05T00:00:00",
          "2011-06-17T00:00:00",
          "2011-06-24T00:00:00",
          "2011-07-01T00:00:00",
          "2011-07-10T00:00:00",
          "2011-07-15T00:00:00",
          "2011-07-22T00:00:00",
          "2011-07-29T00:00:00",
          "2011-08-04T00:00:00",
          "2011-08-07T00:00:00",
          "2011-08-19T00:00:00",
          "2011-08-26T00:00:00",
          "2011-09-09T00:00:00",
          "2011-09-12T00:00:00",
          "2011-09-16T00:00:00",
          "2011-09-23T00:00:00",
          "2011-09-30T00:00:00",
          "2011-10-06T00:00:00",
          "2011-10-14T00:00:00",
          "2011-10-21T00:00:00",
          "2011-10-28T00:00:00",
          "2011-11-02T00:00:00",
          "2011-11-03T00:00:00",
          "2011-11-11T00:00:00",
          "2011-11-18T00:00:00",
          "2011-11-25T00:00:00",
          "2011-12-08T00:00:00",
          "2011-12-16T00:00:00",
          "2011-12-23T00:00:00",
          "2011-12-30T00:00:00",
          "2012-01-06T00:00:00",
          "2012-01-13T00:00:00",
          "2012-01-20T00:00:00",
          "2012-01-27T00:00:00",
          "2012-02-03T00:00:00",
          "2012-02-11T00:00:00",
          "2012-02-17T00:00:00",
          "2012-02-24T00:00:00",
          "2012-03-02T00:00:00",
          "2012-03-08T00:00:00",
          "2012-03-16T00:00:00",
          "2012-03-23T00:00:00",
          "2012-03-30T00:00:00",
          "2012-04-05T00:00:00",
          "2012-04-13T00:00:00",
          "2012-04-20T00:00:00",
          "2012-04-27T00:00:00",
          "2012-05-10T00:00:00",
          "2012-05-18T00:00:00",
          "2012-05-25T00:00:00",
          "2012-06-01T00:00:00",
          "2012-06-04T00:00:00",
          "2012-06-07T00:00:00",
          "2012-06-15T00:00:00",
          "2012-06-22T00:00:00",
          "2012-06-29T00:00:00",
          "2012-07-09T00:00:00",
          "2012-07-12T00:00:00",
          "2012-07-13T00:00:00",
          "2012-07-20T00:00:00",
          "2012-07-27T00:00:00",
          "2012-08-06T00:00:00",
          "2012-08-17T00:00:00",
          "2012-08-24T00:00:00",
          "2012-08-31T00:00:00",
          "2012-09-03T00:00:00",
          "2012-09-11T00:00:00",
          "2012-09-14T00:00:00",
          "2012-09-21T00:00:00",
          "2012-09-28T00:00:00",
          "2012-10-02T00:00:00",
          "2012-10-08T00:00:00",
          "2012-10-19T00:00:00",
          "2012-10-26T00:00:00",
          "2012-11-05T00:00:00",
          "2012-11-16T00:00:00",
          "2012-11-23T00:00:00",
          "2012-11-30T00:00:00",
          "2012-12-10T00:00:00",
          "2012-12-14T00:00:00",
          "2012-12-21T00:00:00",
          "2012-12-28T00:00:00",
          "2013-01-02T00:00:00",
          "2013-01-03T00:00:00",
          "2013-01-18T00:00:00",
          "2013-01-25T00:00:00",
          "2013-02-15T00:00:00",
          "2013-02-22T00:00:00",
          "2013-03-05T00:00:00",
          "2013-03-15T00:00:00",
          "2013-03-22T00:00:00",
          "2013-03-29T00:00:00",
          "2013-04-01T00:00:00",
          "2013-04-19T00:00:00",
          "2013-04-26T00:00:00",
          "2013-05-04T00:00:00",
          "2013-05-07T00:00:00",
          "2013-05-17T00:00:00",
          "2013-05-24T00:00:00",
          "2013-05-31T00:00:00",
          "2013-06-14T00:00:00",
          "2013-06-21T00:00:00",
          "2013-06-28T00:00:00",
          "2013-07-06T00:00:00",
          "2013-07-19T00:00:00",
          "2013-07-26T00:00:00",
          "2013-08-02T00:00:00",
          "2013-08-03T00:00:00",
          "2013-10-05T00:00:00",
          "2013-11-01T00:00:00",
          "2013-12-04T00:00:00",
          "2013-12-07T00:00:00"
         ],
         "y": [
          3.0010000000000003,
          3.0860000000000003,
          3.105,
          2.915,
          2.91,
          3.0869999999999997,
          3.2,
          3.054,
          3.083,
          3.0060000000000002,
          3.109,
          3.05,
          3.105,
          2.9619999999999997,
          2.987,
          3.1289999999999996,
          3.145,
          3.12,
          3.0580000000000003,
          3.123,
          3.043,
          3.0839999999999996,
          3.127,
          3.094,
          3.112,
          3.017,
          3.013,
          3.159,
          3.0410000000000004,
          3.1289999999999996,
          3.09,
          3.1,
          3.028,
          2.9389999999999996,
          3.0439999999999996,
          3.255,
          3.08,
          3.049,
          3.13,
          3.057,
          3.161,
          3.1860000000000004,
          2.946,
          3.034,
          3.13,
          3.301,
          3.3089999999999997,
          3.3360000000000003,
          3.8110000000000004,
          3.9160000000000004,
          3.367,
          3.391,
          3.4019999999999997,
          3.8789999999999996,
          3.701,
          3.43,
          3.53,
          4.069,
          3.892,
          3.909,
          3.4,
          3.674,
          3.8280000000000003,
          4.0889999999999995,
          4.1339999999999995,
          4.151,
          4.02,
          4.211,
          4.202,
          4.1339999999999995,
          4.1930000000000005,
          3.989,
          3.964,
          3.3510000000000004,
          3.827,
          3.915,
          3.972,
          4.004,
          4.003,
          3.886,
          3.9419999999999997,
          3.906,
          3.93,
          3.6439999999999997,
          3.937,
          3.8989999999999996,
          3.877,
          4.025,
          3.805,
          3.842,
          3.843,
          3.4160000000000004,
          3.818,
          3.824,
          3.813,
          3.76,
          3.995,
          3.611,
          3.5869999999999997,
          3.5660000000000003,
          4.277,
          3.6660000000000004,
          3.705,
          3.737,
          4.178,
          4.099,
          3.8739999999999997,
          3.95,
          3.7960000000000003,
          3.819,
          4.273,
          4.288,
          4.294,
          4.171,
          4.254,
          4.2219999999999995,
          4.1930000000000005,
          4.151,
          4.308,
          4.293,
          3.5989999999999998,
          4.282,
          3.765,
          4.144,
          4.013999999999999,
          3.875,
          4.124,
          3.92,
          3.7230000000000003,
          3.7319999999999998,
          3.82,
          4.103,
          4.002,
          4.055,
          4.093,
          4.25,
          3.951,
          4.133,
          4.203,
          4.158,
          3.826,
          3.863,
          4.449,
          4.301,
          4.186,
          3.9419999999999997,
          3.978,
          3.966,
          4.468,
          3.8689999999999998,
          3.8160000000000003,
          3.785,
          3.806,
          4.109,
          3.798,
          3.78,
          4.006,
          4.045,
          3.775,
          4.104,
          4.062,
          4.016,
          3.7939999999999996,
          3.9410000000000003,
          3.889,
          3.998,
          3.778,
          3.8089999999999997,
          3.884,
          3.87,
          3.7969999999999997,
          3.793,
          3.8,
          3.825,
          3.9130000000000003,
          3.951,
          3.945,
          4.125,
          3.762,
          3.802,
          3.9810000000000003,
          3.7910000000000004
         ]
        }
       ],
       "layout": {
        "template": {
         "data": {
          "bar": [
           {
            "error_x": {
             "color": "#2a3f5f"
            },
            "error_y": {
             "color": "#2a3f5f"
            },
            "marker": {
             "line": {
              "color": "#E5ECF6",
              "width": 0.5
             }
            },
            "type": "bar"
           }
          ],
          "barpolar": [
           {
            "marker": {
             "line": {
              "color": "#E5ECF6",
              "width": 0.5
             }
            },
            "type": "barpolar"
           }
          ],
          "carpet": [
           {
            "aaxis": {
             "endlinecolor": "#2a3f5f",
             "gridcolor": "white",
             "linecolor": "white",
             "minorgridcolor": "white",
             "startlinecolor": "#2a3f5f"
            },
            "baxis": {
             "endlinecolor": "#2a3f5f",
             "gridcolor": "white",
             "linecolor": "white",
             "minorgridcolor": "white",
             "startlinecolor": "#2a3f5f"
            },
            "type": "carpet"
           }
          ],
          "choropleth": [
           {
            "colorbar": {
             "outlinewidth": 0,
             "ticks": ""
            },
            "type": "choropleth"
           }
          ],
          "contour": [
           {
            "colorbar": {
             "outlinewidth": 0,
             "ticks": ""
            },
            "colorscale": [
             [
              0,
              "#0d0887"
             ],
             [
              0.1111111111111111,
              "#46039f"
             ],
             [
              0.2222222222222222,
              "#7201a8"
             ],
             [
              0.3333333333333333,
              "#9c179e"
             ],
             [
              0.4444444444444444,
              "#bd3786"
             ],
             [
              0.5555555555555556,
              "#d8576b"
             ],
             [
              0.6666666666666666,
              "#ed7953"
             ],
             [
              0.7777777777777778,
              "#fb9f3a"
             ],
             [
              0.8888888888888888,
              "#fdca26"
             ],
             [
              1,
              "#f0f921"
             ]
            ],
            "type": "contour"
           }
          ],
          "contourcarpet": [
           {
            "colorbar": {
             "outlinewidth": 0,
             "ticks": ""
            },
            "type": "contourcarpet"
           }
          ],
          "heatmap": [
           {
            "colorbar": {
             "outlinewidth": 0,
             "ticks": ""
            },
            "colorscale": [
             [
              0,
              "#0d0887"
             ],
             [
              0.1111111111111111,
              "#46039f"
             ],
             [
              0.2222222222222222,
              "#7201a8"
             ],
             [
              0.3333333333333333,
              "#9c179e"
             ],
             [
              0.4444444444444444,
              "#bd3786"
             ],
             [
              0.5555555555555556,
              "#d8576b"
             ],
             [
              0.6666666666666666,
              "#ed7953"
             ],
             [
              0.7777777777777778,
              "#fb9f3a"
             ],
             [
              0.8888888888888888,
              "#fdca26"
             ],
             [
              1,
              "#f0f921"
             ]
            ],
            "type": "heatmap"
           }
          ],
          "heatmapgl": [
           {
            "colorbar": {
             "outlinewidth": 0,
             "ticks": ""
            },
            "colorscale": [
             [
              0,
              "#0d0887"
             ],
             [
              0.1111111111111111,
              "#46039f"
             ],
             [
              0.2222222222222222,
              "#7201a8"
             ],
             [
              0.3333333333333333,
              "#9c179e"
             ],
             [
              0.4444444444444444,
              "#bd3786"
             ],
             [
              0.5555555555555556,
              "#d8576b"
             ],
             [
              0.6666666666666666,
              "#ed7953"
             ],
             [
              0.7777777777777778,
              "#fb9f3a"
             ],
             [
              0.8888888888888888,
              "#fdca26"
             ],
             [
              1,
              "#f0f921"
             ]
            ],
            "type": "heatmapgl"
           }
          ],
          "histogram": [
           {
            "marker": {
             "colorbar": {
              "outlinewidth": 0,
              "ticks": ""
             }
            },
            "type": "histogram"
           }
          ],
          "histogram2d": [
           {
            "colorbar": {
             "outlinewidth": 0,
             "ticks": ""
            },
            "colorscale": [
             [
              0,
              "#0d0887"
             ],
             [
              0.1111111111111111,
              "#46039f"
             ],
             [
              0.2222222222222222,
              "#7201a8"
             ],
             [
              0.3333333333333333,
              "#9c179e"
             ],
             [
              0.4444444444444444,
              "#bd3786"
             ],
             [
              0.5555555555555556,
              "#d8576b"
             ],
             [
              0.6666666666666666,
              "#ed7953"
             ],
             [
              0.7777777777777778,
              "#fb9f3a"
             ],
             [
              0.8888888888888888,
              "#fdca26"
             ],
             [
              1,
              "#f0f921"
             ]
            ],
            "type": "histogram2d"
           }
          ],
          "histogram2dcontour": [
           {
            "colorbar": {
             "outlinewidth": 0,
             "ticks": ""
            },
            "colorscale": [
             [
              0,
              "#0d0887"
             ],
             [
              0.1111111111111111,
              "#46039f"
             ],
             [
              0.2222222222222222,
              "#7201a8"
             ],
             [
              0.3333333333333333,
              "#9c179e"
             ],
             [
              0.4444444444444444,
              "#bd3786"
             ],
             [
              0.5555555555555556,
              "#d8576b"
             ],
             [
              0.6666666666666666,
              "#ed7953"
             ],
             [
              0.7777777777777778,
              "#fb9f3a"
             ],
             [
              0.8888888888888888,
              "#fdca26"
             ],
             [
              1,
              "#f0f921"
             ]
            ],
            "type": "histogram2dcontour"
           }
          ],
          "mesh3d": [
           {
            "colorbar": {
             "outlinewidth": 0,
             "ticks": ""
            },
            "type": "mesh3d"
           }
          ],
          "parcoords": [
           {
            "line": {
             "colorbar": {
              "outlinewidth": 0,
              "ticks": ""
             }
            },
            "type": "parcoords"
           }
          ],
          "pie": [
           {
            "automargin": true,
            "type": "pie"
           }
          ],
          "scatter": [
           {
            "marker": {
             "colorbar": {
              "outlinewidth": 0,
              "ticks": ""
             }
            },
            "type": "scatter"
           }
          ],
          "scatter3d": [
           {
            "line": {
             "colorbar": {
              "outlinewidth": 0,
              "ticks": ""
             }
            },
            "marker": {
             "colorbar": {
              "outlinewidth": 0,
              "ticks": ""
             }
            },
            "type": "scatter3d"
           }
          ],
          "scattercarpet": [
           {
            "marker": {
             "colorbar": {
              "outlinewidth": 0,
              "ticks": ""
             }
            },
            "type": "scattercarpet"
           }
          ],
          "scattergeo": [
           {
            "marker": {
             "colorbar": {
              "outlinewidth": 0,
              "ticks": ""
             }
            },
            "type": "scattergeo"
           }
          ],
          "scattergl": [
           {
            "marker": {
             "colorbar": {
              "outlinewidth": 0,
              "ticks": ""
             }
            },
            "type": "scattergl"
           }
          ],
          "scattermapbox": [
           {
            "marker": {
             "colorbar": {
              "outlinewidth": 0,
              "ticks": ""
             }
            },
            "type": "scattermapbox"
           }
          ],
          "scatterpolar": [
           {
            "marker": {
             "colorbar": {
              "outlinewidth": 0,
              "ticks": ""
             }
            },
            "type": "scatterpolar"
           }
          ],
          "scatterpolargl": [
           {
            "marker": {
             "colorbar": {
              "outlinewidth": 0,
              "ticks": ""
             }
            },
            "type": "scatterpolargl"
           }
          ],
          "scatterternary": [
           {
            "marker": {
             "colorbar": {
              "outlinewidth": 0,
              "ticks": ""
             }
            },
            "type": "scatterternary"
           }
          ],
          "surface": [
           {
            "colorbar": {
             "outlinewidth": 0,
             "ticks": ""
            },
            "colorscale": [
             [
              0,
              "#0d0887"
             ],
             [
              0.1111111111111111,
              "#46039f"
             ],
             [
              0.2222222222222222,
              "#7201a8"
             ],
             [
              0.3333333333333333,
              "#9c179e"
             ],
             [
              0.4444444444444444,
              "#bd3786"
             ],
             [
              0.5555555555555556,
              "#d8576b"
             ],
             [
              0.6666666666666666,
              "#ed7953"
             ],
             [
              0.7777777777777778,
              "#fb9f3a"
             ],
             [
              0.8888888888888888,
              "#fdca26"
             ],
             [
              1,
              "#f0f921"
             ]
            ],
            "type": "surface"
           }
          ],
          "table": [
           {
            "cells": {
             "fill": {
              "color": "#EBF0F8"
             },
             "line": {
              "color": "white"
             }
            },
            "header": {
             "fill": {
              "color": "#C8D4E3"
             },
             "line": {
              "color": "white"
             }
            },
            "type": "table"
           }
          ]
         },
         "layout": {
          "annotationdefaults": {
           "arrowcolor": "#2a3f5f",
           "arrowhead": 0,
           "arrowwidth": 1
          },
          "autotypenumbers": "strict",
          "coloraxis": {
           "colorbar": {
            "outlinewidth": 0,
            "ticks": ""
           }
          },
          "colorscale": {
           "diverging": [
            [
             0,
             "#8e0152"
            ],
            [
             0.1,
             "#c51b7d"
            ],
            [
             0.2,
             "#de77ae"
            ],
            [
             0.3,
             "#f1b6da"
            ],
            [
             0.4,
             "#fde0ef"
            ],
            [
             0.5,
             "#f7f7f7"
            ],
            [
             0.6,
             "#e6f5d0"
            ],
            [
             0.7,
             "#b8e186"
            ],
            [
             0.8,
             "#7fbc41"
            ],
            [
             0.9,
             "#4d9221"
            ],
            [
             1,
             "#276419"
            ]
           ],
           "sequential": [
            [
             0,
             "#0d0887"
            ],
            [
             0.1111111111111111,
             "#46039f"
            ],
            [
             0.2222222222222222,
             "#7201a8"
            ],
            [
             0.3333333333333333,
             "#9c179e"
            ],
            [
             0.4444444444444444,
             "#bd3786"
            ],
            [
             0.5555555555555556,
             "#d8576b"
            ],
            [
             0.6666666666666666,
             "#ed7953"
            ],
            [
             0.7777777777777778,
             "#fb9f3a"
            ],
            [
             0.8888888888888888,
             "#fdca26"
            ],
            [
             1,
             "#f0f921"
            ]
           ],
           "sequentialminus": [
            [
             0,
             "#0d0887"
            ],
            [
             0.1111111111111111,
             "#46039f"
            ],
            [
             0.2222222222222222,
             "#7201a8"
            ],
            [
             0.3333333333333333,
             "#9c179e"
            ],
            [
             0.4444444444444444,
             "#bd3786"
            ],
            [
             0.5555555555555556,
             "#d8576b"
            ],
            [
             0.6666666666666666,
             "#ed7953"
            ],
            [
             0.7777777777777778,
             "#fb9f3a"
            ],
            [
             0.8888888888888888,
             "#fdca26"
            ],
            [
             1,
             "#f0f921"
            ]
           ]
          },
          "colorway": [
           "#636efa",
           "#EF553B",
           "#00cc96",
           "#ab63fa",
           "#FFA15A",
           "#19d3f3",
           "#FF6692",
           "#B6E880",
           "#FF97FF",
           "#FECB52"
          ],
          "font": {
           "color": "#2a3f5f"
          },
          "geo": {
           "bgcolor": "white",
           "lakecolor": "white",
           "landcolor": "#E5ECF6",
           "showlakes": true,
           "showland": true,
           "subunitcolor": "white"
          },
          "hoverlabel": {
           "align": "left"
          },
          "hovermode": "closest",
          "mapbox": {
           "style": "light"
          },
          "paper_bgcolor": "white",
          "plot_bgcolor": "#E5ECF6",
          "polar": {
           "angularaxis": {
            "gridcolor": "white",
            "linecolor": "white",
            "ticks": ""
           },
           "bgcolor": "#E5ECF6",
           "radialaxis": {
            "gridcolor": "white",
            "linecolor": "white",
            "ticks": ""
           }
          },
          "scene": {
           "xaxis": {
            "backgroundcolor": "#E5ECF6",
            "gridcolor": "white",
            "gridwidth": 2,
            "linecolor": "white",
            "showbackground": true,
            "ticks": "",
            "zerolinecolor": "white"
           },
           "yaxis": {
            "backgroundcolor": "#E5ECF6",
            "gridcolor": "white",
            "gridwidth": 2,
            "linecolor": "white",
            "showbackground": true,
            "ticks": "",
            "zerolinecolor": "white"
           },
           "zaxis": {
            "backgroundcolor": "#E5ECF6",
            "gridcolor": "white",
            "gridwidth": 2,
            "linecolor": "white",
            "showbackground": true,
            "ticks": "",
            "zerolinecolor": "white"
           }
          },
          "shapedefaults": {
           "line": {
            "color": "#2a3f5f"
           }
          },
          "ternary": {
           "aaxis": {
            "gridcolor": "white",
            "linecolor": "white",
            "ticks": ""
           },
           "baxis": {
            "gridcolor": "white",
            "linecolor": "white",
            "ticks": ""
           },
           "bgcolor": "#E5ECF6",
           "caxis": {
            "gridcolor": "white",
            "linecolor": "white",
            "ticks": ""
           }
          },
          "title": {
           "x": 0.05
          },
          "xaxis": {
           "automargin": true,
           "gridcolor": "white",
           "linecolor": "white",
           "ticks": "",
           "title": {
            "standoff": 15
           },
           "zerolinecolor": "white",
           "zerolinewidth": 2
          },
          "yaxis": {
           "automargin": true,
           "gridcolor": "white",
           "linecolor": "white",
           "ticks": "",
           "title": {
            "standoff": 15
           },
           "zerolinecolor": "white",
           "zerolinewidth": 2
          }
         }
        },
        "title": {
         "text": "Min, Mean, and Max of Fuel_Price"
        }
       }
      },
      "text/html": [
       "<div>                            <div id=\"305c08c8-c77c-4b18-9349-98f4cff0d776\" class=\"plotly-graph-div\" style=\"height:525px; width:100%;\"></div>            <script type=\"text/javascript\">                require([\"plotly\"], function(Plotly) {                    window.PLOTLYENV=window.PLOTLYENV || {};                                    if (document.getElementById(\"305c08c8-c77c-4b18-9349-98f4cff0d776\")) {                    Plotly.newPlot(                        \"305c08c8-c77c-4b18-9349-98f4cff0d776\",                        [{\"line\": {\"color\": \"green\"}, \"name\": \"Min\", \"opacity\": 0.4, \"type\": \"scatter\", \"x\": [\"2010-01-10T00:00:00\", \"2010-02-04T00:00:00\", \"2010-02-07T00:00:00\", \"2010-02-19T00:00:00\", \"2010-02-26T00:00:00\", \"2010-03-09T00:00:00\", \"2010-03-12T00:00:00\", \"2010-03-19T00:00:00\", \"2010-03-26T00:00:00\", \"2010-04-06T00:00:00\", \"2010-04-16T00:00:00\", \"2010-04-23T00:00:00\", \"2010-04-30T00:00:00\", \"2010-05-02T00:00:00\", \"2010-05-03T00:00:00\", \"2010-05-11T00:00:00\", \"2010-05-14T00:00:00\", \"2010-05-21T00:00:00\", \"2010-05-28T00:00:00\", \"2010-06-08T00:00:00\", \"2010-06-18T00:00:00\", \"2010-06-25T00:00:00\", \"2010-07-05T00:00:00\", \"2010-07-16T00:00:00\", \"2010-07-23T00:00:00\", \"2010-07-30T00:00:00\", \"2010-08-10T00:00:00\", \"2010-08-13T00:00:00\", \"2010-08-20T00:00:00\", \"2010-08-27T00:00:00\", \"2010-09-04T00:00:00\", \"2010-09-07T00:00:00\", \"2010-09-17T00:00:00\", \"2010-09-24T00:00:00\", \"2010-10-09T00:00:00\", \"2010-10-12T00:00:00\", \"2010-10-15T00:00:00\", \"2010-10-22T00:00:00\", \"2010-10-29T00:00:00\", \"2010-11-06T00:00:00\", \"2010-11-19T00:00:00\", \"2010-11-26T00:00:00\", \"2010-12-02T00:00:00\", \"2010-12-03T00:00:00\", \"2010-12-11T00:00:00\", \"2010-12-17T00:00:00\", \"2010-12-24T00:00:00\", \"2010-12-31T00:00:00\", \"2011-01-04T00:00:00\", \"2011-01-07T00:00:00\", \"2011-01-14T00:00:00\", \"2011-01-21T00:00:00\", \"2011-01-28T00:00:00\", \"2011-02-09T00:00:00\", \"2011-02-12T00:00:00\", \"2011-02-18T00:00:00\", \"2011-02-25T00:00:00\", \"2011-03-06T00:00:00\", \"2011-03-18T00:00:00\", \"2011-03-25T00:00:00\", \"2011-04-02T00:00:00\", \"2011-04-03T00:00:00\", \"2011-04-11T00:00:00\", \"2011-04-15T00:00:00\", \"2011-04-22T00:00:00\", \"2011-04-29T00:00:00\", \"2011-05-08T00:00:00\", \"2011-05-13T00:00:00\", \"2011-05-20T00:00:00\", \"2011-05-27T00:00:00\", \"2011-06-05T00:00:00\", \"2011-06-17T00:00:00\", \"2011-06-24T00:00:00\", \"2011-07-01T00:00:00\", \"2011-07-10T00:00:00\", \"2011-07-15T00:00:00\", \"2011-07-22T00:00:00\", \"2011-07-29T00:00:00\", \"2011-08-04T00:00:00\", \"2011-08-07T00:00:00\", \"2011-08-19T00:00:00\", \"2011-08-26T00:00:00\", \"2011-09-09T00:00:00\", \"2011-09-12T00:00:00\", \"2011-09-16T00:00:00\", \"2011-09-23T00:00:00\", \"2011-09-30T00:00:00\", \"2011-10-06T00:00:00\", \"2011-10-14T00:00:00\", \"2011-10-21T00:00:00\", \"2011-10-28T00:00:00\", \"2011-11-02T00:00:00\", \"2011-11-03T00:00:00\", \"2011-11-11T00:00:00\", \"2011-11-18T00:00:00\", \"2011-11-25T00:00:00\", \"2011-12-08T00:00:00\", \"2011-12-16T00:00:00\", \"2011-12-23T00:00:00\", \"2011-12-30T00:00:00\", \"2012-01-06T00:00:00\", \"2012-01-13T00:00:00\", \"2012-01-20T00:00:00\", \"2012-01-27T00:00:00\", \"2012-02-03T00:00:00\", \"2012-02-11T00:00:00\", \"2012-02-17T00:00:00\", \"2012-02-24T00:00:00\", \"2012-03-02T00:00:00\", \"2012-03-08T00:00:00\", \"2012-03-16T00:00:00\", \"2012-03-23T00:00:00\", \"2012-03-30T00:00:00\", \"2012-04-05T00:00:00\", \"2012-04-13T00:00:00\", \"2012-04-20T00:00:00\", \"2012-04-27T00:00:00\", \"2012-05-10T00:00:00\", \"2012-05-18T00:00:00\", \"2012-05-25T00:00:00\", \"2012-06-01T00:00:00\", \"2012-06-04T00:00:00\", \"2012-06-07T00:00:00\", \"2012-06-15T00:00:00\", \"2012-06-22T00:00:00\", \"2012-06-29T00:00:00\", \"2012-07-09T00:00:00\", \"2012-07-12T00:00:00\", \"2012-07-13T00:00:00\", \"2012-07-20T00:00:00\", \"2012-07-27T00:00:00\", \"2012-08-06T00:00:00\", \"2012-08-17T00:00:00\", \"2012-08-24T00:00:00\", \"2012-08-31T00:00:00\", \"2012-09-03T00:00:00\", \"2012-09-11T00:00:00\", \"2012-09-14T00:00:00\", \"2012-09-21T00:00:00\", \"2012-09-28T00:00:00\", \"2012-10-02T00:00:00\", \"2012-10-08T00:00:00\", \"2012-10-19T00:00:00\", \"2012-10-26T00:00:00\", \"2012-11-05T00:00:00\", \"2012-11-16T00:00:00\", \"2012-11-23T00:00:00\", \"2012-11-30T00:00:00\", \"2012-12-10T00:00:00\", \"2012-12-14T00:00:00\", \"2012-12-21T00:00:00\", \"2012-12-28T00:00:00\", \"2013-01-02T00:00:00\", \"2013-01-03T00:00:00\", \"2013-01-18T00:00:00\", \"2013-01-25T00:00:00\", \"2013-02-15T00:00:00\", \"2013-02-22T00:00:00\", \"2013-03-05T00:00:00\", \"2013-03-15T00:00:00\", \"2013-03-22T00:00:00\", \"2013-03-29T00:00:00\", \"2013-04-01T00:00:00\", \"2013-04-19T00:00:00\", \"2013-04-26T00:00:00\", \"2013-05-04T00:00:00\", \"2013-05-07T00:00:00\", \"2013-05-17T00:00:00\", \"2013-05-24T00:00:00\", \"2013-05-31T00:00:00\", \"2013-06-14T00:00:00\", \"2013-06-21T00:00:00\", \"2013-06-28T00:00:00\", \"2013-07-06T00:00:00\", \"2013-07-19T00:00:00\", \"2013-07-26T00:00:00\", \"2013-08-02T00:00:00\", \"2013-08-03T00:00:00\", \"2013-10-05T00:00:00\", \"2013-11-01T00:00:00\", \"2013-12-04T00:00:00\", \"2013-12-07T00:00:00\"], \"y\": [2.5669999999999997, 2.708, 2.6060000000000003, 2.472, 2.52, 2.533, 2.694, 2.6919999999999997, 2.7110000000000003, 2.6639999999999997, 2.765, 2.762, 2.725, 2.545, 2.574, 2.655, 2.7880000000000003, 2.767, 2.716, 2.573, 2.572, 2.6010000000000004, 2.7710000000000004, 2.5610000000000004, 2.542, 2.602, 2.595, 2.6439999999999997, 2.6039999999999996, 2.562, 2.7430000000000003, 2.596, 2.55, 2.5780000000000003, 2.513, 2.728, 2.705, 2.698, 2.68, 2.615, 2.741, 2.725, 2.539, 2.6189999999999998, 2.705, 2.778, 2.781, 2.8289999999999997, 3.4610000000000003, 3.502, 2.903, 2.9339999999999997, 2.96, 3.4810000000000003, 3.1639999999999997, 3.017, 3.053, 3.6830000000000003, 3.406, 3.4139999999999997, 2.9739999999999998, 3.23, 3.287, 3.611, 3.636, 3.6630000000000003, 3.554, 3.767, 3.802, 3.7710000000000004, 3.735, 3.5989999999999998, 3.569, 2.8819999999999997, 3.262, 3.532, 3.545, 3.5469999999999997, 3.532, 3.44, 3.4989999999999997, 3.485, 3.4989999999999997, 3.147, 3.4730000000000003, 3.4410000000000003, 3.3280000000000003, 3.633, 3.234, 3.3080000000000003, 3.306, 3.009, 3.346, 3.2539999999999996, 3.26, 3.181, 3.542, 3.133, 3.0980000000000003, 3.1189999999999998, 3.483, 3.056, 3.0469999999999997, 3.0380000000000003, 3.1910000000000003, 3.386, 3.113, 3.1289999999999996, 3.031, 3.3739999999999997, 3.486, 3.6639999999999997, 3.734, 3.747, 3.833, 3.845, 3.81, 3.611, 3.62, 3.551, 3.08, 3.793, 3.187, 3.372, 3.3289999999999997, 3.2569999999999997, 3.596, 3.198, 3.2239999999999998, 3.263, 3.3560000000000003, 3.4330000000000003, 3.545, 3.5580000000000003, 3.556, 3.286, 3.313, 3.659, 3.7089999999999996, 3.66, 3.103, 3.4760000000000004, 3.57, 3.4939999999999998, 3.685, 3.2430000000000003, 3.21, 3.207, 3.576, 3.168, 3.092, 3.108, 2.998, 3.5210000000000004, 2.889, 2.872, 3.323, 3.4589999999999996, 3.3689999999999998, 3.5180000000000002, 3.5180000000000002, 3.5180000000000002, 3.034, 3.4360000000000004, 3.397, 3.5469999999999997, 3.385, 3.437, 3.4530000000000003, 3.437, 3.412, 3.428, 3.428, 3.4130000000000003, 3.5069999999999997, 3.58, 3.1919999999999997, 3.5260000000000002, 3.3710000000000004, 2.957, 3.5039999999999996, 3.3680000000000003]}, {\"line\": {\"color\": \"blue\"}, \"name\": \"q25\", \"opacity\": 0.4, \"type\": \"scatter\", \"x\": [\"2010-01-10T00:00:00\", \"2010-02-04T00:00:00\", \"2010-02-07T00:00:00\", \"2010-02-19T00:00:00\", \"2010-02-26T00:00:00\", \"2010-03-09T00:00:00\", \"2010-03-12T00:00:00\", \"2010-03-19T00:00:00\", \"2010-03-26T00:00:00\", \"2010-04-06T00:00:00\", \"2010-04-16T00:00:00\", \"2010-04-23T00:00:00\", \"2010-04-30T00:00:00\", \"2010-05-02T00:00:00\", \"2010-05-03T00:00:00\", \"2010-05-11T00:00:00\", \"2010-05-14T00:00:00\", \"2010-05-21T00:00:00\", \"2010-05-28T00:00:00\", \"2010-06-08T00:00:00\", \"2010-06-18T00:00:00\", \"2010-06-25T00:00:00\", \"2010-07-05T00:00:00\", \"2010-07-16T00:00:00\", \"2010-07-23T00:00:00\", \"2010-07-30T00:00:00\", \"2010-08-10T00:00:00\", \"2010-08-13T00:00:00\", \"2010-08-20T00:00:00\", \"2010-08-27T00:00:00\", \"2010-09-04T00:00:00\", \"2010-09-07T00:00:00\", \"2010-09-17T00:00:00\", \"2010-09-24T00:00:00\", \"2010-10-09T00:00:00\", \"2010-10-12T00:00:00\", \"2010-10-15T00:00:00\", \"2010-10-22T00:00:00\", \"2010-10-29T00:00:00\", \"2010-11-06T00:00:00\", \"2010-11-19T00:00:00\", \"2010-11-26T00:00:00\", \"2010-12-02T00:00:00\", \"2010-12-03T00:00:00\", \"2010-12-11T00:00:00\", \"2010-12-17T00:00:00\", \"2010-12-24T00:00:00\", \"2010-12-31T00:00:00\", \"2011-01-04T00:00:00\", \"2011-01-07T00:00:00\", \"2011-01-14T00:00:00\", \"2011-01-21T00:00:00\", \"2011-01-28T00:00:00\", \"2011-02-09T00:00:00\", \"2011-02-12T00:00:00\", \"2011-02-18T00:00:00\", \"2011-02-25T00:00:00\", \"2011-03-06T00:00:00\", \"2011-03-18T00:00:00\", \"2011-03-25T00:00:00\", \"2011-04-02T00:00:00\", \"2011-04-03T00:00:00\", \"2011-04-11T00:00:00\", \"2011-04-15T00:00:00\", \"2011-04-22T00:00:00\", \"2011-04-29T00:00:00\", \"2011-05-08T00:00:00\", \"2011-05-13T00:00:00\", \"2011-05-20T00:00:00\", \"2011-05-27T00:00:00\", \"2011-06-05T00:00:00\", \"2011-06-17T00:00:00\", \"2011-06-24T00:00:00\", \"2011-07-01T00:00:00\", \"2011-07-10T00:00:00\", \"2011-07-15T00:00:00\", \"2011-07-22T00:00:00\", \"2011-07-29T00:00:00\", \"2011-08-04T00:00:00\", \"2011-08-07T00:00:00\", \"2011-08-19T00:00:00\", \"2011-08-26T00:00:00\", \"2011-09-09T00:00:00\", \"2011-09-12T00:00:00\", \"2011-09-16T00:00:00\", \"2011-09-23T00:00:00\", \"2011-09-30T00:00:00\", \"2011-10-06T00:00:00\", \"2011-10-14T00:00:00\", \"2011-10-21T00:00:00\", \"2011-10-28T00:00:00\", \"2011-11-02T00:00:00\", \"2011-11-03T00:00:00\", \"2011-11-11T00:00:00\", \"2011-11-18T00:00:00\", \"2011-11-25T00:00:00\", \"2011-12-08T00:00:00\", \"2011-12-16T00:00:00\", \"2011-12-23T00:00:00\", \"2011-12-30T00:00:00\", \"2012-01-06T00:00:00\", \"2012-01-13T00:00:00\", \"2012-01-20T00:00:00\", \"2012-01-27T00:00:00\", \"2012-02-03T00:00:00\", \"2012-02-11T00:00:00\", \"2012-02-17T00:00:00\", \"2012-02-24T00:00:00\", \"2012-03-02T00:00:00\", \"2012-03-08T00:00:00\", \"2012-03-16T00:00:00\", \"2012-03-23T00:00:00\", \"2012-03-30T00:00:00\", \"2012-04-05T00:00:00\", \"2012-04-13T00:00:00\", \"2012-04-20T00:00:00\", \"2012-04-27T00:00:00\", \"2012-05-10T00:00:00\", \"2012-05-18T00:00:00\", \"2012-05-25T00:00:00\", \"2012-06-01T00:00:00\", \"2012-06-04T00:00:00\", \"2012-06-07T00:00:00\", \"2012-06-15T00:00:00\", \"2012-06-22T00:00:00\", \"2012-06-29T00:00:00\", \"2012-07-09T00:00:00\", \"2012-07-12T00:00:00\", \"2012-07-13T00:00:00\", \"2012-07-20T00:00:00\", \"2012-07-27T00:00:00\", \"2012-08-06T00:00:00\", \"2012-08-17T00:00:00\", \"2012-08-24T00:00:00\", \"2012-08-31T00:00:00\", \"2012-09-03T00:00:00\", \"2012-09-11T00:00:00\", \"2012-09-14T00:00:00\", \"2012-09-21T00:00:00\", \"2012-09-28T00:00:00\", \"2012-10-02T00:00:00\", \"2012-10-08T00:00:00\", \"2012-10-19T00:00:00\", \"2012-10-26T00:00:00\", \"2012-11-05T00:00:00\", \"2012-11-16T00:00:00\", \"2012-11-23T00:00:00\", \"2012-11-30T00:00:00\", \"2012-12-10T00:00:00\", \"2012-12-14T00:00:00\", \"2012-12-21T00:00:00\", \"2012-12-28T00:00:00\", \"2013-01-02T00:00:00\", \"2013-01-03T00:00:00\", \"2013-01-18T00:00:00\", \"2013-01-25T00:00:00\", \"2013-02-15T00:00:00\", \"2013-02-22T00:00:00\", \"2013-03-05T00:00:00\", \"2013-03-15T00:00:00\", \"2013-03-22T00:00:00\", \"2013-03-29T00:00:00\", \"2013-04-01T00:00:00\", \"2013-04-19T00:00:00\", \"2013-04-26T00:00:00\", \"2013-05-04T00:00:00\", \"2013-05-07T00:00:00\", \"2013-05-17T00:00:00\", \"2013-05-24T00:00:00\", \"2013-05-31T00:00:00\", \"2013-06-14T00:00:00\", \"2013-06-21T00:00:00\", \"2013-06-28T00:00:00\", \"2013-07-06T00:00:00\", \"2013-07-19T00:00:00\", \"2013-07-26T00:00:00\", \"2013-08-02T00:00:00\", \"2013-08-03T00:00:00\", \"2013-10-05T00:00:00\", \"2013-11-01T00:00:00\", \"2013-12-04T00:00:00\", \"2013-12-07T00:00:00\"], \"y\": [2.603, 2.719, 2.6689999999999996, 2.5140000000000002, 2.5610000000000004, 2.577, 2.708, 2.72, 2.7319999999999998, 2.705, 2.8080000000000003, 2.795, 2.78, 2.572, 2.625, 2.6889999999999996, 2.8539999999999996, 2.826, 2.759, 2.627, 2.637, 2.653, 2.835, 2.623, 2.608, 2.64, 2.633, 2.6919999999999997, 2.6639999999999997, 2.6189999999999998, 2.77, 2.642, 2.582, 2.6239999999999997, 2.565, 2.843, 2.72, 2.725, 2.716, 2.668, 2.7710000000000004, 2.735, 2.548, 2.667, 2.728, 2.8689999999999998, 2.886, 2.943, 3.5239999999999996, 3.5239999999999996, 2.983, 3.016, 3.01, 3.533, 3.1719999999999997, 3.045, 3.065, 3.699, 3.488, 3.4730000000000003, 2.989, 3.2880000000000003, 3.332, 3.7430000000000003, 3.807, 3.81, 3.6839999999999997, 3.8989999999999996, 3.907, 3.786, 3.906, 3.637, 3.594, 2.9760000000000004, 3.285, 3.575, 3.6510000000000002, 3.682, 3.622, 3.48, 3.554, 3.523, 3.5460000000000003, 3.158, 3.5260000000000002, 3.467, 3.355, 3.648, 3.2739999999999996, 3.353, 3.372, 3.022, 3.4589999999999996, 3.2969999999999997, 3.3080000000000003, 3.236, 3.638, 3.159, 3.112, 3.1289999999999996, 3.5010000000000003, 3.261, 3.2680000000000002, 3.29, 3.63, 3.386, 3.51, 3.555, 3.36, 3.417, 3.734, 3.787, 3.845, 3.7489999999999997, 3.891, 3.877, 3.8139999999999996, 3.617, 3.63, 3.5610000000000004, 3.157, 3.891, 3.227, 3.3930000000000002, 3.346, 3.286, 3.73, 3.198, 3.2560000000000002, 3.3110000000000004, 3.407, 3.452, 3.571, 3.62, 3.638, 3.6689999999999996, 3.3139999999999996, 3.717, 3.721, 3.6660000000000004, 3.409, 3.4939999999999998, 3.594, 3.5060000000000002, 3.688, 3.252, 3.2110000000000003, 3.207, 3.6010000000000004, 3.168, 3.0980000000000003, 3.108, 3.2439999999999998, 3.7110000000000003, 3.237, 3.227, 3.475, 3.597, 3.386, 3.622, 3.611, 3.6060000000000003, 3.161, 3.451, 3.417, 3.583, 3.4219999999999997, 3.4539999999999997, 3.4939999999999998, 3.466, 3.431, 3.4789999999999996, 3.495, 3.4389999999999996, 3.556, 3.62, 3.417, 3.658, 3.392, 3.2430000000000003, 3.529, 3.4]}, {\"line\": {\"color\": \"blue\"}, \"name\": \"q50\", \"opacity\": 0.4, \"type\": \"scatter\", \"x\": [\"2010-01-10T00:00:00\", \"2010-02-04T00:00:00\", \"2010-02-07T00:00:00\", \"2010-02-19T00:00:00\", \"2010-02-26T00:00:00\", \"2010-03-09T00:00:00\", \"2010-03-12T00:00:00\", \"2010-03-19T00:00:00\", \"2010-03-26T00:00:00\", \"2010-04-06T00:00:00\", \"2010-04-16T00:00:00\", \"2010-04-23T00:00:00\", \"2010-04-30T00:00:00\", \"2010-05-02T00:00:00\", \"2010-05-03T00:00:00\", \"2010-05-11T00:00:00\", \"2010-05-14T00:00:00\", \"2010-05-21T00:00:00\", \"2010-05-28T00:00:00\", \"2010-06-08T00:00:00\", \"2010-06-18T00:00:00\", \"2010-06-25T00:00:00\", \"2010-07-05T00:00:00\", \"2010-07-16T00:00:00\", \"2010-07-23T00:00:00\", \"2010-07-30T00:00:00\", \"2010-08-10T00:00:00\", \"2010-08-13T00:00:00\", \"2010-08-20T00:00:00\", \"2010-08-27T00:00:00\", \"2010-09-04T00:00:00\", \"2010-09-07T00:00:00\", \"2010-09-17T00:00:00\", \"2010-09-24T00:00:00\", \"2010-10-09T00:00:00\", \"2010-10-12T00:00:00\", \"2010-10-15T00:00:00\", \"2010-10-22T00:00:00\", \"2010-10-29T00:00:00\", \"2010-11-06T00:00:00\", \"2010-11-19T00:00:00\", \"2010-11-26T00:00:00\", \"2010-12-02T00:00:00\", \"2010-12-03T00:00:00\", \"2010-12-11T00:00:00\", \"2010-12-17T00:00:00\", \"2010-12-24T00:00:00\", \"2010-12-31T00:00:00\", \"2011-01-04T00:00:00\", \"2011-01-07T00:00:00\", \"2011-01-14T00:00:00\", \"2011-01-21T00:00:00\", \"2011-01-28T00:00:00\", \"2011-02-09T00:00:00\", \"2011-02-12T00:00:00\", \"2011-02-18T00:00:00\", \"2011-02-25T00:00:00\", \"2011-03-06T00:00:00\", \"2011-03-18T00:00:00\", \"2011-03-25T00:00:00\", \"2011-04-02T00:00:00\", \"2011-04-03T00:00:00\", \"2011-04-11T00:00:00\", \"2011-04-15T00:00:00\", \"2011-04-22T00:00:00\", \"2011-04-29T00:00:00\", \"2011-05-08T00:00:00\", \"2011-05-13T00:00:00\", \"2011-05-20T00:00:00\", \"2011-05-27T00:00:00\", \"2011-06-05T00:00:00\", \"2011-06-17T00:00:00\", \"2011-06-24T00:00:00\", \"2011-07-01T00:00:00\", \"2011-07-10T00:00:00\", \"2011-07-15T00:00:00\", \"2011-07-22T00:00:00\", \"2011-07-29T00:00:00\", \"2011-08-04T00:00:00\", \"2011-08-07T00:00:00\", \"2011-08-19T00:00:00\", \"2011-08-26T00:00:00\", \"2011-09-09T00:00:00\", \"2011-09-12T00:00:00\", \"2011-09-16T00:00:00\", \"2011-09-23T00:00:00\", \"2011-09-30T00:00:00\", \"2011-10-06T00:00:00\", \"2011-10-14T00:00:00\", \"2011-10-21T00:00:00\", \"2011-10-28T00:00:00\", \"2011-11-02T00:00:00\", \"2011-11-03T00:00:00\", \"2011-11-11T00:00:00\", \"2011-11-18T00:00:00\", \"2011-11-25T00:00:00\", \"2011-12-08T00:00:00\", \"2011-12-16T00:00:00\", \"2011-12-23T00:00:00\", \"2011-12-30T00:00:00\", \"2012-01-06T00:00:00\", \"2012-01-13T00:00:00\", \"2012-01-20T00:00:00\", \"2012-01-27T00:00:00\", \"2012-02-03T00:00:00\", \"2012-02-11T00:00:00\", \"2012-02-17T00:00:00\", \"2012-02-24T00:00:00\", \"2012-03-02T00:00:00\", \"2012-03-08T00:00:00\", \"2012-03-16T00:00:00\", \"2012-03-23T00:00:00\", \"2012-03-30T00:00:00\", \"2012-04-05T00:00:00\", \"2012-04-13T00:00:00\", \"2012-04-20T00:00:00\", \"2012-04-27T00:00:00\", \"2012-05-10T00:00:00\", \"2012-05-18T00:00:00\", \"2012-05-25T00:00:00\", \"2012-06-01T00:00:00\", \"2012-06-04T00:00:00\", \"2012-06-07T00:00:00\", \"2012-06-15T00:00:00\", \"2012-06-22T00:00:00\", \"2012-06-29T00:00:00\", \"2012-07-09T00:00:00\", \"2012-07-12T00:00:00\", \"2012-07-13T00:00:00\", \"2012-07-20T00:00:00\", \"2012-07-27T00:00:00\", \"2012-08-06T00:00:00\", \"2012-08-17T00:00:00\", \"2012-08-24T00:00:00\", \"2012-08-31T00:00:00\", \"2012-09-03T00:00:00\", \"2012-09-11T00:00:00\", \"2012-09-14T00:00:00\", \"2012-09-21T00:00:00\", \"2012-09-28T00:00:00\", \"2012-10-02T00:00:00\", \"2012-10-08T00:00:00\", \"2012-10-19T00:00:00\", \"2012-10-26T00:00:00\", \"2012-11-05T00:00:00\", \"2012-11-16T00:00:00\", \"2012-11-23T00:00:00\", \"2012-11-30T00:00:00\", \"2012-12-10T00:00:00\", \"2012-12-14T00:00:00\", \"2012-12-21T00:00:00\", \"2012-12-28T00:00:00\", \"2013-01-02T00:00:00\", \"2013-01-03T00:00:00\", \"2013-01-18T00:00:00\", \"2013-01-25T00:00:00\", \"2013-02-15T00:00:00\", \"2013-02-22T00:00:00\", \"2013-03-05T00:00:00\", \"2013-03-15T00:00:00\", \"2013-03-22T00:00:00\", \"2013-03-29T00:00:00\", \"2013-04-01T00:00:00\", \"2013-04-19T00:00:00\", \"2013-04-26T00:00:00\", \"2013-05-04T00:00:00\", \"2013-05-07T00:00:00\", \"2013-05-17T00:00:00\", \"2013-05-24T00:00:00\", \"2013-05-31T00:00:00\", \"2013-06-14T00:00:00\", \"2013-06-21T00:00:00\", \"2013-06-28T00:00:00\", \"2013-07-06T00:00:00\", \"2013-07-19T00:00:00\", \"2013-07-26T00:00:00\", \"2013-08-02T00:00:00\", \"2013-08-03T00:00:00\", \"2013-10-05T00:00:00\", \"2013-11-01T00:00:00\", \"2013-12-04T00:00:00\", \"2013-12-07T00:00:00\"], \"y\": [2.717, 2.826, 2.8139999999999996, 2.654, 2.667, 2.735, 2.812, 2.782, 2.819, 2.847, 2.885, 2.895, 2.9210000000000003, 2.6660000000000004, 2.681, 2.8310000000000004, 2.9619999999999997, 2.95, 2.8989999999999996, 2.784, 2.78, 2.8080000000000003, 2.948, 2.783, 2.7710000000000004, 2.781, 2.764, 2.805, 2.779, 2.755, 2.8489999999999998, 2.793, 2.716, 2.718, 2.717, 2.86, 2.845, 2.8489999999999998, 2.841, 2.8089999999999997, 2.842, 2.83, 2.6710000000000003, 2.733, 2.8310000000000004, 2.884, 2.887, 2.955, 3.5239999999999996, 3.613, 2.992, 3.017, 3.022, 3.58, 3.389, 3.062, 3.12, 3.763, 3.495, 3.48, 3.011, 3.305, 3.5380000000000003, 3.7430000000000003, 3.807, 3.81, 3.6839999999999997, 3.8989999999999996, 3.907, 3.795, 3.906, 3.7039999999999997, 3.668, 2.98, 3.583, 3.575, 3.6510000000000002, 3.682, 3.622, 3.563, 3.5780000000000003, 3.57, 3.6189999999999998, 3.341, 3.641, 3.648, 3.623, 3.735, 3.5410000000000004, 3.57, 3.5669999999999997, 3.037, 3.4610000000000003, 3.513, 3.489, 3.445, 3.638, 3.282, 3.1860000000000004, 3.1289999999999996, 3.764, 3.263, 3.273, 3.29, 3.63, 3.702, 3.51, 3.555, 3.36, 3.528, 3.734, 3.787, 3.845, 3.903, 3.9010000000000002, 3.9360000000000004, 3.927, 3.815, 3.8369999999999997, 3.801, 3.158, 3.891, 3.5380000000000003, 3.6830000000000003, 3.6289999999999996, 3.577, 3.73, 3.4560000000000004, 3.5610000000000004, 3.5669999999999997, 3.57, 3.741, 3.571, 3.62, 3.6460000000000004, 3.6689999999999996, 3.6630000000000003, 3.7489999999999997, 3.821, 3.821, 3.411, 3.509, 3.781, 3.755, 3.87, 3.612, 3.562, 3.5239999999999996, 3.7969999999999997, 3.3789999999999996, 3.263, 3.147, 3.2439999999999998, 3.7110000000000003, 3.237, 3.227, 3.475, 3.602, 3.573, 3.622, 3.611, 3.6060000000000003, 3.177, 3.603, 3.568, 3.633, 3.637, 3.614, 3.654, 3.668, 3.667, 3.673, 3.673, 3.66, 3.665, 3.6689999999999996, 3.417, 3.658, 3.583, 3.2430000000000003, 3.642, 3.614]}, {\"line\": {\"color\": \"blue\"}, \"name\": \"q75\", \"opacity\": 0.4, \"type\": \"scatter\", \"x\": [\"2010-01-10T00:00:00\", \"2010-02-04T00:00:00\", \"2010-02-07T00:00:00\", \"2010-02-19T00:00:00\", \"2010-02-26T00:00:00\", \"2010-03-09T00:00:00\", \"2010-03-12T00:00:00\", \"2010-03-19T00:00:00\", \"2010-03-26T00:00:00\", \"2010-04-06T00:00:00\", \"2010-04-16T00:00:00\", \"2010-04-23T00:00:00\", \"2010-04-30T00:00:00\", \"2010-05-02T00:00:00\", \"2010-05-03T00:00:00\", \"2010-05-11T00:00:00\", \"2010-05-14T00:00:00\", \"2010-05-21T00:00:00\", \"2010-05-28T00:00:00\", \"2010-06-08T00:00:00\", \"2010-06-18T00:00:00\", \"2010-06-25T00:00:00\", \"2010-07-05T00:00:00\", \"2010-07-16T00:00:00\", \"2010-07-23T00:00:00\", \"2010-07-30T00:00:00\", \"2010-08-10T00:00:00\", \"2010-08-13T00:00:00\", \"2010-08-20T00:00:00\", \"2010-08-27T00:00:00\", \"2010-09-04T00:00:00\", \"2010-09-07T00:00:00\", \"2010-09-17T00:00:00\", \"2010-09-24T00:00:00\", \"2010-10-09T00:00:00\", \"2010-10-12T00:00:00\", \"2010-10-15T00:00:00\", \"2010-10-22T00:00:00\", \"2010-10-29T00:00:00\", \"2010-11-06T00:00:00\", \"2010-11-19T00:00:00\", \"2010-11-26T00:00:00\", \"2010-12-02T00:00:00\", \"2010-12-03T00:00:00\", \"2010-12-11T00:00:00\", \"2010-12-17T00:00:00\", \"2010-12-24T00:00:00\", \"2010-12-31T00:00:00\", \"2011-01-04T00:00:00\", \"2011-01-07T00:00:00\", \"2011-01-14T00:00:00\", \"2011-01-21T00:00:00\", \"2011-01-28T00:00:00\", \"2011-02-09T00:00:00\", \"2011-02-12T00:00:00\", \"2011-02-18T00:00:00\", \"2011-02-25T00:00:00\", \"2011-03-06T00:00:00\", \"2011-03-18T00:00:00\", \"2011-03-25T00:00:00\", \"2011-04-02T00:00:00\", \"2011-04-03T00:00:00\", \"2011-04-11T00:00:00\", \"2011-04-15T00:00:00\", \"2011-04-22T00:00:00\", \"2011-04-29T00:00:00\", \"2011-05-08T00:00:00\", \"2011-05-13T00:00:00\", \"2011-05-20T00:00:00\", \"2011-05-27T00:00:00\", \"2011-06-05T00:00:00\", \"2011-06-17T00:00:00\", \"2011-06-24T00:00:00\", \"2011-07-01T00:00:00\", \"2011-07-10T00:00:00\", \"2011-07-15T00:00:00\", \"2011-07-22T00:00:00\", \"2011-07-29T00:00:00\", \"2011-08-04T00:00:00\", \"2011-08-07T00:00:00\", \"2011-08-19T00:00:00\", \"2011-08-26T00:00:00\", \"2011-09-09T00:00:00\", \"2011-09-12T00:00:00\", \"2011-09-16T00:00:00\", \"2011-09-23T00:00:00\", \"2011-09-30T00:00:00\", \"2011-10-06T00:00:00\", \"2011-10-14T00:00:00\", \"2011-10-21T00:00:00\", \"2011-10-28T00:00:00\", \"2011-11-02T00:00:00\", \"2011-11-03T00:00:00\", \"2011-11-11T00:00:00\", \"2011-11-18T00:00:00\", \"2011-11-25T00:00:00\", \"2011-12-08T00:00:00\", \"2011-12-16T00:00:00\", \"2011-12-23T00:00:00\", \"2011-12-30T00:00:00\", \"2012-01-06T00:00:00\", \"2012-01-13T00:00:00\", \"2012-01-20T00:00:00\", \"2012-01-27T00:00:00\", \"2012-02-03T00:00:00\", \"2012-02-11T00:00:00\", \"2012-02-17T00:00:00\", \"2012-02-24T00:00:00\", \"2012-03-02T00:00:00\", \"2012-03-08T00:00:00\", \"2012-03-16T00:00:00\", \"2012-03-23T00:00:00\", \"2012-03-30T00:00:00\", \"2012-04-05T00:00:00\", \"2012-04-13T00:00:00\", \"2012-04-20T00:00:00\", \"2012-04-27T00:00:00\", \"2012-05-10T00:00:00\", \"2012-05-18T00:00:00\", \"2012-05-25T00:00:00\", \"2012-06-01T00:00:00\", \"2012-06-04T00:00:00\", \"2012-06-07T00:00:00\", \"2012-06-15T00:00:00\", \"2012-06-22T00:00:00\", \"2012-06-29T00:00:00\", \"2012-07-09T00:00:00\", \"2012-07-12T00:00:00\", \"2012-07-13T00:00:00\", \"2012-07-20T00:00:00\", \"2012-07-27T00:00:00\", \"2012-08-06T00:00:00\", \"2012-08-17T00:00:00\", \"2012-08-24T00:00:00\", \"2012-08-31T00:00:00\", \"2012-09-03T00:00:00\", \"2012-09-11T00:00:00\", \"2012-09-14T00:00:00\", \"2012-09-21T00:00:00\", \"2012-09-28T00:00:00\", \"2012-10-02T00:00:00\", \"2012-10-08T00:00:00\", \"2012-10-19T00:00:00\", \"2012-10-26T00:00:00\", \"2012-11-05T00:00:00\", \"2012-11-16T00:00:00\", \"2012-11-23T00:00:00\", \"2012-11-30T00:00:00\", \"2012-12-10T00:00:00\", \"2012-12-14T00:00:00\", \"2012-12-21T00:00:00\", \"2012-12-28T00:00:00\", \"2013-01-02T00:00:00\", \"2013-01-03T00:00:00\", \"2013-01-18T00:00:00\", \"2013-01-25T00:00:00\", \"2013-02-15T00:00:00\", \"2013-02-22T00:00:00\", \"2013-03-05T00:00:00\", \"2013-03-15T00:00:00\", \"2013-03-22T00:00:00\", \"2013-03-29T00:00:00\", \"2013-04-01T00:00:00\", \"2013-04-19T00:00:00\", \"2013-04-26T00:00:00\", \"2013-05-04T00:00:00\", \"2013-05-07T00:00:00\", \"2013-05-17T00:00:00\", \"2013-05-24T00:00:00\", \"2013-05-31T00:00:00\", \"2013-06-14T00:00:00\", \"2013-06-21T00:00:00\", \"2013-06-28T00:00:00\", \"2013-07-06T00:00:00\", \"2013-07-19T00:00:00\", \"2013-07-26T00:00:00\", \"2013-08-02T00:00:00\", \"2013-08-03T00:00:00\", \"2013-10-05T00:00:00\", \"2013-11-01T00:00:00\", \"2013-12-04T00:00:00\", \"2013-12-07T00:00:00\"], \"y\": [2.84, 2.85, 2.815, 2.747, 2.7539999999999996, 2.86, 3.0460000000000003, 2.844, 2.8539999999999996, 2.8710000000000004, 2.915, 2.9360000000000004, 2.9410000000000003, 2.7880000000000003, 2.7769999999999997, 2.938, 2.983, 2.9610000000000003, 2.908, 2.802, 2.819, 2.82, 2.9810000000000003, 2.7960000000000003, 2.7969999999999997, 2.7969999999999997, 2.841, 2.8369999999999997, 2.85, 2.8539999999999996, 2.877, 2.806, 2.846, 2.8369999999999997, 2.8369999999999997, 3.1319999999999997, 2.878, 2.9189999999999996, 2.938, 2.841, 3.03, 3.07, 2.773, 2.818, 2.9610000000000003, 3.14, 3.15, 3.177, 3.638, 3.815, 3.215, 3.2319999999999998, 3.2430000000000003, 3.784, 3.5010000000000003, 3.263, 3.281, 3.9730000000000003, 3.634, 3.625, 3.24, 3.437, 3.5860000000000003, 3.823, 3.9189999999999996, 3.988, 3.842, 4.095, 4.101, 4.034, 4.078, 3.873, 3.8510000000000004, 3.193, 3.633, 3.779, 3.8110000000000004, 3.8289999999999997, 3.72, 3.784, 3.747, 3.74, 3.8089999999999997, 3.47, 3.8089999999999997, 3.758, 3.6839999999999997, 3.924, 3.583, 3.6180000000000003, 3.6039999999999996, 3.255, 3.6, 3.57, 3.571, 3.536, 3.812, 3.445, 3.4130000000000003, 3.4019999999999997, 3.798, 3.523, 3.542, 3.568, 3.827, 3.8169999999999997, 3.7030000000000003, 3.7510000000000003, 3.633, 3.698, 3.867, 3.9, 3.9530000000000003, 3.991, 4.044, 4.046, 4.023, 4.027, 3.8989999999999996, 3.85, 3.4389999999999996, 3.9960000000000004, 3.6460000000000004, 3.7560000000000002, 3.735, 3.681, 3.9210000000000003, 3.679, 3.613, 3.61, 3.701, 3.7760000000000002, 3.84, 3.8739999999999997, 3.884, 3.8760000000000003, 3.792, 3.988, 4.056, 3.997, 3.655, 3.772, 4.0, 3.917, 3.947, 3.7539999999999996, 3.748, 3.719, 4.029, 3.637, 3.574, 3.56, 3.608, 3.89, 3.593, 3.5789999999999997, 3.8139999999999996, 3.866, 3.6010000000000004, 3.843, 3.819, 3.7960000000000003, 3.577, 3.678, 3.6260000000000003, 3.772, 3.696, 3.7030000000000003, 3.793, 3.8080000000000003, 3.7710000000000004, 3.74, 3.7260000000000004, 3.7889999999999997, 3.803, 3.865, 3.755, 3.8680000000000003, 3.609, 3.595, 3.7239999999999998, 3.6660000000000004]}, {\"line\": {\"color\": \"red\"}, \"name\": \"Max\", \"opacity\": 0.4, \"type\": \"scatter\", \"x\": [\"2010-01-10T00:00:00\", \"2010-02-04T00:00:00\", \"2010-02-07T00:00:00\", \"2010-02-19T00:00:00\", \"2010-02-26T00:00:00\", \"2010-03-09T00:00:00\", \"2010-03-12T00:00:00\", \"2010-03-19T00:00:00\", \"2010-03-26T00:00:00\", \"2010-04-06T00:00:00\", \"2010-04-16T00:00:00\", \"2010-04-23T00:00:00\", \"2010-04-30T00:00:00\", \"2010-05-02T00:00:00\", \"2010-05-03T00:00:00\", \"2010-05-11T00:00:00\", \"2010-05-14T00:00:00\", \"2010-05-21T00:00:00\", \"2010-05-28T00:00:00\", \"2010-06-08T00:00:00\", \"2010-06-18T00:00:00\", \"2010-06-25T00:00:00\", \"2010-07-05T00:00:00\", \"2010-07-16T00:00:00\", \"2010-07-23T00:00:00\", \"2010-07-30T00:00:00\", \"2010-08-10T00:00:00\", \"2010-08-13T00:00:00\", \"2010-08-20T00:00:00\", \"2010-08-27T00:00:00\", \"2010-09-04T00:00:00\", \"2010-09-07T00:00:00\", \"2010-09-17T00:00:00\", \"2010-09-24T00:00:00\", \"2010-10-09T00:00:00\", \"2010-10-12T00:00:00\", \"2010-10-15T00:00:00\", \"2010-10-22T00:00:00\", \"2010-10-29T00:00:00\", \"2010-11-06T00:00:00\", \"2010-11-19T00:00:00\", \"2010-11-26T00:00:00\", \"2010-12-02T00:00:00\", \"2010-12-03T00:00:00\", \"2010-12-11T00:00:00\", \"2010-12-17T00:00:00\", \"2010-12-24T00:00:00\", \"2010-12-31T00:00:00\", \"2011-01-04T00:00:00\", \"2011-01-07T00:00:00\", \"2011-01-14T00:00:00\", \"2011-01-21T00:00:00\", \"2011-01-28T00:00:00\", \"2011-02-09T00:00:00\", \"2011-02-12T00:00:00\", \"2011-02-18T00:00:00\", \"2011-02-25T00:00:00\", \"2011-03-06T00:00:00\", \"2011-03-18T00:00:00\", \"2011-03-25T00:00:00\", \"2011-04-02T00:00:00\", \"2011-04-03T00:00:00\", \"2011-04-11T00:00:00\", \"2011-04-15T00:00:00\", \"2011-04-22T00:00:00\", \"2011-04-29T00:00:00\", \"2011-05-08T00:00:00\", \"2011-05-13T00:00:00\", \"2011-05-20T00:00:00\", \"2011-05-27T00:00:00\", \"2011-06-05T00:00:00\", \"2011-06-17T00:00:00\", \"2011-06-24T00:00:00\", \"2011-07-01T00:00:00\", \"2011-07-10T00:00:00\", \"2011-07-15T00:00:00\", \"2011-07-22T00:00:00\", \"2011-07-29T00:00:00\", \"2011-08-04T00:00:00\", \"2011-08-07T00:00:00\", \"2011-08-19T00:00:00\", \"2011-08-26T00:00:00\", \"2011-09-09T00:00:00\", \"2011-09-12T00:00:00\", \"2011-09-16T00:00:00\", \"2011-09-23T00:00:00\", \"2011-09-30T00:00:00\", \"2011-10-06T00:00:00\", \"2011-10-14T00:00:00\", \"2011-10-21T00:00:00\", \"2011-10-28T00:00:00\", \"2011-11-02T00:00:00\", \"2011-11-03T00:00:00\", \"2011-11-11T00:00:00\", \"2011-11-18T00:00:00\", \"2011-11-25T00:00:00\", \"2011-12-08T00:00:00\", \"2011-12-16T00:00:00\", \"2011-12-23T00:00:00\", \"2011-12-30T00:00:00\", \"2012-01-06T00:00:00\", \"2012-01-13T00:00:00\", \"2012-01-20T00:00:00\", \"2012-01-27T00:00:00\", \"2012-02-03T00:00:00\", \"2012-02-11T00:00:00\", \"2012-02-17T00:00:00\", \"2012-02-24T00:00:00\", \"2012-03-02T00:00:00\", \"2012-03-08T00:00:00\", \"2012-03-16T00:00:00\", \"2012-03-23T00:00:00\", \"2012-03-30T00:00:00\", \"2012-04-05T00:00:00\", \"2012-04-13T00:00:00\", \"2012-04-20T00:00:00\", \"2012-04-27T00:00:00\", \"2012-05-10T00:00:00\", \"2012-05-18T00:00:00\", \"2012-05-25T00:00:00\", \"2012-06-01T00:00:00\", \"2012-06-04T00:00:00\", \"2012-06-07T00:00:00\", \"2012-06-15T00:00:00\", \"2012-06-22T00:00:00\", \"2012-06-29T00:00:00\", \"2012-07-09T00:00:00\", \"2012-07-12T00:00:00\", \"2012-07-13T00:00:00\", \"2012-07-20T00:00:00\", \"2012-07-27T00:00:00\", \"2012-08-06T00:00:00\", \"2012-08-17T00:00:00\", \"2012-08-24T00:00:00\", \"2012-08-31T00:00:00\", \"2012-09-03T00:00:00\", \"2012-09-11T00:00:00\", \"2012-09-14T00:00:00\", \"2012-09-21T00:00:00\", \"2012-09-28T00:00:00\", \"2012-10-02T00:00:00\", \"2012-10-08T00:00:00\", \"2012-10-19T00:00:00\", \"2012-10-26T00:00:00\", \"2012-11-05T00:00:00\", \"2012-11-16T00:00:00\", \"2012-11-23T00:00:00\", \"2012-11-30T00:00:00\", \"2012-12-10T00:00:00\", \"2012-12-14T00:00:00\", \"2012-12-21T00:00:00\", \"2012-12-28T00:00:00\", \"2013-01-02T00:00:00\", \"2013-01-03T00:00:00\", \"2013-01-18T00:00:00\", \"2013-01-25T00:00:00\", \"2013-02-15T00:00:00\", \"2013-02-22T00:00:00\", \"2013-03-05T00:00:00\", \"2013-03-15T00:00:00\", \"2013-03-22T00:00:00\", \"2013-03-29T00:00:00\", \"2013-04-01T00:00:00\", \"2013-04-19T00:00:00\", \"2013-04-26T00:00:00\", \"2013-05-04T00:00:00\", \"2013-05-07T00:00:00\", \"2013-05-17T00:00:00\", \"2013-05-24T00:00:00\", \"2013-05-31T00:00:00\", \"2013-06-14T00:00:00\", \"2013-06-21T00:00:00\", \"2013-06-28T00:00:00\", \"2013-07-06T00:00:00\", \"2013-07-19T00:00:00\", \"2013-07-26T00:00:00\", \"2013-08-02T00:00:00\", \"2013-08-03T00:00:00\", \"2013-10-05T00:00:00\", \"2013-11-01T00:00:00\", \"2013-12-04T00:00:00\", \"2013-12-07T00:00:00\"], \"y\": [3.0010000000000003, 3.0860000000000003, 3.105, 2.915, 2.91, 3.0869999999999997, 3.2, 3.054, 3.083, 3.0060000000000002, 3.109, 3.05, 3.105, 2.9619999999999997, 2.987, 3.1289999999999996, 3.145, 3.12, 3.0580000000000003, 3.123, 3.043, 3.0839999999999996, 3.127, 3.094, 3.112, 3.017, 3.013, 3.159, 3.0410000000000004, 3.1289999999999996, 3.09, 3.1, 3.028, 2.9389999999999996, 3.0439999999999996, 3.255, 3.08, 3.049, 3.13, 3.057, 3.161, 3.1860000000000004, 2.946, 3.034, 3.13, 3.301, 3.3089999999999997, 3.3360000000000003, 3.8110000000000004, 3.9160000000000004, 3.367, 3.391, 3.4019999999999997, 3.8789999999999996, 3.701, 3.43, 3.53, 4.069, 3.892, 3.909, 3.4, 3.674, 3.8280000000000003, 4.0889999999999995, 4.1339999999999995, 4.151, 4.02, 4.211, 4.202, 4.1339999999999995, 4.1930000000000005, 3.989, 3.964, 3.3510000000000004, 3.827, 3.915, 3.972, 4.004, 4.003, 3.886, 3.9419999999999997, 3.906, 3.93, 3.6439999999999997, 3.937, 3.8989999999999996, 3.877, 4.025, 3.805, 3.842, 3.843, 3.4160000000000004, 3.818, 3.824, 3.813, 3.76, 3.995, 3.611, 3.5869999999999997, 3.5660000000000003, 4.277, 3.6660000000000004, 3.705, 3.737, 4.178, 4.099, 3.8739999999999997, 3.95, 3.7960000000000003, 3.819, 4.273, 4.288, 4.294, 4.171, 4.254, 4.2219999999999995, 4.1930000000000005, 4.151, 4.308, 4.293, 3.5989999999999998, 4.282, 3.765, 4.144, 4.013999999999999, 3.875, 4.124, 3.92, 3.7230000000000003, 3.7319999999999998, 3.82, 4.103, 4.002, 4.055, 4.093, 4.25, 3.951, 4.133, 4.203, 4.158, 3.826, 3.863, 4.449, 4.301, 4.186, 3.9419999999999997, 3.978, 3.966, 4.468, 3.8689999999999998, 3.8160000000000003, 3.785, 3.806, 4.109, 3.798, 3.78, 4.006, 4.045, 3.775, 4.104, 4.062, 4.016, 3.7939999999999996, 3.9410000000000003, 3.889, 3.998, 3.778, 3.8089999999999997, 3.884, 3.87, 3.7969999999999997, 3.793, 3.8, 3.825, 3.9130000000000003, 3.951, 3.945, 4.125, 3.762, 3.802, 3.9810000000000003, 3.7910000000000004]}],                        {\"template\": {\"data\": {\"bar\": [{\"error_x\": {\"color\": \"#2a3f5f\"}, \"error_y\": {\"color\": \"#2a3f5f\"}, \"marker\": {\"line\": {\"color\": \"#E5ECF6\", \"width\": 0.5}}, \"type\": \"bar\"}], \"barpolar\": [{\"marker\": {\"line\": {\"color\": \"#E5ECF6\", \"width\": 0.5}}, \"type\": \"barpolar\"}], \"carpet\": [{\"aaxis\": {\"endlinecolor\": \"#2a3f5f\", \"gridcolor\": \"white\", \"linecolor\": \"white\", \"minorgridcolor\": \"white\", \"startlinecolor\": \"#2a3f5f\"}, \"baxis\": {\"endlinecolor\": \"#2a3f5f\", \"gridcolor\": \"white\", \"linecolor\": \"white\", \"minorgridcolor\": \"white\", \"startlinecolor\": \"#2a3f5f\"}, \"type\": \"carpet\"}], \"choropleth\": [{\"colorbar\": {\"outlinewidth\": 0, \"ticks\": \"\"}, \"type\": \"choropleth\"}], \"contour\": [{\"colorbar\": {\"outlinewidth\": 0, \"ticks\": \"\"}, \"colorscale\": [[0.0, \"#0d0887\"], [0.1111111111111111, \"#46039f\"], [0.2222222222222222, \"#7201a8\"], [0.3333333333333333, \"#9c179e\"], [0.4444444444444444, \"#bd3786\"], [0.5555555555555556, \"#d8576b\"], [0.6666666666666666, \"#ed7953\"], [0.7777777777777778, \"#fb9f3a\"], [0.8888888888888888, \"#fdca26\"], [1.0, \"#f0f921\"]], \"type\": \"contour\"}], \"contourcarpet\": [{\"colorbar\": {\"outlinewidth\": 0, \"ticks\": \"\"}, \"type\": \"contourcarpet\"}], \"heatmap\": [{\"colorbar\": {\"outlinewidth\": 0, \"ticks\": \"\"}, \"colorscale\": [[0.0, \"#0d0887\"], [0.1111111111111111, \"#46039f\"], [0.2222222222222222, \"#7201a8\"], [0.3333333333333333, \"#9c179e\"], [0.4444444444444444, \"#bd3786\"], [0.5555555555555556, \"#d8576b\"], [0.6666666666666666, \"#ed7953\"], [0.7777777777777778, \"#fb9f3a\"], [0.8888888888888888, \"#fdca26\"], [1.0, \"#f0f921\"]], \"type\": \"heatmap\"}], \"heatmapgl\": [{\"colorbar\": {\"outlinewidth\": 0, \"ticks\": \"\"}, \"colorscale\": [[0.0, \"#0d0887\"], [0.1111111111111111, \"#46039f\"], [0.2222222222222222, \"#7201a8\"], [0.3333333333333333, \"#9c179e\"], [0.4444444444444444, \"#bd3786\"], [0.5555555555555556, \"#d8576b\"], [0.6666666666666666, \"#ed7953\"], [0.7777777777777778, \"#fb9f3a\"], [0.8888888888888888, \"#fdca26\"], [1.0, \"#f0f921\"]], \"type\": \"heatmapgl\"}], \"histogram\": [{\"marker\": {\"colorbar\": {\"outlinewidth\": 0, \"ticks\": \"\"}}, \"type\": \"histogram\"}], \"histogram2d\": [{\"colorbar\": {\"outlinewidth\": 0, \"ticks\": \"\"}, \"colorscale\": [[0.0, \"#0d0887\"], [0.1111111111111111, \"#46039f\"], [0.2222222222222222, \"#7201a8\"], [0.3333333333333333, \"#9c179e\"], [0.4444444444444444, \"#bd3786\"], [0.5555555555555556, \"#d8576b\"], [0.6666666666666666, \"#ed7953\"], [0.7777777777777778, \"#fb9f3a\"], [0.8888888888888888, \"#fdca26\"], [1.0, \"#f0f921\"]], \"type\": \"histogram2d\"}], \"histogram2dcontour\": [{\"colorbar\": {\"outlinewidth\": 0, \"ticks\": \"\"}, \"colorscale\": [[0.0, \"#0d0887\"], [0.1111111111111111, \"#46039f\"], [0.2222222222222222, \"#7201a8\"], [0.3333333333333333, \"#9c179e\"], [0.4444444444444444, \"#bd3786\"], [0.5555555555555556, \"#d8576b\"], [0.6666666666666666, \"#ed7953\"], [0.7777777777777778, \"#fb9f3a\"], [0.8888888888888888, \"#fdca26\"], [1.0, \"#f0f921\"]], \"type\": \"histogram2dcontour\"}], \"mesh3d\": [{\"colorbar\": {\"outlinewidth\": 0, \"ticks\": \"\"}, \"type\": \"mesh3d\"}], \"parcoords\": [{\"line\": {\"colorbar\": {\"outlinewidth\": 0, \"ticks\": \"\"}}, \"type\": \"parcoords\"}], \"pie\": [{\"automargin\": true, \"type\": \"pie\"}], \"scatter\": [{\"marker\": {\"colorbar\": {\"outlinewidth\": 0, \"ticks\": \"\"}}, \"type\": \"scatter\"}], \"scatter3d\": [{\"line\": {\"colorbar\": {\"outlinewidth\": 0, \"ticks\": \"\"}}, \"marker\": {\"colorbar\": {\"outlinewidth\": 0, \"ticks\": \"\"}}, \"type\": \"scatter3d\"}], \"scattercarpet\": [{\"marker\": {\"colorbar\": {\"outlinewidth\": 0, \"ticks\": \"\"}}, \"type\": \"scattercarpet\"}], \"scattergeo\": [{\"marker\": {\"colorbar\": {\"outlinewidth\": 0, \"ticks\": \"\"}}, \"type\": \"scattergeo\"}], \"scattergl\": [{\"marker\": {\"colorbar\": {\"outlinewidth\": 0, \"ticks\": \"\"}}, \"type\": \"scattergl\"}], \"scattermapbox\": [{\"marker\": {\"colorbar\": {\"outlinewidth\": 0, \"ticks\": \"\"}}, \"type\": \"scattermapbox\"}], \"scatterpolar\": [{\"marker\": {\"colorbar\": {\"outlinewidth\": 0, \"ticks\": \"\"}}, \"type\": \"scatterpolar\"}], \"scatterpolargl\": [{\"marker\": {\"colorbar\": {\"outlinewidth\": 0, \"ticks\": \"\"}}, \"type\": \"scatterpolargl\"}], \"scatterternary\": [{\"marker\": {\"colorbar\": {\"outlinewidth\": 0, \"ticks\": \"\"}}, \"type\": \"scatterternary\"}], \"surface\": [{\"colorbar\": {\"outlinewidth\": 0, \"ticks\": \"\"}, \"colorscale\": [[0.0, \"#0d0887\"], [0.1111111111111111, \"#46039f\"], [0.2222222222222222, \"#7201a8\"], [0.3333333333333333, \"#9c179e\"], [0.4444444444444444, \"#bd3786\"], [0.5555555555555556, \"#d8576b\"], [0.6666666666666666, \"#ed7953\"], [0.7777777777777778, \"#fb9f3a\"], [0.8888888888888888, \"#fdca26\"], [1.0, \"#f0f921\"]], \"type\": \"surface\"}], \"table\": [{\"cells\": {\"fill\": {\"color\": \"#EBF0F8\"}, \"line\": {\"color\": \"white\"}}, \"header\": {\"fill\": {\"color\": \"#C8D4E3\"}, \"line\": {\"color\": \"white\"}}, \"type\": \"table\"}]}, \"layout\": {\"annotationdefaults\": {\"arrowcolor\": \"#2a3f5f\", \"arrowhead\": 0, \"arrowwidth\": 1}, \"autotypenumbers\": \"strict\", \"coloraxis\": {\"colorbar\": {\"outlinewidth\": 0, \"ticks\": \"\"}}, \"colorscale\": {\"diverging\": [[0, \"#8e0152\"], [0.1, \"#c51b7d\"], [0.2, \"#de77ae\"], [0.3, \"#f1b6da\"], [0.4, \"#fde0ef\"], [0.5, \"#f7f7f7\"], [0.6, \"#e6f5d0\"], [0.7, \"#b8e186\"], [0.8, \"#7fbc41\"], [0.9, \"#4d9221\"], [1, \"#276419\"]], \"sequential\": [[0.0, \"#0d0887\"], [0.1111111111111111, \"#46039f\"], [0.2222222222222222, \"#7201a8\"], [0.3333333333333333, \"#9c179e\"], [0.4444444444444444, \"#bd3786\"], [0.5555555555555556, \"#d8576b\"], [0.6666666666666666, \"#ed7953\"], [0.7777777777777778, \"#fb9f3a\"], [0.8888888888888888, \"#fdca26\"], [1.0, \"#f0f921\"]], \"sequentialminus\": [[0.0, \"#0d0887\"], [0.1111111111111111, \"#46039f\"], [0.2222222222222222, \"#7201a8\"], [0.3333333333333333, \"#9c179e\"], [0.4444444444444444, \"#bd3786\"], [0.5555555555555556, \"#d8576b\"], [0.6666666666666666, \"#ed7953\"], [0.7777777777777778, \"#fb9f3a\"], [0.8888888888888888, \"#fdca26\"], [1.0, \"#f0f921\"]]}, \"colorway\": [\"#636efa\", \"#EF553B\", \"#00cc96\", \"#ab63fa\", \"#FFA15A\", \"#19d3f3\", \"#FF6692\", \"#B6E880\", \"#FF97FF\", \"#FECB52\"], \"font\": {\"color\": \"#2a3f5f\"}, \"geo\": {\"bgcolor\": \"white\", \"lakecolor\": \"white\", \"landcolor\": \"#E5ECF6\", \"showlakes\": true, \"showland\": true, \"subunitcolor\": \"white\"}, \"hoverlabel\": {\"align\": \"left\"}, \"hovermode\": \"closest\", \"mapbox\": {\"style\": \"light\"}, \"paper_bgcolor\": \"white\", \"plot_bgcolor\": \"#E5ECF6\", \"polar\": {\"angularaxis\": {\"gridcolor\": \"white\", \"linecolor\": \"white\", \"ticks\": \"\"}, \"bgcolor\": \"#E5ECF6\", \"radialaxis\": {\"gridcolor\": \"white\", \"linecolor\": \"white\", \"ticks\": \"\"}}, \"scene\": {\"xaxis\": {\"backgroundcolor\": \"#E5ECF6\", \"gridcolor\": \"white\", \"gridwidth\": 2, \"linecolor\": \"white\", \"showbackground\": true, \"ticks\": \"\", \"zerolinecolor\": \"white\"}, \"yaxis\": {\"backgroundcolor\": \"#E5ECF6\", \"gridcolor\": \"white\", \"gridwidth\": 2, \"linecolor\": \"white\", \"showbackground\": true, \"ticks\": \"\", \"zerolinecolor\": \"white\"}, \"zaxis\": {\"backgroundcolor\": \"#E5ECF6\", \"gridcolor\": \"white\", \"gridwidth\": 2, \"linecolor\": \"white\", \"showbackground\": true, \"ticks\": \"\", \"zerolinecolor\": \"white\"}}, \"shapedefaults\": {\"line\": {\"color\": \"#2a3f5f\"}}, \"ternary\": {\"aaxis\": {\"gridcolor\": \"white\", \"linecolor\": \"white\", \"ticks\": \"\"}, \"baxis\": {\"gridcolor\": \"white\", \"linecolor\": \"white\", \"ticks\": \"\"}, \"bgcolor\": \"#E5ECF6\", \"caxis\": {\"gridcolor\": \"white\", \"linecolor\": \"white\", \"ticks\": \"\"}}, \"title\": {\"x\": 0.05}, \"xaxis\": {\"automargin\": true, \"gridcolor\": \"white\", \"linecolor\": \"white\", \"ticks\": \"\", \"title\": {\"standoff\": 15}, \"zerolinecolor\": \"white\", \"zerolinewidth\": 2}, \"yaxis\": {\"automargin\": true, \"gridcolor\": \"white\", \"linecolor\": \"white\", \"ticks\": \"\", \"title\": {\"standoff\": 15}, \"zerolinecolor\": \"white\", \"zerolinewidth\": 2}}}, \"title\": {\"text\": \"Min, Mean, and Max of Fuel_Price\"}},                        {\"responsive\": true}                    ).then(function(){\n",
       "                            \n",
       "var gd = document.getElementById('305c08c8-c77c-4b18-9349-98f4cff0d776');\n",
       "var x = new MutationObserver(function (mutations, observer) {{\n",
       "        var display = window.getComputedStyle(gd).display;\n",
       "        if (!display || display === 'none') {{\n",
       "            console.log([gd, 'removed!']);\n",
       "            Plotly.purge(gd);\n",
       "            observer.disconnect();\n",
       "        }}\n",
       "}});\n",
       "\n",
       "// Listen for the removal of the full notebook cells\n",
       "var notebookContainer = gd.closest('#notebook-container');\n",
       "if (notebookContainer) {{\n",
       "    x.observe(notebookContainer, {childList: true});\n",
       "}}\n",
       "\n",
       "// Listen for the clearing of the current output cell\n",
       "var outputEl = gd.closest('.output');\n",
       "if (outputEl) {{\n",
       "    x.observe(outputEl, {childList: true});\n",
       "}}\n",
       "\n",
       "                        })                };                });            </script>        </div>"
      ]
     },
     "metadata": {},
     "output_type": "display_data"
    }
   ],
   "source": [
    "plot_min_max_avg (features_agg, 'Fuel_Price')"
   ]
  },
  {
   "cell_type": "code",
   "execution_count": 18,
   "metadata": {},
   "outputs": [
    {
     "data": {
      "application/vnd.plotly.v1+json": {
       "config": {
        "linkText": "Export to plot.ly",
        "plotlyServerURL": "https://plot.ly",
        "showLink": false
       },
       "data": [
        {
         "line": {
          "color": "green"
         },
         "name": "Min",
         "opacity": 0.4,
         "type": "scatter",
         "x": [
          "2010-01-10T00:00:00",
          "2010-02-04T00:00:00",
          "2010-02-07T00:00:00",
          "2010-02-19T00:00:00",
          "2010-02-26T00:00:00",
          "2010-03-09T00:00:00",
          "2010-03-12T00:00:00",
          "2010-03-19T00:00:00",
          "2010-03-26T00:00:00",
          "2010-04-06T00:00:00",
          "2010-04-16T00:00:00",
          "2010-04-23T00:00:00",
          "2010-04-30T00:00:00",
          "2010-05-02T00:00:00",
          "2010-05-03T00:00:00",
          "2010-05-11T00:00:00",
          "2010-05-14T00:00:00",
          "2010-05-21T00:00:00",
          "2010-05-28T00:00:00",
          "2010-06-08T00:00:00",
          "2010-06-18T00:00:00",
          "2010-06-25T00:00:00",
          "2010-07-05T00:00:00",
          "2010-07-16T00:00:00",
          "2010-07-23T00:00:00",
          "2010-07-30T00:00:00",
          "2010-08-10T00:00:00",
          "2010-08-13T00:00:00",
          "2010-08-20T00:00:00",
          "2010-08-27T00:00:00",
          "2010-09-04T00:00:00",
          "2010-09-07T00:00:00",
          "2010-09-17T00:00:00",
          "2010-09-24T00:00:00",
          "2010-10-09T00:00:00",
          "2010-10-12T00:00:00",
          "2010-10-15T00:00:00",
          "2010-10-22T00:00:00",
          "2010-10-29T00:00:00",
          "2010-11-06T00:00:00",
          "2010-11-19T00:00:00",
          "2010-11-26T00:00:00",
          "2010-12-02T00:00:00",
          "2010-12-03T00:00:00",
          "2010-12-11T00:00:00",
          "2010-12-17T00:00:00",
          "2010-12-24T00:00:00",
          "2010-12-31T00:00:00",
          "2011-01-04T00:00:00",
          "2011-01-07T00:00:00",
          "2011-01-14T00:00:00",
          "2011-01-21T00:00:00",
          "2011-01-28T00:00:00",
          "2011-02-09T00:00:00",
          "2011-02-12T00:00:00",
          "2011-02-18T00:00:00",
          "2011-02-25T00:00:00",
          "2011-03-06T00:00:00",
          "2011-03-18T00:00:00",
          "2011-03-25T00:00:00",
          "2011-04-02T00:00:00",
          "2011-04-03T00:00:00",
          "2011-04-11T00:00:00",
          "2011-04-15T00:00:00",
          "2011-04-22T00:00:00",
          "2011-04-29T00:00:00",
          "2011-05-08T00:00:00",
          "2011-05-13T00:00:00",
          "2011-05-20T00:00:00",
          "2011-05-27T00:00:00",
          "2011-06-05T00:00:00",
          "2011-06-17T00:00:00",
          "2011-06-24T00:00:00",
          "2011-07-01T00:00:00",
          "2011-07-10T00:00:00",
          "2011-07-15T00:00:00",
          "2011-07-22T00:00:00",
          "2011-07-29T00:00:00",
          "2011-08-04T00:00:00",
          "2011-08-07T00:00:00",
          "2011-08-19T00:00:00",
          "2011-08-26T00:00:00",
          "2011-09-09T00:00:00",
          "2011-09-12T00:00:00",
          "2011-09-16T00:00:00",
          "2011-09-23T00:00:00",
          "2011-09-30T00:00:00",
          "2011-10-06T00:00:00",
          "2011-10-14T00:00:00",
          "2011-10-21T00:00:00",
          "2011-10-28T00:00:00",
          "2011-11-02T00:00:00",
          "2011-11-03T00:00:00",
          "2011-11-11T00:00:00",
          "2011-11-18T00:00:00",
          "2011-11-25T00:00:00",
          "2011-12-08T00:00:00",
          "2011-12-16T00:00:00",
          "2011-12-23T00:00:00",
          "2011-12-30T00:00:00",
          "2012-01-06T00:00:00",
          "2012-01-13T00:00:00",
          "2012-01-20T00:00:00",
          "2012-01-27T00:00:00",
          "2012-02-03T00:00:00",
          "2012-02-11T00:00:00",
          "2012-02-17T00:00:00",
          "2012-02-24T00:00:00",
          "2012-03-02T00:00:00",
          "2012-03-08T00:00:00",
          "2012-03-16T00:00:00",
          "2012-03-23T00:00:00",
          "2012-03-30T00:00:00",
          "2012-04-05T00:00:00",
          "2012-04-13T00:00:00",
          "2012-04-20T00:00:00",
          "2012-04-27T00:00:00",
          "2012-05-10T00:00:00",
          "2012-05-18T00:00:00",
          "2012-05-25T00:00:00",
          "2012-06-01T00:00:00",
          "2012-06-04T00:00:00",
          "2012-06-07T00:00:00",
          "2012-06-15T00:00:00",
          "2012-06-22T00:00:00",
          "2012-06-29T00:00:00",
          "2012-07-09T00:00:00",
          "2012-07-12T00:00:00",
          "2012-07-13T00:00:00",
          "2012-07-20T00:00:00",
          "2012-07-27T00:00:00",
          "2012-08-06T00:00:00",
          "2012-08-17T00:00:00",
          "2012-08-24T00:00:00",
          "2012-08-31T00:00:00",
          "2012-09-03T00:00:00",
          "2012-09-11T00:00:00",
          "2012-09-14T00:00:00",
          "2012-09-21T00:00:00",
          "2012-09-28T00:00:00",
          "2012-10-02T00:00:00",
          "2012-10-08T00:00:00",
          "2012-10-19T00:00:00",
          "2012-10-26T00:00:00",
          "2012-11-05T00:00:00",
          "2012-11-16T00:00:00",
          "2012-11-23T00:00:00",
          "2012-11-30T00:00:00",
          "2012-12-10T00:00:00",
          "2012-12-14T00:00:00",
          "2012-12-21T00:00:00",
          "2012-12-28T00:00:00",
          "2013-01-02T00:00:00",
          "2013-01-03T00:00:00",
          "2013-01-18T00:00:00",
          "2013-01-25T00:00:00",
          "2013-02-15T00:00:00",
          "2013-02-22T00:00:00",
          "2013-03-05T00:00:00",
          "2013-03-15T00:00:00",
          "2013-03-22T00:00:00",
          "2013-03-29T00:00:00",
          "2013-04-01T00:00:00",
          "2013-04-19T00:00:00",
          "2013-04-26T00:00:00",
          "2013-05-04T00:00:00",
          "2013-05-07T00:00:00",
          "2013-05-17T00:00:00",
          "2013-05-24T00:00:00",
          "2013-05-31T00:00:00",
          "2013-06-14T00:00:00",
          "2013-06-21T00:00:00",
          "2013-06-28T00:00:00",
          "2013-07-06T00:00:00",
          "2013-07-19T00:00:00",
          "2013-07-26T00:00:00",
          "2013-08-02T00:00:00",
          "2013-08-03T00:00:00",
          "2013-10-05T00:00:00",
          "2013-11-01T00:00:00",
          "2013-12-04T00:00:00",
          "2013-12-07T00:00:00"
         ],
         "y": [
          126.2346,
          126.60348390000001,
          126.1392,
          126.5262857,
          126.55228570000001,
          126.1019355,
          126.73133329999999,
          126.6066452,
          126.6050645,
          126.1360645,
          126.5621,
          126.47133329999998,
          126.38056670000002,
          126.4420645,
          126.57828570000001,
          126.49129029999999,
          126.20854840000001,
          126.18438710000001,
          126.16022579999999,
          126.08545159999998,
          126.11399999999999,
          126.1266,
          126.2898,
          126.1498065,
          126.1283548,
          126.10690320000002,
          126.27916670000002,
          126.064,
          126.0766452,
          126.08929029999999,
          126.60190320000001,
          126.1518,
          126.14546670000001,
          126.19003329999998,
          126.11458059999998,
          126.7934,
          126.3266774,
          126.38154840000001,
          126.43641940000002,
          126.11190320000001,
          126.6072,
          126.66926670000001,
          126.4962581,
          126.6042857,
          126.5461613,
          126.87948390000001,
          126.98358059999998,
          127.0876774,
          128.7199355,
          129.0894,
          127.3009355,
          127.44048390000002,
          127.58003229999998,
          129.32593549999999,
          129.84596670000002,
          127.99525,
          128.13,
          129.0490323,
          128.5121935,
          128.6160645,
          127.71958059999999,
          128.26475,
          129.8051935,
          128.91073329999998,
          128.9553,
          128.9998667,
          129.1846452,
          129.089,
          129.0756774,
          129.0623548,
          129.04443329999998,
          129.0432,
          129.0663,
          127.19177420000001,
          129.6938,
          129.1338387,
          129.1507742,
          129.16770970000002,
          128.8238065,
          129.1125,
          129.2405806,
          129.2832581,
          129.3686129,
          129.8555333,
          129.4306,
          129.5183333,
          129.6060667,
          129.0357097,
          129.77064520000002,
          129.78216129999998,
          129.7936774,
          127.85912900000001,
          128.3995,
          129.81670970000002,
          129.82683329999998,
          129.8364,
          129.2015806,
          129.8980645,
          129.98454840000002,
          130.07103229999998,
          130.95922579999998,
          130.244,
          130.27922579999998,
          130.31445159999998,
          130.6457931,
          131.2362258,
          130.4546207,
          130.5502069,
          130.3496774,
          130.73787099999998,
          130.82619350000002,
          130.8966452,
          130.96709679999998,
          131.136,
          131.108,
          131.11733329999998,
          131.12666670000002,
          131.0756667,
          131.0983226,
          131.02877420000002,
          130.15751609999998,
          131.03754840000002,
          130.7196333,
          130.82953329999998,
          130.7929,
          130.75626670000003,
          130.93254840000003,
          131.4784,
          130.683,
          130.70129029999998,
          130.7195806,
          130.8896774,
          130.7909677,
          130.8381613,
          130.8853548,
          130.7413793,
          131.2793548,
          130.97766670000001,
          131.01033329999999,
          131.043,
          130.38490320000002,
          130.7561613,
          131.14996770000002,
          131.19309679999998,
          131.14533329999998,
          131.3258,
          131.37666670000002,
          131.4275333,
          131.1083333,
          131.537,
          131.642,
          131.747,
          132.1537097,
          132.3675714,
          132.030871,
          132.0922903,
          132.2725714,
          132.32007140000002,
          null,
          132.4668065,
          132.529129,
          132.59145159999997,
          131.852,
          132.71609679999997,
          132.71609679999997,
          132.65377420000002,
          null,
          null,
          null,
          null,
          null,
          null,
          null,
          null,
          null,
          null,
          132.215129,
          132.41507140000002,
          null,
          131.957,
          132.71609679999997,
          null
         ]
        },
        {
         "line": {
          "color": "blue"
         },
         "name": "q25",
         "opacity": 0.4,
         "type": "scatter",
         "x": [
          "2010-01-10T00:00:00",
          "2010-02-04T00:00:00",
          "2010-02-07T00:00:00",
          "2010-02-19T00:00:00",
          "2010-02-26T00:00:00",
          "2010-03-09T00:00:00",
          "2010-03-12T00:00:00",
          "2010-03-19T00:00:00",
          "2010-03-26T00:00:00",
          "2010-04-06T00:00:00",
          "2010-04-16T00:00:00",
          "2010-04-23T00:00:00",
          "2010-04-30T00:00:00",
          "2010-05-02T00:00:00",
          "2010-05-03T00:00:00",
          "2010-05-11T00:00:00",
          "2010-05-14T00:00:00",
          "2010-05-21T00:00:00",
          "2010-05-28T00:00:00",
          "2010-06-08T00:00:00",
          "2010-06-18T00:00:00",
          "2010-06-25T00:00:00",
          "2010-07-05T00:00:00",
          "2010-07-16T00:00:00",
          "2010-07-23T00:00:00",
          "2010-07-30T00:00:00",
          "2010-08-10T00:00:00",
          "2010-08-13T00:00:00",
          "2010-08-20T00:00:00",
          "2010-08-27T00:00:00",
          "2010-09-04T00:00:00",
          "2010-09-07T00:00:00",
          "2010-09-17T00:00:00",
          "2010-09-24T00:00:00",
          "2010-10-09T00:00:00",
          "2010-10-12T00:00:00",
          "2010-10-15T00:00:00",
          "2010-10-22T00:00:00",
          "2010-10-29T00:00:00",
          "2010-11-06T00:00:00",
          "2010-11-19T00:00:00",
          "2010-11-26T00:00:00",
          "2010-12-02T00:00:00",
          "2010-12-03T00:00:00",
          "2010-12-11T00:00:00",
          "2010-12-17T00:00:00",
          "2010-12-24T00:00:00",
          "2010-12-31T00:00:00",
          "2011-01-04T00:00:00",
          "2011-01-07T00:00:00",
          "2011-01-14T00:00:00",
          "2011-01-21T00:00:00",
          "2011-01-28T00:00:00",
          "2011-02-09T00:00:00",
          "2011-02-12T00:00:00",
          "2011-02-18T00:00:00",
          "2011-02-25T00:00:00",
          "2011-03-06T00:00:00",
          "2011-03-18T00:00:00",
          "2011-03-25T00:00:00",
          "2011-04-02T00:00:00",
          "2011-04-03T00:00:00",
          "2011-04-11T00:00:00",
          "2011-04-15T00:00:00",
          "2011-04-22T00:00:00",
          "2011-04-29T00:00:00",
          "2011-05-08T00:00:00",
          "2011-05-13T00:00:00",
          "2011-05-20T00:00:00",
          "2011-05-27T00:00:00",
          "2011-06-05T00:00:00",
          "2011-06-17T00:00:00",
          "2011-06-24T00:00:00",
          "2011-07-01T00:00:00",
          "2011-07-10T00:00:00",
          "2011-07-15T00:00:00",
          "2011-07-22T00:00:00",
          "2011-07-29T00:00:00",
          "2011-08-04T00:00:00",
          "2011-08-07T00:00:00",
          "2011-08-19T00:00:00",
          "2011-08-26T00:00:00",
          "2011-09-09T00:00:00",
          "2011-09-12T00:00:00",
          "2011-09-16T00:00:00",
          "2011-09-23T00:00:00",
          "2011-09-30T00:00:00",
          "2011-10-06T00:00:00",
          "2011-10-14T00:00:00",
          "2011-10-21T00:00:00",
          "2011-10-28T00:00:00",
          "2011-11-02T00:00:00",
          "2011-11-03T00:00:00",
          "2011-11-11T00:00:00",
          "2011-11-18T00:00:00",
          "2011-11-25T00:00:00",
          "2011-12-08T00:00:00",
          "2011-12-16T00:00:00",
          "2011-12-23T00:00:00",
          "2011-12-30T00:00:00",
          "2012-01-06T00:00:00",
          "2012-01-13T00:00:00",
          "2012-01-20T00:00:00",
          "2012-01-27T00:00:00",
          "2012-02-03T00:00:00",
          "2012-02-11T00:00:00",
          "2012-02-17T00:00:00",
          "2012-02-24T00:00:00",
          "2012-03-02T00:00:00",
          "2012-03-08T00:00:00",
          "2012-03-16T00:00:00",
          "2012-03-23T00:00:00",
          "2012-03-30T00:00:00",
          "2012-04-05T00:00:00",
          "2012-04-13T00:00:00",
          "2012-04-20T00:00:00",
          "2012-04-27T00:00:00",
          "2012-05-10T00:00:00",
          "2012-05-18T00:00:00",
          "2012-05-25T00:00:00",
          "2012-06-01T00:00:00",
          "2012-06-04T00:00:00",
          "2012-06-07T00:00:00",
          "2012-06-15T00:00:00",
          "2012-06-22T00:00:00",
          "2012-06-29T00:00:00",
          "2012-07-09T00:00:00",
          "2012-07-12T00:00:00",
          "2012-07-13T00:00:00",
          "2012-07-20T00:00:00",
          "2012-07-27T00:00:00",
          "2012-08-06T00:00:00",
          "2012-08-17T00:00:00",
          "2012-08-24T00:00:00",
          "2012-08-31T00:00:00",
          "2012-09-03T00:00:00",
          "2012-09-11T00:00:00",
          "2012-09-14T00:00:00",
          "2012-09-21T00:00:00",
          "2012-09-28T00:00:00",
          "2012-10-02T00:00:00",
          "2012-10-08T00:00:00",
          "2012-10-19T00:00:00",
          "2012-10-26T00:00:00",
          "2012-11-05T00:00:00",
          "2012-11-16T00:00:00",
          "2012-11-23T00:00:00",
          "2012-11-30T00:00:00",
          "2012-12-10T00:00:00",
          "2012-12-14T00:00:00",
          "2012-12-21T00:00:00",
          "2012-12-28T00:00:00",
          "2013-01-02T00:00:00",
          "2013-01-03T00:00:00",
          "2013-01-18T00:00:00",
          "2013-01-25T00:00:00",
          "2013-02-15T00:00:00",
          "2013-02-22T00:00:00",
          "2013-03-05T00:00:00",
          "2013-03-15T00:00:00",
          "2013-03-22T00:00:00",
          "2013-03-29T00:00:00",
          "2013-04-01T00:00:00",
          "2013-04-19T00:00:00",
          "2013-04-26T00:00:00",
          "2013-05-04T00:00:00",
          "2013-05-07T00:00:00",
          "2013-05-17T00:00:00",
          "2013-05-24T00:00:00",
          "2013-05-31T00:00:00",
          "2013-06-14T00:00:00",
          "2013-06-21T00:00:00",
          "2013-06-28T00:00:00",
          "2013-07-06T00:00:00",
          "2013-07-19T00:00:00",
          "2013-07-26T00:00:00",
          "2013-08-02T00:00:00",
          "2013-08-03T00:00:00",
          "2013-10-05T00:00:00",
          "2013-11-01T00:00:00",
          "2013-12-04T00:00:00",
          "2013-12-07T00:00:00"
         ],
         "y": [
          132.7568,
          131.9019677,
          132.5218667,
          131.637,
          131.686,
          132.72483870000002,
          132.7566667,
          131.8242903,
          131.86312900000001,
          132.3648387,
          131.9809,
          132.0226667,
          132.0644333,
          131.52790320000003,
          131.735,
          132.92458059999998,
          132.152129,
          132.2230323,
          132.2939355,
          132.6141935,
          132.47333329999998,
          132.4976,
          132.1062,
          132.5667742,
          132.5825806,
          132.5983871,
          132.75166670000002,
          132.63,
          132.6616129,
          132.6932258,
          131.9408065,
          132.54613329999998,
          132.76706670000002,
          132.76193329999998,
          132.7564516,
          132.6764,
          132.7633548,
          132.8170968,
          132.8708387,
          132.4357419,
          132.9172,
          132.8369333,
          131.5866129,
          131.784,
          132.9783226,
          132.68045159999997,
          132.7477419,
          132.81503229999998,
          134.0682581,
          135.4468,
          132.9510645,
          133.0285161,
          133.1059677,
          136.24409680000002,
          136.49093330000002,
          133.3701429,
          133.4921429,
          134.85516130000002,
          133.8492258,
          133.9587419,
          133.18341940000002,
          133.6141429,
          136.475129,
          134.2784667,
          134.3571,
          134.4357333,
          136.05403230000002,
          134.593,
          134.6803871,
          134.7677742,
          134.51436669999998,
          135.0837333,
          135.26526669999998,
          132.8823226,
          136.472,
          135.7837419,
          135.8738387,
          135.9639355,
          134.17777420000002,
          135.6283333,
          136.183129,
          136.2136129,
          136.27458059999998,
          136.50306669999998,
          136.3145,
          136.36700000000002,
          136.4195,
          134.94254840000002,
          136.5150968,
          136.50177419999997,
          136.4884516,
          133.260871,
          133.7361429,
          136.4618065,
          136.4666667,
          136.4788,
          136.144129,
          136.53351609999999,
          136.5883871,
          136.6432581,
          138.11380649999998,
          136.753,
          136.85641940000002,
          136.95983869999998,
          137.4238966,
          138.62270969999997,
          137.2583103,
          137.3411034,
          137.0632581,
          138.17358059999998,
          137.58438710000001,
          137.65529030000002,
          137.7261935,
          138.0332,
          137.868,
          137.9230667,
          137.9781333,
          138.8256,
          138.10658059999997,
          138.1101935,
          136.698129,
          137.79709680000002,
          138.22963330000002,
          138.12953330000002,
          138.1629,
          138.1962667,
          138.4729355,
          138.3794,
          138.263,
          138.2331935,
          138.20338710000001,
          138.11741940000002,
          138.1857097,
          138.2814516,
          138.3771935,
          137.50668969999998,
          138.5172581,
          138.5673,
          138.6534,
          138.7395,
          137.1666774,
          138.1437742,
          138.8336129,
          138.7281613,
          138.0882667,
          138.4473,
          138.4246667,
          138.4020333,
          138.9117,
          138.3685484,
          138.4283871,
          138.4882258,
          138.79661289999999,
          138.8684286,
          138.67016130000002,
          138.73338710000002,
          138.9004286,
          138.88442859999998,
          null,
          138.85977419999998,
          138.92548390000002,
          138.9911935,
          138.5480645,
          139.1226129,
          139.1226129,
          139.0569032,
          null,
          null,
          null,
          null,
          null,
          null,
          null,
          null,
          null,
          null,
          138.85983869999998,
          138.8524286,
          null,
          138.60790319999998,
          139.1226129,
          null
         ]
        },
        {
         "line": {
          "color": "blue"
         },
         "name": "q50",
         "opacity": 0.4,
         "type": "scatter",
         "x": [
          "2010-01-10T00:00:00",
          "2010-02-04T00:00:00",
          "2010-02-07T00:00:00",
          "2010-02-19T00:00:00",
          "2010-02-26T00:00:00",
          "2010-03-09T00:00:00",
          "2010-03-12T00:00:00",
          "2010-03-19T00:00:00",
          "2010-03-26T00:00:00",
          "2010-04-06T00:00:00",
          "2010-04-16T00:00:00",
          "2010-04-23T00:00:00",
          "2010-04-30T00:00:00",
          "2010-05-02T00:00:00",
          "2010-05-03T00:00:00",
          "2010-05-11T00:00:00",
          "2010-05-14T00:00:00",
          "2010-05-21T00:00:00",
          "2010-05-28T00:00:00",
          "2010-06-08T00:00:00",
          "2010-06-18T00:00:00",
          "2010-06-25T00:00:00",
          "2010-07-05T00:00:00",
          "2010-07-16T00:00:00",
          "2010-07-23T00:00:00",
          "2010-07-30T00:00:00",
          "2010-08-10T00:00:00",
          "2010-08-13T00:00:00",
          "2010-08-20T00:00:00",
          "2010-08-27T00:00:00",
          "2010-09-04T00:00:00",
          "2010-09-07T00:00:00",
          "2010-09-17T00:00:00",
          "2010-09-24T00:00:00",
          "2010-10-09T00:00:00",
          "2010-10-12T00:00:00",
          "2010-10-15T00:00:00",
          "2010-10-22T00:00:00",
          "2010-10-29T00:00:00",
          "2010-11-06T00:00:00",
          "2010-11-19T00:00:00",
          "2010-11-26T00:00:00",
          "2010-12-02T00:00:00",
          "2010-12-03T00:00:00",
          "2010-12-11T00:00:00",
          "2010-12-17T00:00:00",
          "2010-12-24T00:00:00",
          "2010-12-31T00:00:00",
          "2011-01-04T00:00:00",
          "2011-01-07T00:00:00",
          "2011-01-14T00:00:00",
          "2011-01-21T00:00:00",
          "2011-01-28T00:00:00",
          "2011-02-09T00:00:00",
          "2011-02-12T00:00:00",
          "2011-02-18T00:00:00",
          "2011-02-25T00:00:00",
          "2011-03-06T00:00:00",
          "2011-03-18T00:00:00",
          "2011-03-25T00:00:00",
          "2011-04-02T00:00:00",
          "2011-04-03T00:00:00",
          "2011-04-11T00:00:00",
          "2011-04-15T00:00:00",
          "2011-04-22T00:00:00",
          "2011-04-29T00:00:00",
          "2011-05-08T00:00:00",
          "2011-05-13T00:00:00",
          "2011-05-20T00:00:00",
          "2011-05-27T00:00:00",
          "2011-06-05T00:00:00",
          "2011-06-17T00:00:00",
          "2011-06-24T00:00:00",
          "2011-07-01T00:00:00",
          "2011-07-10T00:00:00",
          "2011-07-15T00:00:00",
          "2011-07-22T00:00:00",
          "2011-07-29T00:00:00",
          "2011-08-04T00:00:00",
          "2011-08-07T00:00:00",
          "2011-08-19T00:00:00",
          "2011-08-26T00:00:00",
          "2011-09-09T00:00:00",
          "2011-09-12T00:00:00",
          "2011-09-16T00:00:00",
          "2011-09-23T00:00:00",
          "2011-09-30T00:00:00",
          "2011-10-06T00:00:00",
          "2011-10-14T00:00:00",
          "2011-10-21T00:00:00",
          "2011-10-28T00:00:00",
          "2011-11-02T00:00:00",
          "2011-11-03T00:00:00",
          "2011-11-11T00:00:00",
          "2011-11-18T00:00:00",
          "2011-11-25T00:00:00",
          "2011-12-08T00:00:00",
          "2011-12-16T00:00:00",
          "2011-12-23T00:00:00",
          "2011-12-30T00:00:00",
          "2012-01-06T00:00:00",
          "2012-01-13T00:00:00",
          "2012-01-20T00:00:00",
          "2012-01-27T00:00:00",
          "2012-02-03T00:00:00",
          "2012-02-11T00:00:00",
          "2012-02-17T00:00:00",
          "2012-02-24T00:00:00",
          "2012-03-02T00:00:00",
          "2012-03-08T00:00:00",
          "2012-03-16T00:00:00",
          "2012-03-23T00:00:00",
          "2012-03-30T00:00:00",
          "2012-04-05T00:00:00",
          "2012-04-13T00:00:00",
          "2012-04-20T00:00:00",
          "2012-04-27T00:00:00",
          "2012-05-10T00:00:00",
          "2012-05-18T00:00:00",
          "2012-05-25T00:00:00",
          "2012-06-01T00:00:00",
          "2012-06-04T00:00:00",
          "2012-06-07T00:00:00",
          "2012-06-15T00:00:00",
          "2012-06-22T00:00:00",
          "2012-06-29T00:00:00",
          "2012-07-09T00:00:00",
          "2012-07-12T00:00:00",
          "2012-07-13T00:00:00",
          "2012-07-20T00:00:00",
          "2012-07-27T00:00:00",
          "2012-08-06T00:00:00",
          "2012-08-17T00:00:00",
          "2012-08-24T00:00:00",
          "2012-08-31T00:00:00",
          "2012-09-03T00:00:00",
          "2012-09-11T00:00:00",
          "2012-09-14T00:00:00",
          "2012-09-21T00:00:00",
          "2012-09-28T00:00:00",
          "2012-10-02T00:00:00",
          "2012-10-08T00:00:00",
          "2012-10-19T00:00:00",
          "2012-10-26T00:00:00",
          "2012-11-05T00:00:00",
          "2012-11-16T00:00:00",
          "2012-11-23T00:00:00",
          "2012-11-30T00:00:00",
          "2012-12-10T00:00:00",
          "2012-12-14T00:00:00",
          "2012-12-21T00:00:00",
          "2012-12-28T00:00:00",
          "2013-01-02T00:00:00",
          "2013-01-03T00:00:00",
          "2013-01-18T00:00:00",
          "2013-01-25T00:00:00",
          "2013-02-15T00:00:00",
          "2013-02-22T00:00:00",
          "2013-03-05T00:00:00",
          "2013-03-15T00:00:00",
          "2013-03-22T00:00:00",
          "2013-03-29T00:00:00",
          "2013-04-01T00:00:00",
          "2013-04-19T00:00:00",
          "2013-04-26T00:00:00",
          "2013-05-04T00:00:00",
          "2013-05-07T00:00:00",
          "2013-05-17T00:00:00",
          "2013-05-24T00:00:00",
          "2013-05-31T00:00:00",
          "2013-06-14T00:00:00",
          "2013-06-21T00:00:00",
          "2013-06-28T00:00:00",
          "2013-07-06T00:00:00",
          "2013-07-19T00:00:00",
          "2013-07-26T00:00:00",
          "2013-08-02T00:00:00",
          "2013-08-03T00:00:00",
          "2013-10-05T00:00:00",
          "2013-11-01T00:00:00",
          "2013-12-04T00:00:00",
          "2013-12-07T00:00:00"
         ],
         "y": [
          182.7168385,
          181.86575369999997,
          182.3187801,
          182.03478159999997,
          182.07746909999997,
          182.60429219999997,
          182.66761540000002,
          182.07798569999997,
          181.97186969999998,
          182.2389876,
          181.6924769,
          181.6772564,
          181.6620359,
          181.8711898,
          182.1201566,
          182.9463648,
          181.6612792,
          181.8538486,
          182.04641809999998,
          182.5320862,
          182.4424199,
          182.3806,
          181.6468154,
          182.26044109999998,
          182.3509895,
          182.4415378,
          182.7640032,
          182.6226346,
          182.6165205,
          182.61040630000002,
          181.75963769999998,
          182.2569603,
          182.622509,
          182.6696737,
          182.598178,
          182.5519538,
          182.8106203,
          182.8558685,
          182.9011166,
          182.4315571,
          182.8989385,
          182.7832769,
          181.982317,
          182.1628441,
          182.9916129,
          182.517732,
          182.54459,
          182.5714479,
          185.17901669999998,
          185.9119885,
          182.6585782,
          182.9193368,
          183.18009550000002,
          186.6189274,
          188.5024346,
          183.93713530000002,
          184.1625632,
          185.7545,
          184.809719,
          184.99436790000001,
          183.4408542,
          184.3879911,
          187.9703629,
          185.5339821,
          185.66846730000003,
          185.8029526,
          186.3734038,
          186.0719231,
          185.9661154,
          185.8603077,
          185.9374378,
          185.6719333,
          185.79196090000002,
          182.59830580000002,
          187.48379619999997,
          186.13998080000002,
          186.2177885,
          186.29559619999998,
          185.3636656,
          186.032016,
          186.5093071,
          186.56411719999997,
          186.67373759999998,
          188.6544692,
          186.8024,
          187.0295321,
          187.2566641,
          185.64869230000002,
          187.69174809999998,
          187.78461969999998,
          187.87749130000003,
          183.7016129,
          184.613419,
          188.0632345,
          188.1983654,
          188.3504,
          186.4512115,
          188.79793490000003,
          188.92997519999997,
          189.0620155,
          191.00917119999997,
          189.3260962,
          189.4214733,
          189.51685049999998,
          190.1714927,
          192.2869435,
          189.8424834,
          190.0069881,
          189.61222769999998,
          191.16409,
          190.46189640000003,
          190.53632130000003,
          190.61074630000002,
          190.9222115,
          190.75959619999998,
          190.8138013,
          190.8680064,
          192.1704115,
          190.9964479,
          191.00280959999998,
          189.19405580000003,
          190.68517119999998,
          191.1338827,
          191.02997309999998,
          191.06460959999998,
          191.09924619999998,
          191.5776756,
          192.32585769999997,
          191.1685192,
          191.16704280000002,
          191.16556640000002,
          191.0155329,
          191.2284919,
          191.3448865,
          191.461281,
          190.33599730000003,
          192.2649882,
          191.69985,
          191.85670380000002,
          192.01355769999998,
          189.7076048,
          191.1626135,
          192.33085419999998,
          192.3088989,
          190.9764167,
          192.26161919999998,
          192.28303209999999,
          192.3044449,
          192.32726540000002,
          192.35854840000002,
          192.4589063,
          192.55926430000002,
          192.8678952,
          193.1221731,
          192.8095068,
          192.83870100000001,
          192.94347119999998,
          193.0328221,
          null,
          193.2962767,
          193.3695335,
          193.4427903,
          192.65962219999997,
          193.589304,
          193.589304,
          193.51604709999998,
          null,
          null,
          null,
          null,
          null,
          null,
          null,
          null,
          null,
          null,
          192.8970893,
          193.211524,
          null,
          192.7599801,
          193.589304,
          null
         ]
        },
        {
         "line": {
          "color": "blue"
         },
         "name": "q75",
         "opacity": 0.4,
         "type": "scatter",
         "x": [
          "2010-01-10T00:00:00",
          "2010-02-04T00:00:00",
          "2010-02-07T00:00:00",
          "2010-02-19T00:00:00",
          "2010-02-26T00:00:00",
          "2010-03-09T00:00:00",
          "2010-03-12T00:00:00",
          "2010-03-19T00:00:00",
          "2010-03-26T00:00:00",
          "2010-04-06T00:00:00",
          "2010-04-16T00:00:00",
          "2010-04-23T00:00:00",
          "2010-04-30T00:00:00",
          "2010-05-02T00:00:00",
          "2010-05-03T00:00:00",
          "2010-05-11T00:00:00",
          "2010-05-14T00:00:00",
          "2010-05-21T00:00:00",
          "2010-05-28T00:00:00",
          "2010-06-08T00:00:00",
          "2010-06-18T00:00:00",
          "2010-06-25T00:00:00",
          "2010-07-05T00:00:00",
          "2010-07-16T00:00:00",
          "2010-07-23T00:00:00",
          "2010-07-30T00:00:00",
          "2010-08-10T00:00:00",
          "2010-08-13T00:00:00",
          "2010-08-20T00:00:00",
          "2010-08-27T00:00:00",
          "2010-09-04T00:00:00",
          "2010-09-07T00:00:00",
          "2010-09-17T00:00:00",
          "2010-09-24T00:00:00",
          "2010-10-09T00:00:00",
          "2010-10-12T00:00:00",
          "2010-10-15T00:00:00",
          "2010-10-22T00:00:00",
          "2010-10-29T00:00:00",
          "2010-11-06T00:00:00",
          "2010-11-19T00:00:00",
          "2010-11-26T00:00:00",
          "2010-12-02T00:00:00",
          "2010-12-03T00:00:00",
          "2010-12-11T00:00:00",
          "2010-12-17T00:00:00",
          "2010-12-24T00:00:00",
          "2010-12-31T00:00:00",
          "2011-01-04T00:00:00",
          "2011-01-07T00:00:00",
          "2011-01-14T00:00:00",
          "2011-01-21T00:00:00",
          "2011-01-28T00:00:00",
          "2011-02-09T00:00:00",
          "2011-02-12T00:00:00",
          "2011-02-18T00:00:00",
          "2011-02-25T00:00:00",
          "2011-03-06T00:00:00",
          "2011-03-18T00:00:00",
          "2011-03-25T00:00:00",
          "2011-04-02T00:00:00",
          "2011-04-03T00:00:00",
          "2011-04-11T00:00:00",
          "2011-04-15T00:00:00",
          "2011-04-22T00:00:00",
          "2011-04-29T00:00:00",
          "2011-05-08T00:00:00",
          "2011-05-13T00:00:00",
          "2011-05-20T00:00:00",
          "2011-05-27T00:00:00",
          "2011-06-05T00:00:00",
          "2011-06-17T00:00:00",
          "2011-06-24T00:00:00",
          "2011-07-01T00:00:00",
          "2011-07-10T00:00:00",
          "2011-07-15T00:00:00",
          "2011-07-22T00:00:00",
          "2011-07-29T00:00:00",
          "2011-08-04T00:00:00",
          "2011-08-07T00:00:00",
          "2011-08-19T00:00:00",
          "2011-08-26T00:00:00",
          "2011-09-09T00:00:00",
          "2011-09-12T00:00:00",
          "2011-09-16T00:00:00",
          "2011-09-23T00:00:00",
          "2011-09-30T00:00:00",
          "2011-10-06T00:00:00",
          "2011-10-14T00:00:00",
          "2011-10-21T00:00:00",
          "2011-10-28T00:00:00",
          "2011-11-02T00:00:00",
          "2011-11-03T00:00:00",
          "2011-11-11T00:00:00",
          "2011-11-18T00:00:00",
          "2011-11-25T00:00:00",
          "2011-12-08T00:00:00",
          "2011-12-16T00:00:00",
          "2011-12-23T00:00:00",
          "2011-12-30T00:00:00",
          "2012-01-06T00:00:00",
          "2012-01-13T00:00:00",
          "2012-01-20T00:00:00",
          "2012-01-27T00:00:00",
          "2012-02-03T00:00:00",
          "2012-02-11T00:00:00",
          "2012-02-17T00:00:00",
          "2012-02-24T00:00:00",
          "2012-03-02T00:00:00",
          "2012-03-08T00:00:00",
          "2012-03-16T00:00:00",
          "2012-03-23T00:00:00",
          "2012-03-30T00:00:00",
          "2012-04-05T00:00:00",
          "2012-04-13T00:00:00",
          "2012-04-20T00:00:00",
          "2012-04-27T00:00:00",
          "2012-05-10T00:00:00",
          "2012-05-18T00:00:00",
          "2012-05-25T00:00:00",
          "2012-06-01T00:00:00",
          "2012-06-04T00:00:00",
          "2012-06-07T00:00:00",
          "2012-06-15T00:00:00",
          "2012-06-22T00:00:00",
          "2012-06-29T00:00:00",
          "2012-07-09T00:00:00",
          "2012-07-12T00:00:00",
          "2012-07-13T00:00:00",
          "2012-07-20T00:00:00",
          "2012-07-27T00:00:00",
          "2012-08-06T00:00:00",
          "2012-08-17T00:00:00",
          "2012-08-24T00:00:00",
          "2012-08-31T00:00:00",
          "2012-09-03T00:00:00",
          "2012-09-11T00:00:00",
          "2012-09-14T00:00:00",
          "2012-09-21T00:00:00",
          "2012-09-28T00:00:00",
          "2012-10-02T00:00:00",
          "2012-10-08T00:00:00",
          "2012-10-19T00:00:00",
          "2012-10-26T00:00:00",
          "2012-11-05T00:00:00",
          "2012-11-16T00:00:00",
          "2012-11-23T00:00:00",
          "2012-11-30T00:00:00",
          "2012-12-10T00:00:00",
          "2012-12-14T00:00:00",
          "2012-12-21T00:00:00",
          "2012-12-28T00:00:00",
          "2013-01-02T00:00:00",
          "2013-01-03T00:00:00",
          "2013-01-18T00:00:00",
          "2013-01-25T00:00:00",
          "2013-02-15T00:00:00",
          "2013-02-22T00:00:00",
          "2013-03-05T00:00:00",
          "2013-03-15T00:00:00",
          "2013-03-22T00:00:00",
          "2013-03-29T00:00:00",
          "2013-04-01T00:00:00",
          "2013-04-19T00:00:00",
          "2013-04-26T00:00:00",
          "2013-05-04T00:00:00",
          "2013-05-07T00:00:00",
          "2013-05-17T00:00:00",
          "2013-05-24T00:00:00",
          "2013-05-31T00:00:00",
          "2013-06-14T00:00:00",
          "2013-06-21T00:00:00",
          "2013-06-28T00:00:00",
          "2013-07-06T00:00:00",
          "2013-07-19T00:00:00",
          "2013-07-26T00:00:00",
          "2013-08-02T00:00:00",
          "2013-08-03T00:00:00",
          "2013-10-05T00:00:00",
          "2013-11-01T00:00:00",
          "2013-12-04T00:00:00",
          "2013-12-07T00:00:00"
         ],
         "y": [
          210.44044330000003,
          209.5938656,
          209.98420499999997,
          210.04510240000002,
          210.07718849999998,
          210.29666310000002,
          210.376263,
          209.98032080000002,
          209.78709320000002,
          209.9398091,
          209.2691428,
          209.2199574,
          209.170772,
          209.85296630000002,
          210.1092746,
          210.7202444,
          209.118536,
          209.39229369999998,
          209.6660514,
          210.26149249999997,
          210.2108417,
          210.0975233,
          209.1215867,
          209.86305319999997,
          209.99586630000002,
          210.1286794,
          210.5144398,
          210.3943056,
          210.36175809999997,
          210.3292106,
          209.400638,
          209.8708867,
          210.2924504,
          210.3664469,
          210.2641156,
          210.2372494,
          210.58059440000002,
          210.62714440000002,
          210.67369440000002,
          210.2135668,
          210.65429,
          210.51527650000003,
          209.9970208,
          210.14136069999998,
          210.7667944,
          210.1787224,
          210.1805602,
          210.182398,
          213.57767009999998,
          213.9324122,
          210.2379731,
          210.60310719999998,
          210.9682412,
          214.55168959999997,
          217.42292059999997,
          212.00635219999998,
          212.2912786,
          214.01628050000002,
          213.1096787,
          213.3436744,
          211.3333753,
          212.576205,
          216.5634344,
          214.026217,
          214.19215719999997,
          214.3580974,
          214.29729390000003,
          214.68997779999998,
          214.46541200000001,
          214.2408462,
          214.5240376,
          213.7481256,
          213.8402689,
          210.1842358,
          215.7831333,
          214.1083654,
          214.17134159999998,
          214.23431769999996,
          213.81166580000004,
          214.02455559999999,
          214.4239935,
          214.48784159999997,
          214.6155376,
          217.6645878,
          214.79341110000001,
          215.1233185,
          215.4532259,
          213.7917147,
          216.08852579999999,
          216.2468287,
          216.40513149999998,
          211.69850930000004,
          212.8611313,
          216.7217373,
          216.9395861,
          217.18125330000004,
          214.36027009999998,
          217.87813390000002,
          218.05418509999998,
          218.2302364,
          220.4322099,
          218.5823389,
          218.6755292,
          218.76871949999997,
          219.5340975,
          222.1321414,
          219.11482969999997,
          219.3244636,
          218.8619099,
          220.6319358,
          219.8956335,
          219.97055989999998,
          220.04548619999997,
          220.35450330000003,
          220.1953389,
          220.24839369999998,
          220.3014485,
          221.85333959999997,
          220.42521490000001,
          220.4287124,
          218.4062876,
          220.1204125,
          220.567112,
          220.4494148,
          220.4886472,
          220.5278796,
          221.1181142,
          222.3255489,
          220.6063444,
          220.6148749,
          220.6234054,
          220.43570730000002,
          220.71996090000002,
          220.8526787,
          220.9853964,
          219.74373140000003,
          222.1506262,
          221.2601207,
          221.45786040000002,
          221.6556,
          218.95510019999998,
          220.6404663,
          222.0951719,
          222.1136566,
          220.4075581,
          222.1817339,
          222.2296722,
          222.2776106,
          222.0510793,
          222.3838038,
          222.5039579,
          222.62411200000003,
          222.90584269999997,
          223.23797940000003,
          222.9006165,
          222.9032296,
          222.95127940000003,
          223.09462940000003,
          null,
          223.5072315,
          223.5895142,
          223.67179680000004,
          222.74426609999998,
          223.836362,
          223.836362,
          223.75407940000002,
          null,
          null,
          null,
          null,
          null,
          null,
          null,
          null,
          null,
          null,
          222.9084557,
          223.38132940000003,
          null,
          222.86442030000003,
          223.836362,
          null
         ]
        },
        {
         "line": {
          "color": "red"
         },
         "name": "Max",
         "opacity": 0.4,
         "type": "scatter",
         "x": [
          "2010-01-10T00:00:00",
          "2010-02-04T00:00:00",
          "2010-02-07T00:00:00",
          "2010-02-19T00:00:00",
          "2010-02-26T00:00:00",
          "2010-03-09T00:00:00",
          "2010-03-12T00:00:00",
          "2010-03-19T00:00:00",
          "2010-03-26T00:00:00",
          "2010-04-06T00:00:00",
          "2010-04-16T00:00:00",
          "2010-04-23T00:00:00",
          "2010-04-30T00:00:00",
          "2010-05-02T00:00:00",
          "2010-05-03T00:00:00",
          "2010-05-11T00:00:00",
          "2010-05-14T00:00:00",
          "2010-05-21T00:00:00",
          "2010-05-28T00:00:00",
          "2010-06-08T00:00:00",
          "2010-06-18T00:00:00",
          "2010-06-25T00:00:00",
          "2010-07-05T00:00:00",
          "2010-07-16T00:00:00",
          "2010-07-23T00:00:00",
          "2010-07-30T00:00:00",
          "2010-08-10T00:00:00",
          "2010-08-13T00:00:00",
          "2010-08-20T00:00:00",
          "2010-08-27T00:00:00",
          "2010-09-04T00:00:00",
          "2010-09-07T00:00:00",
          "2010-09-17T00:00:00",
          "2010-09-24T00:00:00",
          "2010-10-09T00:00:00",
          "2010-10-12T00:00:00",
          "2010-10-15T00:00:00",
          "2010-10-22T00:00:00",
          "2010-10-29T00:00:00",
          "2010-11-06T00:00:00",
          "2010-11-19T00:00:00",
          "2010-11-26T00:00:00",
          "2010-12-02T00:00:00",
          "2010-12-03T00:00:00",
          "2010-12-11T00:00:00",
          "2010-12-17T00:00:00",
          "2010-12-24T00:00:00",
          "2010-12-31T00:00:00",
          "2011-01-04T00:00:00",
          "2011-01-07T00:00:00",
          "2011-01-14T00:00:00",
          "2011-01-21T00:00:00",
          "2011-01-28T00:00:00",
          "2011-02-09T00:00:00",
          "2011-02-12T00:00:00",
          "2011-02-18T00:00:00",
          "2011-02-25T00:00:00",
          "2011-03-06T00:00:00",
          "2011-03-18T00:00:00",
          "2011-03-25T00:00:00",
          "2011-04-02T00:00:00",
          "2011-04-03T00:00:00",
          "2011-04-11T00:00:00",
          "2011-04-15T00:00:00",
          "2011-04-22T00:00:00",
          "2011-04-29T00:00:00",
          "2011-05-08T00:00:00",
          "2011-05-13T00:00:00",
          "2011-05-20T00:00:00",
          "2011-05-27T00:00:00",
          "2011-06-05T00:00:00",
          "2011-06-17T00:00:00",
          "2011-06-24T00:00:00",
          "2011-07-01T00:00:00",
          "2011-07-10T00:00:00",
          "2011-07-15T00:00:00",
          "2011-07-22T00:00:00",
          "2011-07-29T00:00:00",
          "2011-08-04T00:00:00",
          "2011-08-07T00:00:00",
          "2011-08-19T00:00:00",
          "2011-08-26T00:00:00",
          "2011-09-09T00:00:00",
          "2011-09-12T00:00:00",
          "2011-09-16T00:00:00",
          "2011-09-23T00:00:00",
          "2011-09-30T00:00:00",
          "2011-10-06T00:00:00",
          "2011-10-14T00:00:00",
          "2011-10-21T00:00:00",
          "2011-10-28T00:00:00",
          "2011-11-02T00:00:00",
          "2011-11-03T00:00:00",
          "2011-11-11T00:00:00",
          "2011-11-18T00:00:00",
          "2011-11-25T00:00:00",
          "2011-12-08T00:00:00",
          "2011-12-16T00:00:00",
          "2011-12-23T00:00:00",
          "2011-12-30T00:00:00",
          "2012-01-06T00:00:00",
          "2012-01-13T00:00:00",
          "2012-01-20T00:00:00",
          "2012-01-27T00:00:00",
          "2012-02-03T00:00:00",
          "2012-02-11T00:00:00",
          "2012-02-17T00:00:00",
          "2012-02-24T00:00:00",
          "2012-03-02T00:00:00",
          "2012-03-08T00:00:00",
          "2012-03-16T00:00:00",
          "2012-03-23T00:00:00",
          "2012-03-30T00:00:00",
          "2012-04-05T00:00:00",
          "2012-04-13T00:00:00",
          "2012-04-20T00:00:00",
          "2012-04-27T00:00:00",
          "2012-05-10T00:00:00",
          "2012-05-18T00:00:00",
          "2012-05-25T00:00:00",
          "2012-06-01T00:00:00",
          "2012-06-04T00:00:00",
          "2012-06-07T00:00:00",
          "2012-06-15T00:00:00",
          "2012-06-22T00:00:00",
          "2012-06-29T00:00:00",
          "2012-07-09T00:00:00",
          "2012-07-12T00:00:00",
          "2012-07-13T00:00:00",
          "2012-07-20T00:00:00",
          "2012-07-27T00:00:00",
          "2012-08-06T00:00:00",
          "2012-08-17T00:00:00",
          "2012-08-24T00:00:00",
          "2012-08-31T00:00:00",
          "2012-09-03T00:00:00",
          "2012-09-11T00:00:00",
          "2012-09-14T00:00:00",
          "2012-09-21T00:00:00",
          "2012-09-28T00:00:00",
          "2012-10-02T00:00:00",
          "2012-10-08T00:00:00",
          "2012-10-19T00:00:00",
          "2012-10-26T00:00:00",
          "2012-11-05T00:00:00",
          "2012-11-16T00:00:00",
          "2012-11-23T00:00:00",
          "2012-11-30T00:00:00",
          "2012-12-10T00:00:00",
          "2012-12-14T00:00:00",
          "2012-12-21T00:00:00",
          "2012-12-28T00:00:00",
          "2013-01-02T00:00:00",
          "2013-01-03T00:00:00",
          "2013-01-18T00:00:00",
          "2013-01-25T00:00:00",
          "2013-02-15T00:00:00",
          "2013-02-22T00:00:00",
          "2013-03-05T00:00:00",
          "2013-03-15T00:00:00",
          "2013-03-22T00:00:00",
          "2013-03-29T00:00:00",
          "2013-04-01T00:00:00",
          "2013-04-19T00:00:00",
          "2013-04-26T00:00:00",
          "2013-05-04T00:00:00",
          "2013-05-07T00:00:00",
          "2013-05-17T00:00:00",
          "2013-05-24T00:00:00",
          "2013-05-31T00:00:00",
          "2013-06-14T00:00:00",
          "2013-06-21T00:00:00",
          "2013-06-28T00:00:00",
          "2013-07-06T00:00:00",
          "2013-07-19T00:00:00",
          "2013-07-26T00:00:00",
          "2013-08-02T00:00:00",
          "2013-08-03T00:00:00",
          "2013-10-05T00:00:00",
          "2013-11-01T00:00:00",
          "2013-12-04T00:00:00",
          "2013-12-07T00:00:00"
         ],
         "y": [
          215.2141341,
          214.3465181,
          214.7765028,
          214.8506185,
          214.87804530000003,
          215.0779426,
          215.1445203,
          214.75972740000003,
          214.5531227,
          214.7257848,
          214.00018169999998,
          213.94961380000004,
          213.89904590000003,
          214.6554591,
          214.9054721,
          215.5065452,
          213.8469819,
          214.1399162,
          214.4328505,
          215.06484300000002,
          215.0166484,
          214.8965756,
          213.84847799999997,
          214.64744530000002,
          214.7865779,
          214.9257105,
          215.290437,
          215.2039756,
          215.16196459999998,
          215.11995359999997,
          214.13991349999998,
          214.6564301,
          215.0615285,
          215.13783130000002,
          215.0359315,
          214.9981378,
          215.3589917,
          215.4081762,
          215.45736069999998,
          215.0187191,
          215.43728540000004,
          215.2909028,
          214.8056534,
          214.93289900000002,
          215.55572969999997,
          214.93349369999999,
          214.9301534,
          214.9268131,
          218.445164,
          218.7796415,
          214.97495869999997,
          215.35540130000004,
          215.7358438,
          219.38238199999998,
          222.3975443,
          216.81548560000002,
          217.1095679,
          218.87847680000002,
          217.95633709999998,
          218.2007506,
          216.1162864,
          217.4036503,
          221.48209210000002,
          218.91349350000002,
          219.0861659,
          219.25883819999999,
          219.1349201,
          219.60418289999998,
          219.3622809,
          219.12037880000003,
          219.43151060000002,
          218.5877333,
          218.6836874,
          214.92347290000004,
          220.6643585,
          218.96072420000002,
          219.0187895,
          219.0768548,
          218.68957749999998,
          218.8755955,
          219.25561090000002,
          219.3189965,
          219.4457675,
          222.65612030000003,
          219.6297841,
          219.9746423,
          220.3195004,
          218.6365747,
          220.9836849,
          221.14982059999997,
          221.3159563,
          216.49672900000002,
          217.6977326,
          221.6482278,
          221.88039229999998,
          222.13896830000002,
          219.19298540000003,
          222.88254840000002,
          223.0661125,
          223.2496766,
          225.4946078,
          223.6168049,
          223.71142880000002,
          223.80605269999998,
          224.58941040000002,
          227.25132569999997,
          224.15886630000003,
          224.37413840000002,
          223.9006766,
          225.70704369999999,
          224.95949019999998,
          225.03367859999997,
          225.107867,
          225.4227585,
          225.25624390000002,
          225.3117488,
          225.3672537,
          226.96623250000002,
          225.4942498,
          225.4944288,
          223.43324080000002,
          225.18205550000002,
          225.6346256,
          225.50706340000002,
          225.5495841,
          225.5921049,
          226.21035409999996,
          227.4564463,
          225.6771463,
          225.68711209999998,
          225.6970779,
          225.4947868,
          225.79953230000004,
          225.93647290000004,
          226.0734135,
          224.8046825,
          227.2698446,
          226.3567545,
          226.55991380000003,
          226.76307319999998,
          223.9953006,
          225.7170094,
          227.21428799999998,
          227.2328068,
          225.4782634,
          227.3024293,
          227.3537683,
          227.40510730000003,
          227.16939190000002,
          227.5178253,
          227.63944410000002,
          227.7610629,
          228.0256994,
          228.35180490000002,
          228.0355358,
          228.0306176,
          228.05908540000001,
          228.2054451,
          null,
          228.6276239,
          228.71483199999997,
          228.8020401,
          227.88268169999998,
          228.9764563,
          228.9764563,
          228.8892482,
          null,
          null,
          null,
          null,
          null,
          null,
          null,
          null,
          null,
          null,
          228.0207813,
          228.49816459999997,
          null,
          228.0043006,
          228.9764563,
          null
         ]
        }
       ],
       "layout": {
        "template": {
         "data": {
          "bar": [
           {
            "error_x": {
             "color": "#2a3f5f"
            },
            "error_y": {
             "color": "#2a3f5f"
            },
            "marker": {
             "line": {
              "color": "#E5ECF6",
              "width": 0.5
             }
            },
            "type": "bar"
           }
          ],
          "barpolar": [
           {
            "marker": {
             "line": {
              "color": "#E5ECF6",
              "width": 0.5
             }
            },
            "type": "barpolar"
           }
          ],
          "carpet": [
           {
            "aaxis": {
             "endlinecolor": "#2a3f5f",
             "gridcolor": "white",
             "linecolor": "white",
             "minorgridcolor": "white",
             "startlinecolor": "#2a3f5f"
            },
            "baxis": {
             "endlinecolor": "#2a3f5f",
             "gridcolor": "white",
             "linecolor": "white",
             "minorgridcolor": "white",
             "startlinecolor": "#2a3f5f"
            },
            "type": "carpet"
           }
          ],
          "choropleth": [
           {
            "colorbar": {
             "outlinewidth": 0,
             "ticks": ""
            },
            "type": "choropleth"
           }
          ],
          "contour": [
           {
            "colorbar": {
             "outlinewidth": 0,
             "ticks": ""
            },
            "colorscale": [
             [
              0,
              "#0d0887"
             ],
             [
              0.1111111111111111,
              "#46039f"
             ],
             [
              0.2222222222222222,
              "#7201a8"
             ],
             [
              0.3333333333333333,
              "#9c179e"
             ],
             [
              0.4444444444444444,
              "#bd3786"
             ],
             [
              0.5555555555555556,
              "#d8576b"
             ],
             [
              0.6666666666666666,
              "#ed7953"
             ],
             [
              0.7777777777777778,
              "#fb9f3a"
             ],
             [
              0.8888888888888888,
              "#fdca26"
             ],
             [
              1,
              "#f0f921"
             ]
            ],
            "type": "contour"
           }
          ],
          "contourcarpet": [
           {
            "colorbar": {
             "outlinewidth": 0,
             "ticks": ""
            },
            "type": "contourcarpet"
           }
          ],
          "heatmap": [
           {
            "colorbar": {
             "outlinewidth": 0,
             "ticks": ""
            },
            "colorscale": [
             [
              0,
              "#0d0887"
             ],
             [
              0.1111111111111111,
              "#46039f"
             ],
             [
              0.2222222222222222,
              "#7201a8"
             ],
             [
              0.3333333333333333,
              "#9c179e"
             ],
             [
              0.4444444444444444,
              "#bd3786"
             ],
             [
              0.5555555555555556,
              "#d8576b"
             ],
             [
              0.6666666666666666,
              "#ed7953"
             ],
             [
              0.7777777777777778,
              "#fb9f3a"
             ],
             [
              0.8888888888888888,
              "#fdca26"
             ],
             [
              1,
              "#f0f921"
             ]
            ],
            "type": "heatmap"
           }
          ],
          "heatmapgl": [
           {
            "colorbar": {
             "outlinewidth": 0,
             "ticks": ""
            },
            "colorscale": [
             [
              0,
              "#0d0887"
             ],
             [
              0.1111111111111111,
              "#46039f"
             ],
             [
              0.2222222222222222,
              "#7201a8"
             ],
             [
              0.3333333333333333,
              "#9c179e"
             ],
             [
              0.4444444444444444,
              "#bd3786"
             ],
             [
              0.5555555555555556,
              "#d8576b"
             ],
             [
              0.6666666666666666,
              "#ed7953"
             ],
             [
              0.7777777777777778,
              "#fb9f3a"
             ],
             [
              0.8888888888888888,
              "#fdca26"
             ],
             [
              1,
              "#f0f921"
             ]
            ],
            "type": "heatmapgl"
           }
          ],
          "histogram": [
           {
            "marker": {
             "colorbar": {
              "outlinewidth": 0,
              "ticks": ""
             }
            },
            "type": "histogram"
           }
          ],
          "histogram2d": [
           {
            "colorbar": {
             "outlinewidth": 0,
             "ticks": ""
            },
            "colorscale": [
             [
              0,
              "#0d0887"
             ],
             [
              0.1111111111111111,
              "#46039f"
             ],
             [
              0.2222222222222222,
              "#7201a8"
             ],
             [
              0.3333333333333333,
              "#9c179e"
             ],
             [
              0.4444444444444444,
              "#bd3786"
             ],
             [
              0.5555555555555556,
              "#d8576b"
             ],
             [
              0.6666666666666666,
              "#ed7953"
             ],
             [
              0.7777777777777778,
              "#fb9f3a"
             ],
             [
              0.8888888888888888,
              "#fdca26"
             ],
             [
              1,
              "#f0f921"
             ]
            ],
            "type": "histogram2d"
           }
          ],
          "histogram2dcontour": [
           {
            "colorbar": {
             "outlinewidth": 0,
             "ticks": ""
            },
            "colorscale": [
             [
              0,
              "#0d0887"
             ],
             [
              0.1111111111111111,
              "#46039f"
             ],
             [
              0.2222222222222222,
              "#7201a8"
             ],
             [
              0.3333333333333333,
              "#9c179e"
             ],
             [
              0.4444444444444444,
              "#bd3786"
             ],
             [
              0.5555555555555556,
              "#d8576b"
             ],
             [
              0.6666666666666666,
              "#ed7953"
             ],
             [
              0.7777777777777778,
              "#fb9f3a"
             ],
             [
              0.8888888888888888,
              "#fdca26"
             ],
             [
              1,
              "#f0f921"
             ]
            ],
            "type": "histogram2dcontour"
           }
          ],
          "mesh3d": [
           {
            "colorbar": {
             "outlinewidth": 0,
             "ticks": ""
            },
            "type": "mesh3d"
           }
          ],
          "parcoords": [
           {
            "line": {
             "colorbar": {
              "outlinewidth": 0,
              "ticks": ""
             }
            },
            "type": "parcoords"
           }
          ],
          "pie": [
           {
            "automargin": true,
            "type": "pie"
           }
          ],
          "scatter": [
           {
            "marker": {
             "colorbar": {
              "outlinewidth": 0,
              "ticks": ""
             }
            },
            "type": "scatter"
           }
          ],
          "scatter3d": [
           {
            "line": {
             "colorbar": {
              "outlinewidth": 0,
              "ticks": ""
             }
            },
            "marker": {
             "colorbar": {
              "outlinewidth": 0,
              "ticks": ""
             }
            },
            "type": "scatter3d"
           }
          ],
          "scattercarpet": [
           {
            "marker": {
             "colorbar": {
              "outlinewidth": 0,
              "ticks": ""
             }
            },
            "type": "scattercarpet"
           }
          ],
          "scattergeo": [
           {
            "marker": {
             "colorbar": {
              "outlinewidth": 0,
              "ticks": ""
             }
            },
            "type": "scattergeo"
           }
          ],
          "scattergl": [
           {
            "marker": {
             "colorbar": {
              "outlinewidth": 0,
              "ticks": ""
             }
            },
            "type": "scattergl"
           }
          ],
          "scattermapbox": [
           {
            "marker": {
             "colorbar": {
              "outlinewidth": 0,
              "ticks": ""
             }
            },
            "type": "scattermapbox"
           }
          ],
          "scatterpolar": [
           {
            "marker": {
             "colorbar": {
              "outlinewidth": 0,
              "ticks": ""
             }
            },
            "type": "scatterpolar"
           }
          ],
          "scatterpolargl": [
           {
            "marker": {
             "colorbar": {
              "outlinewidth": 0,
              "ticks": ""
             }
            },
            "type": "scatterpolargl"
           }
          ],
          "scatterternary": [
           {
            "marker": {
             "colorbar": {
              "outlinewidth": 0,
              "ticks": ""
             }
            },
            "type": "scatterternary"
           }
          ],
          "surface": [
           {
            "colorbar": {
             "outlinewidth": 0,
             "ticks": ""
            },
            "colorscale": [
             [
              0,
              "#0d0887"
             ],
             [
              0.1111111111111111,
              "#46039f"
             ],
             [
              0.2222222222222222,
              "#7201a8"
             ],
             [
              0.3333333333333333,
              "#9c179e"
             ],
             [
              0.4444444444444444,
              "#bd3786"
             ],
             [
              0.5555555555555556,
              "#d8576b"
             ],
             [
              0.6666666666666666,
              "#ed7953"
             ],
             [
              0.7777777777777778,
              "#fb9f3a"
             ],
             [
              0.8888888888888888,
              "#fdca26"
             ],
             [
              1,
              "#f0f921"
             ]
            ],
            "type": "surface"
           }
          ],
          "table": [
           {
            "cells": {
             "fill": {
              "color": "#EBF0F8"
             },
             "line": {
              "color": "white"
             }
            },
            "header": {
             "fill": {
              "color": "#C8D4E3"
             },
             "line": {
              "color": "white"
             }
            },
            "type": "table"
           }
          ]
         },
         "layout": {
          "annotationdefaults": {
           "arrowcolor": "#2a3f5f",
           "arrowhead": 0,
           "arrowwidth": 1
          },
          "autotypenumbers": "strict",
          "coloraxis": {
           "colorbar": {
            "outlinewidth": 0,
            "ticks": ""
           }
          },
          "colorscale": {
           "diverging": [
            [
             0,
             "#8e0152"
            ],
            [
             0.1,
             "#c51b7d"
            ],
            [
             0.2,
             "#de77ae"
            ],
            [
             0.3,
             "#f1b6da"
            ],
            [
             0.4,
             "#fde0ef"
            ],
            [
             0.5,
             "#f7f7f7"
            ],
            [
             0.6,
             "#e6f5d0"
            ],
            [
             0.7,
             "#b8e186"
            ],
            [
             0.8,
             "#7fbc41"
            ],
            [
             0.9,
             "#4d9221"
            ],
            [
             1,
             "#276419"
            ]
           ],
           "sequential": [
            [
             0,
             "#0d0887"
            ],
            [
             0.1111111111111111,
             "#46039f"
            ],
            [
             0.2222222222222222,
             "#7201a8"
            ],
            [
             0.3333333333333333,
             "#9c179e"
            ],
            [
             0.4444444444444444,
             "#bd3786"
            ],
            [
             0.5555555555555556,
             "#d8576b"
            ],
            [
             0.6666666666666666,
             "#ed7953"
            ],
            [
             0.7777777777777778,
             "#fb9f3a"
            ],
            [
             0.8888888888888888,
             "#fdca26"
            ],
            [
             1,
             "#f0f921"
            ]
           ],
           "sequentialminus": [
            [
             0,
             "#0d0887"
            ],
            [
             0.1111111111111111,
             "#46039f"
            ],
            [
             0.2222222222222222,
             "#7201a8"
            ],
            [
             0.3333333333333333,
             "#9c179e"
            ],
            [
             0.4444444444444444,
             "#bd3786"
            ],
            [
             0.5555555555555556,
             "#d8576b"
            ],
            [
             0.6666666666666666,
             "#ed7953"
            ],
            [
             0.7777777777777778,
             "#fb9f3a"
            ],
            [
             0.8888888888888888,
             "#fdca26"
            ],
            [
             1,
             "#f0f921"
            ]
           ]
          },
          "colorway": [
           "#636efa",
           "#EF553B",
           "#00cc96",
           "#ab63fa",
           "#FFA15A",
           "#19d3f3",
           "#FF6692",
           "#B6E880",
           "#FF97FF",
           "#FECB52"
          ],
          "font": {
           "color": "#2a3f5f"
          },
          "geo": {
           "bgcolor": "white",
           "lakecolor": "white",
           "landcolor": "#E5ECF6",
           "showlakes": true,
           "showland": true,
           "subunitcolor": "white"
          },
          "hoverlabel": {
           "align": "left"
          },
          "hovermode": "closest",
          "mapbox": {
           "style": "light"
          },
          "paper_bgcolor": "white",
          "plot_bgcolor": "#E5ECF6",
          "polar": {
           "angularaxis": {
            "gridcolor": "white",
            "linecolor": "white",
            "ticks": ""
           },
           "bgcolor": "#E5ECF6",
           "radialaxis": {
            "gridcolor": "white",
            "linecolor": "white",
            "ticks": ""
           }
          },
          "scene": {
           "xaxis": {
            "backgroundcolor": "#E5ECF6",
            "gridcolor": "white",
            "gridwidth": 2,
            "linecolor": "white",
            "showbackground": true,
            "ticks": "",
            "zerolinecolor": "white"
           },
           "yaxis": {
            "backgroundcolor": "#E5ECF6",
            "gridcolor": "white",
            "gridwidth": 2,
            "linecolor": "white",
            "showbackground": true,
            "ticks": "",
            "zerolinecolor": "white"
           },
           "zaxis": {
            "backgroundcolor": "#E5ECF6",
            "gridcolor": "white",
            "gridwidth": 2,
            "linecolor": "white",
            "showbackground": true,
            "ticks": "",
            "zerolinecolor": "white"
           }
          },
          "shapedefaults": {
           "line": {
            "color": "#2a3f5f"
           }
          },
          "ternary": {
           "aaxis": {
            "gridcolor": "white",
            "linecolor": "white",
            "ticks": ""
           },
           "baxis": {
            "gridcolor": "white",
            "linecolor": "white",
            "ticks": ""
           },
           "bgcolor": "#E5ECF6",
           "caxis": {
            "gridcolor": "white",
            "linecolor": "white",
            "ticks": ""
           }
          },
          "title": {
           "x": 0.05
          },
          "xaxis": {
           "automargin": true,
           "gridcolor": "white",
           "linecolor": "white",
           "ticks": "",
           "title": {
            "standoff": 15
           },
           "zerolinecolor": "white",
           "zerolinewidth": 2
          },
          "yaxis": {
           "automargin": true,
           "gridcolor": "white",
           "linecolor": "white",
           "ticks": "",
           "title": {
            "standoff": 15
           },
           "zerolinecolor": "white",
           "zerolinewidth": 2
          }
         }
        },
        "title": {
         "text": "Min, Mean, and Max of CPI"
        }
       }
      },
      "text/html": [
       "<div>                            <div id=\"5990842b-45c5-458d-88b7-d3c98744b38e\" class=\"plotly-graph-div\" style=\"height:525px; width:100%;\"></div>            <script type=\"text/javascript\">                require([\"plotly\"], function(Plotly) {                    window.PLOTLYENV=window.PLOTLYENV || {};                                    if (document.getElementById(\"5990842b-45c5-458d-88b7-d3c98744b38e\")) {                    Plotly.newPlot(                        \"5990842b-45c5-458d-88b7-d3c98744b38e\",                        [{\"line\": {\"color\": \"green\"}, \"name\": \"Min\", \"opacity\": 0.4, \"type\": \"scatter\", \"x\": [\"2010-01-10T00:00:00\", \"2010-02-04T00:00:00\", \"2010-02-07T00:00:00\", \"2010-02-19T00:00:00\", \"2010-02-26T00:00:00\", \"2010-03-09T00:00:00\", \"2010-03-12T00:00:00\", \"2010-03-19T00:00:00\", \"2010-03-26T00:00:00\", \"2010-04-06T00:00:00\", \"2010-04-16T00:00:00\", \"2010-04-23T00:00:00\", \"2010-04-30T00:00:00\", \"2010-05-02T00:00:00\", \"2010-05-03T00:00:00\", \"2010-05-11T00:00:00\", \"2010-05-14T00:00:00\", \"2010-05-21T00:00:00\", \"2010-05-28T00:00:00\", \"2010-06-08T00:00:00\", \"2010-06-18T00:00:00\", \"2010-06-25T00:00:00\", \"2010-07-05T00:00:00\", \"2010-07-16T00:00:00\", \"2010-07-23T00:00:00\", \"2010-07-30T00:00:00\", \"2010-08-10T00:00:00\", \"2010-08-13T00:00:00\", \"2010-08-20T00:00:00\", \"2010-08-27T00:00:00\", \"2010-09-04T00:00:00\", \"2010-09-07T00:00:00\", \"2010-09-17T00:00:00\", \"2010-09-24T00:00:00\", \"2010-10-09T00:00:00\", \"2010-10-12T00:00:00\", \"2010-10-15T00:00:00\", \"2010-10-22T00:00:00\", \"2010-10-29T00:00:00\", \"2010-11-06T00:00:00\", \"2010-11-19T00:00:00\", \"2010-11-26T00:00:00\", \"2010-12-02T00:00:00\", \"2010-12-03T00:00:00\", \"2010-12-11T00:00:00\", \"2010-12-17T00:00:00\", \"2010-12-24T00:00:00\", \"2010-12-31T00:00:00\", \"2011-01-04T00:00:00\", \"2011-01-07T00:00:00\", \"2011-01-14T00:00:00\", \"2011-01-21T00:00:00\", \"2011-01-28T00:00:00\", \"2011-02-09T00:00:00\", \"2011-02-12T00:00:00\", \"2011-02-18T00:00:00\", \"2011-02-25T00:00:00\", \"2011-03-06T00:00:00\", \"2011-03-18T00:00:00\", \"2011-03-25T00:00:00\", \"2011-04-02T00:00:00\", \"2011-04-03T00:00:00\", \"2011-04-11T00:00:00\", \"2011-04-15T00:00:00\", \"2011-04-22T00:00:00\", \"2011-04-29T00:00:00\", \"2011-05-08T00:00:00\", \"2011-05-13T00:00:00\", \"2011-05-20T00:00:00\", \"2011-05-27T00:00:00\", \"2011-06-05T00:00:00\", \"2011-06-17T00:00:00\", \"2011-06-24T00:00:00\", \"2011-07-01T00:00:00\", \"2011-07-10T00:00:00\", \"2011-07-15T00:00:00\", \"2011-07-22T00:00:00\", \"2011-07-29T00:00:00\", \"2011-08-04T00:00:00\", \"2011-08-07T00:00:00\", \"2011-08-19T00:00:00\", \"2011-08-26T00:00:00\", \"2011-09-09T00:00:00\", \"2011-09-12T00:00:00\", \"2011-09-16T00:00:00\", \"2011-09-23T00:00:00\", \"2011-09-30T00:00:00\", \"2011-10-06T00:00:00\", \"2011-10-14T00:00:00\", \"2011-10-21T00:00:00\", \"2011-10-28T00:00:00\", \"2011-11-02T00:00:00\", \"2011-11-03T00:00:00\", \"2011-11-11T00:00:00\", \"2011-11-18T00:00:00\", \"2011-11-25T00:00:00\", \"2011-12-08T00:00:00\", \"2011-12-16T00:00:00\", \"2011-12-23T00:00:00\", \"2011-12-30T00:00:00\", \"2012-01-06T00:00:00\", \"2012-01-13T00:00:00\", \"2012-01-20T00:00:00\", \"2012-01-27T00:00:00\", \"2012-02-03T00:00:00\", \"2012-02-11T00:00:00\", \"2012-02-17T00:00:00\", \"2012-02-24T00:00:00\", \"2012-03-02T00:00:00\", \"2012-03-08T00:00:00\", \"2012-03-16T00:00:00\", \"2012-03-23T00:00:00\", \"2012-03-30T00:00:00\", \"2012-04-05T00:00:00\", \"2012-04-13T00:00:00\", \"2012-04-20T00:00:00\", \"2012-04-27T00:00:00\", \"2012-05-10T00:00:00\", \"2012-05-18T00:00:00\", \"2012-05-25T00:00:00\", \"2012-06-01T00:00:00\", \"2012-06-04T00:00:00\", \"2012-06-07T00:00:00\", \"2012-06-15T00:00:00\", \"2012-06-22T00:00:00\", \"2012-06-29T00:00:00\", \"2012-07-09T00:00:00\", \"2012-07-12T00:00:00\", \"2012-07-13T00:00:00\", \"2012-07-20T00:00:00\", \"2012-07-27T00:00:00\", \"2012-08-06T00:00:00\", \"2012-08-17T00:00:00\", \"2012-08-24T00:00:00\", \"2012-08-31T00:00:00\", \"2012-09-03T00:00:00\", \"2012-09-11T00:00:00\", \"2012-09-14T00:00:00\", \"2012-09-21T00:00:00\", \"2012-09-28T00:00:00\", \"2012-10-02T00:00:00\", \"2012-10-08T00:00:00\", \"2012-10-19T00:00:00\", \"2012-10-26T00:00:00\", \"2012-11-05T00:00:00\", \"2012-11-16T00:00:00\", \"2012-11-23T00:00:00\", \"2012-11-30T00:00:00\", \"2012-12-10T00:00:00\", \"2012-12-14T00:00:00\", \"2012-12-21T00:00:00\", \"2012-12-28T00:00:00\", \"2013-01-02T00:00:00\", \"2013-01-03T00:00:00\", \"2013-01-18T00:00:00\", \"2013-01-25T00:00:00\", \"2013-02-15T00:00:00\", \"2013-02-22T00:00:00\", \"2013-03-05T00:00:00\", \"2013-03-15T00:00:00\", \"2013-03-22T00:00:00\", \"2013-03-29T00:00:00\", \"2013-04-01T00:00:00\", \"2013-04-19T00:00:00\", \"2013-04-26T00:00:00\", \"2013-05-04T00:00:00\", \"2013-05-07T00:00:00\", \"2013-05-17T00:00:00\", \"2013-05-24T00:00:00\", \"2013-05-31T00:00:00\", \"2013-06-14T00:00:00\", \"2013-06-21T00:00:00\", \"2013-06-28T00:00:00\", \"2013-07-06T00:00:00\", \"2013-07-19T00:00:00\", \"2013-07-26T00:00:00\", \"2013-08-02T00:00:00\", \"2013-08-03T00:00:00\", \"2013-10-05T00:00:00\", \"2013-11-01T00:00:00\", \"2013-12-04T00:00:00\", \"2013-12-07T00:00:00\"], \"y\": [126.2346, 126.60348390000001, 126.1392, 126.5262857, 126.55228570000001, 126.1019355, 126.73133329999999, 126.6066452, 126.6050645, 126.1360645, 126.5621, 126.47133329999998, 126.38056670000002, 126.4420645, 126.57828570000001, 126.49129029999999, 126.20854840000001, 126.18438710000001, 126.16022579999999, 126.08545159999998, 126.11399999999999, 126.1266, 126.2898, 126.1498065, 126.1283548, 126.10690320000002, 126.27916670000002, 126.064, 126.0766452, 126.08929029999999, 126.60190320000001, 126.1518, 126.14546670000001, 126.19003329999998, 126.11458059999998, 126.7934, 126.3266774, 126.38154840000001, 126.43641940000002, 126.11190320000001, 126.6072, 126.66926670000001, 126.4962581, 126.6042857, 126.5461613, 126.87948390000001, 126.98358059999998, 127.0876774, 128.7199355, 129.0894, 127.3009355, 127.44048390000002, 127.58003229999998, 129.32593549999999, 129.84596670000002, 127.99525, 128.13, 129.0490323, 128.5121935, 128.6160645, 127.71958059999999, 128.26475, 129.8051935, 128.91073329999998, 128.9553, 128.9998667, 129.1846452, 129.089, 129.0756774, 129.0623548, 129.04443329999998, 129.0432, 129.0663, 127.19177420000001, 129.6938, 129.1338387, 129.1507742, 129.16770970000002, 128.8238065, 129.1125, 129.2405806, 129.2832581, 129.3686129, 129.8555333, 129.4306, 129.5183333, 129.6060667, 129.0357097, 129.77064520000002, 129.78216129999998, 129.7936774, 127.85912900000001, 128.3995, 129.81670970000002, 129.82683329999998, 129.8364, 129.2015806, 129.8980645, 129.98454840000002, 130.07103229999998, 130.95922579999998, 130.244, 130.27922579999998, 130.31445159999998, 130.6457931, 131.2362258, 130.4546207, 130.5502069, 130.3496774, 130.73787099999998, 130.82619350000002, 130.8966452, 130.96709679999998, 131.136, 131.108, 131.11733329999998, 131.12666670000002, 131.0756667, 131.0983226, 131.02877420000002, 130.15751609999998, 131.03754840000002, 130.7196333, 130.82953329999998, 130.7929, 130.75626670000003, 130.93254840000003, 131.4784, 130.683, 130.70129029999998, 130.7195806, 130.8896774, 130.7909677, 130.8381613, 130.8853548, 130.7413793, 131.2793548, 130.97766670000001, 131.01033329999999, 131.043, 130.38490320000002, 130.7561613, 131.14996770000002, 131.19309679999998, 131.14533329999998, 131.3258, 131.37666670000002, 131.4275333, 131.1083333, 131.537, 131.642, 131.747, 132.1537097, 132.3675714, 132.030871, 132.0922903, 132.2725714, 132.32007140000002, null, 132.4668065, 132.529129, 132.59145159999997, 131.852, 132.71609679999997, 132.71609679999997, 132.65377420000002, null, null, null, null, null, null, null, null, null, null, 132.215129, 132.41507140000002, null, 131.957, 132.71609679999997, null]}, {\"line\": {\"color\": \"blue\"}, \"name\": \"q25\", \"opacity\": 0.4, \"type\": \"scatter\", \"x\": [\"2010-01-10T00:00:00\", \"2010-02-04T00:00:00\", \"2010-02-07T00:00:00\", \"2010-02-19T00:00:00\", \"2010-02-26T00:00:00\", \"2010-03-09T00:00:00\", \"2010-03-12T00:00:00\", \"2010-03-19T00:00:00\", \"2010-03-26T00:00:00\", \"2010-04-06T00:00:00\", \"2010-04-16T00:00:00\", \"2010-04-23T00:00:00\", \"2010-04-30T00:00:00\", \"2010-05-02T00:00:00\", \"2010-05-03T00:00:00\", \"2010-05-11T00:00:00\", \"2010-05-14T00:00:00\", \"2010-05-21T00:00:00\", \"2010-05-28T00:00:00\", \"2010-06-08T00:00:00\", \"2010-06-18T00:00:00\", \"2010-06-25T00:00:00\", \"2010-07-05T00:00:00\", \"2010-07-16T00:00:00\", \"2010-07-23T00:00:00\", \"2010-07-30T00:00:00\", \"2010-08-10T00:00:00\", \"2010-08-13T00:00:00\", \"2010-08-20T00:00:00\", \"2010-08-27T00:00:00\", \"2010-09-04T00:00:00\", \"2010-09-07T00:00:00\", \"2010-09-17T00:00:00\", \"2010-09-24T00:00:00\", \"2010-10-09T00:00:00\", \"2010-10-12T00:00:00\", \"2010-10-15T00:00:00\", \"2010-10-22T00:00:00\", \"2010-10-29T00:00:00\", \"2010-11-06T00:00:00\", \"2010-11-19T00:00:00\", \"2010-11-26T00:00:00\", \"2010-12-02T00:00:00\", \"2010-12-03T00:00:00\", \"2010-12-11T00:00:00\", \"2010-12-17T00:00:00\", \"2010-12-24T00:00:00\", \"2010-12-31T00:00:00\", \"2011-01-04T00:00:00\", \"2011-01-07T00:00:00\", \"2011-01-14T00:00:00\", \"2011-01-21T00:00:00\", \"2011-01-28T00:00:00\", \"2011-02-09T00:00:00\", \"2011-02-12T00:00:00\", \"2011-02-18T00:00:00\", \"2011-02-25T00:00:00\", \"2011-03-06T00:00:00\", \"2011-03-18T00:00:00\", \"2011-03-25T00:00:00\", \"2011-04-02T00:00:00\", \"2011-04-03T00:00:00\", \"2011-04-11T00:00:00\", \"2011-04-15T00:00:00\", \"2011-04-22T00:00:00\", \"2011-04-29T00:00:00\", \"2011-05-08T00:00:00\", \"2011-05-13T00:00:00\", \"2011-05-20T00:00:00\", \"2011-05-27T00:00:00\", \"2011-06-05T00:00:00\", \"2011-06-17T00:00:00\", \"2011-06-24T00:00:00\", \"2011-07-01T00:00:00\", \"2011-07-10T00:00:00\", \"2011-07-15T00:00:00\", \"2011-07-22T00:00:00\", \"2011-07-29T00:00:00\", \"2011-08-04T00:00:00\", \"2011-08-07T00:00:00\", \"2011-08-19T00:00:00\", \"2011-08-26T00:00:00\", \"2011-09-09T00:00:00\", \"2011-09-12T00:00:00\", \"2011-09-16T00:00:00\", \"2011-09-23T00:00:00\", \"2011-09-30T00:00:00\", \"2011-10-06T00:00:00\", \"2011-10-14T00:00:00\", \"2011-10-21T00:00:00\", \"2011-10-28T00:00:00\", \"2011-11-02T00:00:00\", \"2011-11-03T00:00:00\", \"2011-11-11T00:00:00\", \"2011-11-18T00:00:00\", \"2011-11-25T00:00:00\", \"2011-12-08T00:00:00\", \"2011-12-16T00:00:00\", \"2011-12-23T00:00:00\", \"2011-12-30T00:00:00\", \"2012-01-06T00:00:00\", \"2012-01-13T00:00:00\", \"2012-01-20T00:00:00\", \"2012-01-27T00:00:00\", \"2012-02-03T00:00:00\", \"2012-02-11T00:00:00\", \"2012-02-17T00:00:00\", \"2012-02-24T00:00:00\", \"2012-03-02T00:00:00\", \"2012-03-08T00:00:00\", \"2012-03-16T00:00:00\", \"2012-03-23T00:00:00\", \"2012-03-30T00:00:00\", \"2012-04-05T00:00:00\", \"2012-04-13T00:00:00\", \"2012-04-20T00:00:00\", \"2012-04-27T00:00:00\", \"2012-05-10T00:00:00\", \"2012-05-18T00:00:00\", \"2012-05-25T00:00:00\", \"2012-06-01T00:00:00\", \"2012-06-04T00:00:00\", \"2012-06-07T00:00:00\", \"2012-06-15T00:00:00\", \"2012-06-22T00:00:00\", \"2012-06-29T00:00:00\", \"2012-07-09T00:00:00\", \"2012-07-12T00:00:00\", \"2012-07-13T00:00:00\", \"2012-07-20T00:00:00\", \"2012-07-27T00:00:00\", \"2012-08-06T00:00:00\", \"2012-08-17T00:00:00\", \"2012-08-24T00:00:00\", \"2012-08-31T00:00:00\", \"2012-09-03T00:00:00\", \"2012-09-11T00:00:00\", \"2012-09-14T00:00:00\", \"2012-09-21T00:00:00\", \"2012-09-28T00:00:00\", \"2012-10-02T00:00:00\", \"2012-10-08T00:00:00\", \"2012-10-19T00:00:00\", \"2012-10-26T00:00:00\", \"2012-11-05T00:00:00\", \"2012-11-16T00:00:00\", \"2012-11-23T00:00:00\", \"2012-11-30T00:00:00\", \"2012-12-10T00:00:00\", \"2012-12-14T00:00:00\", \"2012-12-21T00:00:00\", \"2012-12-28T00:00:00\", \"2013-01-02T00:00:00\", \"2013-01-03T00:00:00\", \"2013-01-18T00:00:00\", \"2013-01-25T00:00:00\", \"2013-02-15T00:00:00\", \"2013-02-22T00:00:00\", \"2013-03-05T00:00:00\", \"2013-03-15T00:00:00\", \"2013-03-22T00:00:00\", \"2013-03-29T00:00:00\", \"2013-04-01T00:00:00\", \"2013-04-19T00:00:00\", \"2013-04-26T00:00:00\", \"2013-05-04T00:00:00\", \"2013-05-07T00:00:00\", \"2013-05-17T00:00:00\", \"2013-05-24T00:00:00\", \"2013-05-31T00:00:00\", \"2013-06-14T00:00:00\", \"2013-06-21T00:00:00\", \"2013-06-28T00:00:00\", \"2013-07-06T00:00:00\", \"2013-07-19T00:00:00\", \"2013-07-26T00:00:00\", \"2013-08-02T00:00:00\", \"2013-08-03T00:00:00\", \"2013-10-05T00:00:00\", \"2013-11-01T00:00:00\", \"2013-12-04T00:00:00\", \"2013-12-07T00:00:00\"], \"y\": [132.7568, 131.9019677, 132.5218667, 131.637, 131.686, 132.72483870000002, 132.7566667, 131.8242903, 131.86312900000001, 132.3648387, 131.9809, 132.0226667, 132.0644333, 131.52790320000003, 131.735, 132.92458059999998, 132.152129, 132.2230323, 132.2939355, 132.6141935, 132.47333329999998, 132.4976, 132.1062, 132.5667742, 132.5825806, 132.5983871, 132.75166670000002, 132.63, 132.6616129, 132.6932258, 131.9408065, 132.54613329999998, 132.76706670000002, 132.76193329999998, 132.7564516, 132.6764, 132.7633548, 132.8170968, 132.8708387, 132.4357419, 132.9172, 132.8369333, 131.5866129, 131.784, 132.9783226, 132.68045159999997, 132.7477419, 132.81503229999998, 134.0682581, 135.4468, 132.9510645, 133.0285161, 133.1059677, 136.24409680000002, 136.49093330000002, 133.3701429, 133.4921429, 134.85516130000002, 133.8492258, 133.9587419, 133.18341940000002, 133.6141429, 136.475129, 134.2784667, 134.3571, 134.4357333, 136.05403230000002, 134.593, 134.6803871, 134.7677742, 134.51436669999998, 135.0837333, 135.26526669999998, 132.8823226, 136.472, 135.7837419, 135.8738387, 135.9639355, 134.17777420000002, 135.6283333, 136.183129, 136.2136129, 136.27458059999998, 136.50306669999998, 136.3145, 136.36700000000002, 136.4195, 134.94254840000002, 136.5150968, 136.50177419999997, 136.4884516, 133.260871, 133.7361429, 136.4618065, 136.4666667, 136.4788, 136.144129, 136.53351609999999, 136.5883871, 136.6432581, 138.11380649999998, 136.753, 136.85641940000002, 136.95983869999998, 137.4238966, 138.62270969999997, 137.2583103, 137.3411034, 137.0632581, 138.17358059999998, 137.58438710000001, 137.65529030000002, 137.7261935, 138.0332, 137.868, 137.9230667, 137.9781333, 138.8256, 138.10658059999997, 138.1101935, 136.698129, 137.79709680000002, 138.22963330000002, 138.12953330000002, 138.1629, 138.1962667, 138.4729355, 138.3794, 138.263, 138.2331935, 138.20338710000001, 138.11741940000002, 138.1857097, 138.2814516, 138.3771935, 137.50668969999998, 138.5172581, 138.5673, 138.6534, 138.7395, 137.1666774, 138.1437742, 138.8336129, 138.7281613, 138.0882667, 138.4473, 138.4246667, 138.4020333, 138.9117, 138.3685484, 138.4283871, 138.4882258, 138.79661289999999, 138.8684286, 138.67016130000002, 138.73338710000002, 138.9004286, 138.88442859999998, null, 138.85977419999998, 138.92548390000002, 138.9911935, 138.5480645, 139.1226129, 139.1226129, 139.0569032, null, null, null, null, null, null, null, null, null, null, 138.85983869999998, 138.8524286, null, 138.60790319999998, 139.1226129, null]}, {\"line\": {\"color\": \"blue\"}, \"name\": \"q50\", \"opacity\": 0.4, \"type\": \"scatter\", \"x\": [\"2010-01-10T00:00:00\", \"2010-02-04T00:00:00\", \"2010-02-07T00:00:00\", \"2010-02-19T00:00:00\", \"2010-02-26T00:00:00\", \"2010-03-09T00:00:00\", \"2010-03-12T00:00:00\", \"2010-03-19T00:00:00\", \"2010-03-26T00:00:00\", \"2010-04-06T00:00:00\", \"2010-04-16T00:00:00\", \"2010-04-23T00:00:00\", \"2010-04-30T00:00:00\", \"2010-05-02T00:00:00\", \"2010-05-03T00:00:00\", \"2010-05-11T00:00:00\", \"2010-05-14T00:00:00\", \"2010-05-21T00:00:00\", \"2010-05-28T00:00:00\", \"2010-06-08T00:00:00\", \"2010-06-18T00:00:00\", \"2010-06-25T00:00:00\", \"2010-07-05T00:00:00\", \"2010-07-16T00:00:00\", \"2010-07-23T00:00:00\", \"2010-07-30T00:00:00\", \"2010-08-10T00:00:00\", \"2010-08-13T00:00:00\", \"2010-08-20T00:00:00\", \"2010-08-27T00:00:00\", \"2010-09-04T00:00:00\", \"2010-09-07T00:00:00\", \"2010-09-17T00:00:00\", \"2010-09-24T00:00:00\", \"2010-10-09T00:00:00\", \"2010-10-12T00:00:00\", \"2010-10-15T00:00:00\", \"2010-10-22T00:00:00\", \"2010-10-29T00:00:00\", \"2010-11-06T00:00:00\", \"2010-11-19T00:00:00\", \"2010-11-26T00:00:00\", \"2010-12-02T00:00:00\", \"2010-12-03T00:00:00\", \"2010-12-11T00:00:00\", \"2010-12-17T00:00:00\", \"2010-12-24T00:00:00\", \"2010-12-31T00:00:00\", \"2011-01-04T00:00:00\", \"2011-01-07T00:00:00\", \"2011-01-14T00:00:00\", \"2011-01-21T00:00:00\", \"2011-01-28T00:00:00\", \"2011-02-09T00:00:00\", \"2011-02-12T00:00:00\", \"2011-02-18T00:00:00\", \"2011-02-25T00:00:00\", \"2011-03-06T00:00:00\", \"2011-03-18T00:00:00\", \"2011-03-25T00:00:00\", \"2011-04-02T00:00:00\", \"2011-04-03T00:00:00\", \"2011-04-11T00:00:00\", \"2011-04-15T00:00:00\", \"2011-04-22T00:00:00\", \"2011-04-29T00:00:00\", \"2011-05-08T00:00:00\", \"2011-05-13T00:00:00\", \"2011-05-20T00:00:00\", \"2011-05-27T00:00:00\", \"2011-06-05T00:00:00\", \"2011-06-17T00:00:00\", \"2011-06-24T00:00:00\", \"2011-07-01T00:00:00\", \"2011-07-10T00:00:00\", \"2011-07-15T00:00:00\", \"2011-07-22T00:00:00\", \"2011-07-29T00:00:00\", \"2011-08-04T00:00:00\", \"2011-08-07T00:00:00\", \"2011-08-19T00:00:00\", \"2011-08-26T00:00:00\", \"2011-09-09T00:00:00\", \"2011-09-12T00:00:00\", \"2011-09-16T00:00:00\", \"2011-09-23T00:00:00\", \"2011-09-30T00:00:00\", \"2011-10-06T00:00:00\", \"2011-10-14T00:00:00\", \"2011-10-21T00:00:00\", \"2011-10-28T00:00:00\", \"2011-11-02T00:00:00\", \"2011-11-03T00:00:00\", \"2011-11-11T00:00:00\", \"2011-11-18T00:00:00\", \"2011-11-25T00:00:00\", \"2011-12-08T00:00:00\", \"2011-12-16T00:00:00\", \"2011-12-23T00:00:00\", \"2011-12-30T00:00:00\", \"2012-01-06T00:00:00\", \"2012-01-13T00:00:00\", \"2012-01-20T00:00:00\", \"2012-01-27T00:00:00\", \"2012-02-03T00:00:00\", \"2012-02-11T00:00:00\", \"2012-02-17T00:00:00\", \"2012-02-24T00:00:00\", \"2012-03-02T00:00:00\", \"2012-03-08T00:00:00\", \"2012-03-16T00:00:00\", \"2012-03-23T00:00:00\", \"2012-03-30T00:00:00\", \"2012-04-05T00:00:00\", \"2012-04-13T00:00:00\", \"2012-04-20T00:00:00\", \"2012-04-27T00:00:00\", \"2012-05-10T00:00:00\", \"2012-05-18T00:00:00\", \"2012-05-25T00:00:00\", \"2012-06-01T00:00:00\", \"2012-06-04T00:00:00\", \"2012-06-07T00:00:00\", \"2012-06-15T00:00:00\", \"2012-06-22T00:00:00\", \"2012-06-29T00:00:00\", \"2012-07-09T00:00:00\", \"2012-07-12T00:00:00\", \"2012-07-13T00:00:00\", \"2012-07-20T00:00:00\", \"2012-07-27T00:00:00\", \"2012-08-06T00:00:00\", \"2012-08-17T00:00:00\", \"2012-08-24T00:00:00\", \"2012-08-31T00:00:00\", \"2012-09-03T00:00:00\", \"2012-09-11T00:00:00\", \"2012-09-14T00:00:00\", \"2012-09-21T00:00:00\", \"2012-09-28T00:00:00\", \"2012-10-02T00:00:00\", \"2012-10-08T00:00:00\", \"2012-10-19T00:00:00\", \"2012-10-26T00:00:00\", \"2012-11-05T00:00:00\", \"2012-11-16T00:00:00\", \"2012-11-23T00:00:00\", \"2012-11-30T00:00:00\", \"2012-12-10T00:00:00\", \"2012-12-14T00:00:00\", \"2012-12-21T00:00:00\", \"2012-12-28T00:00:00\", \"2013-01-02T00:00:00\", \"2013-01-03T00:00:00\", \"2013-01-18T00:00:00\", \"2013-01-25T00:00:00\", \"2013-02-15T00:00:00\", \"2013-02-22T00:00:00\", \"2013-03-05T00:00:00\", \"2013-03-15T00:00:00\", \"2013-03-22T00:00:00\", \"2013-03-29T00:00:00\", \"2013-04-01T00:00:00\", \"2013-04-19T00:00:00\", \"2013-04-26T00:00:00\", \"2013-05-04T00:00:00\", \"2013-05-07T00:00:00\", \"2013-05-17T00:00:00\", \"2013-05-24T00:00:00\", \"2013-05-31T00:00:00\", \"2013-06-14T00:00:00\", \"2013-06-21T00:00:00\", \"2013-06-28T00:00:00\", \"2013-07-06T00:00:00\", \"2013-07-19T00:00:00\", \"2013-07-26T00:00:00\", \"2013-08-02T00:00:00\", \"2013-08-03T00:00:00\", \"2013-10-05T00:00:00\", \"2013-11-01T00:00:00\", \"2013-12-04T00:00:00\", \"2013-12-07T00:00:00\"], \"y\": [182.7168385, 181.86575369999997, 182.3187801, 182.03478159999997, 182.07746909999997, 182.60429219999997, 182.66761540000002, 182.07798569999997, 181.97186969999998, 182.2389876, 181.6924769, 181.6772564, 181.6620359, 181.8711898, 182.1201566, 182.9463648, 181.6612792, 181.8538486, 182.04641809999998, 182.5320862, 182.4424199, 182.3806, 181.6468154, 182.26044109999998, 182.3509895, 182.4415378, 182.7640032, 182.6226346, 182.6165205, 182.61040630000002, 181.75963769999998, 182.2569603, 182.622509, 182.6696737, 182.598178, 182.5519538, 182.8106203, 182.8558685, 182.9011166, 182.4315571, 182.8989385, 182.7832769, 181.982317, 182.1628441, 182.9916129, 182.517732, 182.54459, 182.5714479, 185.17901669999998, 185.9119885, 182.6585782, 182.9193368, 183.18009550000002, 186.6189274, 188.5024346, 183.93713530000002, 184.1625632, 185.7545, 184.809719, 184.99436790000001, 183.4408542, 184.3879911, 187.9703629, 185.5339821, 185.66846730000003, 185.8029526, 186.3734038, 186.0719231, 185.9661154, 185.8603077, 185.9374378, 185.6719333, 185.79196090000002, 182.59830580000002, 187.48379619999997, 186.13998080000002, 186.2177885, 186.29559619999998, 185.3636656, 186.032016, 186.5093071, 186.56411719999997, 186.67373759999998, 188.6544692, 186.8024, 187.0295321, 187.2566641, 185.64869230000002, 187.69174809999998, 187.78461969999998, 187.87749130000003, 183.7016129, 184.613419, 188.0632345, 188.1983654, 188.3504, 186.4512115, 188.79793490000003, 188.92997519999997, 189.0620155, 191.00917119999997, 189.3260962, 189.4214733, 189.51685049999998, 190.1714927, 192.2869435, 189.8424834, 190.0069881, 189.61222769999998, 191.16409, 190.46189640000003, 190.53632130000003, 190.61074630000002, 190.9222115, 190.75959619999998, 190.8138013, 190.8680064, 192.1704115, 190.9964479, 191.00280959999998, 189.19405580000003, 190.68517119999998, 191.1338827, 191.02997309999998, 191.06460959999998, 191.09924619999998, 191.5776756, 192.32585769999997, 191.1685192, 191.16704280000002, 191.16556640000002, 191.0155329, 191.2284919, 191.3448865, 191.461281, 190.33599730000003, 192.2649882, 191.69985, 191.85670380000002, 192.01355769999998, 189.7076048, 191.1626135, 192.33085419999998, 192.3088989, 190.9764167, 192.26161919999998, 192.28303209999999, 192.3044449, 192.32726540000002, 192.35854840000002, 192.4589063, 192.55926430000002, 192.8678952, 193.1221731, 192.8095068, 192.83870100000001, 192.94347119999998, 193.0328221, null, 193.2962767, 193.3695335, 193.4427903, 192.65962219999997, 193.589304, 193.589304, 193.51604709999998, null, null, null, null, null, null, null, null, null, null, 192.8970893, 193.211524, null, 192.7599801, 193.589304, null]}, {\"line\": {\"color\": \"blue\"}, \"name\": \"q75\", \"opacity\": 0.4, \"type\": \"scatter\", \"x\": [\"2010-01-10T00:00:00\", \"2010-02-04T00:00:00\", \"2010-02-07T00:00:00\", \"2010-02-19T00:00:00\", \"2010-02-26T00:00:00\", \"2010-03-09T00:00:00\", \"2010-03-12T00:00:00\", \"2010-03-19T00:00:00\", \"2010-03-26T00:00:00\", \"2010-04-06T00:00:00\", \"2010-04-16T00:00:00\", \"2010-04-23T00:00:00\", \"2010-04-30T00:00:00\", \"2010-05-02T00:00:00\", \"2010-05-03T00:00:00\", \"2010-05-11T00:00:00\", \"2010-05-14T00:00:00\", \"2010-05-21T00:00:00\", \"2010-05-28T00:00:00\", \"2010-06-08T00:00:00\", \"2010-06-18T00:00:00\", \"2010-06-25T00:00:00\", \"2010-07-05T00:00:00\", \"2010-07-16T00:00:00\", \"2010-07-23T00:00:00\", \"2010-07-30T00:00:00\", \"2010-08-10T00:00:00\", \"2010-08-13T00:00:00\", \"2010-08-20T00:00:00\", \"2010-08-27T00:00:00\", \"2010-09-04T00:00:00\", \"2010-09-07T00:00:00\", \"2010-09-17T00:00:00\", \"2010-09-24T00:00:00\", \"2010-10-09T00:00:00\", \"2010-10-12T00:00:00\", \"2010-10-15T00:00:00\", \"2010-10-22T00:00:00\", \"2010-10-29T00:00:00\", \"2010-11-06T00:00:00\", \"2010-11-19T00:00:00\", \"2010-11-26T00:00:00\", \"2010-12-02T00:00:00\", \"2010-12-03T00:00:00\", \"2010-12-11T00:00:00\", \"2010-12-17T00:00:00\", \"2010-12-24T00:00:00\", \"2010-12-31T00:00:00\", \"2011-01-04T00:00:00\", \"2011-01-07T00:00:00\", \"2011-01-14T00:00:00\", \"2011-01-21T00:00:00\", \"2011-01-28T00:00:00\", \"2011-02-09T00:00:00\", \"2011-02-12T00:00:00\", \"2011-02-18T00:00:00\", \"2011-02-25T00:00:00\", \"2011-03-06T00:00:00\", \"2011-03-18T00:00:00\", \"2011-03-25T00:00:00\", \"2011-04-02T00:00:00\", \"2011-04-03T00:00:00\", \"2011-04-11T00:00:00\", \"2011-04-15T00:00:00\", \"2011-04-22T00:00:00\", \"2011-04-29T00:00:00\", \"2011-05-08T00:00:00\", \"2011-05-13T00:00:00\", \"2011-05-20T00:00:00\", \"2011-05-27T00:00:00\", \"2011-06-05T00:00:00\", \"2011-06-17T00:00:00\", \"2011-06-24T00:00:00\", \"2011-07-01T00:00:00\", \"2011-07-10T00:00:00\", \"2011-07-15T00:00:00\", \"2011-07-22T00:00:00\", \"2011-07-29T00:00:00\", \"2011-08-04T00:00:00\", \"2011-08-07T00:00:00\", \"2011-08-19T00:00:00\", \"2011-08-26T00:00:00\", \"2011-09-09T00:00:00\", \"2011-09-12T00:00:00\", \"2011-09-16T00:00:00\", \"2011-09-23T00:00:00\", \"2011-09-30T00:00:00\", \"2011-10-06T00:00:00\", \"2011-10-14T00:00:00\", \"2011-10-21T00:00:00\", \"2011-10-28T00:00:00\", \"2011-11-02T00:00:00\", \"2011-11-03T00:00:00\", \"2011-11-11T00:00:00\", \"2011-11-18T00:00:00\", \"2011-11-25T00:00:00\", \"2011-12-08T00:00:00\", \"2011-12-16T00:00:00\", \"2011-12-23T00:00:00\", \"2011-12-30T00:00:00\", \"2012-01-06T00:00:00\", \"2012-01-13T00:00:00\", \"2012-01-20T00:00:00\", \"2012-01-27T00:00:00\", \"2012-02-03T00:00:00\", \"2012-02-11T00:00:00\", \"2012-02-17T00:00:00\", \"2012-02-24T00:00:00\", \"2012-03-02T00:00:00\", \"2012-03-08T00:00:00\", \"2012-03-16T00:00:00\", \"2012-03-23T00:00:00\", \"2012-03-30T00:00:00\", \"2012-04-05T00:00:00\", \"2012-04-13T00:00:00\", \"2012-04-20T00:00:00\", \"2012-04-27T00:00:00\", \"2012-05-10T00:00:00\", \"2012-05-18T00:00:00\", \"2012-05-25T00:00:00\", \"2012-06-01T00:00:00\", \"2012-06-04T00:00:00\", \"2012-06-07T00:00:00\", \"2012-06-15T00:00:00\", \"2012-06-22T00:00:00\", \"2012-06-29T00:00:00\", \"2012-07-09T00:00:00\", \"2012-07-12T00:00:00\", \"2012-07-13T00:00:00\", \"2012-07-20T00:00:00\", \"2012-07-27T00:00:00\", \"2012-08-06T00:00:00\", \"2012-08-17T00:00:00\", \"2012-08-24T00:00:00\", \"2012-08-31T00:00:00\", \"2012-09-03T00:00:00\", \"2012-09-11T00:00:00\", \"2012-09-14T00:00:00\", \"2012-09-21T00:00:00\", \"2012-09-28T00:00:00\", \"2012-10-02T00:00:00\", \"2012-10-08T00:00:00\", \"2012-10-19T00:00:00\", \"2012-10-26T00:00:00\", \"2012-11-05T00:00:00\", \"2012-11-16T00:00:00\", \"2012-11-23T00:00:00\", \"2012-11-30T00:00:00\", \"2012-12-10T00:00:00\", \"2012-12-14T00:00:00\", \"2012-12-21T00:00:00\", \"2012-12-28T00:00:00\", \"2013-01-02T00:00:00\", \"2013-01-03T00:00:00\", \"2013-01-18T00:00:00\", \"2013-01-25T00:00:00\", \"2013-02-15T00:00:00\", \"2013-02-22T00:00:00\", \"2013-03-05T00:00:00\", \"2013-03-15T00:00:00\", \"2013-03-22T00:00:00\", \"2013-03-29T00:00:00\", \"2013-04-01T00:00:00\", \"2013-04-19T00:00:00\", \"2013-04-26T00:00:00\", \"2013-05-04T00:00:00\", \"2013-05-07T00:00:00\", \"2013-05-17T00:00:00\", \"2013-05-24T00:00:00\", \"2013-05-31T00:00:00\", \"2013-06-14T00:00:00\", \"2013-06-21T00:00:00\", \"2013-06-28T00:00:00\", \"2013-07-06T00:00:00\", \"2013-07-19T00:00:00\", \"2013-07-26T00:00:00\", \"2013-08-02T00:00:00\", \"2013-08-03T00:00:00\", \"2013-10-05T00:00:00\", \"2013-11-01T00:00:00\", \"2013-12-04T00:00:00\", \"2013-12-07T00:00:00\"], \"y\": [210.44044330000003, 209.5938656, 209.98420499999997, 210.04510240000002, 210.07718849999998, 210.29666310000002, 210.376263, 209.98032080000002, 209.78709320000002, 209.9398091, 209.2691428, 209.2199574, 209.170772, 209.85296630000002, 210.1092746, 210.7202444, 209.118536, 209.39229369999998, 209.6660514, 210.26149249999997, 210.2108417, 210.0975233, 209.1215867, 209.86305319999997, 209.99586630000002, 210.1286794, 210.5144398, 210.3943056, 210.36175809999997, 210.3292106, 209.400638, 209.8708867, 210.2924504, 210.3664469, 210.2641156, 210.2372494, 210.58059440000002, 210.62714440000002, 210.67369440000002, 210.2135668, 210.65429, 210.51527650000003, 209.9970208, 210.14136069999998, 210.7667944, 210.1787224, 210.1805602, 210.182398, 213.57767009999998, 213.9324122, 210.2379731, 210.60310719999998, 210.9682412, 214.55168959999997, 217.42292059999997, 212.00635219999998, 212.2912786, 214.01628050000002, 213.1096787, 213.3436744, 211.3333753, 212.576205, 216.5634344, 214.026217, 214.19215719999997, 214.3580974, 214.29729390000003, 214.68997779999998, 214.46541200000001, 214.2408462, 214.5240376, 213.7481256, 213.8402689, 210.1842358, 215.7831333, 214.1083654, 214.17134159999998, 214.23431769999996, 213.81166580000004, 214.02455559999999, 214.4239935, 214.48784159999997, 214.6155376, 217.6645878, 214.79341110000001, 215.1233185, 215.4532259, 213.7917147, 216.08852579999999, 216.2468287, 216.40513149999998, 211.69850930000004, 212.8611313, 216.7217373, 216.9395861, 217.18125330000004, 214.36027009999998, 217.87813390000002, 218.05418509999998, 218.2302364, 220.4322099, 218.5823389, 218.6755292, 218.76871949999997, 219.5340975, 222.1321414, 219.11482969999997, 219.3244636, 218.8619099, 220.6319358, 219.8956335, 219.97055989999998, 220.04548619999997, 220.35450330000003, 220.1953389, 220.24839369999998, 220.3014485, 221.85333959999997, 220.42521490000001, 220.4287124, 218.4062876, 220.1204125, 220.567112, 220.4494148, 220.4886472, 220.5278796, 221.1181142, 222.3255489, 220.6063444, 220.6148749, 220.6234054, 220.43570730000002, 220.71996090000002, 220.8526787, 220.9853964, 219.74373140000003, 222.1506262, 221.2601207, 221.45786040000002, 221.6556, 218.95510019999998, 220.6404663, 222.0951719, 222.1136566, 220.4075581, 222.1817339, 222.2296722, 222.2776106, 222.0510793, 222.3838038, 222.5039579, 222.62411200000003, 222.90584269999997, 223.23797940000003, 222.9006165, 222.9032296, 222.95127940000003, 223.09462940000003, null, 223.5072315, 223.5895142, 223.67179680000004, 222.74426609999998, 223.836362, 223.836362, 223.75407940000002, null, null, null, null, null, null, null, null, null, null, 222.9084557, 223.38132940000003, null, 222.86442030000003, 223.836362, null]}, {\"line\": {\"color\": \"red\"}, \"name\": \"Max\", \"opacity\": 0.4, \"type\": \"scatter\", \"x\": [\"2010-01-10T00:00:00\", \"2010-02-04T00:00:00\", \"2010-02-07T00:00:00\", \"2010-02-19T00:00:00\", \"2010-02-26T00:00:00\", \"2010-03-09T00:00:00\", \"2010-03-12T00:00:00\", \"2010-03-19T00:00:00\", \"2010-03-26T00:00:00\", \"2010-04-06T00:00:00\", \"2010-04-16T00:00:00\", \"2010-04-23T00:00:00\", \"2010-04-30T00:00:00\", \"2010-05-02T00:00:00\", \"2010-05-03T00:00:00\", \"2010-05-11T00:00:00\", \"2010-05-14T00:00:00\", \"2010-05-21T00:00:00\", \"2010-05-28T00:00:00\", \"2010-06-08T00:00:00\", \"2010-06-18T00:00:00\", \"2010-06-25T00:00:00\", \"2010-07-05T00:00:00\", \"2010-07-16T00:00:00\", \"2010-07-23T00:00:00\", \"2010-07-30T00:00:00\", \"2010-08-10T00:00:00\", \"2010-08-13T00:00:00\", \"2010-08-20T00:00:00\", \"2010-08-27T00:00:00\", \"2010-09-04T00:00:00\", \"2010-09-07T00:00:00\", \"2010-09-17T00:00:00\", \"2010-09-24T00:00:00\", \"2010-10-09T00:00:00\", \"2010-10-12T00:00:00\", \"2010-10-15T00:00:00\", \"2010-10-22T00:00:00\", \"2010-10-29T00:00:00\", \"2010-11-06T00:00:00\", \"2010-11-19T00:00:00\", \"2010-11-26T00:00:00\", \"2010-12-02T00:00:00\", \"2010-12-03T00:00:00\", \"2010-12-11T00:00:00\", \"2010-12-17T00:00:00\", \"2010-12-24T00:00:00\", \"2010-12-31T00:00:00\", \"2011-01-04T00:00:00\", \"2011-01-07T00:00:00\", \"2011-01-14T00:00:00\", \"2011-01-21T00:00:00\", \"2011-01-28T00:00:00\", \"2011-02-09T00:00:00\", \"2011-02-12T00:00:00\", \"2011-02-18T00:00:00\", \"2011-02-25T00:00:00\", \"2011-03-06T00:00:00\", \"2011-03-18T00:00:00\", \"2011-03-25T00:00:00\", \"2011-04-02T00:00:00\", \"2011-04-03T00:00:00\", \"2011-04-11T00:00:00\", \"2011-04-15T00:00:00\", \"2011-04-22T00:00:00\", \"2011-04-29T00:00:00\", \"2011-05-08T00:00:00\", \"2011-05-13T00:00:00\", \"2011-05-20T00:00:00\", \"2011-05-27T00:00:00\", \"2011-06-05T00:00:00\", \"2011-06-17T00:00:00\", \"2011-06-24T00:00:00\", \"2011-07-01T00:00:00\", \"2011-07-10T00:00:00\", \"2011-07-15T00:00:00\", \"2011-07-22T00:00:00\", \"2011-07-29T00:00:00\", \"2011-08-04T00:00:00\", \"2011-08-07T00:00:00\", \"2011-08-19T00:00:00\", \"2011-08-26T00:00:00\", \"2011-09-09T00:00:00\", \"2011-09-12T00:00:00\", \"2011-09-16T00:00:00\", \"2011-09-23T00:00:00\", \"2011-09-30T00:00:00\", \"2011-10-06T00:00:00\", \"2011-10-14T00:00:00\", \"2011-10-21T00:00:00\", \"2011-10-28T00:00:00\", \"2011-11-02T00:00:00\", \"2011-11-03T00:00:00\", \"2011-11-11T00:00:00\", \"2011-11-18T00:00:00\", \"2011-11-25T00:00:00\", \"2011-12-08T00:00:00\", \"2011-12-16T00:00:00\", \"2011-12-23T00:00:00\", \"2011-12-30T00:00:00\", \"2012-01-06T00:00:00\", \"2012-01-13T00:00:00\", \"2012-01-20T00:00:00\", \"2012-01-27T00:00:00\", \"2012-02-03T00:00:00\", \"2012-02-11T00:00:00\", \"2012-02-17T00:00:00\", \"2012-02-24T00:00:00\", \"2012-03-02T00:00:00\", \"2012-03-08T00:00:00\", \"2012-03-16T00:00:00\", \"2012-03-23T00:00:00\", \"2012-03-30T00:00:00\", \"2012-04-05T00:00:00\", \"2012-04-13T00:00:00\", \"2012-04-20T00:00:00\", \"2012-04-27T00:00:00\", \"2012-05-10T00:00:00\", \"2012-05-18T00:00:00\", \"2012-05-25T00:00:00\", \"2012-06-01T00:00:00\", \"2012-06-04T00:00:00\", \"2012-06-07T00:00:00\", \"2012-06-15T00:00:00\", \"2012-06-22T00:00:00\", \"2012-06-29T00:00:00\", \"2012-07-09T00:00:00\", \"2012-07-12T00:00:00\", \"2012-07-13T00:00:00\", \"2012-07-20T00:00:00\", \"2012-07-27T00:00:00\", \"2012-08-06T00:00:00\", \"2012-08-17T00:00:00\", \"2012-08-24T00:00:00\", \"2012-08-31T00:00:00\", \"2012-09-03T00:00:00\", \"2012-09-11T00:00:00\", \"2012-09-14T00:00:00\", \"2012-09-21T00:00:00\", \"2012-09-28T00:00:00\", \"2012-10-02T00:00:00\", \"2012-10-08T00:00:00\", \"2012-10-19T00:00:00\", \"2012-10-26T00:00:00\", \"2012-11-05T00:00:00\", \"2012-11-16T00:00:00\", \"2012-11-23T00:00:00\", \"2012-11-30T00:00:00\", \"2012-12-10T00:00:00\", \"2012-12-14T00:00:00\", \"2012-12-21T00:00:00\", \"2012-12-28T00:00:00\", \"2013-01-02T00:00:00\", \"2013-01-03T00:00:00\", \"2013-01-18T00:00:00\", \"2013-01-25T00:00:00\", \"2013-02-15T00:00:00\", \"2013-02-22T00:00:00\", \"2013-03-05T00:00:00\", \"2013-03-15T00:00:00\", \"2013-03-22T00:00:00\", \"2013-03-29T00:00:00\", \"2013-04-01T00:00:00\", \"2013-04-19T00:00:00\", \"2013-04-26T00:00:00\", \"2013-05-04T00:00:00\", \"2013-05-07T00:00:00\", \"2013-05-17T00:00:00\", \"2013-05-24T00:00:00\", \"2013-05-31T00:00:00\", \"2013-06-14T00:00:00\", \"2013-06-21T00:00:00\", \"2013-06-28T00:00:00\", \"2013-07-06T00:00:00\", \"2013-07-19T00:00:00\", \"2013-07-26T00:00:00\", \"2013-08-02T00:00:00\", \"2013-08-03T00:00:00\", \"2013-10-05T00:00:00\", \"2013-11-01T00:00:00\", \"2013-12-04T00:00:00\", \"2013-12-07T00:00:00\"], \"y\": [215.2141341, 214.3465181, 214.7765028, 214.8506185, 214.87804530000003, 215.0779426, 215.1445203, 214.75972740000003, 214.5531227, 214.7257848, 214.00018169999998, 213.94961380000004, 213.89904590000003, 214.6554591, 214.9054721, 215.5065452, 213.8469819, 214.1399162, 214.4328505, 215.06484300000002, 215.0166484, 214.8965756, 213.84847799999997, 214.64744530000002, 214.7865779, 214.9257105, 215.290437, 215.2039756, 215.16196459999998, 215.11995359999997, 214.13991349999998, 214.6564301, 215.0615285, 215.13783130000002, 215.0359315, 214.9981378, 215.3589917, 215.4081762, 215.45736069999998, 215.0187191, 215.43728540000004, 215.2909028, 214.8056534, 214.93289900000002, 215.55572969999997, 214.93349369999999, 214.9301534, 214.9268131, 218.445164, 218.7796415, 214.97495869999997, 215.35540130000004, 215.7358438, 219.38238199999998, 222.3975443, 216.81548560000002, 217.1095679, 218.87847680000002, 217.95633709999998, 218.2007506, 216.1162864, 217.4036503, 221.48209210000002, 218.91349350000002, 219.0861659, 219.25883819999999, 219.1349201, 219.60418289999998, 219.3622809, 219.12037880000003, 219.43151060000002, 218.5877333, 218.6836874, 214.92347290000004, 220.6643585, 218.96072420000002, 219.0187895, 219.0768548, 218.68957749999998, 218.8755955, 219.25561090000002, 219.3189965, 219.4457675, 222.65612030000003, 219.6297841, 219.9746423, 220.3195004, 218.6365747, 220.9836849, 221.14982059999997, 221.3159563, 216.49672900000002, 217.6977326, 221.6482278, 221.88039229999998, 222.13896830000002, 219.19298540000003, 222.88254840000002, 223.0661125, 223.2496766, 225.4946078, 223.6168049, 223.71142880000002, 223.80605269999998, 224.58941040000002, 227.25132569999997, 224.15886630000003, 224.37413840000002, 223.9006766, 225.70704369999999, 224.95949019999998, 225.03367859999997, 225.107867, 225.4227585, 225.25624390000002, 225.3117488, 225.3672537, 226.96623250000002, 225.4942498, 225.4944288, 223.43324080000002, 225.18205550000002, 225.6346256, 225.50706340000002, 225.5495841, 225.5921049, 226.21035409999996, 227.4564463, 225.6771463, 225.68711209999998, 225.6970779, 225.4947868, 225.79953230000004, 225.93647290000004, 226.0734135, 224.8046825, 227.2698446, 226.3567545, 226.55991380000003, 226.76307319999998, 223.9953006, 225.7170094, 227.21428799999998, 227.2328068, 225.4782634, 227.3024293, 227.3537683, 227.40510730000003, 227.16939190000002, 227.5178253, 227.63944410000002, 227.7610629, 228.0256994, 228.35180490000002, 228.0355358, 228.0306176, 228.05908540000001, 228.2054451, null, 228.6276239, 228.71483199999997, 228.8020401, 227.88268169999998, 228.9764563, 228.9764563, 228.8892482, null, null, null, null, null, null, null, null, null, null, 228.0207813, 228.49816459999997, null, 228.0043006, 228.9764563, null]}],                        {\"template\": {\"data\": {\"bar\": [{\"error_x\": {\"color\": \"#2a3f5f\"}, \"error_y\": {\"color\": \"#2a3f5f\"}, \"marker\": {\"line\": {\"color\": \"#E5ECF6\", \"width\": 0.5}}, \"type\": \"bar\"}], \"barpolar\": [{\"marker\": {\"line\": {\"color\": \"#E5ECF6\", \"width\": 0.5}}, \"type\": \"barpolar\"}], \"carpet\": [{\"aaxis\": {\"endlinecolor\": \"#2a3f5f\", \"gridcolor\": \"white\", \"linecolor\": \"white\", \"minorgridcolor\": \"white\", \"startlinecolor\": \"#2a3f5f\"}, \"baxis\": {\"endlinecolor\": \"#2a3f5f\", \"gridcolor\": \"white\", \"linecolor\": \"white\", \"minorgridcolor\": \"white\", \"startlinecolor\": \"#2a3f5f\"}, \"type\": \"carpet\"}], \"choropleth\": [{\"colorbar\": {\"outlinewidth\": 0, \"ticks\": \"\"}, \"type\": \"choropleth\"}], \"contour\": [{\"colorbar\": {\"outlinewidth\": 0, \"ticks\": \"\"}, \"colorscale\": [[0.0, \"#0d0887\"], [0.1111111111111111, \"#46039f\"], [0.2222222222222222, \"#7201a8\"], [0.3333333333333333, \"#9c179e\"], [0.4444444444444444, \"#bd3786\"], [0.5555555555555556, \"#d8576b\"], [0.6666666666666666, \"#ed7953\"], [0.7777777777777778, \"#fb9f3a\"], [0.8888888888888888, \"#fdca26\"], [1.0, \"#f0f921\"]], \"type\": \"contour\"}], \"contourcarpet\": [{\"colorbar\": {\"outlinewidth\": 0, \"ticks\": \"\"}, \"type\": \"contourcarpet\"}], \"heatmap\": [{\"colorbar\": {\"outlinewidth\": 0, \"ticks\": \"\"}, \"colorscale\": [[0.0, \"#0d0887\"], [0.1111111111111111, \"#46039f\"], [0.2222222222222222, \"#7201a8\"], [0.3333333333333333, \"#9c179e\"], [0.4444444444444444, \"#bd3786\"], [0.5555555555555556, \"#d8576b\"], [0.6666666666666666, \"#ed7953\"], [0.7777777777777778, \"#fb9f3a\"], [0.8888888888888888, \"#fdca26\"], [1.0, \"#f0f921\"]], \"type\": \"heatmap\"}], \"heatmapgl\": [{\"colorbar\": {\"outlinewidth\": 0, \"ticks\": \"\"}, \"colorscale\": [[0.0, \"#0d0887\"], [0.1111111111111111, \"#46039f\"], [0.2222222222222222, \"#7201a8\"], [0.3333333333333333, \"#9c179e\"], [0.4444444444444444, \"#bd3786\"], [0.5555555555555556, \"#d8576b\"], [0.6666666666666666, \"#ed7953\"], [0.7777777777777778, \"#fb9f3a\"], [0.8888888888888888, \"#fdca26\"], [1.0, \"#f0f921\"]], \"type\": \"heatmapgl\"}], \"histogram\": [{\"marker\": {\"colorbar\": {\"outlinewidth\": 0, \"ticks\": \"\"}}, \"type\": \"histogram\"}], \"histogram2d\": [{\"colorbar\": {\"outlinewidth\": 0, \"ticks\": \"\"}, \"colorscale\": [[0.0, \"#0d0887\"], [0.1111111111111111, \"#46039f\"], [0.2222222222222222, \"#7201a8\"], [0.3333333333333333, \"#9c179e\"], [0.4444444444444444, \"#bd3786\"], [0.5555555555555556, \"#d8576b\"], [0.6666666666666666, \"#ed7953\"], [0.7777777777777778, \"#fb9f3a\"], [0.8888888888888888, \"#fdca26\"], [1.0, \"#f0f921\"]], \"type\": \"histogram2d\"}], \"histogram2dcontour\": [{\"colorbar\": {\"outlinewidth\": 0, \"ticks\": \"\"}, \"colorscale\": [[0.0, \"#0d0887\"], [0.1111111111111111, \"#46039f\"], [0.2222222222222222, \"#7201a8\"], [0.3333333333333333, \"#9c179e\"], [0.4444444444444444, \"#bd3786\"], [0.5555555555555556, \"#d8576b\"], [0.6666666666666666, \"#ed7953\"], [0.7777777777777778, \"#fb9f3a\"], [0.8888888888888888, \"#fdca26\"], [1.0, \"#f0f921\"]], \"type\": \"histogram2dcontour\"}], \"mesh3d\": [{\"colorbar\": {\"outlinewidth\": 0, \"ticks\": \"\"}, \"type\": \"mesh3d\"}], \"parcoords\": [{\"line\": {\"colorbar\": {\"outlinewidth\": 0, \"ticks\": \"\"}}, \"type\": \"parcoords\"}], \"pie\": [{\"automargin\": true, \"type\": \"pie\"}], \"scatter\": [{\"marker\": {\"colorbar\": {\"outlinewidth\": 0, \"ticks\": \"\"}}, \"type\": \"scatter\"}], \"scatter3d\": [{\"line\": {\"colorbar\": {\"outlinewidth\": 0, \"ticks\": \"\"}}, \"marker\": {\"colorbar\": {\"outlinewidth\": 0, \"ticks\": \"\"}}, \"type\": \"scatter3d\"}], \"scattercarpet\": [{\"marker\": {\"colorbar\": {\"outlinewidth\": 0, \"ticks\": \"\"}}, \"type\": \"scattercarpet\"}], \"scattergeo\": [{\"marker\": {\"colorbar\": {\"outlinewidth\": 0, \"ticks\": \"\"}}, \"type\": \"scattergeo\"}], \"scattergl\": [{\"marker\": {\"colorbar\": {\"outlinewidth\": 0, \"ticks\": \"\"}}, \"type\": \"scattergl\"}], \"scattermapbox\": [{\"marker\": {\"colorbar\": {\"outlinewidth\": 0, \"ticks\": \"\"}}, \"type\": \"scattermapbox\"}], \"scatterpolar\": [{\"marker\": {\"colorbar\": {\"outlinewidth\": 0, \"ticks\": \"\"}}, \"type\": \"scatterpolar\"}], \"scatterpolargl\": [{\"marker\": {\"colorbar\": {\"outlinewidth\": 0, \"ticks\": \"\"}}, \"type\": \"scatterpolargl\"}], \"scatterternary\": [{\"marker\": {\"colorbar\": {\"outlinewidth\": 0, \"ticks\": \"\"}}, \"type\": \"scatterternary\"}], \"surface\": [{\"colorbar\": {\"outlinewidth\": 0, \"ticks\": \"\"}, \"colorscale\": [[0.0, \"#0d0887\"], [0.1111111111111111, \"#46039f\"], [0.2222222222222222, \"#7201a8\"], [0.3333333333333333, \"#9c179e\"], [0.4444444444444444, \"#bd3786\"], [0.5555555555555556, \"#d8576b\"], [0.6666666666666666, \"#ed7953\"], [0.7777777777777778, \"#fb9f3a\"], [0.8888888888888888, \"#fdca26\"], [1.0, \"#f0f921\"]], \"type\": \"surface\"}], \"table\": [{\"cells\": {\"fill\": {\"color\": \"#EBF0F8\"}, \"line\": {\"color\": \"white\"}}, \"header\": {\"fill\": {\"color\": \"#C8D4E3\"}, \"line\": {\"color\": \"white\"}}, \"type\": \"table\"}]}, \"layout\": {\"annotationdefaults\": {\"arrowcolor\": \"#2a3f5f\", \"arrowhead\": 0, \"arrowwidth\": 1}, \"autotypenumbers\": \"strict\", \"coloraxis\": {\"colorbar\": {\"outlinewidth\": 0, \"ticks\": \"\"}}, \"colorscale\": {\"diverging\": [[0, \"#8e0152\"], [0.1, \"#c51b7d\"], [0.2, \"#de77ae\"], [0.3, \"#f1b6da\"], [0.4, \"#fde0ef\"], [0.5, \"#f7f7f7\"], [0.6, \"#e6f5d0\"], [0.7, \"#b8e186\"], [0.8, \"#7fbc41\"], [0.9, \"#4d9221\"], [1, \"#276419\"]], \"sequential\": [[0.0, \"#0d0887\"], [0.1111111111111111, \"#46039f\"], [0.2222222222222222, \"#7201a8\"], [0.3333333333333333, \"#9c179e\"], [0.4444444444444444, \"#bd3786\"], [0.5555555555555556, \"#d8576b\"], [0.6666666666666666, \"#ed7953\"], [0.7777777777777778, \"#fb9f3a\"], [0.8888888888888888, \"#fdca26\"], [1.0, \"#f0f921\"]], \"sequentialminus\": [[0.0, \"#0d0887\"], [0.1111111111111111, \"#46039f\"], [0.2222222222222222, \"#7201a8\"], [0.3333333333333333, \"#9c179e\"], [0.4444444444444444, \"#bd3786\"], [0.5555555555555556, \"#d8576b\"], [0.6666666666666666, \"#ed7953\"], [0.7777777777777778, \"#fb9f3a\"], [0.8888888888888888, \"#fdca26\"], [1.0, \"#f0f921\"]]}, \"colorway\": [\"#636efa\", \"#EF553B\", \"#00cc96\", \"#ab63fa\", \"#FFA15A\", \"#19d3f3\", \"#FF6692\", \"#B6E880\", \"#FF97FF\", \"#FECB52\"], \"font\": {\"color\": \"#2a3f5f\"}, \"geo\": {\"bgcolor\": \"white\", \"lakecolor\": \"white\", \"landcolor\": \"#E5ECF6\", \"showlakes\": true, \"showland\": true, \"subunitcolor\": \"white\"}, \"hoverlabel\": {\"align\": \"left\"}, \"hovermode\": \"closest\", \"mapbox\": {\"style\": \"light\"}, \"paper_bgcolor\": \"white\", \"plot_bgcolor\": \"#E5ECF6\", \"polar\": {\"angularaxis\": {\"gridcolor\": \"white\", \"linecolor\": \"white\", \"ticks\": \"\"}, \"bgcolor\": \"#E5ECF6\", \"radialaxis\": {\"gridcolor\": \"white\", \"linecolor\": \"white\", \"ticks\": \"\"}}, \"scene\": {\"xaxis\": {\"backgroundcolor\": \"#E5ECF6\", \"gridcolor\": \"white\", \"gridwidth\": 2, \"linecolor\": \"white\", \"showbackground\": true, \"ticks\": \"\", \"zerolinecolor\": \"white\"}, \"yaxis\": {\"backgroundcolor\": \"#E5ECF6\", \"gridcolor\": \"white\", \"gridwidth\": 2, \"linecolor\": \"white\", \"showbackground\": true, \"ticks\": \"\", \"zerolinecolor\": \"white\"}, \"zaxis\": {\"backgroundcolor\": \"#E5ECF6\", \"gridcolor\": \"white\", \"gridwidth\": 2, \"linecolor\": \"white\", \"showbackground\": true, \"ticks\": \"\", \"zerolinecolor\": \"white\"}}, \"shapedefaults\": {\"line\": {\"color\": \"#2a3f5f\"}}, \"ternary\": {\"aaxis\": {\"gridcolor\": \"white\", \"linecolor\": \"white\", \"ticks\": \"\"}, \"baxis\": {\"gridcolor\": \"white\", \"linecolor\": \"white\", \"ticks\": \"\"}, \"bgcolor\": \"#E5ECF6\", \"caxis\": {\"gridcolor\": \"white\", \"linecolor\": \"white\", \"ticks\": \"\"}}, \"title\": {\"x\": 0.05}, \"xaxis\": {\"automargin\": true, \"gridcolor\": \"white\", \"linecolor\": \"white\", \"ticks\": \"\", \"title\": {\"standoff\": 15}, \"zerolinecolor\": \"white\", \"zerolinewidth\": 2}, \"yaxis\": {\"automargin\": true, \"gridcolor\": \"white\", \"linecolor\": \"white\", \"ticks\": \"\", \"title\": {\"standoff\": 15}, \"zerolinecolor\": \"white\", \"zerolinewidth\": 2}}}, \"title\": {\"text\": \"Min, Mean, and Max of CPI\"}},                        {\"responsive\": true}                    ).then(function(){\n",
       "                            \n",
       "var gd = document.getElementById('5990842b-45c5-458d-88b7-d3c98744b38e');\n",
       "var x = new MutationObserver(function (mutations, observer) {{\n",
       "        var display = window.getComputedStyle(gd).display;\n",
       "        if (!display || display === 'none') {{\n",
       "            console.log([gd, 'removed!']);\n",
       "            Plotly.purge(gd);\n",
       "            observer.disconnect();\n",
       "        }}\n",
       "}});\n",
       "\n",
       "// Listen for the removal of the full notebook cells\n",
       "var notebookContainer = gd.closest('#notebook-container');\n",
       "if (notebookContainer) {{\n",
       "    x.observe(notebookContainer, {childList: true});\n",
       "}}\n",
       "\n",
       "// Listen for the clearing of the current output cell\n",
       "var outputEl = gd.closest('.output');\n",
       "if (outputEl) {{\n",
       "    x.observe(outputEl, {childList: true});\n",
       "}}\n",
       "\n",
       "                        })                };                });            </script>        </div>"
      ]
     },
     "metadata": {},
     "output_type": "display_data"
    }
   ],
   "source": [
    "plot_min_max_avg (features_agg2, 'CPI')"
   ]
  },
  {
   "cell_type": "code",
   "execution_count": 19,
   "metadata": {},
   "outputs": [
    {
     "data": {
      "application/vnd.plotly.v1+json": {
       "config": {
        "linkText": "Export to plot.ly",
        "plotlyServerURL": "https://plot.ly",
        "showLink": false
       },
       "data": [
        {
         "line": {
          "color": "green"
         },
         "name": "Min",
         "opacity": 0.4,
         "type": "scatter",
         "x": [
          "2010-01-10T00:00:00",
          "2010-02-04T00:00:00",
          "2010-02-07T00:00:00",
          "2010-02-19T00:00:00",
          "2010-02-26T00:00:00",
          "2010-03-09T00:00:00",
          "2010-03-12T00:00:00",
          "2010-03-19T00:00:00",
          "2010-03-26T00:00:00",
          "2010-04-06T00:00:00",
          "2010-04-16T00:00:00",
          "2010-04-23T00:00:00",
          "2010-04-30T00:00:00",
          "2010-05-02T00:00:00",
          "2010-05-03T00:00:00",
          "2010-05-11T00:00:00",
          "2010-05-14T00:00:00",
          "2010-05-21T00:00:00",
          "2010-05-28T00:00:00",
          "2010-06-08T00:00:00",
          "2010-06-18T00:00:00",
          "2010-06-25T00:00:00",
          "2010-07-05T00:00:00",
          "2010-07-16T00:00:00",
          "2010-07-23T00:00:00",
          "2010-07-30T00:00:00",
          "2010-08-10T00:00:00",
          "2010-08-13T00:00:00",
          "2010-08-20T00:00:00",
          "2010-08-27T00:00:00",
          "2010-09-04T00:00:00",
          "2010-09-07T00:00:00",
          "2010-09-17T00:00:00",
          "2010-09-24T00:00:00",
          "2010-10-09T00:00:00",
          "2010-10-12T00:00:00",
          "2010-10-15T00:00:00",
          "2010-10-22T00:00:00",
          "2010-10-29T00:00:00",
          "2010-11-06T00:00:00",
          "2010-11-19T00:00:00",
          "2010-11-26T00:00:00",
          "2010-12-02T00:00:00",
          "2010-12-03T00:00:00",
          "2010-12-11T00:00:00",
          "2010-12-17T00:00:00",
          "2010-12-24T00:00:00",
          "2010-12-31T00:00:00",
          "2011-01-04T00:00:00",
          "2011-01-07T00:00:00",
          "2011-01-14T00:00:00",
          "2011-01-21T00:00:00",
          "2011-01-28T00:00:00",
          "2011-02-09T00:00:00",
          "2011-02-12T00:00:00",
          "2011-02-18T00:00:00",
          "2011-02-25T00:00:00",
          "2011-03-06T00:00:00",
          "2011-03-18T00:00:00",
          "2011-03-25T00:00:00",
          "2011-04-02T00:00:00",
          "2011-04-03T00:00:00",
          "2011-04-11T00:00:00",
          "2011-04-15T00:00:00",
          "2011-04-22T00:00:00",
          "2011-04-29T00:00:00",
          "2011-05-08T00:00:00",
          "2011-05-13T00:00:00",
          "2011-05-20T00:00:00",
          "2011-05-27T00:00:00",
          "2011-06-05T00:00:00",
          "2011-06-17T00:00:00",
          "2011-06-24T00:00:00",
          "2011-07-01T00:00:00",
          "2011-07-10T00:00:00",
          "2011-07-15T00:00:00",
          "2011-07-22T00:00:00",
          "2011-07-29T00:00:00",
          "2011-08-04T00:00:00",
          "2011-08-07T00:00:00",
          "2011-08-19T00:00:00",
          "2011-08-26T00:00:00",
          "2011-09-09T00:00:00",
          "2011-09-12T00:00:00",
          "2011-09-16T00:00:00",
          "2011-09-23T00:00:00",
          "2011-09-30T00:00:00",
          "2011-10-06T00:00:00",
          "2011-10-14T00:00:00",
          "2011-10-21T00:00:00",
          "2011-10-28T00:00:00",
          "2011-11-02T00:00:00",
          "2011-11-03T00:00:00",
          "2011-11-11T00:00:00",
          "2011-11-18T00:00:00",
          "2011-11-25T00:00:00",
          "2011-12-08T00:00:00",
          "2011-12-16T00:00:00",
          "2011-12-23T00:00:00",
          "2011-12-30T00:00:00",
          "2012-01-06T00:00:00",
          "2012-01-13T00:00:00",
          "2012-01-20T00:00:00",
          "2012-01-27T00:00:00",
          "2012-02-03T00:00:00",
          "2012-02-11T00:00:00",
          "2012-02-17T00:00:00",
          "2012-02-24T00:00:00",
          "2012-03-02T00:00:00",
          "2012-03-08T00:00:00",
          "2012-03-16T00:00:00",
          "2012-03-23T00:00:00",
          "2012-03-30T00:00:00",
          "2012-04-05T00:00:00",
          "2012-04-13T00:00:00",
          "2012-04-20T00:00:00",
          "2012-04-27T00:00:00",
          "2012-05-10T00:00:00",
          "2012-05-18T00:00:00",
          "2012-05-25T00:00:00",
          "2012-06-01T00:00:00",
          "2012-06-04T00:00:00",
          "2012-06-07T00:00:00",
          "2012-06-15T00:00:00",
          "2012-06-22T00:00:00",
          "2012-06-29T00:00:00",
          "2012-07-09T00:00:00",
          "2012-07-12T00:00:00",
          "2012-07-13T00:00:00",
          "2012-07-20T00:00:00",
          "2012-07-27T00:00:00",
          "2012-08-06T00:00:00",
          "2012-08-17T00:00:00",
          "2012-08-24T00:00:00",
          "2012-08-31T00:00:00",
          "2012-09-03T00:00:00",
          "2012-09-11T00:00:00",
          "2012-09-14T00:00:00",
          "2012-09-21T00:00:00",
          "2012-09-28T00:00:00",
          "2012-10-02T00:00:00",
          "2012-10-08T00:00:00",
          "2012-10-19T00:00:00",
          "2012-10-26T00:00:00",
          "2012-11-05T00:00:00",
          "2012-11-16T00:00:00",
          "2012-11-23T00:00:00",
          "2012-11-30T00:00:00",
          "2012-12-10T00:00:00",
          "2012-12-14T00:00:00",
          "2012-12-21T00:00:00",
          "2012-12-28T00:00:00",
          "2013-01-02T00:00:00",
          "2013-01-03T00:00:00",
          "2013-01-18T00:00:00",
          "2013-01-25T00:00:00",
          "2013-02-15T00:00:00",
          "2013-02-22T00:00:00",
          "2013-03-05T00:00:00",
          "2013-03-15T00:00:00",
          "2013-03-22T00:00:00",
          "2013-03-29T00:00:00",
          "2013-04-01T00:00:00",
          "2013-04-19T00:00:00",
          "2013-04-26T00:00:00",
          "2013-05-04T00:00:00",
          "2013-05-07T00:00:00",
          "2013-05-17T00:00:00",
          "2013-05-24T00:00:00",
          "2013-05-31T00:00:00",
          "2013-06-14T00:00:00",
          "2013-06-21T00:00:00",
          "2013-06-28T00:00:00",
          "2013-07-06T00:00:00",
          "2013-07-19T00:00:00",
          "2013-07-26T00:00:00",
          "2013-08-02T00:00:00",
          "2013-08-03T00:00:00",
          "2013-10-05T00:00:00",
          "2013-11-01T00:00:00",
          "2013-12-04T00:00:00",
          "2013-12-07T00:00:00"
         ],
         "y": [
          5.287000000000001,
          5.435,
          5.3260000000000005,
          5.892,
          5.892,
          5.3260000000000005,
          5.287000000000001,
          5.892,
          5.892,
          5.435,
          5.435,
          5.435,
          5.435,
          5.892,
          5.892,
          5.287000000000001,
          5.435,
          5.435,
          5.435,
          5.3260000000000005,
          5.435,
          5.435,
          5.435,
          5.3260000000000005,
          5.3260000000000005,
          5.3260000000000005,
          5.287000000000001,
          5.3260000000000005,
          5.3260000000000005,
          5.3260000000000005,
          5.435,
          5.3260000000000005,
          5.3260000000000005,
          5.3260000000000005,
          5.3260000000000005,
          5.287000000000001,
          5.287000000000001,
          5.287000000000001,
          5.287000000000001,
          5.435,
          5.287000000000001,
          5.287000000000001,
          5.892,
          5.892,
          5.287000000000001,
          5.287000000000001,
          5.287000000000001,
          5.287000000000001,
          4.781000000000001,
          4.584,
          5.114,
          5.114,
          5.114,
          4.584,
          4.42,
          5.114,
          5.114,
          4.781000000000001,
          5.114,
          5.114,
          5.114,
          5.114,
          4.42,
          4.781000000000001,
          4.781000000000001,
          4.781000000000001,
          4.584,
          4.781000000000001,
          4.781000000000001,
          4.781000000000001,
          4.781000000000001,
          4.781000000000001,
          4.781000000000001,
          5.114,
          4.42,
          4.584,
          4.584,
          4.584,
          4.781000000000001,
          4.584,
          4.584,
          4.584,
          4.584,
          4.42,
          4.584,
          4.584,
          4.584,
          4.781000000000001,
          4.42,
          4.42,
          4.42,
          5.114,
          5.114,
          4.42,
          4.42,
          4.42,
          4.584,
          4.42,
          4.42,
          4.42,
          4.125,
          4.261,
          4.261,
          4.261,
          4.261,
          3.8789999999999996,
          4.261,
          4.261,
          4.261,
          4.077,
          4.261,
          4.261,
          4.261,
          4.125,
          4.125,
          4.125,
          4.125,
          3.8789999999999996,
          4.125,
          4.125,
          4.261,
          4.125,
          4.077,
          4.125,
          4.125,
          4.125,
          4.077,
          3.8789999999999996,
          4.077,
          4.077,
          4.077,
          4.125,
          4.077,
          4.077,
          4.077,
          4.261,
          3.8789999999999996,
          4.077,
          4.077,
          4.077,
          4.261,
          4.077,
          3.8789999999999996,
          3.8789999999999996,
          4.125,
          3.8789999999999996,
          3.8789999999999996,
          3.8789999999999996,
          3.8789999999999996,
          3.8789999999999996,
          3.8789999999999996,
          3.8789999999999996,
          3.9210000000000003,
          3.9210000000000003,
          3.9210000000000003,
          3.9210000000000003,
          3.9210000000000003,
          3.9210000000000003,
          null,
          3.9210000000000003,
          3.9210000000000003,
          3.9210000000000003,
          3.9210000000000003,
          3.6839999999999997,
          3.6839999999999997,
          3.6839999999999997,
          null,
          null,
          null,
          null,
          null,
          null,
          null,
          null,
          null,
          null,
          3.9210000000000003,
          3.9210000000000003,
          null,
          3.9210000000000003,
          3.6839999999999997,
          null
         ]
        },
        {
         "line": {
          "color": "blue"
         },
         "name": "q25",
         "opacity": 0.4,
         "type": "scatter",
         "x": [
          "2010-01-10T00:00:00",
          "2010-02-04T00:00:00",
          "2010-02-07T00:00:00",
          "2010-02-19T00:00:00",
          "2010-02-26T00:00:00",
          "2010-03-09T00:00:00",
          "2010-03-12T00:00:00",
          "2010-03-19T00:00:00",
          "2010-03-26T00:00:00",
          "2010-04-06T00:00:00",
          "2010-04-16T00:00:00",
          "2010-04-23T00:00:00",
          "2010-04-30T00:00:00",
          "2010-05-02T00:00:00",
          "2010-05-03T00:00:00",
          "2010-05-11T00:00:00",
          "2010-05-14T00:00:00",
          "2010-05-21T00:00:00",
          "2010-05-28T00:00:00",
          "2010-06-08T00:00:00",
          "2010-06-18T00:00:00",
          "2010-06-25T00:00:00",
          "2010-07-05T00:00:00",
          "2010-07-16T00:00:00",
          "2010-07-23T00:00:00",
          "2010-07-30T00:00:00",
          "2010-08-10T00:00:00",
          "2010-08-13T00:00:00",
          "2010-08-20T00:00:00",
          "2010-08-27T00:00:00",
          "2010-09-04T00:00:00",
          "2010-09-07T00:00:00",
          "2010-09-17T00:00:00",
          "2010-09-24T00:00:00",
          "2010-10-09T00:00:00",
          "2010-10-12T00:00:00",
          "2010-10-15T00:00:00",
          "2010-10-22T00:00:00",
          "2010-10-29T00:00:00",
          "2010-11-06T00:00:00",
          "2010-11-19T00:00:00",
          "2010-11-26T00:00:00",
          "2010-12-02T00:00:00",
          "2010-12-03T00:00:00",
          "2010-12-11T00:00:00",
          "2010-12-17T00:00:00",
          "2010-12-24T00:00:00",
          "2010-12-31T00:00:00",
          "2011-01-04T00:00:00",
          "2011-01-07T00:00:00",
          "2011-01-14T00:00:00",
          "2011-01-21T00:00:00",
          "2011-01-28T00:00:00",
          "2011-02-09T00:00:00",
          "2011-02-12T00:00:00",
          "2011-02-18T00:00:00",
          "2011-02-25T00:00:00",
          "2011-03-06T00:00:00",
          "2011-03-18T00:00:00",
          "2011-03-25T00:00:00",
          "2011-04-02T00:00:00",
          "2011-04-03T00:00:00",
          "2011-04-11T00:00:00",
          "2011-04-15T00:00:00",
          "2011-04-22T00:00:00",
          "2011-04-29T00:00:00",
          "2011-05-08T00:00:00",
          "2011-05-13T00:00:00",
          "2011-05-20T00:00:00",
          "2011-05-27T00:00:00",
          "2011-06-05T00:00:00",
          "2011-06-17T00:00:00",
          "2011-06-24T00:00:00",
          "2011-07-01T00:00:00",
          "2011-07-10T00:00:00",
          "2011-07-15T00:00:00",
          "2011-07-22T00:00:00",
          "2011-07-29T00:00:00",
          "2011-08-04T00:00:00",
          "2011-08-07T00:00:00",
          "2011-08-19T00:00:00",
          "2011-08-26T00:00:00",
          "2011-09-09T00:00:00",
          "2011-09-12T00:00:00",
          "2011-09-16T00:00:00",
          "2011-09-23T00:00:00",
          "2011-09-30T00:00:00",
          "2011-10-06T00:00:00",
          "2011-10-14T00:00:00",
          "2011-10-21T00:00:00",
          "2011-10-28T00:00:00",
          "2011-11-02T00:00:00",
          "2011-11-03T00:00:00",
          "2011-11-11T00:00:00",
          "2011-11-18T00:00:00",
          "2011-11-25T00:00:00",
          "2011-12-08T00:00:00",
          "2011-12-16T00:00:00",
          "2011-12-23T00:00:00",
          "2011-12-30T00:00:00",
          "2012-01-06T00:00:00",
          "2012-01-13T00:00:00",
          "2012-01-20T00:00:00",
          "2012-01-27T00:00:00",
          "2012-02-03T00:00:00",
          "2012-02-11T00:00:00",
          "2012-02-17T00:00:00",
          "2012-02-24T00:00:00",
          "2012-03-02T00:00:00",
          "2012-03-08T00:00:00",
          "2012-03-16T00:00:00",
          "2012-03-23T00:00:00",
          "2012-03-30T00:00:00",
          "2012-04-05T00:00:00",
          "2012-04-13T00:00:00",
          "2012-04-20T00:00:00",
          "2012-04-27T00:00:00",
          "2012-05-10T00:00:00",
          "2012-05-18T00:00:00",
          "2012-05-25T00:00:00",
          "2012-06-01T00:00:00",
          "2012-06-04T00:00:00",
          "2012-06-07T00:00:00",
          "2012-06-15T00:00:00",
          "2012-06-22T00:00:00",
          "2012-06-29T00:00:00",
          "2012-07-09T00:00:00",
          "2012-07-12T00:00:00",
          "2012-07-13T00:00:00",
          "2012-07-20T00:00:00",
          "2012-07-27T00:00:00",
          "2012-08-06T00:00:00",
          "2012-08-17T00:00:00",
          "2012-08-24T00:00:00",
          "2012-08-31T00:00:00",
          "2012-09-03T00:00:00",
          "2012-09-11T00:00:00",
          "2012-09-14T00:00:00",
          "2012-09-21T00:00:00",
          "2012-09-28T00:00:00",
          "2012-10-02T00:00:00",
          "2012-10-08T00:00:00",
          "2012-10-19T00:00:00",
          "2012-10-26T00:00:00",
          "2012-11-05T00:00:00",
          "2012-11-16T00:00:00",
          "2012-11-23T00:00:00",
          "2012-11-30T00:00:00",
          "2012-12-10T00:00:00",
          "2012-12-14T00:00:00",
          "2012-12-21T00:00:00",
          "2012-12-28T00:00:00",
          "2013-01-02T00:00:00",
          "2013-01-03T00:00:00",
          "2013-01-18T00:00:00",
          "2013-01-25T00:00:00",
          "2013-02-15T00:00:00",
          "2013-02-22T00:00:00",
          "2013-03-05T00:00:00",
          "2013-03-15T00:00:00",
          "2013-03-22T00:00:00",
          "2013-03-29T00:00:00",
          "2013-04-01T00:00:00",
          "2013-04-19T00:00:00",
          "2013-04-26T00:00:00",
          "2013-05-04T00:00:00",
          "2013-05-07T00:00:00",
          "2013-05-17T00:00:00",
          "2013-05-24T00:00:00",
          "2013-05-31T00:00:00",
          "2013-06-14T00:00:00",
          "2013-06-21T00:00:00",
          "2013-06-28T00:00:00",
          "2013-07-06T00:00:00",
          "2013-07-19T00:00:00",
          "2013-07-26T00:00:00",
          "2013-08-02T00:00:00",
          "2013-08-03T00:00:00",
          "2013-10-05T00:00:00",
          "2013-11-01T00:00:00",
          "2013-12-04T00:00:00",
          "2013-12-07T00:00:00"
         ],
         "y": [
          7.507999999999999,
          7.808,
          7.372000000000001,
          8.106,
          8.106,
          7.372000000000001,
          7.507999999999999,
          8.106,
          8.106,
          7.808,
          7.808,
          7.808,
          7.808,
          8.106,
          8.106,
          7.507999999999999,
          7.808,
          7.808,
          7.808,
          7.372000000000001,
          7.808,
          7.808,
          7.808,
          7.372000000000001,
          7.372000000000001,
          7.372000000000001,
          7.507999999999999,
          7.372000000000001,
          7.372000000000001,
          7.372000000000001,
          7.808,
          7.372000000000001,
          7.372000000000001,
          7.372000000000001,
          7.372000000000001,
          7.507999999999999,
          7.507999999999999,
          7.507999999999999,
          7.507999999999999,
          7.808,
          7.507999999999999,
          7.507999999999999,
          8.106,
          8.106,
          7.507999999999999,
          7.507999999999999,
          7.507999999999999,
          7.507999999999999,
          7.193,
          6.925,
          7.343,
          7.343,
          7.343,
          6.925,
          6.7589999999999995,
          7.343,
          7.343,
          7.193,
          7.343,
          7.343,
          7.343,
          7.343,
          6.7589999999999995,
          7.193,
          7.193,
          7.193,
          6.925,
          7.193,
          7.193,
          7.193,
          7.193,
          7.193,
          7.193,
          7.343,
          6.7589999999999995,
          6.925,
          6.925,
          6.925,
          7.193,
          6.925,
          6.925,
          6.925,
          6.925,
          6.7589999999999995,
          6.925,
          6.925,
          6.925,
          7.193,
          6.7589999999999995,
          6.7589999999999995,
          6.7589999999999995,
          7.343,
          7.343,
          6.7589999999999995,
          6.7589999999999995,
          6.7589999999999995,
          6.925,
          6.7589999999999995,
          6.7589999999999995,
          6.7589999999999995,
          6.547000000000001,
          6.5889999999999995,
          6.5889999999999995,
          6.5889999999999995,
          6.5889999999999995,
          6.034,
          6.5889999999999995,
          6.5889999999999995,
          6.5889999999999995,
          6.334,
          6.5889999999999995,
          6.5889999999999995,
          6.5889999999999995,
          6.547000000000001,
          6.547000000000001,
          6.547000000000001,
          6.547000000000001,
          6.034,
          6.547000000000001,
          6.547000000000001,
          6.5889999999999995,
          6.547000000000001,
          6.334,
          6.547000000000001,
          6.547000000000001,
          6.547000000000001,
          6.334,
          6.034,
          6.334,
          6.334,
          6.334,
          6.547000000000001,
          6.334,
          6.334,
          6.334,
          6.5889999999999995,
          6.034,
          6.334,
          6.334,
          6.334,
          6.5889999999999995,
          6.334,
          6.034,
          6.034,
          6.547000000000001,
          6.034,
          6.034,
          6.034,
          6.034,
          6.034,
          6.034,
          6.034,
          5.771,
          5.771,
          5.771,
          5.771,
          5.771,
          5.771,
          null,
          5.771,
          5.771,
          5.771,
          5.771,
          5.638999999999999,
          5.638999999999999,
          5.638999999999999,
          null,
          null,
          null,
          null,
          null,
          null,
          null,
          null,
          null,
          null,
          5.771,
          5.771,
          null,
          5.771,
          5.638999999999999,
          null
         ]
        },
        {
         "line": {
          "color": "blue"
         },
         "name": "q50",
         "opacity": 0.4,
         "type": "scatter",
         "x": [
          "2010-01-10T00:00:00",
          "2010-02-04T00:00:00",
          "2010-02-07T00:00:00",
          "2010-02-19T00:00:00",
          "2010-02-26T00:00:00",
          "2010-03-09T00:00:00",
          "2010-03-12T00:00:00",
          "2010-03-19T00:00:00",
          "2010-03-26T00:00:00",
          "2010-04-06T00:00:00",
          "2010-04-16T00:00:00",
          "2010-04-23T00:00:00",
          "2010-04-30T00:00:00",
          "2010-05-02T00:00:00",
          "2010-05-03T00:00:00",
          "2010-05-11T00:00:00",
          "2010-05-14T00:00:00",
          "2010-05-21T00:00:00",
          "2010-05-28T00:00:00",
          "2010-06-08T00:00:00",
          "2010-06-18T00:00:00",
          "2010-06-25T00:00:00",
          "2010-07-05T00:00:00",
          "2010-07-16T00:00:00",
          "2010-07-23T00:00:00",
          "2010-07-30T00:00:00",
          "2010-08-10T00:00:00",
          "2010-08-13T00:00:00",
          "2010-08-20T00:00:00",
          "2010-08-27T00:00:00",
          "2010-09-04T00:00:00",
          "2010-09-07T00:00:00",
          "2010-09-17T00:00:00",
          "2010-09-24T00:00:00",
          "2010-10-09T00:00:00",
          "2010-10-12T00:00:00",
          "2010-10-15T00:00:00",
          "2010-10-22T00:00:00",
          "2010-10-29T00:00:00",
          "2010-11-06T00:00:00",
          "2010-11-19T00:00:00",
          "2010-11-26T00:00:00",
          "2010-12-02T00:00:00",
          "2010-12-03T00:00:00",
          "2010-12-11T00:00:00",
          "2010-12-17T00:00:00",
          "2010-12-24T00:00:00",
          "2010-12-31T00:00:00",
          "2011-01-04T00:00:00",
          "2011-01-07T00:00:00",
          "2011-01-14T00:00:00",
          "2011-01-21T00:00:00",
          "2011-01-28T00:00:00",
          "2011-02-09T00:00:00",
          "2011-02-12T00:00:00",
          "2011-02-18T00:00:00",
          "2011-02-25T00:00:00",
          "2011-03-06T00:00:00",
          "2011-03-18T00:00:00",
          "2011-03-25T00:00:00",
          "2011-04-02T00:00:00",
          "2011-04-03T00:00:00",
          "2011-04-11T00:00:00",
          "2011-04-15T00:00:00",
          "2011-04-22T00:00:00",
          "2011-04-29T00:00:00",
          "2011-05-08T00:00:00",
          "2011-05-13T00:00:00",
          "2011-05-20T00:00:00",
          "2011-05-27T00:00:00",
          "2011-06-05T00:00:00",
          "2011-06-17T00:00:00",
          "2011-06-24T00:00:00",
          "2011-07-01T00:00:00",
          "2011-07-10T00:00:00",
          "2011-07-15T00:00:00",
          "2011-07-22T00:00:00",
          "2011-07-29T00:00:00",
          "2011-08-04T00:00:00",
          "2011-08-07T00:00:00",
          "2011-08-19T00:00:00",
          "2011-08-26T00:00:00",
          "2011-09-09T00:00:00",
          "2011-09-12T00:00:00",
          "2011-09-16T00:00:00",
          "2011-09-23T00:00:00",
          "2011-09-30T00:00:00",
          "2011-10-06T00:00:00",
          "2011-10-14T00:00:00",
          "2011-10-21T00:00:00",
          "2011-10-28T00:00:00",
          "2011-11-02T00:00:00",
          "2011-11-03T00:00:00",
          "2011-11-11T00:00:00",
          "2011-11-18T00:00:00",
          "2011-11-25T00:00:00",
          "2011-12-08T00:00:00",
          "2011-12-16T00:00:00",
          "2011-12-23T00:00:00",
          "2011-12-30T00:00:00",
          "2012-01-06T00:00:00",
          "2012-01-13T00:00:00",
          "2012-01-20T00:00:00",
          "2012-01-27T00:00:00",
          "2012-02-03T00:00:00",
          "2012-02-11T00:00:00",
          "2012-02-17T00:00:00",
          "2012-02-24T00:00:00",
          "2012-03-02T00:00:00",
          "2012-03-08T00:00:00",
          "2012-03-16T00:00:00",
          "2012-03-23T00:00:00",
          "2012-03-30T00:00:00",
          "2012-04-05T00:00:00",
          "2012-04-13T00:00:00",
          "2012-04-20T00:00:00",
          "2012-04-27T00:00:00",
          "2012-05-10T00:00:00",
          "2012-05-18T00:00:00",
          "2012-05-25T00:00:00",
          "2012-06-01T00:00:00",
          "2012-06-04T00:00:00",
          "2012-06-07T00:00:00",
          "2012-06-15T00:00:00",
          "2012-06-22T00:00:00",
          "2012-06-29T00:00:00",
          "2012-07-09T00:00:00",
          "2012-07-12T00:00:00",
          "2012-07-13T00:00:00",
          "2012-07-20T00:00:00",
          "2012-07-27T00:00:00",
          "2012-08-06T00:00:00",
          "2012-08-17T00:00:00",
          "2012-08-24T00:00:00",
          "2012-08-31T00:00:00",
          "2012-09-03T00:00:00",
          "2012-09-11T00:00:00",
          "2012-09-14T00:00:00",
          "2012-09-21T00:00:00",
          "2012-09-28T00:00:00",
          "2012-10-02T00:00:00",
          "2012-10-08T00:00:00",
          "2012-10-19T00:00:00",
          "2012-10-26T00:00:00",
          "2012-11-05T00:00:00",
          "2012-11-16T00:00:00",
          "2012-11-23T00:00:00",
          "2012-11-30T00:00:00",
          "2012-12-10T00:00:00",
          "2012-12-14T00:00:00",
          "2012-12-21T00:00:00",
          "2012-12-28T00:00:00",
          "2013-01-02T00:00:00",
          "2013-01-03T00:00:00",
          "2013-01-18T00:00:00",
          "2013-01-25T00:00:00",
          "2013-02-15T00:00:00",
          "2013-02-22T00:00:00",
          "2013-03-05T00:00:00",
          "2013-03-15T00:00:00",
          "2013-03-22T00:00:00",
          "2013-03-29T00:00:00",
          "2013-04-01T00:00:00",
          "2013-04-19T00:00:00",
          "2013-04-26T00:00:00",
          "2013-05-04T00:00:00",
          "2013-05-07T00:00:00",
          "2013-05-17T00:00:00",
          "2013-05-24T00:00:00",
          "2013-05-31T00:00:00",
          "2013-06-14T00:00:00",
          "2013-06-21T00:00:00",
          "2013-06-28T00:00:00",
          "2013-07-06T00:00:00",
          "2013-07-19T00:00:00",
          "2013-07-26T00:00:00",
          "2013-08-02T00:00:00",
          "2013-08-03T00:00:00",
          "2013-10-05T00:00:00",
          "2013-11-01T00:00:00",
          "2013-12-04T00:00:00",
          "2013-12-07T00:00:00"
         ],
         "y": [
          8.163,
          8.2,
          8.099,
          8.326,
          8.326,
          8.099,
          8.163,
          8.326,
          8.326,
          8.2,
          8.2,
          8.2,
          8.2,
          8.326,
          8.326,
          8.163,
          8.2,
          8.2,
          8.2,
          8.099,
          8.2,
          8.2,
          8.2,
          8.099,
          8.099,
          8.099,
          8.163,
          8.099,
          8.099,
          8.099,
          8.2,
          8.099,
          8.099,
          8.099,
          8.099,
          8.163,
          8.163,
          8.163,
          8.163,
          8.2,
          8.163,
          8.163,
          8.326,
          8.326,
          8.163,
          8.163,
          8.163,
          8.163,
          7.931,
          7.852,
          8.027999999999999,
          8.027999999999999,
          8.027999999999999,
          7.852,
          7.716,
          8.027999999999999,
          8.027999999999999,
          7.931,
          8.027999999999999,
          8.027999999999999,
          8.027999999999999,
          8.027999999999999,
          7.716,
          7.931,
          7.931,
          7.931,
          7.852,
          7.931,
          7.931,
          7.931,
          7.931,
          7.931,
          7.931,
          8.027999999999999,
          7.716,
          7.852,
          7.852,
          7.852,
          7.931,
          7.852,
          7.852,
          7.852,
          7.852,
          7.716,
          7.852,
          7.852,
          7.852,
          7.931,
          7.716,
          7.716,
          7.716,
          8.027999999999999,
          8.027999999999999,
          7.716,
          7.716,
          7.716,
          7.852,
          7.716,
          7.716,
          7.716,
          7.138999999999999,
          7.244,
          7.244,
          7.244,
          7.244,
          6.895,
          7.244,
          7.244,
          7.244,
          7.147,
          7.244,
          7.244,
          7.244,
          7.138999999999999,
          7.138999999999999,
          7.138999999999999,
          7.138999999999999,
          6.895,
          7.138999999999999,
          7.138999999999999,
          7.244,
          7.138999999999999,
          7.147,
          7.138999999999999,
          7.138999999999999,
          7.138999999999999,
          7.147,
          6.895,
          7.147,
          7.147,
          7.147,
          7.138999999999999,
          7.147,
          7.147,
          7.147,
          7.244,
          6.895,
          7.147,
          7.147,
          7.147,
          7.244,
          7.147,
          6.895,
          6.895,
          7.138999999999999,
          6.895,
          6.895,
          6.895,
          6.895,
          6.895,
          6.895,
          6.895,
          6.806,
          6.806,
          6.806,
          6.806,
          6.806,
          6.806,
          null,
          6.806,
          6.806,
          6.806,
          6.806,
          6.6979999999999995,
          6.6979999999999995,
          6.6979999999999995,
          null,
          null,
          null,
          null,
          null,
          null,
          null,
          null,
          null,
          null,
          6.806,
          6.806,
          null,
          6.806,
          6.6979999999999995,
          null
         ]
        },
        {
         "line": {
          "color": "blue"
         },
         "name": "q75",
         "opacity": 0.4,
         "type": "scatter",
         "x": [
          "2010-01-10T00:00:00",
          "2010-02-04T00:00:00",
          "2010-02-07T00:00:00",
          "2010-02-19T00:00:00",
          "2010-02-26T00:00:00",
          "2010-03-09T00:00:00",
          "2010-03-12T00:00:00",
          "2010-03-19T00:00:00",
          "2010-03-26T00:00:00",
          "2010-04-06T00:00:00",
          "2010-04-16T00:00:00",
          "2010-04-23T00:00:00",
          "2010-04-30T00:00:00",
          "2010-05-02T00:00:00",
          "2010-05-03T00:00:00",
          "2010-05-11T00:00:00",
          "2010-05-14T00:00:00",
          "2010-05-21T00:00:00",
          "2010-05-28T00:00:00",
          "2010-06-08T00:00:00",
          "2010-06-18T00:00:00",
          "2010-06-25T00:00:00",
          "2010-07-05T00:00:00",
          "2010-07-16T00:00:00",
          "2010-07-23T00:00:00",
          "2010-07-30T00:00:00",
          "2010-08-10T00:00:00",
          "2010-08-13T00:00:00",
          "2010-08-20T00:00:00",
          "2010-08-27T00:00:00",
          "2010-09-04T00:00:00",
          "2010-09-07T00:00:00",
          "2010-09-17T00:00:00",
          "2010-09-24T00:00:00",
          "2010-10-09T00:00:00",
          "2010-10-12T00:00:00",
          "2010-10-15T00:00:00",
          "2010-10-22T00:00:00",
          "2010-10-29T00:00:00",
          "2010-11-06T00:00:00",
          "2010-11-19T00:00:00",
          "2010-11-26T00:00:00",
          "2010-12-02T00:00:00",
          "2010-12-03T00:00:00",
          "2010-12-11T00:00:00",
          "2010-12-17T00:00:00",
          "2010-12-24T00:00:00",
          "2010-12-31T00:00:00",
          "2011-01-04T00:00:00",
          "2011-01-07T00:00:00",
          "2011-01-14T00:00:00",
          "2011-01-21T00:00:00",
          "2011-01-28T00:00:00",
          "2011-02-09T00:00:00",
          "2011-02-12T00:00:00",
          "2011-02-18T00:00:00",
          "2011-02-25T00:00:00",
          "2011-03-06T00:00:00",
          "2011-03-18T00:00:00",
          "2011-03-25T00:00:00",
          "2011-04-02T00:00:00",
          "2011-04-03T00:00:00",
          "2011-04-11T00:00:00",
          "2011-04-15T00:00:00",
          "2011-04-22T00:00:00",
          "2011-04-29T00:00:00",
          "2011-05-08T00:00:00",
          "2011-05-13T00:00:00",
          "2011-05-20T00:00:00",
          "2011-05-27T00:00:00",
          "2011-06-05T00:00:00",
          "2011-06-17T00:00:00",
          "2011-06-24T00:00:00",
          "2011-07-01T00:00:00",
          "2011-07-10T00:00:00",
          "2011-07-15T00:00:00",
          "2011-07-22T00:00:00",
          "2011-07-29T00:00:00",
          "2011-08-04T00:00:00",
          "2011-08-07T00:00:00",
          "2011-08-19T00:00:00",
          "2011-08-26T00:00:00",
          "2011-09-09T00:00:00",
          "2011-09-12T00:00:00",
          "2011-09-16T00:00:00",
          "2011-09-23T00:00:00",
          "2011-09-30T00:00:00",
          "2011-10-06T00:00:00",
          "2011-10-14T00:00:00",
          "2011-10-21T00:00:00",
          "2011-10-28T00:00:00",
          "2011-11-02T00:00:00",
          "2011-11-03T00:00:00",
          "2011-11-11T00:00:00",
          "2011-11-18T00:00:00",
          "2011-11-25T00:00:00",
          "2011-12-08T00:00:00",
          "2011-12-16T00:00:00",
          "2011-12-23T00:00:00",
          "2011-12-30T00:00:00",
          "2012-01-06T00:00:00",
          "2012-01-13T00:00:00",
          "2012-01-20T00:00:00",
          "2012-01-27T00:00:00",
          "2012-02-03T00:00:00",
          "2012-02-11T00:00:00",
          "2012-02-17T00:00:00",
          "2012-02-24T00:00:00",
          "2012-03-02T00:00:00",
          "2012-03-08T00:00:00",
          "2012-03-16T00:00:00",
          "2012-03-23T00:00:00",
          "2012-03-30T00:00:00",
          "2012-04-05T00:00:00",
          "2012-04-13T00:00:00",
          "2012-04-20T00:00:00",
          "2012-04-27T00:00:00",
          "2012-05-10T00:00:00",
          "2012-05-18T00:00:00",
          "2012-05-25T00:00:00",
          "2012-06-01T00:00:00",
          "2012-06-04T00:00:00",
          "2012-06-07T00:00:00",
          "2012-06-15T00:00:00",
          "2012-06-22T00:00:00",
          "2012-06-29T00:00:00",
          "2012-07-09T00:00:00",
          "2012-07-12T00:00:00",
          "2012-07-13T00:00:00",
          "2012-07-20T00:00:00",
          "2012-07-27T00:00:00",
          "2012-08-06T00:00:00",
          "2012-08-17T00:00:00",
          "2012-08-24T00:00:00",
          "2012-08-31T00:00:00",
          "2012-09-03T00:00:00",
          "2012-09-11T00:00:00",
          "2012-09-14T00:00:00",
          "2012-09-21T00:00:00",
          "2012-09-28T00:00:00",
          "2012-10-02T00:00:00",
          "2012-10-08T00:00:00",
          "2012-10-19T00:00:00",
          "2012-10-26T00:00:00",
          "2012-11-05T00:00:00",
          "2012-11-16T00:00:00",
          "2012-11-23T00:00:00",
          "2012-11-30T00:00:00",
          "2012-12-10T00:00:00",
          "2012-12-14T00:00:00",
          "2012-12-21T00:00:00",
          "2012-12-28T00:00:00",
          "2013-01-02T00:00:00",
          "2013-01-03T00:00:00",
          "2013-01-18T00:00:00",
          "2013-01-25T00:00:00",
          "2013-02-15T00:00:00",
          "2013-02-22T00:00:00",
          "2013-03-05T00:00:00",
          "2013-03-15T00:00:00",
          "2013-03-22T00:00:00",
          "2013-03-29T00:00:00",
          "2013-04-01T00:00:00",
          "2013-04-19T00:00:00",
          "2013-04-26T00:00:00",
          "2013-05-04T00:00:00",
          "2013-05-07T00:00:00",
          "2013-05-17T00:00:00",
          "2013-05-24T00:00:00",
          "2013-05-31T00:00:00",
          "2013-06-14T00:00:00",
          "2013-06-21T00:00:00",
          "2013-06-28T00:00:00",
          "2013-07-06T00:00:00",
          "2013-07-19T00:00:00",
          "2013-07-26T00:00:00",
          "2013-08-02T00:00:00",
          "2013-08-03T00:00:00",
          "2013-10-05T00:00:00",
          "2013-11-01T00:00:00",
          "2013-12-04T00:00:00",
          "2013-12-07T00:00:00"
         ],
         "y": [
          9.003,
          8.963,
          9.017000000000001,
          9.014,
          9.014,
          9.017000000000001,
          9.003,
          9.014,
          9.014,
          8.963,
          8.963,
          8.963,
          8.963,
          9.014,
          9.014,
          9.003,
          8.963,
          8.963,
          8.963,
          9.017000000000001,
          8.963,
          8.963,
          8.963,
          9.017000000000001,
          9.017000000000001,
          9.017000000000001,
          9.003,
          9.017000000000001,
          9.017000000000001,
          9.017000000000001,
          8.963,
          9.017000000000001,
          9.017000000000001,
          9.017000000000001,
          9.017000000000001,
          9.003,
          9.003,
          9.003,
          9.003,
          8.963,
          9.003,
          9.003,
          9.014,
          9.014,
          9.003,
          9.003,
          9.003,
          9.003,
          8.521,
          8.622,
          8.744,
          8.744,
          8.744,
          8.622,
          8.471,
          8.744,
          8.744,
          8.521,
          8.744,
          8.744,
          8.744,
          8.744,
          8.471,
          8.521,
          8.521,
          8.521,
          8.622,
          8.521,
          8.521,
          8.521,
          8.521,
          8.521,
          8.521,
          8.744,
          8.471,
          8.622,
          8.622,
          8.622,
          8.521,
          8.622,
          8.622,
          8.622,
          8.622,
          8.471,
          8.622,
          8.622,
          8.622,
          8.521,
          8.471,
          8.471,
          8.471,
          8.744,
          8.744,
          8.471,
          8.471,
          8.471,
          8.622,
          8.471,
          8.471,
          8.471,
          8.253,
          8.256,
          8.256,
          8.256,
          8.256,
          8,
          8.256,
          8.256,
          8.256,
          8.238999999999999,
          8.256,
          8.256,
          8.256,
          8.253,
          8.253,
          8.253,
          8.253,
          8,
          8.253,
          8.253,
          8.256,
          8.253,
          8.238999999999999,
          8.253,
          8.253,
          8.253,
          8.238999999999999,
          8,
          8.238999999999999,
          8.238999999999999,
          8.238999999999999,
          8.253,
          8.238999999999999,
          8.238999999999999,
          8.238999999999999,
          8.256,
          8,
          8.238999999999999,
          8.238999999999999,
          8.238999999999999,
          8.256,
          8.238999999999999,
          8,
          8,
          8.253,
          8,
          8,
          8,
          8,
          8,
          8,
          8,
          8.036,
          8.036,
          8.036,
          8.036,
          8.036,
          8.036,
          null,
          8.036,
          8.036,
          8.036,
          8.036,
          7.806,
          7.806,
          7.806,
          null,
          null,
          null,
          null,
          null,
          null,
          null,
          null,
          null,
          null,
          8.036,
          8.036,
          null,
          8.036,
          7.806,
          null
         ]
        },
        {
         "line": {
          "color": "red"
         },
         "name": "Max",
         "opacity": 0.4,
         "type": "scatter",
         "x": [
          "2010-01-10T00:00:00",
          "2010-02-04T00:00:00",
          "2010-02-07T00:00:00",
          "2010-02-19T00:00:00",
          "2010-02-26T00:00:00",
          "2010-03-09T00:00:00",
          "2010-03-12T00:00:00",
          "2010-03-19T00:00:00",
          "2010-03-26T00:00:00",
          "2010-04-06T00:00:00",
          "2010-04-16T00:00:00",
          "2010-04-23T00:00:00",
          "2010-04-30T00:00:00",
          "2010-05-02T00:00:00",
          "2010-05-03T00:00:00",
          "2010-05-11T00:00:00",
          "2010-05-14T00:00:00",
          "2010-05-21T00:00:00",
          "2010-05-28T00:00:00",
          "2010-06-08T00:00:00",
          "2010-06-18T00:00:00",
          "2010-06-25T00:00:00",
          "2010-07-05T00:00:00",
          "2010-07-16T00:00:00",
          "2010-07-23T00:00:00",
          "2010-07-30T00:00:00",
          "2010-08-10T00:00:00",
          "2010-08-13T00:00:00",
          "2010-08-20T00:00:00",
          "2010-08-27T00:00:00",
          "2010-09-04T00:00:00",
          "2010-09-07T00:00:00",
          "2010-09-17T00:00:00",
          "2010-09-24T00:00:00",
          "2010-10-09T00:00:00",
          "2010-10-12T00:00:00",
          "2010-10-15T00:00:00",
          "2010-10-22T00:00:00",
          "2010-10-29T00:00:00",
          "2010-11-06T00:00:00",
          "2010-11-19T00:00:00",
          "2010-11-26T00:00:00",
          "2010-12-02T00:00:00",
          "2010-12-03T00:00:00",
          "2010-12-11T00:00:00",
          "2010-12-17T00:00:00",
          "2010-12-24T00:00:00",
          "2010-12-31T00:00:00",
          "2011-01-04T00:00:00",
          "2011-01-07T00:00:00",
          "2011-01-14T00:00:00",
          "2011-01-21T00:00:00",
          "2011-01-28T00:00:00",
          "2011-02-09T00:00:00",
          "2011-02-12T00:00:00",
          "2011-02-18T00:00:00",
          "2011-02-25T00:00:00",
          "2011-03-06T00:00:00",
          "2011-03-18T00:00:00",
          "2011-03-25T00:00:00",
          "2011-04-02T00:00:00",
          "2011-04-03T00:00:00",
          "2011-04-11T00:00:00",
          "2011-04-15T00:00:00",
          "2011-04-22T00:00:00",
          "2011-04-29T00:00:00",
          "2011-05-08T00:00:00",
          "2011-05-13T00:00:00",
          "2011-05-20T00:00:00",
          "2011-05-27T00:00:00",
          "2011-06-05T00:00:00",
          "2011-06-17T00:00:00",
          "2011-06-24T00:00:00",
          "2011-07-01T00:00:00",
          "2011-07-10T00:00:00",
          "2011-07-15T00:00:00",
          "2011-07-22T00:00:00",
          "2011-07-29T00:00:00",
          "2011-08-04T00:00:00",
          "2011-08-07T00:00:00",
          "2011-08-19T00:00:00",
          "2011-08-26T00:00:00",
          "2011-09-09T00:00:00",
          "2011-09-12T00:00:00",
          "2011-09-16T00:00:00",
          "2011-09-23T00:00:00",
          "2011-09-30T00:00:00",
          "2011-10-06T00:00:00",
          "2011-10-14T00:00:00",
          "2011-10-21T00:00:00",
          "2011-10-28T00:00:00",
          "2011-11-02T00:00:00",
          "2011-11-03T00:00:00",
          "2011-11-11T00:00:00",
          "2011-11-18T00:00:00",
          "2011-11-25T00:00:00",
          "2011-12-08T00:00:00",
          "2011-12-16T00:00:00",
          "2011-12-23T00:00:00",
          "2011-12-30T00:00:00",
          "2012-01-06T00:00:00",
          "2012-01-13T00:00:00",
          "2012-01-20T00:00:00",
          "2012-01-27T00:00:00",
          "2012-02-03T00:00:00",
          "2012-02-11T00:00:00",
          "2012-02-17T00:00:00",
          "2012-02-24T00:00:00",
          "2012-03-02T00:00:00",
          "2012-03-08T00:00:00",
          "2012-03-16T00:00:00",
          "2012-03-23T00:00:00",
          "2012-03-30T00:00:00",
          "2012-04-05T00:00:00",
          "2012-04-13T00:00:00",
          "2012-04-20T00:00:00",
          "2012-04-27T00:00:00",
          "2012-05-10T00:00:00",
          "2012-05-18T00:00:00",
          "2012-05-25T00:00:00",
          "2012-06-01T00:00:00",
          "2012-06-04T00:00:00",
          "2012-06-07T00:00:00",
          "2012-06-15T00:00:00",
          "2012-06-22T00:00:00",
          "2012-06-29T00:00:00",
          "2012-07-09T00:00:00",
          "2012-07-12T00:00:00",
          "2012-07-13T00:00:00",
          "2012-07-20T00:00:00",
          "2012-07-27T00:00:00",
          "2012-08-06T00:00:00",
          "2012-08-17T00:00:00",
          "2012-08-24T00:00:00",
          "2012-08-31T00:00:00",
          "2012-09-03T00:00:00",
          "2012-09-11T00:00:00",
          "2012-09-14T00:00:00",
          "2012-09-21T00:00:00",
          "2012-09-28T00:00:00",
          "2012-10-02T00:00:00",
          "2012-10-08T00:00:00",
          "2012-10-19T00:00:00",
          "2012-10-26T00:00:00",
          "2012-11-05T00:00:00",
          "2012-11-16T00:00:00",
          "2012-11-23T00:00:00",
          "2012-11-30T00:00:00",
          "2012-12-10T00:00:00",
          "2012-12-14T00:00:00",
          "2012-12-21T00:00:00",
          "2012-12-28T00:00:00",
          "2013-01-02T00:00:00",
          "2013-01-03T00:00:00",
          "2013-01-18T00:00:00",
          "2013-01-25T00:00:00",
          "2013-02-15T00:00:00",
          "2013-02-22T00:00:00",
          "2013-03-05T00:00:00",
          "2013-03-15T00:00:00",
          "2013-03-22T00:00:00",
          "2013-03-29T00:00:00",
          "2013-04-01T00:00:00",
          "2013-04-19T00:00:00",
          "2013-04-26T00:00:00",
          "2013-05-04T00:00:00",
          "2013-05-07T00:00:00",
          "2013-05-17T00:00:00",
          "2013-05-24T00:00:00",
          "2013-05-31T00:00:00",
          "2013-06-14T00:00:00",
          "2013-06-21T00:00:00",
          "2013-06-28T00:00:00",
          "2013-07-06T00:00:00",
          "2013-07-19T00:00:00",
          "2013-07-26T00:00:00",
          "2013-08-02T00:00:00",
          "2013-08-03T00:00:00",
          "2013-10-05T00:00:00",
          "2013-11-01T00:00:00",
          "2013-12-04T00:00:00",
          "2013-12-07T00:00:00"
         ],
         "y": [
          14.312999999999999,
          14.099,
          14.18,
          13.975,
          13.975,
          14.18,
          14.312999999999999,
          13.975,
          13.975,
          14.099,
          14.099,
          14.099,
          14.099,
          13.975,
          13.975,
          14.312999999999999,
          14.099,
          14.099,
          14.099,
          14.18,
          14.099,
          14.099,
          14.099,
          14.18,
          14.18,
          14.18,
          14.312999999999999,
          14.18,
          14.18,
          14.18,
          14.099,
          14.18,
          14.18,
          14.18,
          14.18,
          14.312999999999999,
          14.312999999999999,
          14.312999999999999,
          14.312999999999999,
          14.099,
          14.312999999999999,
          14.312999999999999,
          13.975,
          13.975,
          14.312999999999999,
          14.312999999999999,
          14.312999999999999,
          14.312999999999999,
          13.735999999999999,
          13.503,
          14.020999999999999,
          14.020999999999999,
          14.020999999999999,
          13.503,
          12.89,
          14.020999999999999,
          14.020999999999999,
          13.735999999999999,
          14.020999999999999,
          14.020999999999999,
          14.020999999999999,
          14.020999999999999,
          12.89,
          13.735999999999999,
          13.735999999999999,
          13.735999999999999,
          13.503,
          13.735999999999999,
          13.735999999999999,
          13.735999999999999,
          13.735999999999999,
          13.735999999999999,
          13.735999999999999,
          14.020999999999999,
          12.89,
          13.503,
          13.503,
          13.503,
          13.735999999999999,
          13.503,
          13.503,
          13.503,
          13.503,
          12.89,
          13.503,
          13.503,
          13.503,
          13.735999999999999,
          12.89,
          12.89,
          12.89,
          14.020999999999999,
          14.020999999999999,
          12.89,
          12.89,
          12.89,
          13.503,
          12.89,
          12.89,
          12.89,
          11.627,
          12.187000000000001,
          12.187000000000001,
          12.187000000000001,
          12.187000000000001,
          10.199,
          12.187000000000001,
          12.187000000000001,
          12.187000000000001,
          10.925999999999998,
          12.187000000000001,
          12.187000000000001,
          12.187000000000001,
          11.627,
          11.627,
          11.627,
          11.627,
          10.199,
          11.627,
          11.627,
          12.187000000000001,
          11.627,
          10.925999999999998,
          11.627,
          11.627,
          11.627,
          10.925999999999998,
          10.199,
          10.925999999999998,
          10.925999999999998,
          10.925999999999998,
          11.627,
          10.925999999999998,
          10.925999999999998,
          10.925999999999998,
          12.187000000000001,
          10.199,
          10.925999999999998,
          10.925999999999998,
          10.925999999999998,
          12.187000000000001,
          10.925999999999998,
          10.199,
          10.199,
          11.627,
          10.199,
          10.199,
          10.199,
          10.199,
          10.199,
          10.199,
          10.199,
          9.91,
          9.91,
          9.91,
          9.91,
          9.91,
          9.91,
          null,
          9.91,
          9.91,
          9.91,
          9.91,
          9.874,
          9.874,
          9.874,
          null,
          null,
          null,
          null,
          null,
          null,
          null,
          null,
          null,
          null,
          9.91,
          9.91,
          null,
          9.91,
          9.874,
          null
         ]
        }
       ],
       "layout": {
        "template": {
         "data": {
          "bar": [
           {
            "error_x": {
             "color": "#2a3f5f"
            },
            "error_y": {
             "color": "#2a3f5f"
            },
            "marker": {
             "line": {
              "color": "#E5ECF6",
              "width": 0.5
             }
            },
            "type": "bar"
           }
          ],
          "barpolar": [
           {
            "marker": {
             "line": {
              "color": "#E5ECF6",
              "width": 0.5
             }
            },
            "type": "barpolar"
           }
          ],
          "carpet": [
           {
            "aaxis": {
             "endlinecolor": "#2a3f5f",
             "gridcolor": "white",
             "linecolor": "white",
             "minorgridcolor": "white",
             "startlinecolor": "#2a3f5f"
            },
            "baxis": {
             "endlinecolor": "#2a3f5f",
             "gridcolor": "white",
             "linecolor": "white",
             "minorgridcolor": "white",
             "startlinecolor": "#2a3f5f"
            },
            "type": "carpet"
           }
          ],
          "choropleth": [
           {
            "colorbar": {
             "outlinewidth": 0,
             "ticks": ""
            },
            "type": "choropleth"
           }
          ],
          "contour": [
           {
            "colorbar": {
             "outlinewidth": 0,
             "ticks": ""
            },
            "colorscale": [
             [
              0,
              "#0d0887"
             ],
             [
              0.1111111111111111,
              "#46039f"
             ],
             [
              0.2222222222222222,
              "#7201a8"
             ],
             [
              0.3333333333333333,
              "#9c179e"
             ],
             [
              0.4444444444444444,
              "#bd3786"
             ],
             [
              0.5555555555555556,
              "#d8576b"
             ],
             [
              0.6666666666666666,
              "#ed7953"
             ],
             [
              0.7777777777777778,
              "#fb9f3a"
             ],
             [
              0.8888888888888888,
              "#fdca26"
             ],
             [
              1,
              "#f0f921"
             ]
            ],
            "type": "contour"
           }
          ],
          "contourcarpet": [
           {
            "colorbar": {
             "outlinewidth": 0,
             "ticks": ""
            },
            "type": "contourcarpet"
           }
          ],
          "heatmap": [
           {
            "colorbar": {
             "outlinewidth": 0,
             "ticks": ""
            },
            "colorscale": [
             [
              0,
              "#0d0887"
             ],
             [
              0.1111111111111111,
              "#46039f"
             ],
             [
              0.2222222222222222,
              "#7201a8"
             ],
             [
              0.3333333333333333,
              "#9c179e"
             ],
             [
              0.4444444444444444,
              "#bd3786"
             ],
             [
              0.5555555555555556,
              "#d8576b"
             ],
             [
              0.6666666666666666,
              "#ed7953"
             ],
             [
              0.7777777777777778,
              "#fb9f3a"
             ],
             [
              0.8888888888888888,
              "#fdca26"
             ],
             [
              1,
              "#f0f921"
             ]
            ],
            "type": "heatmap"
           }
          ],
          "heatmapgl": [
           {
            "colorbar": {
             "outlinewidth": 0,
             "ticks": ""
            },
            "colorscale": [
             [
              0,
              "#0d0887"
             ],
             [
              0.1111111111111111,
              "#46039f"
             ],
             [
              0.2222222222222222,
              "#7201a8"
             ],
             [
              0.3333333333333333,
              "#9c179e"
             ],
             [
              0.4444444444444444,
              "#bd3786"
             ],
             [
              0.5555555555555556,
              "#d8576b"
             ],
             [
              0.6666666666666666,
              "#ed7953"
             ],
             [
              0.7777777777777778,
              "#fb9f3a"
             ],
             [
              0.8888888888888888,
              "#fdca26"
             ],
             [
              1,
              "#f0f921"
             ]
            ],
            "type": "heatmapgl"
           }
          ],
          "histogram": [
           {
            "marker": {
             "colorbar": {
              "outlinewidth": 0,
              "ticks": ""
             }
            },
            "type": "histogram"
           }
          ],
          "histogram2d": [
           {
            "colorbar": {
             "outlinewidth": 0,
             "ticks": ""
            },
            "colorscale": [
             [
              0,
              "#0d0887"
             ],
             [
              0.1111111111111111,
              "#46039f"
             ],
             [
              0.2222222222222222,
              "#7201a8"
             ],
             [
              0.3333333333333333,
              "#9c179e"
             ],
             [
              0.4444444444444444,
              "#bd3786"
             ],
             [
              0.5555555555555556,
              "#d8576b"
             ],
             [
              0.6666666666666666,
              "#ed7953"
             ],
             [
              0.7777777777777778,
              "#fb9f3a"
             ],
             [
              0.8888888888888888,
              "#fdca26"
             ],
             [
              1,
              "#f0f921"
             ]
            ],
            "type": "histogram2d"
           }
          ],
          "histogram2dcontour": [
           {
            "colorbar": {
             "outlinewidth": 0,
             "ticks": ""
            },
            "colorscale": [
             [
              0,
              "#0d0887"
             ],
             [
              0.1111111111111111,
              "#46039f"
             ],
             [
              0.2222222222222222,
              "#7201a8"
             ],
             [
              0.3333333333333333,
              "#9c179e"
             ],
             [
              0.4444444444444444,
              "#bd3786"
             ],
             [
              0.5555555555555556,
              "#d8576b"
             ],
             [
              0.6666666666666666,
              "#ed7953"
             ],
             [
              0.7777777777777778,
              "#fb9f3a"
             ],
             [
              0.8888888888888888,
              "#fdca26"
             ],
             [
              1,
              "#f0f921"
             ]
            ],
            "type": "histogram2dcontour"
           }
          ],
          "mesh3d": [
           {
            "colorbar": {
             "outlinewidth": 0,
             "ticks": ""
            },
            "type": "mesh3d"
           }
          ],
          "parcoords": [
           {
            "line": {
             "colorbar": {
              "outlinewidth": 0,
              "ticks": ""
             }
            },
            "type": "parcoords"
           }
          ],
          "pie": [
           {
            "automargin": true,
            "type": "pie"
           }
          ],
          "scatter": [
           {
            "marker": {
             "colorbar": {
              "outlinewidth": 0,
              "ticks": ""
             }
            },
            "type": "scatter"
           }
          ],
          "scatter3d": [
           {
            "line": {
             "colorbar": {
              "outlinewidth": 0,
              "ticks": ""
             }
            },
            "marker": {
             "colorbar": {
              "outlinewidth": 0,
              "ticks": ""
             }
            },
            "type": "scatter3d"
           }
          ],
          "scattercarpet": [
           {
            "marker": {
             "colorbar": {
              "outlinewidth": 0,
              "ticks": ""
             }
            },
            "type": "scattercarpet"
           }
          ],
          "scattergeo": [
           {
            "marker": {
             "colorbar": {
              "outlinewidth": 0,
              "ticks": ""
             }
            },
            "type": "scattergeo"
           }
          ],
          "scattergl": [
           {
            "marker": {
             "colorbar": {
              "outlinewidth": 0,
              "ticks": ""
             }
            },
            "type": "scattergl"
           }
          ],
          "scattermapbox": [
           {
            "marker": {
             "colorbar": {
              "outlinewidth": 0,
              "ticks": ""
             }
            },
            "type": "scattermapbox"
           }
          ],
          "scatterpolar": [
           {
            "marker": {
             "colorbar": {
              "outlinewidth": 0,
              "ticks": ""
             }
            },
            "type": "scatterpolar"
           }
          ],
          "scatterpolargl": [
           {
            "marker": {
             "colorbar": {
              "outlinewidth": 0,
              "ticks": ""
             }
            },
            "type": "scatterpolargl"
           }
          ],
          "scatterternary": [
           {
            "marker": {
             "colorbar": {
              "outlinewidth": 0,
              "ticks": ""
             }
            },
            "type": "scatterternary"
           }
          ],
          "surface": [
           {
            "colorbar": {
             "outlinewidth": 0,
             "ticks": ""
            },
            "colorscale": [
             [
              0,
              "#0d0887"
             ],
             [
              0.1111111111111111,
              "#46039f"
             ],
             [
              0.2222222222222222,
              "#7201a8"
             ],
             [
              0.3333333333333333,
              "#9c179e"
             ],
             [
              0.4444444444444444,
              "#bd3786"
             ],
             [
              0.5555555555555556,
              "#d8576b"
             ],
             [
              0.6666666666666666,
              "#ed7953"
             ],
             [
              0.7777777777777778,
              "#fb9f3a"
             ],
             [
              0.8888888888888888,
              "#fdca26"
             ],
             [
              1,
              "#f0f921"
             ]
            ],
            "type": "surface"
           }
          ],
          "table": [
           {
            "cells": {
             "fill": {
              "color": "#EBF0F8"
             },
             "line": {
              "color": "white"
             }
            },
            "header": {
             "fill": {
              "color": "#C8D4E3"
             },
             "line": {
              "color": "white"
             }
            },
            "type": "table"
           }
          ]
         },
         "layout": {
          "annotationdefaults": {
           "arrowcolor": "#2a3f5f",
           "arrowhead": 0,
           "arrowwidth": 1
          },
          "autotypenumbers": "strict",
          "coloraxis": {
           "colorbar": {
            "outlinewidth": 0,
            "ticks": ""
           }
          },
          "colorscale": {
           "diverging": [
            [
             0,
             "#8e0152"
            ],
            [
             0.1,
             "#c51b7d"
            ],
            [
             0.2,
             "#de77ae"
            ],
            [
             0.3,
             "#f1b6da"
            ],
            [
             0.4,
             "#fde0ef"
            ],
            [
             0.5,
             "#f7f7f7"
            ],
            [
             0.6,
             "#e6f5d0"
            ],
            [
             0.7,
             "#b8e186"
            ],
            [
             0.8,
             "#7fbc41"
            ],
            [
             0.9,
             "#4d9221"
            ],
            [
             1,
             "#276419"
            ]
           ],
           "sequential": [
            [
             0,
             "#0d0887"
            ],
            [
             0.1111111111111111,
             "#46039f"
            ],
            [
             0.2222222222222222,
             "#7201a8"
            ],
            [
             0.3333333333333333,
             "#9c179e"
            ],
            [
             0.4444444444444444,
             "#bd3786"
            ],
            [
             0.5555555555555556,
             "#d8576b"
            ],
            [
             0.6666666666666666,
             "#ed7953"
            ],
            [
             0.7777777777777778,
             "#fb9f3a"
            ],
            [
             0.8888888888888888,
             "#fdca26"
            ],
            [
             1,
             "#f0f921"
            ]
           ],
           "sequentialminus": [
            [
             0,
             "#0d0887"
            ],
            [
             0.1111111111111111,
             "#46039f"
            ],
            [
             0.2222222222222222,
             "#7201a8"
            ],
            [
             0.3333333333333333,
             "#9c179e"
            ],
            [
             0.4444444444444444,
             "#bd3786"
            ],
            [
             0.5555555555555556,
             "#d8576b"
            ],
            [
             0.6666666666666666,
             "#ed7953"
            ],
            [
             0.7777777777777778,
             "#fb9f3a"
            ],
            [
             0.8888888888888888,
             "#fdca26"
            ],
            [
             1,
             "#f0f921"
            ]
           ]
          },
          "colorway": [
           "#636efa",
           "#EF553B",
           "#00cc96",
           "#ab63fa",
           "#FFA15A",
           "#19d3f3",
           "#FF6692",
           "#B6E880",
           "#FF97FF",
           "#FECB52"
          ],
          "font": {
           "color": "#2a3f5f"
          },
          "geo": {
           "bgcolor": "white",
           "lakecolor": "white",
           "landcolor": "#E5ECF6",
           "showlakes": true,
           "showland": true,
           "subunitcolor": "white"
          },
          "hoverlabel": {
           "align": "left"
          },
          "hovermode": "closest",
          "mapbox": {
           "style": "light"
          },
          "paper_bgcolor": "white",
          "plot_bgcolor": "#E5ECF6",
          "polar": {
           "angularaxis": {
            "gridcolor": "white",
            "linecolor": "white",
            "ticks": ""
           },
           "bgcolor": "#E5ECF6",
           "radialaxis": {
            "gridcolor": "white",
            "linecolor": "white",
            "ticks": ""
           }
          },
          "scene": {
           "xaxis": {
            "backgroundcolor": "#E5ECF6",
            "gridcolor": "white",
            "gridwidth": 2,
            "linecolor": "white",
            "showbackground": true,
            "ticks": "",
            "zerolinecolor": "white"
           },
           "yaxis": {
            "backgroundcolor": "#E5ECF6",
            "gridcolor": "white",
            "gridwidth": 2,
            "linecolor": "white",
            "showbackground": true,
            "ticks": "",
            "zerolinecolor": "white"
           },
           "zaxis": {
            "backgroundcolor": "#E5ECF6",
            "gridcolor": "white",
            "gridwidth": 2,
            "linecolor": "white",
            "showbackground": true,
            "ticks": "",
            "zerolinecolor": "white"
           }
          },
          "shapedefaults": {
           "line": {
            "color": "#2a3f5f"
           }
          },
          "ternary": {
           "aaxis": {
            "gridcolor": "white",
            "linecolor": "white",
            "ticks": ""
           },
           "baxis": {
            "gridcolor": "white",
            "linecolor": "white",
            "ticks": ""
           },
           "bgcolor": "#E5ECF6",
           "caxis": {
            "gridcolor": "white",
            "linecolor": "white",
            "ticks": ""
           }
          },
          "title": {
           "x": 0.05
          },
          "xaxis": {
           "automargin": true,
           "gridcolor": "white",
           "linecolor": "white",
           "ticks": "",
           "title": {
            "standoff": 15
           },
           "zerolinecolor": "white",
           "zerolinewidth": 2
          },
          "yaxis": {
           "automargin": true,
           "gridcolor": "white",
           "linecolor": "white",
           "ticks": "",
           "title": {
            "standoff": 15
           },
           "zerolinecolor": "white",
           "zerolinewidth": 2
          }
         }
        },
        "title": {
         "text": "Min, Mean, and Max of Unemployment"
        }
       }
      },
      "text/html": [
       "<div>                            <div id=\"7f6f3fb4-2c43-4b84-b9e9-ed07947a6b2a\" class=\"plotly-graph-div\" style=\"height:525px; width:100%;\"></div>            <script type=\"text/javascript\">                require([\"plotly\"], function(Plotly) {                    window.PLOTLYENV=window.PLOTLYENV || {};                                    if (document.getElementById(\"7f6f3fb4-2c43-4b84-b9e9-ed07947a6b2a\")) {                    Plotly.newPlot(                        \"7f6f3fb4-2c43-4b84-b9e9-ed07947a6b2a\",                        [{\"line\": {\"color\": \"green\"}, \"name\": \"Min\", \"opacity\": 0.4, \"type\": \"scatter\", \"x\": [\"2010-01-10T00:00:00\", \"2010-02-04T00:00:00\", \"2010-02-07T00:00:00\", \"2010-02-19T00:00:00\", \"2010-02-26T00:00:00\", \"2010-03-09T00:00:00\", \"2010-03-12T00:00:00\", \"2010-03-19T00:00:00\", \"2010-03-26T00:00:00\", \"2010-04-06T00:00:00\", \"2010-04-16T00:00:00\", \"2010-04-23T00:00:00\", \"2010-04-30T00:00:00\", \"2010-05-02T00:00:00\", \"2010-05-03T00:00:00\", \"2010-05-11T00:00:00\", \"2010-05-14T00:00:00\", \"2010-05-21T00:00:00\", \"2010-05-28T00:00:00\", \"2010-06-08T00:00:00\", \"2010-06-18T00:00:00\", \"2010-06-25T00:00:00\", \"2010-07-05T00:00:00\", \"2010-07-16T00:00:00\", \"2010-07-23T00:00:00\", \"2010-07-30T00:00:00\", \"2010-08-10T00:00:00\", \"2010-08-13T00:00:00\", \"2010-08-20T00:00:00\", \"2010-08-27T00:00:00\", \"2010-09-04T00:00:00\", \"2010-09-07T00:00:00\", \"2010-09-17T00:00:00\", \"2010-09-24T00:00:00\", \"2010-10-09T00:00:00\", \"2010-10-12T00:00:00\", \"2010-10-15T00:00:00\", \"2010-10-22T00:00:00\", \"2010-10-29T00:00:00\", \"2010-11-06T00:00:00\", \"2010-11-19T00:00:00\", \"2010-11-26T00:00:00\", \"2010-12-02T00:00:00\", \"2010-12-03T00:00:00\", \"2010-12-11T00:00:00\", \"2010-12-17T00:00:00\", \"2010-12-24T00:00:00\", \"2010-12-31T00:00:00\", \"2011-01-04T00:00:00\", \"2011-01-07T00:00:00\", \"2011-01-14T00:00:00\", \"2011-01-21T00:00:00\", \"2011-01-28T00:00:00\", \"2011-02-09T00:00:00\", \"2011-02-12T00:00:00\", \"2011-02-18T00:00:00\", \"2011-02-25T00:00:00\", \"2011-03-06T00:00:00\", \"2011-03-18T00:00:00\", \"2011-03-25T00:00:00\", \"2011-04-02T00:00:00\", \"2011-04-03T00:00:00\", \"2011-04-11T00:00:00\", \"2011-04-15T00:00:00\", \"2011-04-22T00:00:00\", \"2011-04-29T00:00:00\", \"2011-05-08T00:00:00\", \"2011-05-13T00:00:00\", \"2011-05-20T00:00:00\", \"2011-05-27T00:00:00\", \"2011-06-05T00:00:00\", \"2011-06-17T00:00:00\", \"2011-06-24T00:00:00\", \"2011-07-01T00:00:00\", \"2011-07-10T00:00:00\", \"2011-07-15T00:00:00\", \"2011-07-22T00:00:00\", \"2011-07-29T00:00:00\", \"2011-08-04T00:00:00\", \"2011-08-07T00:00:00\", \"2011-08-19T00:00:00\", \"2011-08-26T00:00:00\", \"2011-09-09T00:00:00\", \"2011-09-12T00:00:00\", \"2011-09-16T00:00:00\", \"2011-09-23T00:00:00\", \"2011-09-30T00:00:00\", \"2011-10-06T00:00:00\", \"2011-10-14T00:00:00\", \"2011-10-21T00:00:00\", \"2011-10-28T00:00:00\", \"2011-11-02T00:00:00\", \"2011-11-03T00:00:00\", \"2011-11-11T00:00:00\", \"2011-11-18T00:00:00\", \"2011-11-25T00:00:00\", \"2011-12-08T00:00:00\", \"2011-12-16T00:00:00\", \"2011-12-23T00:00:00\", \"2011-12-30T00:00:00\", \"2012-01-06T00:00:00\", \"2012-01-13T00:00:00\", \"2012-01-20T00:00:00\", \"2012-01-27T00:00:00\", \"2012-02-03T00:00:00\", \"2012-02-11T00:00:00\", \"2012-02-17T00:00:00\", \"2012-02-24T00:00:00\", \"2012-03-02T00:00:00\", \"2012-03-08T00:00:00\", \"2012-03-16T00:00:00\", \"2012-03-23T00:00:00\", \"2012-03-30T00:00:00\", \"2012-04-05T00:00:00\", \"2012-04-13T00:00:00\", \"2012-04-20T00:00:00\", \"2012-04-27T00:00:00\", \"2012-05-10T00:00:00\", \"2012-05-18T00:00:00\", \"2012-05-25T00:00:00\", \"2012-06-01T00:00:00\", \"2012-06-04T00:00:00\", \"2012-06-07T00:00:00\", \"2012-06-15T00:00:00\", \"2012-06-22T00:00:00\", \"2012-06-29T00:00:00\", \"2012-07-09T00:00:00\", \"2012-07-12T00:00:00\", \"2012-07-13T00:00:00\", \"2012-07-20T00:00:00\", \"2012-07-27T00:00:00\", \"2012-08-06T00:00:00\", \"2012-08-17T00:00:00\", \"2012-08-24T00:00:00\", \"2012-08-31T00:00:00\", \"2012-09-03T00:00:00\", \"2012-09-11T00:00:00\", \"2012-09-14T00:00:00\", \"2012-09-21T00:00:00\", \"2012-09-28T00:00:00\", \"2012-10-02T00:00:00\", \"2012-10-08T00:00:00\", \"2012-10-19T00:00:00\", \"2012-10-26T00:00:00\", \"2012-11-05T00:00:00\", \"2012-11-16T00:00:00\", \"2012-11-23T00:00:00\", \"2012-11-30T00:00:00\", \"2012-12-10T00:00:00\", \"2012-12-14T00:00:00\", \"2012-12-21T00:00:00\", \"2012-12-28T00:00:00\", \"2013-01-02T00:00:00\", \"2013-01-03T00:00:00\", \"2013-01-18T00:00:00\", \"2013-01-25T00:00:00\", \"2013-02-15T00:00:00\", \"2013-02-22T00:00:00\", \"2013-03-05T00:00:00\", \"2013-03-15T00:00:00\", \"2013-03-22T00:00:00\", \"2013-03-29T00:00:00\", \"2013-04-01T00:00:00\", \"2013-04-19T00:00:00\", \"2013-04-26T00:00:00\", \"2013-05-04T00:00:00\", \"2013-05-07T00:00:00\", \"2013-05-17T00:00:00\", \"2013-05-24T00:00:00\", \"2013-05-31T00:00:00\", \"2013-06-14T00:00:00\", \"2013-06-21T00:00:00\", \"2013-06-28T00:00:00\", \"2013-07-06T00:00:00\", \"2013-07-19T00:00:00\", \"2013-07-26T00:00:00\", \"2013-08-02T00:00:00\", \"2013-08-03T00:00:00\", \"2013-10-05T00:00:00\", \"2013-11-01T00:00:00\", \"2013-12-04T00:00:00\", \"2013-12-07T00:00:00\"], \"y\": [5.287000000000001, 5.435, 5.3260000000000005, 5.892, 5.892, 5.3260000000000005, 5.287000000000001, 5.892, 5.892, 5.435, 5.435, 5.435, 5.435, 5.892, 5.892, 5.287000000000001, 5.435, 5.435, 5.435, 5.3260000000000005, 5.435, 5.435, 5.435, 5.3260000000000005, 5.3260000000000005, 5.3260000000000005, 5.287000000000001, 5.3260000000000005, 5.3260000000000005, 5.3260000000000005, 5.435, 5.3260000000000005, 5.3260000000000005, 5.3260000000000005, 5.3260000000000005, 5.287000000000001, 5.287000000000001, 5.287000000000001, 5.287000000000001, 5.435, 5.287000000000001, 5.287000000000001, 5.892, 5.892, 5.287000000000001, 5.287000000000001, 5.287000000000001, 5.287000000000001, 4.781000000000001, 4.584, 5.114, 5.114, 5.114, 4.584, 4.42, 5.114, 5.114, 4.781000000000001, 5.114, 5.114, 5.114, 5.114, 4.42, 4.781000000000001, 4.781000000000001, 4.781000000000001, 4.584, 4.781000000000001, 4.781000000000001, 4.781000000000001, 4.781000000000001, 4.781000000000001, 4.781000000000001, 5.114, 4.42, 4.584, 4.584, 4.584, 4.781000000000001, 4.584, 4.584, 4.584, 4.584, 4.42, 4.584, 4.584, 4.584, 4.781000000000001, 4.42, 4.42, 4.42, 5.114, 5.114, 4.42, 4.42, 4.42, 4.584, 4.42, 4.42, 4.42, 4.125, 4.261, 4.261, 4.261, 4.261, 3.8789999999999996, 4.261, 4.261, 4.261, 4.077, 4.261, 4.261, 4.261, 4.125, 4.125, 4.125, 4.125, 3.8789999999999996, 4.125, 4.125, 4.261, 4.125, 4.077, 4.125, 4.125, 4.125, 4.077, 3.8789999999999996, 4.077, 4.077, 4.077, 4.125, 4.077, 4.077, 4.077, 4.261, 3.8789999999999996, 4.077, 4.077, 4.077, 4.261, 4.077, 3.8789999999999996, 3.8789999999999996, 4.125, 3.8789999999999996, 3.8789999999999996, 3.8789999999999996, 3.8789999999999996, 3.8789999999999996, 3.8789999999999996, 3.8789999999999996, 3.9210000000000003, 3.9210000000000003, 3.9210000000000003, 3.9210000000000003, 3.9210000000000003, 3.9210000000000003, null, 3.9210000000000003, 3.9210000000000003, 3.9210000000000003, 3.9210000000000003, 3.6839999999999997, 3.6839999999999997, 3.6839999999999997, null, null, null, null, null, null, null, null, null, null, 3.9210000000000003, 3.9210000000000003, null, 3.9210000000000003, 3.6839999999999997, null]}, {\"line\": {\"color\": \"blue\"}, \"name\": \"q25\", \"opacity\": 0.4, \"type\": \"scatter\", \"x\": [\"2010-01-10T00:00:00\", \"2010-02-04T00:00:00\", \"2010-02-07T00:00:00\", \"2010-02-19T00:00:00\", \"2010-02-26T00:00:00\", \"2010-03-09T00:00:00\", \"2010-03-12T00:00:00\", \"2010-03-19T00:00:00\", \"2010-03-26T00:00:00\", \"2010-04-06T00:00:00\", \"2010-04-16T00:00:00\", \"2010-04-23T00:00:00\", \"2010-04-30T00:00:00\", \"2010-05-02T00:00:00\", \"2010-05-03T00:00:00\", \"2010-05-11T00:00:00\", \"2010-05-14T00:00:00\", \"2010-05-21T00:00:00\", \"2010-05-28T00:00:00\", \"2010-06-08T00:00:00\", \"2010-06-18T00:00:00\", \"2010-06-25T00:00:00\", \"2010-07-05T00:00:00\", \"2010-07-16T00:00:00\", \"2010-07-23T00:00:00\", \"2010-07-30T00:00:00\", \"2010-08-10T00:00:00\", \"2010-08-13T00:00:00\", \"2010-08-20T00:00:00\", \"2010-08-27T00:00:00\", \"2010-09-04T00:00:00\", \"2010-09-07T00:00:00\", \"2010-09-17T00:00:00\", \"2010-09-24T00:00:00\", \"2010-10-09T00:00:00\", \"2010-10-12T00:00:00\", \"2010-10-15T00:00:00\", \"2010-10-22T00:00:00\", \"2010-10-29T00:00:00\", \"2010-11-06T00:00:00\", \"2010-11-19T00:00:00\", \"2010-11-26T00:00:00\", \"2010-12-02T00:00:00\", \"2010-12-03T00:00:00\", \"2010-12-11T00:00:00\", \"2010-12-17T00:00:00\", \"2010-12-24T00:00:00\", \"2010-12-31T00:00:00\", \"2011-01-04T00:00:00\", \"2011-01-07T00:00:00\", \"2011-01-14T00:00:00\", \"2011-01-21T00:00:00\", \"2011-01-28T00:00:00\", \"2011-02-09T00:00:00\", \"2011-02-12T00:00:00\", \"2011-02-18T00:00:00\", \"2011-02-25T00:00:00\", \"2011-03-06T00:00:00\", \"2011-03-18T00:00:00\", \"2011-03-25T00:00:00\", \"2011-04-02T00:00:00\", \"2011-04-03T00:00:00\", \"2011-04-11T00:00:00\", \"2011-04-15T00:00:00\", \"2011-04-22T00:00:00\", \"2011-04-29T00:00:00\", \"2011-05-08T00:00:00\", \"2011-05-13T00:00:00\", \"2011-05-20T00:00:00\", \"2011-05-27T00:00:00\", \"2011-06-05T00:00:00\", \"2011-06-17T00:00:00\", \"2011-06-24T00:00:00\", \"2011-07-01T00:00:00\", \"2011-07-10T00:00:00\", \"2011-07-15T00:00:00\", \"2011-07-22T00:00:00\", \"2011-07-29T00:00:00\", \"2011-08-04T00:00:00\", \"2011-08-07T00:00:00\", \"2011-08-19T00:00:00\", \"2011-08-26T00:00:00\", \"2011-09-09T00:00:00\", \"2011-09-12T00:00:00\", \"2011-09-16T00:00:00\", \"2011-09-23T00:00:00\", \"2011-09-30T00:00:00\", \"2011-10-06T00:00:00\", \"2011-10-14T00:00:00\", \"2011-10-21T00:00:00\", \"2011-10-28T00:00:00\", \"2011-11-02T00:00:00\", \"2011-11-03T00:00:00\", \"2011-11-11T00:00:00\", \"2011-11-18T00:00:00\", \"2011-11-25T00:00:00\", \"2011-12-08T00:00:00\", \"2011-12-16T00:00:00\", \"2011-12-23T00:00:00\", \"2011-12-30T00:00:00\", \"2012-01-06T00:00:00\", \"2012-01-13T00:00:00\", \"2012-01-20T00:00:00\", \"2012-01-27T00:00:00\", \"2012-02-03T00:00:00\", \"2012-02-11T00:00:00\", \"2012-02-17T00:00:00\", \"2012-02-24T00:00:00\", \"2012-03-02T00:00:00\", \"2012-03-08T00:00:00\", \"2012-03-16T00:00:00\", \"2012-03-23T00:00:00\", \"2012-03-30T00:00:00\", \"2012-04-05T00:00:00\", \"2012-04-13T00:00:00\", \"2012-04-20T00:00:00\", \"2012-04-27T00:00:00\", \"2012-05-10T00:00:00\", \"2012-05-18T00:00:00\", \"2012-05-25T00:00:00\", \"2012-06-01T00:00:00\", \"2012-06-04T00:00:00\", \"2012-06-07T00:00:00\", \"2012-06-15T00:00:00\", \"2012-06-22T00:00:00\", \"2012-06-29T00:00:00\", \"2012-07-09T00:00:00\", \"2012-07-12T00:00:00\", \"2012-07-13T00:00:00\", \"2012-07-20T00:00:00\", \"2012-07-27T00:00:00\", \"2012-08-06T00:00:00\", \"2012-08-17T00:00:00\", \"2012-08-24T00:00:00\", \"2012-08-31T00:00:00\", \"2012-09-03T00:00:00\", \"2012-09-11T00:00:00\", \"2012-09-14T00:00:00\", \"2012-09-21T00:00:00\", \"2012-09-28T00:00:00\", \"2012-10-02T00:00:00\", \"2012-10-08T00:00:00\", \"2012-10-19T00:00:00\", \"2012-10-26T00:00:00\", \"2012-11-05T00:00:00\", \"2012-11-16T00:00:00\", \"2012-11-23T00:00:00\", \"2012-11-30T00:00:00\", \"2012-12-10T00:00:00\", \"2012-12-14T00:00:00\", \"2012-12-21T00:00:00\", \"2012-12-28T00:00:00\", \"2013-01-02T00:00:00\", \"2013-01-03T00:00:00\", \"2013-01-18T00:00:00\", \"2013-01-25T00:00:00\", \"2013-02-15T00:00:00\", \"2013-02-22T00:00:00\", \"2013-03-05T00:00:00\", \"2013-03-15T00:00:00\", \"2013-03-22T00:00:00\", \"2013-03-29T00:00:00\", \"2013-04-01T00:00:00\", \"2013-04-19T00:00:00\", \"2013-04-26T00:00:00\", \"2013-05-04T00:00:00\", \"2013-05-07T00:00:00\", \"2013-05-17T00:00:00\", \"2013-05-24T00:00:00\", \"2013-05-31T00:00:00\", \"2013-06-14T00:00:00\", \"2013-06-21T00:00:00\", \"2013-06-28T00:00:00\", \"2013-07-06T00:00:00\", \"2013-07-19T00:00:00\", \"2013-07-26T00:00:00\", \"2013-08-02T00:00:00\", \"2013-08-03T00:00:00\", \"2013-10-05T00:00:00\", \"2013-11-01T00:00:00\", \"2013-12-04T00:00:00\", \"2013-12-07T00:00:00\"], \"y\": [7.507999999999999, 7.808, 7.372000000000001, 8.106, 8.106, 7.372000000000001, 7.507999999999999, 8.106, 8.106, 7.808, 7.808, 7.808, 7.808, 8.106, 8.106, 7.507999999999999, 7.808, 7.808, 7.808, 7.372000000000001, 7.808, 7.808, 7.808, 7.372000000000001, 7.372000000000001, 7.372000000000001, 7.507999999999999, 7.372000000000001, 7.372000000000001, 7.372000000000001, 7.808, 7.372000000000001, 7.372000000000001, 7.372000000000001, 7.372000000000001, 7.507999999999999, 7.507999999999999, 7.507999999999999, 7.507999999999999, 7.808, 7.507999999999999, 7.507999999999999, 8.106, 8.106, 7.507999999999999, 7.507999999999999, 7.507999999999999, 7.507999999999999, 7.193, 6.925, 7.343, 7.343, 7.343, 6.925, 6.7589999999999995, 7.343, 7.343, 7.193, 7.343, 7.343, 7.343, 7.343, 6.7589999999999995, 7.193, 7.193, 7.193, 6.925, 7.193, 7.193, 7.193, 7.193, 7.193, 7.193, 7.343, 6.7589999999999995, 6.925, 6.925, 6.925, 7.193, 6.925, 6.925, 6.925, 6.925, 6.7589999999999995, 6.925, 6.925, 6.925, 7.193, 6.7589999999999995, 6.7589999999999995, 6.7589999999999995, 7.343, 7.343, 6.7589999999999995, 6.7589999999999995, 6.7589999999999995, 6.925, 6.7589999999999995, 6.7589999999999995, 6.7589999999999995, 6.547000000000001, 6.5889999999999995, 6.5889999999999995, 6.5889999999999995, 6.5889999999999995, 6.034, 6.5889999999999995, 6.5889999999999995, 6.5889999999999995, 6.334, 6.5889999999999995, 6.5889999999999995, 6.5889999999999995, 6.547000000000001, 6.547000000000001, 6.547000000000001, 6.547000000000001, 6.034, 6.547000000000001, 6.547000000000001, 6.5889999999999995, 6.547000000000001, 6.334, 6.547000000000001, 6.547000000000001, 6.547000000000001, 6.334, 6.034, 6.334, 6.334, 6.334, 6.547000000000001, 6.334, 6.334, 6.334, 6.5889999999999995, 6.034, 6.334, 6.334, 6.334, 6.5889999999999995, 6.334, 6.034, 6.034, 6.547000000000001, 6.034, 6.034, 6.034, 6.034, 6.034, 6.034, 6.034, 5.771, 5.771, 5.771, 5.771, 5.771, 5.771, null, 5.771, 5.771, 5.771, 5.771, 5.638999999999999, 5.638999999999999, 5.638999999999999, null, null, null, null, null, null, null, null, null, null, 5.771, 5.771, null, 5.771, 5.638999999999999, null]}, {\"line\": {\"color\": \"blue\"}, \"name\": \"q50\", \"opacity\": 0.4, \"type\": \"scatter\", \"x\": [\"2010-01-10T00:00:00\", \"2010-02-04T00:00:00\", \"2010-02-07T00:00:00\", \"2010-02-19T00:00:00\", \"2010-02-26T00:00:00\", \"2010-03-09T00:00:00\", \"2010-03-12T00:00:00\", \"2010-03-19T00:00:00\", \"2010-03-26T00:00:00\", \"2010-04-06T00:00:00\", \"2010-04-16T00:00:00\", \"2010-04-23T00:00:00\", \"2010-04-30T00:00:00\", \"2010-05-02T00:00:00\", \"2010-05-03T00:00:00\", \"2010-05-11T00:00:00\", \"2010-05-14T00:00:00\", \"2010-05-21T00:00:00\", \"2010-05-28T00:00:00\", \"2010-06-08T00:00:00\", \"2010-06-18T00:00:00\", \"2010-06-25T00:00:00\", \"2010-07-05T00:00:00\", \"2010-07-16T00:00:00\", \"2010-07-23T00:00:00\", \"2010-07-30T00:00:00\", \"2010-08-10T00:00:00\", \"2010-08-13T00:00:00\", \"2010-08-20T00:00:00\", \"2010-08-27T00:00:00\", \"2010-09-04T00:00:00\", \"2010-09-07T00:00:00\", \"2010-09-17T00:00:00\", \"2010-09-24T00:00:00\", \"2010-10-09T00:00:00\", \"2010-10-12T00:00:00\", \"2010-10-15T00:00:00\", \"2010-10-22T00:00:00\", \"2010-10-29T00:00:00\", \"2010-11-06T00:00:00\", \"2010-11-19T00:00:00\", \"2010-11-26T00:00:00\", \"2010-12-02T00:00:00\", \"2010-12-03T00:00:00\", \"2010-12-11T00:00:00\", \"2010-12-17T00:00:00\", \"2010-12-24T00:00:00\", \"2010-12-31T00:00:00\", \"2011-01-04T00:00:00\", \"2011-01-07T00:00:00\", \"2011-01-14T00:00:00\", \"2011-01-21T00:00:00\", \"2011-01-28T00:00:00\", \"2011-02-09T00:00:00\", \"2011-02-12T00:00:00\", \"2011-02-18T00:00:00\", \"2011-02-25T00:00:00\", \"2011-03-06T00:00:00\", \"2011-03-18T00:00:00\", \"2011-03-25T00:00:00\", \"2011-04-02T00:00:00\", \"2011-04-03T00:00:00\", \"2011-04-11T00:00:00\", \"2011-04-15T00:00:00\", \"2011-04-22T00:00:00\", \"2011-04-29T00:00:00\", \"2011-05-08T00:00:00\", \"2011-05-13T00:00:00\", \"2011-05-20T00:00:00\", \"2011-05-27T00:00:00\", \"2011-06-05T00:00:00\", \"2011-06-17T00:00:00\", \"2011-06-24T00:00:00\", \"2011-07-01T00:00:00\", \"2011-07-10T00:00:00\", \"2011-07-15T00:00:00\", \"2011-07-22T00:00:00\", \"2011-07-29T00:00:00\", \"2011-08-04T00:00:00\", \"2011-08-07T00:00:00\", \"2011-08-19T00:00:00\", \"2011-08-26T00:00:00\", \"2011-09-09T00:00:00\", \"2011-09-12T00:00:00\", \"2011-09-16T00:00:00\", \"2011-09-23T00:00:00\", \"2011-09-30T00:00:00\", \"2011-10-06T00:00:00\", \"2011-10-14T00:00:00\", \"2011-10-21T00:00:00\", \"2011-10-28T00:00:00\", \"2011-11-02T00:00:00\", \"2011-11-03T00:00:00\", \"2011-11-11T00:00:00\", \"2011-11-18T00:00:00\", \"2011-11-25T00:00:00\", \"2011-12-08T00:00:00\", \"2011-12-16T00:00:00\", \"2011-12-23T00:00:00\", \"2011-12-30T00:00:00\", \"2012-01-06T00:00:00\", \"2012-01-13T00:00:00\", \"2012-01-20T00:00:00\", \"2012-01-27T00:00:00\", \"2012-02-03T00:00:00\", \"2012-02-11T00:00:00\", \"2012-02-17T00:00:00\", \"2012-02-24T00:00:00\", \"2012-03-02T00:00:00\", \"2012-03-08T00:00:00\", \"2012-03-16T00:00:00\", \"2012-03-23T00:00:00\", \"2012-03-30T00:00:00\", \"2012-04-05T00:00:00\", \"2012-04-13T00:00:00\", \"2012-04-20T00:00:00\", \"2012-04-27T00:00:00\", \"2012-05-10T00:00:00\", \"2012-05-18T00:00:00\", \"2012-05-25T00:00:00\", \"2012-06-01T00:00:00\", \"2012-06-04T00:00:00\", \"2012-06-07T00:00:00\", \"2012-06-15T00:00:00\", \"2012-06-22T00:00:00\", \"2012-06-29T00:00:00\", \"2012-07-09T00:00:00\", \"2012-07-12T00:00:00\", \"2012-07-13T00:00:00\", \"2012-07-20T00:00:00\", \"2012-07-27T00:00:00\", \"2012-08-06T00:00:00\", \"2012-08-17T00:00:00\", \"2012-08-24T00:00:00\", \"2012-08-31T00:00:00\", \"2012-09-03T00:00:00\", \"2012-09-11T00:00:00\", \"2012-09-14T00:00:00\", \"2012-09-21T00:00:00\", \"2012-09-28T00:00:00\", \"2012-10-02T00:00:00\", \"2012-10-08T00:00:00\", \"2012-10-19T00:00:00\", \"2012-10-26T00:00:00\", \"2012-11-05T00:00:00\", \"2012-11-16T00:00:00\", \"2012-11-23T00:00:00\", \"2012-11-30T00:00:00\", \"2012-12-10T00:00:00\", \"2012-12-14T00:00:00\", \"2012-12-21T00:00:00\", \"2012-12-28T00:00:00\", \"2013-01-02T00:00:00\", \"2013-01-03T00:00:00\", \"2013-01-18T00:00:00\", \"2013-01-25T00:00:00\", \"2013-02-15T00:00:00\", \"2013-02-22T00:00:00\", \"2013-03-05T00:00:00\", \"2013-03-15T00:00:00\", \"2013-03-22T00:00:00\", \"2013-03-29T00:00:00\", \"2013-04-01T00:00:00\", \"2013-04-19T00:00:00\", \"2013-04-26T00:00:00\", \"2013-05-04T00:00:00\", \"2013-05-07T00:00:00\", \"2013-05-17T00:00:00\", \"2013-05-24T00:00:00\", \"2013-05-31T00:00:00\", \"2013-06-14T00:00:00\", \"2013-06-21T00:00:00\", \"2013-06-28T00:00:00\", \"2013-07-06T00:00:00\", \"2013-07-19T00:00:00\", \"2013-07-26T00:00:00\", \"2013-08-02T00:00:00\", \"2013-08-03T00:00:00\", \"2013-10-05T00:00:00\", \"2013-11-01T00:00:00\", \"2013-12-04T00:00:00\", \"2013-12-07T00:00:00\"], \"y\": [8.163, 8.2, 8.099, 8.326, 8.326, 8.099, 8.163, 8.326, 8.326, 8.2, 8.2, 8.2, 8.2, 8.326, 8.326, 8.163, 8.2, 8.2, 8.2, 8.099, 8.2, 8.2, 8.2, 8.099, 8.099, 8.099, 8.163, 8.099, 8.099, 8.099, 8.2, 8.099, 8.099, 8.099, 8.099, 8.163, 8.163, 8.163, 8.163, 8.2, 8.163, 8.163, 8.326, 8.326, 8.163, 8.163, 8.163, 8.163, 7.931, 7.852, 8.027999999999999, 8.027999999999999, 8.027999999999999, 7.852, 7.716, 8.027999999999999, 8.027999999999999, 7.931, 8.027999999999999, 8.027999999999999, 8.027999999999999, 8.027999999999999, 7.716, 7.931, 7.931, 7.931, 7.852, 7.931, 7.931, 7.931, 7.931, 7.931, 7.931, 8.027999999999999, 7.716, 7.852, 7.852, 7.852, 7.931, 7.852, 7.852, 7.852, 7.852, 7.716, 7.852, 7.852, 7.852, 7.931, 7.716, 7.716, 7.716, 8.027999999999999, 8.027999999999999, 7.716, 7.716, 7.716, 7.852, 7.716, 7.716, 7.716, 7.138999999999999, 7.244, 7.244, 7.244, 7.244, 6.895, 7.244, 7.244, 7.244, 7.147, 7.244, 7.244, 7.244, 7.138999999999999, 7.138999999999999, 7.138999999999999, 7.138999999999999, 6.895, 7.138999999999999, 7.138999999999999, 7.244, 7.138999999999999, 7.147, 7.138999999999999, 7.138999999999999, 7.138999999999999, 7.147, 6.895, 7.147, 7.147, 7.147, 7.138999999999999, 7.147, 7.147, 7.147, 7.244, 6.895, 7.147, 7.147, 7.147, 7.244, 7.147, 6.895, 6.895, 7.138999999999999, 6.895, 6.895, 6.895, 6.895, 6.895, 6.895, 6.895, 6.806, 6.806, 6.806, 6.806, 6.806, 6.806, null, 6.806, 6.806, 6.806, 6.806, 6.6979999999999995, 6.6979999999999995, 6.6979999999999995, null, null, null, null, null, null, null, null, null, null, 6.806, 6.806, null, 6.806, 6.6979999999999995, null]}, {\"line\": {\"color\": \"blue\"}, \"name\": \"q75\", \"opacity\": 0.4, \"type\": \"scatter\", \"x\": [\"2010-01-10T00:00:00\", \"2010-02-04T00:00:00\", \"2010-02-07T00:00:00\", \"2010-02-19T00:00:00\", \"2010-02-26T00:00:00\", \"2010-03-09T00:00:00\", \"2010-03-12T00:00:00\", \"2010-03-19T00:00:00\", \"2010-03-26T00:00:00\", \"2010-04-06T00:00:00\", \"2010-04-16T00:00:00\", \"2010-04-23T00:00:00\", \"2010-04-30T00:00:00\", \"2010-05-02T00:00:00\", \"2010-05-03T00:00:00\", \"2010-05-11T00:00:00\", \"2010-05-14T00:00:00\", \"2010-05-21T00:00:00\", \"2010-05-28T00:00:00\", \"2010-06-08T00:00:00\", \"2010-06-18T00:00:00\", \"2010-06-25T00:00:00\", \"2010-07-05T00:00:00\", \"2010-07-16T00:00:00\", \"2010-07-23T00:00:00\", \"2010-07-30T00:00:00\", \"2010-08-10T00:00:00\", \"2010-08-13T00:00:00\", \"2010-08-20T00:00:00\", \"2010-08-27T00:00:00\", \"2010-09-04T00:00:00\", \"2010-09-07T00:00:00\", \"2010-09-17T00:00:00\", \"2010-09-24T00:00:00\", \"2010-10-09T00:00:00\", \"2010-10-12T00:00:00\", \"2010-10-15T00:00:00\", \"2010-10-22T00:00:00\", \"2010-10-29T00:00:00\", \"2010-11-06T00:00:00\", \"2010-11-19T00:00:00\", \"2010-11-26T00:00:00\", \"2010-12-02T00:00:00\", \"2010-12-03T00:00:00\", \"2010-12-11T00:00:00\", \"2010-12-17T00:00:00\", \"2010-12-24T00:00:00\", \"2010-12-31T00:00:00\", \"2011-01-04T00:00:00\", \"2011-01-07T00:00:00\", \"2011-01-14T00:00:00\", \"2011-01-21T00:00:00\", \"2011-01-28T00:00:00\", \"2011-02-09T00:00:00\", \"2011-02-12T00:00:00\", \"2011-02-18T00:00:00\", \"2011-02-25T00:00:00\", \"2011-03-06T00:00:00\", \"2011-03-18T00:00:00\", \"2011-03-25T00:00:00\", \"2011-04-02T00:00:00\", \"2011-04-03T00:00:00\", \"2011-04-11T00:00:00\", \"2011-04-15T00:00:00\", \"2011-04-22T00:00:00\", \"2011-04-29T00:00:00\", \"2011-05-08T00:00:00\", \"2011-05-13T00:00:00\", \"2011-05-20T00:00:00\", \"2011-05-27T00:00:00\", \"2011-06-05T00:00:00\", \"2011-06-17T00:00:00\", \"2011-06-24T00:00:00\", \"2011-07-01T00:00:00\", \"2011-07-10T00:00:00\", \"2011-07-15T00:00:00\", \"2011-07-22T00:00:00\", \"2011-07-29T00:00:00\", \"2011-08-04T00:00:00\", \"2011-08-07T00:00:00\", \"2011-08-19T00:00:00\", \"2011-08-26T00:00:00\", \"2011-09-09T00:00:00\", \"2011-09-12T00:00:00\", \"2011-09-16T00:00:00\", \"2011-09-23T00:00:00\", \"2011-09-30T00:00:00\", \"2011-10-06T00:00:00\", \"2011-10-14T00:00:00\", \"2011-10-21T00:00:00\", \"2011-10-28T00:00:00\", \"2011-11-02T00:00:00\", \"2011-11-03T00:00:00\", \"2011-11-11T00:00:00\", \"2011-11-18T00:00:00\", \"2011-11-25T00:00:00\", \"2011-12-08T00:00:00\", \"2011-12-16T00:00:00\", \"2011-12-23T00:00:00\", \"2011-12-30T00:00:00\", \"2012-01-06T00:00:00\", \"2012-01-13T00:00:00\", \"2012-01-20T00:00:00\", \"2012-01-27T00:00:00\", \"2012-02-03T00:00:00\", \"2012-02-11T00:00:00\", \"2012-02-17T00:00:00\", \"2012-02-24T00:00:00\", \"2012-03-02T00:00:00\", \"2012-03-08T00:00:00\", \"2012-03-16T00:00:00\", \"2012-03-23T00:00:00\", \"2012-03-30T00:00:00\", \"2012-04-05T00:00:00\", \"2012-04-13T00:00:00\", \"2012-04-20T00:00:00\", \"2012-04-27T00:00:00\", \"2012-05-10T00:00:00\", \"2012-05-18T00:00:00\", \"2012-05-25T00:00:00\", \"2012-06-01T00:00:00\", \"2012-06-04T00:00:00\", \"2012-06-07T00:00:00\", \"2012-06-15T00:00:00\", \"2012-06-22T00:00:00\", \"2012-06-29T00:00:00\", \"2012-07-09T00:00:00\", \"2012-07-12T00:00:00\", \"2012-07-13T00:00:00\", \"2012-07-20T00:00:00\", \"2012-07-27T00:00:00\", \"2012-08-06T00:00:00\", \"2012-08-17T00:00:00\", \"2012-08-24T00:00:00\", \"2012-08-31T00:00:00\", \"2012-09-03T00:00:00\", \"2012-09-11T00:00:00\", \"2012-09-14T00:00:00\", \"2012-09-21T00:00:00\", \"2012-09-28T00:00:00\", \"2012-10-02T00:00:00\", \"2012-10-08T00:00:00\", \"2012-10-19T00:00:00\", \"2012-10-26T00:00:00\", \"2012-11-05T00:00:00\", \"2012-11-16T00:00:00\", \"2012-11-23T00:00:00\", \"2012-11-30T00:00:00\", \"2012-12-10T00:00:00\", \"2012-12-14T00:00:00\", \"2012-12-21T00:00:00\", \"2012-12-28T00:00:00\", \"2013-01-02T00:00:00\", \"2013-01-03T00:00:00\", \"2013-01-18T00:00:00\", \"2013-01-25T00:00:00\", \"2013-02-15T00:00:00\", \"2013-02-22T00:00:00\", \"2013-03-05T00:00:00\", \"2013-03-15T00:00:00\", \"2013-03-22T00:00:00\", \"2013-03-29T00:00:00\", \"2013-04-01T00:00:00\", \"2013-04-19T00:00:00\", \"2013-04-26T00:00:00\", \"2013-05-04T00:00:00\", \"2013-05-07T00:00:00\", \"2013-05-17T00:00:00\", \"2013-05-24T00:00:00\", \"2013-05-31T00:00:00\", \"2013-06-14T00:00:00\", \"2013-06-21T00:00:00\", \"2013-06-28T00:00:00\", \"2013-07-06T00:00:00\", \"2013-07-19T00:00:00\", \"2013-07-26T00:00:00\", \"2013-08-02T00:00:00\", \"2013-08-03T00:00:00\", \"2013-10-05T00:00:00\", \"2013-11-01T00:00:00\", \"2013-12-04T00:00:00\", \"2013-12-07T00:00:00\"], \"y\": [9.003, 8.963, 9.017000000000001, 9.014, 9.014, 9.017000000000001, 9.003, 9.014, 9.014, 8.963, 8.963, 8.963, 8.963, 9.014, 9.014, 9.003, 8.963, 8.963, 8.963, 9.017000000000001, 8.963, 8.963, 8.963, 9.017000000000001, 9.017000000000001, 9.017000000000001, 9.003, 9.017000000000001, 9.017000000000001, 9.017000000000001, 8.963, 9.017000000000001, 9.017000000000001, 9.017000000000001, 9.017000000000001, 9.003, 9.003, 9.003, 9.003, 8.963, 9.003, 9.003, 9.014, 9.014, 9.003, 9.003, 9.003, 9.003, 8.521, 8.622, 8.744, 8.744, 8.744, 8.622, 8.471, 8.744, 8.744, 8.521, 8.744, 8.744, 8.744, 8.744, 8.471, 8.521, 8.521, 8.521, 8.622, 8.521, 8.521, 8.521, 8.521, 8.521, 8.521, 8.744, 8.471, 8.622, 8.622, 8.622, 8.521, 8.622, 8.622, 8.622, 8.622, 8.471, 8.622, 8.622, 8.622, 8.521, 8.471, 8.471, 8.471, 8.744, 8.744, 8.471, 8.471, 8.471, 8.622, 8.471, 8.471, 8.471, 8.253, 8.256, 8.256, 8.256, 8.256, 8.0, 8.256, 8.256, 8.256, 8.238999999999999, 8.256, 8.256, 8.256, 8.253, 8.253, 8.253, 8.253, 8.0, 8.253, 8.253, 8.256, 8.253, 8.238999999999999, 8.253, 8.253, 8.253, 8.238999999999999, 8.0, 8.238999999999999, 8.238999999999999, 8.238999999999999, 8.253, 8.238999999999999, 8.238999999999999, 8.238999999999999, 8.256, 8.0, 8.238999999999999, 8.238999999999999, 8.238999999999999, 8.256, 8.238999999999999, 8.0, 8.0, 8.253, 8.0, 8.0, 8.0, 8.0, 8.0, 8.0, 8.0, 8.036, 8.036, 8.036, 8.036, 8.036, 8.036, null, 8.036, 8.036, 8.036, 8.036, 7.806, 7.806, 7.806, null, null, null, null, null, null, null, null, null, null, 8.036, 8.036, null, 8.036, 7.806, null]}, {\"line\": {\"color\": \"red\"}, \"name\": \"Max\", \"opacity\": 0.4, \"type\": \"scatter\", \"x\": [\"2010-01-10T00:00:00\", \"2010-02-04T00:00:00\", \"2010-02-07T00:00:00\", \"2010-02-19T00:00:00\", \"2010-02-26T00:00:00\", \"2010-03-09T00:00:00\", \"2010-03-12T00:00:00\", \"2010-03-19T00:00:00\", \"2010-03-26T00:00:00\", \"2010-04-06T00:00:00\", \"2010-04-16T00:00:00\", \"2010-04-23T00:00:00\", \"2010-04-30T00:00:00\", \"2010-05-02T00:00:00\", \"2010-05-03T00:00:00\", \"2010-05-11T00:00:00\", \"2010-05-14T00:00:00\", \"2010-05-21T00:00:00\", \"2010-05-28T00:00:00\", \"2010-06-08T00:00:00\", \"2010-06-18T00:00:00\", \"2010-06-25T00:00:00\", \"2010-07-05T00:00:00\", \"2010-07-16T00:00:00\", \"2010-07-23T00:00:00\", \"2010-07-30T00:00:00\", \"2010-08-10T00:00:00\", \"2010-08-13T00:00:00\", \"2010-08-20T00:00:00\", \"2010-08-27T00:00:00\", \"2010-09-04T00:00:00\", \"2010-09-07T00:00:00\", \"2010-09-17T00:00:00\", \"2010-09-24T00:00:00\", \"2010-10-09T00:00:00\", \"2010-10-12T00:00:00\", \"2010-10-15T00:00:00\", \"2010-10-22T00:00:00\", \"2010-10-29T00:00:00\", \"2010-11-06T00:00:00\", \"2010-11-19T00:00:00\", \"2010-11-26T00:00:00\", \"2010-12-02T00:00:00\", \"2010-12-03T00:00:00\", \"2010-12-11T00:00:00\", \"2010-12-17T00:00:00\", \"2010-12-24T00:00:00\", \"2010-12-31T00:00:00\", \"2011-01-04T00:00:00\", \"2011-01-07T00:00:00\", \"2011-01-14T00:00:00\", \"2011-01-21T00:00:00\", \"2011-01-28T00:00:00\", \"2011-02-09T00:00:00\", \"2011-02-12T00:00:00\", \"2011-02-18T00:00:00\", \"2011-02-25T00:00:00\", \"2011-03-06T00:00:00\", \"2011-03-18T00:00:00\", \"2011-03-25T00:00:00\", \"2011-04-02T00:00:00\", \"2011-04-03T00:00:00\", \"2011-04-11T00:00:00\", \"2011-04-15T00:00:00\", \"2011-04-22T00:00:00\", \"2011-04-29T00:00:00\", \"2011-05-08T00:00:00\", \"2011-05-13T00:00:00\", \"2011-05-20T00:00:00\", \"2011-05-27T00:00:00\", \"2011-06-05T00:00:00\", \"2011-06-17T00:00:00\", \"2011-06-24T00:00:00\", \"2011-07-01T00:00:00\", \"2011-07-10T00:00:00\", \"2011-07-15T00:00:00\", \"2011-07-22T00:00:00\", \"2011-07-29T00:00:00\", \"2011-08-04T00:00:00\", \"2011-08-07T00:00:00\", \"2011-08-19T00:00:00\", \"2011-08-26T00:00:00\", \"2011-09-09T00:00:00\", \"2011-09-12T00:00:00\", \"2011-09-16T00:00:00\", \"2011-09-23T00:00:00\", \"2011-09-30T00:00:00\", \"2011-10-06T00:00:00\", \"2011-10-14T00:00:00\", \"2011-10-21T00:00:00\", \"2011-10-28T00:00:00\", \"2011-11-02T00:00:00\", \"2011-11-03T00:00:00\", \"2011-11-11T00:00:00\", \"2011-11-18T00:00:00\", \"2011-11-25T00:00:00\", \"2011-12-08T00:00:00\", \"2011-12-16T00:00:00\", \"2011-12-23T00:00:00\", \"2011-12-30T00:00:00\", \"2012-01-06T00:00:00\", \"2012-01-13T00:00:00\", \"2012-01-20T00:00:00\", \"2012-01-27T00:00:00\", \"2012-02-03T00:00:00\", \"2012-02-11T00:00:00\", \"2012-02-17T00:00:00\", \"2012-02-24T00:00:00\", \"2012-03-02T00:00:00\", \"2012-03-08T00:00:00\", \"2012-03-16T00:00:00\", \"2012-03-23T00:00:00\", \"2012-03-30T00:00:00\", \"2012-04-05T00:00:00\", \"2012-04-13T00:00:00\", \"2012-04-20T00:00:00\", \"2012-04-27T00:00:00\", \"2012-05-10T00:00:00\", \"2012-05-18T00:00:00\", \"2012-05-25T00:00:00\", \"2012-06-01T00:00:00\", \"2012-06-04T00:00:00\", \"2012-06-07T00:00:00\", \"2012-06-15T00:00:00\", \"2012-06-22T00:00:00\", \"2012-06-29T00:00:00\", \"2012-07-09T00:00:00\", \"2012-07-12T00:00:00\", \"2012-07-13T00:00:00\", \"2012-07-20T00:00:00\", \"2012-07-27T00:00:00\", \"2012-08-06T00:00:00\", \"2012-08-17T00:00:00\", \"2012-08-24T00:00:00\", \"2012-08-31T00:00:00\", \"2012-09-03T00:00:00\", \"2012-09-11T00:00:00\", \"2012-09-14T00:00:00\", \"2012-09-21T00:00:00\", \"2012-09-28T00:00:00\", \"2012-10-02T00:00:00\", \"2012-10-08T00:00:00\", \"2012-10-19T00:00:00\", \"2012-10-26T00:00:00\", \"2012-11-05T00:00:00\", \"2012-11-16T00:00:00\", \"2012-11-23T00:00:00\", \"2012-11-30T00:00:00\", \"2012-12-10T00:00:00\", \"2012-12-14T00:00:00\", \"2012-12-21T00:00:00\", \"2012-12-28T00:00:00\", \"2013-01-02T00:00:00\", \"2013-01-03T00:00:00\", \"2013-01-18T00:00:00\", \"2013-01-25T00:00:00\", \"2013-02-15T00:00:00\", \"2013-02-22T00:00:00\", \"2013-03-05T00:00:00\", \"2013-03-15T00:00:00\", \"2013-03-22T00:00:00\", \"2013-03-29T00:00:00\", \"2013-04-01T00:00:00\", \"2013-04-19T00:00:00\", \"2013-04-26T00:00:00\", \"2013-05-04T00:00:00\", \"2013-05-07T00:00:00\", \"2013-05-17T00:00:00\", \"2013-05-24T00:00:00\", \"2013-05-31T00:00:00\", \"2013-06-14T00:00:00\", \"2013-06-21T00:00:00\", \"2013-06-28T00:00:00\", \"2013-07-06T00:00:00\", \"2013-07-19T00:00:00\", \"2013-07-26T00:00:00\", \"2013-08-02T00:00:00\", \"2013-08-03T00:00:00\", \"2013-10-05T00:00:00\", \"2013-11-01T00:00:00\", \"2013-12-04T00:00:00\", \"2013-12-07T00:00:00\"], \"y\": [14.312999999999999, 14.099, 14.18, 13.975, 13.975, 14.18, 14.312999999999999, 13.975, 13.975, 14.099, 14.099, 14.099, 14.099, 13.975, 13.975, 14.312999999999999, 14.099, 14.099, 14.099, 14.18, 14.099, 14.099, 14.099, 14.18, 14.18, 14.18, 14.312999999999999, 14.18, 14.18, 14.18, 14.099, 14.18, 14.18, 14.18, 14.18, 14.312999999999999, 14.312999999999999, 14.312999999999999, 14.312999999999999, 14.099, 14.312999999999999, 14.312999999999999, 13.975, 13.975, 14.312999999999999, 14.312999999999999, 14.312999999999999, 14.312999999999999, 13.735999999999999, 13.503, 14.020999999999999, 14.020999999999999, 14.020999999999999, 13.503, 12.89, 14.020999999999999, 14.020999999999999, 13.735999999999999, 14.020999999999999, 14.020999999999999, 14.020999999999999, 14.020999999999999, 12.89, 13.735999999999999, 13.735999999999999, 13.735999999999999, 13.503, 13.735999999999999, 13.735999999999999, 13.735999999999999, 13.735999999999999, 13.735999999999999, 13.735999999999999, 14.020999999999999, 12.89, 13.503, 13.503, 13.503, 13.735999999999999, 13.503, 13.503, 13.503, 13.503, 12.89, 13.503, 13.503, 13.503, 13.735999999999999, 12.89, 12.89, 12.89, 14.020999999999999, 14.020999999999999, 12.89, 12.89, 12.89, 13.503, 12.89, 12.89, 12.89, 11.627, 12.187000000000001, 12.187000000000001, 12.187000000000001, 12.187000000000001, 10.199, 12.187000000000001, 12.187000000000001, 12.187000000000001, 10.925999999999998, 12.187000000000001, 12.187000000000001, 12.187000000000001, 11.627, 11.627, 11.627, 11.627, 10.199, 11.627, 11.627, 12.187000000000001, 11.627, 10.925999999999998, 11.627, 11.627, 11.627, 10.925999999999998, 10.199, 10.925999999999998, 10.925999999999998, 10.925999999999998, 11.627, 10.925999999999998, 10.925999999999998, 10.925999999999998, 12.187000000000001, 10.199, 10.925999999999998, 10.925999999999998, 10.925999999999998, 12.187000000000001, 10.925999999999998, 10.199, 10.199, 11.627, 10.199, 10.199, 10.199, 10.199, 10.199, 10.199, 10.199, 9.91, 9.91, 9.91, 9.91, 9.91, 9.91, null, 9.91, 9.91, 9.91, 9.91, 9.874, 9.874, 9.874, null, null, null, null, null, null, null, null, null, null, 9.91, 9.91, null, 9.91, 9.874, null]}],                        {\"template\": {\"data\": {\"bar\": [{\"error_x\": {\"color\": \"#2a3f5f\"}, \"error_y\": {\"color\": \"#2a3f5f\"}, \"marker\": {\"line\": {\"color\": \"#E5ECF6\", \"width\": 0.5}}, \"type\": \"bar\"}], \"barpolar\": [{\"marker\": {\"line\": {\"color\": \"#E5ECF6\", \"width\": 0.5}}, \"type\": \"barpolar\"}], \"carpet\": [{\"aaxis\": {\"endlinecolor\": \"#2a3f5f\", \"gridcolor\": \"white\", \"linecolor\": \"white\", \"minorgridcolor\": \"white\", \"startlinecolor\": \"#2a3f5f\"}, \"baxis\": {\"endlinecolor\": \"#2a3f5f\", \"gridcolor\": \"white\", \"linecolor\": \"white\", \"minorgridcolor\": \"white\", \"startlinecolor\": \"#2a3f5f\"}, \"type\": \"carpet\"}], \"choropleth\": [{\"colorbar\": {\"outlinewidth\": 0, \"ticks\": \"\"}, \"type\": \"choropleth\"}], \"contour\": [{\"colorbar\": {\"outlinewidth\": 0, \"ticks\": \"\"}, \"colorscale\": [[0.0, \"#0d0887\"], [0.1111111111111111, \"#46039f\"], [0.2222222222222222, \"#7201a8\"], [0.3333333333333333, \"#9c179e\"], [0.4444444444444444, \"#bd3786\"], [0.5555555555555556, \"#d8576b\"], [0.6666666666666666, \"#ed7953\"], [0.7777777777777778, \"#fb9f3a\"], [0.8888888888888888, \"#fdca26\"], [1.0, \"#f0f921\"]], \"type\": \"contour\"}], \"contourcarpet\": [{\"colorbar\": {\"outlinewidth\": 0, \"ticks\": \"\"}, \"type\": \"contourcarpet\"}], \"heatmap\": [{\"colorbar\": {\"outlinewidth\": 0, \"ticks\": \"\"}, \"colorscale\": [[0.0, \"#0d0887\"], [0.1111111111111111, \"#46039f\"], [0.2222222222222222, \"#7201a8\"], [0.3333333333333333, \"#9c179e\"], [0.4444444444444444, \"#bd3786\"], [0.5555555555555556, \"#d8576b\"], [0.6666666666666666, \"#ed7953\"], [0.7777777777777778, \"#fb9f3a\"], [0.8888888888888888, \"#fdca26\"], [1.0, \"#f0f921\"]], \"type\": \"heatmap\"}], \"heatmapgl\": [{\"colorbar\": {\"outlinewidth\": 0, \"ticks\": \"\"}, \"colorscale\": [[0.0, \"#0d0887\"], [0.1111111111111111, \"#46039f\"], [0.2222222222222222, \"#7201a8\"], [0.3333333333333333, \"#9c179e\"], [0.4444444444444444, \"#bd3786\"], [0.5555555555555556, \"#d8576b\"], [0.6666666666666666, \"#ed7953\"], [0.7777777777777778, \"#fb9f3a\"], [0.8888888888888888, \"#fdca26\"], [1.0, \"#f0f921\"]], \"type\": \"heatmapgl\"}], \"histogram\": [{\"marker\": {\"colorbar\": {\"outlinewidth\": 0, \"ticks\": \"\"}}, \"type\": \"histogram\"}], \"histogram2d\": [{\"colorbar\": {\"outlinewidth\": 0, \"ticks\": \"\"}, \"colorscale\": [[0.0, \"#0d0887\"], [0.1111111111111111, \"#46039f\"], [0.2222222222222222, \"#7201a8\"], [0.3333333333333333, \"#9c179e\"], [0.4444444444444444, \"#bd3786\"], [0.5555555555555556, \"#d8576b\"], [0.6666666666666666, \"#ed7953\"], [0.7777777777777778, \"#fb9f3a\"], [0.8888888888888888, \"#fdca26\"], [1.0, \"#f0f921\"]], \"type\": \"histogram2d\"}], \"histogram2dcontour\": [{\"colorbar\": {\"outlinewidth\": 0, \"ticks\": \"\"}, \"colorscale\": [[0.0, \"#0d0887\"], [0.1111111111111111, \"#46039f\"], [0.2222222222222222, \"#7201a8\"], [0.3333333333333333, \"#9c179e\"], [0.4444444444444444, \"#bd3786\"], [0.5555555555555556, \"#d8576b\"], [0.6666666666666666, \"#ed7953\"], [0.7777777777777778, \"#fb9f3a\"], [0.8888888888888888, \"#fdca26\"], [1.0, \"#f0f921\"]], \"type\": \"histogram2dcontour\"}], \"mesh3d\": [{\"colorbar\": {\"outlinewidth\": 0, \"ticks\": \"\"}, \"type\": \"mesh3d\"}], \"parcoords\": [{\"line\": {\"colorbar\": {\"outlinewidth\": 0, \"ticks\": \"\"}}, \"type\": \"parcoords\"}], \"pie\": [{\"automargin\": true, \"type\": \"pie\"}], \"scatter\": [{\"marker\": {\"colorbar\": {\"outlinewidth\": 0, \"ticks\": \"\"}}, \"type\": \"scatter\"}], \"scatter3d\": [{\"line\": {\"colorbar\": {\"outlinewidth\": 0, \"ticks\": \"\"}}, \"marker\": {\"colorbar\": {\"outlinewidth\": 0, \"ticks\": \"\"}}, \"type\": \"scatter3d\"}], \"scattercarpet\": [{\"marker\": {\"colorbar\": {\"outlinewidth\": 0, \"ticks\": \"\"}}, \"type\": \"scattercarpet\"}], \"scattergeo\": [{\"marker\": {\"colorbar\": {\"outlinewidth\": 0, \"ticks\": \"\"}}, \"type\": \"scattergeo\"}], \"scattergl\": [{\"marker\": {\"colorbar\": {\"outlinewidth\": 0, \"ticks\": \"\"}}, \"type\": \"scattergl\"}], \"scattermapbox\": [{\"marker\": {\"colorbar\": {\"outlinewidth\": 0, \"ticks\": \"\"}}, \"type\": \"scattermapbox\"}], \"scatterpolar\": [{\"marker\": {\"colorbar\": {\"outlinewidth\": 0, \"ticks\": \"\"}}, \"type\": \"scatterpolar\"}], \"scatterpolargl\": [{\"marker\": {\"colorbar\": {\"outlinewidth\": 0, \"ticks\": \"\"}}, \"type\": \"scatterpolargl\"}], \"scatterternary\": [{\"marker\": {\"colorbar\": {\"outlinewidth\": 0, \"ticks\": \"\"}}, \"type\": \"scatterternary\"}], \"surface\": [{\"colorbar\": {\"outlinewidth\": 0, \"ticks\": \"\"}, \"colorscale\": [[0.0, \"#0d0887\"], [0.1111111111111111, \"#46039f\"], [0.2222222222222222, \"#7201a8\"], [0.3333333333333333, \"#9c179e\"], [0.4444444444444444, \"#bd3786\"], [0.5555555555555556, \"#d8576b\"], [0.6666666666666666, \"#ed7953\"], [0.7777777777777778, \"#fb9f3a\"], [0.8888888888888888, \"#fdca26\"], [1.0, \"#f0f921\"]], \"type\": \"surface\"}], \"table\": [{\"cells\": {\"fill\": {\"color\": \"#EBF0F8\"}, \"line\": {\"color\": \"white\"}}, \"header\": {\"fill\": {\"color\": \"#C8D4E3\"}, \"line\": {\"color\": \"white\"}}, \"type\": \"table\"}]}, \"layout\": {\"annotationdefaults\": {\"arrowcolor\": \"#2a3f5f\", \"arrowhead\": 0, \"arrowwidth\": 1}, \"autotypenumbers\": \"strict\", \"coloraxis\": {\"colorbar\": {\"outlinewidth\": 0, \"ticks\": \"\"}}, \"colorscale\": {\"diverging\": [[0, \"#8e0152\"], [0.1, \"#c51b7d\"], [0.2, \"#de77ae\"], [0.3, \"#f1b6da\"], [0.4, \"#fde0ef\"], [0.5, \"#f7f7f7\"], [0.6, \"#e6f5d0\"], [0.7, \"#b8e186\"], [0.8, \"#7fbc41\"], [0.9, \"#4d9221\"], [1, \"#276419\"]], \"sequential\": [[0.0, \"#0d0887\"], [0.1111111111111111, \"#46039f\"], [0.2222222222222222, \"#7201a8\"], [0.3333333333333333, \"#9c179e\"], [0.4444444444444444, \"#bd3786\"], [0.5555555555555556, \"#d8576b\"], [0.6666666666666666, \"#ed7953\"], [0.7777777777777778, \"#fb9f3a\"], [0.8888888888888888, \"#fdca26\"], [1.0, \"#f0f921\"]], \"sequentialminus\": [[0.0, \"#0d0887\"], [0.1111111111111111, \"#46039f\"], [0.2222222222222222, \"#7201a8\"], [0.3333333333333333, \"#9c179e\"], [0.4444444444444444, \"#bd3786\"], [0.5555555555555556, \"#d8576b\"], [0.6666666666666666, \"#ed7953\"], [0.7777777777777778, \"#fb9f3a\"], [0.8888888888888888, \"#fdca26\"], [1.0, \"#f0f921\"]]}, \"colorway\": [\"#636efa\", \"#EF553B\", \"#00cc96\", \"#ab63fa\", \"#FFA15A\", \"#19d3f3\", \"#FF6692\", \"#B6E880\", \"#FF97FF\", \"#FECB52\"], \"font\": {\"color\": \"#2a3f5f\"}, \"geo\": {\"bgcolor\": \"white\", \"lakecolor\": \"white\", \"landcolor\": \"#E5ECF6\", \"showlakes\": true, \"showland\": true, \"subunitcolor\": \"white\"}, \"hoverlabel\": {\"align\": \"left\"}, \"hovermode\": \"closest\", \"mapbox\": {\"style\": \"light\"}, \"paper_bgcolor\": \"white\", \"plot_bgcolor\": \"#E5ECF6\", \"polar\": {\"angularaxis\": {\"gridcolor\": \"white\", \"linecolor\": \"white\", \"ticks\": \"\"}, \"bgcolor\": \"#E5ECF6\", \"radialaxis\": {\"gridcolor\": \"white\", \"linecolor\": \"white\", \"ticks\": \"\"}}, \"scene\": {\"xaxis\": {\"backgroundcolor\": \"#E5ECF6\", \"gridcolor\": \"white\", \"gridwidth\": 2, \"linecolor\": \"white\", \"showbackground\": true, \"ticks\": \"\", \"zerolinecolor\": \"white\"}, \"yaxis\": {\"backgroundcolor\": \"#E5ECF6\", \"gridcolor\": \"white\", \"gridwidth\": 2, \"linecolor\": \"white\", \"showbackground\": true, \"ticks\": \"\", \"zerolinecolor\": \"white\"}, \"zaxis\": {\"backgroundcolor\": \"#E5ECF6\", \"gridcolor\": \"white\", \"gridwidth\": 2, \"linecolor\": \"white\", \"showbackground\": true, \"ticks\": \"\", \"zerolinecolor\": \"white\"}}, \"shapedefaults\": {\"line\": {\"color\": \"#2a3f5f\"}}, \"ternary\": {\"aaxis\": {\"gridcolor\": \"white\", \"linecolor\": \"white\", \"ticks\": \"\"}, \"baxis\": {\"gridcolor\": \"white\", \"linecolor\": \"white\", \"ticks\": \"\"}, \"bgcolor\": \"#E5ECF6\", \"caxis\": {\"gridcolor\": \"white\", \"linecolor\": \"white\", \"ticks\": \"\"}}, \"title\": {\"x\": 0.05}, \"xaxis\": {\"automargin\": true, \"gridcolor\": \"white\", \"linecolor\": \"white\", \"ticks\": \"\", \"title\": {\"standoff\": 15}, \"zerolinecolor\": \"white\", \"zerolinewidth\": 2}, \"yaxis\": {\"automargin\": true, \"gridcolor\": \"white\", \"linecolor\": \"white\", \"ticks\": \"\", \"title\": {\"standoff\": 15}, \"zerolinecolor\": \"white\", \"zerolinewidth\": 2}}}, \"title\": {\"text\": \"Min, Mean, and Max of Unemployment\"}},                        {\"responsive\": true}                    ).then(function(){\n",
       "                            \n",
       "var gd = document.getElementById('7f6f3fb4-2c43-4b84-b9e9-ed07947a6b2a');\n",
       "var x = new MutationObserver(function (mutations, observer) {{\n",
       "        var display = window.getComputedStyle(gd).display;\n",
       "        if (!display || display === 'none') {{\n",
       "            console.log([gd, 'removed!']);\n",
       "            Plotly.purge(gd);\n",
       "            observer.disconnect();\n",
       "        }}\n",
       "}});\n",
       "\n",
       "// Listen for the removal of the full notebook cells\n",
       "var notebookContainer = gd.closest('#notebook-container');\n",
       "if (notebookContainer) {{\n",
       "    x.observe(notebookContainer, {childList: true});\n",
       "}}\n",
       "\n",
       "// Listen for the clearing of the current output cell\n",
       "var outputEl = gd.closest('.output');\n",
       "if (outputEl) {{\n",
       "    x.observe(outputEl, {childList: true});\n",
       "}}\n",
       "\n",
       "                        })                };                });            </script>        </div>"
      ]
     },
     "metadata": {},
     "output_type": "display_data"
    }
   ],
   "source": [
    "plot_min_max_avg (features_agg3, 'Unemployment')"
   ]
  },
  {
   "cell_type": "code",
   "execution_count": 20,
   "metadata": {},
   "outputs": [
    {
     "data": {
      "application/vnd.plotly.v1+json": {
       "config": {
        "linkText": "Export to plot.ly",
        "plotlyServerURL": "https://plot.ly",
        "showLink": false
       },
       "data": [
        {
         "line": {
          "color": "green"
         },
         "name": "Min",
         "opacity": 0.4,
         "type": "scatter",
         "x": [
          "2010-01-10T00:00:00",
          "2010-02-04T00:00:00",
          "2010-02-07T00:00:00",
          "2010-02-19T00:00:00",
          "2010-02-26T00:00:00",
          "2010-03-09T00:00:00",
          "2010-03-12T00:00:00",
          "2010-03-19T00:00:00",
          "2010-03-26T00:00:00",
          "2010-04-06T00:00:00",
          "2010-04-16T00:00:00",
          "2010-04-23T00:00:00",
          "2010-04-30T00:00:00",
          "2010-05-02T00:00:00",
          "2010-05-03T00:00:00",
          "2010-05-11T00:00:00",
          "2010-05-14T00:00:00",
          "2010-05-21T00:00:00",
          "2010-05-28T00:00:00",
          "2010-06-08T00:00:00",
          "2010-06-18T00:00:00",
          "2010-06-25T00:00:00",
          "2010-07-05T00:00:00",
          "2010-07-16T00:00:00",
          "2010-07-23T00:00:00",
          "2010-07-30T00:00:00",
          "2010-08-10T00:00:00",
          "2010-08-13T00:00:00",
          "2010-08-20T00:00:00",
          "2010-08-27T00:00:00",
          "2010-09-04T00:00:00",
          "2010-09-07T00:00:00",
          "2010-09-17T00:00:00",
          "2010-09-24T00:00:00",
          "2010-10-09T00:00:00",
          "2010-10-12T00:00:00",
          "2010-10-15T00:00:00",
          "2010-10-22T00:00:00",
          "2010-10-29T00:00:00",
          "2010-11-06T00:00:00",
          "2010-11-19T00:00:00",
          "2010-11-26T00:00:00",
          "2010-12-02T00:00:00",
          "2010-12-03T00:00:00",
          "2010-12-11T00:00:00",
          "2010-12-17T00:00:00",
          "2010-12-24T00:00:00",
          "2010-12-31T00:00:00",
          "2011-01-04T00:00:00",
          "2011-01-07T00:00:00",
          "2011-01-14T00:00:00",
          "2011-01-21T00:00:00",
          "2011-01-28T00:00:00",
          "2011-02-09T00:00:00",
          "2011-02-12T00:00:00",
          "2011-02-18T00:00:00",
          "2011-02-25T00:00:00",
          "2011-03-06T00:00:00",
          "2011-03-18T00:00:00",
          "2011-03-25T00:00:00",
          "2011-04-02T00:00:00",
          "2011-04-03T00:00:00",
          "2011-04-11T00:00:00",
          "2011-04-15T00:00:00",
          "2011-04-22T00:00:00",
          "2011-04-29T00:00:00",
          "2011-05-08T00:00:00",
          "2011-05-13T00:00:00",
          "2011-05-20T00:00:00",
          "2011-05-27T00:00:00",
          "2011-06-05T00:00:00",
          "2011-06-17T00:00:00",
          "2011-06-24T00:00:00",
          "2011-07-01T00:00:00",
          "2011-07-10T00:00:00",
          "2011-07-15T00:00:00",
          "2011-07-22T00:00:00",
          "2011-07-29T00:00:00",
          "2011-08-04T00:00:00",
          "2011-08-07T00:00:00",
          "2011-08-19T00:00:00",
          "2011-08-26T00:00:00",
          "2011-09-09T00:00:00",
          "2011-09-12T00:00:00",
          "2011-09-16T00:00:00",
          "2011-09-23T00:00:00",
          "2011-09-30T00:00:00",
          "2011-10-06T00:00:00",
          "2011-10-14T00:00:00",
          "2011-10-21T00:00:00",
          "2011-10-28T00:00:00",
          "2011-11-02T00:00:00",
          "2011-11-03T00:00:00",
          "2011-11-11T00:00:00",
          "2011-11-18T00:00:00",
          "2011-11-25T00:00:00",
          "2011-12-08T00:00:00",
          "2011-12-16T00:00:00",
          "2011-12-23T00:00:00",
          "2011-12-30T00:00:00",
          "2012-01-06T00:00:00",
          "2012-01-13T00:00:00",
          "2012-01-20T00:00:00",
          "2012-01-27T00:00:00",
          "2012-02-03T00:00:00",
          "2012-02-17T00:00:00",
          "2012-02-24T00:00:00",
          "2012-03-02T00:00:00",
          "2012-03-08T00:00:00",
          "2012-03-16T00:00:00",
          "2012-03-23T00:00:00",
          "2012-03-30T00:00:00",
          "2012-04-05T00:00:00",
          "2012-04-13T00:00:00",
          "2012-04-20T00:00:00",
          "2012-04-27T00:00:00",
          "2012-05-10T00:00:00",
          "2012-05-18T00:00:00",
          "2012-05-25T00:00:00",
          "2012-06-01T00:00:00",
          "2012-06-04T00:00:00",
          "2012-06-07T00:00:00",
          "2012-06-15T00:00:00",
          "2012-06-22T00:00:00",
          "2012-06-29T00:00:00",
          "2012-07-09T00:00:00",
          "2012-07-13T00:00:00",
          "2012-07-20T00:00:00",
          "2012-07-27T00:00:00",
          "2012-08-06T00:00:00",
          "2012-08-17T00:00:00",
          "2012-08-24T00:00:00",
          "2012-08-31T00:00:00",
          "2012-09-03T00:00:00",
          "2012-09-14T00:00:00",
          "2012-09-21T00:00:00",
          "2012-09-28T00:00:00",
          "2012-10-02T00:00:00",
          "2012-10-08T00:00:00",
          "2012-10-19T00:00:00",
          "2012-10-26T00:00:00",
          "2012-11-05T00:00:00",
          "2012-12-10T00:00:00"
         ],
         "y": [
          -103,
          -224,
          -175.54,
          -863,
          -1750,
          -173.84,
          -705,
          -198,
          -548.14,
          -90,
          -19,
          -30,
          -698,
          -59,
          -798,
          -100,
          -18.78,
          -39,
          -89,
          -100,
          -38,
          -65,
          -58,
          -59,
          -179,
          -1098,
          -4988.94,
          -4.97,
          -498,
          -450,
          -118,
          -78,
          -898,
          -498,
          -598,
          -496,
          -1098,
          -28.96,
          -409,
          -24,
          -1098,
          -159,
          -50.97,
          -698,
          -21.96,
          -372.9,
          -147,
          -698,
          -399,
          -778.5,
          -48.94,
          -64.08,
          -400,
          -3924,
          -45.25,
          -15.54,
          -97,
          -45.84,
          -189,
          -1321.48,
          -219,
          -60,
          -179,
          -499,
          -60,
          -82,
          -798,
          -92,
          -198,
          -68,
          -41.42,
          -43.48,
          -594,
          -224,
          -298,
          -590.04,
          -84,
          -59.12,
          -298,
          -198,
          -198,
          -83.57,
          -486.27,
          -159,
          -31,
          -465.08,
          -1008.96,
          -55,
          -498,
          -598,
          -124,
          -500,
          -515,
          -29.76,
          -101.26,
          -169.98,
          -98,
          -498,
          -649,
          -798,
          -88.08,
          -106.34,
          -370.12,
          -35.76,
          -259,
          -198,
          -149.88,
          -109,
          -99.87,
          -224,
          -259,
          -78.56,
          -69.56,
          -199.95,
          -298,
          -224,
          -289,
          -379,
          -124,
          -109,
          -63.32,
          -182.26,
          -224,
          -34.92,
          -71.74,
          -176.4,
          -454.42,
          -168,
          -107.72,
          -78,
          -419.28,
          -771.9,
          -158,
          -1699,
          -400,
          -244.17,
          -389,
          -498,
          -139.65,
          -22.92,
          -178.15,
          -548,
          -199
         ]
        },
        {
         "line": {
          "color": "blue"
         },
         "name": "q25",
         "opacity": 0.4,
         "type": "scatter",
         "x": [
          "2010-01-10T00:00:00",
          "2010-02-04T00:00:00",
          "2010-02-07T00:00:00",
          "2010-02-19T00:00:00",
          "2010-02-26T00:00:00",
          "2010-03-09T00:00:00",
          "2010-03-12T00:00:00",
          "2010-03-19T00:00:00",
          "2010-03-26T00:00:00",
          "2010-04-06T00:00:00",
          "2010-04-16T00:00:00",
          "2010-04-23T00:00:00",
          "2010-04-30T00:00:00",
          "2010-05-02T00:00:00",
          "2010-05-03T00:00:00",
          "2010-05-11T00:00:00",
          "2010-05-14T00:00:00",
          "2010-05-21T00:00:00",
          "2010-05-28T00:00:00",
          "2010-06-08T00:00:00",
          "2010-06-18T00:00:00",
          "2010-06-25T00:00:00",
          "2010-07-05T00:00:00",
          "2010-07-16T00:00:00",
          "2010-07-23T00:00:00",
          "2010-07-30T00:00:00",
          "2010-08-10T00:00:00",
          "2010-08-13T00:00:00",
          "2010-08-20T00:00:00",
          "2010-08-27T00:00:00",
          "2010-09-04T00:00:00",
          "2010-09-07T00:00:00",
          "2010-09-17T00:00:00",
          "2010-09-24T00:00:00",
          "2010-10-09T00:00:00",
          "2010-10-12T00:00:00",
          "2010-10-15T00:00:00",
          "2010-10-22T00:00:00",
          "2010-10-29T00:00:00",
          "2010-11-06T00:00:00",
          "2010-11-19T00:00:00",
          "2010-11-26T00:00:00",
          "2010-12-02T00:00:00",
          "2010-12-03T00:00:00",
          "2010-12-11T00:00:00",
          "2010-12-17T00:00:00",
          "2010-12-24T00:00:00",
          "2010-12-31T00:00:00",
          "2011-01-04T00:00:00",
          "2011-01-07T00:00:00",
          "2011-01-14T00:00:00",
          "2011-01-21T00:00:00",
          "2011-01-28T00:00:00",
          "2011-02-09T00:00:00",
          "2011-02-12T00:00:00",
          "2011-02-18T00:00:00",
          "2011-02-25T00:00:00",
          "2011-03-06T00:00:00",
          "2011-03-18T00:00:00",
          "2011-03-25T00:00:00",
          "2011-04-02T00:00:00",
          "2011-04-03T00:00:00",
          "2011-04-11T00:00:00",
          "2011-04-15T00:00:00",
          "2011-04-22T00:00:00",
          "2011-04-29T00:00:00",
          "2011-05-08T00:00:00",
          "2011-05-13T00:00:00",
          "2011-05-20T00:00:00",
          "2011-05-27T00:00:00",
          "2011-06-05T00:00:00",
          "2011-06-17T00:00:00",
          "2011-06-24T00:00:00",
          "2011-07-01T00:00:00",
          "2011-07-10T00:00:00",
          "2011-07-15T00:00:00",
          "2011-07-22T00:00:00",
          "2011-07-29T00:00:00",
          "2011-08-04T00:00:00",
          "2011-08-07T00:00:00",
          "2011-08-19T00:00:00",
          "2011-08-26T00:00:00",
          "2011-09-09T00:00:00",
          "2011-09-12T00:00:00",
          "2011-09-16T00:00:00",
          "2011-09-23T00:00:00",
          "2011-09-30T00:00:00",
          "2011-10-06T00:00:00",
          "2011-10-14T00:00:00",
          "2011-10-21T00:00:00",
          "2011-10-28T00:00:00",
          "2011-11-02T00:00:00",
          "2011-11-03T00:00:00",
          "2011-11-11T00:00:00",
          "2011-11-18T00:00:00",
          "2011-11-25T00:00:00",
          "2011-12-08T00:00:00",
          "2011-12-16T00:00:00",
          "2011-12-23T00:00:00",
          "2011-12-30T00:00:00",
          "2012-01-06T00:00:00",
          "2012-01-13T00:00:00",
          "2012-01-20T00:00:00",
          "2012-01-27T00:00:00",
          "2012-02-03T00:00:00",
          "2012-02-17T00:00:00",
          "2012-02-24T00:00:00",
          "2012-03-02T00:00:00",
          "2012-03-08T00:00:00",
          "2012-03-16T00:00:00",
          "2012-03-23T00:00:00",
          "2012-03-30T00:00:00",
          "2012-04-05T00:00:00",
          "2012-04-13T00:00:00",
          "2012-04-20T00:00:00",
          "2012-04-27T00:00:00",
          "2012-05-10T00:00:00",
          "2012-05-18T00:00:00",
          "2012-05-25T00:00:00",
          "2012-06-01T00:00:00",
          "2012-06-04T00:00:00",
          "2012-06-07T00:00:00",
          "2012-06-15T00:00:00",
          "2012-06-22T00:00:00",
          "2012-06-29T00:00:00",
          "2012-07-09T00:00:00",
          "2012-07-13T00:00:00",
          "2012-07-20T00:00:00",
          "2012-07-27T00:00:00",
          "2012-08-06T00:00:00",
          "2012-08-17T00:00:00",
          "2012-08-24T00:00:00",
          "2012-08-31T00:00:00",
          "2012-09-03T00:00:00",
          "2012-09-14T00:00:00",
          "2012-09-21T00:00:00",
          "2012-09-28T00:00:00",
          "2012-10-02T00:00:00",
          "2012-10-08T00:00:00",
          "2012-10-19T00:00:00",
          "2012-10-26T00:00:00",
          "2012-11-05T00:00:00",
          "2012-12-10T00:00:00"
         ],
         "y": [
          2057.205,
          2443.37,
          2315.38,
          2193.34,
          1847.595,
          2078.5075,
          2376.41,
          2234.29,
          2210.15,
          2407.8125,
          1998.845,
          2052.94,
          2025.81,
          2105.535,
          1953.0875,
          2283.2349999999997,
          2279.2525,
          2248.63,
          2403.09,
          2286.8450000000003,
          2348.29,
          2354.9,
          2312.4175,
          2142.36,
          2013.515,
          2103.85,
          2255.3925,
          2249.8199999999997,
          2258.74,
          2292.425,
          2297.2650000000003,
          2275.69,
          2085.31,
          2057.305,
          2054.26,
          2617.585,
          2147.2825000000003,
          2082.7349999999997,
          2201.3999999999996,
          2385.04,
          2311.31,
          2835.0775,
          2151.895,
          2075.3450000000003,
          2254.89,
          2873.1099999999997,
          3588.065,
          1868.33,
          1981.67,
          2120.255,
          1605.0900000000001,
          1676.74,
          1622.705,
          1855.57,
          2178.59,
          2293.81,
          1951.8575,
          2206.3025000000002,
          2045,
          2012.0875,
          1972.1675,
          1969.9325000000001,
          2230.71,
          2141.19,
          2258.435,
          2022.7575,
          1991.24,
          2151.695,
          2060.8975,
          2069.84,
          2066.4900000000002,
          2169.43,
          2147.6499999999996,
          1831.7450000000001,
          2162.5575,
          2059.1825,
          1939.5425,
          1883.73,
          2170,
          2070.71,
          1889.55,
          1961.93,
          1906.4125,
          2487.4775,
          1988.0425,
          1970.36,
          1989.32,
          2251.745,
          2147.56,
          2102.795,
          2164.8675,
          2069.31,
          1911.835,
          2078.6,
          1970.64,
          2372.67,
          1930.4275,
          2698.72,
          3168.34,
          2007.1100000000001,
          2150.49,
          1582.385,
          1558.8899999999999,
          1528.335,
          1807.56,
          2139.635,
          1866.58,
          1728.87,
          1806.7849999999999,
          2105.0575,
          2068.62,
          2118.15,
          1960.2150000000001,
          2055.35,
          1836.38,
          1837.0425,
          2090.0575,
          2179.14,
          2155.44,
          1693.14,
          2241.89,
          2050.58,
          2130.8925,
          2128.11,
          2021.08,
          1855.8925,
          1905.4025,
          1892.37,
          1866.29,
          2085.3975,
          1854.1799999999998,
          1945.06,
          1918.07,
          1942.625,
          1805.87,
          2025.035,
          1987.5774999999999,
          2006.76,
          1846.66,
          2095.31,
          2114.365,
          2074.15,
          2018.9050000000002
         ]
        },
        {
         "line": {
          "color": "blue"
         },
         "name": "q50",
         "opacity": 0.4,
         "type": "scatter",
         "x": [
          "2010-01-10T00:00:00",
          "2010-02-04T00:00:00",
          "2010-02-07T00:00:00",
          "2010-02-19T00:00:00",
          "2010-02-26T00:00:00",
          "2010-03-09T00:00:00",
          "2010-03-12T00:00:00",
          "2010-03-19T00:00:00",
          "2010-03-26T00:00:00",
          "2010-04-06T00:00:00",
          "2010-04-16T00:00:00",
          "2010-04-23T00:00:00",
          "2010-04-30T00:00:00",
          "2010-05-02T00:00:00",
          "2010-05-03T00:00:00",
          "2010-05-11T00:00:00",
          "2010-05-14T00:00:00",
          "2010-05-21T00:00:00",
          "2010-05-28T00:00:00",
          "2010-06-08T00:00:00",
          "2010-06-18T00:00:00",
          "2010-06-25T00:00:00",
          "2010-07-05T00:00:00",
          "2010-07-16T00:00:00",
          "2010-07-23T00:00:00",
          "2010-07-30T00:00:00",
          "2010-08-10T00:00:00",
          "2010-08-13T00:00:00",
          "2010-08-20T00:00:00",
          "2010-08-27T00:00:00",
          "2010-09-04T00:00:00",
          "2010-09-07T00:00:00",
          "2010-09-17T00:00:00",
          "2010-09-24T00:00:00",
          "2010-10-09T00:00:00",
          "2010-10-12T00:00:00",
          "2010-10-15T00:00:00",
          "2010-10-22T00:00:00",
          "2010-10-29T00:00:00",
          "2010-11-06T00:00:00",
          "2010-11-19T00:00:00",
          "2010-11-26T00:00:00",
          "2010-12-02T00:00:00",
          "2010-12-03T00:00:00",
          "2010-12-11T00:00:00",
          "2010-12-17T00:00:00",
          "2010-12-24T00:00:00",
          "2010-12-31T00:00:00",
          "2011-01-04T00:00:00",
          "2011-01-07T00:00:00",
          "2011-01-14T00:00:00",
          "2011-01-21T00:00:00",
          "2011-01-28T00:00:00",
          "2011-02-09T00:00:00",
          "2011-02-12T00:00:00",
          "2011-02-18T00:00:00",
          "2011-02-25T00:00:00",
          "2011-03-06T00:00:00",
          "2011-03-18T00:00:00",
          "2011-03-25T00:00:00",
          "2011-04-02T00:00:00",
          "2011-04-03T00:00:00",
          "2011-04-11T00:00:00",
          "2011-04-15T00:00:00",
          "2011-04-22T00:00:00",
          "2011-04-29T00:00:00",
          "2011-05-08T00:00:00",
          "2011-05-13T00:00:00",
          "2011-05-20T00:00:00",
          "2011-05-27T00:00:00",
          "2011-06-05T00:00:00",
          "2011-06-17T00:00:00",
          "2011-06-24T00:00:00",
          "2011-07-01T00:00:00",
          "2011-07-10T00:00:00",
          "2011-07-15T00:00:00",
          "2011-07-22T00:00:00",
          "2011-07-29T00:00:00",
          "2011-08-04T00:00:00",
          "2011-08-07T00:00:00",
          "2011-08-19T00:00:00",
          "2011-08-26T00:00:00",
          "2011-09-09T00:00:00",
          "2011-09-12T00:00:00",
          "2011-09-16T00:00:00",
          "2011-09-23T00:00:00",
          "2011-09-30T00:00:00",
          "2011-10-06T00:00:00",
          "2011-10-14T00:00:00",
          "2011-10-21T00:00:00",
          "2011-10-28T00:00:00",
          "2011-11-02T00:00:00",
          "2011-11-03T00:00:00",
          "2011-11-11T00:00:00",
          "2011-11-18T00:00:00",
          "2011-11-25T00:00:00",
          "2011-12-08T00:00:00",
          "2011-12-16T00:00:00",
          "2011-12-23T00:00:00",
          "2011-12-30T00:00:00",
          "2012-01-06T00:00:00",
          "2012-01-13T00:00:00",
          "2012-01-20T00:00:00",
          "2012-01-27T00:00:00",
          "2012-02-03T00:00:00",
          "2012-02-17T00:00:00",
          "2012-02-24T00:00:00",
          "2012-03-02T00:00:00",
          "2012-03-08T00:00:00",
          "2012-03-16T00:00:00",
          "2012-03-23T00:00:00",
          "2012-03-30T00:00:00",
          "2012-04-05T00:00:00",
          "2012-04-13T00:00:00",
          "2012-04-20T00:00:00",
          "2012-04-27T00:00:00",
          "2012-05-10T00:00:00",
          "2012-05-18T00:00:00",
          "2012-05-25T00:00:00",
          "2012-06-01T00:00:00",
          "2012-06-04T00:00:00",
          "2012-06-07T00:00:00",
          "2012-06-15T00:00:00",
          "2012-06-22T00:00:00",
          "2012-06-29T00:00:00",
          "2012-07-09T00:00:00",
          "2012-07-13T00:00:00",
          "2012-07-20T00:00:00",
          "2012-07-27T00:00:00",
          "2012-08-06T00:00:00",
          "2012-08-17T00:00:00",
          "2012-08-24T00:00:00",
          "2012-08-31T00:00:00",
          "2012-09-03T00:00:00",
          "2012-09-14T00:00:00",
          "2012-09-21T00:00:00",
          "2012-09-28T00:00:00",
          "2012-10-02T00:00:00",
          "2012-10-08T00:00:00",
          "2012-10-19T00:00:00",
          "2012-10-26T00:00:00",
          "2012-11-05T00:00:00",
          "2012-12-10T00:00:00"
         ],
         "y": [
          6940.74,
          8658.89,
          8117.29,
          8411.25,
          7235.8,
          7812.045,
          7961.35,
          7915.6,
          7345.13,
          8596.01,
          7506.59,
          7644.98,
          7384.9,
          7904.69,
          7717.975,
          7686.1900000000005,
          8022.9349999999995,
          7847.14,
          8306.6,
          8491.78,
          8127.63,
          8067.45,
          8467.06,
          7828.5,
          7575.59,
          7757.76,
          7487.84,
          8247.205,
          8330.14,
          8103.87,
          8006.27,
          7867.66,
          7202.98,
          7005.195,
          7403.87,
          9251.665,
          7180.21,
          7225.555,
          7415.065,
          8114.88,
          7711.74,
          10328.435000000001,
          8365.095000000001,
          7529.549999999999,
          7703.4349999999995,
          10614.75,
          13832.275000000001,
          6462.16,
          7048.01,
          7754,
          5961.71,
          6139.3150000000005,
          6227.98,
          7330,
          7656.425,
          8480.37,
          7239.48,
          8002.51,
          7578.27,
          7208.514999999999,
          7312.115,
          7633.16,
          7657.955,
          7424.55,
          8167.83,
          7437.785,
          7901.07,
          7446.6,
          7318.74,
          7591.59,
          7608.145,
          7741.32,
          7536.110000000001,
          6384.99,
          7476.68,
          7249.96,
          7376.995,
          7208.87,
          7390.14,
          7588.98,
          7597.58,
          7607.51,
          7491.4349999999995,
          8732.805,
          6995.875,
          7008.99,
          6781.34,
          7908.375,
          7102.2,
          7388.6849999999995,
          7407.65,
          7871.475,
          7104.21,
          7540.39,
          7404.92,
          9632.31,
          7526.45,
          9836.4,
          12685.69,
          7562.11,
          7692.24,
          5914.860000000001,
          6146.31,
          5785.84,
          7342.105,
          8019.52,
          7360.36,
          6859.65,
          7495.32,
          7754.67,
          7487.2,
          7428.85,
          7414.78,
          7507.13,
          7096.46,
          6951.264999999999,
          7486.844999999999,
          7672.99,
          7801.2,
          6586.37,
          8538.09,
          7786.09,
          7695.42,
          7526.74,
          7500.8,
          7595.875,
          7318.299999999999,
          7405.375,
          7196.4,
          7839.4349999999995,
          7632.73,
          7688.21,
          7816.360000000001,
          7458.955,
          6835,
          7010.09,
          6957.120000000001,
          7707.04,
          7557.5,
          7374.7,
          7547.23,
          7533.42,
          7324.96
         ]
        },
        {
         "line": {
          "color": "blue"
         },
         "name": "q75",
         "opacity": 0.4,
         "type": "scatter",
         "x": [
          "2010-01-10T00:00:00",
          "2010-02-04T00:00:00",
          "2010-02-07T00:00:00",
          "2010-02-19T00:00:00",
          "2010-02-26T00:00:00",
          "2010-03-09T00:00:00",
          "2010-03-12T00:00:00",
          "2010-03-19T00:00:00",
          "2010-03-26T00:00:00",
          "2010-04-06T00:00:00",
          "2010-04-16T00:00:00",
          "2010-04-23T00:00:00",
          "2010-04-30T00:00:00",
          "2010-05-02T00:00:00",
          "2010-05-03T00:00:00",
          "2010-05-11T00:00:00",
          "2010-05-14T00:00:00",
          "2010-05-21T00:00:00",
          "2010-05-28T00:00:00",
          "2010-06-08T00:00:00",
          "2010-06-18T00:00:00",
          "2010-06-25T00:00:00",
          "2010-07-05T00:00:00",
          "2010-07-16T00:00:00",
          "2010-07-23T00:00:00",
          "2010-07-30T00:00:00",
          "2010-08-10T00:00:00",
          "2010-08-13T00:00:00",
          "2010-08-20T00:00:00",
          "2010-08-27T00:00:00",
          "2010-09-04T00:00:00",
          "2010-09-07T00:00:00",
          "2010-09-17T00:00:00",
          "2010-09-24T00:00:00",
          "2010-10-09T00:00:00",
          "2010-10-12T00:00:00",
          "2010-10-15T00:00:00",
          "2010-10-22T00:00:00",
          "2010-10-29T00:00:00",
          "2010-11-06T00:00:00",
          "2010-11-19T00:00:00",
          "2010-11-26T00:00:00",
          "2010-12-02T00:00:00",
          "2010-12-03T00:00:00",
          "2010-12-11T00:00:00",
          "2010-12-17T00:00:00",
          "2010-12-24T00:00:00",
          "2010-12-31T00:00:00",
          "2011-01-04T00:00:00",
          "2011-01-07T00:00:00",
          "2011-01-14T00:00:00",
          "2011-01-21T00:00:00",
          "2011-01-28T00:00:00",
          "2011-02-09T00:00:00",
          "2011-02-12T00:00:00",
          "2011-02-18T00:00:00",
          "2011-02-25T00:00:00",
          "2011-03-06T00:00:00",
          "2011-03-18T00:00:00",
          "2011-03-25T00:00:00",
          "2011-04-02T00:00:00",
          "2011-04-03T00:00:00",
          "2011-04-11T00:00:00",
          "2011-04-15T00:00:00",
          "2011-04-22T00:00:00",
          "2011-04-29T00:00:00",
          "2011-05-08T00:00:00",
          "2011-05-13T00:00:00",
          "2011-05-20T00:00:00",
          "2011-05-27T00:00:00",
          "2011-06-05T00:00:00",
          "2011-06-17T00:00:00",
          "2011-06-24T00:00:00",
          "2011-07-01T00:00:00",
          "2011-07-10T00:00:00",
          "2011-07-15T00:00:00",
          "2011-07-22T00:00:00",
          "2011-07-29T00:00:00",
          "2011-08-04T00:00:00",
          "2011-08-07T00:00:00",
          "2011-08-19T00:00:00",
          "2011-08-26T00:00:00",
          "2011-09-09T00:00:00",
          "2011-09-12T00:00:00",
          "2011-09-16T00:00:00",
          "2011-09-23T00:00:00",
          "2011-09-30T00:00:00",
          "2011-10-06T00:00:00",
          "2011-10-14T00:00:00",
          "2011-10-21T00:00:00",
          "2011-10-28T00:00:00",
          "2011-11-02T00:00:00",
          "2011-11-03T00:00:00",
          "2011-11-11T00:00:00",
          "2011-11-18T00:00:00",
          "2011-11-25T00:00:00",
          "2011-12-08T00:00:00",
          "2011-12-16T00:00:00",
          "2011-12-23T00:00:00",
          "2011-12-30T00:00:00",
          "2012-01-06T00:00:00",
          "2012-01-13T00:00:00",
          "2012-01-20T00:00:00",
          "2012-01-27T00:00:00",
          "2012-02-03T00:00:00",
          "2012-02-17T00:00:00",
          "2012-02-24T00:00:00",
          "2012-03-02T00:00:00",
          "2012-03-08T00:00:00",
          "2012-03-16T00:00:00",
          "2012-03-23T00:00:00",
          "2012-03-30T00:00:00",
          "2012-04-05T00:00:00",
          "2012-04-13T00:00:00",
          "2012-04-20T00:00:00",
          "2012-04-27T00:00:00",
          "2012-05-10T00:00:00",
          "2012-05-18T00:00:00",
          "2012-05-25T00:00:00",
          "2012-06-01T00:00:00",
          "2012-06-04T00:00:00",
          "2012-06-07T00:00:00",
          "2012-06-15T00:00:00",
          "2012-06-22T00:00:00",
          "2012-06-29T00:00:00",
          "2012-07-09T00:00:00",
          "2012-07-13T00:00:00",
          "2012-07-20T00:00:00",
          "2012-07-27T00:00:00",
          "2012-08-06T00:00:00",
          "2012-08-17T00:00:00",
          "2012-08-24T00:00:00",
          "2012-08-31T00:00:00",
          "2012-09-03T00:00:00",
          "2012-09-14T00:00:00",
          "2012-09-21T00:00:00",
          "2012-09-28T00:00:00",
          "2012-10-02T00:00:00",
          "2012-10-08T00:00:00",
          "2012-10-19T00:00:00",
          "2012-10-26T00:00:00",
          "2012-11-05T00:00:00",
          "2012-12-10T00:00:00"
         ],
         "y": [
          18007.85,
          21876.58,
          22019.25,
          20576.03,
          18104.72,
          20651.6125,
          21618.27,
          19202.195,
          18987.66,
          22973.3825,
          19140.125,
          19061.79,
          18756.53,
          20471.27,
          19412.0225,
          20091.824999999997,
          19617.82,
          19765.735,
          21411.37,
          21520.1925,
          21464.48,
          21195.42,
          20903.8275,
          21053.58,
          20265.345,
          20013.01,
          19183.0275,
          20603.65,
          20826.91,
          20141.385000000002,
          20694.815000000002,
          21677.265,
          18057.74,
          17565.627500000002,
          19225.46,
          24009.4725,
          18425.445,
          18702.025,
          19137.807500000003,
          21499.54,
          19758.065,
          26249.15,
          20847.829999999998,
          19292.3125,
          19753.2325,
          27001.22,
          35240.0725,
          18236.385000000002,
          18416.235,
          21389.989999999998,
          16585.1925,
          16684.56,
          16510.9,
          19567.6,
          21211.4225,
          21159.77,
          18590.4325,
          22160.442499999997,
          18856.47,
          18342.8875,
          19221.1525,
          19424.575,
          21067.412500000002,
          19489.96,
          21100.87,
          19232.4225,
          21143.58,
          19397.995000000003,
          19038.7675,
          20403.775,
          19887.015,
          21015.78,
          20853.6575,
          17506.795,
          19868.09,
          20226.17,
          20508.665,
          19615.48,
          19612.96,
          21534.72,
          19877.34,
          20496.165,
          19586.254999999997,
          24093.4925,
          18169.1325,
          17662.62,
          17611.055,
          21248.5375,
          18912.760000000002,
          19321.690000000002,
          19862.715,
          19957.87,
          18642.975,
          20658.06,
          19291.39,
          25441.93,
          20193.059999999998,
          25915.61,
          33001.2,
          21179.300000000003,
          21639.155,
          16838.64,
          16946.835,
          16152.6375,
          19380.7275,
          21082.690000000002,
          19324.93,
          18392.68,
          20715.91,
          19913.55,
          19487.1,
          19690.21,
          19973.16,
          19907.84,
          19475.14,
          18698.642499999998,
          19595.8025,
          20293.95,
          21502.08,
          18072.24,
          22852.765,
          23215.61,
          21502.9575,
          21447.02,
          21137.62,
          20447.1475,
          20396.9175,
          20376.730000000003,
          19536.36,
          21494.4125,
          20058.989999999998,
          20555.0125,
          20298.2675,
          19616.0525,
          18298.54,
          18315.47,
          18328.5475,
          20829.45,
          20400.88,
          19304.9575,
          20052.96,
          20411.18,
          19434.2525
         ]
        },
        {
         "line": {
          "color": "red"
         },
         "name": "Max",
         "opacity": 0.4,
         "type": "scatter",
         "x": [
          "2010-01-10T00:00:00",
          "2010-02-04T00:00:00",
          "2010-02-07T00:00:00",
          "2010-02-19T00:00:00",
          "2010-02-26T00:00:00",
          "2010-03-09T00:00:00",
          "2010-03-12T00:00:00",
          "2010-03-19T00:00:00",
          "2010-03-26T00:00:00",
          "2010-04-06T00:00:00",
          "2010-04-16T00:00:00",
          "2010-04-23T00:00:00",
          "2010-04-30T00:00:00",
          "2010-05-02T00:00:00",
          "2010-05-03T00:00:00",
          "2010-05-11T00:00:00",
          "2010-05-14T00:00:00",
          "2010-05-21T00:00:00",
          "2010-05-28T00:00:00",
          "2010-06-08T00:00:00",
          "2010-06-18T00:00:00",
          "2010-06-25T00:00:00",
          "2010-07-05T00:00:00",
          "2010-07-16T00:00:00",
          "2010-07-23T00:00:00",
          "2010-07-30T00:00:00",
          "2010-08-10T00:00:00",
          "2010-08-13T00:00:00",
          "2010-08-20T00:00:00",
          "2010-08-27T00:00:00",
          "2010-09-04T00:00:00",
          "2010-09-07T00:00:00",
          "2010-09-17T00:00:00",
          "2010-09-24T00:00:00",
          "2010-10-09T00:00:00",
          "2010-10-12T00:00:00",
          "2010-10-15T00:00:00",
          "2010-10-22T00:00:00",
          "2010-10-29T00:00:00",
          "2010-11-06T00:00:00",
          "2010-11-19T00:00:00",
          "2010-11-26T00:00:00",
          "2010-12-02T00:00:00",
          "2010-12-03T00:00:00",
          "2010-12-11T00:00:00",
          "2010-12-17T00:00:00",
          "2010-12-24T00:00:00",
          "2010-12-31T00:00:00",
          "2011-01-04T00:00:00",
          "2011-01-07T00:00:00",
          "2011-01-14T00:00:00",
          "2011-01-21T00:00:00",
          "2011-01-28T00:00:00",
          "2011-02-09T00:00:00",
          "2011-02-12T00:00:00",
          "2011-02-18T00:00:00",
          "2011-02-25T00:00:00",
          "2011-03-06T00:00:00",
          "2011-03-18T00:00:00",
          "2011-03-25T00:00:00",
          "2011-04-02T00:00:00",
          "2011-04-03T00:00:00",
          "2011-04-11T00:00:00",
          "2011-04-15T00:00:00",
          "2011-04-22T00:00:00",
          "2011-04-29T00:00:00",
          "2011-05-08T00:00:00",
          "2011-05-13T00:00:00",
          "2011-05-20T00:00:00",
          "2011-05-27T00:00:00",
          "2011-06-05T00:00:00",
          "2011-06-17T00:00:00",
          "2011-06-24T00:00:00",
          "2011-07-01T00:00:00",
          "2011-07-10T00:00:00",
          "2011-07-15T00:00:00",
          "2011-07-22T00:00:00",
          "2011-07-29T00:00:00",
          "2011-08-04T00:00:00",
          "2011-08-07T00:00:00",
          "2011-08-19T00:00:00",
          "2011-08-26T00:00:00",
          "2011-09-09T00:00:00",
          "2011-09-12T00:00:00",
          "2011-09-16T00:00:00",
          "2011-09-23T00:00:00",
          "2011-09-30T00:00:00",
          "2011-10-06T00:00:00",
          "2011-10-14T00:00:00",
          "2011-10-21T00:00:00",
          "2011-10-28T00:00:00",
          "2011-11-02T00:00:00",
          "2011-11-03T00:00:00",
          "2011-11-11T00:00:00",
          "2011-11-18T00:00:00",
          "2011-11-25T00:00:00",
          "2011-12-08T00:00:00",
          "2011-12-16T00:00:00",
          "2011-12-23T00:00:00",
          "2011-12-30T00:00:00",
          "2012-01-06T00:00:00",
          "2012-01-13T00:00:00",
          "2012-01-20T00:00:00",
          "2012-01-27T00:00:00",
          "2012-02-03T00:00:00",
          "2012-02-17T00:00:00",
          "2012-02-24T00:00:00",
          "2012-03-02T00:00:00",
          "2012-03-08T00:00:00",
          "2012-03-16T00:00:00",
          "2012-03-23T00:00:00",
          "2012-03-30T00:00:00",
          "2012-04-05T00:00:00",
          "2012-04-13T00:00:00",
          "2012-04-20T00:00:00",
          "2012-04-27T00:00:00",
          "2012-05-10T00:00:00",
          "2012-05-18T00:00:00",
          "2012-05-25T00:00:00",
          "2012-06-01T00:00:00",
          "2012-06-04T00:00:00",
          "2012-06-07T00:00:00",
          "2012-06-15T00:00:00",
          "2012-06-22T00:00:00",
          "2012-06-29T00:00:00",
          "2012-07-09T00:00:00",
          "2012-07-13T00:00:00",
          "2012-07-20T00:00:00",
          "2012-07-27T00:00:00",
          "2012-08-06T00:00:00",
          "2012-08-17T00:00:00",
          "2012-08-24T00:00:00",
          "2012-08-31T00:00:00",
          "2012-09-03T00:00:00",
          "2012-09-14T00:00:00",
          "2012-09-21T00:00:00",
          "2012-09-28T00:00:00",
          "2012-10-02T00:00:00",
          "2012-10-08T00:00:00",
          "2012-10-19T00:00:00",
          "2012-10-26T00:00:00",
          "2012-11-05T00:00:00",
          "2012-12-10T00:00:00"
         ],
         "y": [
          174219.51,
          203457.42,
          198349.17,
          192282.19,
          205250.96,
          198704.92,
          218559.54,
          178028.58,
          167512.67,
          190128.43,
          184591.99,
          183147.38,
          177014.37,
          293966.05,
          214383.07,
          206935.29,
          177116.48,
          183182.96,
          187738.85,
          204695.13,
          188045.88,
          178621.33,
          206160.36,
          177803.19,
          168341.28,
          168187.32,
          210596.66,
          181729.63,
          180468.24,
          175412.46,
          180584.36,
          191981.99,
          179946.34,
          170830.69,
          205314.67,
          221013.44,
          182166.26,
          180585.77,
          176155.17,
          194723.71,
          205829.42,
          693099.36,
          202622.42,
          197070.21,
          200451.31,
          268789.69,
          406988.63,
          147532.16,
          175473.67,
          175468.71,
          190728.6,
          173771.66,
          161663.64,
          164320.09,
          172338.47,
          207773.4,
          205507.71,
          162995.08,
          178875.27,
          172111.54,
          207824.62,
          200367.18,
          208504.83,
          175531.22,
          191840.95,
          144127.68,
          197416.29,
          165095.96,
          180525.39,
          171545.23,
          196628.33,
          177156.22,
          166873.16,
          198789.07,
          221834.28,
          169013.07,
          163241.85,
          158816.24,
          206017.23,
          188688.12,
          171553.94,
          241120,
          214448.96,
          227088.13,
          177437.5,
          178288.71,
          172057.5,
          190737.26,
          187911.15,
          181127.71,
          183447.07,
          222651.02,
          191167.3,
          206465.15,
          204812.37,
          649770.18,
          174877.08,
          210877.54,
          341308,
          156431.46,
          165598.92,
          197649.89,
          185683.25,
          169990.21,
          190545.48,
          190137.86,
          184077.26,
          198551.21,
          171598.2,
          185618.81,
          165498.72,
          171498.91,
          200789.85,
          170989.18,
          181183.91,
          169755.19,
          192860.85,
          173004.56,
          180251.98,
          206871.52,
          224917.94,
          185215.02,
          183228.69,
          170131.9,
          169858.42,
          190579.72,
          191882.2,
          179823.4,
          160703.97,
          206575.9,
          182031.93,
          168512.87,
          169994.15,
          213636.03,
          186759.11,
          179575.44,
          169014,
          233140.32,
          194032.48,
          184451.36,
          183483.92,
          194034.68,
          192455.74
         ]
        }
       ],
       "layout": {
        "template": {
         "data": {
          "bar": [
           {
            "error_x": {
             "color": "#2a3f5f"
            },
            "error_y": {
             "color": "#2a3f5f"
            },
            "marker": {
             "line": {
              "color": "#E5ECF6",
              "width": 0.5
             }
            },
            "type": "bar"
           }
          ],
          "barpolar": [
           {
            "marker": {
             "line": {
              "color": "#E5ECF6",
              "width": 0.5
             }
            },
            "type": "barpolar"
           }
          ],
          "carpet": [
           {
            "aaxis": {
             "endlinecolor": "#2a3f5f",
             "gridcolor": "white",
             "linecolor": "white",
             "minorgridcolor": "white",
             "startlinecolor": "#2a3f5f"
            },
            "baxis": {
             "endlinecolor": "#2a3f5f",
             "gridcolor": "white",
             "linecolor": "white",
             "minorgridcolor": "white",
             "startlinecolor": "#2a3f5f"
            },
            "type": "carpet"
           }
          ],
          "choropleth": [
           {
            "colorbar": {
             "outlinewidth": 0,
             "ticks": ""
            },
            "type": "choropleth"
           }
          ],
          "contour": [
           {
            "colorbar": {
             "outlinewidth": 0,
             "ticks": ""
            },
            "colorscale": [
             [
              0,
              "#0d0887"
             ],
             [
              0.1111111111111111,
              "#46039f"
             ],
             [
              0.2222222222222222,
              "#7201a8"
             ],
             [
              0.3333333333333333,
              "#9c179e"
             ],
             [
              0.4444444444444444,
              "#bd3786"
             ],
             [
              0.5555555555555556,
              "#d8576b"
             ],
             [
              0.6666666666666666,
              "#ed7953"
             ],
             [
              0.7777777777777778,
              "#fb9f3a"
             ],
             [
              0.8888888888888888,
              "#fdca26"
             ],
             [
              1,
              "#f0f921"
             ]
            ],
            "type": "contour"
           }
          ],
          "contourcarpet": [
           {
            "colorbar": {
             "outlinewidth": 0,
             "ticks": ""
            },
            "type": "contourcarpet"
           }
          ],
          "heatmap": [
           {
            "colorbar": {
             "outlinewidth": 0,
             "ticks": ""
            },
            "colorscale": [
             [
              0,
              "#0d0887"
             ],
             [
              0.1111111111111111,
              "#46039f"
             ],
             [
              0.2222222222222222,
              "#7201a8"
             ],
             [
              0.3333333333333333,
              "#9c179e"
             ],
             [
              0.4444444444444444,
              "#bd3786"
             ],
             [
              0.5555555555555556,
              "#d8576b"
             ],
             [
              0.6666666666666666,
              "#ed7953"
             ],
             [
              0.7777777777777778,
              "#fb9f3a"
             ],
             [
              0.8888888888888888,
              "#fdca26"
             ],
             [
              1,
              "#f0f921"
             ]
            ],
            "type": "heatmap"
           }
          ],
          "heatmapgl": [
           {
            "colorbar": {
             "outlinewidth": 0,
             "ticks": ""
            },
            "colorscale": [
             [
              0,
              "#0d0887"
             ],
             [
              0.1111111111111111,
              "#46039f"
             ],
             [
              0.2222222222222222,
              "#7201a8"
             ],
             [
              0.3333333333333333,
              "#9c179e"
             ],
             [
              0.4444444444444444,
              "#bd3786"
             ],
             [
              0.5555555555555556,
              "#d8576b"
             ],
             [
              0.6666666666666666,
              "#ed7953"
             ],
             [
              0.7777777777777778,
              "#fb9f3a"
             ],
             [
              0.8888888888888888,
              "#fdca26"
             ],
             [
              1,
              "#f0f921"
             ]
            ],
            "type": "heatmapgl"
           }
          ],
          "histogram": [
           {
            "marker": {
             "colorbar": {
              "outlinewidth": 0,
              "ticks": ""
             }
            },
            "type": "histogram"
           }
          ],
          "histogram2d": [
           {
            "colorbar": {
             "outlinewidth": 0,
             "ticks": ""
            },
            "colorscale": [
             [
              0,
              "#0d0887"
             ],
             [
              0.1111111111111111,
              "#46039f"
             ],
             [
              0.2222222222222222,
              "#7201a8"
             ],
             [
              0.3333333333333333,
              "#9c179e"
             ],
             [
              0.4444444444444444,
              "#bd3786"
             ],
             [
              0.5555555555555556,
              "#d8576b"
             ],
             [
              0.6666666666666666,
              "#ed7953"
             ],
             [
              0.7777777777777778,
              "#fb9f3a"
             ],
             [
              0.8888888888888888,
              "#fdca26"
             ],
             [
              1,
              "#f0f921"
             ]
            ],
            "type": "histogram2d"
           }
          ],
          "histogram2dcontour": [
           {
            "colorbar": {
             "outlinewidth": 0,
             "ticks": ""
            },
            "colorscale": [
             [
              0,
              "#0d0887"
             ],
             [
              0.1111111111111111,
              "#46039f"
             ],
             [
              0.2222222222222222,
              "#7201a8"
             ],
             [
              0.3333333333333333,
              "#9c179e"
             ],
             [
              0.4444444444444444,
              "#bd3786"
             ],
             [
              0.5555555555555556,
              "#d8576b"
             ],
             [
              0.6666666666666666,
              "#ed7953"
             ],
             [
              0.7777777777777778,
              "#fb9f3a"
             ],
             [
              0.8888888888888888,
              "#fdca26"
             ],
             [
              1,
              "#f0f921"
             ]
            ],
            "type": "histogram2dcontour"
           }
          ],
          "mesh3d": [
           {
            "colorbar": {
             "outlinewidth": 0,
             "ticks": ""
            },
            "type": "mesh3d"
           }
          ],
          "parcoords": [
           {
            "line": {
             "colorbar": {
              "outlinewidth": 0,
              "ticks": ""
             }
            },
            "type": "parcoords"
           }
          ],
          "pie": [
           {
            "automargin": true,
            "type": "pie"
           }
          ],
          "scatter": [
           {
            "marker": {
             "colorbar": {
              "outlinewidth": 0,
              "ticks": ""
             }
            },
            "type": "scatter"
           }
          ],
          "scatter3d": [
           {
            "line": {
             "colorbar": {
              "outlinewidth": 0,
              "ticks": ""
             }
            },
            "marker": {
             "colorbar": {
              "outlinewidth": 0,
              "ticks": ""
             }
            },
            "type": "scatter3d"
           }
          ],
          "scattercarpet": [
           {
            "marker": {
             "colorbar": {
              "outlinewidth": 0,
              "ticks": ""
             }
            },
            "type": "scattercarpet"
           }
          ],
          "scattergeo": [
           {
            "marker": {
             "colorbar": {
              "outlinewidth": 0,
              "ticks": ""
             }
            },
            "type": "scattergeo"
           }
          ],
          "scattergl": [
           {
            "marker": {
             "colorbar": {
              "outlinewidth": 0,
              "ticks": ""
             }
            },
            "type": "scattergl"
           }
          ],
          "scattermapbox": [
           {
            "marker": {
             "colorbar": {
              "outlinewidth": 0,
              "ticks": ""
             }
            },
            "type": "scattermapbox"
           }
          ],
          "scatterpolar": [
           {
            "marker": {
             "colorbar": {
              "outlinewidth": 0,
              "ticks": ""
             }
            },
            "type": "scatterpolar"
           }
          ],
          "scatterpolargl": [
           {
            "marker": {
             "colorbar": {
              "outlinewidth": 0,
              "ticks": ""
             }
            },
            "type": "scatterpolargl"
           }
          ],
          "scatterternary": [
           {
            "marker": {
             "colorbar": {
              "outlinewidth": 0,
              "ticks": ""
             }
            },
            "type": "scatterternary"
           }
          ],
          "surface": [
           {
            "colorbar": {
             "outlinewidth": 0,
             "ticks": ""
            },
            "colorscale": [
             [
              0,
              "#0d0887"
             ],
             [
              0.1111111111111111,
              "#46039f"
             ],
             [
              0.2222222222222222,
              "#7201a8"
             ],
             [
              0.3333333333333333,
              "#9c179e"
             ],
             [
              0.4444444444444444,
              "#bd3786"
             ],
             [
              0.5555555555555556,
              "#d8576b"
             ],
             [
              0.6666666666666666,
              "#ed7953"
             ],
             [
              0.7777777777777778,
              "#fb9f3a"
             ],
             [
              0.8888888888888888,
              "#fdca26"
             ],
             [
              1,
              "#f0f921"
             ]
            ],
            "type": "surface"
           }
          ],
          "table": [
           {
            "cells": {
             "fill": {
              "color": "#EBF0F8"
             },
             "line": {
              "color": "white"
             }
            },
            "header": {
             "fill": {
              "color": "#C8D4E3"
             },
             "line": {
              "color": "white"
             }
            },
            "type": "table"
           }
          ]
         },
         "layout": {
          "annotationdefaults": {
           "arrowcolor": "#2a3f5f",
           "arrowhead": 0,
           "arrowwidth": 1
          },
          "autotypenumbers": "strict",
          "coloraxis": {
           "colorbar": {
            "outlinewidth": 0,
            "ticks": ""
           }
          },
          "colorscale": {
           "diverging": [
            [
             0,
             "#8e0152"
            ],
            [
             0.1,
             "#c51b7d"
            ],
            [
             0.2,
             "#de77ae"
            ],
            [
             0.3,
             "#f1b6da"
            ],
            [
             0.4,
             "#fde0ef"
            ],
            [
             0.5,
             "#f7f7f7"
            ],
            [
             0.6,
             "#e6f5d0"
            ],
            [
             0.7,
             "#b8e186"
            ],
            [
             0.8,
             "#7fbc41"
            ],
            [
             0.9,
             "#4d9221"
            ],
            [
             1,
             "#276419"
            ]
           ],
           "sequential": [
            [
             0,
             "#0d0887"
            ],
            [
             0.1111111111111111,
             "#46039f"
            ],
            [
             0.2222222222222222,
             "#7201a8"
            ],
            [
             0.3333333333333333,
             "#9c179e"
            ],
            [
             0.4444444444444444,
             "#bd3786"
            ],
            [
             0.5555555555555556,
             "#d8576b"
            ],
            [
             0.6666666666666666,
             "#ed7953"
            ],
            [
             0.7777777777777778,
             "#fb9f3a"
            ],
            [
             0.8888888888888888,
             "#fdca26"
            ],
            [
             1,
             "#f0f921"
            ]
           ],
           "sequentialminus": [
            [
             0,
             "#0d0887"
            ],
            [
             0.1111111111111111,
             "#46039f"
            ],
            [
             0.2222222222222222,
             "#7201a8"
            ],
            [
             0.3333333333333333,
             "#9c179e"
            ],
            [
             0.4444444444444444,
             "#bd3786"
            ],
            [
             0.5555555555555556,
             "#d8576b"
            ],
            [
             0.6666666666666666,
             "#ed7953"
            ],
            [
             0.7777777777777778,
             "#fb9f3a"
            ],
            [
             0.8888888888888888,
             "#fdca26"
            ],
            [
             1,
             "#f0f921"
            ]
           ]
          },
          "colorway": [
           "#636efa",
           "#EF553B",
           "#00cc96",
           "#ab63fa",
           "#FFA15A",
           "#19d3f3",
           "#FF6692",
           "#B6E880",
           "#FF97FF",
           "#FECB52"
          ],
          "font": {
           "color": "#2a3f5f"
          },
          "geo": {
           "bgcolor": "white",
           "lakecolor": "white",
           "landcolor": "#E5ECF6",
           "showlakes": true,
           "showland": true,
           "subunitcolor": "white"
          },
          "hoverlabel": {
           "align": "left"
          },
          "hovermode": "closest",
          "mapbox": {
           "style": "light"
          },
          "paper_bgcolor": "white",
          "plot_bgcolor": "#E5ECF6",
          "polar": {
           "angularaxis": {
            "gridcolor": "white",
            "linecolor": "white",
            "ticks": ""
           },
           "bgcolor": "#E5ECF6",
           "radialaxis": {
            "gridcolor": "white",
            "linecolor": "white",
            "ticks": ""
           }
          },
          "scene": {
           "xaxis": {
            "backgroundcolor": "#E5ECF6",
            "gridcolor": "white",
            "gridwidth": 2,
            "linecolor": "white",
            "showbackground": true,
            "ticks": "",
            "zerolinecolor": "white"
           },
           "yaxis": {
            "backgroundcolor": "#E5ECF6",
            "gridcolor": "white",
            "gridwidth": 2,
            "linecolor": "white",
            "showbackground": true,
            "ticks": "",
            "zerolinecolor": "white"
           },
           "zaxis": {
            "backgroundcolor": "#E5ECF6",
            "gridcolor": "white",
            "gridwidth": 2,
            "linecolor": "white",
            "showbackground": true,
            "ticks": "",
            "zerolinecolor": "white"
           }
          },
          "shapedefaults": {
           "line": {
            "color": "#2a3f5f"
           }
          },
          "ternary": {
           "aaxis": {
            "gridcolor": "white",
            "linecolor": "white",
            "ticks": ""
           },
           "baxis": {
            "gridcolor": "white",
            "linecolor": "white",
            "ticks": ""
           },
           "bgcolor": "#E5ECF6",
           "caxis": {
            "gridcolor": "white",
            "linecolor": "white",
            "ticks": ""
           }
          },
          "title": {
           "x": 0.05
          },
          "xaxis": {
           "automargin": true,
           "gridcolor": "white",
           "linecolor": "white",
           "ticks": "",
           "title": {
            "standoff": 15
           },
           "zerolinecolor": "white",
           "zerolinewidth": 2
          },
          "yaxis": {
           "automargin": true,
           "gridcolor": "white",
           "linecolor": "white",
           "ticks": "",
           "title": {
            "standoff": 15
           },
           "zerolinecolor": "white",
           "zerolinewidth": 2
          }
         }
        },
        "title": {
         "text": "Min, Mean, and Max of Weekly_Sales"
        }
       }
      },
      "text/html": [
       "<div>                            <div id=\"a135e64e-0943-4849-946f-e9339f8c3861\" class=\"plotly-graph-div\" style=\"height:525px; width:100%;\"></div>            <script type=\"text/javascript\">                require([\"plotly\"], function(Plotly) {                    window.PLOTLYENV=window.PLOTLYENV || {};                                    if (document.getElementById(\"a135e64e-0943-4849-946f-e9339f8c3861\")) {                    Plotly.newPlot(                        \"a135e64e-0943-4849-946f-e9339f8c3861\",                        [{\"line\": {\"color\": \"green\"}, \"name\": \"Min\", \"opacity\": 0.4, \"type\": \"scatter\", \"x\": [\"2010-01-10T00:00:00\", \"2010-02-04T00:00:00\", \"2010-02-07T00:00:00\", \"2010-02-19T00:00:00\", \"2010-02-26T00:00:00\", \"2010-03-09T00:00:00\", \"2010-03-12T00:00:00\", \"2010-03-19T00:00:00\", \"2010-03-26T00:00:00\", \"2010-04-06T00:00:00\", \"2010-04-16T00:00:00\", \"2010-04-23T00:00:00\", \"2010-04-30T00:00:00\", \"2010-05-02T00:00:00\", \"2010-05-03T00:00:00\", \"2010-05-11T00:00:00\", \"2010-05-14T00:00:00\", \"2010-05-21T00:00:00\", \"2010-05-28T00:00:00\", \"2010-06-08T00:00:00\", \"2010-06-18T00:00:00\", \"2010-06-25T00:00:00\", \"2010-07-05T00:00:00\", \"2010-07-16T00:00:00\", \"2010-07-23T00:00:00\", \"2010-07-30T00:00:00\", \"2010-08-10T00:00:00\", \"2010-08-13T00:00:00\", \"2010-08-20T00:00:00\", \"2010-08-27T00:00:00\", \"2010-09-04T00:00:00\", \"2010-09-07T00:00:00\", \"2010-09-17T00:00:00\", \"2010-09-24T00:00:00\", \"2010-10-09T00:00:00\", \"2010-10-12T00:00:00\", \"2010-10-15T00:00:00\", \"2010-10-22T00:00:00\", \"2010-10-29T00:00:00\", \"2010-11-06T00:00:00\", \"2010-11-19T00:00:00\", \"2010-11-26T00:00:00\", \"2010-12-02T00:00:00\", \"2010-12-03T00:00:00\", \"2010-12-11T00:00:00\", \"2010-12-17T00:00:00\", \"2010-12-24T00:00:00\", \"2010-12-31T00:00:00\", \"2011-01-04T00:00:00\", \"2011-01-07T00:00:00\", \"2011-01-14T00:00:00\", \"2011-01-21T00:00:00\", \"2011-01-28T00:00:00\", \"2011-02-09T00:00:00\", \"2011-02-12T00:00:00\", \"2011-02-18T00:00:00\", \"2011-02-25T00:00:00\", \"2011-03-06T00:00:00\", \"2011-03-18T00:00:00\", \"2011-03-25T00:00:00\", \"2011-04-02T00:00:00\", \"2011-04-03T00:00:00\", \"2011-04-11T00:00:00\", \"2011-04-15T00:00:00\", \"2011-04-22T00:00:00\", \"2011-04-29T00:00:00\", \"2011-05-08T00:00:00\", \"2011-05-13T00:00:00\", \"2011-05-20T00:00:00\", \"2011-05-27T00:00:00\", \"2011-06-05T00:00:00\", \"2011-06-17T00:00:00\", \"2011-06-24T00:00:00\", \"2011-07-01T00:00:00\", \"2011-07-10T00:00:00\", \"2011-07-15T00:00:00\", \"2011-07-22T00:00:00\", \"2011-07-29T00:00:00\", \"2011-08-04T00:00:00\", \"2011-08-07T00:00:00\", \"2011-08-19T00:00:00\", \"2011-08-26T00:00:00\", \"2011-09-09T00:00:00\", \"2011-09-12T00:00:00\", \"2011-09-16T00:00:00\", \"2011-09-23T00:00:00\", \"2011-09-30T00:00:00\", \"2011-10-06T00:00:00\", \"2011-10-14T00:00:00\", \"2011-10-21T00:00:00\", \"2011-10-28T00:00:00\", \"2011-11-02T00:00:00\", \"2011-11-03T00:00:00\", \"2011-11-11T00:00:00\", \"2011-11-18T00:00:00\", \"2011-11-25T00:00:00\", \"2011-12-08T00:00:00\", \"2011-12-16T00:00:00\", \"2011-12-23T00:00:00\", \"2011-12-30T00:00:00\", \"2012-01-06T00:00:00\", \"2012-01-13T00:00:00\", \"2012-01-20T00:00:00\", \"2012-01-27T00:00:00\", \"2012-02-03T00:00:00\", \"2012-02-17T00:00:00\", \"2012-02-24T00:00:00\", \"2012-03-02T00:00:00\", \"2012-03-08T00:00:00\", \"2012-03-16T00:00:00\", \"2012-03-23T00:00:00\", \"2012-03-30T00:00:00\", \"2012-04-05T00:00:00\", \"2012-04-13T00:00:00\", \"2012-04-20T00:00:00\", \"2012-04-27T00:00:00\", \"2012-05-10T00:00:00\", \"2012-05-18T00:00:00\", \"2012-05-25T00:00:00\", \"2012-06-01T00:00:00\", \"2012-06-04T00:00:00\", \"2012-06-07T00:00:00\", \"2012-06-15T00:00:00\", \"2012-06-22T00:00:00\", \"2012-06-29T00:00:00\", \"2012-07-09T00:00:00\", \"2012-07-13T00:00:00\", \"2012-07-20T00:00:00\", \"2012-07-27T00:00:00\", \"2012-08-06T00:00:00\", \"2012-08-17T00:00:00\", \"2012-08-24T00:00:00\", \"2012-08-31T00:00:00\", \"2012-09-03T00:00:00\", \"2012-09-14T00:00:00\", \"2012-09-21T00:00:00\", \"2012-09-28T00:00:00\", \"2012-10-02T00:00:00\", \"2012-10-08T00:00:00\", \"2012-10-19T00:00:00\", \"2012-10-26T00:00:00\", \"2012-11-05T00:00:00\", \"2012-12-10T00:00:00\"], \"y\": [-103.0, -224.0, -175.54, -863.0, -1750.0, -173.84, -705.0, -198.0, -548.14, -90.0, -19.0, -30.0, -698.0, -59.0, -798.0, -100.0, -18.78, -39.0, -89.0, -100.0, -38.0, -65.0, -58.0, -59.0, -179.0, -1098.0, -4988.94, -4.97, -498.0, -450.0, -118.0, -78.0, -898.0, -498.0, -598.0, -496.0, -1098.0, -28.96, -409.0, -24.0, -1098.0, -159.0, -50.97, -698.0, -21.96, -372.9, -147.0, -698.0, -399.0, -778.5, -48.94, -64.08, -400.0, -3924.0, -45.25, -15.54, -97.0, -45.84, -189.0, -1321.48, -219.0, -60.0, -179.0, -499.0, -60.0, -82.0, -798.0, -92.0, -198.0, -68.0, -41.42, -43.48, -594.0, -224.0, -298.0, -590.04, -84.0, -59.12, -298.0, -198.0, -198.0, -83.57, -486.27, -159.0, -31.0, -465.08, -1008.96, -55.0, -498.0, -598.0, -124.0, -500.0, -515.0, -29.76, -101.26, -169.98, -98.0, -498.0, -649.0, -798.0, -88.08, -106.34, -370.12, -35.76, -259.0, -198.0, -149.88, -109.0, -99.87, -224.0, -259.0, -78.56, -69.56, -199.95, -298.0, -224.0, -289.0, -379.0, -124.0, -109.0, -63.32, -182.26, -224.0, -34.92, -71.74, -176.4, -454.42, -168.0, -107.72, -78.0, -419.28, -771.9, -158.0, -1699.0, -400.0, -244.17, -389.0, -498.0, -139.65, -22.92, -178.15, -548.0, -199.0]}, {\"line\": {\"color\": \"blue\"}, \"name\": \"q25\", \"opacity\": 0.4, \"type\": \"scatter\", \"x\": [\"2010-01-10T00:00:00\", \"2010-02-04T00:00:00\", \"2010-02-07T00:00:00\", \"2010-02-19T00:00:00\", \"2010-02-26T00:00:00\", \"2010-03-09T00:00:00\", \"2010-03-12T00:00:00\", \"2010-03-19T00:00:00\", \"2010-03-26T00:00:00\", \"2010-04-06T00:00:00\", \"2010-04-16T00:00:00\", \"2010-04-23T00:00:00\", \"2010-04-30T00:00:00\", \"2010-05-02T00:00:00\", \"2010-05-03T00:00:00\", \"2010-05-11T00:00:00\", \"2010-05-14T00:00:00\", \"2010-05-21T00:00:00\", \"2010-05-28T00:00:00\", \"2010-06-08T00:00:00\", \"2010-06-18T00:00:00\", \"2010-06-25T00:00:00\", \"2010-07-05T00:00:00\", \"2010-07-16T00:00:00\", \"2010-07-23T00:00:00\", \"2010-07-30T00:00:00\", \"2010-08-10T00:00:00\", \"2010-08-13T00:00:00\", \"2010-08-20T00:00:00\", \"2010-08-27T00:00:00\", \"2010-09-04T00:00:00\", \"2010-09-07T00:00:00\", \"2010-09-17T00:00:00\", \"2010-09-24T00:00:00\", \"2010-10-09T00:00:00\", \"2010-10-12T00:00:00\", \"2010-10-15T00:00:00\", \"2010-10-22T00:00:00\", \"2010-10-29T00:00:00\", \"2010-11-06T00:00:00\", \"2010-11-19T00:00:00\", \"2010-11-26T00:00:00\", \"2010-12-02T00:00:00\", \"2010-12-03T00:00:00\", \"2010-12-11T00:00:00\", \"2010-12-17T00:00:00\", \"2010-12-24T00:00:00\", \"2010-12-31T00:00:00\", \"2011-01-04T00:00:00\", \"2011-01-07T00:00:00\", \"2011-01-14T00:00:00\", \"2011-01-21T00:00:00\", \"2011-01-28T00:00:00\", \"2011-02-09T00:00:00\", \"2011-02-12T00:00:00\", \"2011-02-18T00:00:00\", \"2011-02-25T00:00:00\", \"2011-03-06T00:00:00\", \"2011-03-18T00:00:00\", \"2011-03-25T00:00:00\", \"2011-04-02T00:00:00\", \"2011-04-03T00:00:00\", \"2011-04-11T00:00:00\", \"2011-04-15T00:00:00\", \"2011-04-22T00:00:00\", \"2011-04-29T00:00:00\", \"2011-05-08T00:00:00\", \"2011-05-13T00:00:00\", \"2011-05-20T00:00:00\", \"2011-05-27T00:00:00\", \"2011-06-05T00:00:00\", \"2011-06-17T00:00:00\", \"2011-06-24T00:00:00\", \"2011-07-01T00:00:00\", \"2011-07-10T00:00:00\", \"2011-07-15T00:00:00\", \"2011-07-22T00:00:00\", \"2011-07-29T00:00:00\", \"2011-08-04T00:00:00\", \"2011-08-07T00:00:00\", \"2011-08-19T00:00:00\", \"2011-08-26T00:00:00\", \"2011-09-09T00:00:00\", \"2011-09-12T00:00:00\", \"2011-09-16T00:00:00\", \"2011-09-23T00:00:00\", \"2011-09-30T00:00:00\", \"2011-10-06T00:00:00\", \"2011-10-14T00:00:00\", \"2011-10-21T00:00:00\", \"2011-10-28T00:00:00\", \"2011-11-02T00:00:00\", \"2011-11-03T00:00:00\", \"2011-11-11T00:00:00\", \"2011-11-18T00:00:00\", \"2011-11-25T00:00:00\", \"2011-12-08T00:00:00\", \"2011-12-16T00:00:00\", \"2011-12-23T00:00:00\", \"2011-12-30T00:00:00\", \"2012-01-06T00:00:00\", \"2012-01-13T00:00:00\", \"2012-01-20T00:00:00\", \"2012-01-27T00:00:00\", \"2012-02-03T00:00:00\", \"2012-02-17T00:00:00\", \"2012-02-24T00:00:00\", \"2012-03-02T00:00:00\", \"2012-03-08T00:00:00\", \"2012-03-16T00:00:00\", \"2012-03-23T00:00:00\", \"2012-03-30T00:00:00\", \"2012-04-05T00:00:00\", \"2012-04-13T00:00:00\", \"2012-04-20T00:00:00\", \"2012-04-27T00:00:00\", \"2012-05-10T00:00:00\", \"2012-05-18T00:00:00\", \"2012-05-25T00:00:00\", \"2012-06-01T00:00:00\", \"2012-06-04T00:00:00\", \"2012-06-07T00:00:00\", \"2012-06-15T00:00:00\", \"2012-06-22T00:00:00\", \"2012-06-29T00:00:00\", \"2012-07-09T00:00:00\", \"2012-07-13T00:00:00\", \"2012-07-20T00:00:00\", \"2012-07-27T00:00:00\", \"2012-08-06T00:00:00\", \"2012-08-17T00:00:00\", \"2012-08-24T00:00:00\", \"2012-08-31T00:00:00\", \"2012-09-03T00:00:00\", \"2012-09-14T00:00:00\", \"2012-09-21T00:00:00\", \"2012-09-28T00:00:00\", \"2012-10-02T00:00:00\", \"2012-10-08T00:00:00\", \"2012-10-19T00:00:00\", \"2012-10-26T00:00:00\", \"2012-11-05T00:00:00\", \"2012-12-10T00:00:00\"], \"y\": [2057.205, 2443.37, 2315.38, 2193.34, 1847.595, 2078.5075, 2376.41, 2234.29, 2210.15, 2407.8125, 1998.845, 2052.94, 2025.81, 2105.535, 1953.0875, 2283.2349999999997, 2279.2525, 2248.63, 2403.09, 2286.8450000000003, 2348.29, 2354.9, 2312.4175, 2142.36, 2013.515, 2103.85, 2255.3925, 2249.8199999999997, 2258.74, 2292.425, 2297.2650000000003, 2275.69, 2085.31, 2057.305, 2054.26, 2617.585, 2147.2825000000003, 2082.7349999999997, 2201.3999999999996, 2385.04, 2311.31, 2835.0775, 2151.895, 2075.3450000000003, 2254.89, 2873.1099999999997, 3588.065, 1868.33, 1981.67, 2120.255, 1605.0900000000001, 1676.74, 1622.705, 1855.57, 2178.59, 2293.81, 1951.8575, 2206.3025000000002, 2045.0, 2012.0875, 1972.1675, 1969.9325000000001, 2230.71, 2141.19, 2258.435, 2022.7575, 1991.24, 2151.695, 2060.8975, 2069.84, 2066.4900000000002, 2169.43, 2147.6499999999996, 1831.7450000000001, 2162.5575, 2059.1825, 1939.5425, 1883.73, 2170.0, 2070.71, 1889.55, 1961.93, 1906.4125, 2487.4775, 1988.0425, 1970.36, 1989.32, 2251.745, 2147.56, 2102.795, 2164.8675, 2069.31, 1911.835, 2078.6, 1970.64, 2372.67, 1930.4275, 2698.72, 3168.34, 2007.1100000000001, 2150.49, 1582.385, 1558.8899999999999, 1528.335, 1807.56, 2139.635, 1866.58, 1728.87, 1806.7849999999999, 2105.0575, 2068.62, 2118.15, 1960.2150000000001, 2055.35, 1836.38, 1837.0425, 2090.0575, 2179.14, 2155.44, 1693.14, 2241.89, 2050.58, 2130.8925, 2128.11, 2021.08, 1855.8925, 1905.4025, 1892.37, 1866.29, 2085.3975, 1854.1799999999998, 1945.06, 1918.07, 1942.625, 1805.87, 2025.035, 1987.5774999999999, 2006.76, 1846.66, 2095.31, 2114.365, 2074.15, 2018.9050000000002]}, {\"line\": {\"color\": \"blue\"}, \"name\": \"q50\", \"opacity\": 0.4, \"type\": \"scatter\", \"x\": [\"2010-01-10T00:00:00\", \"2010-02-04T00:00:00\", \"2010-02-07T00:00:00\", \"2010-02-19T00:00:00\", \"2010-02-26T00:00:00\", \"2010-03-09T00:00:00\", \"2010-03-12T00:00:00\", \"2010-03-19T00:00:00\", \"2010-03-26T00:00:00\", \"2010-04-06T00:00:00\", \"2010-04-16T00:00:00\", \"2010-04-23T00:00:00\", \"2010-04-30T00:00:00\", \"2010-05-02T00:00:00\", \"2010-05-03T00:00:00\", \"2010-05-11T00:00:00\", \"2010-05-14T00:00:00\", \"2010-05-21T00:00:00\", \"2010-05-28T00:00:00\", \"2010-06-08T00:00:00\", \"2010-06-18T00:00:00\", \"2010-06-25T00:00:00\", \"2010-07-05T00:00:00\", \"2010-07-16T00:00:00\", \"2010-07-23T00:00:00\", \"2010-07-30T00:00:00\", \"2010-08-10T00:00:00\", \"2010-08-13T00:00:00\", \"2010-08-20T00:00:00\", \"2010-08-27T00:00:00\", \"2010-09-04T00:00:00\", \"2010-09-07T00:00:00\", \"2010-09-17T00:00:00\", \"2010-09-24T00:00:00\", \"2010-10-09T00:00:00\", \"2010-10-12T00:00:00\", \"2010-10-15T00:00:00\", \"2010-10-22T00:00:00\", \"2010-10-29T00:00:00\", \"2010-11-06T00:00:00\", \"2010-11-19T00:00:00\", \"2010-11-26T00:00:00\", \"2010-12-02T00:00:00\", \"2010-12-03T00:00:00\", \"2010-12-11T00:00:00\", \"2010-12-17T00:00:00\", \"2010-12-24T00:00:00\", \"2010-12-31T00:00:00\", \"2011-01-04T00:00:00\", \"2011-01-07T00:00:00\", \"2011-01-14T00:00:00\", \"2011-01-21T00:00:00\", \"2011-01-28T00:00:00\", \"2011-02-09T00:00:00\", \"2011-02-12T00:00:00\", \"2011-02-18T00:00:00\", \"2011-02-25T00:00:00\", \"2011-03-06T00:00:00\", \"2011-03-18T00:00:00\", \"2011-03-25T00:00:00\", \"2011-04-02T00:00:00\", \"2011-04-03T00:00:00\", \"2011-04-11T00:00:00\", \"2011-04-15T00:00:00\", \"2011-04-22T00:00:00\", \"2011-04-29T00:00:00\", \"2011-05-08T00:00:00\", \"2011-05-13T00:00:00\", \"2011-05-20T00:00:00\", \"2011-05-27T00:00:00\", \"2011-06-05T00:00:00\", \"2011-06-17T00:00:00\", \"2011-06-24T00:00:00\", \"2011-07-01T00:00:00\", \"2011-07-10T00:00:00\", \"2011-07-15T00:00:00\", \"2011-07-22T00:00:00\", \"2011-07-29T00:00:00\", \"2011-08-04T00:00:00\", \"2011-08-07T00:00:00\", \"2011-08-19T00:00:00\", \"2011-08-26T00:00:00\", \"2011-09-09T00:00:00\", \"2011-09-12T00:00:00\", \"2011-09-16T00:00:00\", \"2011-09-23T00:00:00\", \"2011-09-30T00:00:00\", \"2011-10-06T00:00:00\", \"2011-10-14T00:00:00\", \"2011-10-21T00:00:00\", \"2011-10-28T00:00:00\", \"2011-11-02T00:00:00\", \"2011-11-03T00:00:00\", \"2011-11-11T00:00:00\", \"2011-11-18T00:00:00\", \"2011-11-25T00:00:00\", \"2011-12-08T00:00:00\", \"2011-12-16T00:00:00\", \"2011-12-23T00:00:00\", \"2011-12-30T00:00:00\", \"2012-01-06T00:00:00\", \"2012-01-13T00:00:00\", \"2012-01-20T00:00:00\", \"2012-01-27T00:00:00\", \"2012-02-03T00:00:00\", \"2012-02-17T00:00:00\", \"2012-02-24T00:00:00\", \"2012-03-02T00:00:00\", \"2012-03-08T00:00:00\", \"2012-03-16T00:00:00\", \"2012-03-23T00:00:00\", \"2012-03-30T00:00:00\", \"2012-04-05T00:00:00\", \"2012-04-13T00:00:00\", \"2012-04-20T00:00:00\", \"2012-04-27T00:00:00\", \"2012-05-10T00:00:00\", \"2012-05-18T00:00:00\", \"2012-05-25T00:00:00\", \"2012-06-01T00:00:00\", \"2012-06-04T00:00:00\", \"2012-06-07T00:00:00\", \"2012-06-15T00:00:00\", \"2012-06-22T00:00:00\", \"2012-06-29T00:00:00\", \"2012-07-09T00:00:00\", \"2012-07-13T00:00:00\", \"2012-07-20T00:00:00\", \"2012-07-27T00:00:00\", \"2012-08-06T00:00:00\", \"2012-08-17T00:00:00\", \"2012-08-24T00:00:00\", \"2012-08-31T00:00:00\", \"2012-09-03T00:00:00\", \"2012-09-14T00:00:00\", \"2012-09-21T00:00:00\", \"2012-09-28T00:00:00\", \"2012-10-02T00:00:00\", \"2012-10-08T00:00:00\", \"2012-10-19T00:00:00\", \"2012-10-26T00:00:00\", \"2012-11-05T00:00:00\", \"2012-12-10T00:00:00\"], \"y\": [6940.74, 8658.89, 8117.29, 8411.25, 7235.8, 7812.045, 7961.35, 7915.6, 7345.13, 8596.01, 7506.59, 7644.98, 7384.9, 7904.69, 7717.975, 7686.1900000000005, 8022.9349999999995, 7847.14, 8306.6, 8491.78, 8127.63, 8067.45, 8467.06, 7828.5, 7575.59, 7757.76, 7487.84, 8247.205, 8330.14, 8103.87, 8006.27, 7867.66, 7202.98, 7005.195, 7403.87, 9251.665, 7180.21, 7225.555, 7415.065, 8114.88, 7711.74, 10328.435000000001, 8365.095000000001, 7529.549999999999, 7703.4349999999995, 10614.75, 13832.275000000001, 6462.16, 7048.01, 7754.0, 5961.71, 6139.3150000000005, 6227.98, 7330.0, 7656.425, 8480.37, 7239.48, 8002.51, 7578.27, 7208.514999999999, 7312.115, 7633.16, 7657.955, 7424.55, 8167.83, 7437.785, 7901.07, 7446.6, 7318.74, 7591.59, 7608.145, 7741.32, 7536.110000000001, 6384.99, 7476.68, 7249.96, 7376.995, 7208.87, 7390.14, 7588.98, 7597.58, 7607.51, 7491.4349999999995, 8732.805, 6995.875, 7008.99, 6781.34, 7908.375, 7102.2, 7388.6849999999995, 7407.65, 7871.475, 7104.21, 7540.39, 7404.92, 9632.31, 7526.45, 9836.4, 12685.69, 7562.11, 7692.24, 5914.860000000001, 6146.31, 5785.84, 7342.105, 8019.52, 7360.36, 6859.65, 7495.32, 7754.67, 7487.2, 7428.85, 7414.78, 7507.13, 7096.46, 6951.264999999999, 7486.844999999999, 7672.99, 7801.2, 6586.37, 8538.09, 7786.09, 7695.42, 7526.74, 7500.8, 7595.875, 7318.299999999999, 7405.375, 7196.4, 7839.4349999999995, 7632.73, 7688.21, 7816.360000000001, 7458.955, 6835.0, 7010.09, 6957.120000000001, 7707.04, 7557.5, 7374.7, 7547.23, 7533.42, 7324.96]}, {\"line\": {\"color\": \"blue\"}, \"name\": \"q75\", \"opacity\": 0.4, \"type\": \"scatter\", \"x\": [\"2010-01-10T00:00:00\", \"2010-02-04T00:00:00\", \"2010-02-07T00:00:00\", \"2010-02-19T00:00:00\", \"2010-02-26T00:00:00\", \"2010-03-09T00:00:00\", \"2010-03-12T00:00:00\", \"2010-03-19T00:00:00\", \"2010-03-26T00:00:00\", \"2010-04-06T00:00:00\", \"2010-04-16T00:00:00\", \"2010-04-23T00:00:00\", \"2010-04-30T00:00:00\", \"2010-05-02T00:00:00\", \"2010-05-03T00:00:00\", \"2010-05-11T00:00:00\", \"2010-05-14T00:00:00\", \"2010-05-21T00:00:00\", \"2010-05-28T00:00:00\", \"2010-06-08T00:00:00\", \"2010-06-18T00:00:00\", \"2010-06-25T00:00:00\", \"2010-07-05T00:00:00\", \"2010-07-16T00:00:00\", \"2010-07-23T00:00:00\", \"2010-07-30T00:00:00\", \"2010-08-10T00:00:00\", \"2010-08-13T00:00:00\", \"2010-08-20T00:00:00\", \"2010-08-27T00:00:00\", \"2010-09-04T00:00:00\", \"2010-09-07T00:00:00\", \"2010-09-17T00:00:00\", \"2010-09-24T00:00:00\", \"2010-10-09T00:00:00\", \"2010-10-12T00:00:00\", \"2010-10-15T00:00:00\", \"2010-10-22T00:00:00\", \"2010-10-29T00:00:00\", \"2010-11-06T00:00:00\", \"2010-11-19T00:00:00\", \"2010-11-26T00:00:00\", \"2010-12-02T00:00:00\", \"2010-12-03T00:00:00\", \"2010-12-11T00:00:00\", \"2010-12-17T00:00:00\", \"2010-12-24T00:00:00\", \"2010-12-31T00:00:00\", \"2011-01-04T00:00:00\", \"2011-01-07T00:00:00\", \"2011-01-14T00:00:00\", \"2011-01-21T00:00:00\", \"2011-01-28T00:00:00\", \"2011-02-09T00:00:00\", \"2011-02-12T00:00:00\", \"2011-02-18T00:00:00\", \"2011-02-25T00:00:00\", \"2011-03-06T00:00:00\", \"2011-03-18T00:00:00\", \"2011-03-25T00:00:00\", \"2011-04-02T00:00:00\", \"2011-04-03T00:00:00\", \"2011-04-11T00:00:00\", \"2011-04-15T00:00:00\", \"2011-04-22T00:00:00\", \"2011-04-29T00:00:00\", \"2011-05-08T00:00:00\", \"2011-05-13T00:00:00\", \"2011-05-20T00:00:00\", \"2011-05-27T00:00:00\", \"2011-06-05T00:00:00\", \"2011-06-17T00:00:00\", \"2011-06-24T00:00:00\", \"2011-07-01T00:00:00\", \"2011-07-10T00:00:00\", \"2011-07-15T00:00:00\", \"2011-07-22T00:00:00\", \"2011-07-29T00:00:00\", \"2011-08-04T00:00:00\", \"2011-08-07T00:00:00\", \"2011-08-19T00:00:00\", \"2011-08-26T00:00:00\", \"2011-09-09T00:00:00\", \"2011-09-12T00:00:00\", \"2011-09-16T00:00:00\", \"2011-09-23T00:00:00\", \"2011-09-30T00:00:00\", \"2011-10-06T00:00:00\", \"2011-10-14T00:00:00\", \"2011-10-21T00:00:00\", \"2011-10-28T00:00:00\", \"2011-11-02T00:00:00\", \"2011-11-03T00:00:00\", \"2011-11-11T00:00:00\", \"2011-11-18T00:00:00\", \"2011-11-25T00:00:00\", \"2011-12-08T00:00:00\", \"2011-12-16T00:00:00\", \"2011-12-23T00:00:00\", \"2011-12-30T00:00:00\", \"2012-01-06T00:00:00\", \"2012-01-13T00:00:00\", \"2012-01-20T00:00:00\", \"2012-01-27T00:00:00\", \"2012-02-03T00:00:00\", \"2012-02-17T00:00:00\", \"2012-02-24T00:00:00\", \"2012-03-02T00:00:00\", \"2012-03-08T00:00:00\", \"2012-03-16T00:00:00\", \"2012-03-23T00:00:00\", \"2012-03-30T00:00:00\", \"2012-04-05T00:00:00\", \"2012-04-13T00:00:00\", \"2012-04-20T00:00:00\", \"2012-04-27T00:00:00\", \"2012-05-10T00:00:00\", \"2012-05-18T00:00:00\", \"2012-05-25T00:00:00\", \"2012-06-01T00:00:00\", \"2012-06-04T00:00:00\", \"2012-06-07T00:00:00\", \"2012-06-15T00:00:00\", \"2012-06-22T00:00:00\", \"2012-06-29T00:00:00\", \"2012-07-09T00:00:00\", \"2012-07-13T00:00:00\", \"2012-07-20T00:00:00\", \"2012-07-27T00:00:00\", \"2012-08-06T00:00:00\", \"2012-08-17T00:00:00\", \"2012-08-24T00:00:00\", \"2012-08-31T00:00:00\", \"2012-09-03T00:00:00\", \"2012-09-14T00:00:00\", \"2012-09-21T00:00:00\", \"2012-09-28T00:00:00\", \"2012-10-02T00:00:00\", \"2012-10-08T00:00:00\", \"2012-10-19T00:00:00\", \"2012-10-26T00:00:00\", \"2012-11-05T00:00:00\", \"2012-12-10T00:00:00\"], \"y\": [18007.85, 21876.58, 22019.25, 20576.03, 18104.72, 20651.6125, 21618.27, 19202.195, 18987.66, 22973.3825, 19140.125, 19061.79, 18756.53, 20471.27, 19412.0225, 20091.824999999997, 19617.82, 19765.735, 21411.37, 21520.1925, 21464.48, 21195.42, 20903.8275, 21053.58, 20265.345, 20013.01, 19183.0275, 20603.65, 20826.91, 20141.385000000002, 20694.815000000002, 21677.265, 18057.74, 17565.627500000002, 19225.46, 24009.4725, 18425.445, 18702.025, 19137.807500000003, 21499.54, 19758.065, 26249.15, 20847.829999999998, 19292.3125, 19753.2325, 27001.22, 35240.0725, 18236.385000000002, 18416.235, 21389.989999999998, 16585.1925, 16684.56, 16510.9, 19567.6, 21211.4225, 21159.77, 18590.4325, 22160.442499999997, 18856.47, 18342.8875, 19221.1525, 19424.575, 21067.412500000002, 19489.96, 21100.87, 19232.4225, 21143.58, 19397.995000000003, 19038.7675, 20403.775, 19887.015, 21015.78, 20853.6575, 17506.795, 19868.09, 20226.17, 20508.665, 19615.48, 19612.96, 21534.72, 19877.34, 20496.165, 19586.254999999997, 24093.4925, 18169.1325, 17662.62, 17611.055, 21248.5375, 18912.760000000002, 19321.690000000002, 19862.715, 19957.87, 18642.975, 20658.06, 19291.39, 25441.93, 20193.059999999998, 25915.61, 33001.2, 21179.300000000003, 21639.155, 16838.64, 16946.835, 16152.6375, 19380.7275, 21082.690000000002, 19324.93, 18392.68, 20715.91, 19913.55, 19487.1, 19690.21, 19973.16, 19907.84, 19475.14, 18698.642499999998, 19595.8025, 20293.95, 21502.08, 18072.24, 22852.765, 23215.61, 21502.9575, 21447.02, 21137.62, 20447.1475, 20396.9175, 20376.730000000003, 19536.36, 21494.4125, 20058.989999999998, 20555.0125, 20298.2675, 19616.0525, 18298.54, 18315.47, 18328.5475, 20829.45, 20400.88, 19304.9575, 20052.96, 20411.18, 19434.2525]}, {\"line\": {\"color\": \"red\"}, \"name\": \"Max\", \"opacity\": 0.4, \"type\": \"scatter\", \"x\": [\"2010-01-10T00:00:00\", \"2010-02-04T00:00:00\", \"2010-02-07T00:00:00\", \"2010-02-19T00:00:00\", \"2010-02-26T00:00:00\", \"2010-03-09T00:00:00\", \"2010-03-12T00:00:00\", \"2010-03-19T00:00:00\", \"2010-03-26T00:00:00\", \"2010-04-06T00:00:00\", \"2010-04-16T00:00:00\", \"2010-04-23T00:00:00\", \"2010-04-30T00:00:00\", \"2010-05-02T00:00:00\", \"2010-05-03T00:00:00\", \"2010-05-11T00:00:00\", \"2010-05-14T00:00:00\", \"2010-05-21T00:00:00\", \"2010-05-28T00:00:00\", \"2010-06-08T00:00:00\", \"2010-06-18T00:00:00\", \"2010-06-25T00:00:00\", \"2010-07-05T00:00:00\", \"2010-07-16T00:00:00\", \"2010-07-23T00:00:00\", \"2010-07-30T00:00:00\", \"2010-08-10T00:00:00\", \"2010-08-13T00:00:00\", \"2010-08-20T00:00:00\", \"2010-08-27T00:00:00\", \"2010-09-04T00:00:00\", \"2010-09-07T00:00:00\", \"2010-09-17T00:00:00\", \"2010-09-24T00:00:00\", \"2010-10-09T00:00:00\", \"2010-10-12T00:00:00\", \"2010-10-15T00:00:00\", \"2010-10-22T00:00:00\", \"2010-10-29T00:00:00\", \"2010-11-06T00:00:00\", \"2010-11-19T00:00:00\", \"2010-11-26T00:00:00\", \"2010-12-02T00:00:00\", \"2010-12-03T00:00:00\", \"2010-12-11T00:00:00\", \"2010-12-17T00:00:00\", \"2010-12-24T00:00:00\", \"2010-12-31T00:00:00\", \"2011-01-04T00:00:00\", \"2011-01-07T00:00:00\", \"2011-01-14T00:00:00\", \"2011-01-21T00:00:00\", \"2011-01-28T00:00:00\", \"2011-02-09T00:00:00\", \"2011-02-12T00:00:00\", \"2011-02-18T00:00:00\", \"2011-02-25T00:00:00\", \"2011-03-06T00:00:00\", \"2011-03-18T00:00:00\", \"2011-03-25T00:00:00\", \"2011-04-02T00:00:00\", \"2011-04-03T00:00:00\", \"2011-04-11T00:00:00\", \"2011-04-15T00:00:00\", \"2011-04-22T00:00:00\", \"2011-04-29T00:00:00\", \"2011-05-08T00:00:00\", \"2011-05-13T00:00:00\", \"2011-05-20T00:00:00\", \"2011-05-27T00:00:00\", \"2011-06-05T00:00:00\", \"2011-06-17T00:00:00\", \"2011-06-24T00:00:00\", \"2011-07-01T00:00:00\", \"2011-07-10T00:00:00\", \"2011-07-15T00:00:00\", \"2011-07-22T00:00:00\", \"2011-07-29T00:00:00\", \"2011-08-04T00:00:00\", \"2011-08-07T00:00:00\", \"2011-08-19T00:00:00\", \"2011-08-26T00:00:00\", \"2011-09-09T00:00:00\", \"2011-09-12T00:00:00\", \"2011-09-16T00:00:00\", \"2011-09-23T00:00:00\", \"2011-09-30T00:00:00\", \"2011-10-06T00:00:00\", \"2011-10-14T00:00:00\", \"2011-10-21T00:00:00\", \"2011-10-28T00:00:00\", \"2011-11-02T00:00:00\", \"2011-11-03T00:00:00\", \"2011-11-11T00:00:00\", \"2011-11-18T00:00:00\", \"2011-11-25T00:00:00\", \"2011-12-08T00:00:00\", \"2011-12-16T00:00:00\", \"2011-12-23T00:00:00\", \"2011-12-30T00:00:00\", \"2012-01-06T00:00:00\", \"2012-01-13T00:00:00\", \"2012-01-20T00:00:00\", \"2012-01-27T00:00:00\", \"2012-02-03T00:00:00\", \"2012-02-17T00:00:00\", \"2012-02-24T00:00:00\", \"2012-03-02T00:00:00\", \"2012-03-08T00:00:00\", \"2012-03-16T00:00:00\", \"2012-03-23T00:00:00\", \"2012-03-30T00:00:00\", \"2012-04-05T00:00:00\", \"2012-04-13T00:00:00\", \"2012-04-20T00:00:00\", \"2012-04-27T00:00:00\", \"2012-05-10T00:00:00\", \"2012-05-18T00:00:00\", \"2012-05-25T00:00:00\", \"2012-06-01T00:00:00\", \"2012-06-04T00:00:00\", \"2012-06-07T00:00:00\", \"2012-06-15T00:00:00\", \"2012-06-22T00:00:00\", \"2012-06-29T00:00:00\", \"2012-07-09T00:00:00\", \"2012-07-13T00:00:00\", \"2012-07-20T00:00:00\", \"2012-07-27T00:00:00\", \"2012-08-06T00:00:00\", \"2012-08-17T00:00:00\", \"2012-08-24T00:00:00\", \"2012-08-31T00:00:00\", \"2012-09-03T00:00:00\", \"2012-09-14T00:00:00\", \"2012-09-21T00:00:00\", \"2012-09-28T00:00:00\", \"2012-10-02T00:00:00\", \"2012-10-08T00:00:00\", \"2012-10-19T00:00:00\", \"2012-10-26T00:00:00\", \"2012-11-05T00:00:00\", \"2012-12-10T00:00:00\"], \"y\": [174219.51, 203457.42, 198349.17, 192282.19, 205250.96, 198704.92, 218559.54, 178028.58, 167512.67, 190128.43, 184591.99, 183147.38, 177014.37, 293966.05, 214383.07, 206935.29, 177116.48, 183182.96, 187738.85, 204695.13, 188045.88, 178621.33, 206160.36, 177803.19, 168341.28, 168187.32, 210596.66, 181729.63, 180468.24, 175412.46, 180584.36, 191981.99, 179946.34, 170830.69, 205314.67, 221013.44, 182166.26, 180585.77, 176155.17, 194723.71, 205829.42, 693099.36, 202622.42, 197070.21, 200451.31, 268789.69, 406988.63, 147532.16, 175473.67, 175468.71, 190728.6, 173771.66, 161663.64, 164320.09, 172338.47, 207773.4, 205507.71, 162995.08, 178875.27, 172111.54, 207824.62, 200367.18, 208504.83, 175531.22, 191840.95, 144127.68, 197416.29, 165095.96, 180525.39, 171545.23, 196628.33, 177156.22, 166873.16, 198789.07, 221834.28, 169013.07, 163241.85, 158816.24, 206017.23, 188688.12, 171553.94, 241120.0, 214448.96, 227088.13, 177437.5, 178288.71, 172057.5, 190737.26, 187911.15, 181127.71, 183447.07, 222651.02, 191167.3, 206465.15, 204812.37, 649770.18, 174877.08, 210877.54, 341308.0, 156431.46, 165598.92, 197649.89, 185683.25, 169990.21, 190545.48, 190137.86, 184077.26, 198551.21, 171598.2, 185618.81, 165498.72, 171498.91, 200789.85, 170989.18, 181183.91, 169755.19, 192860.85, 173004.56, 180251.98, 206871.52, 224917.94, 185215.02, 183228.69, 170131.9, 169858.42, 190579.72, 191882.2, 179823.4, 160703.97, 206575.9, 182031.93, 168512.87, 169994.15, 213636.03, 186759.11, 179575.44, 169014.0, 233140.32, 194032.48, 184451.36, 183483.92, 194034.68, 192455.74]}],                        {\"template\": {\"data\": {\"bar\": [{\"error_x\": {\"color\": \"#2a3f5f\"}, \"error_y\": {\"color\": \"#2a3f5f\"}, \"marker\": {\"line\": {\"color\": \"#E5ECF6\", \"width\": 0.5}}, \"type\": \"bar\"}], \"barpolar\": [{\"marker\": {\"line\": {\"color\": \"#E5ECF6\", \"width\": 0.5}}, \"type\": \"barpolar\"}], \"carpet\": [{\"aaxis\": {\"endlinecolor\": \"#2a3f5f\", \"gridcolor\": \"white\", \"linecolor\": \"white\", \"minorgridcolor\": \"white\", \"startlinecolor\": \"#2a3f5f\"}, \"baxis\": {\"endlinecolor\": \"#2a3f5f\", \"gridcolor\": \"white\", \"linecolor\": \"white\", \"minorgridcolor\": \"white\", \"startlinecolor\": \"#2a3f5f\"}, \"type\": \"carpet\"}], \"choropleth\": [{\"colorbar\": {\"outlinewidth\": 0, \"ticks\": \"\"}, \"type\": \"choropleth\"}], \"contour\": [{\"colorbar\": {\"outlinewidth\": 0, \"ticks\": \"\"}, \"colorscale\": [[0.0, \"#0d0887\"], [0.1111111111111111, \"#46039f\"], [0.2222222222222222, \"#7201a8\"], [0.3333333333333333, \"#9c179e\"], [0.4444444444444444, \"#bd3786\"], [0.5555555555555556, \"#d8576b\"], [0.6666666666666666, \"#ed7953\"], [0.7777777777777778, \"#fb9f3a\"], [0.8888888888888888, \"#fdca26\"], [1.0, \"#f0f921\"]], \"type\": \"contour\"}], \"contourcarpet\": [{\"colorbar\": {\"outlinewidth\": 0, \"ticks\": \"\"}, \"type\": \"contourcarpet\"}], \"heatmap\": [{\"colorbar\": {\"outlinewidth\": 0, \"ticks\": \"\"}, \"colorscale\": [[0.0, \"#0d0887\"], [0.1111111111111111, \"#46039f\"], [0.2222222222222222, \"#7201a8\"], [0.3333333333333333, \"#9c179e\"], [0.4444444444444444, \"#bd3786\"], [0.5555555555555556, \"#d8576b\"], [0.6666666666666666, \"#ed7953\"], [0.7777777777777778, \"#fb9f3a\"], [0.8888888888888888, \"#fdca26\"], [1.0, \"#f0f921\"]], \"type\": \"heatmap\"}], \"heatmapgl\": [{\"colorbar\": {\"outlinewidth\": 0, \"ticks\": \"\"}, \"colorscale\": [[0.0, \"#0d0887\"], [0.1111111111111111, \"#46039f\"], [0.2222222222222222, \"#7201a8\"], [0.3333333333333333, \"#9c179e\"], [0.4444444444444444, \"#bd3786\"], [0.5555555555555556, \"#d8576b\"], [0.6666666666666666, \"#ed7953\"], [0.7777777777777778, \"#fb9f3a\"], [0.8888888888888888, \"#fdca26\"], [1.0, \"#f0f921\"]], \"type\": \"heatmapgl\"}], \"histogram\": [{\"marker\": {\"colorbar\": {\"outlinewidth\": 0, \"ticks\": \"\"}}, \"type\": \"histogram\"}], \"histogram2d\": [{\"colorbar\": {\"outlinewidth\": 0, \"ticks\": \"\"}, \"colorscale\": [[0.0, \"#0d0887\"], [0.1111111111111111, \"#46039f\"], [0.2222222222222222, \"#7201a8\"], [0.3333333333333333, \"#9c179e\"], [0.4444444444444444, \"#bd3786\"], [0.5555555555555556, \"#d8576b\"], [0.6666666666666666, \"#ed7953\"], [0.7777777777777778, \"#fb9f3a\"], [0.8888888888888888, \"#fdca26\"], [1.0, \"#f0f921\"]], \"type\": \"histogram2d\"}], \"histogram2dcontour\": [{\"colorbar\": {\"outlinewidth\": 0, \"ticks\": \"\"}, \"colorscale\": [[0.0, \"#0d0887\"], [0.1111111111111111, \"#46039f\"], [0.2222222222222222, \"#7201a8\"], [0.3333333333333333, \"#9c179e\"], [0.4444444444444444, \"#bd3786\"], [0.5555555555555556, \"#d8576b\"], [0.6666666666666666, \"#ed7953\"], [0.7777777777777778, \"#fb9f3a\"], [0.8888888888888888, \"#fdca26\"], [1.0, \"#f0f921\"]], \"type\": \"histogram2dcontour\"}], \"mesh3d\": [{\"colorbar\": {\"outlinewidth\": 0, \"ticks\": \"\"}, \"type\": \"mesh3d\"}], \"parcoords\": [{\"line\": {\"colorbar\": {\"outlinewidth\": 0, \"ticks\": \"\"}}, \"type\": \"parcoords\"}], \"pie\": [{\"automargin\": true, \"type\": \"pie\"}], \"scatter\": [{\"marker\": {\"colorbar\": {\"outlinewidth\": 0, \"ticks\": \"\"}}, \"type\": \"scatter\"}], \"scatter3d\": [{\"line\": {\"colorbar\": {\"outlinewidth\": 0, \"ticks\": \"\"}}, \"marker\": {\"colorbar\": {\"outlinewidth\": 0, \"ticks\": \"\"}}, \"type\": \"scatter3d\"}], \"scattercarpet\": [{\"marker\": {\"colorbar\": {\"outlinewidth\": 0, \"ticks\": \"\"}}, \"type\": \"scattercarpet\"}], \"scattergeo\": [{\"marker\": {\"colorbar\": {\"outlinewidth\": 0, \"ticks\": \"\"}}, \"type\": \"scattergeo\"}], \"scattergl\": [{\"marker\": {\"colorbar\": {\"outlinewidth\": 0, \"ticks\": \"\"}}, \"type\": \"scattergl\"}], \"scattermapbox\": [{\"marker\": {\"colorbar\": {\"outlinewidth\": 0, \"ticks\": \"\"}}, \"type\": \"scattermapbox\"}], \"scatterpolar\": [{\"marker\": {\"colorbar\": {\"outlinewidth\": 0, \"ticks\": \"\"}}, \"type\": \"scatterpolar\"}], \"scatterpolargl\": [{\"marker\": {\"colorbar\": {\"outlinewidth\": 0, \"ticks\": \"\"}}, \"type\": \"scatterpolargl\"}], \"scatterternary\": [{\"marker\": {\"colorbar\": {\"outlinewidth\": 0, \"ticks\": \"\"}}, \"type\": \"scatterternary\"}], \"surface\": [{\"colorbar\": {\"outlinewidth\": 0, \"ticks\": \"\"}, \"colorscale\": [[0.0, \"#0d0887\"], [0.1111111111111111, \"#46039f\"], [0.2222222222222222, \"#7201a8\"], [0.3333333333333333, \"#9c179e\"], [0.4444444444444444, \"#bd3786\"], [0.5555555555555556, \"#d8576b\"], [0.6666666666666666, \"#ed7953\"], [0.7777777777777778, \"#fb9f3a\"], [0.8888888888888888, \"#fdca26\"], [1.0, \"#f0f921\"]], \"type\": \"surface\"}], \"table\": [{\"cells\": {\"fill\": {\"color\": \"#EBF0F8\"}, \"line\": {\"color\": \"white\"}}, \"header\": {\"fill\": {\"color\": \"#C8D4E3\"}, \"line\": {\"color\": \"white\"}}, \"type\": \"table\"}]}, \"layout\": {\"annotationdefaults\": {\"arrowcolor\": \"#2a3f5f\", \"arrowhead\": 0, \"arrowwidth\": 1}, \"autotypenumbers\": \"strict\", \"coloraxis\": {\"colorbar\": {\"outlinewidth\": 0, \"ticks\": \"\"}}, \"colorscale\": {\"diverging\": [[0, \"#8e0152\"], [0.1, \"#c51b7d\"], [0.2, \"#de77ae\"], [0.3, \"#f1b6da\"], [0.4, \"#fde0ef\"], [0.5, \"#f7f7f7\"], [0.6, \"#e6f5d0\"], [0.7, \"#b8e186\"], [0.8, \"#7fbc41\"], [0.9, \"#4d9221\"], [1, \"#276419\"]], \"sequential\": [[0.0, \"#0d0887\"], [0.1111111111111111, \"#46039f\"], [0.2222222222222222, \"#7201a8\"], [0.3333333333333333, \"#9c179e\"], [0.4444444444444444, \"#bd3786\"], [0.5555555555555556, \"#d8576b\"], [0.6666666666666666, \"#ed7953\"], [0.7777777777777778, \"#fb9f3a\"], [0.8888888888888888, \"#fdca26\"], [1.0, \"#f0f921\"]], \"sequentialminus\": [[0.0, \"#0d0887\"], [0.1111111111111111, \"#46039f\"], [0.2222222222222222, \"#7201a8\"], [0.3333333333333333, \"#9c179e\"], [0.4444444444444444, \"#bd3786\"], [0.5555555555555556, \"#d8576b\"], [0.6666666666666666, \"#ed7953\"], [0.7777777777777778, \"#fb9f3a\"], [0.8888888888888888, \"#fdca26\"], [1.0, \"#f0f921\"]]}, \"colorway\": [\"#636efa\", \"#EF553B\", \"#00cc96\", \"#ab63fa\", \"#FFA15A\", \"#19d3f3\", \"#FF6692\", \"#B6E880\", \"#FF97FF\", \"#FECB52\"], \"font\": {\"color\": \"#2a3f5f\"}, \"geo\": {\"bgcolor\": \"white\", \"lakecolor\": \"white\", \"landcolor\": \"#E5ECF6\", \"showlakes\": true, \"showland\": true, \"subunitcolor\": \"white\"}, \"hoverlabel\": {\"align\": \"left\"}, \"hovermode\": \"closest\", \"mapbox\": {\"style\": \"light\"}, \"paper_bgcolor\": \"white\", \"plot_bgcolor\": \"#E5ECF6\", \"polar\": {\"angularaxis\": {\"gridcolor\": \"white\", \"linecolor\": \"white\", \"ticks\": \"\"}, \"bgcolor\": \"#E5ECF6\", \"radialaxis\": {\"gridcolor\": \"white\", \"linecolor\": \"white\", \"ticks\": \"\"}}, \"scene\": {\"xaxis\": {\"backgroundcolor\": \"#E5ECF6\", \"gridcolor\": \"white\", \"gridwidth\": 2, \"linecolor\": \"white\", \"showbackground\": true, \"ticks\": \"\", \"zerolinecolor\": \"white\"}, \"yaxis\": {\"backgroundcolor\": \"#E5ECF6\", \"gridcolor\": \"white\", \"gridwidth\": 2, \"linecolor\": \"white\", \"showbackground\": true, \"ticks\": \"\", \"zerolinecolor\": \"white\"}, \"zaxis\": {\"backgroundcolor\": \"#E5ECF6\", \"gridcolor\": \"white\", \"gridwidth\": 2, \"linecolor\": \"white\", \"showbackground\": true, \"ticks\": \"\", \"zerolinecolor\": \"white\"}}, \"shapedefaults\": {\"line\": {\"color\": \"#2a3f5f\"}}, \"ternary\": {\"aaxis\": {\"gridcolor\": \"white\", \"linecolor\": \"white\", \"ticks\": \"\"}, \"baxis\": {\"gridcolor\": \"white\", \"linecolor\": \"white\", \"ticks\": \"\"}, \"bgcolor\": \"#E5ECF6\", \"caxis\": {\"gridcolor\": \"white\", \"linecolor\": \"white\", \"ticks\": \"\"}}, \"title\": {\"x\": 0.05}, \"xaxis\": {\"automargin\": true, \"gridcolor\": \"white\", \"linecolor\": \"white\", \"ticks\": \"\", \"title\": {\"standoff\": 15}, \"zerolinecolor\": \"white\", \"zerolinewidth\": 2}, \"yaxis\": {\"automargin\": true, \"gridcolor\": \"white\", \"linecolor\": \"white\", \"ticks\": \"\", \"title\": {\"standoff\": 15}, \"zerolinecolor\": \"white\", \"zerolinewidth\": 2}}}, \"title\": {\"text\": \"Min, Mean, and Max of Weekly_Sales\"}},                        {\"responsive\": true}                    ).then(function(){\n",
       "                            \n",
       "var gd = document.getElementById('a135e64e-0943-4849-946f-e9339f8c3861');\n",
       "var x = new MutationObserver(function (mutations, observer) {{\n",
       "        var display = window.getComputedStyle(gd).display;\n",
       "        if (!display || display === 'none') {{\n",
       "            console.log([gd, 'removed!']);\n",
       "            Plotly.purge(gd);\n",
       "            observer.disconnect();\n",
       "        }}\n",
       "}});\n",
       "\n",
       "// Listen for the removal of the full notebook cells\n",
       "var notebookContainer = gd.closest('#notebook-container');\n",
       "if (notebookContainer) {{\n",
       "    x.observe(notebookContainer, {childList: true});\n",
       "}}\n",
       "\n",
       "// Listen for the clearing of the current output cell\n",
       "var outputEl = gd.closest('.output');\n",
       "if (outputEl) {{\n",
       "    x.observe(outputEl, {childList: true});\n",
       "}}\n",
       "\n",
       "                        })                };                });            </script>        </div>"
      ]
     },
     "metadata": {},
     "output_type": "display_data"
    }
   ],
   "source": [
    "plot_min_max_avg (sales_agg, 'Weekly_Sales')"
   ]
  },
  {
   "cell_type": "markdown",
   "metadata": {},
   "source": [
    "From the charts we can see the following:\n",
    "\n",
    "1. The variations in fuel price are consistent across all store locations (while it remains possible that some locations are usually more expensive than others).\n",
    "\n",
    "2. There are few high performing stores, as the 75th quantile is very near the bottom of the second chart. This is consistent with the histogram and box plot with a few data points far to the right. \n",
    "\n",
    "3. There appears to be no relation betwen weekly sales and fuel prices.\n",
    "\n",
    "4. The CPI grows when fuel prices increase because, most likely, fuel price is an input to calculate CPI. The consumer price index, however, seems to have no impact on prices.\n",
    "\n",
    "5. There also seems to be no relation between unemployment and weekly sales.\n",
    "\n",
    "6. The high performing stores had sale peaks around Thanksgiving and Christmas 2010 and 2011, but not in 2012."
   ]
  },
  {
   "cell_type": "markdown",
   "metadata": {},
   "source": [
    "## 4. Key Findings and Insights\n",
    "\n",
    "To sum up our previous findings:\n",
    "\n",
    "1. Stores are classified by size, with 'A' stores (22) generally being larger than 'B' stores (17), and these in turn being usually larger than 'C' stores (6). \n",
    "\n",
    "2. Some weeks in some stores were very successful (less than 1% of the week-store combinations), especially around some holidays.\n",
    "\n",
    "3. Sales seem not to depend on fuel price, unemployment, or consumer price index variations."
   ]
  },
  {
   "cell_type": "markdown",
   "metadata": {},
   "source": [
    "## 5. Hypotheses\n",
    "\n",
    "Our hypothesis were:\n",
    "\n",
    "1. Are sales larger or smaller in a given week if preceded by a holiday week? Some conclusions about this can be drawn from testing the second hypothesis, and testing it on its own is possibly less interesting.\n",
    "\n",
    "2. Are sales larger or smaller on normal weeks or holiday weeks? This is the most easily testable hypothesis.\n",
    "\n",
    "3. Are sales larger or smaller on weekends or on weekdays? The third one cannot be solved with the given data because it is aggregated by weeks.\n",
    "\n",
    "The second hypothesis will be tested. We will first try a graphical approach, by simply aggregating the data points by the field that indicates which weeks contain a holiday."
   ]
  },
  {
   "cell_type": "code",
   "execution_count": 21,
   "metadata": {},
   "outputs": [],
   "source": [
    "sales_agg_holiday = sales_agg[sales_agg['IsHoliday'] == True]\n",
    "sales_agg_notholiday = sales_agg[sales_agg['IsHoliday'] == False]"
   ]
  },
  {
   "cell_type": "code",
   "execution_count": 22,
   "metadata": {},
   "outputs": [
    {
     "data": {
      "application/vnd.plotly.v1+json": {
       "config": {
        "linkText": "Export to plot.ly",
        "plotlyServerURL": "https://plot.ly",
        "showLink": false
       },
       "data": [
        {
         "line": {
          "color": "green"
         },
         "name": "Min",
         "opacity": 0.4,
         "type": "scatter",
         "x": [
          "2010-10-09T00:00:00",
          "2010-11-26T00:00:00",
          "2010-12-02T00:00:00",
          "2010-12-31T00:00:00",
          "2011-09-09T00:00:00",
          "2011-11-02T00:00:00",
          "2011-11-25T00:00:00",
          "2011-12-30T00:00:00",
          "2012-07-09T00:00:00",
          "2012-10-02T00:00:00"
         ],
         "y": [
          -598,
          -159,
          -50.97,
          -698,
          -486.27,
          -500,
          -169.98,
          -798,
          -176.4,
          -498
         ]
        },
        {
         "line": {
          "color": "blue"
         },
         "name": "q25",
         "opacity": 0.4,
         "type": "scatter",
         "x": [
          "2010-10-09T00:00:00",
          "2010-11-26T00:00:00",
          "2010-12-02T00:00:00",
          "2010-12-31T00:00:00",
          "2011-09-09T00:00:00",
          "2011-11-02T00:00:00",
          "2011-11-25T00:00:00",
          "2011-12-30T00:00:00",
          "2012-07-09T00:00:00",
          "2012-10-02T00:00:00"
         ],
         "y": [
          2054.26,
          2835.0775,
          2151.895,
          1868.33,
          1906.4125,
          2069.31,
          2372.67,
          2007.1100000000001,
          1855.8925,
          2006.76
         ]
        },
        {
         "line": {
          "color": "blue"
         },
         "name": "q50",
         "opacity": 0.4,
         "type": "scatter",
         "x": [
          "2010-10-09T00:00:00",
          "2010-11-26T00:00:00",
          "2010-12-02T00:00:00",
          "2010-12-31T00:00:00",
          "2011-09-09T00:00:00",
          "2011-11-02T00:00:00",
          "2011-11-25T00:00:00",
          "2011-12-30T00:00:00",
          "2012-07-09T00:00:00",
          "2012-10-02T00:00:00"
         ],
         "y": [
          7403.87,
          10328.435000000001,
          8365.095000000001,
          6462.16,
          7491.4349999999995,
          7871.475,
          9632.31,
          7562.11,
          7595.875,
          7707.04
         ]
        },
        {
         "line": {
          "color": "blue"
         },
         "name": "q75",
         "opacity": 0.4,
         "type": "scatter",
         "x": [
          "2010-10-09T00:00:00",
          "2010-11-26T00:00:00",
          "2010-12-02T00:00:00",
          "2010-12-31T00:00:00",
          "2011-09-09T00:00:00",
          "2011-11-02T00:00:00",
          "2011-11-25T00:00:00",
          "2011-12-30T00:00:00",
          "2012-07-09T00:00:00",
          "2012-10-02T00:00:00"
         ],
         "y": [
          19225.46,
          26249.15,
          20847.829999999998,
          18236.385000000002,
          19586.254999999997,
          19957.87,
          25441.93,
          21179.300000000003,
          20447.1475,
          20829.45
         ]
        },
        {
         "line": {
          "color": "red"
         },
         "name": "Max",
         "opacity": 0.4,
         "type": "scatter",
         "x": [
          "2010-10-09T00:00:00",
          "2010-11-26T00:00:00",
          "2010-12-02T00:00:00",
          "2010-12-31T00:00:00",
          "2011-09-09T00:00:00",
          "2011-11-02T00:00:00",
          "2011-11-25T00:00:00",
          "2011-12-30T00:00:00",
          "2012-07-09T00:00:00",
          "2012-10-02T00:00:00"
         ],
         "y": [
          205314.67,
          693099.36,
          202622.42,
          147532.16,
          214448.96,
          222651.02,
          649770.18,
          156431.46,
          190579.72,
          233140.32
         ]
        }
       ],
       "layout": {
        "template": {
         "data": {
          "bar": [
           {
            "error_x": {
             "color": "#2a3f5f"
            },
            "error_y": {
             "color": "#2a3f5f"
            },
            "marker": {
             "line": {
              "color": "#E5ECF6",
              "width": 0.5
             }
            },
            "type": "bar"
           }
          ],
          "barpolar": [
           {
            "marker": {
             "line": {
              "color": "#E5ECF6",
              "width": 0.5
             }
            },
            "type": "barpolar"
           }
          ],
          "carpet": [
           {
            "aaxis": {
             "endlinecolor": "#2a3f5f",
             "gridcolor": "white",
             "linecolor": "white",
             "minorgridcolor": "white",
             "startlinecolor": "#2a3f5f"
            },
            "baxis": {
             "endlinecolor": "#2a3f5f",
             "gridcolor": "white",
             "linecolor": "white",
             "minorgridcolor": "white",
             "startlinecolor": "#2a3f5f"
            },
            "type": "carpet"
           }
          ],
          "choropleth": [
           {
            "colorbar": {
             "outlinewidth": 0,
             "ticks": ""
            },
            "type": "choropleth"
           }
          ],
          "contour": [
           {
            "colorbar": {
             "outlinewidth": 0,
             "ticks": ""
            },
            "colorscale": [
             [
              0,
              "#0d0887"
             ],
             [
              0.1111111111111111,
              "#46039f"
             ],
             [
              0.2222222222222222,
              "#7201a8"
             ],
             [
              0.3333333333333333,
              "#9c179e"
             ],
             [
              0.4444444444444444,
              "#bd3786"
             ],
             [
              0.5555555555555556,
              "#d8576b"
             ],
             [
              0.6666666666666666,
              "#ed7953"
             ],
             [
              0.7777777777777778,
              "#fb9f3a"
             ],
             [
              0.8888888888888888,
              "#fdca26"
             ],
             [
              1,
              "#f0f921"
             ]
            ],
            "type": "contour"
           }
          ],
          "contourcarpet": [
           {
            "colorbar": {
             "outlinewidth": 0,
             "ticks": ""
            },
            "type": "contourcarpet"
           }
          ],
          "heatmap": [
           {
            "colorbar": {
             "outlinewidth": 0,
             "ticks": ""
            },
            "colorscale": [
             [
              0,
              "#0d0887"
             ],
             [
              0.1111111111111111,
              "#46039f"
             ],
             [
              0.2222222222222222,
              "#7201a8"
             ],
             [
              0.3333333333333333,
              "#9c179e"
             ],
             [
              0.4444444444444444,
              "#bd3786"
             ],
             [
              0.5555555555555556,
              "#d8576b"
             ],
             [
              0.6666666666666666,
              "#ed7953"
             ],
             [
              0.7777777777777778,
              "#fb9f3a"
             ],
             [
              0.8888888888888888,
              "#fdca26"
             ],
             [
              1,
              "#f0f921"
             ]
            ],
            "type": "heatmap"
           }
          ],
          "heatmapgl": [
           {
            "colorbar": {
             "outlinewidth": 0,
             "ticks": ""
            },
            "colorscale": [
             [
              0,
              "#0d0887"
             ],
             [
              0.1111111111111111,
              "#46039f"
             ],
             [
              0.2222222222222222,
              "#7201a8"
             ],
             [
              0.3333333333333333,
              "#9c179e"
             ],
             [
              0.4444444444444444,
              "#bd3786"
             ],
             [
              0.5555555555555556,
              "#d8576b"
             ],
             [
              0.6666666666666666,
              "#ed7953"
             ],
             [
              0.7777777777777778,
              "#fb9f3a"
             ],
             [
              0.8888888888888888,
              "#fdca26"
             ],
             [
              1,
              "#f0f921"
             ]
            ],
            "type": "heatmapgl"
           }
          ],
          "histogram": [
           {
            "marker": {
             "colorbar": {
              "outlinewidth": 0,
              "ticks": ""
             }
            },
            "type": "histogram"
           }
          ],
          "histogram2d": [
           {
            "colorbar": {
             "outlinewidth": 0,
             "ticks": ""
            },
            "colorscale": [
             [
              0,
              "#0d0887"
             ],
             [
              0.1111111111111111,
              "#46039f"
             ],
             [
              0.2222222222222222,
              "#7201a8"
             ],
             [
              0.3333333333333333,
              "#9c179e"
             ],
             [
              0.4444444444444444,
              "#bd3786"
             ],
             [
              0.5555555555555556,
              "#d8576b"
             ],
             [
              0.6666666666666666,
              "#ed7953"
             ],
             [
              0.7777777777777778,
              "#fb9f3a"
             ],
             [
              0.8888888888888888,
              "#fdca26"
             ],
             [
              1,
              "#f0f921"
             ]
            ],
            "type": "histogram2d"
           }
          ],
          "histogram2dcontour": [
           {
            "colorbar": {
             "outlinewidth": 0,
             "ticks": ""
            },
            "colorscale": [
             [
              0,
              "#0d0887"
             ],
             [
              0.1111111111111111,
              "#46039f"
             ],
             [
              0.2222222222222222,
              "#7201a8"
             ],
             [
              0.3333333333333333,
              "#9c179e"
             ],
             [
              0.4444444444444444,
              "#bd3786"
             ],
             [
              0.5555555555555556,
              "#d8576b"
             ],
             [
              0.6666666666666666,
              "#ed7953"
             ],
             [
              0.7777777777777778,
              "#fb9f3a"
             ],
             [
              0.8888888888888888,
              "#fdca26"
             ],
             [
              1,
              "#f0f921"
             ]
            ],
            "type": "histogram2dcontour"
           }
          ],
          "mesh3d": [
           {
            "colorbar": {
             "outlinewidth": 0,
             "ticks": ""
            },
            "type": "mesh3d"
           }
          ],
          "parcoords": [
           {
            "line": {
             "colorbar": {
              "outlinewidth": 0,
              "ticks": ""
             }
            },
            "type": "parcoords"
           }
          ],
          "pie": [
           {
            "automargin": true,
            "type": "pie"
           }
          ],
          "scatter": [
           {
            "marker": {
             "colorbar": {
              "outlinewidth": 0,
              "ticks": ""
             }
            },
            "type": "scatter"
           }
          ],
          "scatter3d": [
           {
            "line": {
             "colorbar": {
              "outlinewidth": 0,
              "ticks": ""
             }
            },
            "marker": {
             "colorbar": {
              "outlinewidth": 0,
              "ticks": ""
             }
            },
            "type": "scatter3d"
           }
          ],
          "scattercarpet": [
           {
            "marker": {
             "colorbar": {
              "outlinewidth": 0,
              "ticks": ""
             }
            },
            "type": "scattercarpet"
           }
          ],
          "scattergeo": [
           {
            "marker": {
             "colorbar": {
              "outlinewidth": 0,
              "ticks": ""
             }
            },
            "type": "scattergeo"
           }
          ],
          "scattergl": [
           {
            "marker": {
             "colorbar": {
              "outlinewidth": 0,
              "ticks": ""
             }
            },
            "type": "scattergl"
           }
          ],
          "scattermapbox": [
           {
            "marker": {
             "colorbar": {
              "outlinewidth": 0,
              "ticks": ""
             }
            },
            "type": "scattermapbox"
           }
          ],
          "scatterpolar": [
           {
            "marker": {
             "colorbar": {
              "outlinewidth": 0,
              "ticks": ""
             }
            },
            "type": "scatterpolar"
           }
          ],
          "scatterpolargl": [
           {
            "marker": {
             "colorbar": {
              "outlinewidth": 0,
              "ticks": ""
             }
            },
            "type": "scatterpolargl"
           }
          ],
          "scatterternary": [
           {
            "marker": {
             "colorbar": {
              "outlinewidth": 0,
              "ticks": ""
             }
            },
            "type": "scatterternary"
           }
          ],
          "surface": [
           {
            "colorbar": {
             "outlinewidth": 0,
             "ticks": ""
            },
            "colorscale": [
             [
              0,
              "#0d0887"
             ],
             [
              0.1111111111111111,
              "#46039f"
             ],
             [
              0.2222222222222222,
              "#7201a8"
             ],
             [
              0.3333333333333333,
              "#9c179e"
             ],
             [
              0.4444444444444444,
              "#bd3786"
             ],
             [
              0.5555555555555556,
              "#d8576b"
             ],
             [
              0.6666666666666666,
              "#ed7953"
             ],
             [
              0.7777777777777778,
              "#fb9f3a"
             ],
             [
              0.8888888888888888,
              "#fdca26"
             ],
             [
              1,
              "#f0f921"
             ]
            ],
            "type": "surface"
           }
          ],
          "table": [
           {
            "cells": {
             "fill": {
              "color": "#EBF0F8"
             },
             "line": {
              "color": "white"
             }
            },
            "header": {
             "fill": {
              "color": "#C8D4E3"
             },
             "line": {
              "color": "white"
             }
            },
            "type": "table"
           }
          ]
         },
         "layout": {
          "annotationdefaults": {
           "arrowcolor": "#2a3f5f",
           "arrowhead": 0,
           "arrowwidth": 1
          },
          "autotypenumbers": "strict",
          "coloraxis": {
           "colorbar": {
            "outlinewidth": 0,
            "ticks": ""
           }
          },
          "colorscale": {
           "diverging": [
            [
             0,
             "#8e0152"
            ],
            [
             0.1,
             "#c51b7d"
            ],
            [
             0.2,
             "#de77ae"
            ],
            [
             0.3,
             "#f1b6da"
            ],
            [
             0.4,
             "#fde0ef"
            ],
            [
             0.5,
             "#f7f7f7"
            ],
            [
             0.6,
             "#e6f5d0"
            ],
            [
             0.7,
             "#b8e186"
            ],
            [
             0.8,
             "#7fbc41"
            ],
            [
             0.9,
             "#4d9221"
            ],
            [
             1,
             "#276419"
            ]
           ],
           "sequential": [
            [
             0,
             "#0d0887"
            ],
            [
             0.1111111111111111,
             "#46039f"
            ],
            [
             0.2222222222222222,
             "#7201a8"
            ],
            [
             0.3333333333333333,
             "#9c179e"
            ],
            [
             0.4444444444444444,
             "#bd3786"
            ],
            [
             0.5555555555555556,
             "#d8576b"
            ],
            [
             0.6666666666666666,
             "#ed7953"
            ],
            [
             0.7777777777777778,
             "#fb9f3a"
            ],
            [
             0.8888888888888888,
             "#fdca26"
            ],
            [
             1,
             "#f0f921"
            ]
           ],
           "sequentialminus": [
            [
             0,
             "#0d0887"
            ],
            [
             0.1111111111111111,
             "#46039f"
            ],
            [
             0.2222222222222222,
             "#7201a8"
            ],
            [
             0.3333333333333333,
             "#9c179e"
            ],
            [
             0.4444444444444444,
             "#bd3786"
            ],
            [
             0.5555555555555556,
             "#d8576b"
            ],
            [
             0.6666666666666666,
             "#ed7953"
            ],
            [
             0.7777777777777778,
             "#fb9f3a"
            ],
            [
             0.8888888888888888,
             "#fdca26"
            ],
            [
             1,
             "#f0f921"
            ]
           ]
          },
          "colorway": [
           "#636efa",
           "#EF553B",
           "#00cc96",
           "#ab63fa",
           "#FFA15A",
           "#19d3f3",
           "#FF6692",
           "#B6E880",
           "#FF97FF",
           "#FECB52"
          ],
          "font": {
           "color": "#2a3f5f"
          },
          "geo": {
           "bgcolor": "white",
           "lakecolor": "white",
           "landcolor": "#E5ECF6",
           "showlakes": true,
           "showland": true,
           "subunitcolor": "white"
          },
          "hoverlabel": {
           "align": "left"
          },
          "hovermode": "closest",
          "mapbox": {
           "style": "light"
          },
          "paper_bgcolor": "white",
          "plot_bgcolor": "#E5ECF6",
          "polar": {
           "angularaxis": {
            "gridcolor": "white",
            "linecolor": "white",
            "ticks": ""
           },
           "bgcolor": "#E5ECF6",
           "radialaxis": {
            "gridcolor": "white",
            "linecolor": "white",
            "ticks": ""
           }
          },
          "scene": {
           "xaxis": {
            "backgroundcolor": "#E5ECF6",
            "gridcolor": "white",
            "gridwidth": 2,
            "linecolor": "white",
            "showbackground": true,
            "ticks": "",
            "zerolinecolor": "white"
           },
           "yaxis": {
            "backgroundcolor": "#E5ECF6",
            "gridcolor": "white",
            "gridwidth": 2,
            "linecolor": "white",
            "showbackground": true,
            "ticks": "",
            "zerolinecolor": "white"
           },
           "zaxis": {
            "backgroundcolor": "#E5ECF6",
            "gridcolor": "white",
            "gridwidth": 2,
            "linecolor": "white",
            "showbackground": true,
            "ticks": "",
            "zerolinecolor": "white"
           }
          },
          "shapedefaults": {
           "line": {
            "color": "#2a3f5f"
           }
          },
          "ternary": {
           "aaxis": {
            "gridcolor": "white",
            "linecolor": "white",
            "ticks": ""
           },
           "baxis": {
            "gridcolor": "white",
            "linecolor": "white",
            "ticks": ""
           },
           "bgcolor": "#E5ECF6",
           "caxis": {
            "gridcolor": "white",
            "linecolor": "white",
            "ticks": ""
           }
          },
          "title": {
           "x": 0.05
          },
          "xaxis": {
           "automargin": true,
           "gridcolor": "white",
           "linecolor": "white",
           "ticks": "",
           "title": {
            "standoff": 15
           },
           "zerolinecolor": "white",
           "zerolinewidth": 2
          },
          "yaxis": {
           "automargin": true,
           "gridcolor": "white",
           "linecolor": "white",
           "ticks": "",
           "title": {
            "standoff": 15
           },
           "zerolinecolor": "white",
           "zerolinewidth": 2
          }
         }
        },
        "title": {
         "text": "Min, Mean, and Max of Weekly_Sales"
        }
       }
      },
      "text/html": [
       "<div>                            <div id=\"0f28d926-ea46-4b98-bb96-57480fa8c975\" class=\"plotly-graph-div\" style=\"height:525px; width:100%;\"></div>            <script type=\"text/javascript\">                require([\"plotly\"], function(Plotly) {                    window.PLOTLYENV=window.PLOTLYENV || {};                                    if (document.getElementById(\"0f28d926-ea46-4b98-bb96-57480fa8c975\")) {                    Plotly.newPlot(                        \"0f28d926-ea46-4b98-bb96-57480fa8c975\",                        [{\"line\": {\"color\": \"green\"}, \"name\": \"Min\", \"opacity\": 0.4, \"type\": \"scatter\", \"x\": [\"2010-10-09T00:00:00\", \"2010-11-26T00:00:00\", \"2010-12-02T00:00:00\", \"2010-12-31T00:00:00\", \"2011-09-09T00:00:00\", \"2011-11-02T00:00:00\", \"2011-11-25T00:00:00\", \"2011-12-30T00:00:00\", \"2012-07-09T00:00:00\", \"2012-10-02T00:00:00\"], \"y\": [-598.0, -159.0, -50.97, -698.0, -486.27, -500.0, -169.98, -798.0, -176.4, -498.0]}, {\"line\": {\"color\": \"blue\"}, \"name\": \"q25\", \"opacity\": 0.4, \"type\": \"scatter\", \"x\": [\"2010-10-09T00:00:00\", \"2010-11-26T00:00:00\", \"2010-12-02T00:00:00\", \"2010-12-31T00:00:00\", \"2011-09-09T00:00:00\", \"2011-11-02T00:00:00\", \"2011-11-25T00:00:00\", \"2011-12-30T00:00:00\", \"2012-07-09T00:00:00\", \"2012-10-02T00:00:00\"], \"y\": [2054.26, 2835.0775, 2151.895, 1868.33, 1906.4125, 2069.31, 2372.67, 2007.1100000000001, 1855.8925, 2006.76]}, {\"line\": {\"color\": \"blue\"}, \"name\": \"q50\", \"opacity\": 0.4, \"type\": \"scatter\", \"x\": [\"2010-10-09T00:00:00\", \"2010-11-26T00:00:00\", \"2010-12-02T00:00:00\", \"2010-12-31T00:00:00\", \"2011-09-09T00:00:00\", \"2011-11-02T00:00:00\", \"2011-11-25T00:00:00\", \"2011-12-30T00:00:00\", \"2012-07-09T00:00:00\", \"2012-10-02T00:00:00\"], \"y\": [7403.87, 10328.435000000001, 8365.095000000001, 6462.16, 7491.4349999999995, 7871.475, 9632.31, 7562.11, 7595.875, 7707.04]}, {\"line\": {\"color\": \"blue\"}, \"name\": \"q75\", \"opacity\": 0.4, \"type\": \"scatter\", \"x\": [\"2010-10-09T00:00:00\", \"2010-11-26T00:00:00\", \"2010-12-02T00:00:00\", \"2010-12-31T00:00:00\", \"2011-09-09T00:00:00\", \"2011-11-02T00:00:00\", \"2011-11-25T00:00:00\", \"2011-12-30T00:00:00\", \"2012-07-09T00:00:00\", \"2012-10-02T00:00:00\"], \"y\": [19225.46, 26249.15, 20847.829999999998, 18236.385000000002, 19586.254999999997, 19957.87, 25441.93, 21179.300000000003, 20447.1475, 20829.45]}, {\"line\": {\"color\": \"red\"}, \"name\": \"Max\", \"opacity\": 0.4, \"type\": \"scatter\", \"x\": [\"2010-10-09T00:00:00\", \"2010-11-26T00:00:00\", \"2010-12-02T00:00:00\", \"2010-12-31T00:00:00\", \"2011-09-09T00:00:00\", \"2011-11-02T00:00:00\", \"2011-11-25T00:00:00\", \"2011-12-30T00:00:00\", \"2012-07-09T00:00:00\", \"2012-10-02T00:00:00\"], \"y\": [205314.67, 693099.36, 202622.42, 147532.16, 214448.96, 222651.02, 649770.18, 156431.46, 190579.72, 233140.32]}],                        {\"template\": {\"data\": {\"bar\": [{\"error_x\": {\"color\": \"#2a3f5f\"}, \"error_y\": {\"color\": \"#2a3f5f\"}, \"marker\": {\"line\": {\"color\": \"#E5ECF6\", \"width\": 0.5}}, \"type\": \"bar\"}], \"barpolar\": [{\"marker\": {\"line\": {\"color\": \"#E5ECF6\", \"width\": 0.5}}, \"type\": \"barpolar\"}], \"carpet\": [{\"aaxis\": {\"endlinecolor\": \"#2a3f5f\", \"gridcolor\": \"white\", \"linecolor\": \"white\", \"minorgridcolor\": \"white\", \"startlinecolor\": \"#2a3f5f\"}, \"baxis\": {\"endlinecolor\": \"#2a3f5f\", \"gridcolor\": \"white\", \"linecolor\": \"white\", \"minorgridcolor\": \"white\", \"startlinecolor\": \"#2a3f5f\"}, \"type\": \"carpet\"}], \"choropleth\": [{\"colorbar\": {\"outlinewidth\": 0, \"ticks\": \"\"}, \"type\": \"choropleth\"}], \"contour\": [{\"colorbar\": {\"outlinewidth\": 0, \"ticks\": \"\"}, \"colorscale\": [[0.0, \"#0d0887\"], [0.1111111111111111, \"#46039f\"], [0.2222222222222222, \"#7201a8\"], [0.3333333333333333, \"#9c179e\"], [0.4444444444444444, \"#bd3786\"], [0.5555555555555556, \"#d8576b\"], [0.6666666666666666, \"#ed7953\"], [0.7777777777777778, \"#fb9f3a\"], [0.8888888888888888, \"#fdca26\"], [1.0, \"#f0f921\"]], \"type\": \"contour\"}], \"contourcarpet\": [{\"colorbar\": {\"outlinewidth\": 0, \"ticks\": \"\"}, \"type\": \"contourcarpet\"}], \"heatmap\": [{\"colorbar\": {\"outlinewidth\": 0, \"ticks\": \"\"}, \"colorscale\": [[0.0, \"#0d0887\"], [0.1111111111111111, \"#46039f\"], [0.2222222222222222, \"#7201a8\"], [0.3333333333333333, \"#9c179e\"], [0.4444444444444444, \"#bd3786\"], [0.5555555555555556, \"#d8576b\"], [0.6666666666666666, \"#ed7953\"], [0.7777777777777778, \"#fb9f3a\"], [0.8888888888888888, \"#fdca26\"], [1.0, \"#f0f921\"]], \"type\": \"heatmap\"}], \"heatmapgl\": [{\"colorbar\": {\"outlinewidth\": 0, \"ticks\": \"\"}, \"colorscale\": [[0.0, \"#0d0887\"], [0.1111111111111111, \"#46039f\"], [0.2222222222222222, \"#7201a8\"], [0.3333333333333333, \"#9c179e\"], [0.4444444444444444, \"#bd3786\"], [0.5555555555555556, \"#d8576b\"], [0.6666666666666666, \"#ed7953\"], [0.7777777777777778, \"#fb9f3a\"], [0.8888888888888888, \"#fdca26\"], [1.0, \"#f0f921\"]], \"type\": \"heatmapgl\"}], \"histogram\": [{\"marker\": {\"colorbar\": {\"outlinewidth\": 0, \"ticks\": \"\"}}, \"type\": \"histogram\"}], \"histogram2d\": [{\"colorbar\": {\"outlinewidth\": 0, \"ticks\": \"\"}, \"colorscale\": [[0.0, \"#0d0887\"], [0.1111111111111111, \"#46039f\"], [0.2222222222222222, \"#7201a8\"], [0.3333333333333333, \"#9c179e\"], [0.4444444444444444, \"#bd3786\"], [0.5555555555555556, \"#d8576b\"], [0.6666666666666666, \"#ed7953\"], [0.7777777777777778, \"#fb9f3a\"], [0.8888888888888888, \"#fdca26\"], [1.0, \"#f0f921\"]], \"type\": \"histogram2d\"}], \"histogram2dcontour\": [{\"colorbar\": {\"outlinewidth\": 0, \"ticks\": \"\"}, \"colorscale\": [[0.0, \"#0d0887\"], [0.1111111111111111, \"#46039f\"], [0.2222222222222222, \"#7201a8\"], [0.3333333333333333, \"#9c179e\"], [0.4444444444444444, \"#bd3786\"], [0.5555555555555556, \"#d8576b\"], [0.6666666666666666, \"#ed7953\"], [0.7777777777777778, \"#fb9f3a\"], [0.8888888888888888, \"#fdca26\"], [1.0, \"#f0f921\"]], \"type\": \"histogram2dcontour\"}], \"mesh3d\": [{\"colorbar\": {\"outlinewidth\": 0, \"ticks\": \"\"}, \"type\": \"mesh3d\"}], \"parcoords\": [{\"line\": {\"colorbar\": {\"outlinewidth\": 0, \"ticks\": \"\"}}, \"type\": \"parcoords\"}], \"pie\": [{\"automargin\": true, \"type\": \"pie\"}], \"scatter\": [{\"marker\": {\"colorbar\": {\"outlinewidth\": 0, \"ticks\": \"\"}}, \"type\": \"scatter\"}], \"scatter3d\": [{\"line\": {\"colorbar\": {\"outlinewidth\": 0, \"ticks\": \"\"}}, \"marker\": {\"colorbar\": {\"outlinewidth\": 0, \"ticks\": \"\"}}, \"type\": \"scatter3d\"}], \"scattercarpet\": [{\"marker\": {\"colorbar\": {\"outlinewidth\": 0, \"ticks\": \"\"}}, \"type\": \"scattercarpet\"}], \"scattergeo\": [{\"marker\": {\"colorbar\": {\"outlinewidth\": 0, \"ticks\": \"\"}}, \"type\": \"scattergeo\"}], \"scattergl\": [{\"marker\": {\"colorbar\": {\"outlinewidth\": 0, \"ticks\": \"\"}}, \"type\": \"scattergl\"}], \"scattermapbox\": [{\"marker\": {\"colorbar\": {\"outlinewidth\": 0, \"ticks\": \"\"}}, \"type\": \"scattermapbox\"}], \"scatterpolar\": [{\"marker\": {\"colorbar\": {\"outlinewidth\": 0, \"ticks\": \"\"}}, \"type\": \"scatterpolar\"}], \"scatterpolargl\": [{\"marker\": {\"colorbar\": {\"outlinewidth\": 0, \"ticks\": \"\"}}, \"type\": \"scatterpolargl\"}], \"scatterternary\": [{\"marker\": {\"colorbar\": {\"outlinewidth\": 0, \"ticks\": \"\"}}, \"type\": \"scatterternary\"}], \"surface\": [{\"colorbar\": {\"outlinewidth\": 0, \"ticks\": \"\"}, \"colorscale\": [[0.0, \"#0d0887\"], [0.1111111111111111, \"#46039f\"], [0.2222222222222222, \"#7201a8\"], [0.3333333333333333, \"#9c179e\"], [0.4444444444444444, \"#bd3786\"], [0.5555555555555556, \"#d8576b\"], [0.6666666666666666, \"#ed7953\"], [0.7777777777777778, \"#fb9f3a\"], [0.8888888888888888, \"#fdca26\"], [1.0, \"#f0f921\"]], \"type\": \"surface\"}], \"table\": [{\"cells\": {\"fill\": {\"color\": \"#EBF0F8\"}, \"line\": {\"color\": \"white\"}}, \"header\": {\"fill\": {\"color\": \"#C8D4E3\"}, \"line\": {\"color\": \"white\"}}, \"type\": \"table\"}]}, \"layout\": {\"annotationdefaults\": {\"arrowcolor\": \"#2a3f5f\", \"arrowhead\": 0, \"arrowwidth\": 1}, \"autotypenumbers\": \"strict\", \"coloraxis\": {\"colorbar\": {\"outlinewidth\": 0, \"ticks\": \"\"}}, \"colorscale\": {\"diverging\": [[0, \"#8e0152\"], [0.1, \"#c51b7d\"], [0.2, \"#de77ae\"], [0.3, \"#f1b6da\"], [0.4, \"#fde0ef\"], [0.5, \"#f7f7f7\"], [0.6, \"#e6f5d0\"], [0.7, \"#b8e186\"], [0.8, \"#7fbc41\"], [0.9, \"#4d9221\"], [1, \"#276419\"]], \"sequential\": [[0.0, \"#0d0887\"], [0.1111111111111111, \"#46039f\"], [0.2222222222222222, \"#7201a8\"], [0.3333333333333333, \"#9c179e\"], [0.4444444444444444, \"#bd3786\"], [0.5555555555555556, \"#d8576b\"], [0.6666666666666666, \"#ed7953\"], [0.7777777777777778, \"#fb9f3a\"], [0.8888888888888888, \"#fdca26\"], [1.0, \"#f0f921\"]], \"sequentialminus\": [[0.0, \"#0d0887\"], [0.1111111111111111, \"#46039f\"], [0.2222222222222222, \"#7201a8\"], [0.3333333333333333, \"#9c179e\"], [0.4444444444444444, \"#bd3786\"], [0.5555555555555556, \"#d8576b\"], [0.6666666666666666, \"#ed7953\"], [0.7777777777777778, \"#fb9f3a\"], [0.8888888888888888, \"#fdca26\"], [1.0, \"#f0f921\"]]}, \"colorway\": [\"#636efa\", \"#EF553B\", \"#00cc96\", \"#ab63fa\", \"#FFA15A\", \"#19d3f3\", \"#FF6692\", \"#B6E880\", \"#FF97FF\", \"#FECB52\"], \"font\": {\"color\": \"#2a3f5f\"}, \"geo\": {\"bgcolor\": \"white\", \"lakecolor\": \"white\", \"landcolor\": \"#E5ECF6\", \"showlakes\": true, \"showland\": true, \"subunitcolor\": \"white\"}, \"hoverlabel\": {\"align\": \"left\"}, \"hovermode\": \"closest\", \"mapbox\": {\"style\": \"light\"}, \"paper_bgcolor\": \"white\", \"plot_bgcolor\": \"#E5ECF6\", \"polar\": {\"angularaxis\": {\"gridcolor\": \"white\", \"linecolor\": \"white\", \"ticks\": \"\"}, \"bgcolor\": \"#E5ECF6\", \"radialaxis\": {\"gridcolor\": \"white\", \"linecolor\": \"white\", \"ticks\": \"\"}}, \"scene\": {\"xaxis\": {\"backgroundcolor\": \"#E5ECF6\", \"gridcolor\": \"white\", \"gridwidth\": 2, \"linecolor\": \"white\", \"showbackground\": true, \"ticks\": \"\", \"zerolinecolor\": \"white\"}, \"yaxis\": {\"backgroundcolor\": \"#E5ECF6\", \"gridcolor\": \"white\", \"gridwidth\": 2, \"linecolor\": \"white\", \"showbackground\": true, \"ticks\": \"\", \"zerolinecolor\": \"white\"}, \"zaxis\": {\"backgroundcolor\": \"#E5ECF6\", \"gridcolor\": \"white\", \"gridwidth\": 2, \"linecolor\": \"white\", \"showbackground\": true, \"ticks\": \"\", \"zerolinecolor\": \"white\"}}, \"shapedefaults\": {\"line\": {\"color\": \"#2a3f5f\"}}, \"ternary\": {\"aaxis\": {\"gridcolor\": \"white\", \"linecolor\": \"white\", \"ticks\": \"\"}, \"baxis\": {\"gridcolor\": \"white\", \"linecolor\": \"white\", \"ticks\": \"\"}, \"bgcolor\": \"#E5ECF6\", \"caxis\": {\"gridcolor\": \"white\", \"linecolor\": \"white\", \"ticks\": \"\"}}, \"title\": {\"x\": 0.05}, \"xaxis\": {\"automargin\": true, \"gridcolor\": \"white\", \"linecolor\": \"white\", \"ticks\": \"\", \"title\": {\"standoff\": 15}, \"zerolinecolor\": \"white\", \"zerolinewidth\": 2}, \"yaxis\": {\"automargin\": true, \"gridcolor\": \"white\", \"linecolor\": \"white\", \"ticks\": \"\", \"title\": {\"standoff\": 15}, \"zerolinecolor\": \"white\", \"zerolinewidth\": 2}}}, \"title\": {\"text\": \"Min, Mean, and Max of Weekly_Sales\"}},                        {\"responsive\": true}                    ).then(function(){\n",
       "                            \n",
       "var gd = document.getElementById('0f28d926-ea46-4b98-bb96-57480fa8c975');\n",
       "var x = new MutationObserver(function (mutations, observer) {{\n",
       "        var display = window.getComputedStyle(gd).display;\n",
       "        if (!display || display === 'none') {{\n",
       "            console.log([gd, 'removed!']);\n",
       "            Plotly.purge(gd);\n",
       "            observer.disconnect();\n",
       "        }}\n",
       "}});\n",
       "\n",
       "// Listen for the removal of the full notebook cells\n",
       "var notebookContainer = gd.closest('#notebook-container');\n",
       "if (notebookContainer) {{\n",
       "    x.observe(notebookContainer, {childList: true});\n",
       "}}\n",
       "\n",
       "// Listen for the clearing of the current output cell\n",
       "var outputEl = gd.closest('.output');\n",
       "if (outputEl) {{\n",
       "    x.observe(outputEl, {childList: true});\n",
       "}}\n",
       "\n",
       "                        })                };                });            </script>        </div>"
      ]
     },
     "metadata": {},
     "output_type": "display_data"
    }
   ],
   "source": [
    "plot_min_max_avg (sales_agg_holiday, 'Weekly_Sales')"
   ]
  },
  {
   "cell_type": "code",
   "execution_count": 23,
   "metadata": {},
   "outputs": [
    {
     "data": {
      "application/vnd.plotly.v1+json": {
       "config": {
        "linkText": "Export to plot.ly",
        "plotlyServerURL": "https://plot.ly",
        "showLink": false
       },
       "data": [
        {
         "line": {
          "color": "green"
         },
         "name": "Min",
         "opacity": 0.4,
         "type": "scatter",
         "x": [
          "2010-01-10T00:00:00",
          "2010-02-04T00:00:00",
          "2010-02-07T00:00:00",
          "2010-02-19T00:00:00",
          "2010-02-26T00:00:00",
          "2010-03-09T00:00:00",
          "2010-03-12T00:00:00",
          "2010-03-19T00:00:00",
          "2010-03-26T00:00:00",
          "2010-04-06T00:00:00",
          "2010-04-16T00:00:00",
          "2010-04-23T00:00:00",
          "2010-04-30T00:00:00",
          "2010-05-02T00:00:00",
          "2010-05-03T00:00:00",
          "2010-05-11T00:00:00",
          "2010-05-14T00:00:00",
          "2010-05-21T00:00:00",
          "2010-05-28T00:00:00",
          "2010-06-08T00:00:00",
          "2010-06-18T00:00:00",
          "2010-06-25T00:00:00",
          "2010-07-05T00:00:00",
          "2010-07-16T00:00:00",
          "2010-07-23T00:00:00",
          "2010-07-30T00:00:00",
          "2010-08-10T00:00:00",
          "2010-08-13T00:00:00",
          "2010-08-20T00:00:00",
          "2010-08-27T00:00:00",
          "2010-09-04T00:00:00",
          "2010-09-07T00:00:00",
          "2010-09-17T00:00:00",
          "2010-09-24T00:00:00",
          "2010-10-12T00:00:00",
          "2010-10-15T00:00:00",
          "2010-10-22T00:00:00",
          "2010-10-29T00:00:00",
          "2010-11-06T00:00:00",
          "2010-11-19T00:00:00",
          "2010-12-03T00:00:00",
          "2010-12-11T00:00:00",
          "2010-12-17T00:00:00",
          "2010-12-24T00:00:00",
          "2011-01-04T00:00:00",
          "2011-01-07T00:00:00",
          "2011-01-14T00:00:00",
          "2011-01-21T00:00:00",
          "2011-01-28T00:00:00",
          "2011-02-09T00:00:00",
          "2011-02-12T00:00:00",
          "2011-02-18T00:00:00",
          "2011-02-25T00:00:00",
          "2011-03-06T00:00:00",
          "2011-03-18T00:00:00",
          "2011-03-25T00:00:00",
          "2011-04-02T00:00:00",
          "2011-04-03T00:00:00",
          "2011-04-11T00:00:00",
          "2011-04-15T00:00:00",
          "2011-04-22T00:00:00",
          "2011-04-29T00:00:00",
          "2011-05-08T00:00:00",
          "2011-05-13T00:00:00",
          "2011-05-20T00:00:00",
          "2011-05-27T00:00:00",
          "2011-06-05T00:00:00",
          "2011-06-17T00:00:00",
          "2011-06-24T00:00:00",
          "2011-07-01T00:00:00",
          "2011-07-10T00:00:00",
          "2011-07-15T00:00:00",
          "2011-07-22T00:00:00",
          "2011-07-29T00:00:00",
          "2011-08-04T00:00:00",
          "2011-08-07T00:00:00",
          "2011-08-19T00:00:00",
          "2011-08-26T00:00:00",
          "2011-09-12T00:00:00",
          "2011-09-16T00:00:00",
          "2011-09-23T00:00:00",
          "2011-09-30T00:00:00",
          "2011-10-06T00:00:00",
          "2011-10-14T00:00:00",
          "2011-10-21T00:00:00",
          "2011-10-28T00:00:00",
          "2011-11-03T00:00:00",
          "2011-11-11T00:00:00",
          "2011-11-18T00:00:00",
          "2011-12-08T00:00:00",
          "2011-12-16T00:00:00",
          "2011-12-23T00:00:00",
          "2012-01-06T00:00:00",
          "2012-01-13T00:00:00",
          "2012-01-20T00:00:00",
          "2012-01-27T00:00:00",
          "2012-02-03T00:00:00",
          "2012-02-17T00:00:00",
          "2012-02-24T00:00:00",
          "2012-03-02T00:00:00",
          "2012-03-08T00:00:00",
          "2012-03-16T00:00:00",
          "2012-03-23T00:00:00",
          "2012-03-30T00:00:00",
          "2012-04-05T00:00:00",
          "2012-04-13T00:00:00",
          "2012-04-20T00:00:00",
          "2012-04-27T00:00:00",
          "2012-05-10T00:00:00",
          "2012-05-18T00:00:00",
          "2012-05-25T00:00:00",
          "2012-06-01T00:00:00",
          "2012-06-04T00:00:00",
          "2012-06-07T00:00:00",
          "2012-06-15T00:00:00",
          "2012-06-22T00:00:00",
          "2012-06-29T00:00:00",
          "2012-07-13T00:00:00",
          "2012-07-20T00:00:00",
          "2012-07-27T00:00:00",
          "2012-08-06T00:00:00",
          "2012-08-17T00:00:00",
          "2012-08-24T00:00:00",
          "2012-08-31T00:00:00",
          "2012-09-03T00:00:00",
          "2012-09-14T00:00:00",
          "2012-09-21T00:00:00",
          "2012-09-28T00:00:00",
          "2012-10-08T00:00:00",
          "2012-10-19T00:00:00",
          "2012-10-26T00:00:00",
          "2012-11-05T00:00:00",
          "2012-12-10T00:00:00"
         ],
         "y": [
          -103,
          -224,
          -175.54,
          -863,
          -1750,
          -173.84,
          -705,
          -198,
          -548.14,
          -90,
          -19,
          -30,
          -698,
          -59,
          -798,
          -100,
          -18.78,
          -39,
          -89,
          -100,
          -38,
          -65,
          -58,
          -59,
          -179,
          -1098,
          -4988.94,
          -4.97,
          -498,
          -450,
          -118,
          -78,
          -898,
          -498,
          -496,
          -1098,
          -28.96,
          -409,
          -24,
          -1098,
          -698,
          -21.96,
          -372.9,
          -147,
          -399,
          -778.5,
          -48.94,
          -64.08,
          -400,
          -3924,
          -45.25,
          -15.54,
          -97,
          -45.84,
          -189,
          -1321.48,
          -219,
          -60,
          -179,
          -499,
          -60,
          -82,
          -798,
          -92,
          -198,
          -68,
          -41.42,
          -43.48,
          -594,
          -224,
          -298,
          -590.04,
          -84,
          -59.12,
          -298,
          -198,
          -198,
          -83.57,
          -159,
          -31,
          -465.08,
          -1008.96,
          -55,
          -498,
          -598,
          -124,
          -515,
          -29.76,
          -101.26,
          -98,
          -498,
          -649,
          -88.08,
          -106.34,
          -370.12,
          -35.76,
          -259,
          -198,
          -149.88,
          -109,
          -99.87,
          -224,
          -259,
          -78.56,
          -69.56,
          -199.95,
          -298,
          -224,
          -289,
          -379,
          -124,
          -109,
          -63.32,
          -182.26,
          -224,
          -34.92,
          -71.74,
          -454.42,
          -168,
          -107.72,
          -78,
          -419.28,
          -771.9,
          -158,
          -1699,
          -400,
          -244.17,
          -389,
          -139.65,
          -22.92,
          -178.15,
          -548,
          -199
         ]
        },
        {
         "line": {
          "color": "blue"
         },
         "name": "q25",
         "opacity": 0.4,
         "type": "scatter",
         "x": [
          "2010-01-10T00:00:00",
          "2010-02-04T00:00:00",
          "2010-02-07T00:00:00",
          "2010-02-19T00:00:00",
          "2010-02-26T00:00:00",
          "2010-03-09T00:00:00",
          "2010-03-12T00:00:00",
          "2010-03-19T00:00:00",
          "2010-03-26T00:00:00",
          "2010-04-06T00:00:00",
          "2010-04-16T00:00:00",
          "2010-04-23T00:00:00",
          "2010-04-30T00:00:00",
          "2010-05-02T00:00:00",
          "2010-05-03T00:00:00",
          "2010-05-11T00:00:00",
          "2010-05-14T00:00:00",
          "2010-05-21T00:00:00",
          "2010-05-28T00:00:00",
          "2010-06-08T00:00:00",
          "2010-06-18T00:00:00",
          "2010-06-25T00:00:00",
          "2010-07-05T00:00:00",
          "2010-07-16T00:00:00",
          "2010-07-23T00:00:00",
          "2010-07-30T00:00:00",
          "2010-08-10T00:00:00",
          "2010-08-13T00:00:00",
          "2010-08-20T00:00:00",
          "2010-08-27T00:00:00",
          "2010-09-04T00:00:00",
          "2010-09-07T00:00:00",
          "2010-09-17T00:00:00",
          "2010-09-24T00:00:00",
          "2010-10-12T00:00:00",
          "2010-10-15T00:00:00",
          "2010-10-22T00:00:00",
          "2010-10-29T00:00:00",
          "2010-11-06T00:00:00",
          "2010-11-19T00:00:00",
          "2010-12-03T00:00:00",
          "2010-12-11T00:00:00",
          "2010-12-17T00:00:00",
          "2010-12-24T00:00:00",
          "2011-01-04T00:00:00",
          "2011-01-07T00:00:00",
          "2011-01-14T00:00:00",
          "2011-01-21T00:00:00",
          "2011-01-28T00:00:00",
          "2011-02-09T00:00:00",
          "2011-02-12T00:00:00",
          "2011-02-18T00:00:00",
          "2011-02-25T00:00:00",
          "2011-03-06T00:00:00",
          "2011-03-18T00:00:00",
          "2011-03-25T00:00:00",
          "2011-04-02T00:00:00",
          "2011-04-03T00:00:00",
          "2011-04-11T00:00:00",
          "2011-04-15T00:00:00",
          "2011-04-22T00:00:00",
          "2011-04-29T00:00:00",
          "2011-05-08T00:00:00",
          "2011-05-13T00:00:00",
          "2011-05-20T00:00:00",
          "2011-05-27T00:00:00",
          "2011-06-05T00:00:00",
          "2011-06-17T00:00:00",
          "2011-06-24T00:00:00",
          "2011-07-01T00:00:00",
          "2011-07-10T00:00:00",
          "2011-07-15T00:00:00",
          "2011-07-22T00:00:00",
          "2011-07-29T00:00:00",
          "2011-08-04T00:00:00",
          "2011-08-07T00:00:00",
          "2011-08-19T00:00:00",
          "2011-08-26T00:00:00",
          "2011-09-12T00:00:00",
          "2011-09-16T00:00:00",
          "2011-09-23T00:00:00",
          "2011-09-30T00:00:00",
          "2011-10-06T00:00:00",
          "2011-10-14T00:00:00",
          "2011-10-21T00:00:00",
          "2011-10-28T00:00:00",
          "2011-11-03T00:00:00",
          "2011-11-11T00:00:00",
          "2011-11-18T00:00:00",
          "2011-12-08T00:00:00",
          "2011-12-16T00:00:00",
          "2011-12-23T00:00:00",
          "2012-01-06T00:00:00",
          "2012-01-13T00:00:00",
          "2012-01-20T00:00:00",
          "2012-01-27T00:00:00",
          "2012-02-03T00:00:00",
          "2012-02-17T00:00:00",
          "2012-02-24T00:00:00",
          "2012-03-02T00:00:00",
          "2012-03-08T00:00:00",
          "2012-03-16T00:00:00",
          "2012-03-23T00:00:00",
          "2012-03-30T00:00:00",
          "2012-04-05T00:00:00",
          "2012-04-13T00:00:00",
          "2012-04-20T00:00:00",
          "2012-04-27T00:00:00",
          "2012-05-10T00:00:00",
          "2012-05-18T00:00:00",
          "2012-05-25T00:00:00",
          "2012-06-01T00:00:00",
          "2012-06-04T00:00:00",
          "2012-06-07T00:00:00",
          "2012-06-15T00:00:00",
          "2012-06-22T00:00:00",
          "2012-06-29T00:00:00",
          "2012-07-13T00:00:00",
          "2012-07-20T00:00:00",
          "2012-07-27T00:00:00",
          "2012-08-06T00:00:00",
          "2012-08-17T00:00:00",
          "2012-08-24T00:00:00",
          "2012-08-31T00:00:00",
          "2012-09-03T00:00:00",
          "2012-09-14T00:00:00",
          "2012-09-21T00:00:00",
          "2012-09-28T00:00:00",
          "2012-10-08T00:00:00",
          "2012-10-19T00:00:00",
          "2012-10-26T00:00:00",
          "2012-11-05T00:00:00",
          "2012-12-10T00:00:00"
         ],
         "y": [
          2057.205,
          2443.37,
          2315.38,
          2193.34,
          1847.595,
          2078.5075,
          2376.41,
          2234.29,
          2210.15,
          2407.8125,
          1998.845,
          2052.94,
          2025.81,
          2105.535,
          1953.0875,
          2283.2349999999997,
          2279.2525,
          2248.63,
          2403.09,
          2286.8450000000003,
          2348.29,
          2354.9,
          2312.4175,
          2142.36,
          2013.515,
          2103.85,
          2255.3925,
          2249.8199999999997,
          2258.74,
          2292.425,
          2297.2650000000003,
          2275.69,
          2085.31,
          2057.305,
          2617.585,
          2147.2825000000003,
          2082.7349999999997,
          2201.3999999999996,
          2385.04,
          2311.31,
          2075.3450000000003,
          2254.89,
          2873.1099999999997,
          3588.065,
          1981.67,
          2120.255,
          1605.0900000000001,
          1676.74,
          1622.705,
          1855.57,
          2178.59,
          2293.81,
          1951.8575,
          2206.3025000000002,
          2045,
          2012.0875,
          1972.1675,
          1969.9325000000001,
          2230.71,
          2141.19,
          2258.435,
          2022.7575,
          1991.24,
          2151.695,
          2060.8975,
          2069.84,
          2066.4900000000002,
          2169.43,
          2147.6499999999996,
          1831.7450000000001,
          2162.5575,
          2059.1825,
          1939.5425,
          1883.73,
          2170,
          2070.71,
          1889.55,
          1961.93,
          2487.4775,
          1988.0425,
          1970.36,
          1989.32,
          2251.745,
          2147.56,
          2102.795,
          2164.8675,
          1911.835,
          2078.6,
          1970.64,
          1930.4275,
          2698.72,
          3168.34,
          2150.49,
          1582.385,
          1558.8899999999999,
          1528.335,
          1807.56,
          2139.635,
          1866.58,
          1728.87,
          1806.7849999999999,
          2105.0575,
          2068.62,
          2118.15,
          1960.2150000000001,
          2055.35,
          1836.38,
          1837.0425,
          2090.0575,
          2179.14,
          2155.44,
          1693.14,
          2241.89,
          2050.58,
          2130.8925,
          2128.11,
          2021.08,
          1905.4025,
          1892.37,
          1866.29,
          2085.3975,
          1854.1799999999998,
          1945.06,
          1918.07,
          1942.625,
          1805.87,
          2025.035,
          1987.5774999999999,
          1846.66,
          2095.31,
          2114.365,
          2074.15,
          2018.9050000000002
         ]
        },
        {
         "line": {
          "color": "blue"
         },
         "name": "q50",
         "opacity": 0.4,
         "type": "scatter",
         "x": [
          "2010-01-10T00:00:00",
          "2010-02-04T00:00:00",
          "2010-02-07T00:00:00",
          "2010-02-19T00:00:00",
          "2010-02-26T00:00:00",
          "2010-03-09T00:00:00",
          "2010-03-12T00:00:00",
          "2010-03-19T00:00:00",
          "2010-03-26T00:00:00",
          "2010-04-06T00:00:00",
          "2010-04-16T00:00:00",
          "2010-04-23T00:00:00",
          "2010-04-30T00:00:00",
          "2010-05-02T00:00:00",
          "2010-05-03T00:00:00",
          "2010-05-11T00:00:00",
          "2010-05-14T00:00:00",
          "2010-05-21T00:00:00",
          "2010-05-28T00:00:00",
          "2010-06-08T00:00:00",
          "2010-06-18T00:00:00",
          "2010-06-25T00:00:00",
          "2010-07-05T00:00:00",
          "2010-07-16T00:00:00",
          "2010-07-23T00:00:00",
          "2010-07-30T00:00:00",
          "2010-08-10T00:00:00",
          "2010-08-13T00:00:00",
          "2010-08-20T00:00:00",
          "2010-08-27T00:00:00",
          "2010-09-04T00:00:00",
          "2010-09-07T00:00:00",
          "2010-09-17T00:00:00",
          "2010-09-24T00:00:00",
          "2010-10-12T00:00:00",
          "2010-10-15T00:00:00",
          "2010-10-22T00:00:00",
          "2010-10-29T00:00:00",
          "2010-11-06T00:00:00",
          "2010-11-19T00:00:00",
          "2010-12-03T00:00:00",
          "2010-12-11T00:00:00",
          "2010-12-17T00:00:00",
          "2010-12-24T00:00:00",
          "2011-01-04T00:00:00",
          "2011-01-07T00:00:00",
          "2011-01-14T00:00:00",
          "2011-01-21T00:00:00",
          "2011-01-28T00:00:00",
          "2011-02-09T00:00:00",
          "2011-02-12T00:00:00",
          "2011-02-18T00:00:00",
          "2011-02-25T00:00:00",
          "2011-03-06T00:00:00",
          "2011-03-18T00:00:00",
          "2011-03-25T00:00:00",
          "2011-04-02T00:00:00",
          "2011-04-03T00:00:00",
          "2011-04-11T00:00:00",
          "2011-04-15T00:00:00",
          "2011-04-22T00:00:00",
          "2011-04-29T00:00:00",
          "2011-05-08T00:00:00",
          "2011-05-13T00:00:00",
          "2011-05-20T00:00:00",
          "2011-05-27T00:00:00",
          "2011-06-05T00:00:00",
          "2011-06-17T00:00:00",
          "2011-06-24T00:00:00",
          "2011-07-01T00:00:00",
          "2011-07-10T00:00:00",
          "2011-07-15T00:00:00",
          "2011-07-22T00:00:00",
          "2011-07-29T00:00:00",
          "2011-08-04T00:00:00",
          "2011-08-07T00:00:00",
          "2011-08-19T00:00:00",
          "2011-08-26T00:00:00",
          "2011-09-12T00:00:00",
          "2011-09-16T00:00:00",
          "2011-09-23T00:00:00",
          "2011-09-30T00:00:00",
          "2011-10-06T00:00:00",
          "2011-10-14T00:00:00",
          "2011-10-21T00:00:00",
          "2011-10-28T00:00:00",
          "2011-11-03T00:00:00",
          "2011-11-11T00:00:00",
          "2011-11-18T00:00:00",
          "2011-12-08T00:00:00",
          "2011-12-16T00:00:00",
          "2011-12-23T00:00:00",
          "2012-01-06T00:00:00",
          "2012-01-13T00:00:00",
          "2012-01-20T00:00:00",
          "2012-01-27T00:00:00",
          "2012-02-03T00:00:00",
          "2012-02-17T00:00:00",
          "2012-02-24T00:00:00",
          "2012-03-02T00:00:00",
          "2012-03-08T00:00:00",
          "2012-03-16T00:00:00",
          "2012-03-23T00:00:00",
          "2012-03-30T00:00:00",
          "2012-04-05T00:00:00",
          "2012-04-13T00:00:00",
          "2012-04-20T00:00:00",
          "2012-04-27T00:00:00",
          "2012-05-10T00:00:00",
          "2012-05-18T00:00:00",
          "2012-05-25T00:00:00",
          "2012-06-01T00:00:00",
          "2012-06-04T00:00:00",
          "2012-06-07T00:00:00",
          "2012-06-15T00:00:00",
          "2012-06-22T00:00:00",
          "2012-06-29T00:00:00",
          "2012-07-13T00:00:00",
          "2012-07-20T00:00:00",
          "2012-07-27T00:00:00",
          "2012-08-06T00:00:00",
          "2012-08-17T00:00:00",
          "2012-08-24T00:00:00",
          "2012-08-31T00:00:00",
          "2012-09-03T00:00:00",
          "2012-09-14T00:00:00",
          "2012-09-21T00:00:00",
          "2012-09-28T00:00:00",
          "2012-10-08T00:00:00",
          "2012-10-19T00:00:00",
          "2012-10-26T00:00:00",
          "2012-11-05T00:00:00",
          "2012-12-10T00:00:00"
         ],
         "y": [
          6940.74,
          8658.89,
          8117.29,
          8411.25,
          7235.8,
          7812.045,
          7961.35,
          7915.6,
          7345.13,
          8596.01,
          7506.59,
          7644.98,
          7384.9,
          7904.69,
          7717.975,
          7686.1900000000005,
          8022.9349999999995,
          7847.14,
          8306.6,
          8491.78,
          8127.63,
          8067.45,
          8467.06,
          7828.5,
          7575.59,
          7757.76,
          7487.84,
          8247.205,
          8330.14,
          8103.87,
          8006.27,
          7867.66,
          7202.98,
          7005.195,
          9251.665,
          7180.21,
          7225.555,
          7415.065,
          8114.88,
          7711.74,
          7529.549999999999,
          7703.4349999999995,
          10614.75,
          13832.275000000001,
          7048.01,
          7754,
          5961.71,
          6139.3150000000005,
          6227.98,
          7330,
          7656.425,
          8480.37,
          7239.48,
          8002.51,
          7578.27,
          7208.514999999999,
          7312.115,
          7633.16,
          7657.955,
          7424.55,
          8167.83,
          7437.785,
          7901.07,
          7446.6,
          7318.74,
          7591.59,
          7608.145,
          7741.32,
          7536.110000000001,
          6384.99,
          7476.68,
          7249.96,
          7376.995,
          7208.87,
          7390.14,
          7588.98,
          7597.58,
          7607.51,
          8732.805,
          6995.875,
          7008.99,
          6781.34,
          7908.375,
          7102.2,
          7388.6849999999995,
          7407.65,
          7104.21,
          7540.39,
          7404.92,
          7526.45,
          9836.4,
          12685.69,
          7692.24,
          5914.860000000001,
          6146.31,
          5785.84,
          7342.105,
          8019.52,
          7360.36,
          6859.65,
          7495.32,
          7754.67,
          7487.2,
          7428.85,
          7414.78,
          7507.13,
          7096.46,
          6951.264999999999,
          7486.844999999999,
          7672.99,
          7801.2,
          6586.37,
          8538.09,
          7786.09,
          7695.42,
          7526.74,
          7500.8,
          7318.299999999999,
          7405.375,
          7196.4,
          7839.4349999999995,
          7632.73,
          7688.21,
          7816.360000000001,
          7458.955,
          6835,
          7010.09,
          6957.120000000001,
          7557.5,
          7374.7,
          7547.23,
          7533.42,
          7324.96
         ]
        },
        {
         "line": {
          "color": "blue"
         },
         "name": "q75",
         "opacity": 0.4,
         "type": "scatter",
         "x": [
          "2010-01-10T00:00:00",
          "2010-02-04T00:00:00",
          "2010-02-07T00:00:00",
          "2010-02-19T00:00:00",
          "2010-02-26T00:00:00",
          "2010-03-09T00:00:00",
          "2010-03-12T00:00:00",
          "2010-03-19T00:00:00",
          "2010-03-26T00:00:00",
          "2010-04-06T00:00:00",
          "2010-04-16T00:00:00",
          "2010-04-23T00:00:00",
          "2010-04-30T00:00:00",
          "2010-05-02T00:00:00",
          "2010-05-03T00:00:00",
          "2010-05-11T00:00:00",
          "2010-05-14T00:00:00",
          "2010-05-21T00:00:00",
          "2010-05-28T00:00:00",
          "2010-06-08T00:00:00",
          "2010-06-18T00:00:00",
          "2010-06-25T00:00:00",
          "2010-07-05T00:00:00",
          "2010-07-16T00:00:00",
          "2010-07-23T00:00:00",
          "2010-07-30T00:00:00",
          "2010-08-10T00:00:00",
          "2010-08-13T00:00:00",
          "2010-08-20T00:00:00",
          "2010-08-27T00:00:00",
          "2010-09-04T00:00:00",
          "2010-09-07T00:00:00",
          "2010-09-17T00:00:00",
          "2010-09-24T00:00:00",
          "2010-10-12T00:00:00",
          "2010-10-15T00:00:00",
          "2010-10-22T00:00:00",
          "2010-10-29T00:00:00",
          "2010-11-06T00:00:00",
          "2010-11-19T00:00:00",
          "2010-12-03T00:00:00",
          "2010-12-11T00:00:00",
          "2010-12-17T00:00:00",
          "2010-12-24T00:00:00",
          "2011-01-04T00:00:00",
          "2011-01-07T00:00:00",
          "2011-01-14T00:00:00",
          "2011-01-21T00:00:00",
          "2011-01-28T00:00:00",
          "2011-02-09T00:00:00",
          "2011-02-12T00:00:00",
          "2011-02-18T00:00:00",
          "2011-02-25T00:00:00",
          "2011-03-06T00:00:00",
          "2011-03-18T00:00:00",
          "2011-03-25T00:00:00",
          "2011-04-02T00:00:00",
          "2011-04-03T00:00:00",
          "2011-04-11T00:00:00",
          "2011-04-15T00:00:00",
          "2011-04-22T00:00:00",
          "2011-04-29T00:00:00",
          "2011-05-08T00:00:00",
          "2011-05-13T00:00:00",
          "2011-05-20T00:00:00",
          "2011-05-27T00:00:00",
          "2011-06-05T00:00:00",
          "2011-06-17T00:00:00",
          "2011-06-24T00:00:00",
          "2011-07-01T00:00:00",
          "2011-07-10T00:00:00",
          "2011-07-15T00:00:00",
          "2011-07-22T00:00:00",
          "2011-07-29T00:00:00",
          "2011-08-04T00:00:00",
          "2011-08-07T00:00:00",
          "2011-08-19T00:00:00",
          "2011-08-26T00:00:00",
          "2011-09-12T00:00:00",
          "2011-09-16T00:00:00",
          "2011-09-23T00:00:00",
          "2011-09-30T00:00:00",
          "2011-10-06T00:00:00",
          "2011-10-14T00:00:00",
          "2011-10-21T00:00:00",
          "2011-10-28T00:00:00",
          "2011-11-03T00:00:00",
          "2011-11-11T00:00:00",
          "2011-11-18T00:00:00",
          "2011-12-08T00:00:00",
          "2011-12-16T00:00:00",
          "2011-12-23T00:00:00",
          "2012-01-06T00:00:00",
          "2012-01-13T00:00:00",
          "2012-01-20T00:00:00",
          "2012-01-27T00:00:00",
          "2012-02-03T00:00:00",
          "2012-02-17T00:00:00",
          "2012-02-24T00:00:00",
          "2012-03-02T00:00:00",
          "2012-03-08T00:00:00",
          "2012-03-16T00:00:00",
          "2012-03-23T00:00:00",
          "2012-03-30T00:00:00",
          "2012-04-05T00:00:00",
          "2012-04-13T00:00:00",
          "2012-04-20T00:00:00",
          "2012-04-27T00:00:00",
          "2012-05-10T00:00:00",
          "2012-05-18T00:00:00",
          "2012-05-25T00:00:00",
          "2012-06-01T00:00:00",
          "2012-06-04T00:00:00",
          "2012-06-07T00:00:00",
          "2012-06-15T00:00:00",
          "2012-06-22T00:00:00",
          "2012-06-29T00:00:00",
          "2012-07-13T00:00:00",
          "2012-07-20T00:00:00",
          "2012-07-27T00:00:00",
          "2012-08-06T00:00:00",
          "2012-08-17T00:00:00",
          "2012-08-24T00:00:00",
          "2012-08-31T00:00:00",
          "2012-09-03T00:00:00",
          "2012-09-14T00:00:00",
          "2012-09-21T00:00:00",
          "2012-09-28T00:00:00",
          "2012-10-08T00:00:00",
          "2012-10-19T00:00:00",
          "2012-10-26T00:00:00",
          "2012-11-05T00:00:00",
          "2012-12-10T00:00:00"
         ],
         "y": [
          18007.85,
          21876.58,
          22019.25,
          20576.03,
          18104.72,
          20651.6125,
          21618.27,
          19202.195,
          18987.66,
          22973.3825,
          19140.125,
          19061.79,
          18756.53,
          20471.27,
          19412.0225,
          20091.824999999997,
          19617.82,
          19765.735,
          21411.37,
          21520.1925,
          21464.48,
          21195.42,
          20903.8275,
          21053.58,
          20265.345,
          20013.01,
          19183.0275,
          20603.65,
          20826.91,
          20141.385000000002,
          20694.815000000002,
          21677.265,
          18057.74,
          17565.627500000002,
          24009.4725,
          18425.445,
          18702.025,
          19137.807500000003,
          21499.54,
          19758.065,
          19292.3125,
          19753.2325,
          27001.22,
          35240.0725,
          18416.235,
          21389.989999999998,
          16585.1925,
          16684.56,
          16510.9,
          19567.6,
          21211.4225,
          21159.77,
          18590.4325,
          22160.442499999997,
          18856.47,
          18342.8875,
          19221.1525,
          19424.575,
          21067.412500000002,
          19489.96,
          21100.87,
          19232.4225,
          21143.58,
          19397.995000000003,
          19038.7675,
          20403.775,
          19887.015,
          21015.78,
          20853.6575,
          17506.795,
          19868.09,
          20226.17,
          20508.665,
          19615.48,
          19612.96,
          21534.72,
          19877.34,
          20496.165,
          24093.4925,
          18169.1325,
          17662.62,
          17611.055,
          21248.5375,
          18912.760000000002,
          19321.690000000002,
          19862.715,
          18642.975,
          20658.06,
          19291.39,
          20193.059999999998,
          25915.61,
          33001.2,
          21639.155,
          16838.64,
          16946.835,
          16152.6375,
          19380.7275,
          21082.690000000002,
          19324.93,
          18392.68,
          20715.91,
          19913.55,
          19487.1,
          19690.21,
          19973.16,
          19907.84,
          19475.14,
          18698.642499999998,
          19595.8025,
          20293.95,
          21502.08,
          18072.24,
          22852.765,
          23215.61,
          21502.9575,
          21447.02,
          21137.62,
          20396.9175,
          20376.730000000003,
          19536.36,
          21494.4125,
          20058.989999999998,
          20555.0125,
          20298.2675,
          19616.0525,
          18298.54,
          18315.47,
          18328.5475,
          20400.88,
          19304.9575,
          20052.96,
          20411.18,
          19434.2525
         ]
        },
        {
         "line": {
          "color": "red"
         },
         "name": "Max",
         "opacity": 0.4,
         "type": "scatter",
         "x": [
          "2010-01-10T00:00:00",
          "2010-02-04T00:00:00",
          "2010-02-07T00:00:00",
          "2010-02-19T00:00:00",
          "2010-02-26T00:00:00",
          "2010-03-09T00:00:00",
          "2010-03-12T00:00:00",
          "2010-03-19T00:00:00",
          "2010-03-26T00:00:00",
          "2010-04-06T00:00:00",
          "2010-04-16T00:00:00",
          "2010-04-23T00:00:00",
          "2010-04-30T00:00:00",
          "2010-05-02T00:00:00",
          "2010-05-03T00:00:00",
          "2010-05-11T00:00:00",
          "2010-05-14T00:00:00",
          "2010-05-21T00:00:00",
          "2010-05-28T00:00:00",
          "2010-06-08T00:00:00",
          "2010-06-18T00:00:00",
          "2010-06-25T00:00:00",
          "2010-07-05T00:00:00",
          "2010-07-16T00:00:00",
          "2010-07-23T00:00:00",
          "2010-07-30T00:00:00",
          "2010-08-10T00:00:00",
          "2010-08-13T00:00:00",
          "2010-08-20T00:00:00",
          "2010-08-27T00:00:00",
          "2010-09-04T00:00:00",
          "2010-09-07T00:00:00",
          "2010-09-17T00:00:00",
          "2010-09-24T00:00:00",
          "2010-10-12T00:00:00",
          "2010-10-15T00:00:00",
          "2010-10-22T00:00:00",
          "2010-10-29T00:00:00",
          "2010-11-06T00:00:00",
          "2010-11-19T00:00:00",
          "2010-12-03T00:00:00",
          "2010-12-11T00:00:00",
          "2010-12-17T00:00:00",
          "2010-12-24T00:00:00",
          "2011-01-04T00:00:00",
          "2011-01-07T00:00:00",
          "2011-01-14T00:00:00",
          "2011-01-21T00:00:00",
          "2011-01-28T00:00:00",
          "2011-02-09T00:00:00",
          "2011-02-12T00:00:00",
          "2011-02-18T00:00:00",
          "2011-02-25T00:00:00",
          "2011-03-06T00:00:00",
          "2011-03-18T00:00:00",
          "2011-03-25T00:00:00",
          "2011-04-02T00:00:00",
          "2011-04-03T00:00:00",
          "2011-04-11T00:00:00",
          "2011-04-15T00:00:00",
          "2011-04-22T00:00:00",
          "2011-04-29T00:00:00",
          "2011-05-08T00:00:00",
          "2011-05-13T00:00:00",
          "2011-05-20T00:00:00",
          "2011-05-27T00:00:00",
          "2011-06-05T00:00:00",
          "2011-06-17T00:00:00",
          "2011-06-24T00:00:00",
          "2011-07-01T00:00:00",
          "2011-07-10T00:00:00",
          "2011-07-15T00:00:00",
          "2011-07-22T00:00:00",
          "2011-07-29T00:00:00",
          "2011-08-04T00:00:00",
          "2011-08-07T00:00:00",
          "2011-08-19T00:00:00",
          "2011-08-26T00:00:00",
          "2011-09-12T00:00:00",
          "2011-09-16T00:00:00",
          "2011-09-23T00:00:00",
          "2011-09-30T00:00:00",
          "2011-10-06T00:00:00",
          "2011-10-14T00:00:00",
          "2011-10-21T00:00:00",
          "2011-10-28T00:00:00",
          "2011-11-03T00:00:00",
          "2011-11-11T00:00:00",
          "2011-11-18T00:00:00",
          "2011-12-08T00:00:00",
          "2011-12-16T00:00:00",
          "2011-12-23T00:00:00",
          "2012-01-06T00:00:00",
          "2012-01-13T00:00:00",
          "2012-01-20T00:00:00",
          "2012-01-27T00:00:00",
          "2012-02-03T00:00:00",
          "2012-02-17T00:00:00",
          "2012-02-24T00:00:00",
          "2012-03-02T00:00:00",
          "2012-03-08T00:00:00",
          "2012-03-16T00:00:00",
          "2012-03-23T00:00:00",
          "2012-03-30T00:00:00",
          "2012-04-05T00:00:00",
          "2012-04-13T00:00:00",
          "2012-04-20T00:00:00",
          "2012-04-27T00:00:00",
          "2012-05-10T00:00:00",
          "2012-05-18T00:00:00",
          "2012-05-25T00:00:00",
          "2012-06-01T00:00:00",
          "2012-06-04T00:00:00",
          "2012-06-07T00:00:00",
          "2012-06-15T00:00:00",
          "2012-06-22T00:00:00",
          "2012-06-29T00:00:00",
          "2012-07-13T00:00:00",
          "2012-07-20T00:00:00",
          "2012-07-27T00:00:00",
          "2012-08-06T00:00:00",
          "2012-08-17T00:00:00",
          "2012-08-24T00:00:00",
          "2012-08-31T00:00:00",
          "2012-09-03T00:00:00",
          "2012-09-14T00:00:00",
          "2012-09-21T00:00:00",
          "2012-09-28T00:00:00",
          "2012-10-08T00:00:00",
          "2012-10-19T00:00:00",
          "2012-10-26T00:00:00",
          "2012-11-05T00:00:00",
          "2012-12-10T00:00:00"
         ],
         "y": [
          174219.51,
          203457.42,
          198349.17,
          192282.19,
          205250.96,
          198704.92,
          218559.54,
          178028.58,
          167512.67,
          190128.43,
          184591.99,
          183147.38,
          177014.37,
          293966.05,
          214383.07,
          206935.29,
          177116.48,
          183182.96,
          187738.85,
          204695.13,
          188045.88,
          178621.33,
          206160.36,
          177803.19,
          168341.28,
          168187.32,
          210596.66,
          181729.63,
          180468.24,
          175412.46,
          180584.36,
          191981.99,
          179946.34,
          170830.69,
          221013.44,
          182166.26,
          180585.77,
          176155.17,
          194723.71,
          205829.42,
          197070.21,
          200451.31,
          268789.69,
          406988.63,
          175473.67,
          175468.71,
          190728.6,
          173771.66,
          161663.64,
          164320.09,
          172338.47,
          207773.4,
          205507.71,
          162995.08,
          178875.27,
          172111.54,
          207824.62,
          200367.18,
          208504.83,
          175531.22,
          191840.95,
          144127.68,
          197416.29,
          165095.96,
          180525.39,
          171545.23,
          196628.33,
          177156.22,
          166873.16,
          198789.07,
          221834.28,
          169013.07,
          163241.85,
          158816.24,
          206017.23,
          188688.12,
          171553.94,
          241120,
          227088.13,
          177437.5,
          178288.71,
          172057.5,
          190737.26,
          187911.15,
          181127.71,
          183447.07,
          191167.3,
          206465.15,
          204812.37,
          174877.08,
          210877.54,
          341308,
          165598.92,
          197649.89,
          185683.25,
          169990.21,
          190545.48,
          190137.86,
          184077.26,
          198551.21,
          171598.2,
          185618.81,
          165498.72,
          171498.91,
          200789.85,
          170989.18,
          181183.91,
          169755.19,
          192860.85,
          173004.56,
          180251.98,
          206871.52,
          224917.94,
          185215.02,
          183228.69,
          170131.9,
          169858.42,
          191882.2,
          179823.4,
          160703.97,
          206575.9,
          182031.93,
          168512.87,
          169994.15,
          213636.03,
          186759.11,
          179575.44,
          169014,
          194032.48,
          184451.36,
          183483.92,
          194034.68,
          192455.74
         ]
        }
       ],
       "layout": {
        "template": {
         "data": {
          "bar": [
           {
            "error_x": {
             "color": "#2a3f5f"
            },
            "error_y": {
             "color": "#2a3f5f"
            },
            "marker": {
             "line": {
              "color": "#E5ECF6",
              "width": 0.5
             }
            },
            "type": "bar"
           }
          ],
          "barpolar": [
           {
            "marker": {
             "line": {
              "color": "#E5ECF6",
              "width": 0.5
             }
            },
            "type": "barpolar"
           }
          ],
          "carpet": [
           {
            "aaxis": {
             "endlinecolor": "#2a3f5f",
             "gridcolor": "white",
             "linecolor": "white",
             "minorgridcolor": "white",
             "startlinecolor": "#2a3f5f"
            },
            "baxis": {
             "endlinecolor": "#2a3f5f",
             "gridcolor": "white",
             "linecolor": "white",
             "minorgridcolor": "white",
             "startlinecolor": "#2a3f5f"
            },
            "type": "carpet"
           }
          ],
          "choropleth": [
           {
            "colorbar": {
             "outlinewidth": 0,
             "ticks": ""
            },
            "type": "choropleth"
           }
          ],
          "contour": [
           {
            "colorbar": {
             "outlinewidth": 0,
             "ticks": ""
            },
            "colorscale": [
             [
              0,
              "#0d0887"
             ],
             [
              0.1111111111111111,
              "#46039f"
             ],
             [
              0.2222222222222222,
              "#7201a8"
             ],
             [
              0.3333333333333333,
              "#9c179e"
             ],
             [
              0.4444444444444444,
              "#bd3786"
             ],
             [
              0.5555555555555556,
              "#d8576b"
             ],
             [
              0.6666666666666666,
              "#ed7953"
             ],
             [
              0.7777777777777778,
              "#fb9f3a"
             ],
             [
              0.8888888888888888,
              "#fdca26"
             ],
             [
              1,
              "#f0f921"
             ]
            ],
            "type": "contour"
           }
          ],
          "contourcarpet": [
           {
            "colorbar": {
             "outlinewidth": 0,
             "ticks": ""
            },
            "type": "contourcarpet"
           }
          ],
          "heatmap": [
           {
            "colorbar": {
             "outlinewidth": 0,
             "ticks": ""
            },
            "colorscale": [
             [
              0,
              "#0d0887"
             ],
             [
              0.1111111111111111,
              "#46039f"
             ],
             [
              0.2222222222222222,
              "#7201a8"
             ],
             [
              0.3333333333333333,
              "#9c179e"
             ],
             [
              0.4444444444444444,
              "#bd3786"
             ],
             [
              0.5555555555555556,
              "#d8576b"
             ],
             [
              0.6666666666666666,
              "#ed7953"
             ],
             [
              0.7777777777777778,
              "#fb9f3a"
             ],
             [
              0.8888888888888888,
              "#fdca26"
             ],
             [
              1,
              "#f0f921"
             ]
            ],
            "type": "heatmap"
           }
          ],
          "heatmapgl": [
           {
            "colorbar": {
             "outlinewidth": 0,
             "ticks": ""
            },
            "colorscale": [
             [
              0,
              "#0d0887"
             ],
             [
              0.1111111111111111,
              "#46039f"
             ],
             [
              0.2222222222222222,
              "#7201a8"
             ],
             [
              0.3333333333333333,
              "#9c179e"
             ],
             [
              0.4444444444444444,
              "#bd3786"
             ],
             [
              0.5555555555555556,
              "#d8576b"
             ],
             [
              0.6666666666666666,
              "#ed7953"
             ],
             [
              0.7777777777777778,
              "#fb9f3a"
             ],
             [
              0.8888888888888888,
              "#fdca26"
             ],
             [
              1,
              "#f0f921"
             ]
            ],
            "type": "heatmapgl"
           }
          ],
          "histogram": [
           {
            "marker": {
             "colorbar": {
              "outlinewidth": 0,
              "ticks": ""
             }
            },
            "type": "histogram"
           }
          ],
          "histogram2d": [
           {
            "colorbar": {
             "outlinewidth": 0,
             "ticks": ""
            },
            "colorscale": [
             [
              0,
              "#0d0887"
             ],
             [
              0.1111111111111111,
              "#46039f"
             ],
             [
              0.2222222222222222,
              "#7201a8"
             ],
             [
              0.3333333333333333,
              "#9c179e"
             ],
             [
              0.4444444444444444,
              "#bd3786"
             ],
             [
              0.5555555555555556,
              "#d8576b"
             ],
             [
              0.6666666666666666,
              "#ed7953"
             ],
             [
              0.7777777777777778,
              "#fb9f3a"
             ],
             [
              0.8888888888888888,
              "#fdca26"
             ],
             [
              1,
              "#f0f921"
             ]
            ],
            "type": "histogram2d"
           }
          ],
          "histogram2dcontour": [
           {
            "colorbar": {
             "outlinewidth": 0,
             "ticks": ""
            },
            "colorscale": [
             [
              0,
              "#0d0887"
             ],
             [
              0.1111111111111111,
              "#46039f"
             ],
             [
              0.2222222222222222,
              "#7201a8"
             ],
             [
              0.3333333333333333,
              "#9c179e"
             ],
             [
              0.4444444444444444,
              "#bd3786"
             ],
             [
              0.5555555555555556,
              "#d8576b"
             ],
             [
              0.6666666666666666,
              "#ed7953"
             ],
             [
              0.7777777777777778,
              "#fb9f3a"
             ],
             [
              0.8888888888888888,
              "#fdca26"
             ],
             [
              1,
              "#f0f921"
             ]
            ],
            "type": "histogram2dcontour"
           }
          ],
          "mesh3d": [
           {
            "colorbar": {
             "outlinewidth": 0,
             "ticks": ""
            },
            "type": "mesh3d"
           }
          ],
          "parcoords": [
           {
            "line": {
             "colorbar": {
              "outlinewidth": 0,
              "ticks": ""
             }
            },
            "type": "parcoords"
           }
          ],
          "pie": [
           {
            "automargin": true,
            "type": "pie"
           }
          ],
          "scatter": [
           {
            "marker": {
             "colorbar": {
              "outlinewidth": 0,
              "ticks": ""
             }
            },
            "type": "scatter"
           }
          ],
          "scatter3d": [
           {
            "line": {
             "colorbar": {
              "outlinewidth": 0,
              "ticks": ""
             }
            },
            "marker": {
             "colorbar": {
              "outlinewidth": 0,
              "ticks": ""
             }
            },
            "type": "scatter3d"
           }
          ],
          "scattercarpet": [
           {
            "marker": {
             "colorbar": {
              "outlinewidth": 0,
              "ticks": ""
             }
            },
            "type": "scattercarpet"
           }
          ],
          "scattergeo": [
           {
            "marker": {
             "colorbar": {
              "outlinewidth": 0,
              "ticks": ""
             }
            },
            "type": "scattergeo"
           }
          ],
          "scattergl": [
           {
            "marker": {
             "colorbar": {
              "outlinewidth": 0,
              "ticks": ""
             }
            },
            "type": "scattergl"
           }
          ],
          "scattermapbox": [
           {
            "marker": {
             "colorbar": {
              "outlinewidth": 0,
              "ticks": ""
             }
            },
            "type": "scattermapbox"
           }
          ],
          "scatterpolar": [
           {
            "marker": {
             "colorbar": {
              "outlinewidth": 0,
              "ticks": ""
             }
            },
            "type": "scatterpolar"
           }
          ],
          "scatterpolargl": [
           {
            "marker": {
             "colorbar": {
              "outlinewidth": 0,
              "ticks": ""
             }
            },
            "type": "scatterpolargl"
           }
          ],
          "scatterternary": [
           {
            "marker": {
             "colorbar": {
              "outlinewidth": 0,
              "ticks": ""
             }
            },
            "type": "scatterternary"
           }
          ],
          "surface": [
           {
            "colorbar": {
             "outlinewidth": 0,
             "ticks": ""
            },
            "colorscale": [
             [
              0,
              "#0d0887"
             ],
             [
              0.1111111111111111,
              "#46039f"
             ],
             [
              0.2222222222222222,
              "#7201a8"
             ],
             [
              0.3333333333333333,
              "#9c179e"
             ],
             [
              0.4444444444444444,
              "#bd3786"
             ],
             [
              0.5555555555555556,
              "#d8576b"
             ],
             [
              0.6666666666666666,
              "#ed7953"
             ],
             [
              0.7777777777777778,
              "#fb9f3a"
             ],
             [
              0.8888888888888888,
              "#fdca26"
             ],
             [
              1,
              "#f0f921"
             ]
            ],
            "type": "surface"
           }
          ],
          "table": [
           {
            "cells": {
             "fill": {
              "color": "#EBF0F8"
             },
             "line": {
              "color": "white"
             }
            },
            "header": {
             "fill": {
              "color": "#C8D4E3"
             },
             "line": {
              "color": "white"
             }
            },
            "type": "table"
           }
          ]
         },
         "layout": {
          "annotationdefaults": {
           "arrowcolor": "#2a3f5f",
           "arrowhead": 0,
           "arrowwidth": 1
          },
          "autotypenumbers": "strict",
          "coloraxis": {
           "colorbar": {
            "outlinewidth": 0,
            "ticks": ""
           }
          },
          "colorscale": {
           "diverging": [
            [
             0,
             "#8e0152"
            ],
            [
             0.1,
             "#c51b7d"
            ],
            [
             0.2,
             "#de77ae"
            ],
            [
             0.3,
             "#f1b6da"
            ],
            [
             0.4,
             "#fde0ef"
            ],
            [
             0.5,
             "#f7f7f7"
            ],
            [
             0.6,
             "#e6f5d0"
            ],
            [
             0.7,
             "#b8e186"
            ],
            [
             0.8,
             "#7fbc41"
            ],
            [
             0.9,
             "#4d9221"
            ],
            [
             1,
             "#276419"
            ]
           ],
           "sequential": [
            [
             0,
             "#0d0887"
            ],
            [
             0.1111111111111111,
             "#46039f"
            ],
            [
             0.2222222222222222,
             "#7201a8"
            ],
            [
             0.3333333333333333,
             "#9c179e"
            ],
            [
             0.4444444444444444,
             "#bd3786"
            ],
            [
             0.5555555555555556,
             "#d8576b"
            ],
            [
             0.6666666666666666,
             "#ed7953"
            ],
            [
             0.7777777777777778,
             "#fb9f3a"
            ],
            [
             0.8888888888888888,
             "#fdca26"
            ],
            [
             1,
             "#f0f921"
            ]
           ],
           "sequentialminus": [
            [
             0,
             "#0d0887"
            ],
            [
             0.1111111111111111,
             "#46039f"
            ],
            [
             0.2222222222222222,
             "#7201a8"
            ],
            [
             0.3333333333333333,
             "#9c179e"
            ],
            [
             0.4444444444444444,
             "#bd3786"
            ],
            [
             0.5555555555555556,
             "#d8576b"
            ],
            [
             0.6666666666666666,
             "#ed7953"
            ],
            [
             0.7777777777777778,
             "#fb9f3a"
            ],
            [
             0.8888888888888888,
             "#fdca26"
            ],
            [
             1,
             "#f0f921"
            ]
           ]
          },
          "colorway": [
           "#636efa",
           "#EF553B",
           "#00cc96",
           "#ab63fa",
           "#FFA15A",
           "#19d3f3",
           "#FF6692",
           "#B6E880",
           "#FF97FF",
           "#FECB52"
          ],
          "font": {
           "color": "#2a3f5f"
          },
          "geo": {
           "bgcolor": "white",
           "lakecolor": "white",
           "landcolor": "#E5ECF6",
           "showlakes": true,
           "showland": true,
           "subunitcolor": "white"
          },
          "hoverlabel": {
           "align": "left"
          },
          "hovermode": "closest",
          "mapbox": {
           "style": "light"
          },
          "paper_bgcolor": "white",
          "plot_bgcolor": "#E5ECF6",
          "polar": {
           "angularaxis": {
            "gridcolor": "white",
            "linecolor": "white",
            "ticks": ""
           },
           "bgcolor": "#E5ECF6",
           "radialaxis": {
            "gridcolor": "white",
            "linecolor": "white",
            "ticks": ""
           }
          },
          "scene": {
           "xaxis": {
            "backgroundcolor": "#E5ECF6",
            "gridcolor": "white",
            "gridwidth": 2,
            "linecolor": "white",
            "showbackground": true,
            "ticks": "",
            "zerolinecolor": "white"
           },
           "yaxis": {
            "backgroundcolor": "#E5ECF6",
            "gridcolor": "white",
            "gridwidth": 2,
            "linecolor": "white",
            "showbackground": true,
            "ticks": "",
            "zerolinecolor": "white"
           },
           "zaxis": {
            "backgroundcolor": "#E5ECF6",
            "gridcolor": "white",
            "gridwidth": 2,
            "linecolor": "white",
            "showbackground": true,
            "ticks": "",
            "zerolinecolor": "white"
           }
          },
          "shapedefaults": {
           "line": {
            "color": "#2a3f5f"
           }
          },
          "ternary": {
           "aaxis": {
            "gridcolor": "white",
            "linecolor": "white",
            "ticks": ""
           },
           "baxis": {
            "gridcolor": "white",
            "linecolor": "white",
            "ticks": ""
           },
           "bgcolor": "#E5ECF6",
           "caxis": {
            "gridcolor": "white",
            "linecolor": "white",
            "ticks": ""
           }
          },
          "title": {
           "x": 0.05
          },
          "xaxis": {
           "automargin": true,
           "gridcolor": "white",
           "linecolor": "white",
           "ticks": "",
           "title": {
            "standoff": 15
           },
           "zerolinecolor": "white",
           "zerolinewidth": 2
          },
          "yaxis": {
           "automargin": true,
           "gridcolor": "white",
           "linecolor": "white",
           "ticks": "",
           "title": {
            "standoff": 15
           },
           "zerolinecolor": "white",
           "zerolinewidth": 2
          }
         }
        },
        "title": {
         "text": "Min, Mean, and Max of Weekly_Sales"
        }
       }
      },
      "text/html": [
       "<div>                            <div id=\"6f96596d-bcbb-4451-933a-a7151a09bcec\" class=\"plotly-graph-div\" style=\"height:525px; width:100%;\"></div>            <script type=\"text/javascript\">                require([\"plotly\"], function(Plotly) {                    window.PLOTLYENV=window.PLOTLYENV || {};                                    if (document.getElementById(\"6f96596d-bcbb-4451-933a-a7151a09bcec\")) {                    Plotly.newPlot(                        \"6f96596d-bcbb-4451-933a-a7151a09bcec\",                        [{\"line\": {\"color\": \"green\"}, \"name\": \"Min\", \"opacity\": 0.4, \"type\": \"scatter\", \"x\": [\"2010-01-10T00:00:00\", \"2010-02-04T00:00:00\", \"2010-02-07T00:00:00\", \"2010-02-19T00:00:00\", \"2010-02-26T00:00:00\", \"2010-03-09T00:00:00\", \"2010-03-12T00:00:00\", \"2010-03-19T00:00:00\", \"2010-03-26T00:00:00\", \"2010-04-06T00:00:00\", \"2010-04-16T00:00:00\", \"2010-04-23T00:00:00\", \"2010-04-30T00:00:00\", \"2010-05-02T00:00:00\", \"2010-05-03T00:00:00\", \"2010-05-11T00:00:00\", \"2010-05-14T00:00:00\", \"2010-05-21T00:00:00\", \"2010-05-28T00:00:00\", \"2010-06-08T00:00:00\", \"2010-06-18T00:00:00\", \"2010-06-25T00:00:00\", \"2010-07-05T00:00:00\", \"2010-07-16T00:00:00\", \"2010-07-23T00:00:00\", \"2010-07-30T00:00:00\", \"2010-08-10T00:00:00\", \"2010-08-13T00:00:00\", \"2010-08-20T00:00:00\", \"2010-08-27T00:00:00\", \"2010-09-04T00:00:00\", \"2010-09-07T00:00:00\", \"2010-09-17T00:00:00\", \"2010-09-24T00:00:00\", \"2010-10-12T00:00:00\", \"2010-10-15T00:00:00\", \"2010-10-22T00:00:00\", \"2010-10-29T00:00:00\", \"2010-11-06T00:00:00\", \"2010-11-19T00:00:00\", \"2010-12-03T00:00:00\", \"2010-12-11T00:00:00\", \"2010-12-17T00:00:00\", \"2010-12-24T00:00:00\", \"2011-01-04T00:00:00\", \"2011-01-07T00:00:00\", \"2011-01-14T00:00:00\", \"2011-01-21T00:00:00\", \"2011-01-28T00:00:00\", \"2011-02-09T00:00:00\", \"2011-02-12T00:00:00\", \"2011-02-18T00:00:00\", \"2011-02-25T00:00:00\", \"2011-03-06T00:00:00\", \"2011-03-18T00:00:00\", \"2011-03-25T00:00:00\", \"2011-04-02T00:00:00\", \"2011-04-03T00:00:00\", \"2011-04-11T00:00:00\", \"2011-04-15T00:00:00\", \"2011-04-22T00:00:00\", \"2011-04-29T00:00:00\", \"2011-05-08T00:00:00\", \"2011-05-13T00:00:00\", \"2011-05-20T00:00:00\", \"2011-05-27T00:00:00\", \"2011-06-05T00:00:00\", \"2011-06-17T00:00:00\", \"2011-06-24T00:00:00\", \"2011-07-01T00:00:00\", \"2011-07-10T00:00:00\", \"2011-07-15T00:00:00\", \"2011-07-22T00:00:00\", \"2011-07-29T00:00:00\", \"2011-08-04T00:00:00\", \"2011-08-07T00:00:00\", \"2011-08-19T00:00:00\", \"2011-08-26T00:00:00\", \"2011-09-12T00:00:00\", \"2011-09-16T00:00:00\", \"2011-09-23T00:00:00\", \"2011-09-30T00:00:00\", \"2011-10-06T00:00:00\", \"2011-10-14T00:00:00\", \"2011-10-21T00:00:00\", \"2011-10-28T00:00:00\", \"2011-11-03T00:00:00\", \"2011-11-11T00:00:00\", \"2011-11-18T00:00:00\", \"2011-12-08T00:00:00\", \"2011-12-16T00:00:00\", \"2011-12-23T00:00:00\", \"2012-01-06T00:00:00\", \"2012-01-13T00:00:00\", \"2012-01-20T00:00:00\", \"2012-01-27T00:00:00\", \"2012-02-03T00:00:00\", \"2012-02-17T00:00:00\", \"2012-02-24T00:00:00\", \"2012-03-02T00:00:00\", \"2012-03-08T00:00:00\", \"2012-03-16T00:00:00\", \"2012-03-23T00:00:00\", \"2012-03-30T00:00:00\", \"2012-04-05T00:00:00\", \"2012-04-13T00:00:00\", \"2012-04-20T00:00:00\", \"2012-04-27T00:00:00\", \"2012-05-10T00:00:00\", \"2012-05-18T00:00:00\", \"2012-05-25T00:00:00\", \"2012-06-01T00:00:00\", \"2012-06-04T00:00:00\", \"2012-06-07T00:00:00\", \"2012-06-15T00:00:00\", \"2012-06-22T00:00:00\", \"2012-06-29T00:00:00\", \"2012-07-13T00:00:00\", \"2012-07-20T00:00:00\", \"2012-07-27T00:00:00\", \"2012-08-06T00:00:00\", \"2012-08-17T00:00:00\", \"2012-08-24T00:00:00\", \"2012-08-31T00:00:00\", \"2012-09-03T00:00:00\", \"2012-09-14T00:00:00\", \"2012-09-21T00:00:00\", \"2012-09-28T00:00:00\", \"2012-10-08T00:00:00\", \"2012-10-19T00:00:00\", \"2012-10-26T00:00:00\", \"2012-11-05T00:00:00\", \"2012-12-10T00:00:00\"], \"y\": [-103.0, -224.0, -175.54, -863.0, -1750.0, -173.84, -705.0, -198.0, -548.14, -90.0, -19.0, -30.0, -698.0, -59.0, -798.0, -100.0, -18.78, -39.0, -89.0, -100.0, -38.0, -65.0, -58.0, -59.0, -179.0, -1098.0, -4988.94, -4.97, -498.0, -450.0, -118.0, -78.0, -898.0, -498.0, -496.0, -1098.0, -28.96, -409.0, -24.0, -1098.0, -698.0, -21.96, -372.9, -147.0, -399.0, -778.5, -48.94, -64.08, -400.0, -3924.0, -45.25, -15.54, -97.0, -45.84, -189.0, -1321.48, -219.0, -60.0, -179.0, -499.0, -60.0, -82.0, -798.0, -92.0, -198.0, -68.0, -41.42, -43.48, -594.0, -224.0, -298.0, -590.04, -84.0, -59.12, -298.0, -198.0, -198.0, -83.57, -159.0, -31.0, -465.08, -1008.96, -55.0, -498.0, -598.0, -124.0, -515.0, -29.76, -101.26, -98.0, -498.0, -649.0, -88.08, -106.34, -370.12, -35.76, -259.0, -198.0, -149.88, -109.0, -99.87, -224.0, -259.0, -78.56, -69.56, -199.95, -298.0, -224.0, -289.0, -379.0, -124.0, -109.0, -63.32, -182.26, -224.0, -34.92, -71.74, -454.42, -168.0, -107.72, -78.0, -419.28, -771.9, -158.0, -1699.0, -400.0, -244.17, -389.0, -139.65, -22.92, -178.15, -548.0, -199.0]}, {\"line\": {\"color\": \"blue\"}, \"name\": \"q25\", \"opacity\": 0.4, \"type\": \"scatter\", \"x\": [\"2010-01-10T00:00:00\", \"2010-02-04T00:00:00\", \"2010-02-07T00:00:00\", \"2010-02-19T00:00:00\", \"2010-02-26T00:00:00\", \"2010-03-09T00:00:00\", \"2010-03-12T00:00:00\", \"2010-03-19T00:00:00\", \"2010-03-26T00:00:00\", \"2010-04-06T00:00:00\", \"2010-04-16T00:00:00\", \"2010-04-23T00:00:00\", \"2010-04-30T00:00:00\", \"2010-05-02T00:00:00\", \"2010-05-03T00:00:00\", \"2010-05-11T00:00:00\", \"2010-05-14T00:00:00\", \"2010-05-21T00:00:00\", \"2010-05-28T00:00:00\", \"2010-06-08T00:00:00\", \"2010-06-18T00:00:00\", \"2010-06-25T00:00:00\", \"2010-07-05T00:00:00\", \"2010-07-16T00:00:00\", \"2010-07-23T00:00:00\", \"2010-07-30T00:00:00\", \"2010-08-10T00:00:00\", \"2010-08-13T00:00:00\", \"2010-08-20T00:00:00\", \"2010-08-27T00:00:00\", \"2010-09-04T00:00:00\", \"2010-09-07T00:00:00\", \"2010-09-17T00:00:00\", \"2010-09-24T00:00:00\", \"2010-10-12T00:00:00\", \"2010-10-15T00:00:00\", \"2010-10-22T00:00:00\", \"2010-10-29T00:00:00\", \"2010-11-06T00:00:00\", \"2010-11-19T00:00:00\", \"2010-12-03T00:00:00\", \"2010-12-11T00:00:00\", \"2010-12-17T00:00:00\", \"2010-12-24T00:00:00\", \"2011-01-04T00:00:00\", \"2011-01-07T00:00:00\", \"2011-01-14T00:00:00\", \"2011-01-21T00:00:00\", \"2011-01-28T00:00:00\", \"2011-02-09T00:00:00\", \"2011-02-12T00:00:00\", \"2011-02-18T00:00:00\", \"2011-02-25T00:00:00\", \"2011-03-06T00:00:00\", \"2011-03-18T00:00:00\", \"2011-03-25T00:00:00\", \"2011-04-02T00:00:00\", \"2011-04-03T00:00:00\", \"2011-04-11T00:00:00\", \"2011-04-15T00:00:00\", \"2011-04-22T00:00:00\", \"2011-04-29T00:00:00\", \"2011-05-08T00:00:00\", \"2011-05-13T00:00:00\", \"2011-05-20T00:00:00\", \"2011-05-27T00:00:00\", \"2011-06-05T00:00:00\", \"2011-06-17T00:00:00\", \"2011-06-24T00:00:00\", \"2011-07-01T00:00:00\", \"2011-07-10T00:00:00\", \"2011-07-15T00:00:00\", \"2011-07-22T00:00:00\", \"2011-07-29T00:00:00\", \"2011-08-04T00:00:00\", \"2011-08-07T00:00:00\", \"2011-08-19T00:00:00\", \"2011-08-26T00:00:00\", \"2011-09-12T00:00:00\", \"2011-09-16T00:00:00\", \"2011-09-23T00:00:00\", \"2011-09-30T00:00:00\", \"2011-10-06T00:00:00\", \"2011-10-14T00:00:00\", \"2011-10-21T00:00:00\", \"2011-10-28T00:00:00\", \"2011-11-03T00:00:00\", \"2011-11-11T00:00:00\", \"2011-11-18T00:00:00\", \"2011-12-08T00:00:00\", \"2011-12-16T00:00:00\", \"2011-12-23T00:00:00\", \"2012-01-06T00:00:00\", \"2012-01-13T00:00:00\", \"2012-01-20T00:00:00\", \"2012-01-27T00:00:00\", \"2012-02-03T00:00:00\", \"2012-02-17T00:00:00\", \"2012-02-24T00:00:00\", \"2012-03-02T00:00:00\", \"2012-03-08T00:00:00\", \"2012-03-16T00:00:00\", \"2012-03-23T00:00:00\", \"2012-03-30T00:00:00\", \"2012-04-05T00:00:00\", \"2012-04-13T00:00:00\", \"2012-04-20T00:00:00\", \"2012-04-27T00:00:00\", \"2012-05-10T00:00:00\", \"2012-05-18T00:00:00\", \"2012-05-25T00:00:00\", \"2012-06-01T00:00:00\", \"2012-06-04T00:00:00\", \"2012-06-07T00:00:00\", \"2012-06-15T00:00:00\", \"2012-06-22T00:00:00\", \"2012-06-29T00:00:00\", \"2012-07-13T00:00:00\", \"2012-07-20T00:00:00\", \"2012-07-27T00:00:00\", \"2012-08-06T00:00:00\", \"2012-08-17T00:00:00\", \"2012-08-24T00:00:00\", \"2012-08-31T00:00:00\", \"2012-09-03T00:00:00\", \"2012-09-14T00:00:00\", \"2012-09-21T00:00:00\", \"2012-09-28T00:00:00\", \"2012-10-08T00:00:00\", \"2012-10-19T00:00:00\", \"2012-10-26T00:00:00\", \"2012-11-05T00:00:00\", \"2012-12-10T00:00:00\"], \"y\": [2057.205, 2443.37, 2315.38, 2193.34, 1847.595, 2078.5075, 2376.41, 2234.29, 2210.15, 2407.8125, 1998.845, 2052.94, 2025.81, 2105.535, 1953.0875, 2283.2349999999997, 2279.2525, 2248.63, 2403.09, 2286.8450000000003, 2348.29, 2354.9, 2312.4175, 2142.36, 2013.515, 2103.85, 2255.3925, 2249.8199999999997, 2258.74, 2292.425, 2297.2650000000003, 2275.69, 2085.31, 2057.305, 2617.585, 2147.2825000000003, 2082.7349999999997, 2201.3999999999996, 2385.04, 2311.31, 2075.3450000000003, 2254.89, 2873.1099999999997, 3588.065, 1981.67, 2120.255, 1605.0900000000001, 1676.74, 1622.705, 1855.57, 2178.59, 2293.81, 1951.8575, 2206.3025000000002, 2045.0, 2012.0875, 1972.1675, 1969.9325000000001, 2230.71, 2141.19, 2258.435, 2022.7575, 1991.24, 2151.695, 2060.8975, 2069.84, 2066.4900000000002, 2169.43, 2147.6499999999996, 1831.7450000000001, 2162.5575, 2059.1825, 1939.5425, 1883.73, 2170.0, 2070.71, 1889.55, 1961.93, 2487.4775, 1988.0425, 1970.36, 1989.32, 2251.745, 2147.56, 2102.795, 2164.8675, 1911.835, 2078.6, 1970.64, 1930.4275, 2698.72, 3168.34, 2150.49, 1582.385, 1558.8899999999999, 1528.335, 1807.56, 2139.635, 1866.58, 1728.87, 1806.7849999999999, 2105.0575, 2068.62, 2118.15, 1960.2150000000001, 2055.35, 1836.38, 1837.0425, 2090.0575, 2179.14, 2155.44, 1693.14, 2241.89, 2050.58, 2130.8925, 2128.11, 2021.08, 1905.4025, 1892.37, 1866.29, 2085.3975, 1854.1799999999998, 1945.06, 1918.07, 1942.625, 1805.87, 2025.035, 1987.5774999999999, 1846.66, 2095.31, 2114.365, 2074.15, 2018.9050000000002]}, {\"line\": {\"color\": \"blue\"}, \"name\": \"q50\", \"opacity\": 0.4, \"type\": \"scatter\", \"x\": [\"2010-01-10T00:00:00\", \"2010-02-04T00:00:00\", \"2010-02-07T00:00:00\", \"2010-02-19T00:00:00\", \"2010-02-26T00:00:00\", \"2010-03-09T00:00:00\", \"2010-03-12T00:00:00\", \"2010-03-19T00:00:00\", \"2010-03-26T00:00:00\", \"2010-04-06T00:00:00\", \"2010-04-16T00:00:00\", \"2010-04-23T00:00:00\", \"2010-04-30T00:00:00\", \"2010-05-02T00:00:00\", \"2010-05-03T00:00:00\", \"2010-05-11T00:00:00\", \"2010-05-14T00:00:00\", \"2010-05-21T00:00:00\", \"2010-05-28T00:00:00\", \"2010-06-08T00:00:00\", \"2010-06-18T00:00:00\", \"2010-06-25T00:00:00\", \"2010-07-05T00:00:00\", \"2010-07-16T00:00:00\", \"2010-07-23T00:00:00\", \"2010-07-30T00:00:00\", \"2010-08-10T00:00:00\", \"2010-08-13T00:00:00\", \"2010-08-20T00:00:00\", \"2010-08-27T00:00:00\", \"2010-09-04T00:00:00\", \"2010-09-07T00:00:00\", \"2010-09-17T00:00:00\", \"2010-09-24T00:00:00\", \"2010-10-12T00:00:00\", \"2010-10-15T00:00:00\", \"2010-10-22T00:00:00\", \"2010-10-29T00:00:00\", \"2010-11-06T00:00:00\", \"2010-11-19T00:00:00\", \"2010-12-03T00:00:00\", \"2010-12-11T00:00:00\", \"2010-12-17T00:00:00\", \"2010-12-24T00:00:00\", \"2011-01-04T00:00:00\", \"2011-01-07T00:00:00\", \"2011-01-14T00:00:00\", \"2011-01-21T00:00:00\", \"2011-01-28T00:00:00\", \"2011-02-09T00:00:00\", \"2011-02-12T00:00:00\", \"2011-02-18T00:00:00\", \"2011-02-25T00:00:00\", \"2011-03-06T00:00:00\", \"2011-03-18T00:00:00\", \"2011-03-25T00:00:00\", \"2011-04-02T00:00:00\", \"2011-04-03T00:00:00\", \"2011-04-11T00:00:00\", \"2011-04-15T00:00:00\", \"2011-04-22T00:00:00\", \"2011-04-29T00:00:00\", \"2011-05-08T00:00:00\", \"2011-05-13T00:00:00\", \"2011-05-20T00:00:00\", \"2011-05-27T00:00:00\", \"2011-06-05T00:00:00\", \"2011-06-17T00:00:00\", \"2011-06-24T00:00:00\", \"2011-07-01T00:00:00\", \"2011-07-10T00:00:00\", \"2011-07-15T00:00:00\", \"2011-07-22T00:00:00\", \"2011-07-29T00:00:00\", \"2011-08-04T00:00:00\", \"2011-08-07T00:00:00\", \"2011-08-19T00:00:00\", \"2011-08-26T00:00:00\", \"2011-09-12T00:00:00\", \"2011-09-16T00:00:00\", \"2011-09-23T00:00:00\", \"2011-09-30T00:00:00\", \"2011-10-06T00:00:00\", \"2011-10-14T00:00:00\", \"2011-10-21T00:00:00\", \"2011-10-28T00:00:00\", \"2011-11-03T00:00:00\", \"2011-11-11T00:00:00\", \"2011-11-18T00:00:00\", \"2011-12-08T00:00:00\", \"2011-12-16T00:00:00\", \"2011-12-23T00:00:00\", \"2012-01-06T00:00:00\", \"2012-01-13T00:00:00\", \"2012-01-20T00:00:00\", \"2012-01-27T00:00:00\", \"2012-02-03T00:00:00\", \"2012-02-17T00:00:00\", \"2012-02-24T00:00:00\", \"2012-03-02T00:00:00\", \"2012-03-08T00:00:00\", \"2012-03-16T00:00:00\", \"2012-03-23T00:00:00\", \"2012-03-30T00:00:00\", \"2012-04-05T00:00:00\", \"2012-04-13T00:00:00\", \"2012-04-20T00:00:00\", \"2012-04-27T00:00:00\", \"2012-05-10T00:00:00\", \"2012-05-18T00:00:00\", \"2012-05-25T00:00:00\", \"2012-06-01T00:00:00\", \"2012-06-04T00:00:00\", \"2012-06-07T00:00:00\", \"2012-06-15T00:00:00\", \"2012-06-22T00:00:00\", \"2012-06-29T00:00:00\", \"2012-07-13T00:00:00\", \"2012-07-20T00:00:00\", \"2012-07-27T00:00:00\", \"2012-08-06T00:00:00\", \"2012-08-17T00:00:00\", \"2012-08-24T00:00:00\", \"2012-08-31T00:00:00\", \"2012-09-03T00:00:00\", \"2012-09-14T00:00:00\", \"2012-09-21T00:00:00\", \"2012-09-28T00:00:00\", \"2012-10-08T00:00:00\", \"2012-10-19T00:00:00\", \"2012-10-26T00:00:00\", \"2012-11-05T00:00:00\", \"2012-12-10T00:00:00\"], \"y\": [6940.74, 8658.89, 8117.29, 8411.25, 7235.8, 7812.045, 7961.35, 7915.6, 7345.13, 8596.01, 7506.59, 7644.98, 7384.9, 7904.69, 7717.975, 7686.1900000000005, 8022.9349999999995, 7847.14, 8306.6, 8491.78, 8127.63, 8067.45, 8467.06, 7828.5, 7575.59, 7757.76, 7487.84, 8247.205, 8330.14, 8103.87, 8006.27, 7867.66, 7202.98, 7005.195, 9251.665, 7180.21, 7225.555, 7415.065, 8114.88, 7711.74, 7529.549999999999, 7703.4349999999995, 10614.75, 13832.275000000001, 7048.01, 7754.0, 5961.71, 6139.3150000000005, 6227.98, 7330.0, 7656.425, 8480.37, 7239.48, 8002.51, 7578.27, 7208.514999999999, 7312.115, 7633.16, 7657.955, 7424.55, 8167.83, 7437.785, 7901.07, 7446.6, 7318.74, 7591.59, 7608.145, 7741.32, 7536.110000000001, 6384.99, 7476.68, 7249.96, 7376.995, 7208.87, 7390.14, 7588.98, 7597.58, 7607.51, 8732.805, 6995.875, 7008.99, 6781.34, 7908.375, 7102.2, 7388.6849999999995, 7407.65, 7104.21, 7540.39, 7404.92, 7526.45, 9836.4, 12685.69, 7692.24, 5914.860000000001, 6146.31, 5785.84, 7342.105, 8019.52, 7360.36, 6859.65, 7495.32, 7754.67, 7487.2, 7428.85, 7414.78, 7507.13, 7096.46, 6951.264999999999, 7486.844999999999, 7672.99, 7801.2, 6586.37, 8538.09, 7786.09, 7695.42, 7526.74, 7500.8, 7318.299999999999, 7405.375, 7196.4, 7839.4349999999995, 7632.73, 7688.21, 7816.360000000001, 7458.955, 6835.0, 7010.09, 6957.120000000001, 7557.5, 7374.7, 7547.23, 7533.42, 7324.96]}, {\"line\": {\"color\": \"blue\"}, \"name\": \"q75\", \"opacity\": 0.4, \"type\": \"scatter\", \"x\": [\"2010-01-10T00:00:00\", \"2010-02-04T00:00:00\", \"2010-02-07T00:00:00\", \"2010-02-19T00:00:00\", \"2010-02-26T00:00:00\", \"2010-03-09T00:00:00\", \"2010-03-12T00:00:00\", \"2010-03-19T00:00:00\", \"2010-03-26T00:00:00\", \"2010-04-06T00:00:00\", \"2010-04-16T00:00:00\", \"2010-04-23T00:00:00\", \"2010-04-30T00:00:00\", \"2010-05-02T00:00:00\", \"2010-05-03T00:00:00\", \"2010-05-11T00:00:00\", \"2010-05-14T00:00:00\", \"2010-05-21T00:00:00\", \"2010-05-28T00:00:00\", \"2010-06-08T00:00:00\", \"2010-06-18T00:00:00\", \"2010-06-25T00:00:00\", \"2010-07-05T00:00:00\", \"2010-07-16T00:00:00\", \"2010-07-23T00:00:00\", \"2010-07-30T00:00:00\", \"2010-08-10T00:00:00\", \"2010-08-13T00:00:00\", \"2010-08-20T00:00:00\", \"2010-08-27T00:00:00\", \"2010-09-04T00:00:00\", \"2010-09-07T00:00:00\", \"2010-09-17T00:00:00\", \"2010-09-24T00:00:00\", \"2010-10-12T00:00:00\", \"2010-10-15T00:00:00\", \"2010-10-22T00:00:00\", \"2010-10-29T00:00:00\", \"2010-11-06T00:00:00\", \"2010-11-19T00:00:00\", \"2010-12-03T00:00:00\", \"2010-12-11T00:00:00\", \"2010-12-17T00:00:00\", \"2010-12-24T00:00:00\", \"2011-01-04T00:00:00\", \"2011-01-07T00:00:00\", \"2011-01-14T00:00:00\", \"2011-01-21T00:00:00\", \"2011-01-28T00:00:00\", \"2011-02-09T00:00:00\", \"2011-02-12T00:00:00\", \"2011-02-18T00:00:00\", \"2011-02-25T00:00:00\", \"2011-03-06T00:00:00\", \"2011-03-18T00:00:00\", \"2011-03-25T00:00:00\", \"2011-04-02T00:00:00\", \"2011-04-03T00:00:00\", \"2011-04-11T00:00:00\", \"2011-04-15T00:00:00\", \"2011-04-22T00:00:00\", \"2011-04-29T00:00:00\", \"2011-05-08T00:00:00\", \"2011-05-13T00:00:00\", \"2011-05-20T00:00:00\", \"2011-05-27T00:00:00\", \"2011-06-05T00:00:00\", \"2011-06-17T00:00:00\", \"2011-06-24T00:00:00\", \"2011-07-01T00:00:00\", \"2011-07-10T00:00:00\", \"2011-07-15T00:00:00\", \"2011-07-22T00:00:00\", \"2011-07-29T00:00:00\", \"2011-08-04T00:00:00\", \"2011-08-07T00:00:00\", \"2011-08-19T00:00:00\", \"2011-08-26T00:00:00\", \"2011-09-12T00:00:00\", \"2011-09-16T00:00:00\", \"2011-09-23T00:00:00\", \"2011-09-30T00:00:00\", \"2011-10-06T00:00:00\", \"2011-10-14T00:00:00\", \"2011-10-21T00:00:00\", \"2011-10-28T00:00:00\", \"2011-11-03T00:00:00\", \"2011-11-11T00:00:00\", \"2011-11-18T00:00:00\", \"2011-12-08T00:00:00\", \"2011-12-16T00:00:00\", \"2011-12-23T00:00:00\", \"2012-01-06T00:00:00\", \"2012-01-13T00:00:00\", \"2012-01-20T00:00:00\", \"2012-01-27T00:00:00\", \"2012-02-03T00:00:00\", \"2012-02-17T00:00:00\", \"2012-02-24T00:00:00\", \"2012-03-02T00:00:00\", \"2012-03-08T00:00:00\", \"2012-03-16T00:00:00\", \"2012-03-23T00:00:00\", \"2012-03-30T00:00:00\", \"2012-04-05T00:00:00\", \"2012-04-13T00:00:00\", \"2012-04-20T00:00:00\", \"2012-04-27T00:00:00\", \"2012-05-10T00:00:00\", \"2012-05-18T00:00:00\", \"2012-05-25T00:00:00\", \"2012-06-01T00:00:00\", \"2012-06-04T00:00:00\", \"2012-06-07T00:00:00\", \"2012-06-15T00:00:00\", \"2012-06-22T00:00:00\", \"2012-06-29T00:00:00\", \"2012-07-13T00:00:00\", \"2012-07-20T00:00:00\", \"2012-07-27T00:00:00\", \"2012-08-06T00:00:00\", \"2012-08-17T00:00:00\", \"2012-08-24T00:00:00\", \"2012-08-31T00:00:00\", \"2012-09-03T00:00:00\", \"2012-09-14T00:00:00\", \"2012-09-21T00:00:00\", \"2012-09-28T00:00:00\", \"2012-10-08T00:00:00\", \"2012-10-19T00:00:00\", \"2012-10-26T00:00:00\", \"2012-11-05T00:00:00\", \"2012-12-10T00:00:00\"], \"y\": [18007.85, 21876.58, 22019.25, 20576.03, 18104.72, 20651.6125, 21618.27, 19202.195, 18987.66, 22973.3825, 19140.125, 19061.79, 18756.53, 20471.27, 19412.0225, 20091.824999999997, 19617.82, 19765.735, 21411.37, 21520.1925, 21464.48, 21195.42, 20903.8275, 21053.58, 20265.345, 20013.01, 19183.0275, 20603.65, 20826.91, 20141.385000000002, 20694.815000000002, 21677.265, 18057.74, 17565.627500000002, 24009.4725, 18425.445, 18702.025, 19137.807500000003, 21499.54, 19758.065, 19292.3125, 19753.2325, 27001.22, 35240.0725, 18416.235, 21389.989999999998, 16585.1925, 16684.56, 16510.9, 19567.6, 21211.4225, 21159.77, 18590.4325, 22160.442499999997, 18856.47, 18342.8875, 19221.1525, 19424.575, 21067.412500000002, 19489.96, 21100.87, 19232.4225, 21143.58, 19397.995000000003, 19038.7675, 20403.775, 19887.015, 21015.78, 20853.6575, 17506.795, 19868.09, 20226.17, 20508.665, 19615.48, 19612.96, 21534.72, 19877.34, 20496.165, 24093.4925, 18169.1325, 17662.62, 17611.055, 21248.5375, 18912.760000000002, 19321.690000000002, 19862.715, 18642.975, 20658.06, 19291.39, 20193.059999999998, 25915.61, 33001.2, 21639.155, 16838.64, 16946.835, 16152.6375, 19380.7275, 21082.690000000002, 19324.93, 18392.68, 20715.91, 19913.55, 19487.1, 19690.21, 19973.16, 19907.84, 19475.14, 18698.642499999998, 19595.8025, 20293.95, 21502.08, 18072.24, 22852.765, 23215.61, 21502.9575, 21447.02, 21137.62, 20396.9175, 20376.730000000003, 19536.36, 21494.4125, 20058.989999999998, 20555.0125, 20298.2675, 19616.0525, 18298.54, 18315.47, 18328.5475, 20400.88, 19304.9575, 20052.96, 20411.18, 19434.2525]}, {\"line\": {\"color\": \"red\"}, \"name\": \"Max\", \"opacity\": 0.4, \"type\": \"scatter\", \"x\": [\"2010-01-10T00:00:00\", \"2010-02-04T00:00:00\", \"2010-02-07T00:00:00\", \"2010-02-19T00:00:00\", \"2010-02-26T00:00:00\", \"2010-03-09T00:00:00\", \"2010-03-12T00:00:00\", \"2010-03-19T00:00:00\", \"2010-03-26T00:00:00\", \"2010-04-06T00:00:00\", \"2010-04-16T00:00:00\", \"2010-04-23T00:00:00\", \"2010-04-30T00:00:00\", \"2010-05-02T00:00:00\", \"2010-05-03T00:00:00\", \"2010-05-11T00:00:00\", \"2010-05-14T00:00:00\", \"2010-05-21T00:00:00\", \"2010-05-28T00:00:00\", \"2010-06-08T00:00:00\", \"2010-06-18T00:00:00\", \"2010-06-25T00:00:00\", \"2010-07-05T00:00:00\", \"2010-07-16T00:00:00\", \"2010-07-23T00:00:00\", \"2010-07-30T00:00:00\", \"2010-08-10T00:00:00\", \"2010-08-13T00:00:00\", \"2010-08-20T00:00:00\", \"2010-08-27T00:00:00\", \"2010-09-04T00:00:00\", \"2010-09-07T00:00:00\", \"2010-09-17T00:00:00\", \"2010-09-24T00:00:00\", \"2010-10-12T00:00:00\", \"2010-10-15T00:00:00\", \"2010-10-22T00:00:00\", \"2010-10-29T00:00:00\", \"2010-11-06T00:00:00\", \"2010-11-19T00:00:00\", \"2010-12-03T00:00:00\", \"2010-12-11T00:00:00\", \"2010-12-17T00:00:00\", \"2010-12-24T00:00:00\", \"2011-01-04T00:00:00\", \"2011-01-07T00:00:00\", \"2011-01-14T00:00:00\", \"2011-01-21T00:00:00\", \"2011-01-28T00:00:00\", \"2011-02-09T00:00:00\", \"2011-02-12T00:00:00\", \"2011-02-18T00:00:00\", \"2011-02-25T00:00:00\", \"2011-03-06T00:00:00\", \"2011-03-18T00:00:00\", \"2011-03-25T00:00:00\", \"2011-04-02T00:00:00\", \"2011-04-03T00:00:00\", \"2011-04-11T00:00:00\", \"2011-04-15T00:00:00\", \"2011-04-22T00:00:00\", \"2011-04-29T00:00:00\", \"2011-05-08T00:00:00\", \"2011-05-13T00:00:00\", \"2011-05-20T00:00:00\", \"2011-05-27T00:00:00\", \"2011-06-05T00:00:00\", \"2011-06-17T00:00:00\", \"2011-06-24T00:00:00\", \"2011-07-01T00:00:00\", \"2011-07-10T00:00:00\", \"2011-07-15T00:00:00\", \"2011-07-22T00:00:00\", \"2011-07-29T00:00:00\", \"2011-08-04T00:00:00\", \"2011-08-07T00:00:00\", \"2011-08-19T00:00:00\", \"2011-08-26T00:00:00\", \"2011-09-12T00:00:00\", \"2011-09-16T00:00:00\", \"2011-09-23T00:00:00\", \"2011-09-30T00:00:00\", \"2011-10-06T00:00:00\", \"2011-10-14T00:00:00\", \"2011-10-21T00:00:00\", \"2011-10-28T00:00:00\", \"2011-11-03T00:00:00\", \"2011-11-11T00:00:00\", \"2011-11-18T00:00:00\", \"2011-12-08T00:00:00\", \"2011-12-16T00:00:00\", \"2011-12-23T00:00:00\", \"2012-01-06T00:00:00\", \"2012-01-13T00:00:00\", \"2012-01-20T00:00:00\", \"2012-01-27T00:00:00\", \"2012-02-03T00:00:00\", \"2012-02-17T00:00:00\", \"2012-02-24T00:00:00\", \"2012-03-02T00:00:00\", \"2012-03-08T00:00:00\", \"2012-03-16T00:00:00\", \"2012-03-23T00:00:00\", \"2012-03-30T00:00:00\", \"2012-04-05T00:00:00\", \"2012-04-13T00:00:00\", \"2012-04-20T00:00:00\", \"2012-04-27T00:00:00\", \"2012-05-10T00:00:00\", \"2012-05-18T00:00:00\", \"2012-05-25T00:00:00\", \"2012-06-01T00:00:00\", \"2012-06-04T00:00:00\", \"2012-06-07T00:00:00\", \"2012-06-15T00:00:00\", \"2012-06-22T00:00:00\", \"2012-06-29T00:00:00\", \"2012-07-13T00:00:00\", \"2012-07-20T00:00:00\", \"2012-07-27T00:00:00\", \"2012-08-06T00:00:00\", \"2012-08-17T00:00:00\", \"2012-08-24T00:00:00\", \"2012-08-31T00:00:00\", \"2012-09-03T00:00:00\", \"2012-09-14T00:00:00\", \"2012-09-21T00:00:00\", \"2012-09-28T00:00:00\", \"2012-10-08T00:00:00\", \"2012-10-19T00:00:00\", \"2012-10-26T00:00:00\", \"2012-11-05T00:00:00\", \"2012-12-10T00:00:00\"], \"y\": [174219.51, 203457.42, 198349.17, 192282.19, 205250.96, 198704.92, 218559.54, 178028.58, 167512.67, 190128.43, 184591.99, 183147.38, 177014.37, 293966.05, 214383.07, 206935.29, 177116.48, 183182.96, 187738.85, 204695.13, 188045.88, 178621.33, 206160.36, 177803.19, 168341.28, 168187.32, 210596.66, 181729.63, 180468.24, 175412.46, 180584.36, 191981.99, 179946.34, 170830.69, 221013.44, 182166.26, 180585.77, 176155.17, 194723.71, 205829.42, 197070.21, 200451.31, 268789.69, 406988.63, 175473.67, 175468.71, 190728.6, 173771.66, 161663.64, 164320.09, 172338.47, 207773.4, 205507.71, 162995.08, 178875.27, 172111.54, 207824.62, 200367.18, 208504.83, 175531.22, 191840.95, 144127.68, 197416.29, 165095.96, 180525.39, 171545.23, 196628.33, 177156.22, 166873.16, 198789.07, 221834.28, 169013.07, 163241.85, 158816.24, 206017.23, 188688.12, 171553.94, 241120.0, 227088.13, 177437.5, 178288.71, 172057.5, 190737.26, 187911.15, 181127.71, 183447.07, 191167.3, 206465.15, 204812.37, 174877.08, 210877.54, 341308.0, 165598.92, 197649.89, 185683.25, 169990.21, 190545.48, 190137.86, 184077.26, 198551.21, 171598.2, 185618.81, 165498.72, 171498.91, 200789.85, 170989.18, 181183.91, 169755.19, 192860.85, 173004.56, 180251.98, 206871.52, 224917.94, 185215.02, 183228.69, 170131.9, 169858.42, 191882.2, 179823.4, 160703.97, 206575.9, 182031.93, 168512.87, 169994.15, 213636.03, 186759.11, 179575.44, 169014.0, 194032.48, 184451.36, 183483.92, 194034.68, 192455.74]}],                        {\"template\": {\"data\": {\"bar\": [{\"error_x\": {\"color\": \"#2a3f5f\"}, \"error_y\": {\"color\": \"#2a3f5f\"}, \"marker\": {\"line\": {\"color\": \"#E5ECF6\", \"width\": 0.5}}, \"type\": \"bar\"}], \"barpolar\": [{\"marker\": {\"line\": {\"color\": \"#E5ECF6\", \"width\": 0.5}}, \"type\": \"barpolar\"}], \"carpet\": [{\"aaxis\": {\"endlinecolor\": \"#2a3f5f\", \"gridcolor\": \"white\", \"linecolor\": \"white\", \"minorgridcolor\": \"white\", \"startlinecolor\": \"#2a3f5f\"}, \"baxis\": {\"endlinecolor\": \"#2a3f5f\", \"gridcolor\": \"white\", \"linecolor\": \"white\", \"minorgridcolor\": \"white\", \"startlinecolor\": \"#2a3f5f\"}, \"type\": \"carpet\"}], \"choropleth\": [{\"colorbar\": {\"outlinewidth\": 0, \"ticks\": \"\"}, \"type\": \"choropleth\"}], \"contour\": [{\"colorbar\": {\"outlinewidth\": 0, \"ticks\": \"\"}, \"colorscale\": [[0.0, \"#0d0887\"], [0.1111111111111111, \"#46039f\"], [0.2222222222222222, \"#7201a8\"], [0.3333333333333333, \"#9c179e\"], [0.4444444444444444, \"#bd3786\"], [0.5555555555555556, \"#d8576b\"], [0.6666666666666666, \"#ed7953\"], [0.7777777777777778, \"#fb9f3a\"], [0.8888888888888888, \"#fdca26\"], [1.0, \"#f0f921\"]], \"type\": \"contour\"}], \"contourcarpet\": [{\"colorbar\": {\"outlinewidth\": 0, \"ticks\": \"\"}, \"type\": \"contourcarpet\"}], \"heatmap\": [{\"colorbar\": {\"outlinewidth\": 0, \"ticks\": \"\"}, \"colorscale\": [[0.0, \"#0d0887\"], [0.1111111111111111, \"#46039f\"], [0.2222222222222222, \"#7201a8\"], [0.3333333333333333, \"#9c179e\"], [0.4444444444444444, \"#bd3786\"], [0.5555555555555556, \"#d8576b\"], [0.6666666666666666, \"#ed7953\"], [0.7777777777777778, \"#fb9f3a\"], [0.8888888888888888, \"#fdca26\"], [1.0, \"#f0f921\"]], \"type\": \"heatmap\"}], \"heatmapgl\": [{\"colorbar\": {\"outlinewidth\": 0, \"ticks\": \"\"}, \"colorscale\": [[0.0, \"#0d0887\"], [0.1111111111111111, \"#46039f\"], [0.2222222222222222, \"#7201a8\"], [0.3333333333333333, \"#9c179e\"], [0.4444444444444444, \"#bd3786\"], [0.5555555555555556, \"#d8576b\"], [0.6666666666666666, \"#ed7953\"], [0.7777777777777778, \"#fb9f3a\"], [0.8888888888888888, \"#fdca26\"], [1.0, \"#f0f921\"]], \"type\": \"heatmapgl\"}], \"histogram\": [{\"marker\": {\"colorbar\": {\"outlinewidth\": 0, \"ticks\": \"\"}}, \"type\": \"histogram\"}], \"histogram2d\": [{\"colorbar\": {\"outlinewidth\": 0, \"ticks\": \"\"}, \"colorscale\": [[0.0, \"#0d0887\"], [0.1111111111111111, \"#46039f\"], [0.2222222222222222, \"#7201a8\"], [0.3333333333333333, \"#9c179e\"], [0.4444444444444444, \"#bd3786\"], [0.5555555555555556, \"#d8576b\"], [0.6666666666666666, \"#ed7953\"], [0.7777777777777778, \"#fb9f3a\"], [0.8888888888888888, \"#fdca26\"], [1.0, \"#f0f921\"]], \"type\": \"histogram2d\"}], \"histogram2dcontour\": [{\"colorbar\": {\"outlinewidth\": 0, \"ticks\": \"\"}, \"colorscale\": [[0.0, \"#0d0887\"], [0.1111111111111111, \"#46039f\"], [0.2222222222222222, \"#7201a8\"], [0.3333333333333333, \"#9c179e\"], [0.4444444444444444, \"#bd3786\"], [0.5555555555555556, \"#d8576b\"], [0.6666666666666666, \"#ed7953\"], [0.7777777777777778, \"#fb9f3a\"], [0.8888888888888888, \"#fdca26\"], [1.0, \"#f0f921\"]], \"type\": \"histogram2dcontour\"}], \"mesh3d\": [{\"colorbar\": {\"outlinewidth\": 0, \"ticks\": \"\"}, \"type\": \"mesh3d\"}], \"parcoords\": [{\"line\": {\"colorbar\": {\"outlinewidth\": 0, \"ticks\": \"\"}}, \"type\": \"parcoords\"}], \"pie\": [{\"automargin\": true, \"type\": \"pie\"}], \"scatter\": [{\"marker\": {\"colorbar\": {\"outlinewidth\": 0, \"ticks\": \"\"}}, \"type\": \"scatter\"}], \"scatter3d\": [{\"line\": {\"colorbar\": {\"outlinewidth\": 0, \"ticks\": \"\"}}, \"marker\": {\"colorbar\": {\"outlinewidth\": 0, \"ticks\": \"\"}}, \"type\": \"scatter3d\"}], \"scattercarpet\": [{\"marker\": {\"colorbar\": {\"outlinewidth\": 0, \"ticks\": \"\"}}, \"type\": \"scattercarpet\"}], \"scattergeo\": [{\"marker\": {\"colorbar\": {\"outlinewidth\": 0, \"ticks\": \"\"}}, \"type\": \"scattergeo\"}], \"scattergl\": [{\"marker\": {\"colorbar\": {\"outlinewidth\": 0, \"ticks\": \"\"}}, \"type\": \"scattergl\"}], \"scattermapbox\": [{\"marker\": {\"colorbar\": {\"outlinewidth\": 0, \"ticks\": \"\"}}, \"type\": \"scattermapbox\"}], \"scatterpolar\": [{\"marker\": {\"colorbar\": {\"outlinewidth\": 0, \"ticks\": \"\"}}, \"type\": \"scatterpolar\"}], \"scatterpolargl\": [{\"marker\": {\"colorbar\": {\"outlinewidth\": 0, \"ticks\": \"\"}}, \"type\": \"scatterpolargl\"}], \"scatterternary\": [{\"marker\": {\"colorbar\": {\"outlinewidth\": 0, \"ticks\": \"\"}}, \"type\": \"scatterternary\"}], \"surface\": [{\"colorbar\": {\"outlinewidth\": 0, \"ticks\": \"\"}, \"colorscale\": [[0.0, \"#0d0887\"], [0.1111111111111111, \"#46039f\"], [0.2222222222222222, \"#7201a8\"], [0.3333333333333333, \"#9c179e\"], [0.4444444444444444, \"#bd3786\"], [0.5555555555555556, \"#d8576b\"], [0.6666666666666666, \"#ed7953\"], [0.7777777777777778, \"#fb9f3a\"], [0.8888888888888888, \"#fdca26\"], [1.0, \"#f0f921\"]], \"type\": \"surface\"}], \"table\": [{\"cells\": {\"fill\": {\"color\": \"#EBF0F8\"}, \"line\": {\"color\": \"white\"}}, \"header\": {\"fill\": {\"color\": \"#C8D4E3\"}, \"line\": {\"color\": \"white\"}}, \"type\": \"table\"}]}, \"layout\": {\"annotationdefaults\": {\"arrowcolor\": \"#2a3f5f\", \"arrowhead\": 0, \"arrowwidth\": 1}, \"autotypenumbers\": \"strict\", \"coloraxis\": {\"colorbar\": {\"outlinewidth\": 0, \"ticks\": \"\"}}, \"colorscale\": {\"diverging\": [[0, \"#8e0152\"], [0.1, \"#c51b7d\"], [0.2, \"#de77ae\"], [0.3, \"#f1b6da\"], [0.4, \"#fde0ef\"], [0.5, \"#f7f7f7\"], [0.6, \"#e6f5d0\"], [0.7, \"#b8e186\"], [0.8, \"#7fbc41\"], [0.9, \"#4d9221\"], [1, \"#276419\"]], \"sequential\": [[0.0, \"#0d0887\"], [0.1111111111111111, \"#46039f\"], [0.2222222222222222, \"#7201a8\"], [0.3333333333333333, \"#9c179e\"], [0.4444444444444444, \"#bd3786\"], [0.5555555555555556, \"#d8576b\"], [0.6666666666666666, \"#ed7953\"], [0.7777777777777778, \"#fb9f3a\"], [0.8888888888888888, \"#fdca26\"], [1.0, \"#f0f921\"]], \"sequentialminus\": [[0.0, \"#0d0887\"], [0.1111111111111111, \"#46039f\"], [0.2222222222222222, \"#7201a8\"], [0.3333333333333333, \"#9c179e\"], [0.4444444444444444, \"#bd3786\"], [0.5555555555555556, \"#d8576b\"], [0.6666666666666666, \"#ed7953\"], [0.7777777777777778, \"#fb9f3a\"], [0.8888888888888888, \"#fdca26\"], [1.0, \"#f0f921\"]]}, \"colorway\": [\"#636efa\", \"#EF553B\", \"#00cc96\", \"#ab63fa\", \"#FFA15A\", \"#19d3f3\", \"#FF6692\", \"#B6E880\", \"#FF97FF\", \"#FECB52\"], \"font\": {\"color\": \"#2a3f5f\"}, \"geo\": {\"bgcolor\": \"white\", \"lakecolor\": \"white\", \"landcolor\": \"#E5ECF6\", \"showlakes\": true, \"showland\": true, \"subunitcolor\": \"white\"}, \"hoverlabel\": {\"align\": \"left\"}, \"hovermode\": \"closest\", \"mapbox\": {\"style\": \"light\"}, \"paper_bgcolor\": \"white\", \"plot_bgcolor\": \"#E5ECF6\", \"polar\": {\"angularaxis\": {\"gridcolor\": \"white\", \"linecolor\": \"white\", \"ticks\": \"\"}, \"bgcolor\": \"#E5ECF6\", \"radialaxis\": {\"gridcolor\": \"white\", \"linecolor\": \"white\", \"ticks\": \"\"}}, \"scene\": {\"xaxis\": {\"backgroundcolor\": \"#E5ECF6\", \"gridcolor\": \"white\", \"gridwidth\": 2, \"linecolor\": \"white\", \"showbackground\": true, \"ticks\": \"\", \"zerolinecolor\": \"white\"}, \"yaxis\": {\"backgroundcolor\": \"#E5ECF6\", \"gridcolor\": \"white\", \"gridwidth\": 2, \"linecolor\": \"white\", \"showbackground\": true, \"ticks\": \"\", \"zerolinecolor\": \"white\"}, \"zaxis\": {\"backgroundcolor\": \"#E5ECF6\", \"gridcolor\": \"white\", \"gridwidth\": 2, \"linecolor\": \"white\", \"showbackground\": true, \"ticks\": \"\", \"zerolinecolor\": \"white\"}}, \"shapedefaults\": {\"line\": {\"color\": \"#2a3f5f\"}}, \"ternary\": {\"aaxis\": {\"gridcolor\": \"white\", \"linecolor\": \"white\", \"ticks\": \"\"}, \"baxis\": {\"gridcolor\": \"white\", \"linecolor\": \"white\", \"ticks\": \"\"}, \"bgcolor\": \"#E5ECF6\", \"caxis\": {\"gridcolor\": \"white\", \"linecolor\": \"white\", \"ticks\": \"\"}}, \"title\": {\"x\": 0.05}, \"xaxis\": {\"automargin\": true, \"gridcolor\": \"white\", \"linecolor\": \"white\", \"ticks\": \"\", \"title\": {\"standoff\": 15}, \"zerolinecolor\": \"white\", \"zerolinewidth\": 2}, \"yaxis\": {\"automargin\": true, \"gridcolor\": \"white\", \"linecolor\": \"white\", \"ticks\": \"\", \"title\": {\"standoff\": 15}, \"zerolinecolor\": \"white\", \"zerolinewidth\": 2}}}, \"title\": {\"text\": \"Min, Mean, and Max of Weekly_Sales\"}},                        {\"responsive\": true}                    ).then(function(){\n",
       "                            \n",
       "var gd = document.getElementById('6f96596d-bcbb-4451-933a-a7151a09bcec');\n",
       "var x = new MutationObserver(function (mutations, observer) {{\n",
       "        var display = window.getComputedStyle(gd).display;\n",
       "        if (!display || display === 'none') {{\n",
       "            console.log([gd, 'removed!']);\n",
       "            Plotly.purge(gd);\n",
       "            observer.disconnect();\n",
       "        }}\n",
       "}});\n",
       "\n",
       "// Listen for the removal of the full notebook cells\n",
       "var notebookContainer = gd.closest('#notebook-container');\n",
       "if (notebookContainer) {{\n",
       "    x.observe(notebookContainer, {childList: true});\n",
       "}}\n",
       "\n",
       "// Listen for the clearing of the current output cell\n",
       "var outputEl = gd.closest('.output');\n",
       "if (outputEl) {{\n",
       "    x.observe(outputEl, {childList: true});\n",
       "}}\n",
       "\n",
       "                        })                };                });            </script>        </div>"
      ]
     },
     "metadata": {},
     "output_type": "display_data"
    }
   ],
   "source": [
    "plot_min_max_avg (sales_agg_notholiday, 'Weekly_Sales')"
   ]
  },
  {
   "cell_type": "markdown",
   "metadata": {},
   "source": [
    "There are unfortunately only ten weeks marked as containing a holiday, so it will not be statistically possible to conduct an analysis in this manner. Even worse, there are two weeks right before Christmas which are not marked as 'containing a holiday' even though it is very likely that salees spikes have been caused precisely by being right before holidays.\n",
    "\n",
    "For this reason, we will try another hypothesis: whether the mean sales of 'A' stores are larger than those of type 'C'.\n",
    "\n",
    "We will begin by doing a 'histogram' similar to that in Section 2.3."
   ]
  },
  {
   "cell_type": "code",
   "execution_count": 24,
   "metadata": {},
   "outputs": [
    {
     "data": {
      "text/html": [
       "<div>\n",
       "<style scoped>\n",
       "    .dataframe tbody tr th:only-of-type {\n",
       "        vertical-align: middle;\n",
       "    }\n",
       "\n",
       "    .dataframe tbody tr th {\n",
       "        vertical-align: top;\n",
       "    }\n",
       "\n",
       "    .dataframe thead th {\n",
       "        text-align: right;\n",
       "    }\n",
       "</style>\n",
       "<table border=\"1\" class=\"dataframe\">\n",
       "  <thead>\n",
       "    <tr style=\"text-align: right;\">\n",
       "      <th></th>\n",
       "      <th>Store</th>\n",
       "      <th>Type</th>\n",
       "      <th>Size</th>\n",
       "      <th>Dept</th>\n",
       "      <th>Date</th>\n",
       "      <th>Weekly_Sales</th>\n",
       "      <th>IsHoliday</th>\n",
       "    </tr>\n",
       "  </thead>\n",
       "  <tbody>\n",
       "    <tr>\n",
       "      <th>0</th>\n",
       "      <td>1</td>\n",
       "      <td>A</td>\n",
       "      <td>151315</td>\n",
       "      <td>1</td>\n",
       "      <td>2010-05-02</td>\n",
       "      <td>24924.50</td>\n",
       "      <td>False</td>\n",
       "    </tr>\n",
       "    <tr>\n",
       "      <th>1</th>\n",
       "      <td>1</td>\n",
       "      <td>A</td>\n",
       "      <td>151315</td>\n",
       "      <td>1</td>\n",
       "      <td>2010-12-02</td>\n",
       "      <td>46039.49</td>\n",
       "      <td>True</td>\n",
       "    </tr>\n",
       "    <tr>\n",
       "      <th>2</th>\n",
       "      <td>1</td>\n",
       "      <td>A</td>\n",
       "      <td>151315</td>\n",
       "      <td>1</td>\n",
       "      <td>2010-02-19</td>\n",
       "      <td>41595.55</td>\n",
       "      <td>False</td>\n",
       "    </tr>\n",
       "    <tr>\n",
       "      <th>3</th>\n",
       "      <td>1</td>\n",
       "      <td>A</td>\n",
       "      <td>151315</td>\n",
       "      <td>1</td>\n",
       "      <td>2010-02-26</td>\n",
       "      <td>19403.54</td>\n",
       "      <td>False</td>\n",
       "    </tr>\n",
       "    <tr>\n",
       "      <th>4</th>\n",
       "      <td>1</td>\n",
       "      <td>A</td>\n",
       "      <td>151315</td>\n",
       "      <td>1</td>\n",
       "      <td>2010-05-03</td>\n",
       "      <td>21827.90</td>\n",
       "      <td>False</td>\n",
       "    </tr>\n",
       "    <tr>\n",
       "      <th>...</th>\n",
       "      <td>...</td>\n",
       "      <td>...</td>\n",
       "      <td>...</td>\n",
       "      <td>...</td>\n",
       "      <td>...</td>\n",
       "      <td>...</td>\n",
       "      <td>...</td>\n",
       "    </tr>\n",
       "    <tr>\n",
       "      <th>421565</th>\n",
       "      <td>45</td>\n",
       "      <td>B</td>\n",
       "      <td>118221</td>\n",
       "      <td>98</td>\n",
       "      <td>2012-09-28</td>\n",
       "      <td>508.37</td>\n",
       "      <td>False</td>\n",
       "    </tr>\n",
       "    <tr>\n",
       "      <th>421566</th>\n",
       "      <td>45</td>\n",
       "      <td>B</td>\n",
       "      <td>118221</td>\n",
       "      <td>98</td>\n",
       "      <td>2012-05-10</td>\n",
       "      <td>628.10</td>\n",
       "      <td>False</td>\n",
       "    </tr>\n",
       "    <tr>\n",
       "      <th>421567</th>\n",
       "      <td>45</td>\n",
       "      <td>B</td>\n",
       "      <td>118221</td>\n",
       "      <td>98</td>\n",
       "      <td>2012-12-10</td>\n",
       "      <td>1061.02</td>\n",
       "      <td>False</td>\n",
       "    </tr>\n",
       "    <tr>\n",
       "      <th>421568</th>\n",
       "      <td>45</td>\n",
       "      <td>B</td>\n",
       "      <td>118221</td>\n",
       "      <td>98</td>\n",
       "      <td>2012-10-19</td>\n",
       "      <td>760.01</td>\n",
       "      <td>False</td>\n",
       "    </tr>\n",
       "    <tr>\n",
       "      <th>421569</th>\n",
       "      <td>45</td>\n",
       "      <td>B</td>\n",
       "      <td>118221</td>\n",
       "      <td>98</td>\n",
       "      <td>2012-10-26</td>\n",
       "      <td>1076.80</td>\n",
       "      <td>False</td>\n",
       "    </tr>\n",
       "  </tbody>\n",
       "</table>\n",
       "<p>421570 rows × 7 columns</p>\n",
       "</div>"
      ],
      "text/plain": [
       "        Store Type    Size  Dept       Date  Weekly_Sales  IsHoliday\n",
       "0           1    A  151315     1 2010-05-02      24924.50      False\n",
       "1           1    A  151315     1 2010-12-02      46039.49       True\n",
       "2           1    A  151315     1 2010-02-19      41595.55      False\n",
       "3           1    A  151315     1 2010-02-26      19403.54      False\n",
       "4           1    A  151315     1 2010-05-03      21827.90      False\n",
       "...       ...  ...     ...   ...        ...           ...        ...\n",
       "421565     45    B  118221    98 2012-09-28        508.37      False\n",
       "421566     45    B  118221    98 2012-05-10        628.10      False\n",
       "421567     45    B  118221    98 2012-12-10       1061.02      False\n",
       "421568     45    B  118221    98 2012-10-19        760.01      False\n",
       "421569     45    B  118221    98 2012-10-26       1076.80      False\n",
       "\n",
       "[421570 rows x 7 columns]"
      ]
     },
     "execution_count": 24,
     "metadata": {},
     "output_type": "execute_result"
    }
   ],
   "source": [
    "sales_stores"
   ]
  },
  {
   "cell_type": "code",
   "execution_count": 25,
   "metadata": {},
   "outputs": [
    {
     "data": {
      "text/html": [
       "<div>\n",
       "<style scoped>\n",
       "    .dataframe tbody tr th:only-of-type {\n",
       "        vertical-align: middle;\n",
       "    }\n",
       "\n",
       "    .dataframe tbody tr th {\n",
       "        vertical-align: top;\n",
       "    }\n",
       "\n",
       "    .dataframe thead th {\n",
       "        text-align: right;\n",
       "    }\n",
       "</style>\n",
       "<table border=\"1\" class=\"dataframe\">\n",
       "  <thead>\n",
       "    <tr style=\"text-align: right;\">\n",
       "      <th></th>\n",
       "      <th>Store</th>\n",
       "      <th>Dept</th>\n",
       "      <th>Date</th>\n",
       "      <th>Weekly_Sales</th>\n",
       "      <th>IsHoliday</th>\n",
       "    </tr>\n",
       "  </thead>\n",
       "  <tbody>\n",
       "    <tr>\n",
       "      <th>0</th>\n",
       "      <td>1</td>\n",
       "      <td>1</td>\n",
       "      <td>2010-05-02</td>\n",
       "      <td>24924.50</td>\n",
       "      <td>False</td>\n",
       "    </tr>\n",
       "    <tr>\n",
       "      <th>1</th>\n",
       "      <td>1</td>\n",
       "      <td>1</td>\n",
       "      <td>2010-12-02</td>\n",
       "      <td>46039.49</td>\n",
       "      <td>True</td>\n",
       "    </tr>\n",
       "    <tr>\n",
       "      <th>2</th>\n",
       "      <td>1</td>\n",
       "      <td>1</td>\n",
       "      <td>2010-02-19</td>\n",
       "      <td>41595.55</td>\n",
       "      <td>False</td>\n",
       "    </tr>\n",
       "    <tr>\n",
       "      <th>3</th>\n",
       "      <td>1</td>\n",
       "      <td>1</td>\n",
       "      <td>2010-02-26</td>\n",
       "      <td>19403.54</td>\n",
       "      <td>False</td>\n",
       "    </tr>\n",
       "    <tr>\n",
       "      <th>4</th>\n",
       "      <td>1</td>\n",
       "      <td>1</td>\n",
       "      <td>2010-05-03</td>\n",
       "      <td>21827.90</td>\n",
       "      <td>False</td>\n",
       "    </tr>\n",
       "    <tr>\n",
       "      <th>...</th>\n",
       "      <td>...</td>\n",
       "      <td>...</td>\n",
       "      <td>...</td>\n",
       "      <td>...</td>\n",
       "      <td>...</td>\n",
       "    </tr>\n",
       "    <tr>\n",
       "      <th>421565</th>\n",
       "      <td>45</td>\n",
       "      <td>98</td>\n",
       "      <td>2012-09-28</td>\n",
       "      <td>508.37</td>\n",
       "      <td>False</td>\n",
       "    </tr>\n",
       "    <tr>\n",
       "      <th>421566</th>\n",
       "      <td>45</td>\n",
       "      <td>98</td>\n",
       "      <td>2012-05-10</td>\n",
       "      <td>628.10</td>\n",
       "      <td>False</td>\n",
       "    </tr>\n",
       "    <tr>\n",
       "      <th>421567</th>\n",
       "      <td>45</td>\n",
       "      <td>98</td>\n",
       "      <td>2012-12-10</td>\n",
       "      <td>1061.02</td>\n",
       "      <td>False</td>\n",
       "    </tr>\n",
       "    <tr>\n",
       "      <th>421568</th>\n",
       "      <td>45</td>\n",
       "      <td>98</td>\n",
       "      <td>2012-10-19</td>\n",
       "      <td>760.01</td>\n",
       "      <td>False</td>\n",
       "    </tr>\n",
       "    <tr>\n",
       "      <th>421569</th>\n",
       "      <td>45</td>\n",
       "      <td>98</td>\n",
       "      <td>2012-10-26</td>\n",
       "      <td>1076.80</td>\n",
       "      <td>False</td>\n",
       "    </tr>\n",
       "  </tbody>\n",
       "</table>\n",
       "<p>421570 rows × 5 columns</p>\n",
       "</div>"
      ],
      "text/plain": [
       "        Store  Dept       Date  Weekly_Sales  IsHoliday\n",
       "0           1     1 2010-05-02      24924.50      False\n",
       "1           1     1 2010-12-02      46039.49       True\n",
       "2           1     1 2010-02-19      41595.55      False\n",
       "3           1     1 2010-02-26      19403.54      False\n",
       "4           1     1 2010-05-03      21827.90      False\n",
       "...       ...   ...        ...           ...        ...\n",
       "421565     45    98 2012-09-28        508.37      False\n",
       "421566     45    98 2012-05-10        628.10      False\n",
       "421567     45    98 2012-12-10       1061.02      False\n",
       "421568     45    98 2012-10-19        760.01      False\n",
       "421569     45    98 2012-10-26       1076.80      False\n",
       "\n",
       "[421570 rows x 5 columns]"
      ]
     },
     "execution_count": 25,
     "metadata": {},
     "output_type": "execute_result"
    }
   ],
   "source": [
    "sales"
   ]
  },
  {
   "cell_type": "code",
   "execution_count": 26,
   "metadata": {},
   "outputs": [
    {
     "data": {
      "text/html": [
       "<div>\n",
       "<style scoped>\n",
       "    .dataframe tbody tr th:only-of-type {\n",
       "        vertical-align: middle;\n",
       "    }\n",
       "\n",
       "    .dataframe tbody tr th {\n",
       "        vertical-align: top;\n",
       "    }\n",
       "\n",
       "    .dataframe thead th {\n",
       "        text-align: right;\n",
       "    }\n",
       "</style>\n",
       "<table border=\"1\" class=\"dataframe\">\n",
       "  <thead>\n",
       "    <tr style=\"text-align: right;\">\n",
       "      <th></th>\n",
       "      <th>Date</th>\n",
       "      <th>Weekly_Sales_Min</th>\n",
       "      <th>Weekly_Sales_Max</th>\n",
       "      <th>Weekly_Sales_q25</th>\n",
       "      <th>Weekly_Sales_q50</th>\n",
       "      <th>Weekly_Sales_q75</th>\n",
       "    </tr>\n",
       "  </thead>\n",
       "  <tbody>\n",
       "    <tr>\n",
       "      <th>0</th>\n",
       "      <td>2010-01-10</td>\n",
       "      <td>-103.00</td>\n",
       "      <td>174219.51</td>\n",
       "      <td>2057.205</td>\n",
       "      <td>6940.74</td>\n",
       "      <td>18007.8500</td>\n",
       "    </tr>\n",
       "    <tr>\n",
       "      <th>1</th>\n",
       "      <td>2010-02-04</td>\n",
       "      <td>-224.00</td>\n",
       "      <td>203457.42</td>\n",
       "      <td>2443.370</td>\n",
       "      <td>8658.89</td>\n",
       "      <td>21876.5800</td>\n",
       "    </tr>\n",
       "    <tr>\n",
       "      <th>2</th>\n",
       "      <td>2010-02-07</td>\n",
       "      <td>-175.54</td>\n",
       "      <td>198349.17</td>\n",
       "      <td>2315.380</td>\n",
       "      <td>8117.29</td>\n",
       "      <td>22019.2500</td>\n",
       "    </tr>\n",
       "    <tr>\n",
       "      <th>3</th>\n",
       "      <td>2010-02-19</td>\n",
       "      <td>-863.00</td>\n",
       "      <td>192282.19</td>\n",
       "      <td>2193.340</td>\n",
       "      <td>8411.25</td>\n",
       "      <td>20576.0300</td>\n",
       "    </tr>\n",
       "    <tr>\n",
       "      <th>4</th>\n",
       "      <td>2010-02-26</td>\n",
       "      <td>-1750.00</td>\n",
       "      <td>205250.96</td>\n",
       "      <td>1847.595</td>\n",
       "      <td>7235.80</td>\n",
       "      <td>18104.7200</td>\n",
       "    </tr>\n",
       "    <tr>\n",
       "      <th>...</th>\n",
       "      <td>...</td>\n",
       "      <td>...</td>\n",
       "      <td>...</td>\n",
       "      <td>...</td>\n",
       "      <td>...</td>\n",
       "      <td>...</td>\n",
       "    </tr>\n",
       "    <tr>\n",
       "      <th>138</th>\n",
       "      <td>2012-10-08</td>\n",
       "      <td>-139.65</td>\n",
       "      <td>194032.48</td>\n",
       "      <td>1846.660</td>\n",
       "      <td>7557.50</td>\n",
       "      <td>20400.8800</td>\n",
       "    </tr>\n",
       "    <tr>\n",
       "      <th>139</th>\n",
       "      <td>2012-10-19</td>\n",
       "      <td>-22.92</td>\n",
       "      <td>184451.36</td>\n",
       "      <td>2095.310</td>\n",
       "      <td>7374.70</td>\n",
       "      <td>19304.9575</td>\n",
       "    </tr>\n",
       "    <tr>\n",
       "      <th>140</th>\n",
       "      <td>2012-10-26</td>\n",
       "      <td>-178.15</td>\n",
       "      <td>183483.92</td>\n",
       "      <td>2114.365</td>\n",
       "      <td>7547.23</td>\n",
       "      <td>20052.9600</td>\n",
       "    </tr>\n",
       "    <tr>\n",
       "      <th>141</th>\n",
       "      <td>2012-11-05</td>\n",
       "      <td>-548.00</td>\n",
       "      <td>194034.68</td>\n",
       "      <td>2074.150</td>\n",
       "      <td>7533.42</td>\n",
       "      <td>20411.1800</td>\n",
       "    </tr>\n",
       "    <tr>\n",
       "      <th>142</th>\n",
       "      <td>2012-12-10</td>\n",
       "      <td>-199.00</td>\n",
       "      <td>192455.74</td>\n",
       "      <td>2018.905</td>\n",
       "      <td>7324.96</td>\n",
       "      <td>19434.2525</td>\n",
       "    </tr>\n",
       "  </tbody>\n",
       "</table>\n",
       "<p>143 rows × 6 columns</p>\n",
       "</div>"
      ],
      "text/plain": [
       "          Date  Weekly_Sales_Min  Weekly_Sales_Max  Weekly_Sales_q25  \\\n",
       "0   2010-01-10           -103.00         174219.51          2057.205   \n",
       "1   2010-02-04           -224.00         203457.42          2443.370   \n",
       "2   2010-02-07           -175.54         198349.17          2315.380   \n",
       "3   2010-02-19           -863.00         192282.19          2193.340   \n",
       "4   2010-02-26          -1750.00         205250.96          1847.595   \n",
       "..         ...               ...               ...               ...   \n",
       "138 2012-10-08           -139.65         194032.48          1846.660   \n",
       "139 2012-10-19            -22.92         184451.36          2095.310   \n",
       "140 2012-10-26           -178.15         183483.92          2114.365   \n",
       "141 2012-11-05           -548.00         194034.68          2074.150   \n",
       "142 2012-12-10           -199.00         192455.74          2018.905   \n",
       "\n",
       "     Weekly_Sales_q50  Weekly_Sales_q75  \n",
       "0             6940.74        18007.8500  \n",
       "1             8658.89        21876.5800  \n",
       "2             8117.29        22019.2500  \n",
       "3             8411.25        20576.0300  \n",
       "4             7235.80        18104.7200  \n",
       "..                ...               ...  \n",
       "138           7557.50        20400.8800  \n",
       "139           7374.70        19304.9575  \n",
       "140           7547.23        20052.9600  \n",
       "141           7533.42        20411.1800  \n",
       "142           7324.96        19434.2525  \n",
       "\n",
       "[143 rows x 6 columns]"
      ]
     },
     "execution_count": 26,
     "metadata": {},
     "output_type": "execute_result"
    }
   ],
   "source": [
    "sales_agg = calc_min_max_avg(sales_stores, \n",
    "                             'Weekly_Sales', \n",
    "                             'Date', \n",
    "                             ['Store', 'Dept', 'Type', 'Size', 'IsHoliday'])\n",
    "sales_agg"
   ]
  },
  {
   "cell_type": "code",
   "execution_count": 27,
   "metadata": {},
   "outputs": [],
   "source": [
    "# Split, by store type, sales joined with store type\n",
    "letters = ['A', 'B', 'C']\n",
    "sales_stores_bytype = dict()\n",
    "for l in letters:\n",
    "    t = sales_stores[sales_stores['Type'] == l]\n",
    "    t_agg = calc_min_max_avg(t, 'Weekly_Sales', 'Date', ['Store', 'Dept', 'Size', 'IsHoliday'])\n",
    "    sales_stores_bytype[l]= t_agg"
   ]
  },
  {
   "cell_type": "code",
   "execution_count": 28,
   "metadata": {},
   "outputs": [
    {
     "data": {
      "application/vnd.plotly.v1+json": {
       "config": {
        "linkText": "Export to plot.ly",
        "plotlyServerURL": "https://plot.ly",
        "showLink": false
       },
       "data": [
        {
         "line": {
          "color": "blue"
         },
         "name": "q50",
         "opacity": 0.4,
         "type": "scatter",
         "x": [
          "2010-01-10T00:00:00",
          "2010-02-04T00:00:00",
          "2010-02-07T00:00:00",
          "2010-02-19T00:00:00",
          "2010-02-26T00:00:00",
          "2010-03-09T00:00:00",
          "2010-03-12T00:00:00",
          "2010-03-19T00:00:00",
          "2010-03-26T00:00:00",
          "2010-04-06T00:00:00",
          "2010-04-16T00:00:00",
          "2010-04-23T00:00:00",
          "2010-04-30T00:00:00",
          "2010-05-02T00:00:00",
          "2010-05-03T00:00:00",
          "2010-05-11T00:00:00",
          "2010-05-14T00:00:00",
          "2010-05-21T00:00:00",
          "2010-05-28T00:00:00",
          "2010-06-08T00:00:00",
          "2010-06-18T00:00:00",
          "2010-06-25T00:00:00",
          "2010-07-05T00:00:00",
          "2010-07-16T00:00:00",
          "2010-07-23T00:00:00",
          "2010-07-30T00:00:00",
          "2010-08-10T00:00:00",
          "2010-08-13T00:00:00",
          "2010-08-20T00:00:00",
          "2010-08-27T00:00:00",
          "2010-09-04T00:00:00",
          "2010-09-07T00:00:00",
          "2010-09-17T00:00:00",
          "2010-09-24T00:00:00",
          "2010-10-09T00:00:00",
          "2010-10-12T00:00:00",
          "2010-10-15T00:00:00",
          "2010-10-22T00:00:00",
          "2010-10-29T00:00:00",
          "2010-11-06T00:00:00",
          "2010-11-19T00:00:00",
          "2010-11-26T00:00:00",
          "2010-12-02T00:00:00",
          "2010-12-03T00:00:00",
          "2010-12-11T00:00:00",
          "2010-12-17T00:00:00",
          "2010-12-24T00:00:00",
          "2010-12-31T00:00:00",
          "2011-01-04T00:00:00",
          "2011-01-07T00:00:00",
          "2011-01-14T00:00:00",
          "2011-01-21T00:00:00",
          "2011-01-28T00:00:00",
          "2011-02-09T00:00:00",
          "2011-02-12T00:00:00",
          "2011-02-18T00:00:00",
          "2011-02-25T00:00:00",
          "2011-03-06T00:00:00",
          "2011-03-18T00:00:00",
          "2011-03-25T00:00:00",
          "2011-04-02T00:00:00",
          "2011-04-03T00:00:00",
          "2011-04-11T00:00:00",
          "2011-04-15T00:00:00",
          "2011-04-22T00:00:00",
          "2011-04-29T00:00:00",
          "2011-05-08T00:00:00",
          "2011-05-13T00:00:00",
          "2011-05-20T00:00:00",
          "2011-05-27T00:00:00",
          "2011-06-05T00:00:00",
          "2011-06-17T00:00:00",
          "2011-06-24T00:00:00",
          "2011-07-01T00:00:00",
          "2011-07-10T00:00:00",
          "2011-07-15T00:00:00",
          "2011-07-22T00:00:00",
          "2011-07-29T00:00:00",
          "2011-08-04T00:00:00",
          "2011-08-07T00:00:00",
          "2011-08-19T00:00:00",
          "2011-08-26T00:00:00",
          "2011-09-09T00:00:00",
          "2011-09-12T00:00:00",
          "2011-09-16T00:00:00",
          "2011-09-23T00:00:00",
          "2011-09-30T00:00:00",
          "2011-10-06T00:00:00",
          "2011-10-14T00:00:00",
          "2011-10-21T00:00:00",
          "2011-10-28T00:00:00",
          "2011-11-02T00:00:00",
          "2011-11-03T00:00:00",
          "2011-11-11T00:00:00",
          "2011-11-18T00:00:00",
          "2011-11-25T00:00:00",
          "2011-12-08T00:00:00",
          "2011-12-16T00:00:00",
          "2011-12-23T00:00:00",
          "2011-12-30T00:00:00",
          "2012-01-06T00:00:00",
          "2012-01-13T00:00:00",
          "2012-01-20T00:00:00",
          "2012-01-27T00:00:00",
          "2012-02-03T00:00:00",
          "2012-02-17T00:00:00",
          "2012-02-24T00:00:00",
          "2012-03-02T00:00:00",
          "2012-03-08T00:00:00",
          "2012-03-16T00:00:00",
          "2012-03-23T00:00:00",
          "2012-03-30T00:00:00",
          "2012-04-05T00:00:00",
          "2012-04-13T00:00:00",
          "2012-04-20T00:00:00",
          "2012-04-27T00:00:00",
          "2012-05-10T00:00:00",
          "2012-05-18T00:00:00",
          "2012-05-25T00:00:00",
          "2012-06-01T00:00:00",
          "2012-06-04T00:00:00",
          "2012-06-07T00:00:00",
          "2012-06-15T00:00:00",
          "2012-06-22T00:00:00",
          "2012-06-29T00:00:00",
          "2012-07-09T00:00:00",
          "2012-07-13T00:00:00",
          "2012-07-20T00:00:00",
          "2012-07-27T00:00:00",
          "2012-08-06T00:00:00",
          "2012-08-17T00:00:00",
          "2012-08-24T00:00:00",
          "2012-08-31T00:00:00",
          "2012-09-03T00:00:00",
          "2012-09-14T00:00:00",
          "2012-09-21T00:00:00",
          "2012-09-28T00:00:00",
          "2012-10-02T00:00:00",
          "2012-10-08T00:00:00",
          "2012-10-19T00:00:00",
          "2012-10-26T00:00:00",
          "2012-11-05T00:00:00",
          "2012-12-10T00:00:00"
         ],
         "y": [
          8941.349999999999,
          11659.925,
          10247.445,
          11380.98,
          9801.555,
          10265.69,
          10545.57,
          10423.26,
          9722.09,
          11450.85,
          10121.81,
          9983.565,
          9813.43,
          10480.705000000002,
          10182.405,
          9902.11,
          10930.505000000001,
          10289.97,
          10597.86,
          10893.925,
          10376.63,
          10322.445,
          11447.095000000001,
          10395.619999999999,
          9824.13,
          10011.98,
          10063.2,
          10794.5,
          10868.439999999999,
          10951.23,
          10774.43,
          10326.535,
          9494.04,
          9062.01,
          9832.605,
          12474.25,
          9653.69,
          9660.75,
          9992.82,
          10485.76,
          10223.535,
          14256.5,
          11686.525,
          10371.17,
          10103.105,
          14198.029999999999,
          19336.505,
          8833.11,
          9243.875,
          9913.195,
          7789.82,
          7872.62,
          8118.155,
          9478.92,
          10353.13,
          11578.08,
          9391.835,
          10410.654999999999,
          9958.65,
          9352.6,
          9494.62,
          9642.3,
          10156.69,
          9458.720000000001,
          11042.42,
          9999.83,
          10173.07,
          10174.41,
          9791.44,
          9805.2,
          10417.015,
          9776.630000000001,
          9815.485,
          8134.5,
          9976.79,
          9497.64,
          9585.7,
          9311.19,
          9599.72,
          10022.16,
          10000.94,
          10036.74,
          9557.65,
          11833.810000000001,
          8946.744999999999,
          9133.3,
          8792.65,
          10041.68,
          9360.61,
          9798.189999999999,
          9959.35,
          10628.16,
          9248.36,
          10034.18,
          9940.035,
          13319.63,
          9962.43,
          13428.224999999999,
          17227.37,
          10242.43,
          10436.03,
          8057.23,
          8051.77,
          7735.8099999999995,
          9819.64,
          11031.369999999999,
          9799,
          9246.705,
          9849.435,
          10146.545,
          9814.14,
          9939.915,
          9982.545,
          10005.41,
          9457.904999999999,
          9311.155,
          9707.86,
          10522.59,
          10437.775000000001,
          8727.855,
          11440.03,
          10319.485,
          9992.14,
          9987.43,
          9761.32,
          9766.28,
          9334.15,
          9657.85,
          9214.369999999999,
          10144.665,
          10369.064999999999,
          10225.255000000001,
          10197.875,
          9892.395,
          9032.84,
          9372.68,
          9016.71,
          10388.43,
          10087.32,
          9900.455,
          9964.13,
          10015.154999999999,
          9867.33
         ]
        }
       ],
       "layout": {
        "template": {
         "data": {
          "bar": [
           {
            "error_x": {
             "color": "#2a3f5f"
            },
            "error_y": {
             "color": "#2a3f5f"
            },
            "marker": {
             "line": {
              "color": "#E5ECF6",
              "width": 0.5
             }
            },
            "type": "bar"
           }
          ],
          "barpolar": [
           {
            "marker": {
             "line": {
              "color": "#E5ECF6",
              "width": 0.5
             }
            },
            "type": "barpolar"
           }
          ],
          "carpet": [
           {
            "aaxis": {
             "endlinecolor": "#2a3f5f",
             "gridcolor": "white",
             "linecolor": "white",
             "minorgridcolor": "white",
             "startlinecolor": "#2a3f5f"
            },
            "baxis": {
             "endlinecolor": "#2a3f5f",
             "gridcolor": "white",
             "linecolor": "white",
             "minorgridcolor": "white",
             "startlinecolor": "#2a3f5f"
            },
            "type": "carpet"
           }
          ],
          "choropleth": [
           {
            "colorbar": {
             "outlinewidth": 0,
             "ticks": ""
            },
            "type": "choropleth"
           }
          ],
          "contour": [
           {
            "colorbar": {
             "outlinewidth": 0,
             "ticks": ""
            },
            "colorscale": [
             [
              0,
              "#0d0887"
             ],
             [
              0.1111111111111111,
              "#46039f"
             ],
             [
              0.2222222222222222,
              "#7201a8"
             ],
             [
              0.3333333333333333,
              "#9c179e"
             ],
             [
              0.4444444444444444,
              "#bd3786"
             ],
             [
              0.5555555555555556,
              "#d8576b"
             ],
             [
              0.6666666666666666,
              "#ed7953"
             ],
             [
              0.7777777777777778,
              "#fb9f3a"
             ],
             [
              0.8888888888888888,
              "#fdca26"
             ],
             [
              1,
              "#f0f921"
             ]
            ],
            "type": "contour"
           }
          ],
          "contourcarpet": [
           {
            "colorbar": {
             "outlinewidth": 0,
             "ticks": ""
            },
            "type": "contourcarpet"
           }
          ],
          "heatmap": [
           {
            "colorbar": {
             "outlinewidth": 0,
             "ticks": ""
            },
            "colorscale": [
             [
              0,
              "#0d0887"
             ],
             [
              0.1111111111111111,
              "#46039f"
             ],
             [
              0.2222222222222222,
              "#7201a8"
             ],
             [
              0.3333333333333333,
              "#9c179e"
             ],
             [
              0.4444444444444444,
              "#bd3786"
             ],
             [
              0.5555555555555556,
              "#d8576b"
             ],
             [
              0.6666666666666666,
              "#ed7953"
             ],
             [
              0.7777777777777778,
              "#fb9f3a"
             ],
             [
              0.8888888888888888,
              "#fdca26"
             ],
             [
              1,
              "#f0f921"
             ]
            ],
            "type": "heatmap"
           }
          ],
          "heatmapgl": [
           {
            "colorbar": {
             "outlinewidth": 0,
             "ticks": ""
            },
            "colorscale": [
             [
              0,
              "#0d0887"
             ],
             [
              0.1111111111111111,
              "#46039f"
             ],
             [
              0.2222222222222222,
              "#7201a8"
             ],
             [
              0.3333333333333333,
              "#9c179e"
             ],
             [
              0.4444444444444444,
              "#bd3786"
             ],
             [
              0.5555555555555556,
              "#d8576b"
             ],
             [
              0.6666666666666666,
              "#ed7953"
             ],
             [
              0.7777777777777778,
              "#fb9f3a"
             ],
             [
              0.8888888888888888,
              "#fdca26"
             ],
             [
              1,
              "#f0f921"
             ]
            ],
            "type": "heatmapgl"
           }
          ],
          "histogram": [
           {
            "marker": {
             "colorbar": {
              "outlinewidth": 0,
              "ticks": ""
             }
            },
            "type": "histogram"
           }
          ],
          "histogram2d": [
           {
            "colorbar": {
             "outlinewidth": 0,
             "ticks": ""
            },
            "colorscale": [
             [
              0,
              "#0d0887"
             ],
             [
              0.1111111111111111,
              "#46039f"
             ],
             [
              0.2222222222222222,
              "#7201a8"
             ],
             [
              0.3333333333333333,
              "#9c179e"
             ],
             [
              0.4444444444444444,
              "#bd3786"
             ],
             [
              0.5555555555555556,
              "#d8576b"
             ],
             [
              0.6666666666666666,
              "#ed7953"
             ],
             [
              0.7777777777777778,
              "#fb9f3a"
             ],
             [
              0.8888888888888888,
              "#fdca26"
             ],
             [
              1,
              "#f0f921"
             ]
            ],
            "type": "histogram2d"
           }
          ],
          "histogram2dcontour": [
           {
            "colorbar": {
             "outlinewidth": 0,
             "ticks": ""
            },
            "colorscale": [
             [
              0,
              "#0d0887"
             ],
             [
              0.1111111111111111,
              "#46039f"
             ],
             [
              0.2222222222222222,
              "#7201a8"
             ],
             [
              0.3333333333333333,
              "#9c179e"
             ],
             [
              0.4444444444444444,
              "#bd3786"
             ],
             [
              0.5555555555555556,
              "#d8576b"
             ],
             [
              0.6666666666666666,
              "#ed7953"
             ],
             [
              0.7777777777777778,
              "#fb9f3a"
             ],
             [
              0.8888888888888888,
              "#fdca26"
             ],
             [
              1,
              "#f0f921"
             ]
            ],
            "type": "histogram2dcontour"
           }
          ],
          "mesh3d": [
           {
            "colorbar": {
             "outlinewidth": 0,
             "ticks": ""
            },
            "type": "mesh3d"
           }
          ],
          "parcoords": [
           {
            "line": {
             "colorbar": {
              "outlinewidth": 0,
              "ticks": ""
             }
            },
            "type": "parcoords"
           }
          ],
          "pie": [
           {
            "automargin": true,
            "type": "pie"
           }
          ],
          "scatter": [
           {
            "marker": {
             "colorbar": {
              "outlinewidth": 0,
              "ticks": ""
             }
            },
            "type": "scatter"
           }
          ],
          "scatter3d": [
           {
            "line": {
             "colorbar": {
              "outlinewidth": 0,
              "ticks": ""
             }
            },
            "marker": {
             "colorbar": {
              "outlinewidth": 0,
              "ticks": ""
             }
            },
            "type": "scatter3d"
           }
          ],
          "scattercarpet": [
           {
            "marker": {
             "colorbar": {
              "outlinewidth": 0,
              "ticks": ""
             }
            },
            "type": "scattercarpet"
           }
          ],
          "scattergeo": [
           {
            "marker": {
             "colorbar": {
              "outlinewidth": 0,
              "ticks": ""
             }
            },
            "type": "scattergeo"
           }
          ],
          "scattergl": [
           {
            "marker": {
             "colorbar": {
              "outlinewidth": 0,
              "ticks": ""
             }
            },
            "type": "scattergl"
           }
          ],
          "scattermapbox": [
           {
            "marker": {
             "colorbar": {
              "outlinewidth": 0,
              "ticks": ""
             }
            },
            "type": "scattermapbox"
           }
          ],
          "scatterpolar": [
           {
            "marker": {
             "colorbar": {
              "outlinewidth": 0,
              "ticks": ""
             }
            },
            "type": "scatterpolar"
           }
          ],
          "scatterpolargl": [
           {
            "marker": {
             "colorbar": {
              "outlinewidth": 0,
              "ticks": ""
             }
            },
            "type": "scatterpolargl"
           }
          ],
          "scatterternary": [
           {
            "marker": {
             "colorbar": {
              "outlinewidth": 0,
              "ticks": ""
             }
            },
            "type": "scatterternary"
           }
          ],
          "surface": [
           {
            "colorbar": {
             "outlinewidth": 0,
             "ticks": ""
            },
            "colorscale": [
             [
              0,
              "#0d0887"
             ],
             [
              0.1111111111111111,
              "#46039f"
             ],
             [
              0.2222222222222222,
              "#7201a8"
             ],
             [
              0.3333333333333333,
              "#9c179e"
             ],
             [
              0.4444444444444444,
              "#bd3786"
             ],
             [
              0.5555555555555556,
              "#d8576b"
             ],
             [
              0.6666666666666666,
              "#ed7953"
             ],
             [
              0.7777777777777778,
              "#fb9f3a"
             ],
             [
              0.8888888888888888,
              "#fdca26"
             ],
             [
              1,
              "#f0f921"
             ]
            ],
            "type": "surface"
           }
          ],
          "table": [
           {
            "cells": {
             "fill": {
              "color": "#EBF0F8"
             },
             "line": {
              "color": "white"
             }
            },
            "header": {
             "fill": {
              "color": "#C8D4E3"
             },
             "line": {
              "color": "white"
             }
            },
            "type": "table"
           }
          ]
         },
         "layout": {
          "annotationdefaults": {
           "arrowcolor": "#2a3f5f",
           "arrowhead": 0,
           "arrowwidth": 1
          },
          "autotypenumbers": "strict",
          "coloraxis": {
           "colorbar": {
            "outlinewidth": 0,
            "ticks": ""
           }
          },
          "colorscale": {
           "diverging": [
            [
             0,
             "#8e0152"
            ],
            [
             0.1,
             "#c51b7d"
            ],
            [
             0.2,
             "#de77ae"
            ],
            [
             0.3,
             "#f1b6da"
            ],
            [
             0.4,
             "#fde0ef"
            ],
            [
             0.5,
             "#f7f7f7"
            ],
            [
             0.6,
             "#e6f5d0"
            ],
            [
             0.7,
             "#b8e186"
            ],
            [
             0.8,
             "#7fbc41"
            ],
            [
             0.9,
             "#4d9221"
            ],
            [
             1,
             "#276419"
            ]
           ],
           "sequential": [
            [
             0,
             "#0d0887"
            ],
            [
             0.1111111111111111,
             "#46039f"
            ],
            [
             0.2222222222222222,
             "#7201a8"
            ],
            [
             0.3333333333333333,
             "#9c179e"
            ],
            [
             0.4444444444444444,
             "#bd3786"
            ],
            [
             0.5555555555555556,
             "#d8576b"
            ],
            [
             0.6666666666666666,
             "#ed7953"
            ],
            [
             0.7777777777777778,
             "#fb9f3a"
            ],
            [
             0.8888888888888888,
             "#fdca26"
            ],
            [
             1,
             "#f0f921"
            ]
           ],
           "sequentialminus": [
            [
             0,
             "#0d0887"
            ],
            [
             0.1111111111111111,
             "#46039f"
            ],
            [
             0.2222222222222222,
             "#7201a8"
            ],
            [
             0.3333333333333333,
             "#9c179e"
            ],
            [
             0.4444444444444444,
             "#bd3786"
            ],
            [
             0.5555555555555556,
             "#d8576b"
            ],
            [
             0.6666666666666666,
             "#ed7953"
            ],
            [
             0.7777777777777778,
             "#fb9f3a"
            ],
            [
             0.8888888888888888,
             "#fdca26"
            ],
            [
             1,
             "#f0f921"
            ]
           ]
          },
          "colorway": [
           "#636efa",
           "#EF553B",
           "#00cc96",
           "#ab63fa",
           "#FFA15A",
           "#19d3f3",
           "#FF6692",
           "#B6E880",
           "#FF97FF",
           "#FECB52"
          ],
          "font": {
           "color": "#2a3f5f"
          },
          "geo": {
           "bgcolor": "white",
           "lakecolor": "white",
           "landcolor": "#E5ECF6",
           "showlakes": true,
           "showland": true,
           "subunitcolor": "white"
          },
          "hoverlabel": {
           "align": "left"
          },
          "hovermode": "closest",
          "mapbox": {
           "style": "light"
          },
          "paper_bgcolor": "white",
          "plot_bgcolor": "#E5ECF6",
          "polar": {
           "angularaxis": {
            "gridcolor": "white",
            "linecolor": "white",
            "ticks": ""
           },
           "bgcolor": "#E5ECF6",
           "radialaxis": {
            "gridcolor": "white",
            "linecolor": "white",
            "ticks": ""
           }
          },
          "scene": {
           "xaxis": {
            "backgroundcolor": "#E5ECF6",
            "gridcolor": "white",
            "gridwidth": 2,
            "linecolor": "white",
            "showbackground": true,
            "ticks": "",
            "zerolinecolor": "white"
           },
           "yaxis": {
            "backgroundcolor": "#E5ECF6",
            "gridcolor": "white",
            "gridwidth": 2,
            "linecolor": "white",
            "showbackground": true,
            "ticks": "",
            "zerolinecolor": "white"
           },
           "zaxis": {
            "backgroundcolor": "#E5ECF6",
            "gridcolor": "white",
            "gridwidth": 2,
            "linecolor": "white",
            "showbackground": true,
            "ticks": "",
            "zerolinecolor": "white"
           }
          },
          "shapedefaults": {
           "line": {
            "color": "#2a3f5f"
           }
          },
          "ternary": {
           "aaxis": {
            "gridcolor": "white",
            "linecolor": "white",
            "ticks": ""
           },
           "baxis": {
            "gridcolor": "white",
            "linecolor": "white",
            "ticks": ""
           },
           "bgcolor": "#E5ECF6",
           "caxis": {
            "gridcolor": "white",
            "linecolor": "white",
            "ticks": ""
           }
          },
          "title": {
           "x": 0.05
          },
          "xaxis": {
           "automargin": true,
           "gridcolor": "white",
           "linecolor": "white",
           "ticks": "",
           "title": {
            "standoff": 15
           },
           "zerolinecolor": "white",
           "zerolinewidth": 2
          },
          "yaxis": {
           "automargin": true,
           "gridcolor": "white",
           "linecolor": "white",
           "ticks": "",
           "title": {
            "standoff": 15
           },
           "zerolinecolor": "white",
           "zerolinewidth": 2
          }
         }
        },
        "title": {
         "text": "Mean of Weekly_Sales (A Stores) "
        }
       }
      },
      "text/html": [
       "<div>                            <div id=\"a88af080-4c57-4f2e-8b81-b53af3bc3336\" class=\"plotly-graph-div\" style=\"height:525px; width:100%;\"></div>            <script type=\"text/javascript\">                require([\"plotly\"], function(Plotly) {                    window.PLOTLYENV=window.PLOTLYENV || {};                                    if (document.getElementById(\"a88af080-4c57-4f2e-8b81-b53af3bc3336\")) {                    Plotly.newPlot(                        \"a88af080-4c57-4f2e-8b81-b53af3bc3336\",                        [{\"line\": {\"color\": \"blue\"}, \"name\": \"q50\", \"opacity\": 0.4, \"type\": \"scatter\", \"x\": [\"2010-01-10T00:00:00\", \"2010-02-04T00:00:00\", \"2010-02-07T00:00:00\", \"2010-02-19T00:00:00\", \"2010-02-26T00:00:00\", \"2010-03-09T00:00:00\", \"2010-03-12T00:00:00\", \"2010-03-19T00:00:00\", \"2010-03-26T00:00:00\", \"2010-04-06T00:00:00\", \"2010-04-16T00:00:00\", \"2010-04-23T00:00:00\", \"2010-04-30T00:00:00\", \"2010-05-02T00:00:00\", \"2010-05-03T00:00:00\", \"2010-05-11T00:00:00\", \"2010-05-14T00:00:00\", \"2010-05-21T00:00:00\", \"2010-05-28T00:00:00\", \"2010-06-08T00:00:00\", \"2010-06-18T00:00:00\", \"2010-06-25T00:00:00\", \"2010-07-05T00:00:00\", \"2010-07-16T00:00:00\", \"2010-07-23T00:00:00\", \"2010-07-30T00:00:00\", \"2010-08-10T00:00:00\", \"2010-08-13T00:00:00\", \"2010-08-20T00:00:00\", \"2010-08-27T00:00:00\", \"2010-09-04T00:00:00\", \"2010-09-07T00:00:00\", \"2010-09-17T00:00:00\", \"2010-09-24T00:00:00\", \"2010-10-09T00:00:00\", \"2010-10-12T00:00:00\", \"2010-10-15T00:00:00\", \"2010-10-22T00:00:00\", \"2010-10-29T00:00:00\", \"2010-11-06T00:00:00\", \"2010-11-19T00:00:00\", \"2010-11-26T00:00:00\", \"2010-12-02T00:00:00\", \"2010-12-03T00:00:00\", \"2010-12-11T00:00:00\", \"2010-12-17T00:00:00\", \"2010-12-24T00:00:00\", \"2010-12-31T00:00:00\", \"2011-01-04T00:00:00\", \"2011-01-07T00:00:00\", \"2011-01-14T00:00:00\", \"2011-01-21T00:00:00\", \"2011-01-28T00:00:00\", \"2011-02-09T00:00:00\", \"2011-02-12T00:00:00\", \"2011-02-18T00:00:00\", \"2011-02-25T00:00:00\", \"2011-03-06T00:00:00\", \"2011-03-18T00:00:00\", \"2011-03-25T00:00:00\", \"2011-04-02T00:00:00\", \"2011-04-03T00:00:00\", \"2011-04-11T00:00:00\", \"2011-04-15T00:00:00\", \"2011-04-22T00:00:00\", \"2011-04-29T00:00:00\", \"2011-05-08T00:00:00\", \"2011-05-13T00:00:00\", \"2011-05-20T00:00:00\", \"2011-05-27T00:00:00\", \"2011-06-05T00:00:00\", \"2011-06-17T00:00:00\", \"2011-06-24T00:00:00\", \"2011-07-01T00:00:00\", \"2011-07-10T00:00:00\", \"2011-07-15T00:00:00\", \"2011-07-22T00:00:00\", \"2011-07-29T00:00:00\", \"2011-08-04T00:00:00\", \"2011-08-07T00:00:00\", \"2011-08-19T00:00:00\", \"2011-08-26T00:00:00\", \"2011-09-09T00:00:00\", \"2011-09-12T00:00:00\", \"2011-09-16T00:00:00\", \"2011-09-23T00:00:00\", \"2011-09-30T00:00:00\", \"2011-10-06T00:00:00\", \"2011-10-14T00:00:00\", \"2011-10-21T00:00:00\", \"2011-10-28T00:00:00\", \"2011-11-02T00:00:00\", \"2011-11-03T00:00:00\", \"2011-11-11T00:00:00\", \"2011-11-18T00:00:00\", \"2011-11-25T00:00:00\", \"2011-12-08T00:00:00\", \"2011-12-16T00:00:00\", \"2011-12-23T00:00:00\", \"2011-12-30T00:00:00\", \"2012-01-06T00:00:00\", \"2012-01-13T00:00:00\", \"2012-01-20T00:00:00\", \"2012-01-27T00:00:00\", \"2012-02-03T00:00:00\", \"2012-02-17T00:00:00\", \"2012-02-24T00:00:00\", \"2012-03-02T00:00:00\", \"2012-03-08T00:00:00\", \"2012-03-16T00:00:00\", \"2012-03-23T00:00:00\", \"2012-03-30T00:00:00\", \"2012-04-05T00:00:00\", \"2012-04-13T00:00:00\", \"2012-04-20T00:00:00\", \"2012-04-27T00:00:00\", \"2012-05-10T00:00:00\", \"2012-05-18T00:00:00\", \"2012-05-25T00:00:00\", \"2012-06-01T00:00:00\", \"2012-06-04T00:00:00\", \"2012-06-07T00:00:00\", \"2012-06-15T00:00:00\", \"2012-06-22T00:00:00\", \"2012-06-29T00:00:00\", \"2012-07-09T00:00:00\", \"2012-07-13T00:00:00\", \"2012-07-20T00:00:00\", \"2012-07-27T00:00:00\", \"2012-08-06T00:00:00\", \"2012-08-17T00:00:00\", \"2012-08-24T00:00:00\", \"2012-08-31T00:00:00\", \"2012-09-03T00:00:00\", \"2012-09-14T00:00:00\", \"2012-09-21T00:00:00\", \"2012-09-28T00:00:00\", \"2012-10-02T00:00:00\", \"2012-10-08T00:00:00\", \"2012-10-19T00:00:00\", \"2012-10-26T00:00:00\", \"2012-11-05T00:00:00\", \"2012-12-10T00:00:00\"], \"y\": [8941.349999999999, 11659.925, 10247.445, 11380.98, 9801.555, 10265.69, 10545.57, 10423.26, 9722.09, 11450.85, 10121.81, 9983.565, 9813.43, 10480.705000000002, 10182.405, 9902.11, 10930.505000000001, 10289.97, 10597.86, 10893.925, 10376.63, 10322.445, 11447.095000000001, 10395.619999999999, 9824.13, 10011.98, 10063.2, 10794.5, 10868.439999999999, 10951.23, 10774.43, 10326.535, 9494.04, 9062.01, 9832.605, 12474.25, 9653.69, 9660.75, 9992.82, 10485.76, 10223.535, 14256.5, 11686.525, 10371.17, 10103.105, 14198.029999999999, 19336.505, 8833.11, 9243.875, 9913.195, 7789.82, 7872.62, 8118.155, 9478.92, 10353.13, 11578.08, 9391.835, 10410.654999999999, 9958.65, 9352.6, 9494.62, 9642.3, 10156.69, 9458.720000000001, 11042.42, 9999.83, 10173.07, 10174.41, 9791.44, 9805.2, 10417.015, 9776.630000000001, 9815.485, 8134.5, 9976.79, 9497.64, 9585.7, 9311.19, 9599.72, 10022.16, 10000.94, 10036.74, 9557.65, 11833.810000000001, 8946.744999999999, 9133.3, 8792.65, 10041.68, 9360.61, 9798.189999999999, 9959.35, 10628.16, 9248.36, 10034.18, 9940.035, 13319.63, 9962.43, 13428.224999999999, 17227.37, 10242.43, 10436.03, 8057.23, 8051.77, 7735.8099999999995, 9819.64, 11031.369999999999, 9799.0, 9246.705, 9849.435, 10146.545, 9814.14, 9939.915, 9982.545, 10005.41, 9457.904999999999, 9311.155, 9707.86, 10522.59, 10437.775000000001, 8727.855, 11440.03, 10319.485, 9992.14, 9987.43, 9761.32, 9766.28, 9334.15, 9657.85, 9214.369999999999, 10144.665, 10369.064999999999, 10225.255000000001, 10197.875, 9892.395, 9032.84, 9372.68, 9016.71, 10388.43, 10087.32, 9900.455, 9964.13, 10015.154999999999, 9867.33]}],                        {\"template\": {\"data\": {\"bar\": [{\"error_x\": {\"color\": \"#2a3f5f\"}, \"error_y\": {\"color\": \"#2a3f5f\"}, \"marker\": {\"line\": {\"color\": \"#E5ECF6\", \"width\": 0.5}}, \"type\": \"bar\"}], \"barpolar\": [{\"marker\": {\"line\": {\"color\": \"#E5ECF6\", \"width\": 0.5}}, \"type\": \"barpolar\"}], \"carpet\": [{\"aaxis\": {\"endlinecolor\": \"#2a3f5f\", \"gridcolor\": \"white\", \"linecolor\": \"white\", \"minorgridcolor\": \"white\", \"startlinecolor\": \"#2a3f5f\"}, \"baxis\": {\"endlinecolor\": \"#2a3f5f\", \"gridcolor\": \"white\", \"linecolor\": \"white\", \"minorgridcolor\": \"white\", \"startlinecolor\": \"#2a3f5f\"}, \"type\": \"carpet\"}], \"choropleth\": [{\"colorbar\": {\"outlinewidth\": 0, \"ticks\": \"\"}, \"type\": \"choropleth\"}], \"contour\": [{\"colorbar\": {\"outlinewidth\": 0, \"ticks\": \"\"}, \"colorscale\": [[0.0, \"#0d0887\"], [0.1111111111111111, \"#46039f\"], [0.2222222222222222, \"#7201a8\"], [0.3333333333333333, \"#9c179e\"], [0.4444444444444444, \"#bd3786\"], [0.5555555555555556, \"#d8576b\"], [0.6666666666666666, \"#ed7953\"], [0.7777777777777778, \"#fb9f3a\"], [0.8888888888888888, \"#fdca26\"], [1.0, \"#f0f921\"]], \"type\": \"contour\"}], \"contourcarpet\": [{\"colorbar\": {\"outlinewidth\": 0, \"ticks\": \"\"}, \"type\": \"contourcarpet\"}], \"heatmap\": [{\"colorbar\": {\"outlinewidth\": 0, \"ticks\": \"\"}, \"colorscale\": [[0.0, \"#0d0887\"], [0.1111111111111111, \"#46039f\"], [0.2222222222222222, \"#7201a8\"], [0.3333333333333333, \"#9c179e\"], [0.4444444444444444, \"#bd3786\"], [0.5555555555555556, \"#d8576b\"], [0.6666666666666666, \"#ed7953\"], [0.7777777777777778, \"#fb9f3a\"], [0.8888888888888888, \"#fdca26\"], [1.0, \"#f0f921\"]], \"type\": \"heatmap\"}], \"heatmapgl\": [{\"colorbar\": {\"outlinewidth\": 0, \"ticks\": \"\"}, \"colorscale\": [[0.0, \"#0d0887\"], [0.1111111111111111, \"#46039f\"], [0.2222222222222222, \"#7201a8\"], [0.3333333333333333, \"#9c179e\"], [0.4444444444444444, \"#bd3786\"], [0.5555555555555556, \"#d8576b\"], [0.6666666666666666, \"#ed7953\"], [0.7777777777777778, \"#fb9f3a\"], [0.8888888888888888, \"#fdca26\"], [1.0, \"#f0f921\"]], \"type\": \"heatmapgl\"}], \"histogram\": [{\"marker\": {\"colorbar\": {\"outlinewidth\": 0, \"ticks\": \"\"}}, \"type\": \"histogram\"}], \"histogram2d\": [{\"colorbar\": {\"outlinewidth\": 0, \"ticks\": \"\"}, \"colorscale\": [[0.0, \"#0d0887\"], [0.1111111111111111, \"#46039f\"], [0.2222222222222222, \"#7201a8\"], [0.3333333333333333, \"#9c179e\"], [0.4444444444444444, \"#bd3786\"], [0.5555555555555556, \"#d8576b\"], [0.6666666666666666, \"#ed7953\"], [0.7777777777777778, \"#fb9f3a\"], [0.8888888888888888, \"#fdca26\"], [1.0, \"#f0f921\"]], \"type\": \"histogram2d\"}], \"histogram2dcontour\": [{\"colorbar\": {\"outlinewidth\": 0, \"ticks\": \"\"}, \"colorscale\": [[0.0, \"#0d0887\"], [0.1111111111111111, \"#46039f\"], [0.2222222222222222, \"#7201a8\"], [0.3333333333333333, \"#9c179e\"], [0.4444444444444444, \"#bd3786\"], [0.5555555555555556, \"#d8576b\"], [0.6666666666666666, \"#ed7953\"], [0.7777777777777778, \"#fb9f3a\"], [0.8888888888888888, \"#fdca26\"], [1.0, \"#f0f921\"]], \"type\": \"histogram2dcontour\"}], \"mesh3d\": [{\"colorbar\": {\"outlinewidth\": 0, \"ticks\": \"\"}, \"type\": \"mesh3d\"}], \"parcoords\": [{\"line\": {\"colorbar\": {\"outlinewidth\": 0, \"ticks\": \"\"}}, \"type\": \"parcoords\"}], \"pie\": [{\"automargin\": true, \"type\": \"pie\"}], \"scatter\": [{\"marker\": {\"colorbar\": {\"outlinewidth\": 0, \"ticks\": \"\"}}, \"type\": \"scatter\"}], \"scatter3d\": [{\"line\": {\"colorbar\": {\"outlinewidth\": 0, \"ticks\": \"\"}}, \"marker\": {\"colorbar\": {\"outlinewidth\": 0, \"ticks\": \"\"}}, \"type\": \"scatter3d\"}], \"scattercarpet\": [{\"marker\": {\"colorbar\": {\"outlinewidth\": 0, \"ticks\": \"\"}}, \"type\": \"scattercarpet\"}], \"scattergeo\": [{\"marker\": {\"colorbar\": {\"outlinewidth\": 0, \"ticks\": \"\"}}, \"type\": \"scattergeo\"}], \"scattergl\": [{\"marker\": {\"colorbar\": {\"outlinewidth\": 0, \"ticks\": \"\"}}, \"type\": \"scattergl\"}], \"scattermapbox\": [{\"marker\": {\"colorbar\": {\"outlinewidth\": 0, \"ticks\": \"\"}}, \"type\": \"scattermapbox\"}], \"scatterpolar\": [{\"marker\": {\"colorbar\": {\"outlinewidth\": 0, \"ticks\": \"\"}}, \"type\": \"scatterpolar\"}], \"scatterpolargl\": [{\"marker\": {\"colorbar\": {\"outlinewidth\": 0, \"ticks\": \"\"}}, \"type\": \"scatterpolargl\"}], \"scatterternary\": [{\"marker\": {\"colorbar\": {\"outlinewidth\": 0, \"ticks\": \"\"}}, \"type\": \"scatterternary\"}], \"surface\": [{\"colorbar\": {\"outlinewidth\": 0, \"ticks\": \"\"}, \"colorscale\": [[0.0, \"#0d0887\"], [0.1111111111111111, \"#46039f\"], [0.2222222222222222, \"#7201a8\"], [0.3333333333333333, \"#9c179e\"], [0.4444444444444444, \"#bd3786\"], [0.5555555555555556, \"#d8576b\"], [0.6666666666666666, \"#ed7953\"], [0.7777777777777778, \"#fb9f3a\"], [0.8888888888888888, \"#fdca26\"], [1.0, \"#f0f921\"]], \"type\": \"surface\"}], \"table\": [{\"cells\": {\"fill\": {\"color\": \"#EBF0F8\"}, \"line\": {\"color\": \"white\"}}, \"header\": {\"fill\": {\"color\": \"#C8D4E3\"}, \"line\": {\"color\": \"white\"}}, \"type\": \"table\"}]}, \"layout\": {\"annotationdefaults\": {\"arrowcolor\": \"#2a3f5f\", \"arrowhead\": 0, \"arrowwidth\": 1}, \"autotypenumbers\": \"strict\", \"coloraxis\": {\"colorbar\": {\"outlinewidth\": 0, \"ticks\": \"\"}}, \"colorscale\": {\"diverging\": [[0, \"#8e0152\"], [0.1, \"#c51b7d\"], [0.2, \"#de77ae\"], [0.3, \"#f1b6da\"], [0.4, \"#fde0ef\"], [0.5, \"#f7f7f7\"], [0.6, \"#e6f5d0\"], [0.7, \"#b8e186\"], [0.8, \"#7fbc41\"], [0.9, \"#4d9221\"], [1, \"#276419\"]], \"sequential\": [[0.0, \"#0d0887\"], [0.1111111111111111, \"#46039f\"], [0.2222222222222222, \"#7201a8\"], [0.3333333333333333, \"#9c179e\"], [0.4444444444444444, \"#bd3786\"], [0.5555555555555556, \"#d8576b\"], [0.6666666666666666, \"#ed7953\"], [0.7777777777777778, \"#fb9f3a\"], [0.8888888888888888, \"#fdca26\"], [1.0, \"#f0f921\"]], \"sequentialminus\": [[0.0, \"#0d0887\"], [0.1111111111111111, \"#46039f\"], [0.2222222222222222, \"#7201a8\"], [0.3333333333333333, \"#9c179e\"], [0.4444444444444444, \"#bd3786\"], [0.5555555555555556, \"#d8576b\"], [0.6666666666666666, \"#ed7953\"], [0.7777777777777778, \"#fb9f3a\"], [0.8888888888888888, \"#fdca26\"], [1.0, \"#f0f921\"]]}, \"colorway\": [\"#636efa\", \"#EF553B\", \"#00cc96\", \"#ab63fa\", \"#FFA15A\", \"#19d3f3\", \"#FF6692\", \"#B6E880\", \"#FF97FF\", \"#FECB52\"], \"font\": {\"color\": \"#2a3f5f\"}, \"geo\": {\"bgcolor\": \"white\", \"lakecolor\": \"white\", \"landcolor\": \"#E5ECF6\", \"showlakes\": true, \"showland\": true, \"subunitcolor\": \"white\"}, \"hoverlabel\": {\"align\": \"left\"}, \"hovermode\": \"closest\", \"mapbox\": {\"style\": \"light\"}, \"paper_bgcolor\": \"white\", \"plot_bgcolor\": \"#E5ECF6\", \"polar\": {\"angularaxis\": {\"gridcolor\": \"white\", \"linecolor\": \"white\", \"ticks\": \"\"}, \"bgcolor\": \"#E5ECF6\", \"radialaxis\": {\"gridcolor\": \"white\", \"linecolor\": \"white\", \"ticks\": \"\"}}, \"scene\": {\"xaxis\": {\"backgroundcolor\": \"#E5ECF6\", \"gridcolor\": \"white\", \"gridwidth\": 2, \"linecolor\": \"white\", \"showbackground\": true, \"ticks\": \"\", \"zerolinecolor\": \"white\"}, \"yaxis\": {\"backgroundcolor\": \"#E5ECF6\", \"gridcolor\": \"white\", \"gridwidth\": 2, \"linecolor\": \"white\", \"showbackground\": true, \"ticks\": \"\", \"zerolinecolor\": \"white\"}, \"zaxis\": {\"backgroundcolor\": \"#E5ECF6\", \"gridcolor\": \"white\", \"gridwidth\": 2, \"linecolor\": \"white\", \"showbackground\": true, \"ticks\": \"\", \"zerolinecolor\": \"white\"}}, \"shapedefaults\": {\"line\": {\"color\": \"#2a3f5f\"}}, \"ternary\": {\"aaxis\": {\"gridcolor\": \"white\", \"linecolor\": \"white\", \"ticks\": \"\"}, \"baxis\": {\"gridcolor\": \"white\", \"linecolor\": \"white\", \"ticks\": \"\"}, \"bgcolor\": \"#E5ECF6\", \"caxis\": {\"gridcolor\": \"white\", \"linecolor\": \"white\", \"ticks\": \"\"}}, \"title\": {\"x\": 0.05}, \"xaxis\": {\"automargin\": true, \"gridcolor\": \"white\", \"linecolor\": \"white\", \"ticks\": \"\", \"title\": {\"standoff\": 15}, \"zerolinecolor\": \"white\", \"zerolinewidth\": 2}, \"yaxis\": {\"automargin\": true, \"gridcolor\": \"white\", \"linecolor\": \"white\", \"ticks\": \"\", \"title\": {\"standoff\": 15}, \"zerolinecolor\": \"white\", \"zerolinewidth\": 2}}}, \"title\": {\"text\": \"Mean of Weekly_Sales (A Stores) \"}},                        {\"responsive\": true}                    ).then(function(){\n",
       "                            \n",
       "var gd = document.getElementById('a88af080-4c57-4f2e-8b81-b53af3bc3336');\n",
       "var x = new MutationObserver(function (mutations, observer) {{\n",
       "        var display = window.getComputedStyle(gd).display;\n",
       "        if (!display || display === 'none') {{\n",
       "            console.log([gd, 'removed!']);\n",
       "            Plotly.purge(gd);\n",
       "            observer.disconnect();\n",
       "        }}\n",
       "}});\n",
       "\n",
       "// Listen for the removal of the full notebook cells\n",
       "var notebookContainer = gd.closest('#notebook-container');\n",
       "if (notebookContainer) {{\n",
       "    x.observe(notebookContainer, {childList: true});\n",
       "}}\n",
       "\n",
       "// Listen for the clearing of the current output cell\n",
       "var outputEl = gd.closest('.output');\n",
       "if (outputEl) {{\n",
       "    x.observe(outputEl, {childList: true});\n",
       "}}\n",
       "\n",
       "                        })                };                });            </script>        </div>"
      ]
     },
     "metadata": {},
     "output_type": "display_data"
    }
   ],
   "source": [
    "plot_min_max_avg (sales_stores_bytype['A'], 'Weekly_Sales', 'Date', ' (A Stores) ', 'mean')"
   ]
  },
  {
   "cell_type": "code",
   "execution_count": 29,
   "metadata": {},
   "outputs": [
    {
     "data": {
      "application/vnd.plotly.v1+json": {
       "config": {
        "linkText": "Export to plot.ly",
        "plotlyServerURL": "https://plot.ly",
        "showLink": false
       },
       "data": [
        {
         "line": {
          "color": "blue"
         },
         "name": "q50",
         "opacity": 0.4,
         "type": "scatter",
         "x": [
          "2010-01-10T00:00:00",
          "2010-02-04T00:00:00",
          "2010-02-07T00:00:00",
          "2010-02-19T00:00:00",
          "2010-02-26T00:00:00",
          "2010-03-09T00:00:00",
          "2010-03-12T00:00:00",
          "2010-03-19T00:00:00",
          "2010-03-26T00:00:00",
          "2010-04-06T00:00:00",
          "2010-04-16T00:00:00",
          "2010-04-23T00:00:00",
          "2010-04-30T00:00:00",
          "2010-05-02T00:00:00",
          "2010-05-03T00:00:00",
          "2010-05-11T00:00:00",
          "2010-05-14T00:00:00",
          "2010-05-21T00:00:00",
          "2010-05-28T00:00:00",
          "2010-06-08T00:00:00",
          "2010-06-18T00:00:00",
          "2010-06-25T00:00:00",
          "2010-07-05T00:00:00",
          "2010-07-16T00:00:00",
          "2010-07-23T00:00:00",
          "2010-07-30T00:00:00",
          "2010-08-10T00:00:00",
          "2010-08-13T00:00:00",
          "2010-08-20T00:00:00",
          "2010-08-27T00:00:00",
          "2010-09-04T00:00:00",
          "2010-09-07T00:00:00",
          "2010-09-17T00:00:00",
          "2010-09-24T00:00:00",
          "2010-10-09T00:00:00",
          "2010-10-12T00:00:00",
          "2010-10-15T00:00:00",
          "2010-10-22T00:00:00",
          "2010-10-29T00:00:00",
          "2010-11-06T00:00:00",
          "2010-11-19T00:00:00",
          "2010-11-26T00:00:00",
          "2010-12-02T00:00:00",
          "2010-12-03T00:00:00",
          "2010-12-11T00:00:00",
          "2010-12-17T00:00:00",
          "2010-12-24T00:00:00",
          "2010-12-31T00:00:00",
          "2011-01-04T00:00:00",
          "2011-01-07T00:00:00",
          "2011-01-14T00:00:00",
          "2011-01-21T00:00:00",
          "2011-01-28T00:00:00",
          "2011-02-09T00:00:00",
          "2011-02-12T00:00:00",
          "2011-02-18T00:00:00",
          "2011-02-25T00:00:00",
          "2011-03-06T00:00:00",
          "2011-03-18T00:00:00",
          "2011-03-25T00:00:00",
          "2011-04-02T00:00:00",
          "2011-04-03T00:00:00",
          "2011-04-11T00:00:00",
          "2011-04-15T00:00:00",
          "2011-04-22T00:00:00",
          "2011-04-29T00:00:00",
          "2011-05-08T00:00:00",
          "2011-05-13T00:00:00",
          "2011-05-20T00:00:00",
          "2011-05-27T00:00:00",
          "2011-06-05T00:00:00",
          "2011-06-17T00:00:00",
          "2011-06-24T00:00:00",
          "2011-07-01T00:00:00",
          "2011-07-10T00:00:00",
          "2011-07-15T00:00:00",
          "2011-07-22T00:00:00",
          "2011-07-29T00:00:00",
          "2011-08-04T00:00:00",
          "2011-08-07T00:00:00",
          "2011-08-19T00:00:00",
          "2011-08-26T00:00:00",
          "2011-09-09T00:00:00",
          "2011-09-12T00:00:00",
          "2011-09-16T00:00:00",
          "2011-09-23T00:00:00",
          "2011-09-30T00:00:00",
          "2011-10-06T00:00:00",
          "2011-10-14T00:00:00",
          "2011-10-21T00:00:00",
          "2011-10-28T00:00:00",
          "2011-11-02T00:00:00",
          "2011-11-03T00:00:00",
          "2011-11-11T00:00:00",
          "2011-11-18T00:00:00",
          "2011-11-25T00:00:00",
          "2011-12-08T00:00:00",
          "2011-12-16T00:00:00",
          "2011-12-23T00:00:00",
          "2011-12-30T00:00:00",
          "2012-01-06T00:00:00",
          "2012-01-13T00:00:00",
          "2012-01-20T00:00:00",
          "2012-01-27T00:00:00",
          "2012-02-03T00:00:00",
          "2012-02-17T00:00:00",
          "2012-02-24T00:00:00",
          "2012-03-02T00:00:00",
          "2012-03-08T00:00:00",
          "2012-03-16T00:00:00",
          "2012-03-23T00:00:00",
          "2012-03-30T00:00:00",
          "2012-04-05T00:00:00",
          "2012-04-13T00:00:00",
          "2012-04-20T00:00:00",
          "2012-04-27T00:00:00",
          "2012-05-10T00:00:00",
          "2012-05-18T00:00:00",
          "2012-05-25T00:00:00",
          "2012-06-01T00:00:00",
          "2012-06-04T00:00:00",
          "2012-06-07T00:00:00",
          "2012-06-15T00:00:00",
          "2012-06-22T00:00:00",
          "2012-06-29T00:00:00",
          "2012-07-09T00:00:00",
          "2012-07-13T00:00:00",
          "2012-07-20T00:00:00",
          "2012-07-27T00:00:00",
          "2012-08-06T00:00:00",
          "2012-08-17T00:00:00",
          "2012-08-24T00:00:00",
          "2012-08-31T00:00:00",
          "2012-09-03T00:00:00",
          "2012-09-14T00:00:00",
          "2012-09-21T00:00:00",
          "2012-09-28T00:00:00",
          "2012-10-02T00:00:00",
          "2012-10-08T00:00:00",
          "2012-10-19T00:00:00",
          "2012-10-26T00:00:00",
          "2012-11-05T00:00:00",
          "2012-12-10T00:00:00"
         ],
         "y": [
          5580.92,
          7010.98,
          6657.765,
          6317.1900000000005,
          5653.97,
          6382.41,
          6457.1849999999995,
          6086.56,
          5982.59,
          6801.195,
          5699.52,
          5854.55,
          5851.525,
          6076.44,
          6136.78,
          5728.015,
          6283.44,
          6280.785,
          6511.66,
          6704,
          6624.41,
          6830.91,
          6616.7,
          6420.16,
          6298.46,
          6265.525,
          6145.185,
          6594.05,
          6738.1,
          6661.59,
          6496.32,
          6309.6,
          5719.525,
          5391.04,
          5926.66,
          7747.88,
          5582.69,
          5586.34,
          5795.23,
          6658.55,
          5914.34,
          8044.68,
          6535.25,
          5898.88,
          6042.53,
          8804.41,
          11431.45,
          5303.08,
          5671.94,
          6526.85,
          4885.89,
          4769.575000000001,
          4809.47,
          5773.07,
          6277.475,
          6726.764999999999,
          5697.5,
          6636.42,
          5934.48,
          5907.43,
          5685.82,
          5976.49,
          6040.205,
          6060.11,
          6888.32,
          6246.58,
          6178.67,
          6439.02,
          6021.39,
          6206.545,
          6410.67,
          6714.87,
          6588.225,
          5058.465,
          5676.91,
          6310.165,
          6413.29,
          6060.0599999999995,
          6225.03,
          6435.835,
          5961.21,
          6226.68,
          6094.1,
          7115.525,
          5652.445,
          5589.46,
          5294.195,
          6675.32,
          5543.504999999999,
          5813.46,
          6076.27,
          6235.055,
          5722.24,
          6015.355,
          5896.370000000001,
          7621.3150000000005,
          5973.015,
          8030.594999999999,
          10185.71,
          6301.16,
          6393.53,
          4529.764999999999,
          4700.02,
          4611.02,
          5848.65,
          6627.46,
          5903.075,
          5328.22,
          6146.200000000001,
          6370.045,
          6264.59,
          6050.72,
          6058.785,
          6049.87,
          5718.48,
          5639.2,
          5835.29,
          6451.89,
          6203.985000000001,
          5217.110000000001,
          6959.19,
          6698.075000000001,
          6435,
          6473.49,
          6293.98,
          6200.4349999999995,
          6413.93,
          6451.735000000001,
          6108.92,
          6710.6,
          6129.655,
          6392.57,
          6481.34,
          6099.005,
          5448.37,
          5550.54,
          5547.43,
          6426.26,
          6289.58,
          5802.915,
          5912.655000000001,
          6202.41,
          5666.19
         ]
        }
       ],
       "layout": {
        "template": {
         "data": {
          "bar": [
           {
            "error_x": {
             "color": "#2a3f5f"
            },
            "error_y": {
             "color": "#2a3f5f"
            },
            "marker": {
             "line": {
              "color": "#E5ECF6",
              "width": 0.5
             }
            },
            "type": "bar"
           }
          ],
          "barpolar": [
           {
            "marker": {
             "line": {
              "color": "#E5ECF6",
              "width": 0.5
             }
            },
            "type": "barpolar"
           }
          ],
          "carpet": [
           {
            "aaxis": {
             "endlinecolor": "#2a3f5f",
             "gridcolor": "white",
             "linecolor": "white",
             "minorgridcolor": "white",
             "startlinecolor": "#2a3f5f"
            },
            "baxis": {
             "endlinecolor": "#2a3f5f",
             "gridcolor": "white",
             "linecolor": "white",
             "minorgridcolor": "white",
             "startlinecolor": "#2a3f5f"
            },
            "type": "carpet"
           }
          ],
          "choropleth": [
           {
            "colorbar": {
             "outlinewidth": 0,
             "ticks": ""
            },
            "type": "choropleth"
           }
          ],
          "contour": [
           {
            "colorbar": {
             "outlinewidth": 0,
             "ticks": ""
            },
            "colorscale": [
             [
              0,
              "#0d0887"
             ],
             [
              0.1111111111111111,
              "#46039f"
             ],
             [
              0.2222222222222222,
              "#7201a8"
             ],
             [
              0.3333333333333333,
              "#9c179e"
             ],
             [
              0.4444444444444444,
              "#bd3786"
             ],
             [
              0.5555555555555556,
              "#d8576b"
             ],
             [
              0.6666666666666666,
              "#ed7953"
             ],
             [
              0.7777777777777778,
              "#fb9f3a"
             ],
             [
              0.8888888888888888,
              "#fdca26"
             ],
             [
              1,
              "#f0f921"
             ]
            ],
            "type": "contour"
           }
          ],
          "contourcarpet": [
           {
            "colorbar": {
             "outlinewidth": 0,
             "ticks": ""
            },
            "type": "contourcarpet"
           }
          ],
          "heatmap": [
           {
            "colorbar": {
             "outlinewidth": 0,
             "ticks": ""
            },
            "colorscale": [
             [
              0,
              "#0d0887"
             ],
             [
              0.1111111111111111,
              "#46039f"
             ],
             [
              0.2222222222222222,
              "#7201a8"
             ],
             [
              0.3333333333333333,
              "#9c179e"
             ],
             [
              0.4444444444444444,
              "#bd3786"
             ],
             [
              0.5555555555555556,
              "#d8576b"
             ],
             [
              0.6666666666666666,
              "#ed7953"
             ],
             [
              0.7777777777777778,
              "#fb9f3a"
             ],
             [
              0.8888888888888888,
              "#fdca26"
             ],
             [
              1,
              "#f0f921"
             ]
            ],
            "type": "heatmap"
           }
          ],
          "heatmapgl": [
           {
            "colorbar": {
             "outlinewidth": 0,
             "ticks": ""
            },
            "colorscale": [
             [
              0,
              "#0d0887"
             ],
             [
              0.1111111111111111,
              "#46039f"
             ],
             [
              0.2222222222222222,
              "#7201a8"
             ],
             [
              0.3333333333333333,
              "#9c179e"
             ],
             [
              0.4444444444444444,
              "#bd3786"
             ],
             [
              0.5555555555555556,
              "#d8576b"
             ],
             [
              0.6666666666666666,
              "#ed7953"
             ],
             [
              0.7777777777777778,
              "#fb9f3a"
             ],
             [
              0.8888888888888888,
              "#fdca26"
             ],
             [
              1,
              "#f0f921"
             ]
            ],
            "type": "heatmapgl"
           }
          ],
          "histogram": [
           {
            "marker": {
             "colorbar": {
              "outlinewidth": 0,
              "ticks": ""
             }
            },
            "type": "histogram"
           }
          ],
          "histogram2d": [
           {
            "colorbar": {
             "outlinewidth": 0,
             "ticks": ""
            },
            "colorscale": [
             [
              0,
              "#0d0887"
             ],
             [
              0.1111111111111111,
              "#46039f"
             ],
             [
              0.2222222222222222,
              "#7201a8"
             ],
             [
              0.3333333333333333,
              "#9c179e"
             ],
             [
              0.4444444444444444,
              "#bd3786"
             ],
             [
              0.5555555555555556,
              "#d8576b"
             ],
             [
              0.6666666666666666,
              "#ed7953"
             ],
             [
              0.7777777777777778,
              "#fb9f3a"
             ],
             [
              0.8888888888888888,
              "#fdca26"
             ],
             [
              1,
              "#f0f921"
             ]
            ],
            "type": "histogram2d"
           }
          ],
          "histogram2dcontour": [
           {
            "colorbar": {
             "outlinewidth": 0,
             "ticks": ""
            },
            "colorscale": [
             [
              0,
              "#0d0887"
             ],
             [
              0.1111111111111111,
              "#46039f"
             ],
             [
              0.2222222222222222,
              "#7201a8"
             ],
             [
              0.3333333333333333,
              "#9c179e"
             ],
             [
              0.4444444444444444,
              "#bd3786"
             ],
             [
              0.5555555555555556,
              "#d8576b"
             ],
             [
              0.6666666666666666,
              "#ed7953"
             ],
             [
              0.7777777777777778,
              "#fb9f3a"
             ],
             [
              0.8888888888888888,
              "#fdca26"
             ],
             [
              1,
              "#f0f921"
             ]
            ],
            "type": "histogram2dcontour"
           }
          ],
          "mesh3d": [
           {
            "colorbar": {
             "outlinewidth": 0,
             "ticks": ""
            },
            "type": "mesh3d"
           }
          ],
          "parcoords": [
           {
            "line": {
             "colorbar": {
              "outlinewidth": 0,
              "ticks": ""
             }
            },
            "type": "parcoords"
           }
          ],
          "pie": [
           {
            "automargin": true,
            "type": "pie"
           }
          ],
          "scatter": [
           {
            "marker": {
             "colorbar": {
              "outlinewidth": 0,
              "ticks": ""
             }
            },
            "type": "scatter"
           }
          ],
          "scatter3d": [
           {
            "line": {
             "colorbar": {
              "outlinewidth": 0,
              "ticks": ""
             }
            },
            "marker": {
             "colorbar": {
              "outlinewidth": 0,
              "ticks": ""
             }
            },
            "type": "scatter3d"
           }
          ],
          "scattercarpet": [
           {
            "marker": {
             "colorbar": {
              "outlinewidth": 0,
              "ticks": ""
             }
            },
            "type": "scattercarpet"
           }
          ],
          "scattergeo": [
           {
            "marker": {
             "colorbar": {
              "outlinewidth": 0,
              "ticks": ""
             }
            },
            "type": "scattergeo"
           }
          ],
          "scattergl": [
           {
            "marker": {
             "colorbar": {
              "outlinewidth": 0,
              "ticks": ""
             }
            },
            "type": "scattergl"
           }
          ],
          "scattermapbox": [
           {
            "marker": {
             "colorbar": {
              "outlinewidth": 0,
              "ticks": ""
             }
            },
            "type": "scattermapbox"
           }
          ],
          "scatterpolar": [
           {
            "marker": {
             "colorbar": {
              "outlinewidth": 0,
              "ticks": ""
             }
            },
            "type": "scatterpolar"
           }
          ],
          "scatterpolargl": [
           {
            "marker": {
             "colorbar": {
              "outlinewidth": 0,
              "ticks": ""
             }
            },
            "type": "scatterpolargl"
           }
          ],
          "scatterternary": [
           {
            "marker": {
             "colorbar": {
              "outlinewidth": 0,
              "ticks": ""
             }
            },
            "type": "scatterternary"
           }
          ],
          "surface": [
           {
            "colorbar": {
             "outlinewidth": 0,
             "ticks": ""
            },
            "colorscale": [
             [
              0,
              "#0d0887"
             ],
             [
              0.1111111111111111,
              "#46039f"
             ],
             [
              0.2222222222222222,
              "#7201a8"
             ],
             [
              0.3333333333333333,
              "#9c179e"
             ],
             [
              0.4444444444444444,
              "#bd3786"
             ],
             [
              0.5555555555555556,
              "#d8576b"
             ],
             [
              0.6666666666666666,
              "#ed7953"
             ],
             [
              0.7777777777777778,
              "#fb9f3a"
             ],
             [
              0.8888888888888888,
              "#fdca26"
             ],
             [
              1,
              "#f0f921"
             ]
            ],
            "type": "surface"
           }
          ],
          "table": [
           {
            "cells": {
             "fill": {
              "color": "#EBF0F8"
             },
             "line": {
              "color": "white"
             }
            },
            "header": {
             "fill": {
              "color": "#C8D4E3"
             },
             "line": {
              "color": "white"
             }
            },
            "type": "table"
           }
          ]
         },
         "layout": {
          "annotationdefaults": {
           "arrowcolor": "#2a3f5f",
           "arrowhead": 0,
           "arrowwidth": 1
          },
          "autotypenumbers": "strict",
          "coloraxis": {
           "colorbar": {
            "outlinewidth": 0,
            "ticks": ""
           }
          },
          "colorscale": {
           "diverging": [
            [
             0,
             "#8e0152"
            ],
            [
             0.1,
             "#c51b7d"
            ],
            [
             0.2,
             "#de77ae"
            ],
            [
             0.3,
             "#f1b6da"
            ],
            [
             0.4,
             "#fde0ef"
            ],
            [
             0.5,
             "#f7f7f7"
            ],
            [
             0.6,
             "#e6f5d0"
            ],
            [
             0.7,
             "#b8e186"
            ],
            [
             0.8,
             "#7fbc41"
            ],
            [
             0.9,
             "#4d9221"
            ],
            [
             1,
             "#276419"
            ]
           ],
           "sequential": [
            [
             0,
             "#0d0887"
            ],
            [
             0.1111111111111111,
             "#46039f"
            ],
            [
             0.2222222222222222,
             "#7201a8"
            ],
            [
             0.3333333333333333,
             "#9c179e"
            ],
            [
             0.4444444444444444,
             "#bd3786"
            ],
            [
             0.5555555555555556,
             "#d8576b"
            ],
            [
             0.6666666666666666,
             "#ed7953"
            ],
            [
             0.7777777777777778,
             "#fb9f3a"
            ],
            [
             0.8888888888888888,
             "#fdca26"
            ],
            [
             1,
             "#f0f921"
            ]
           ],
           "sequentialminus": [
            [
             0,
             "#0d0887"
            ],
            [
             0.1111111111111111,
             "#46039f"
            ],
            [
             0.2222222222222222,
             "#7201a8"
            ],
            [
             0.3333333333333333,
             "#9c179e"
            ],
            [
             0.4444444444444444,
             "#bd3786"
            ],
            [
             0.5555555555555556,
             "#d8576b"
            ],
            [
             0.6666666666666666,
             "#ed7953"
            ],
            [
             0.7777777777777778,
             "#fb9f3a"
            ],
            [
             0.8888888888888888,
             "#fdca26"
            ],
            [
             1,
             "#f0f921"
            ]
           ]
          },
          "colorway": [
           "#636efa",
           "#EF553B",
           "#00cc96",
           "#ab63fa",
           "#FFA15A",
           "#19d3f3",
           "#FF6692",
           "#B6E880",
           "#FF97FF",
           "#FECB52"
          ],
          "font": {
           "color": "#2a3f5f"
          },
          "geo": {
           "bgcolor": "white",
           "lakecolor": "white",
           "landcolor": "#E5ECF6",
           "showlakes": true,
           "showland": true,
           "subunitcolor": "white"
          },
          "hoverlabel": {
           "align": "left"
          },
          "hovermode": "closest",
          "mapbox": {
           "style": "light"
          },
          "paper_bgcolor": "white",
          "plot_bgcolor": "#E5ECF6",
          "polar": {
           "angularaxis": {
            "gridcolor": "white",
            "linecolor": "white",
            "ticks": ""
           },
           "bgcolor": "#E5ECF6",
           "radialaxis": {
            "gridcolor": "white",
            "linecolor": "white",
            "ticks": ""
           }
          },
          "scene": {
           "xaxis": {
            "backgroundcolor": "#E5ECF6",
            "gridcolor": "white",
            "gridwidth": 2,
            "linecolor": "white",
            "showbackground": true,
            "ticks": "",
            "zerolinecolor": "white"
           },
           "yaxis": {
            "backgroundcolor": "#E5ECF6",
            "gridcolor": "white",
            "gridwidth": 2,
            "linecolor": "white",
            "showbackground": true,
            "ticks": "",
            "zerolinecolor": "white"
           },
           "zaxis": {
            "backgroundcolor": "#E5ECF6",
            "gridcolor": "white",
            "gridwidth": 2,
            "linecolor": "white",
            "showbackground": true,
            "ticks": "",
            "zerolinecolor": "white"
           }
          },
          "shapedefaults": {
           "line": {
            "color": "#2a3f5f"
           }
          },
          "ternary": {
           "aaxis": {
            "gridcolor": "white",
            "linecolor": "white",
            "ticks": ""
           },
           "baxis": {
            "gridcolor": "white",
            "linecolor": "white",
            "ticks": ""
           },
           "bgcolor": "#E5ECF6",
           "caxis": {
            "gridcolor": "white",
            "linecolor": "white",
            "ticks": ""
           }
          },
          "title": {
           "x": 0.05
          },
          "xaxis": {
           "automargin": true,
           "gridcolor": "white",
           "linecolor": "white",
           "ticks": "",
           "title": {
            "standoff": 15
           },
           "zerolinecolor": "white",
           "zerolinewidth": 2
          },
          "yaxis": {
           "automargin": true,
           "gridcolor": "white",
           "linecolor": "white",
           "ticks": "",
           "title": {
            "standoff": 15
           },
           "zerolinecolor": "white",
           "zerolinewidth": 2
          }
         }
        },
        "title": {
         "text": "Mean of Weekly_Sales (B Stores)"
        }
       }
      },
      "text/html": [
       "<div>                            <div id=\"4e3c8d1b-9882-40f9-983a-1c23b0324687\" class=\"plotly-graph-div\" style=\"height:525px; width:100%;\"></div>            <script type=\"text/javascript\">                require([\"plotly\"], function(Plotly) {                    window.PLOTLYENV=window.PLOTLYENV || {};                                    if (document.getElementById(\"4e3c8d1b-9882-40f9-983a-1c23b0324687\")) {                    Plotly.newPlot(                        \"4e3c8d1b-9882-40f9-983a-1c23b0324687\",                        [{\"line\": {\"color\": \"blue\"}, \"name\": \"q50\", \"opacity\": 0.4, \"type\": \"scatter\", \"x\": [\"2010-01-10T00:00:00\", \"2010-02-04T00:00:00\", \"2010-02-07T00:00:00\", \"2010-02-19T00:00:00\", \"2010-02-26T00:00:00\", \"2010-03-09T00:00:00\", \"2010-03-12T00:00:00\", \"2010-03-19T00:00:00\", \"2010-03-26T00:00:00\", \"2010-04-06T00:00:00\", \"2010-04-16T00:00:00\", \"2010-04-23T00:00:00\", \"2010-04-30T00:00:00\", \"2010-05-02T00:00:00\", \"2010-05-03T00:00:00\", \"2010-05-11T00:00:00\", \"2010-05-14T00:00:00\", \"2010-05-21T00:00:00\", \"2010-05-28T00:00:00\", \"2010-06-08T00:00:00\", \"2010-06-18T00:00:00\", \"2010-06-25T00:00:00\", \"2010-07-05T00:00:00\", \"2010-07-16T00:00:00\", \"2010-07-23T00:00:00\", \"2010-07-30T00:00:00\", \"2010-08-10T00:00:00\", \"2010-08-13T00:00:00\", \"2010-08-20T00:00:00\", \"2010-08-27T00:00:00\", \"2010-09-04T00:00:00\", \"2010-09-07T00:00:00\", \"2010-09-17T00:00:00\", \"2010-09-24T00:00:00\", \"2010-10-09T00:00:00\", \"2010-10-12T00:00:00\", \"2010-10-15T00:00:00\", \"2010-10-22T00:00:00\", \"2010-10-29T00:00:00\", \"2010-11-06T00:00:00\", \"2010-11-19T00:00:00\", \"2010-11-26T00:00:00\", \"2010-12-02T00:00:00\", \"2010-12-03T00:00:00\", \"2010-12-11T00:00:00\", \"2010-12-17T00:00:00\", \"2010-12-24T00:00:00\", \"2010-12-31T00:00:00\", \"2011-01-04T00:00:00\", \"2011-01-07T00:00:00\", \"2011-01-14T00:00:00\", \"2011-01-21T00:00:00\", \"2011-01-28T00:00:00\", \"2011-02-09T00:00:00\", \"2011-02-12T00:00:00\", \"2011-02-18T00:00:00\", \"2011-02-25T00:00:00\", \"2011-03-06T00:00:00\", \"2011-03-18T00:00:00\", \"2011-03-25T00:00:00\", \"2011-04-02T00:00:00\", \"2011-04-03T00:00:00\", \"2011-04-11T00:00:00\", \"2011-04-15T00:00:00\", \"2011-04-22T00:00:00\", \"2011-04-29T00:00:00\", \"2011-05-08T00:00:00\", \"2011-05-13T00:00:00\", \"2011-05-20T00:00:00\", \"2011-05-27T00:00:00\", \"2011-06-05T00:00:00\", \"2011-06-17T00:00:00\", \"2011-06-24T00:00:00\", \"2011-07-01T00:00:00\", \"2011-07-10T00:00:00\", \"2011-07-15T00:00:00\", \"2011-07-22T00:00:00\", \"2011-07-29T00:00:00\", \"2011-08-04T00:00:00\", \"2011-08-07T00:00:00\", \"2011-08-19T00:00:00\", \"2011-08-26T00:00:00\", \"2011-09-09T00:00:00\", \"2011-09-12T00:00:00\", \"2011-09-16T00:00:00\", \"2011-09-23T00:00:00\", \"2011-09-30T00:00:00\", \"2011-10-06T00:00:00\", \"2011-10-14T00:00:00\", \"2011-10-21T00:00:00\", \"2011-10-28T00:00:00\", \"2011-11-02T00:00:00\", \"2011-11-03T00:00:00\", \"2011-11-11T00:00:00\", \"2011-11-18T00:00:00\", \"2011-11-25T00:00:00\", \"2011-12-08T00:00:00\", \"2011-12-16T00:00:00\", \"2011-12-23T00:00:00\", \"2011-12-30T00:00:00\", \"2012-01-06T00:00:00\", \"2012-01-13T00:00:00\", \"2012-01-20T00:00:00\", \"2012-01-27T00:00:00\", \"2012-02-03T00:00:00\", \"2012-02-17T00:00:00\", \"2012-02-24T00:00:00\", \"2012-03-02T00:00:00\", \"2012-03-08T00:00:00\", \"2012-03-16T00:00:00\", \"2012-03-23T00:00:00\", \"2012-03-30T00:00:00\", \"2012-04-05T00:00:00\", \"2012-04-13T00:00:00\", \"2012-04-20T00:00:00\", \"2012-04-27T00:00:00\", \"2012-05-10T00:00:00\", \"2012-05-18T00:00:00\", \"2012-05-25T00:00:00\", \"2012-06-01T00:00:00\", \"2012-06-04T00:00:00\", \"2012-06-07T00:00:00\", \"2012-06-15T00:00:00\", \"2012-06-22T00:00:00\", \"2012-06-29T00:00:00\", \"2012-07-09T00:00:00\", \"2012-07-13T00:00:00\", \"2012-07-20T00:00:00\", \"2012-07-27T00:00:00\", \"2012-08-06T00:00:00\", \"2012-08-17T00:00:00\", \"2012-08-24T00:00:00\", \"2012-08-31T00:00:00\", \"2012-09-03T00:00:00\", \"2012-09-14T00:00:00\", \"2012-09-21T00:00:00\", \"2012-09-28T00:00:00\", \"2012-10-02T00:00:00\", \"2012-10-08T00:00:00\", \"2012-10-19T00:00:00\", \"2012-10-26T00:00:00\", \"2012-11-05T00:00:00\", \"2012-12-10T00:00:00\"], \"y\": [5580.92, 7010.98, 6657.765, 6317.1900000000005, 5653.97, 6382.41, 6457.1849999999995, 6086.56, 5982.59, 6801.195, 5699.52, 5854.55, 5851.525, 6076.44, 6136.78, 5728.015, 6283.44, 6280.785, 6511.66, 6704.0, 6624.41, 6830.91, 6616.7, 6420.16, 6298.46, 6265.525, 6145.185, 6594.05, 6738.1, 6661.59, 6496.32, 6309.6, 5719.525, 5391.04, 5926.66, 7747.88, 5582.69, 5586.34, 5795.23, 6658.55, 5914.34, 8044.68, 6535.25, 5898.88, 6042.53, 8804.41, 11431.45, 5303.08, 5671.94, 6526.85, 4885.89, 4769.575000000001, 4809.47, 5773.07, 6277.475, 6726.764999999999, 5697.5, 6636.42, 5934.48, 5907.43, 5685.82, 5976.49, 6040.205, 6060.11, 6888.32, 6246.58, 6178.67, 6439.02, 6021.39, 6206.545, 6410.67, 6714.87, 6588.225, 5058.465, 5676.91, 6310.165, 6413.29, 6060.0599999999995, 6225.03, 6435.835, 5961.21, 6226.68, 6094.1, 7115.525, 5652.445, 5589.46, 5294.195, 6675.32, 5543.504999999999, 5813.46, 6076.27, 6235.055, 5722.24, 6015.355, 5896.370000000001, 7621.3150000000005, 5973.015, 8030.594999999999, 10185.71, 6301.16, 6393.53, 4529.764999999999, 4700.02, 4611.02, 5848.65, 6627.46, 5903.075, 5328.22, 6146.200000000001, 6370.045, 6264.59, 6050.72, 6058.785, 6049.87, 5718.48, 5639.2, 5835.29, 6451.89, 6203.985000000001, 5217.110000000001, 6959.19, 6698.075000000001, 6435.0, 6473.49, 6293.98, 6200.4349999999995, 6413.93, 6451.735000000001, 6108.92, 6710.6, 6129.655, 6392.57, 6481.34, 6099.005, 5448.37, 5550.54, 5547.43, 6426.26, 6289.58, 5802.915, 5912.655000000001, 6202.41, 5666.19]}],                        {\"template\": {\"data\": {\"bar\": [{\"error_x\": {\"color\": \"#2a3f5f\"}, \"error_y\": {\"color\": \"#2a3f5f\"}, \"marker\": {\"line\": {\"color\": \"#E5ECF6\", \"width\": 0.5}}, \"type\": \"bar\"}], \"barpolar\": [{\"marker\": {\"line\": {\"color\": \"#E5ECF6\", \"width\": 0.5}}, \"type\": \"barpolar\"}], \"carpet\": [{\"aaxis\": {\"endlinecolor\": \"#2a3f5f\", \"gridcolor\": \"white\", \"linecolor\": \"white\", \"minorgridcolor\": \"white\", \"startlinecolor\": \"#2a3f5f\"}, \"baxis\": {\"endlinecolor\": \"#2a3f5f\", \"gridcolor\": \"white\", \"linecolor\": \"white\", \"minorgridcolor\": \"white\", \"startlinecolor\": \"#2a3f5f\"}, \"type\": \"carpet\"}], \"choropleth\": [{\"colorbar\": {\"outlinewidth\": 0, \"ticks\": \"\"}, \"type\": \"choropleth\"}], \"contour\": [{\"colorbar\": {\"outlinewidth\": 0, \"ticks\": \"\"}, \"colorscale\": [[0.0, \"#0d0887\"], [0.1111111111111111, \"#46039f\"], [0.2222222222222222, \"#7201a8\"], [0.3333333333333333, \"#9c179e\"], [0.4444444444444444, \"#bd3786\"], [0.5555555555555556, \"#d8576b\"], [0.6666666666666666, \"#ed7953\"], [0.7777777777777778, \"#fb9f3a\"], [0.8888888888888888, \"#fdca26\"], [1.0, \"#f0f921\"]], \"type\": \"contour\"}], \"contourcarpet\": [{\"colorbar\": {\"outlinewidth\": 0, \"ticks\": \"\"}, \"type\": \"contourcarpet\"}], \"heatmap\": [{\"colorbar\": {\"outlinewidth\": 0, \"ticks\": \"\"}, \"colorscale\": [[0.0, \"#0d0887\"], [0.1111111111111111, \"#46039f\"], [0.2222222222222222, \"#7201a8\"], [0.3333333333333333, \"#9c179e\"], [0.4444444444444444, \"#bd3786\"], [0.5555555555555556, \"#d8576b\"], [0.6666666666666666, \"#ed7953\"], [0.7777777777777778, \"#fb9f3a\"], [0.8888888888888888, \"#fdca26\"], [1.0, \"#f0f921\"]], \"type\": \"heatmap\"}], \"heatmapgl\": [{\"colorbar\": {\"outlinewidth\": 0, \"ticks\": \"\"}, \"colorscale\": [[0.0, \"#0d0887\"], [0.1111111111111111, \"#46039f\"], [0.2222222222222222, \"#7201a8\"], [0.3333333333333333, \"#9c179e\"], [0.4444444444444444, \"#bd3786\"], [0.5555555555555556, \"#d8576b\"], [0.6666666666666666, \"#ed7953\"], [0.7777777777777778, \"#fb9f3a\"], [0.8888888888888888, \"#fdca26\"], [1.0, \"#f0f921\"]], \"type\": \"heatmapgl\"}], \"histogram\": [{\"marker\": {\"colorbar\": {\"outlinewidth\": 0, \"ticks\": \"\"}}, \"type\": \"histogram\"}], \"histogram2d\": [{\"colorbar\": {\"outlinewidth\": 0, \"ticks\": \"\"}, \"colorscale\": [[0.0, \"#0d0887\"], [0.1111111111111111, \"#46039f\"], [0.2222222222222222, \"#7201a8\"], [0.3333333333333333, \"#9c179e\"], [0.4444444444444444, \"#bd3786\"], [0.5555555555555556, \"#d8576b\"], [0.6666666666666666, \"#ed7953\"], [0.7777777777777778, \"#fb9f3a\"], [0.8888888888888888, \"#fdca26\"], [1.0, \"#f0f921\"]], \"type\": \"histogram2d\"}], \"histogram2dcontour\": [{\"colorbar\": {\"outlinewidth\": 0, \"ticks\": \"\"}, \"colorscale\": [[0.0, \"#0d0887\"], [0.1111111111111111, \"#46039f\"], [0.2222222222222222, \"#7201a8\"], [0.3333333333333333, \"#9c179e\"], [0.4444444444444444, \"#bd3786\"], [0.5555555555555556, \"#d8576b\"], [0.6666666666666666, \"#ed7953\"], [0.7777777777777778, \"#fb9f3a\"], [0.8888888888888888, \"#fdca26\"], [1.0, \"#f0f921\"]], \"type\": \"histogram2dcontour\"}], \"mesh3d\": [{\"colorbar\": {\"outlinewidth\": 0, \"ticks\": \"\"}, \"type\": \"mesh3d\"}], \"parcoords\": [{\"line\": {\"colorbar\": {\"outlinewidth\": 0, \"ticks\": \"\"}}, \"type\": \"parcoords\"}], \"pie\": [{\"automargin\": true, \"type\": \"pie\"}], \"scatter\": [{\"marker\": {\"colorbar\": {\"outlinewidth\": 0, \"ticks\": \"\"}}, \"type\": \"scatter\"}], \"scatter3d\": [{\"line\": {\"colorbar\": {\"outlinewidth\": 0, \"ticks\": \"\"}}, \"marker\": {\"colorbar\": {\"outlinewidth\": 0, \"ticks\": \"\"}}, \"type\": \"scatter3d\"}], \"scattercarpet\": [{\"marker\": {\"colorbar\": {\"outlinewidth\": 0, \"ticks\": \"\"}}, \"type\": \"scattercarpet\"}], \"scattergeo\": [{\"marker\": {\"colorbar\": {\"outlinewidth\": 0, \"ticks\": \"\"}}, \"type\": \"scattergeo\"}], \"scattergl\": [{\"marker\": {\"colorbar\": {\"outlinewidth\": 0, \"ticks\": \"\"}}, \"type\": \"scattergl\"}], \"scattermapbox\": [{\"marker\": {\"colorbar\": {\"outlinewidth\": 0, \"ticks\": \"\"}}, \"type\": \"scattermapbox\"}], \"scatterpolar\": [{\"marker\": {\"colorbar\": {\"outlinewidth\": 0, \"ticks\": \"\"}}, \"type\": \"scatterpolar\"}], \"scatterpolargl\": [{\"marker\": {\"colorbar\": {\"outlinewidth\": 0, \"ticks\": \"\"}}, \"type\": \"scatterpolargl\"}], \"scatterternary\": [{\"marker\": {\"colorbar\": {\"outlinewidth\": 0, \"ticks\": \"\"}}, \"type\": \"scatterternary\"}], \"surface\": [{\"colorbar\": {\"outlinewidth\": 0, \"ticks\": \"\"}, \"colorscale\": [[0.0, \"#0d0887\"], [0.1111111111111111, \"#46039f\"], [0.2222222222222222, \"#7201a8\"], [0.3333333333333333, \"#9c179e\"], [0.4444444444444444, \"#bd3786\"], [0.5555555555555556, \"#d8576b\"], [0.6666666666666666, \"#ed7953\"], [0.7777777777777778, \"#fb9f3a\"], [0.8888888888888888, \"#fdca26\"], [1.0, \"#f0f921\"]], \"type\": \"surface\"}], \"table\": [{\"cells\": {\"fill\": {\"color\": \"#EBF0F8\"}, \"line\": {\"color\": \"white\"}}, \"header\": {\"fill\": {\"color\": \"#C8D4E3\"}, \"line\": {\"color\": \"white\"}}, \"type\": \"table\"}]}, \"layout\": {\"annotationdefaults\": {\"arrowcolor\": \"#2a3f5f\", \"arrowhead\": 0, \"arrowwidth\": 1}, \"autotypenumbers\": \"strict\", \"coloraxis\": {\"colorbar\": {\"outlinewidth\": 0, \"ticks\": \"\"}}, \"colorscale\": {\"diverging\": [[0, \"#8e0152\"], [0.1, \"#c51b7d\"], [0.2, \"#de77ae\"], [0.3, \"#f1b6da\"], [0.4, \"#fde0ef\"], [0.5, \"#f7f7f7\"], [0.6, \"#e6f5d0\"], [0.7, \"#b8e186\"], [0.8, \"#7fbc41\"], [0.9, \"#4d9221\"], [1, \"#276419\"]], \"sequential\": [[0.0, \"#0d0887\"], [0.1111111111111111, \"#46039f\"], [0.2222222222222222, \"#7201a8\"], [0.3333333333333333, \"#9c179e\"], [0.4444444444444444, \"#bd3786\"], [0.5555555555555556, \"#d8576b\"], [0.6666666666666666, \"#ed7953\"], [0.7777777777777778, \"#fb9f3a\"], [0.8888888888888888, \"#fdca26\"], [1.0, \"#f0f921\"]], \"sequentialminus\": [[0.0, \"#0d0887\"], [0.1111111111111111, \"#46039f\"], [0.2222222222222222, \"#7201a8\"], [0.3333333333333333, \"#9c179e\"], [0.4444444444444444, \"#bd3786\"], [0.5555555555555556, \"#d8576b\"], [0.6666666666666666, \"#ed7953\"], [0.7777777777777778, \"#fb9f3a\"], [0.8888888888888888, \"#fdca26\"], [1.0, \"#f0f921\"]]}, \"colorway\": [\"#636efa\", \"#EF553B\", \"#00cc96\", \"#ab63fa\", \"#FFA15A\", \"#19d3f3\", \"#FF6692\", \"#B6E880\", \"#FF97FF\", \"#FECB52\"], \"font\": {\"color\": \"#2a3f5f\"}, \"geo\": {\"bgcolor\": \"white\", \"lakecolor\": \"white\", \"landcolor\": \"#E5ECF6\", \"showlakes\": true, \"showland\": true, \"subunitcolor\": \"white\"}, \"hoverlabel\": {\"align\": \"left\"}, \"hovermode\": \"closest\", \"mapbox\": {\"style\": \"light\"}, \"paper_bgcolor\": \"white\", \"plot_bgcolor\": \"#E5ECF6\", \"polar\": {\"angularaxis\": {\"gridcolor\": \"white\", \"linecolor\": \"white\", \"ticks\": \"\"}, \"bgcolor\": \"#E5ECF6\", \"radialaxis\": {\"gridcolor\": \"white\", \"linecolor\": \"white\", \"ticks\": \"\"}}, \"scene\": {\"xaxis\": {\"backgroundcolor\": \"#E5ECF6\", \"gridcolor\": \"white\", \"gridwidth\": 2, \"linecolor\": \"white\", \"showbackground\": true, \"ticks\": \"\", \"zerolinecolor\": \"white\"}, \"yaxis\": {\"backgroundcolor\": \"#E5ECF6\", \"gridcolor\": \"white\", \"gridwidth\": 2, \"linecolor\": \"white\", \"showbackground\": true, \"ticks\": \"\", \"zerolinecolor\": \"white\"}, \"zaxis\": {\"backgroundcolor\": \"#E5ECF6\", \"gridcolor\": \"white\", \"gridwidth\": 2, \"linecolor\": \"white\", \"showbackground\": true, \"ticks\": \"\", \"zerolinecolor\": \"white\"}}, \"shapedefaults\": {\"line\": {\"color\": \"#2a3f5f\"}}, \"ternary\": {\"aaxis\": {\"gridcolor\": \"white\", \"linecolor\": \"white\", \"ticks\": \"\"}, \"baxis\": {\"gridcolor\": \"white\", \"linecolor\": \"white\", \"ticks\": \"\"}, \"bgcolor\": \"#E5ECF6\", \"caxis\": {\"gridcolor\": \"white\", \"linecolor\": \"white\", \"ticks\": \"\"}}, \"title\": {\"x\": 0.05}, \"xaxis\": {\"automargin\": true, \"gridcolor\": \"white\", \"linecolor\": \"white\", \"ticks\": \"\", \"title\": {\"standoff\": 15}, \"zerolinecolor\": \"white\", \"zerolinewidth\": 2}, \"yaxis\": {\"automargin\": true, \"gridcolor\": \"white\", \"linecolor\": \"white\", \"ticks\": \"\", \"title\": {\"standoff\": 15}, \"zerolinecolor\": \"white\", \"zerolinewidth\": 2}}}, \"title\": {\"text\": \"Mean of Weekly_Sales (B Stores)\"}},                        {\"responsive\": true}                    ).then(function(){\n",
       "                            \n",
       "var gd = document.getElementById('4e3c8d1b-9882-40f9-983a-1c23b0324687');\n",
       "var x = new MutationObserver(function (mutations, observer) {{\n",
       "        var display = window.getComputedStyle(gd).display;\n",
       "        if (!display || display === 'none') {{\n",
       "            console.log([gd, 'removed!']);\n",
       "            Plotly.purge(gd);\n",
       "            observer.disconnect();\n",
       "        }}\n",
       "}});\n",
       "\n",
       "// Listen for the removal of the full notebook cells\n",
       "var notebookContainer = gd.closest('#notebook-container');\n",
       "if (notebookContainer) {{\n",
       "    x.observe(notebookContainer, {childList: true});\n",
       "}}\n",
       "\n",
       "// Listen for the clearing of the current output cell\n",
       "var outputEl = gd.closest('.output');\n",
       "if (outputEl) {{\n",
       "    x.observe(outputEl, {childList: true});\n",
       "}}\n",
       "\n",
       "                        })                };                });            </script>        </div>"
      ]
     },
     "metadata": {},
     "output_type": "display_data"
    }
   ],
   "source": [
    "plot_min_max_avg (sales_stores_bytype['B'], 'Weekly_Sales', 'Date', ' (B Stores)', 'mean')"
   ]
  },
  {
   "cell_type": "code",
   "execution_count": 30,
   "metadata": {},
   "outputs": [
    {
     "data": {
      "application/vnd.plotly.v1+json": {
       "config": {
        "linkText": "Export to plot.ly",
        "plotlyServerURL": "https://plot.ly",
        "showLink": false
       },
       "data": [
        {
         "line": {
          "color": "blue"
         },
         "name": "q50",
         "opacity": 0.4,
         "type": "scatter",
         "x": [
          "2010-01-10T00:00:00",
          "2010-02-04T00:00:00",
          "2010-02-07T00:00:00",
          "2010-02-19T00:00:00",
          "2010-02-26T00:00:00",
          "2010-03-09T00:00:00",
          "2010-03-12T00:00:00",
          "2010-03-19T00:00:00",
          "2010-03-26T00:00:00",
          "2010-04-06T00:00:00",
          "2010-04-16T00:00:00",
          "2010-04-23T00:00:00",
          "2010-04-30T00:00:00",
          "2010-05-02T00:00:00",
          "2010-05-03T00:00:00",
          "2010-05-11T00:00:00",
          "2010-05-14T00:00:00",
          "2010-05-21T00:00:00",
          "2010-05-28T00:00:00",
          "2010-06-08T00:00:00",
          "2010-06-18T00:00:00",
          "2010-06-25T00:00:00",
          "2010-07-05T00:00:00",
          "2010-07-16T00:00:00",
          "2010-07-23T00:00:00",
          "2010-07-30T00:00:00",
          "2010-08-10T00:00:00",
          "2010-08-13T00:00:00",
          "2010-08-20T00:00:00",
          "2010-08-27T00:00:00",
          "2010-09-04T00:00:00",
          "2010-09-07T00:00:00",
          "2010-09-17T00:00:00",
          "2010-09-24T00:00:00",
          "2010-10-09T00:00:00",
          "2010-10-12T00:00:00",
          "2010-10-15T00:00:00",
          "2010-10-22T00:00:00",
          "2010-10-29T00:00:00",
          "2010-11-06T00:00:00",
          "2010-11-19T00:00:00",
          "2010-11-26T00:00:00",
          "2010-12-02T00:00:00",
          "2010-12-03T00:00:00",
          "2010-12-11T00:00:00",
          "2010-12-17T00:00:00",
          "2010-12-24T00:00:00",
          "2010-12-31T00:00:00",
          "2011-01-04T00:00:00",
          "2011-01-07T00:00:00",
          "2011-01-14T00:00:00",
          "2011-01-21T00:00:00",
          "2011-01-28T00:00:00",
          "2011-02-09T00:00:00",
          "2011-02-12T00:00:00",
          "2011-02-18T00:00:00",
          "2011-02-25T00:00:00",
          "2011-03-06T00:00:00",
          "2011-03-18T00:00:00",
          "2011-03-25T00:00:00",
          "2011-04-02T00:00:00",
          "2011-04-03T00:00:00",
          "2011-04-11T00:00:00",
          "2011-04-15T00:00:00",
          "2011-04-22T00:00:00",
          "2011-04-29T00:00:00",
          "2011-05-08T00:00:00",
          "2011-05-13T00:00:00",
          "2011-05-20T00:00:00",
          "2011-05-27T00:00:00",
          "2011-06-05T00:00:00",
          "2011-06-17T00:00:00",
          "2011-06-24T00:00:00",
          "2011-07-01T00:00:00",
          "2011-07-10T00:00:00",
          "2011-07-15T00:00:00",
          "2011-07-22T00:00:00",
          "2011-07-29T00:00:00",
          "2011-08-04T00:00:00",
          "2011-08-07T00:00:00",
          "2011-08-19T00:00:00",
          "2011-08-26T00:00:00",
          "2011-09-09T00:00:00",
          "2011-09-12T00:00:00",
          "2011-09-16T00:00:00",
          "2011-09-23T00:00:00",
          "2011-09-30T00:00:00",
          "2011-10-06T00:00:00",
          "2011-10-14T00:00:00",
          "2011-10-21T00:00:00",
          "2011-10-28T00:00:00",
          "2011-11-02T00:00:00",
          "2011-11-03T00:00:00",
          "2011-11-11T00:00:00",
          "2011-11-18T00:00:00",
          "2011-11-25T00:00:00",
          "2011-12-08T00:00:00",
          "2011-12-16T00:00:00",
          "2011-12-23T00:00:00",
          "2011-12-30T00:00:00",
          "2012-01-06T00:00:00",
          "2012-01-13T00:00:00",
          "2012-01-20T00:00:00",
          "2012-01-27T00:00:00",
          "2012-02-03T00:00:00",
          "2012-02-17T00:00:00",
          "2012-02-24T00:00:00",
          "2012-03-02T00:00:00",
          "2012-03-08T00:00:00",
          "2012-03-16T00:00:00",
          "2012-03-23T00:00:00",
          "2012-03-30T00:00:00",
          "2012-04-05T00:00:00",
          "2012-04-13T00:00:00",
          "2012-04-20T00:00:00",
          "2012-04-27T00:00:00",
          "2012-05-10T00:00:00",
          "2012-05-18T00:00:00",
          "2012-05-25T00:00:00",
          "2012-06-01T00:00:00",
          "2012-06-04T00:00:00",
          "2012-06-07T00:00:00",
          "2012-06-15T00:00:00",
          "2012-06-22T00:00:00",
          "2012-06-29T00:00:00",
          "2012-07-09T00:00:00",
          "2012-07-13T00:00:00",
          "2012-07-20T00:00:00",
          "2012-07-27T00:00:00",
          "2012-08-06T00:00:00",
          "2012-08-17T00:00:00",
          "2012-08-24T00:00:00",
          "2012-08-31T00:00:00",
          "2012-09-03T00:00:00",
          "2012-09-14T00:00:00",
          "2012-09-21T00:00:00",
          "2012-09-28T00:00:00",
          "2012-10-02T00:00:00",
          "2012-10-08T00:00:00",
          "2012-10-19T00:00:00",
          "2012-10-26T00:00:00",
          "2012-11-05T00:00:00",
          "2012-12-10T00:00:00"
         ],
         "y": [
          1027,
          1610.415,
          1537.13,
          1443.28,
          1228.475,
          1237.67,
          1247.075,
          1099.2,
          1284.93,
          1632.62,
          1162.48,
          1355.31,
          1500.5,
          1170.15,
          1310.06,
          1174.02,
          1848.78,
          1448.385,
          1396.97,
          1318.2,
          1279.68,
          1452.37,
          1599.55,
          1261.25,
          1340.4499999999998,
          1127.05,
          1169.46,
          1201.68,
          1253.26,
          1316.88,
          1416.3,
          1716.13,
          1122.38,
          1150.87,
          1296.425,
          1390.87,
          1205.795,
          1111.02,
          1235.59,
          1367.52,
          1389.35,
          1956.22,
          1822.8899999999999,
          1093.53,
          1447.65,
          1550.685,
          2203.64,
          1215.13,
          1114.525,
          961.55,
          1160.1599999999999,
          1346.95,
          1208.065,
          1081.08,
          986.9,
          1388.125,
          1094.78,
          1336.31,
          1040.875,
          1133.1750000000002,
          1552.62,
          1151.795,
          1016.95,
          957.97,
          1113.65,
          1054.82,
          1038.275,
          1097.67,
          1163.6,
          1179.1100000000001,
          1299.38,
          1156.6100000000001,
          1200.095,
          1268.16,
          1077.335,
          1018.4449999999999,
          1030.255,
          990.7249999999999,
          989.26,
          1087.81,
          1049.87,
          1056.62,
          1023.8599999999999,
          1148.745,
          948.105,
          963.635,
          989.4449999999999,
          1326.76,
          1056.365,
          1099.5,
          907.5550000000001,
          1506.505,
          1097.605,
          989.0350000000001,
          1001.85,
          1082.5500000000002,
          1094.66,
          1298.66,
          1525.52,
          1048.185,
          1108.0300000000002,
          826.4449999999999,
          1078.6350000000002,
          1061.69,
          907.075,
          1373.4,
          1001.62,
          1057.37,
          939.19,
          1086.31,
          952.64,
          1002.13,
          1153.55,
          1225.4,
          1000.62,
          1054.58,
          929.03,
          1173.955,
          1224.08,
          1100.06,
          1234.37,
          1169.6,
          1132.33,
          967.875,
          1024.01,
          1086.06,
          958.48,
          978.3,
          1057.35,
          1120.44,
          1089.96,
          1066.64,
          1049.065,
          1039.12,
          906.41,
          982.2,
          942.97,
          1065.98,
          1021.04,
          921.995,
          959.995,
          1166.315,
          915.49
         ]
        }
       ],
       "layout": {
        "template": {
         "data": {
          "bar": [
           {
            "error_x": {
             "color": "#2a3f5f"
            },
            "error_y": {
             "color": "#2a3f5f"
            },
            "marker": {
             "line": {
              "color": "#E5ECF6",
              "width": 0.5
             }
            },
            "type": "bar"
           }
          ],
          "barpolar": [
           {
            "marker": {
             "line": {
              "color": "#E5ECF6",
              "width": 0.5
             }
            },
            "type": "barpolar"
           }
          ],
          "carpet": [
           {
            "aaxis": {
             "endlinecolor": "#2a3f5f",
             "gridcolor": "white",
             "linecolor": "white",
             "minorgridcolor": "white",
             "startlinecolor": "#2a3f5f"
            },
            "baxis": {
             "endlinecolor": "#2a3f5f",
             "gridcolor": "white",
             "linecolor": "white",
             "minorgridcolor": "white",
             "startlinecolor": "#2a3f5f"
            },
            "type": "carpet"
           }
          ],
          "choropleth": [
           {
            "colorbar": {
             "outlinewidth": 0,
             "ticks": ""
            },
            "type": "choropleth"
           }
          ],
          "contour": [
           {
            "colorbar": {
             "outlinewidth": 0,
             "ticks": ""
            },
            "colorscale": [
             [
              0,
              "#0d0887"
             ],
             [
              0.1111111111111111,
              "#46039f"
             ],
             [
              0.2222222222222222,
              "#7201a8"
             ],
             [
              0.3333333333333333,
              "#9c179e"
             ],
             [
              0.4444444444444444,
              "#bd3786"
             ],
             [
              0.5555555555555556,
              "#d8576b"
             ],
             [
              0.6666666666666666,
              "#ed7953"
             ],
             [
              0.7777777777777778,
              "#fb9f3a"
             ],
             [
              0.8888888888888888,
              "#fdca26"
             ],
             [
              1,
              "#f0f921"
             ]
            ],
            "type": "contour"
           }
          ],
          "contourcarpet": [
           {
            "colorbar": {
             "outlinewidth": 0,
             "ticks": ""
            },
            "type": "contourcarpet"
           }
          ],
          "heatmap": [
           {
            "colorbar": {
             "outlinewidth": 0,
             "ticks": ""
            },
            "colorscale": [
             [
              0,
              "#0d0887"
             ],
             [
              0.1111111111111111,
              "#46039f"
             ],
             [
              0.2222222222222222,
              "#7201a8"
             ],
             [
              0.3333333333333333,
              "#9c179e"
             ],
             [
              0.4444444444444444,
              "#bd3786"
             ],
             [
              0.5555555555555556,
              "#d8576b"
             ],
             [
              0.6666666666666666,
              "#ed7953"
             ],
             [
              0.7777777777777778,
              "#fb9f3a"
             ],
             [
              0.8888888888888888,
              "#fdca26"
             ],
             [
              1,
              "#f0f921"
             ]
            ],
            "type": "heatmap"
           }
          ],
          "heatmapgl": [
           {
            "colorbar": {
             "outlinewidth": 0,
             "ticks": ""
            },
            "colorscale": [
             [
              0,
              "#0d0887"
             ],
             [
              0.1111111111111111,
              "#46039f"
             ],
             [
              0.2222222222222222,
              "#7201a8"
             ],
             [
              0.3333333333333333,
              "#9c179e"
             ],
             [
              0.4444444444444444,
              "#bd3786"
             ],
             [
              0.5555555555555556,
              "#d8576b"
             ],
             [
              0.6666666666666666,
              "#ed7953"
             ],
             [
              0.7777777777777778,
              "#fb9f3a"
             ],
             [
              0.8888888888888888,
              "#fdca26"
             ],
             [
              1,
              "#f0f921"
             ]
            ],
            "type": "heatmapgl"
           }
          ],
          "histogram": [
           {
            "marker": {
             "colorbar": {
              "outlinewidth": 0,
              "ticks": ""
             }
            },
            "type": "histogram"
           }
          ],
          "histogram2d": [
           {
            "colorbar": {
             "outlinewidth": 0,
             "ticks": ""
            },
            "colorscale": [
             [
              0,
              "#0d0887"
             ],
             [
              0.1111111111111111,
              "#46039f"
             ],
             [
              0.2222222222222222,
              "#7201a8"
             ],
             [
              0.3333333333333333,
              "#9c179e"
             ],
             [
              0.4444444444444444,
              "#bd3786"
             ],
             [
              0.5555555555555556,
              "#d8576b"
             ],
             [
              0.6666666666666666,
              "#ed7953"
             ],
             [
              0.7777777777777778,
              "#fb9f3a"
             ],
             [
              0.8888888888888888,
              "#fdca26"
             ],
             [
              1,
              "#f0f921"
             ]
            ],
            "type": "histogram2d"
           }
          ],
          "histogram2dcontour": [
           {
            "colorbar": {
             "outlinewidth": 0,
             "ticks": ""
            },
            "colorscale": [
             [
              0,
              "#0d0887"
             ],
             [
              0.1111111111111111,
              "#46039f"
             ],
             [
              0.2222222222222222,
              "#7201a8"
             ],
             [
              0.3333333333333333,
              "#9c179e"
             ],
             [
              0.4444444444444444,
              "#bd3786"
             ],
             [
              0.5555555555555556,
              "#d8576b"
             ],
             [
              0.6666666666666666,
              "#ed7953"
             ],
             [
              0.7777777777777778,
              "#fb9f3a"
             ],
             [
              0.8888888888888888,
              "#fdca26"
             ],
             [
              1,
              "#f0f921"
             ]
            ],
            "type": "histogram2dcontour"
           }
          ],
          "mesh3d": [
           {
            "colorbar": {
             "outlinewidth": 0,
             "ticks": ""
            },
            "type": "mesh3d"
           }
          ],
          "parcoords": [
           {
            "line": {
             "colorbar": {
              "outlinewidth": 0,
              "ticks": ""
             }
            },
            "type": "parcoords"
           }
          ],
          "pie": [
           {
            "automargin": true,
            "type": "pie"
           }
          ],
          "scatter": [
           {
            "marker": {
             "colorbar": {
              "outlinewidth": 0,
              "ticks": ""
             }
            },
            "type": "scatter"
           }
          ],
          "scatter3d": [
           {
            "line": {
             "colorbar": {
              "outlinewidth": 0,
              "ticks": ""
             }
            },
            "marker": {
             "colorbar": {
              "outlinewidth": 0,
              "ticks": ""
             }
            },
            "type": "scatter3d"
           }
          ],
          "scattercarpet": [
           {
            "marker": {
             "colorbar": {
              "outlinewidth": 0,
              "ticks": ""
             }
            },
            "type": "scattercarpet"
           }
          ],
          "scattergeo": [
           {
            "marker": {
             "colorbar": {
              "outlinewidth": 0,
              "ticks": ""
             }
            },
            "type": "scattergeo"
           }
          ],
          "scattergl": [
           {
            "marker": {
             "colorbar": {
              "outlinewidth": 0,
              "ticks": ""
             }
            },
            "type": "scattergl"
           }
          ],
          "scattermapbox": [
           {
            "marker": {
             "colorbar": {
              "outlinewidth": 0,
              "ticks": ""
             }
            },
            "type": "scattermapbox"
           }
          ],
          "scatterpolar": [
           {
            "marker": {
             "colorbar": {
              "outlinewidth": 0,
              "ticks": ""
             }
            },
            "type": "scatterpolar"
           }
          ],
          "scatterpolargl": [
           {
            "marker": {
             "colorbar": {
              "outlinewidth": 0,
              "ticks": ""
             }
            },
            "type": "scatterpolargl"
           }
          ],
          "scatterternary": [
           {
            "marker": {
             "colorbar": {
              "outlinewidth": 0,
              "ticks": ""
             }
            },
            "type": "scatterternary"
           }
          ],
          "surface": [
           {
            "colorbar": {
             "outlinewidth": 0,
             "ticks": ""
            },
            "colorscale": [
             [
              0,
              "#0d0887"
             ],
             [
              0.1111111111111111,
              "#46039f"
             ],
             [
              0.2222222222222222,
              "#7201a8"
             ],
             [
              0.3333333333333333,
              "#9c179e"
             ],
             [
              0.4444444444444444,
              "#bd3786"
             ],
             [
              0.5555555555555556,
              "#d8576b"
             ],
             [
              0.6666666666666666,
              "#ed7953"
             ],
             [
              0.7777777777777778,
              "#fb9f3a"
             ],
             [
              0.8888888888888888,
              "#fdca26"
             ],
             [
              1,
              "#f0f921"
             ]
            ],
            "type": "surface"
           }
          ],
          "table": [
           {
            "cells": {
             "fill": {
              "color": "#EBF0F8"
             },
             "line": {
              "color": "white"
             }
            },
            "header": {
             "fill": {
              "color": "#C8D4E3"
             },
             "line": {
              "color": "white"
             }
            },
            "type": "table"
           }
          ]
         },
         "layout": {
          "annotationdefaults": {
           "arrowcolor": "#2a3f5f",
           "arrowhead": 0,
           "arrowwidth": 1
          },
          "autotypenumbers": "strict",
          "coloraxis": {
           "colorbar": {
            "outlinewidth": 0,
            "ticks": ""
           }
          },
          "colorscale": {
           "diverging": [
            [
             0,
             "#8e0152"
            ],
            [
             0.1,
             "#c51b7d"
            ],
            [
             0.2,
             "#de77ae"
            ],
            [
             0.3,
             "#f1b6da"
            ],
            [
             0.4,
             "#fde0ef"
            ],
            [
             0.5,
             "#f7f7f7"
            ],
            [
             0.6,
             "#e6f5d0"
            ],
            [
             0.7,
             "#b8e186"
            ],
            [
             0.8,
             "#7fbc41"
            ],
            [
             0.9,
             "#4d9221"
            ],
            [
             1,
             "#276419"
            ]
           ],
           "sequential": [
            [
             0,
             "#0d0887"
            ],
            [
             0.1111111111111111,
             "#46039f"
            ],
            [
             0.2222222222222222,
             "#7201a8"
            ],
            [
             0.3333333333333333,
             "#9c179e"
            ],
            [
             0.4444444444444444,
             "#bd3786"
            ],
            [
             0.5555555555555556,
             "#d8576b"
            ],
            [
             0.6666666666666666,
             "#ed7953"
            ],
            [
             0.7777777777777778,
             "#fb9f3a"
            ],
            [
             0.8888888888888888,
             "#fdca26"
            ],
            [
             1,
             "#f0f921"
            ]
           ],
           "sequentialminus": [
            [
             0,
             "#0d0887"
            ],
            [
             0.1111111111111111,
             "#46039f"
            ],
            [
             0.2222222222222222,
             "#7201a8"
            ],
            [
             0.3333333333333333,
             "#9c179e"
            ],
            [
             0.4444444444444444,
             "#bd3786"
            ],
            [
             0.5555555555555556,
             "#d8576b"
            ],
            [
             0.6666666666666666,
             "#ed7953"
            ],
            [
             0.7777777777777778,
             "#fb9f3a"
            ],
            [
             0.8888888888888888,
             "#fdca26"
            ],
            [
             1,
             "#f0f921"
            ]
           ]
          },
          "colorway": [
           "#636efa",
           "#EF553B",
           "#00cc96",
           "#ab63fa",
           "#FFA15A",
           "#19d3f3",
           "#FF6692",
           "#B6E880",
           "#FF97FF",
           "#FECB52"
          ],
          "font": {
           "color": "#2a3f5f"
          },
          "geo": {
           "bgcolor": "white",
           "lakecolor": "white",
           "landcolor": "#E5ECF6",
           "showlakes": true,
           "showland": true,
           "subunitcolor": "white"
          },
          "hoverlabel": {
           "align": "left"
          },
          "hovermode": "closest",
          "mapbox": {
           "style": "light"
          },
          "paper_bgcolor": "white",
          "plot_bgcolor": "#E5ECF6",
          "polar": {
           "angularaxis": {
            "gridcolor": "white",
            "linecolor": "white",
            "ticks": ""
           },
           "bgcolor": "#E5ECF6",
           "radialaxis": {
            "gridcolor": "white",
            "linecolor": "white",
            "ticks": ""
           }
          },
          "scene": {
           "xaxis": {
            "backgroundcolor": "#E5ECF6",
            "gridcolor": "white",
            "gridwidth": 2,
            "linecolor": "white",
            "showbackground": true,
            "ticks": "",
            "zerolinecolor": "white"
           },
           "yaxis": {
            "backgroundcolor": "#E5ECF6",
            "gridcolor": "white",
            "gridwidth": 2,
            "linecolor": "white",
            "showbackground": true,
            "ticks": "",
            "zerolinecolor": "white"
           },
           "zaxis": {
            "backgroundcolor": "#E5ECF6",
            "gridcolor": "white",
            "gridwidth": 2,
            "linecolor": "white",
            "showbackground": true,
            "ticks": "",
            "zerolinecolor": "white"
           }
          },
          "shapedefaults": {
           "line": {
            "color": "#2a3f5f"
           }
          },
          "ternary": {
           "aaxis": {
            "gridcolor": "white",
            "linecolor": "white",
            "ticks": ""
           },
           "baxis": {
            "gridcolor": "white",
            "linecolor": "white",
            "ticks": ""
           },
           "bgcolor": "#E5ECF6",
           "caxis": {
            "gridcolor": "white",
            "linecolor": "white",
            "ticks": ""
           }
          },
          "title": {
           "x": 0.05
          },
          "xaxis": {
           "automargin": true,
           "gridcolor": "white",
           "linecolor": "white",
           "ticks": "",
           "title": {
            "standoff": 15
           },
           "zerolinecolor": "white",
           "zerolinewidth": 2
          },
          "yaxis": {
           "automargin": true,
           "gridcolor": "white",
           "linecolor": "white",
           "ticks": "",
           "title": {
            "standoff": 15
           },
           "zerolinecolor": "white",
           "zerolinewidth": 2
          }
         }
        },
        "title": {
         "text": "Mean of Weekly_Sales (C Stores)"
        }
       }
      },
      "text/html": [
       "<div>                            <div id=\"47bdaf7d-32e1-4c5b-be1a-8729c1a2ee9b\" class=\"plotly-graph-div\" style=\"height:525px; width:100%;\"></div>            <script type=\"text/javascript\">                require([\"plotly\"], function(Plotly) {                    window.PLOTLYENV=window.PLOTLYENV || {};                                    if (document.getElementById(\"47bdaf7d-32e1-4c5b-be1a-8729c1a2ee9b\")) {                    Plotly.newPlot(                        \"47bdaf7d-32e1-4c5b-be1a-8729c1a2ee9b\",                        [{\"line\": {\"color\": \"blue\"}, \"name\": \"q50\", \"opacity\": 0.4, \"type\": \"scatter\", \"x\": [\"2010-01-10T00:00:00\", \"2010-02-04T00:00:00\", \"2010-02-07T00:00:00\", \"2010-02-19T00:00:00\", \"2010-02-26T00:00:00\", \"2010-03-09T00:00:00\", \"2010-03-12T00:00:00\", \"2010-03-19T00:00:00\", \"2010-03-26T00:00:00\", \"2010-04-06T00:00:00\", \"2010-04-16T00:00:00\", \"2010-04-23T00:00:00\", \"2010-04-30T00:00:00\", \"2010-05-02T00:00:00\", \"2010-05-03T00:00:00\", \"2010-05-11T00:00:00\", \"2010-05-14T00:00:00\", \"2010-05-21T00:00:00\", \"2010-05-28T00:00:00\", \"2010-06-08T00:00:00\", \"2010-06-18T00:00:00\", \"2010-06-25T00:00:00\", \"2010-07-05T00:00:00\", \"2010-07-16T00:00:00\", \"2010-07-23T00:00:00\", \"2010-07-30T00:00:00\", \"2010-08-10T00:00:00\", \"2010-08-13T00:00:00\", \"2010-08-20T00:00:00\", \"2010-08-27T00:00:00\", \"2010-09-04T00:00:00\", \"2010-09-07T00:00:00\", \"2010-09-17T00:00:00\", \"2010-09-24T00:00:00\", \"2010-10-09T00:00:00\", \"2010-10-12T00:00:00\", \"2010-10-15T00:00:00\", \"2010-10-22T00:00:00\", \"2010-10-29T00:00:00\", \"2010-11-06T00:00:00\", \"2010-11-19T00:00:00\", \"2010-11-26T00:00:00\", \"2010-12-02T00:00:00\", \"2010-12-03T00:00:00\", \"2010-12-11T00:00:00\", \"2010-12-17T00:00:00\", \"2010-12-24T00:00:00\", \"2010-12-31T00:00:00\", \"2011-01-04T00:00:00\", \"2011-01-07T00:00:00\", \"2011-01-14T00:00:00\", \"2011-01-21T00:00:00\", \"2011-01-28T00:00:00\", \"2011-02-09T00:00:00\", \"2011-02-12T00:00:00\", \"2011-02-18T00:00:00\", \"2011-02-25T00:00:00\", \"2011-03-06T00:00:00\", \"2011-03-18T00:00:00\", \"2011-03-25T00:00:00\", \"2011-04-02T00:00:00\", \"2011-04-03T00:00:00\", \"2011-04-11T00:00:00\", \"2011-04-15T00:00:00\", \"2011-04-22T00:00:00\", \"2011-04-29T00:00:00\", \"2011-05-08T00:00:00\", \"2011-05-13T00:00:00\", \"2011-05-20T00:00:00\", \"2011-05-27T00:00:00\", \"2011-06-05T00:00:00\", \"2011-06-17T00:00:00\", \"2011-06-24T00:00:00\", \"2011-07-01T00:00:00\", \"2011-07-10T00:00:00\", \"2011-07-15T00:00:00\", \"2011-07-22T00:00:00\", \"2011-07-29T00:00:00\", \"2011-08-04T00:00:00\", \"2011-08-07T00:00:00\", \"2011-08-19T00:00:00\", \"2011-08-26T00:00:00\", \"2011-09-09T00:00:00\", \"2011-09-12T00:00:00\", \"2011-09-16T00:00:00\", \"2011-09-23T00:00:00\", \"2011-09-30T00:00:00\", \"2011-10-06T00:00:00\", \"2011-10-14T00:00:00\", \"2011-10-21T00:00:00\", \"2011-10-28T00:00:00\", \"2011-11-02T00:00:00\", \"2011-11-03T00:00:00\", \"2011-11-11T00:00:00\", \"2011-11-18T00:00:00\", \"2011-11-25T00:00:00\", \"2011-12-08T00:00:00\", \"2011-12-16T00:00:00\", \"2011-12-23T00:00:00\", \"2011-12-30T00:00:00\", \"2012-01-06T00:00:00\", \"2012-01-13T00:00:00\", \"2012-01-20T00:00:00\", \"2012-01-27T00:00:00\", \"2012-02-03T00:00:00\", \"2012-02-17T00:00:00\", \"2012-02-24T00:00:00\", \"2012-03-02T00:00:00\", \"2012-03-08T00:00:00\", \"2012-03-16T00:00:00\", \"2012-03-23T00:00:00\", \"2012-03-30T00:00:00\", \"2012-04-05T00:00:00\", \"2012-04-13T00:00:00\", \"2012-04-20T00:00:00\", \"2012-04-27T00:00:00\", \"2012-05-10T00:00:00\", \"2012-05-18T00:00:00\", \"2012-05-25T00:00:00\", \"2012-06-01T00:00:00\", \"2012-06-04T00:00:00\", \"2012-06-07T00:00:00\", \"2012-06-15T00:00:00\", \"2012-06-22T00:00:00\", \"2012-06-29T00:00:00\", \"2012-07-09T00:00:00\", \"2012-07-13T00:00:00\", \"2012-07-20T00:00:00\", \"2012-07-27T00:00:00\", \"2012-08-06T00:00:00\", \"2012-08-17T00:00:00\", \"2012-08-24T00:00:00\", \"2012-08-31T00:00:00\", \"2012-09-03T00:00:00\", \"2012-09-14T00:00:00\", \"2012-09-21T00:00:00\", \"2012-09-28T00:00:00\", \"2012-10-02T00:00:00\", \"2012-10-08T00:00:00\", \"2012-10-19T00:00:00\", \"2012-10-26T00:00:00\", \"2012-11-05T00:00:00\", \"2012-12-10T00:00:00\"], \"y\": [1027.0, 1610.415, 1537.13, 1443.28, 1228.475, 1237.67, 1247.075, 1099.2, 1284.93, 1632.62, 1162.48, 1355.31, 1500.5, 1170.15, 1310.06, 1174.02, 1848.78, 1448.385, 1396.97, 1318.2, 1279.68, 1452.37, 1599.55, 1261.25, 1340.4499999999998, 1127.05, 1169.46, 1201.68, 1253.26, 1316.88, 1416.3, 1716.13, 1122.38, 1150.87, 1296.425, 1390.87, 1205.795, 1111.02, 1235.59, 1367.52, 1389.35, 1956.22, 1822.8899999999999, 1093.53, 1447.65, 1550.685, 2203.64, 1215.13, 1114.525, 961.55, 1160.1599999999999, 1346.95, 1208.065, 1081.08, 986.9, 1388.125, 1094.78, 1336.31, 1040.875, 1133.1750000000002, 1552.62, 1151.795, 1016.95, 957.97, 1113.65, 1054.82, 1038.275, 1097.67, 1163.6, 1179.1100000000001, 1299.38, 1156.6100000000001, 1200.095, 1268.16, 1077.335, 1018.4449999999999, 1030.255, 990.7249999999999, 989.26, 1087.81, 1049.87, 1056.62, 1023.8599999999999, 1148.745, 948.105, 963.635, 989.4449999999999, 1326.76, 1056.365, 1099.5, 907.5550000000001, 1506.505, 1097.605, 989.0350000000001, 1001.85, 1082.5500000000002, 1094.66, 1298.66, 1525.52, 1048.185, 1108.0300000000002, 826.4449999999999, 1078.6350000000002, 1061.69, 907.075, 1373.4, 1001.62, 1057.37, 939.19, 1086.31, 952.64, 1002.13, 1153.55, 1225.4, 1000.62, 1054.58, 929.03, 1173.955, 1224.08, 1100.06, 1234.37, 1169.6, 1132.33, 967.875, 1024.01, 1086.06, 958.48, 978.3, 1057.35, 1120.44, 1089.96, 1066.64, 1049.065, 1039.12, 906.41, 982.2, 942.97, 1065.98, 1021.04, 921.995, 959.995, 1166.315, 915.49]}],                        {\"template\": {\"data\": {\"bar\": [{\"error_x\": {\"color\": \"#2a3f5f\"}, \"error_y\": {\"color\": \"#2a3f5f\"}, \"marker\": {\"line\": {\"color\": \"#E5ECF6\", \"width\": 0.5}}, \"type\": \"bar\"}], \"barpolar\": [{\"marker\": {\"line\": {\"color\": \"#E5ECF6\", \"width\": 0.5}}, \"type\": \"barpolar\"}], \"carpet\": [{\"aaxis\": {\"endlinecolor\": \"#2a3f5f\", \"gridcolor\": \"white\", \"linecolor\": \"white\", \"minorgridcolor\": \"white\", \"startlinecolor\": \"#2a3f5f\"}, \"baxis\": {\"endlinecolor\": \"#2a3f5f\", \"gridcolor\": \"white\", \"linecolor\": \"white\", \"minorgridcolor\": \"white\", \"startlinecolor\": \"#2a3f5f\"}, \"type\": \"carpet\"}], \"choropleth\": [{\"colorbar\": {\"outlinewidth\": 0, \"ticks\": \"\"}, \"type\": \"choropleth\"}], \"contour\": [{\"colorbar\": {\"outlinewidth\": 0, \"ticks\": \"\"}, \"colorscale\": [[0.0, \"#0d0887\"], [0.1111111111111111, \"#46039f\"], [0.2222222222222222, \"#7201a8\"], [0.3333333333333333, \"#9c179e\"], [0.4444444444444444, \"#bd3786\"], [0.5555555555555556, \"#d8576b\"], [0.6666666666666666, \"#ed7953\"], [0.7777777777777778, \"#fb9f3a\"], [0.8888888888888888, \"#fdca26\"], [1.0, \"#f0f921\"]], \"type\": \"contour\"}], \"contourcarpet\": [{\"colorbar\": {\"outlinewidth\": 0, \"ticks\": \"\"}, \"type\": \"contourcarpet\"}], \"heatmap\": [{\"colorbar\": {\"outlinewidth\": 0, \"ticks\": \"\"}, \"colorscale\": [[0.0, \"#0d0887\"], [0.1111111111111111, \"#46039f\"], [0.2222222222222222, \"#7201a8\"], [0.3333333333333333, \"#9c179e\"], [0.4444444444444444, \"#bd3786\"], [0.5555555555555556, \"#d8576b\"], [0.6666666666666666, \"#ed7953\"], [0.7777777777777778, \"#fb9f3a\"], [0.8888888888888888, \"#fdca26\"], [1.0, \"#f0f921\"]], \"type\": \"heatmap\"}], \"heatmapgl\": [{\"colorbar\": {\"outlinewidth\": 0, \"ticks\": \"\"}, \"colorscale\": [[0.0, \"#0d0887\"], [0.1111111111111111, \"#46039f\"], [0.2222222222222222, \"#7201a8\"], [0.3333333333333333, \"#9c179e\"], [0.4444444444444444, \"#bd3786\"], [0.5555555555555556, \"#d8576b\"], [0.6666666666666666, \"#ed7953\"], [0.7777777777777778, \"#fb9f3a\"], [0.8888888888888888, \"#fdca26\"], [1.0, \"#f0f921\"]], \"type\": \"heatmapgl\"}], \"histogram\": [{\"marker\": {\"colorbar\": {\"outlinewidth\": 0, \"ticks\": \"\"}}, \"type\": \"histogram\"}], \"histogram2d\": [{\"colorbar\": {\"outlinewidth\": 0, \"ticks\": \"\"}, \"colorscale\": [[0.0, \"#0d0887\"], [0.1111111111111111, \"#46039f\"], [0.2222222222222222, \"#7201a8\"], [0.3333333333333333, \"#9c179e\"], [0.4444444444444444, \"#bd3786\"], [0.5555555555555556, \"#d8576b\"], [0.6666666666666666, \"#ed7953\"], [0.7777777777777778, \"#fb9f3a\"], [0.8888888888888888, \"#fdca26\"], [1.0, \"#f0f921\"]], \"type\": \"histogram2d\"}], \"histogram2dcontour\": [{\"colorbar\": {\"outlinewidth\": 0, \"ticks\": \"\"}, \"colorscale\": [[0.0, \"#0d0887\"], [0.1111111111111111, \"#46039f\"], [0.2222222222222222, \"#7201a8\"], [0.3333333333333333, \"#9c179e\"], [0.4444444444444444, \"#bd3786\"], [0.5555555555555556, \"#d8576b\"], [0.6666666666666666, \"#ed7953\"], [0.7777777777777778, \"#fb9f3a\"], [0.8888888888888888, \"#fdca26\"], [1.0, \"#f0f921\"]], \"type\": \"histogram2dcontour\"}], \"mesh3d\": [{\"colorbar\": {\"outlinewidth\": 0, \"ticks\": \"\"}, \"type\": \"mesh3d\"}], \"parcoords\": [{\"line\": {\"colorbar\": {\"outlinewidth\": 0, \"ticks\": \"\"}}, \"type\": \"parcoords\"}], \"pie\": [{\"automargin\": true, \"type\": \"pie\"}], \"scatter\": [{\"marker\": {\"colorbar\": {\"outlinewidth\": 0, \"ticks\": \"\"}}, \"type\": \"scatter\"}], \"scatter3d\": [{\"line\": {\"colorbar\": {\"outlinewidth\": 0, \"ticks\": \"\"}}, \"marker\": {\"colorbar\": {\"outlinewidth\": 0, \"ticks\": \"\"}}, \"type\": \"scatter3d\"}], \"scattercarpet\": [{\"marker\": {\"colorbar\": {\"outlinewidth\": 0, \"ticks\": \"\"}}, \"type\": \"scattercarpet\"}], \"scattergeo\": [{\"marker\": {\"colorbar\": {\"outlinewidth\": 0, \"ticks\": \"\"}}, \"type\": \"scattergeo\"}], \"scattergl\": [{\"marker\": {\"colorbar\": {\"outlinewidth\": 0, \"ticks\": \"\"}}, \"type\": \"scattergl\"}], \"scattermapbox\": [{\"marker\": {\"colorbar\": {\"outlinewidth\": 0, \"ticks\": \"\"}}, \"type\": \"scattermapbox\"}], \"scatterpolar\": [{\"marker\": {\"colorbar\": {\"outlinewidth\": 0, \"ticks\": \"\"}}, \"type\": \"scatterpolar\"}], \"scatterpolargl\": [{\"marker\": {\"colorbar\": {\"outlinewidth\": 0, \"ticks\": \"\"}}, \"type\": \"scatterpolargl\"}], \"scatterternary\": [{\"marker\": {\"colorbar\": {\"outlinewidth\": 0, \"ticks\": \"\"}}, \"type\": \"scatterternary\"}], \"surface\": [{\"colorbar\": {\"outlinewidth\": 0, \"ticks\": \"\"}, \"colorscale\": [[0.0, \"#0d0887\"], [0.1111111111111111, \"#46039f\"], [0.2222222222222222, \"#7201a8\"], [0.3333333333333333, \"#9c179e\"], [0.4444444444444444, \"#bd3786\"], [0.5555555555555556, \"#d8576b\"], [0.6666666666666666, \"#ed7953\"], [0.7777777777777778, \"#fb9f3a\"], [0.8888888888888888, \"#fdca26\"], [1.0, \"#f0f921\"]], \"type\": \"surface\"}], \"table\": [{\"cells\": {\"fill\": {\"color\": \"#EBF0F8\"}, \"line\": {\"color\": \"white\"}}, \"header\": {\"fill\": {\"color\": \"#C8D4E3\"}, \"line\": {\"color\": \"white\"}}, \"type\": \"table\"}]}, \"layout\": {\"annotationdefaults\": {\"arrowcolor\": \"#2a3f5f\", \"arrowhead\": 0, \"arrowwidth\": 1}, \"autotypenumbers\": \"strict\", \"coloraxis\": {\"colorbar\": {\"outlinewidth\": 0, \"ticks\": \"\"}}, \"colorscale\": {\"diverging\": [[0, \"#8e0152\"], [0.1, \"#c51b7d\"], [0.2, \"#de77ae\"], [0.3, \"#f1b6da\"], [0.4, \"#fde0ef\"], [0.5, \"#f7f7f7\"], [0.6, \"#e6f5d0\"], [0.7, \"#b8e186\"], [0.8, \"#7fbc41\"], [0.9, \"#4d9221\"], [1, \"#276419\"]], \"sequential\": [[0.0, \"#0d0887\"], [0.1111111111111111, \"#46039f\"], [0.2222222222222222, \"#7201a8\"], [0.3333333333333333, \"#9c179e\"], [0.4444444444444444, \"#bd3786\"], [0.5555555555555556, \"#d8576b\"], [0.6666666666666666, \"#ed7953\"], [0.7777777777777778, \"#fb9f3a\"], [0.8888888888888888, \"#fdca26\"], [1.0, \"#f0f921\"]], \"sequentialminus\": [[0.0, \"#0d0887\"], [0.1111111111111111, \"#46039f\"], [0.2222222222222222, \"#7201a8\"], [0.3333333333333333, \"#9c179e\"], [0.4444444444444444, \"#bd3786\"], [0.5555555555555556, \"#d8576b\"], [0.6666666666666666, \"#ed7953\"], [0.7777777777777778, \"#fb9f3a\"], [0.8888888888888888, \"#fdca26\"], [1.0, \"#f0f921\"]]}, \"colorway\": [\"#636efa\", \"#EF553B\", \"#00cc96\", \"#ab63fa\", \"#FFA15A\", \"#19d3f3\", \"#FF6692\", \"#B6E880\", \"#FF97FF\", \"#FECB52\"], \"font\": {\"color\": \"#2a3f5f\"}, \"geo\": {\"bgcolor\": \"white\", \"lakecolor\": \"white\", \"landcolor\": \"#E5ECF6\", \"showlakes\": true, \"showland\": true, \"subunitcolor\": \"white\"}, \"hoverlabel\": {\"align\": \"left\"}, \"hovermode\": \"closest\", \"mapbox\": {\"style\": \"light\"}, \"paper_bgcolor\": \"white\", \"plot_bgcolor\": \"#E5ECF6\", \"polar\": {\"angularaxis\": {\"gridcolor\": \"white\", \"linecolor\": \"white\", \"ticks\": \"\"}, \"bgcolor\": \"#E5ECF6\", \"radialaxis\": {\"gridcolor\": \"white\", \"linecolor\": \"white\", \"ticks\": \"\"}}, \"scene\": {\"xaxis\": {\"backgroundcolor\": \"#E5ECF6\", \"gridcolor\": \"white\", \"gridwidth\": 2, \"linecolor\": \"white\", \"showbackground\": true, \"ticks\": \"\", \"zerolinecolor\": \"white\"}, \"yaxis\": {\"backgroundcolor\": \"#E5ECF6\", \"gridcolor\": \"white\", \"gridwidth\": 2, \"linecolor\": \"white\", \"showbackground\": true, \"ticks\": \"\", \"zerolinecolor\": \"white\"}, \"zaxis\": {\"backgroundcolor\": \"#E5ECF6\", \"gridcolor\": \"white\", \"gridwidth\": 2, \"linecolor\": \"white\", \"showbackground\": true, \"ticks\": \"\", \"zerolinecolor\": \"white\"}}, \"shapedefaults\": {\"line\": {\"color\": \"#2a3f5f\"}}, \"ternary\": {\"aaxis\": {\"gridcolor\": \"white\", \"linecolor\": \"white\", \"ticks\": \"\"}, \"baxis\": {\"gridcolor\": \"white\", \"linecolor\": \"white\", \"ticks\": \"\"}, \"bgcolor\": \"#E5ECF6\", \"caxis\": {\"gridcolor\": \"white\", \"linecolor\": \"white\", \"ticks\": \"\"}}, \"title\": {\"x\": 0.05}, \"xaxis\": {\"automargin\": true, \"gridcolor\": \"white\", \"linecolor\": \"white\", \"ticks\": \"\", \"title\": {\"standoff\": 15}, \"zerolinecolor\": \"white\", \"zerolinewidth\": 2}, \"yaxis\": {\"automargin\": true, \"gridcolor\": \"white\", \"linecolor\": \"white\", \"ticks\": \"\", \"title\": {\"standoff\": 15}, \"zerolinecolor\": \"white\", \"zerolinewidth\": 2}}}, \"title\": {\"text\": \"Mean of Weekly_Sales (C Stores)\"}},                        {\"responsive\": true}                    ).then(function(){\n",
       "                            \n",
       "var gd = document.getElementById('47bdaf7d-32e1-4c5b-be1a-8729c1a2ee9b');\n",
       "var x = new MutationObserver(function (mutations, observer) {{\n",
       "        var display = window.getComputedStyle(gd).display;\n",
       "        if (!display || display === 'none') {{\n",
       "            console.log([gd, 'removed!']);\n",
       "            Plotly.purge(gd);\n",
       "            observer.disconnect();\n",
       "        }}\n",
       "}});\n",
       "\n",
       "// Listen for the removal of the full notebook cells\n",
       "var notebookContainer = gd.closest('#notebook-container');\n",
       "if (notebookContainer) {{\n",
       "    x.observe(notebookContainer, {childList: true});\n",
       "}}\n",
       "\n",
       "// Listen for the clearing of the current output cell\n",
       "var outputEl = gd.closest('.output');\n",
       "if (outputEl) {{\n",
       "    x.observe(outputEl, {childList: true});\n",
       "}}\n",
       "\n",
       "                        })                };                });            </script>        </div>"
      ]
     },
     "metadata": {},
     "output_type": "display_data"
    }
   ],
   "source": [
    "plot_min_max_avg (sales_stores_bytype['C'], 'Weekly_Sales', 'Date', ' (C Stores)', 'mean')"
   ]
  },
  {
   "cell_type": "markdown",
   "metadata": {},
   "source": [
    "The mean values of all three store types are different, so it should be possible to differentiate between them. However, as the histogram in Section 2.3 showed, these values have an exponential rather than a normal shape, so they should be transformed. We will apply a logarithmic transformation that attempts to prevent getting log(0)."
   ]
  },
  {
   "cell_type": "code",
   "execution_count": null,
   "metadata": {},
   "outputs": [],
   "source": [
    "# Choose a field\n",
    "sales_stores_transformed = sales_stores.copy()\n",
    "# Apply a log transformation (numpy syntax) to this column\n",
    "sales_stores_transformed['Weekly_Sales'] = sales_stores_transformed['Weekly_Sales'].apply(np.log1p)\n",
    "\n",
    "sales_stores_bytype_transformed = dict()\n",
    "for l in letters:\n",
    "    t = sales_stores_transformed[sales_stores_transformed['Type'] == l]\n",
    "    t_agg = calc_min_max_avg(t, 'Weekly_Sales', 'Date', ['Store', 'Dept', 'Size', 'IsHoliday'])\n",
    "    sales_stores_bytype_transformed[l]= t_agg\n",
    "    display(sales_stores_bytype_transformed[l]) # We still get invalid values"
   ]
  },
  {
   "cell_type": "code",
   "execution_count": null,
   "metadata": {},
   "outputs": [],
   "source": [
    "for l in letters:\n",
    "    sales_stores_bytype_transformed[l].replace([np.inf, -np.inf], np.nan, inplace=True)\n",
    "    sales_stores_bytype_transformed[l] = sales_stores_bytype_transformed[l].dropna(subset=['Weekly_Sales_Min'])"
   ]
  },
  {
   "cell_type": "code",
   "execution_count": null,
   "metadata": {},
   "outputs": [],
   "source": [
    "plot_min_max_avg (sales_stores_bytype_transformed['A'], 'Weekly_Sales', 'Date', ' (A Stores) ')"
   ]
  },
  {
   "cell_type": "code",
   "execution_count": null,
   "metadata": {},
   "outputs": [],
   "source": [
    "plot_min_max_avg (sales_stores_bytype_transformed['B'], 'Weekly_Sales', 'Date', ' (B Stores) ')"
   ]
  },
  {
   "cell_type": "code",
   "execution_count": null,
   "metadata": {},
   "outputs": [],
   "source": [
    "plot_min_max_avg (sales_stores_bytype_transformed['C'], 'Weekly_Sales', 'Date', ' (C Stores) ')"
   ]
  },
  {
   "cell_type": "markdown",
   "metadata": {},
   "source": [
    "Now that we have applied a logarithmic transformation and removed invalid values, the differences between store types are more visible. With histograms, the differences will be more visible."
   ]
  },
  {
   "cell_type": "code",
   "execution_count": null,
   "metadata": {},
   "outputs": [],
   "source": [
    "sns.set(style='darkgrid')\n",
    "\n",
    "fig, ax1 = plt.subplots(ncols=1, sharey=False, figsize=(14,5))\n",
    "weekly_series = pd.DataFrame(sales_stores_bytype_transformed['A']['Weekly_Sales_q50'])\n",
    "g= sns.histplot(weekly_series, x='Weekly_Sales_q50', bins=50, ax=ax1).set(title='Sales by Week, A stores (histogram)')\n",
    "\n",
    "fig, ax2 = plt.subplots(ncols=1, sharey=False, figsize=(14,5))\n",
    "weekly_series = pd.DataFrame(sales_stores_bytype_transformed['B']['Weekly_Sales_q50'])\n",
    "g= sns.histplot(weekly_series, x='Weekly_Sales_q50', bins=50, ax=ax2).set(title='Sales by Week, B stores (histogram)')\n",
    "\n",
    "fig, ax3 = plt.subplots(ncols=1, sharey=False, figsize=(14,5))\n",
    "weekly_series = pd.DataFrame(sales_stores_bytype_transformed['C']['Weekly_Sales_q50'])\n",
    "g= sns.histplot(weekly_series, x='Weekly_Sales_q50', bins=50, ax=ax3).set(title='Sales by Week, C stores (histogram)')\n"
   ]
  },
  {
   "cell_type": "markdown",
   "metadata": {},
   "source": [
    "## 6. Formal statistical test for our hypothesis\n",
    "\n",
    "We'll see if the store types are actually different populations.\n",
    "- Null Hypothesis. No significant difference in the means of the different store types.\n",
    "- Alternate Hypothesis. The classes are different."
   ]
  },
  {
   "cell_type": "code",
   "execution_count": null,
   "metadata": {},
   "outputs": [],
   "source": [
    "from statsmodels.stats import weightstats as stests\n",
    "\n",
    "n=10\n",
    "a = pd.DataFrame(sales_stores_bytype_transformed['A']['Weekly_Sales_q50']).sample(n=n, random_state=1)\n",
    "b = pd.DataFrame(sales_stores_bytype_transformed['B']['Weekly_Sales_q50']).sample(n=n, random_state=1)\n",
    "c = pd.DataFrame(sales_stores_bytype_transformed['C']['Weekly_Sales_q50']).sample(n=n, random_state=1)\n",
    "\n",
    "print('\\nSample of weekly means in A:', len(a))\n",
    "print(a.values.tolist())\n",
    "print('\\nSample of weekly means in B:', len(b))\n",
    "print(b.values.tolist())\n",
    "print('\\nSample of weekly means in C:', len(c))\n",
    "print(c.values.tolist())\n",
    "\n",
    "ttest,pval = stats.ttest_rel(a, b)\n",
    "print('\\npval for A and B:',pval)\n",
    "if pval < 0.05: print('Null hypothesis rejected')\n",
    "else: print('Null hypothesis accepted')\n",
    "    \n",
    "ttest,pval = stats.ttest_rel(a, c)\n",
    "print('\\npval for A and B:',pval)\n",
    "if pval < 0.05: print('Null hypothesis rejected')\n",
    "else: print('Null hypothesis accepted')\n",
    "    \n",
    "ttest,pval = stats.ttest_rel(b, c)\n",
    "print('\\npval for A and B:',pval)\n",
    "if pval < 0.05: print('Null hypothesis rejected')\n",
    "else: print('Null hypothesis accepted')"
   ]
  },
  {
   "cell_type": "markdown",
   "metadata": {},
   "source": [
    "We can now be sure that all three classes of stores are not the same population when compared by their mean weekly sales. "
   ]
  },
  {
   "cell_type": "markdown",
   "metadata": {},
   "source": [
    "## 7. Suggestions for next steps in analyzing this data\n",
    "\n",
    "Other analyses that could be performed with the same dataset:\n",
    "\n",
    "1. Finding which stores have negative sales and if this is a persistent phenomenon. If a store is unprofitable, it might need to be restructured, shrunk down, or even closed.\n",
    "\n",
    "2. Seeing if the stores with the largest sales are the ones with most departments, i.e., if all stores in the same type (A, B or C) have the same internal structure.\n",
    "\n",
    "3. Defining other classes by size. Possibly the A-B-C classification is not sufficient to explain the behavior of our stores."
   ]
  },
  {
   "cell_type": "markdown",
   "metadata": {},
   "source": [
    "## 8. Quality of the dataset\n",
    "\n",
    "The dataset has in general a good quality, but the markdowns are not explained, and the cause of some weeks having negative sales is also unknown. \n",
    "\n",
    "To conduct more useful business decisions we would need the following:\n",
    "\n",
    "1. A more detailed dataset, divided by day, weekday, and hour which would allow to make staffing and pricing decisions. For example, at the times when sales are higher we would need more employees.\n",
    "\n",
    "2. Data divided by department. This might allow to make decisions of which departments need more sales promotions or discounts when business is slow.\n",
    "\n",
    "3. More accurate categorization of holidays. It is also possible that stores in different cities or even countries have different holidays throughout the year."
   ]
  }
 ],
 "metadata": {
  "kernelspec": {
   "display_name": "Python 3",
   "language": "python",
   "name": "python3"
  },
  "language_info": {
   "codemirror_mode": {
    "name": "ipython",
    "version": 3
   },
   "file_extension": ".py",
   "mimetype": "text/x-python",
   "name": "python",
   "nbconvert_exporter": "python",
   "pygments_lexer": "ipython3",
   "version": "3.8.5"
  }
 },
 "nbformat": 4,
 "nbformat_minor": 4
}
